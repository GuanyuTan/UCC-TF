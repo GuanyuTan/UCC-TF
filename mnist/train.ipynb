{
 "cells": [
  {
   "cell_type": "code",
   "execution_count": 70,
   "metadata": {},
   "outputs": [],
   "source": [
    "import hydra\n",
    "from tqdm import tqdm\n",
    "from omegaconf import DictConfig, OmegaConf\n",
    "import tensorflow as tf\n",
    "from dataset import Dataset\n",
    "from model import UCCModel\n",
    "from logging import getLogger\n",
    "import os\n",
    "import sys\n",
    "from train import grad, eval\n",
    "import re"
   ]
  },
  {
   "cell_type": "code",
   "execution_count": 71,
   "metadata": {},
   "outputs": [
    {
     "name": "stdout",
     "output_type": "stream",
     "text": [
      "x_train shape: (50000, 28, 28, 1)\n",
      "50000 train samples\n",
      "10000 val samples\n",
      "digit0:0, num_train:4936, num_val:987\n",
      "digit1:1, num_train:5619, num_val:1123\n",
      "digit2:2, num_train:4965, num_val:993\n",
      "digit3:3, num_train:5110, num_val:1021\n",
      "digit4:4, num_train:4869, num_val:973\n",
      "digit5:5, num_train:4514, num_val:907\n",
      "digit6:6, num_train:4932, num_val:986\n",
      "digit7:7, num_train:5221, num_val:1044\n",
      "digit8:8, num_train:4876, num_val:975\n",
      "digit9:9, num_train:4958, num_val:991\n"
     ]
    }
   ],
   "source": [
    "output_path = \"outputs/2024-03-28/10-18-51/\"\n",
    "model_name = \"model_weights.h5\"\n",
    "cfg = OmegaConf.load(os.path.join(output_path, \".hydra\\\\config.yaml\"))\n",
    "args = cfg.args\n",
    "dataset = Dataset(\n",
    "        num_instances=args.num_instances,\n",
    "        num_samples_per_class=args.num_samples_per_class,\n",
    "        digit_arr= [x for x in range(10)],\n",
    "        ucc_start=args.ucc_start,\n",
    "        ucc_end=args.ucc_end\n",
    "        )\n",
    "optimizer = tf.keras.optimizers.Adam(learning_rate=args.learning_rate)\n",
    "model = UCCModel(cfg)\n",
    "model.build(input_shape=())\n",
    "model.load_weights(filepath=os.path.join(output_path, model_name))"
   ]
  },
  {
   "cell_type": "code",
   "execution_count": 75,
   "metadata": {},
   "outputs": [],
   "source": [
    "def train(model, optimizer, dataset, args, save_path):\n",
    "    train_summary_writer = tf.summary.create_file_writer(os.path.join(save_path, \"train_logs\"))\n",
    "    val_summary_writer = tf.summary.create_file_writer(os.path.join(save_path, \"val_logs\"))\n",
    "    with open(os.path.join(output_path, \"train.log\")) as file:\n",
    "        last_line = file.readlines()[-1]\n",
    "    a = re.search(r\"Step.*,\", last_line)\n",
    "    current_step = int(last_line[a.start()+5: a.end()-1])\n",
    "    logger = getLogger()\n",
    "    num_steps = args.train_num_steps\n",
    "    physical_devices = tf.config.list_physical_devices('GPU')\n",
    "    best_eval_acc = 0\n",
    "    if physical_devices:\n",
    "        with tf.device('/device:GPU:0'):\n",
    "            for i in tqdm(range(current_step, 80000)):\n",
    "\n",
    "                _, [labels, inputs] = dataset.next_batch_train()\n",
    "                loss_dict, grads = grad(model, inputs, labels)\n",
    "                with train_summary_writer.as_default():\n",
    "                    for key in loss_dict.keys():      \n",
    "                        tf.summary.scalar(key, loss_dict[key], step=i)\n",
    "                    train_summary_writer.flush()\n",
    "                    \n",
    "                optimizer.apply_gradients(zip(grads, model.trainable_variables))\n",
    "                if i%10 == 0:\n",
    "                    eval_loss_dict = eval(model, dataset)\n",
    "                    with val_summary_writer.as_default():\n",
    "                        for key in eval_loss_dict.keys():      \n",
    "                            tf.summary.scalar(key, loss_dict[key], step=i)\n",
    "                        val_summary_writer.flush()\n",
    "                    text = (f\"Step {i+1}, training: ucc_acc={loss_dict['ucc_acc']} weighted_loss={loss_dict['weighted_loss']} ucc_loss={loss_dict['ucc_loss']} ae_loss={loss_dict['ae_loss']} eval: ucc_acc={eval_loss_dict['ucc_acc']} weighted_loss={eval_loss_dict['weighted_loss']} ucc_loss={eval_loss_dict['ucc_loss']} ae_loss={eval_loss_dict['ae_loss']}\")\n",
    "                    print(text)\n",
    "                    with open(os.path.join(output_path, \"train.log\"), \"a\") as file:\n",
    "                        file.write(text+\"\\n\")\n",
    "                    acc = eval_loss_dict['ucc_acc']\n",
    "                    if acc>= best_eval_acc:\n",
    "                        best_eval_acc = acc\n",
    "                        model.save_weights(os.path.join(save_path,\"model_weights.h5\"), save_format=\"h5\")"
   ]
  },
  {
   "cell_type": "code",
   "execution_count": 76,
   "metadata": {},
   "outputs": [
    {
     "name": "stderr",
     "output_type": "stream",
     "text": [
      "  0%|          | 0/20009 [00:00<?, ?it/s]"
     ]
    },
    {
     "name": "stderr",
     "output_type": "stream",
     "text": [
      "  0%|          | 10/20009 [00:03<2:02:55,  2.71it/s]"
     ]
    },
    {
     "name": "stdout",
     "output_type": "stream",
     "text": [
      "Step 60001, training: ucc_acc=1.0 weighted_loss=0.041770149022340775 ucc_loss=0.041770149022340775 ae_loss=0 eval: ucc_acc=1.0 weighted_loss=0.020018266513943672 ucc_loss=0.020018266513943672 ae_loss=0\n"
     ]
    },
    {
     "name": "stderr",
     "output_type": "stream",
     "text": [
      "  0%|          | 20/20009 [00:06<2:00:39,  2.76it/s]"
     ]
    },
    {
     "name": "stdout",
     "output_type": "stream",
     "text": [
      "Step 60011, training: ucc_acc=1.0 weighted_loss=0.000492640130687505 ucc_loss=0.000492640130687505 ae_loss=0 eval: ucc_acc=1.0 weighted_loss=0.0007181764813140035 ucc_loss=0.0007181764813140035 ae_loss=0\n"
     ]
    },
    {
     "name": "stderr",
     "output_type": "stream",
     "text": [
      "  0%|          | 30/20009 [00:10<2:00:55,  2.75it/s]"
     ]
    },
    {
     "name": "stdout",
     "output_type": "stream",
     "text": [
      "Step 60021, training: ucc_acc=1.0 weighted_loss=0.006327860523015261 ucc_loss=0.006327860523015261 ae_loss=0 eval: ucc_acc=1.0 weighted_loss=0.008943798951804638 ucc_loss=0.008943798951804638 ae_loss=0\n"
     ]
    },
    {
     "name": "stderr",
     "output_type": "stream",
     "text": [
      "  0%|          | 40/20009 [00:13<2:01:51,  2.73it/s]"
     ]
    },
    {
     "name": "stdout",
     "output_type": "stream",
     "text": [
      "Step 60031, training: ucc_acc=1.0 weighted_loss=0.016673173755407333 ucc_loss=0.016673173755407333 ae_loss=0 eval: ucc_acc=1.0 weighted_loss=0.0027405149303376675 ucc_loss=0.0027405149303376675 ae_loss=0\n"
     ]
    },
    {
     "name": "stderr",
     "output_type": "stream",
     "text": [
      "  0%|          | 50/20009 [00:16<2:00:41,  2.76it/s]"
     ]
    },
    {
     "name": "stdout",
     "output_type": "stream",
     "text": [
      "Step 60041, training: ucc_acc=1.0 weighted_loss=8.632706885691732e-05 ucc_loss=8.632706885691732e-05 ae_loss=0 eval: ucc_acc=1.0 weighted_loss=0.01831057481467724 ucc_loss=0.01831057481467724 ae_loss=0\n"
     ]
    },
    {
     "name": "stderr",
     "output_type": "stream",
     "text": [
      "  0%|          | 60/20009 [00:19<2:00:32,  2.76it/s]"
     ]
    },
    {
     "name": "stdout",
     "output_type": "stream",
     "text": [
      "Step 60051, training: ucc_acc=1.0 weighted_loss=0.004153199959546328 ucc_loss=0.004153199959546328 ae_loss=0 eval: ucc_acc=1.0 weighted_loss=0.004803688731044531 ucc_loss=0.004803688731044531 ae_loss=0\n"
     ]
    },
    {
     "name": "stderr",
     "output_type": "stream",
     "text": [
      "  0%|          | 70/20009 [00:23<2:00:40,  2.75it/s]"
     ]
    },
    {
     "name": "stdout",
     "output_type": "stream",
     "text": [
      "Step 60061, training: ucc_acc=1.0 weighted_loss=0.04790594428777695 ucc_loss=0.04790594428777695 ae_loss=0 eval: ucc_acc=1.0 weighted_loss=0.03599841147661209 ucc_loss=0.03599841147661209 ae_loss=0\n"
     ]
    },
    {
     "name": "stderr",
     "output_type": "stream",
     "text": [
      "  0%|          | 80/20009 [00:26<2:11:52,  2.52it/s]"
     ]
    },
    {
     "name": "stdout",
     "output_type": "stream",
     "text": [
      "Step 60071, training: ucc_acc=1.0 weighted_loss=0.02043892629444599 ucc_loss=0.02043892629444599 ae_loss=0 eval: ucc_acc=1.0 weighted_loss=0.0130203478038311 ucc_loss=0.0130203478038311 ae_loss=0\n"
     ]
    },
    {
     "name": "stderr",
     "output_type": "stream",
     "text": [
      "  0%|          | 90/20009 [00:30<2:02:02,  2.72it/s]"
     ]
    },
    {
     "name": "stdout",
     "output_type": "stream",
     "text": [
      "Step 60081, training: ucc_acc=1.0 weighted_loss=0.00984528660774231 ucc_loss=0.00984528660774231 ae_loss=0 eval: ucc_acc=1.0 weighted_loss=0.01232441607862711 ucc_loss=0.01232441607862711 ae_loss=0\n"
     ]
    },
    {
     "name": "stderr",
     "output_type": "stream",
     "text": [
      "  0%|          | 100/20009 [00:33<1:58:17,  2.80it/s]"
     ]
    },
    {
     "name": "stdout",
     "output_type": "stream",
     "text": [
      "Step 60091, training: ucc_acc=1.0 weighted_loss=0.0017148094484582543 ucc_loss=0.0017148094484582543 ae_loss=0 eval: ucc_acc=1.0 weighted_loss=0.0005404021358117461 ucc_loss=0.0005404021358117461 ae_loss=0\n"
     ]
    },
    {
     "name": "stderr",
     "output_type": "stream",
     "text": [
      "  1%|          | 110/20009 [00:36<2:20:56,  2.35it/s]"
     ]
    },
    {
     "name": "stdout",
     "output_type": "stream",
     "text": [
      "Step 60101, training: ucc_acc=1.0 weighted_loss=0.0010922772344201803 ucc_loss=0.0010922772344201803 ae_loss=0 eval: ucc_acc=0.9333333373069763 weighted_loss=0.14802588522434235 ucc_loss=0.14802588522434235 ae_loss=0\n"
     ]
    },
    {
     "name": "stderr",
     "output_type": "stream",
     "text": [
      "  1%|          | 120/20009 [00:41<2:26:29,  2.26it/s]"
     ]
    },
    {
     "name": "stdout",
     "output_type": "stream",
     "text": [
      "Step 60111, training: ucc_acc=1.0 weighted_loss=0.03318174555897713 ucc_loss=0.03318174555897713 ae_loss=0 eval: ucc_acc=1.0 weighted_loss=0.04353896901011467 ucc_loss=0.04353896901011467 ae_loss=0\n"
     ]
    },
    {
     "name": "stderr",
     "output_type": "stream",
     "text": [
      "  1%|          | 130/20009 [00:45<2:25:54,  2.27it/s]"
     ]
    },
    {
     "name": "stdout",
     "output_type": "stream",
     "text": [
      "Step 60121, training: ucc_acc=0.9333333373069763 weighted_loss=0.2763937711715698 ucc_loss=0.2763937711715698 ae_loss=0 eval: ucc_acc=1.0 weighted_loss=0.0065882145427167416 ucc_loss=0.0065882145427167416 ae_loss=0\n"
     ]
    },
    {
     "name": "stderr",
     "output_type": "stream",
     "text": [
      "  1%|          | 140/20009 [00:49<2:29:17,  2.22it/s]"
     ]
    },
    {
     "name": "stdout",
     "output_type": "stream",
     "text": [
      "Step 60131, training: ucc_acc=1.0 weighted_loss=0.0032562806736677885 ucc_loss=0.0032562806736677885 ae_loss=0 eval: ucc_acc=0.9333333373069763 weighted_loss=0.11851005256175995 ucc_loss=0.11851005256175995 ae_loss=0\n"
     ]
    },
    {
     "name": "stderr",
     "output_type": "stream",
     "text": [
      "  1%|          | 150/20009 [00:54<2:54:15,  1.90it/s]"
     ]
    },
    {
     "name": "stdout",
     "output_type": "stream",
     "text": [
      "Step 60141, training: ucc_acc=1.0 weighted_loss=0.015983199700713158 ucc_loss=0.015983199700713158 ae_loss=0 eval: ucc_acc=1.0 weighted_loss=0.003352057421579957 ucc_loss=0.003352057421579957 ae_loss=0\n"
     ]
    },
    {
     "name": "stderr",
     "output_type": "stream",
     "text": [
      "  1%|          | 160/20009 [00:59<3:14:13,  1.70it/s]"
     ]
    },
    {
     "name": "stdout",
     "output_type": "stream",
     "text": [
      "Step 60151, training: ucc_acc=1.0 weighted_loss=0.022352008149027824 ucc_loss=0.022352008149027824 ae_loss=0 eval: ucc_acc=1.0 weighted_loss=0.0065246098674833775 ucc_loss=0.0065246098674833775 ae_loss=0\n"
     ]
    },
    {
     "name": "stderr",
     "output_type": "stream",
     "text": [
      "  1%|          | 170/20009 [01:04<2:59:05,  1.85it/s]"
     ]
    },
    {
     "name": "stdout",
     "output_type": "stream",
     "text": [
      "Step 60161, training: ucc_acc=1.0 weighted_loss=0.0024653906002640724 ucc_loss=0.0024653906002640724 ae_loss=0 eval: ucc_acc=1.0 weighted_loss=0.014136159792542458 ucc_loss=0.014136159792542458 ae_loss=0\n"
     ]
    },
    {
     "name": "stderr",
     "output_type": "stream",
     "text": [
      "  1%|          | 180/20009 [01:08<2:22:12,  2.32it/s]"
     ]
    },
    {
     "name": "stdout",
     "output_type": "stream",
     "text": [
      "Step 60171, training: ucc_acc=0.9333333373069763 weighted_loss=0.2320539355278015 ucc_loss=0.2320539355278015 ae_loss=0 eval: ucc_acc=1.0 weighted_loss=0.028458936139941216 ucc_loss=0.028458936139941216 ae_loss=0\n"
     ]
    },
    {
     "name": "stderr",
     "output_type": "stream",
     "text": [
      "  1%|          | 190/20009 [01:11<1:57:23,  2.81it/s]"
     ]
    },
    {
     "name": "stdout",
     "output_type": "stream",
     "text": [
      "Step 60181, training: ucc_acc=0.9333333373069763 weighted_loss=0.0981886237859726 ucc_loss=0.0981886237859726 ae_loss=0 eval: ucc_acc=1.0 weighted_loss=0.002696408424526453 ucc_loss=0.002696408424526453 ae_loss=0\n"
     ]
    },
    {
     "name": "stderr",
     "output_type": "stream",
     "text": [
      "  1%|          | 200/20009 [01:14<1:55:12,  2.87it/s]"
     ]
    },
    {
     "name": "stdout",
     "output_type": "stream",
     "text": [
      "Step 60191, training: ucc_acc=1.0 weighted_loss=0.006406026426702738 ucc_loss=0.006406026426702738 ae_loss=0 eval: ucc_acc=0.9333333373069763 weighted_loss=0.2062978446483612 ucc_loss=0.2062978446483612 ae_loss=0\n"
     ]
    },
    {
     "name": "stderr",
     "output_type": "stream",
     "text": [
      "  1%|          | 210/20009 [01:17<1:59:00,  2.77it/s]"
     ]
    },
    {
     "name": "stdout",
     "output_type": "stream",
     "text": [
      "Step 60201, training: ucc_acc=1.0 weighted_loss=0.012994317337870598 ucc_loss=0.012994317337870598 ae_loss=0 eval: ucc_acc=1.0 weighted_loss=0.04008742421865463 ucc_loss=0.04008742421865463 ae_loss=0\n"
     ]
    },
    {
     "name": "stderr",
     "output_type": "stream",
     "text": [
      "  1%|          | 220/20009 [01:21<2:06:56,  2.60it/s]"
     ]
    },
    {
     "name": "stdout",
     "output_type": "stream",
     "text": [
      "Step 60211, training: ucc_acc=0.9333333373069763 weighted_loss=0.2107345312833786 ucc_loss=0.2107345312833786 ae_loss=0 eval: ucc_acc=1.0 weighted_loss=0.009743179194629192 ucc_loss=0.009743179194629192 ae_loss=0\n"
     ]
    },
    {
     "name": "stderr",
     "output_type": "stream",
     "text": [
      "  1%|          | 230/20009 [01:24<1:58:15,  2.79it/s]"
     ]
    },
    {
     "name": "stdout",
     "output_type": "stream",
     "text": [
      "Step 60221, training: ucc_acc=1.0 weighted_loss=0.009929253719747066 ucc_loss=0.009929253719747066 ae_loss=0 eval: ucc_acc=1.0 weighted_loss=0.012516940012574196 ucc_loss=0.012516940012574196 ae_loss=0\n"
     ]
    },
    {
     "name": "stderr",
     "output_type": "stream",
     "text": [
      "  1%|          | 240/20009 [01:27<1:56:59,  2.82it/s]"
     ]
    },
    {
     "name": "stdout",
     "output_type": "stream",
     "text": [
      "Step 60231, training: ucc_acc=1.0 weighted_loss=0.01509830728173256 ucc_loss=0.01509830728173256 ae_loss=0 eval: ucc_acc=1.0 weighted_loss=0.00146202533505857 ucc_loss=0.00146202533505857 ae_loss=0\n"
     ]
    },
    {
     "name": "stderr",
     "output_type": "stream",
     "text": [
      "  1%|          | 250/20009 [01:30<1:56:56,  2.82it/s]"
     ]
    },
    {
     "name": "stdout",
     "output_type": "stream",
     "text": [
      "Step 60241, training: ucc_acc=1.0 weighted_loss=0.007556320168077946 ucc_loss=0.007556320168077946 ae_loss=0 eval: ucc_acc=1.0 weighted_loss=0.014506286010146141 ucc_loss=0.014506286010146141 ae_loss=0\n"
     ]
    },
    {
     "name": "stderr",
     "output_type": "stream",
     "text": [
      "  1%|▏         | 260/20009 [01:34<1:57:00,  2.81it/s]"
     ]
    },
    {
     "name": "stdout",
     "output_type": "stream",
     "text": [
      "Step 60251, training: ucc_acc=1.0 weighted_loss=0.0019552470184862614 ucc_loss=0.0019552470184862614 ae_loss=0 eval: ucc_acc=1.0 weighted_loss=0.01748904027044773 ucc_loss=0.01748904027044773 ae_loss=0\n"
     ]
    },
    {
     "name": "stderr",
     "output_type": "stream",
     "text": [
      "  1%|▏         | 270/20009 [01:37<2:48:52,  1.95it/s]"
     ]
    },
    {
     "name": "stdout",
     "output_type": "stream",
     "text": [
      "Step 60261, training: ucc_acc=1.0 weighted_loss=0.037940800189971924 ucc_loss=0.037940800189971924 ae_loss=0 eval: ucc_acc=1.0 weighted_loss=0.006320666056126356 ucc_loss=0.006320666056126356 ae_loss=0\n"
     ]
    },
    {
     "name": "stderr",
     "output_type": "stream",
     "text": [
      "  1%|▏         | 280/20009 [01:41<2:14:39,  2.44it/s]"
     ]
    },
    {
     "name": "stdout",
     "output_type": "stream",
     "text": [
      "Step 60271, training: ucc_acc=1.0 weighted_loss=0.010419492609798908 ucc_loss=0.010419492609798908 ae_loss=0 eval: ucc_acc=1.0 weighted_loss=0.011946544982492924 ucc_loss=0.011946544982492924 ae_loss=0\n"
     ]
    },
    {
     "name": "stderr",
     "output_type": "stream",
     "text": [
      "  1%|▏         | 290/20009 [01:45<2:05:04,  2.63it/s]"
     ]
    },
    {
     "name": "stdout",
     "output_type": "stream",
     "text": [
      "Step 60281, training: ucc_acc=1.0 weighted_loss=0.0013725504977628589 ucc_loss=0.0013725504977628589 ae_loss=0 eval: ucc_acc=1.0 weighted_loss=0.042061805725097656 ucc_loss=0.042061805725097656 ae_loss=0\n"
     ]
    },
    {
     "name": "stderr",
     "output_type": "stream",
     "text": [
      "  1%|▏         | 300/20009 [01:48<2:06:26,  2.60it/s]"
     ]
    },
    {
     "name": "stdout",
     "output_type": "stream",
     "text": [
      "Step 60291, training: ucc_acc=0.9333333373069763 weighted_loss=0.1929747462272644 ucc_loss=0.1929747462272644 ae_loss=0 eval: ucc_acc=1.0 weighted_loss=0.014159911312162876 ucc_loss=0.014159911312162876 ae_loss=0\n"
     ]
    },
    {
     "name": "stderr",
     "output_type": "stream",
     "text": [
      "  2%|▏         | 310/20009 [01:52<2:22:29,  2.30it/s]"
     ]
    },
    {
     "name": "stdout",
     "output_type": "stream",
     "text": [
      "Step 60301, training: ucc_acc=1.0 weighted_loss=0.018277065828442574 ucc_loss=0.018277065828442574 ae_loss=0 eval: ucc_acc=0.9333333373069763 weighted_loss=0.12417485564947128 ucc_loss=0.12417485564947128 ae_loss=0\n"
     ]
    },
    {
     "name": "stderr",
     "output_type": "stream",
     "text": [
      "  2%|▏         | 320/20009 [01:56<2:18:27,  2.37it/s]"
     ]
    },
    {
     "name": "stdout",
     "output_type": "stream",
     "text": [
      "Step 60311, training: ucc_acc=1.0 weighted_loss=0.020810067653656006 ucc_loss=0.020810067653656006 ae_loss=0 eval: ucc_acc=1.0 weighted_loss=0.03547779098153114 ucc_loss=0.03547779098153114 ae_loss=0\n"
     ]
    },
    {
     "name": "stderr",
     "output_type": "stream",
     "text": [
      "  2%|▏         | 330/20009 [02:00<2:36:22,  2.10it/s]"
     ]
    },
    {
     "name": "stdout",
     "output_type": "stream",
     "text": [
      "Step 60321, training: ucc_acc=1.0 weighted_loss=0.002691762987524271 ucc_loss=0.002691762987524271 ae_loss=0 eval: ucc_acc=1.0 weighted_loss=0.01005645003169775 ucc_loss=0.01005645003169775 ae_loss=0\n"
     ]
    },
    {
     "name": "stderr",
     "output_type": "stream",
     "text": [
      "  2%|▏         | 340/20009 [02:03<2:07:43,  2.57it/s]"
     ]
    },
    {
     "name": "stdout",
     "output_type": "stream",
     "text": [
      "Step 60331, training: ucc_acc=1.0 weighted_loss=0.009708208031952381 ucc_loss=0.009708208031952381 ae_loss=0 eval: ucc_acc=1.0 weighted_loss=0.0036582662723958492 ucc_loss=0.0036582662723958492 ae_loss=0\n"
     ]
    },
    {
     "name": "stderr",
     "output_type": "stream",
     "text": [
      "  2%|▏         | 350/20009 [02:07<2:24:21,  2.27it/s]"
     ]
    },
    {
     "name": "stdout",
     "output_type": "stream",
     "text": [
      "Step 60341, training: ucc_acc=1.0 weighted_loss=0.01655775122344494 ucc_loss=0.01655775122344494 ae_loss=0 eval: ucc_acc=1.0 weighted_loss=0.00011060914403060451 ucc_loss=0.00011060914403060451 ae_loss=0\n"
     ]
    },
    {
     "name": "stderr",
     "output_type": "stream",
     "text": [
      "  2%|▏         | 360/20009 [02:11<2:18:12,  2.37it/s]"
     ]
    },
    {
     "name": "stdout",
     "output_type": "stream",
     "text": [
      "Step 60351, training: ucc_acc=1.0 weighted_loss=0.0010007136734202504 ucc_loss=0.0010007136734202504 ae_loss=0 eval: ucc_acc=0.9333333373069763 weighted_loss=0.22964231669902802 ucc_loss=0.22964231669902802 ae_loss=0\n"
     ]
    },
    {
     "name": "stderr",
     "output_type": "stream",
     "text": [
      "  2%|▏         | 370/20009 [02:14<1:59:28,  2.74it/s]"
     ]
    },
    {
     "name": "stdout",
     "output_type": "stream",
     "text": [
      "Step 60361, training: ucc_acc=0.9333333373069763 weighted_loss=0.0802687257528305 ucc_loss=0.0802687257528305 ae_loss=0 eval: ucc_acc=1.0 weighted_loss=0.008492734283208847 ucc_loss=0.008492734283208847 ae_loss=0\n"
     ]
    },
    {
     "name": "stderr",
     "output_type": "stream",
     "text": [
      "  2%|▏         | 380/20009 [02:18<1:56:32,  2.81it/s]"
     ]
    },
    {
     "name": "stdout",
     "output_type": "stream",
     "text": [
      "Step 60371, training: ucc_acc=0.9333333373069763 weighted_loss=0.14285030961036682 ucc_loss=0.14285030961036682 ae_loss=0 eval: ucc_acc=0.9333333373069763 weighted_loss=0.158203125 ucc_loss=0.158203125 ae_loss=0\n"
     ]
    },
    {
     "name": "stderr",
     "output_type": "stream",
     "text": [
      "  2%|▏         | 390/20009 [02:21<1:56:13,  2.81it/s]"
     ]
    },
    {
     "name": "stdout",
     "output_type": "stream",
     "text": [
      "Step 60381, training: ucc_acc=1.0 weighted_loss=0.015960225835442543 ucc_loss=0.015960225835442543 ae_loss=0 eval: ucc_acc=1.0 weighted_loss=0.006125363986939192 ucc_loss=0.006125363986939192 ae_loss=0\n"
     ]
    },
    {
     "name": "stderr",
     "output_type": "stream",
     "text": [
      "  2%|▏         | 400/20009 [02:24<1:58:49,  2.75it/s]"
     ]
    },
    {
     "name": "stdout",
     "output_type": "stream",
     "text": [
      "Step 60391, training: ucc_acc=1.0 weighted_loss=0.005953744985163212 ucc_loss=0.005953744985163212 ae_loss=0 eval: ucc_acc=1.0 weighted_loss=0.03149343654513359 ucc_loss=0.03149343654513359 ae_loss=0\n"
     ]
    },
    {
     "name": "stderr",
     "output_type": "stream",
     "text": [
      "  2%|▏         | 410/20009 [02:27<1:55:34,  2.83it/s]"
     ]
    },
    {
     "name": "stdout",
     "output_type": "stream",
     "text": [
      "Step 60401, training: ucc_acc=1.0 weighted_loss=0.012256511487066746 ucc_loss=0.012256511487066746 ae_loss=0 eval: ucc_acc=1.0 weighted_loss=0.014573848806321621 ucc_loss=0.014573848806321621 ae_loss=0\n"
     ]
    },
    {
     "name": "stderr",
     "output_type": "stream",
     "text": [
      "  2%|▏         | 420/20009 [02:30<1:56:34,  2.80it/s]"
     ]
    },
    {
     "name": "stdout",
     "output_type": "stream",
     "text": [
      "Step 60411, training: ucc_acc=1.0 weighted_loss=0.01861841417849064 ucc_loss=0.01861841417849064 ae_loss=0 eval: ucc_acc=1.0 weighted_loss=0.0018370597390457988 ucc_loss=0.0018370597390457988 ae_loss=0\n"
     ]
    },
    {
     "name": "stderr",
     "output_type": "stream",
     "text": [
      "  2%|▏         | 430/20009 [02:34<1:56:58,  2.79it/s]"
     ]
    },
    {
     "name": "stdout",
     "output_type": "stream",
     "text": [
      "Step 60421, training: ucc_acc=0.9333333373069763 weighted_loss=0.15938884019851685 ucc_loss=0.15938884019851685 ae_loss=0 eval: ucc_acc=1.0 weighted_loss=0.004369324538856745 ucc_loss=0.004369324538856745 ae_loss=0\n"
     ]
    },
    {
     "name": "stderr",
     "output_type": "stream",
     "text": [
      "  2%|▏         | 440/20009 [02:37<1:56:42,  2.79it/s]"
     ]
    },
    {
     "name": "stdout",
     "output_type": "stream",
     "text": [
      "Step 60431, training: ucc_acc=1.0 weighted_loss=0.0011865411652252078 ucc_loss=0.0011865411652252078 ae_loss=0 eval: ucc_acc=1.0 weighted_loss=0.0009446299518458545 ucc_loss=0.0009446299518458545 ae_loss=0\n"
     ]
    },
    {
     "name": "stderr",
     "output_type": "stream",
     "text": [
      "  2%|▏         | 450/20009 [02:40<1:55:20,  2.83it/s]"
     ]
    },
    {
     "name": "stdout",
     "output_type": "stream",
     "text": [
      "Step 60441, training: ucc_acc=1.0 weighted_loss=0.00029366204398684204 ucc_loss=0.00029366204398684204 ae_loss=0 eval: ucc_acc=1.0 weighted_loss=0.0109245041385293 ucc_loss=0.0109245041385293 ae_loss=0\n"
     ]
    },
    {
     "name": "stderr",
     "output_type": "stream",
     "text": [
      "  2%|▏         | 460/20009 [02:43<1:57:47,  2.77it/s]"
     ]
    },
    {
     "name": "stdout",
     "output_type": "stream",
     "text": [
      "Step 60451, training: ucc_acc=1.0 weighted_loss=0.010600660927593708 ucc_loss=0.010600660927593708 ae_loss=0 eval: ucc_acc=1.0 weighted_loss=0.004828663542866707 ucc_loss=0.004828663542866707 ae_loss=0\n"
     ]
    },
    {
     "name": "stderr",
     "output_type": "stream",
     "text": [
      "  2%|▏         | 470/20009 [02:47<1:54:56,  2.83it/s]"
     ]
    },
    {
     "name": "stdout",
     "output_type": "stream",
     "text": [
      "Step 60461, training: ucc_acc=1.0 weighted_loss=0.005416864529252052 ucc_loss=0.005416864529252052 ae_loss=0 eval: ucc_acc=1.0 weighted_loss=0.002233656821772456 ucc_loss=0.002233656821772456 ae_loss=0\n"
     ]
    },
    {
     "name": "stderr",
     "output_type": "stream",
     "text": [
      "  2%|▏         | 480/20009 [02:50<1:58:21,  2.75it/s]"
     ]
    },
    {
     "name": "stdout",
     "output_type": "stream",
     "text": [
      "Step 60471, training: ucc_acc=1.0 weighted_loss=0.03616280108690262 ucc_loss=0.03616280108690262 ae_loss=0 eval: ucc_acc=1.0 weighted_loss=0.03104938007891178 ucc_loss=0.03104938007891178 ae_loss=0\n"
     ]
    },
    {
     "name": "stderr",
     "output_type": "stream",
     "text": [
      "  2%|▏         | 490/20009 [02:53<1:56:01,  2.80it/s]"
     ]
    },
    {
     "name": "stdout",
     "output_type": "stream",
     "text": [
      "Step 60481, training: ucc_acc=1.0 weighted_loss=0.04180718958377838 ucc_loss=0.04180718958377838 ae_loss=0 eval: ucc_acc=1.0 weighted_loss=0.00958539079874754 ucc_loss=0.00958539079874754 ae_loss=0\n"
     ]
    },
    {
     "name": "stderr",
     "output_type": "stream",
     "text": [
      "  2%|▏         | 500/20009 [02:56<1:55:20,  2.82it/s]"
     ]
    },
    {
     "name": "stdout",
     "output_type": "stream",
     "text": [
      "Step 60491, training: ucc_acc=1.0 weighted_loss=0.004702760372310877 ucc_loss=0.004702760372310877 ae_loss=0 eval: ucc_acc=1.0 weighted_loss=0.0006185927195474505 ucc_loss=0.0006185927195474505 ae_loss=0\n"
     ]
    },
    {
     "name": "stderr",
     "output_type": "stream",
     "text": [
      "  3%|▎         | 510/20009 [03:00<2:03:07,  2.64it/s]"
     ]
    },
    {
     "name": "stdout",
     "output_type": "stream",
     "text": [
      "Step 60501, training: ucc_acc=1.0 weighted_loss=0.012947535142302513 ucc_loss=0.012947535142302513 ae_loss=0 eval: ucc_acc=0.9333333373069763 weighted_loss=0.14909178018569946 ucc_loss=0.14909178018569946 ae_loss=0\n"
     ]
    },
    {
     "name": "stderr",
     "output_type": "stream",
     "text": [
      "  3%|▎         | 520/20009 [03:03<2:01:16,  2.68it/s]"
     ]
    },
    {
     "name": "stdout",
     "output_type": "stream",
     "text": [
      "Step 60511, training: ucc_acc=1.0 weighted_loss=0.015798913314938545 ucc_loss=0.015798913314938545 ae_loss=0 eval: ucc_acc=1.0 weighted_loss=0.013505145907402039 ucc_loss=0.013505145907402039 ae_loss=0\n"
     ]
    },
    {
     "name": "stderr",
     "output_type": "stream",
     "text": [
      "  3%|▎         | 530/20009 [03:07<2:10:40,  2.48it/s]"
     ]
    },
    {
     "name": "stdout",
     "output_type": "stream",
     "text": [
      "Step 60521, training: ucc_acc=1.0 weighted_loss=0.0049627479165792465 ucc_loss=0.0049627479165792465 ae_loss=0 eval: ucc_acc=1.0 weighted_loss=0.01752767339348793 ucc_loss=0.01752767339348793 ae_loss=0\n"
     ]
    },
    {
     "name": "stderr",
     "output_type": "stream",
     "text": [
      "  3%|▎         | 540/20009 [03:10<1:56:39,  2.78it/s]"
     ]
    },
    {
     "name": "stdout",
     "output_type": "stream",
     "text": [
      "Step 60531, training: ucc_acc=1.0 weighted_loss=0.06203993782401085 ucc_loss=0.06203993782401085 ae_loss=0 eval: ucc_acc=0.9333333373069763 weighted_loss=0.1039915606379509 ucc_loss=0.1039915606379509 ae_loss=0\n"
     ]
    },
    {
     "name": "stderr",
     "output_type": "stream",
     "text": [
      "  3%|▎         | 550/20009 [03:13<1:59:09,  2.72it/s]"
     ]
    },
    {
     "name": "stdout",
     "output_type": "stream",
     "text": [
      "Step 60541, training: ucc_acc=0.9333333373069763 weighted_loss=0.09212546050548553 ucc_loss=0.09212546050548553 ae_loss=0 eval: ucc_acc=1.0 weighted_loss=0.006142588797956705 ucc_loss=0.006142588797956705 ae_loss=0\n"
     ]
    },
    {
     "name": "stderr",
     "output_type": "stream",
     "text": [
      "  3%|▎         | 560/20009 [03:17<2:25:04,  2.23it/s]"
     ]
    },
    {
     "name": "stdout",
     "output_type": "stream",
     "text": [
      "Step 60551, training: ucc_acc=1.0 weighted_loss=0.0028654730413109064 ucc_loss=0.0028654730413109064 ae_loss=0 eval: ucc_acc=1.0 weighted_loss=0.015292230993509293 ucc_loss=0.015292230993509293 ae_loss=0\n"
     ]
    },
    {
     "name": "stderr",
     "output_type": "stream",
     "text": [
      "  3%|▎         | 570/20009 [03:22<2:44:19,  1.97it/s]"
     ]
    },
    {
     "name": "stdout",
     "output_type": "stream",
     "text": [
      "Step 60561, training: ucc_acc=0.9333333373069763 weighted_loss=0.18158213794231415 ucc_loss=0.18158213794231415 ae_loss=0 eval: ucc_acc=1.0 weighted_loss=0.010782337747514248 ucc_loss=0.010782337747514248 ae_loss=0\n"
     ]
    },
    {
     "name": "stderr",
     "output_type": "stream",
     "text": [
      "  3%|▎         | 580/20009 [03:26<2:15:29,  2.39it/s]"
     ]
    },
    {
     "name": "stdout",
     "output_type": "stream",
     "text": [
      "Step 60571, training: ucc_acc=1.0 weighted_loss=0.006106274668127298 ucc_loss=0.006106274668127298 ae_loss=0 eval: ucc_acc=1.0 weighted_loss=0.005126775708049536 ucc_loss=0.005126775708049536 ae_loss=0\n"
     ]
    },
    {
     "name": "stderr",
     "output_type": "stream",
     "text": [
      "  3%|▎         | 590/20009 [03:30<2:05:53,  2.57it/s]"
     ]
    },
    {
     "name": "stdout",
     "output_type": "stream",
     "text": [
      "Step 60581, training: ucc_acc=0.9333333373069763 weighted_loss=0.2282605618238449 ucc_loss=0.2282605618238449 ae_loss=0 eval: ucc_acc=1.0 weighted_loss=0.009152852930128574 ucc_loss=0.009152852930128574 ae_loss=0\n"
     ]
    },
    {
     "name": "stderr",
     "output_type": "stream",
     "text": [
      "  3%|▎         | 600/20009 [03:33<2:06:41,  2.55it/s]"
     ]
    },
    {
     "name": "stdout",
     "output_type": "stream",
     "text": [
      "Step 60591, training: ucc_acc=0.9333333373069763 weighted_loss=0.16081485152244568 ucc_loss=0.16081485152244568 ae_loss=0 eval: ucc_acc=1.0 weighted_loss=0.009272424504160881 ucc_loss=0.009272424504160881 ae_loss=0\n"
     ]
    },
    {
     "name": "stderr",
     "output_type": "stream",
     "text": [
      "  3%|▎         | 610/20009 [03:37<2:09:05,  2.50it/s]"
     ]
    },
    {
     "name": "stdout",
     "output_type": "stream",
     "text": [
      "Step 60601, training: ucc_acc=1.0 weighted_loss=0.005853885319083929 ucc_loss=0.005853885319083929 ae_loss=0 eval: ucc_acc=1.0 weighted_loss=0.015379843302071095 ucc_loss=0.015379843302071095 ae_loss=0\n"
     ]
    },
    {
     "name": "stderr",
     "output_type": "stream",
     "text": [
      "  3%|▎         | 620/20009 [03:41<2:04:39,  2.59it/s]"
     ]
    },
    {
     "name": "stdout",
     "output_type": "stream",
     "text": [
      "Step 60611, training: ucc_acc=1.0 weighted_loss=0.05165113881230354 ucc_loss=0.05165113881230354 ae_loss=0 eval: ucc_acc=1.0 weighted_loss=0.0006226558471098542 ucc_loss=0.0006226558471098542 ae_loss=0\n"
     ]
    },
    {
     "name": "stderr",
     "output_type": "stream",
     "text": [
      "  3%|▎         | 630/20009 [03:44<2:10:33,  2.47it/s]"
     ]
    },
    {
     "name": "stdout",
     "output_type": "stream",
     "text": [
      "Step 60621, training: ucc_acc=1.0 weighted_loss=0.0010679357219487429 ucc_loss=0.0010679357219487429 ae_loss=0 eval: ucc_acc=1.0 weighted_loss=0.04486571252346039 ucc_loss=0.04486571252346039 ae_loss=0\n"
     ]
    },
    {
     "name": "stderr",
     "output_type": "stream",
     "text": [
      "  3%|▎         | 640/20009 [03:48<2:10:48,  2.47it/s]"
     ]
    },
    {
     "name": "stdout",
     "output_type": "stream",
     "text": [
      "Step 60631, training: ucc_acc=1.0 weighted_loss=0.022686554118990898 ucc_loss=0.022686554118990898 ae_loss=0 eval: ucc_acc=1.0 weighted_loss=0.021400783210992813 ucc_loss=0.021400783210992813 ae_loss=0\n"
     ]
    },
    {
     "name": "stderr",
     "output_type": "stream",
     "text": [
      "  3%|▎         | 650/20009 [03:51<2:03:27,  2.61it/s]"
     ]
    },
    {
     "name": "stdout",
     "output_type": "stream",
     "text": [
      "Step 60641, training: ucc_acc=1.0 weighted_loss=0.00125374854542315 ucc_loss=0.00125374854542315 ae_loss=0 eval: ucc_acc=1.0 weighted_loss=0.001533504226244986 ucc_loss=0.001533504226244986 ae_loss=0\n"
     ]
    },
    {
     "name": "stderr",
     "output_type": "stream",
     "text": [
      "  3%|▎         | 660/20009 [03:55<2:09:52,  2.48it/s]"
     ]
    },
    {
     "name": "stdout",
     "output_type": "stream",
     "text": [
      "Step 60651, training: ucc_acc=1.0 weighted_loss=0.0001856587768997997 ucc_loss=0.0001856587768997997 ae_loss=0 eval: ucc_acc=1.0 weighted_loss=0.0006627809489145875 ucc_loss=0.0006627809489145875 ae_loss=0\n"
     ]
    },
    {
     "name": "stderr",
     "output_type": "stream",
     "text": [
      "  3%|▎         | 670/20009 [03:59<2:06:51,  2.54it/s]"
     ]
    },
    {
     "name": "stdout",
     "output_type": "stream",
     "text": [
      "Step 60661, training: ucc_acc=1.0 weighted_loss=0.00017874241166282445 ucc_loss=0.00017874241166282445 ae_loss=0 eval: ucc_acc=1.0 weighted_loss=0.002396519761532545 ucc_loss=0.002396519761532545 ae_loss=0\n"
     ]
    },
    {
     "name": "stderr",
     "output_type": "stream",
     "text": [
      "  3%|▎         | 680/20009 [04:02<2:12:29,  2.43it/s]"
     ]
    },
    {
     "name": "stdout",
     "output_type": "stream",
     "text": [
      "Step 60671, training: ucc_acc=0.8666666746139526 weighted_loss=0.39175471663475037 ucc_loss=0.39175471663475037 ae_loss=0 eval: ucc_acc=1.0 weighted_loss=0.010992972180247307 ucc_loss=0.010992972180247307 ae_loss=0\n"
     ]
    },
    {
     "name": "stderr",
     "output_type": "stream",
     "text": [
      "  3%|▎         | 690/20009 [04:06<2:07:51,  2.52it/s]"
     ]
    },
    {
     "name": "stdout",
     "output_type": "stream",
     "text": [
      "Step 60681, training: ucc_acc=1.0 weighted_loss=0.016924165189266205 ucc_loss=0.016924165189266205 ae_loss=0 eval: ucc_acc=1.0 weighted_loss=0.0036448093596845865 ucc_loss=0.0036448093596845865 ae_loss=0\n"
     ]
    },
    {
     "name": "stderr",
     "output_type": "stream",
     "text": [
      "  3%|▎         | 700/20009 [04:10<2:21:33,  2.27it/s]"
     ]
    },
    {
     "name": "stdout",
     "output_type": "stream",
     "text": [
      "Step 60691, training: ucc_acc=1.0 weighted_loss=0.002315608086064458 ucc_loss=0.002315608086064458 ae_loss=0 eval: ucc_acc=1.0 weighted_loss=0.00444978941231966 ucc_loss=0.00444978941231966 ae_loss=0\n"
     ]
    },
    {
     "name": "stderr",
     "output_type": "stream",
     "text": [
      "  4%|▎         | 710/20009 [04:14<2:52:35,  1.86it/s]"
     ]
    },
    {
     "name": "stdout",
     "output_type": "stream",
     "text": [
      "Step 60701, training: ucc_acc=1.0 weighted_loss=0.02637757547199726 ucc_loss=0.02637757547199726 ae_loss=0 eval: ucc_acc=0.9333333373069763 weighted_loss=0.15846003592014313 ucc_loss=0.15846003592014313 ae_loss=0\n"
     ]
    },
    {
     "name": "stderr",
     "output_type": "stream",
     "text": [
      "  4%|▎         | 720/20009 [04:19<2:41:55,  1.99it/s]"
     ]
    },
    {
     "name": "stdout",
     "output_type": "stream",
     "text": [
      "Step 60711, training: ucc_acc=1.0 weighted_loss=0.01356364507228136 ucc_loss=0.01356364507228136 ae_loss=0 eval: ucc_acc=1.0 weighted_loss=0.04233692213892937 ucc_loss=0.04233692213892937 ae_loss=0\n"
     ]
    },
    {
     "name": "stderr",
     "output_type": "stream",
     "text": [
      "  4%|▎         | 730/20009 [04:23<2:12:46,  2.42it/s]"
     ]
    },
    {
     "name": "stdout",
     "output_type": "stream",
     "text": [
      "Step 60721, training: ucc_acc=1.0 weighted_loss=0.03131977841258049 ucc_loss=0.03131977841258049 ae_loss=0 eval: ucc_acc=1.0 weighted_loss=0.02566242590546608 ucc_loss=0.02566242590546608 ae_loss=0\n"
     ]
    },
    {
     "name": "stderr",
     "output_type": "stream",
     "text": [
      "  4%|▎         | 740/20009 [04:27<2:05:54,  2.55it/s]"
     ]
    },
    {
     "name": "stdout",
     "output_type": "stream",
     "text": [
      "Step 60731, training: ucc_acc=1.0 weighted_loss=0.001326694735325873 ucc_loss=0.001326694735325873 ae_loss=0 eval: ucc_acc=1.0 weighted_loss=0.008076544851064682 ucc_loss=0.008076544851064682 ae_loss=0\n"
     ]
    },
    {
     "name": "stderr",
     "output_type": "stream",
     "text": [
      "  4%|▎         | 750/20009 [04:31<2:25:12,  2.21it/s]"
     ]
    },
    {
     "name": "stdout",
     "output_type": "stream",
     "text": [
      "Step 60741, training: ucc_acc=1.0 weighted_loss=0.003902355907484889 ucc_loss=0.003902355907484889 ae_loss=0 eval: ucc_acc=1.0 weighted_loss=0.012804780155420303 ucc_loss=0.012804780155420303 ae_loss=0\n"
     ]
    },
    {
     "name": "stderr",
     "output_type": "stream",
     "text": [
      "  4%|▍         | 760/20009 [04:35<2:13:26,  2.40it/s]"
     ]
    },
    {
     "name": "stdout",
     "output_type": "stream",
     "text": [
      "Step 60751, training: ucc_acc=1.0 weighted_loss=0.016646821051836014 ucc_loss=0.016646821051836014 ae_loss=0 eval: ucc_acc=1.0 weighted_loss=0.020993340760469437 ucc_loss=0.020993340760469437 ae_loss=0\n"
     ]
    },
    {
     "name": "stderr",
     "output_type": "stream",
     "text": [
      "  4%|▍         | 770/20009 [04:39<2:08:14,  2.50it/s]"
     ]
    },
    {
     "name": "stdout",
     "output_type": "stream",
     "text": [
      "Step 60761, training: ucc_acc=1.0 weighted_loss=0.007784629240632057 ucc_loss=0.007784629240632057 ae_loss=0 eval: ucc_acc=0.9333333373069763 weighted_loss=0.1903415471315384 ucc_loss=0.1903415471315384 ae_loss=0\n"
     ]
    },
    {
     "name": "stderr",
     "output_type": "stream",
     "text": [
      "  4%|▍         | 780/20009 [04:42<2:03:18,  2.60it/s]"
     ]
    },
    {
     "name": "stdout",
     "output_type": "stream",
     "text": [
      "Step 60771, training: ucc_acc=1.0 weighted_loss=0.008291796781122684 ucc_loss=0.008291796781122684 ae_loss=0 eval: ucc_acc=1.0 weighted_loss=0.0016729446360841393 ucc_loss=0.0016729446360841393 ae_loss=0\n"
     ]
    },
    {
     "name": "stderr",
     "output_type": "stream",
     "text": [
      "  4%|▍         | 790/20009 [04:46<2:37:24,  2.03it/s]"
     ]
    },
    {
     "name": "stdout",
     "output_type": "stream",
     "text": [
      "Step 60781, training: ucc_acc=1.0 weighted_loss=0.04267881065607071 ucc_loss=0.04267881065607071 ae_loss=0 eval: ucc_acc=1.0 weighted_loss=0.037050142884254456 ucc_loss=0.037050142884254456 ae_loss=0\n"
     ]
    },
    {
     "name": "stderr",
     "output_type": "stream",
     "text": [
      "  4%|▍         | 800/20009 [04:50<2:07:59,  2.50it/s]"
     ]
    },
    {
     "name": "stdout",
     "output_type": "stream",
     "text": [
      "Step 60791, training: ucc_acc=0.9333333373069763 weighted_loss=0.1744665652513504 ucc_loss=0.1744665652513504 ae_loss=0 eval: ucc_acc=0.9333333373069763 weighted_loss=0.1556909680366516 ucc_loss=0.1556909680366516 ae_loss=0\n"
     ]
    },
    {
     "name": "stderr",
     "output_type": "stream",
     "text": [
      "  4%|▍         | 810/20009 [04:54<2:15:55,  2.35it/s]"
     ]
    },
    {
     "name": "stdout",
     "output_type": "stream",
     "text": [
      "Step 60801, training: ucc_acc=1.0 weighted_loss=0.000531453755684197 ucc_loss=0.000531453755684197 ae_loss=0 eval: ucc_acc=1.0 weighted_loss=0.0012209858978167176 ucc_loss=0.0012209858978167176 ae_loss=0\n"
     ]
    },
    {
     "name": "stderr",
     "output_type": "stream",
     "text": [
      "  4%|▍         | 820/20009 [04:58<2:19:23,  2.29it/s]"
     ]
    },
    {
     "name": "stdout",
     "output_type": "stream",
     "text": [
      "Step 60811, training: ucc_acc=0.9333333373069763 weighted_loss=0.23858900368213654 ucc_loss=0.23858900368213654 ae_loss=0 eval: ucc_acc=1.0 weighted_loss=0.007563683204352856 ucc_loss=0.007563683204352856 ae_loss=0\n"
     ]
    },
    {
     "name": "stderr",
     "output_type": "stream",
     "text": [
      "  4%|▍         | 830/20009 [05:02<2:27:43,  2.16it/s]"
     ]
    },
    {
     "name": "stdout",
     "output_type": "stream",
     "text": [
      "Step 60821, training: ucc_acc=1.0 weighted_loss=0.0012730250600725412 ucc_loss=0.0012730250600725412 ae_loss=0 eval: ucc_acc=1.0 weighted_loss=0.002441051881760359 ucc_loss=0.002441051881760359 ae_loss=0\n"
     ]
    },
    {
     "name": "stderr",
     "output_type": "stream",
     "text": [
      "  4%|▍         | 840/20009 [05:06<2:19:57,  2.28it/s]"
     ]
    },
    {
     "name": "stdout",
     "output_type": "stream",
     "text": [
      "Step 60831, training: ucc_acc=1.0 weighted_loss=0.005882508587092161 ucc_loss=0.005882508587092161 ae_loss=0 eval: ucc_acc=0.9333333373069763 weighted_loss=0.07615945488214493 ucc_loss=0.07615945488214493 ae_loss=0\n"
     ]
    },
    {
     "name": "stderr",
     "output_type": "stream",
     "text": [
      "  4%|▍         | 850/20009 [05:09<2:06:32,  2.52it/s]"
     ]
    },
    {
     "name": "stdout",
     "output_type": "stream",
     "text": [
      "Step 60841, training: ucc_acc=1.0 weighted_loss=0.00047673998051322997 ucc_loss=0.00047673998051322997 ae_loss=0 eval: ucc_acc=1.0 weighted_loss=0.01124368142336607 ucc_loss=0.01124368142336607 ae_loss=0\n"
     ]
    },
    {
     "name": "stderr",
     "output_type": "stream",
     "text": [
      "  4%|▍         | 860/20009 [05:13<2:04:37,  2.56it/s]"
     ]
    },
    {
     "name": "stdout",
     "output_type": "stream",
     "text": [
      "Step 60851, training: ucc_acc=1.0 weighted_loss=0.008109421469271183 ucc_loss=0.008109421469271183 ae_loss=0 eval: ucc_acc=1.0 weighted_loss=0.0017307036323472857 ucc_loss=0.0017307036323472857 ae_loss=0\n"
     ]
    },
    {
     "name": "stderr",
     "output_type": "stream",
     "text": [
      "  4%|▍         | 870/20009 [05:16<2:04:28,  2.56it/s]"
     ]
    },
    {
     "name": "stdout",
     "output_type": "stream",
     "text": [
      "Step 60861, training: ucc_acc=1.0 weighted_loss=0.03439922258257866 ucc_loss=0.03439922258257866 ae_loss=0 eval: ucc_acc=1.0 weighted_loss=0.01495165191590786 ucc_loss=0.01495165191590786 ae_loss=0\n"
     ]
    },
    {
     "name": "stderr",
     "output_type": "stream",
     "text": [
      "  4%|▍         | 880/20009 [05:20<2:01:18,  2.63it/s]"
     ]
    },
    {
     "name": "stdout",
     "output_type": "stream",
     "text": [
      "Step 60871, training: ucc_acc=1.0 weighted_loss=0.005686925258487463 ucc_loss=0.005686925258487463 ae_loss=0 eval: ucc_acc=1.0 weighted_loss=0.0008372198208235204 ucc_loss=0.0008372198208235204 ae_loss=0\n"
     ]
    },
    {
     "name": "stderr",
     "output_type": "stream",
     "text": [
      "  4%|▍         | 890/20009 [05:24<2:03:12,  2.59it/s]"
     ]
    },
    {
     "name": "stdout",
     "output_type": "stream",
     "text": [
      "Step 60881, training: ucc_acc=0.9333333373069763 weighted_loss=0.22410979866981506 ucc_loss=0.22410979866981506 ae_loss=0 eval: ucc_acc=1.0 weighted_loss=0.032513998448848724 ucc_loss=0.032513998448848724 ae_loss=0\n"
     ]
    },
    {
     "name": "stderr",
     "output_type": "stream",
     "text": [
      "  4%|▍         | 900/20009 [05:27<2:14:10,  2.37it/s]"
     ]
    },
    {
     "name": "stdout",
     "output_type": "stream",
     "text": [
      "Step 60891, training: ucc_acc=1.0 weighted_loss=0.021741731092333794 ucc_loss=0.021741731092333794 ae_loss=0 eval: ucc_acc=1.0 weighted_loss=0.01206980086863041 ucc_loss=0.01206980086863041 ae_loss=0\n"
     ]
    },
    {
     "name": "stderr",
     "output_type": "stream",
     "text": [
      "  5%|▍         | 910/20009 [05:31<2:03:41,  2.57it/s]"
     ]
    },
    {
     "name": "stdout",
     "output_type": "stream",
     "text": [
      "Step 60901, training: ucc_acc=1.0 weighted_loss=0.013157110661268234 ucc_loss=0.013157110661268234 ae_loss=0 eval: ucc_acc=1.0 weighted_loss=0.02275359071791172 ucc_loss=0.02275359071791172 ae_loss=0\n"
     ]
    },
    {
     "name": "stderr",
     "output_type": "stream",
     "text": [
      "  5%|▍         | 920/20009 [05:34<2:03:48,  2.57it/s]"
     ]
    },
    {
     "name": "stdout",
     "output_type": "stream",
     "text": [
      "Step 60911, training: ucc_acc=1.0 weighted_loss=0.016603024676442146 ucc_loss=0.016603024676442146 ae_loss=0 eval: ucc_acc=1.0 weighted_loss=0.018321285024285316 ucc_loss=0.018321285024285316 ae_loss=0\n"
     ]
    },
    {
     "name": "stderr",
     "output_type": "stream",
     "text": [
      "  5%|▍         | 930/20009 [05:38<2:09:34,  2.45it/s]"
     ]
    },
    {
     "name": "stdout",
     "output_type": "stream",
     "text": [
      "Step 60921, training: ucc_acc=1.0 weighted_loss=0.005991599056869745 ucc_loss=0.005991599056869745 ae_loss=0 eval: ucc_acc=1.0 weighted_loss=0.015631703659892082 ucc_loss=0.015631703659892082 ae_loss=0\n"
     ]
    },
    {
     "name": "stderr",
     "output_type": "stream",
     "text": [
      "  5%|▍         | 940/20009 [05:42<2:02:49,  2.59it/s]"
     ]
    },
    {
     "name": "stdout",
     "output_type": "stream",
     "text": [
      "Step 60931, training: ucc_acc=0.9333333373069763 weighted_loss=0.2643701732158661 ucc_loss=0.2643701732158661 ae_loss=0 eval: ucc_acc=1.0 weighted_loss=0.0015501728048548102 ucc_loss=0.0015501728048548102 ae_loss=0\n"
     ]
    },
    {
     "name": "stderr",
     "output_type": "stream",
     "text": [
      "  5%|▍         | 950/20009 [05:45<2:04:09,  2.56it/s]"
     ]
    },
    {
     "name": "stdout",
     "output_type": "stream",
     "text": [
      "Step 60941, training: ucc_acc=0.9333333373069763 weighted_loss=0.14599163830280304 ucc_loss=0.14599163830280304 ae_loss=0 eval: ucc_acc=1.0 weighted_loss=0.001238257740624249 ucc_loss=0.001238257740624249 ae_loss=0\n"
     ]
    },
    {
     "name": "stderr",
     "output_type": "stream",
     "text": [
      "  5%|▍         | 960/20009 [05:49<2:07:55,  2.48it/s]"
     ]
    },
    {
     "name": "stdout",
     "output_type": "stream",
     "text": [
      "Step 60951, training: ucc_acc=1.0 weighted_loss=0.024717384949326515 ucc_loss=0.024717384949326515 ae_loss=0 eval: ucc_acc=1.0 weighted_loss=0.0008788264240138233 ucc_loss=0.0008788264240138233 ae_loss=0\n"
     ]
    },
    {
     "name": "stderr",
     "output_type": "stream",
     "text": [
      "  5%|▍         | 970/20009 [05:53<2:06:40,  2.50it/s]"
     ]
    },
    {
     "name": "stdout",
     "output_type": "stream",
     "text": [
      "Step 60961, training: ucc_acc=1.0 weighted_loss=0.002845020731911063 ucc_loss=0.002845020731911063 ae_loss=0 eval: ucc_acc=0.9333333373069763 weighted_loss=0.17636704444885254 ucc_loss=0.17636704444885254 ae_loss=0\n"
     ]
    },
    {
     "name": "stderr",
     "output_type": "stream",
     "text": [
      "  5%|▍         | 980/20009 [05:56<2:07:18,  2.49it/s]"
     ]
    },
    {
     "name": "stdout",
     "output_type": "stream",
     "text": [
      "Step 60971, training: ucc_acc=1.0 weighted_loss=0.024259934201836586 ucc_loss=0.024259934201836586 ae_loss=0 eval: ucc_acc=1.0 weighted_loss=0.07103288173675537 ucc_loss=0.07103288173675537 ae_loss=0\n"
     ]
    },
    {
     "name": "stderr",
     "output_type": "stream",
     "text": [
      "  5%|▍         | 990/20009 [06:00<2:02:52,  2.58it/s]"
     ]
    },
    {
     "name": "stdout",
     "output_type": "stream",
     "text": [
      "Step 60981, training: ucc_acc=1.0 weighted_loss=0.013537924736738205 ucc_loss=0.013537924736738205 ae_loss=0 eval: ucc_acc=1.0 weighted_loss=0.012519968673586845 ucc_loss=0.012519968673586845 ae_loss=0\n"
     ]
    },
    {
     "name": "stderr",
     "output_type": "stream",
     "text": [
      "  5%|▍         | 1000/20009 [06:04<2:08:13,  2.47it/s]"
     ]
    },
    {
     "name": "stdout",
     "output_type": "stream",
     "text": [
      "Step 60991, training: ucc_acc=1.0 weighted_loss=0.00028172697057016194 ucc_loss=0.00028172697057016194 ae_loss=0 eval: ucc_acc=1.0 weighted_loss=0.012813489884138107 ucc_loss=0.012813489884138107 ae_loss=0\n"
     ]
    },
    {
     "name": "stderr",
     "output_type": "stream",
     "text": [
      "  5%|▌         | 1010/20009 [06:07<2:12:52,  2.38it/s]"
     ]
    },
    {
     "name": "stdout",
     "output_type": "stream",
     "text": [
      "Step 61001, training: ucc_acc=1.0 weighted_loss=0.0005620252341032028 ucc_loss=0.0005620252341032028 ae_loss=0 eval: ucc_acc=1.0 weighted_loss=0.03728189319372177 ucc_loss=0.03728189319372177 ae_loss=0\n"
     ]
    },
    {
     "name": "stderr",
     "output_type": "stream",
     "text": [
      "  5%|▌         | 1020/20009 [06:11<1:53:45,  2.78it/s]"
     ]
    },
    {
     "name": "stdout",
     "output_type": "stream",
     "text": [
      "Step 61011, training: ucc_acc=1.0 weighted_loss=0.0011981307761743665 ucc_loss=0.0011981307761743665 ae_loss=0 eval: ucc_acc=1.0 weighted_loss=0.02349918708205223 ucc_loss=0.02349918708205223 ae_loss=0\n"
     ]
    },
    {
     "name": "stderr",
     "output_type": "stream",
     "text": [
      "  5%|▌         | 1030/20009 [06:14<1:52:59,  2.80it/s]"
     ]
    },
    {
     "name": "stdout",
     "output_type": "stream",
     "text": [
      "Step 61021, training: ucc_acc=1.0 weighted_loss=0.03910226747393608 ucc_loss=0.03910226747393608 ae_loss=0 eval: ucc_acc=1.0 weighted_loss=0.0009192611905746162 ucc_loss=0.0009192611905746162 ae_loss=0\n"
     ]
    },
    {
     "name": "stderr",
     "output_type": "stream",
     "text": [
      "  5%|▌         | 1040/20009 [06:17<1:55:57,  2.73it/s]"
     ]
    },
    {
     "name": "stdout",
     "output_type": "stream",
     "text": [
      "Step 61031, training: ucc_acc=1.0 weighted_loss=0.0019557217601686716 ucc_loss=0.0019557217601686716 ae_loss=0 eval: ucc_acc=1.0 weighted_loss=0.027321359142661095 ucc_loss=0.027321359142661095 ae_loss=0\n"
     ]
    },
    {
     "name": "stderr",
     "output_type": "stream",
     "text": [
      "  5%|▌         | 1050/20009 [06:21<1:52:57,  2.80it/s]"
     ]
    },
    {
     "name": "stdout",
     "output_type": "stream",
     "text": [
      "Step 61041, training: ucc_acc=1.0 weighted_loss=0.014587309211492538 ucc_loss=0.014587309211492538 ae_loss=0 eval: ucc_acc=1.0 weighted_loss=7.467265095328912e-05 ucc_loss=7.467265095328912e-05 ae_loss=0\n"
     ]
    },
    {
     "name": "stderr",
     "output_type": "stream",
     "text": [
      "  5%|▌         | 1060/20009 [06:24<1:53:39,  2.78it/s]"
     ]
    },
    {
     "name": "stdout",
     "output_type": "stream",
     "text": [
      "Step 61051, training: ucc_acc=1.0 weighted_loss=0.002794007072225213 ucc_loss=0.002794007072225213 ae_loss=0 eval: ucc_acc=1.0 weighted_loss=0.009415066801011562 ucc_loss=0.009415066801011562 ae_loss=0\n"
     ]
    },
    {
     "name": "stderr",
     "output_type": "stream",
     "text": [
      "  5%|▌         | 1070/20009 [06:27<1:51:55,  2.82it/s]"
     ]
    },
    {
     "name": "stdout",
     "output_type": "stream",
     "text": [
      "Step 61061, training: ucc_acc=1.0 weighted_loss=0.014796542935073376 ucc_loss=0.014796542935073376 ae_loss=0 eval: ucc_acc=1.0 weighted_loss=0.008676794357597828 ucc_loss=0.008676794357597828 ae_loss=0\n"
     ]
    },
    {
     "name": "stderr",
     "output_type": "stream",
     "text": [
      "  5%|▌         | 1080/20009 [06:30<1:54:24,  2.76it/s]"
     ]
    },
    {
     "name": "stdout",
     "output_type": "stream",
     "text": [
      "Step 61071, training: ucc_acc=1.0 weighted_loss=0.034949108958244324 ucc_loss=0.034949108958244324 ae_loss=0 eval: ucc_acc=1.0 weighted_loss=0.012492517940700054 ucc_loss=0.012492517940700054 ae_loss=0\n"
     ]
    },
    {
     "name": "stderr",
     "output_type": "stream",
     "text": [
      "  5%|▌         | 1090/20009 [06:34<1:49:55,  2.87it/s]"
     ]
    },
    {
     "name": "stdout",
     "output_type": "stream",
     "text": [
      "Step 61081, training: ucc_acc=0.9333333373069763 weighted_loss=0.13719214498996735 ucc_loss=0.13719214498996735 ae_loss=0 eval: ucc_acc=0.9333333373069763 weighted_loss=0.14292000234127045 ucc_loss=0.14292000234127045 ae_loss=0\n"
     ]
    },
    {
     "name": "stderr",
     "output_type": "stream",
     "text": [
      "  5%|▌         | 1100/20009 [06:37<1:53:33,  2.78it/s]"
     ]
    },
    {
     "name": "stdout",
     "output_type": "stream",
     "text": [
      "Step 61091, training: ucc_acc=1.0 weighted_loss=0.009000162594020367 ucc_loss=0.009000162594020367 ae_loss=0 eval: ucc_acc=1.0 weighted_loss=0.003798613091930747 ucc_loss=0.003798613091930747 ae_loss=0\n"
     ]
    },
    {
     "name": "stderr",
     "output_type": "stream",
     "text": [
      "  6%|▌         | 1110/20009 [06:40<2:02:23,  2.57it/s]"
     ]
    },
    {
     "name": "stdout",
     "output_type": "stream",
     "text": [
      "Step 61101, training: ucc_acc=1.0 weighted_loss=0.025446923449635506 ucc_loss=0.025446923449635506 ae_loss=0 eval: ucc_acc=1.0 weighted_loss=0.015983326360583305 ucc_loss=0.015983326360583305 ae_loss=0\n"
     ]
    },
    {
     "name": "stderr",
     "output_type": "stream",
     "text": [
      "  6%|▌         | 1120/20009 [06:44<1:51:48,  2.82it/s]"
     ]
    },
    {
     "name": "stdout",
     "output_type": "stream",
     "text": [
      "Step 61111, training: ucc_acc=1.0 weighted_loss=0.019356362521648407 ucc_loss=0.019356362521648407 ae_loss=0 eval: ucc_acc=0.9333333373069763 weighted_loss=0.16533485054969788 ucc_loss=0.16533485054969788 ae_loss=0\n"
     ]
    },
    {
     "name": "stderr",
     "output_type": "stream",
     "text": [
      "  6%|▌         | 1130/20009 [06:47<1:55:05,  2.73it/s]"
     ]
    },
    {
     "name": "stdout",
     "output_type": "stream",
     "text": [
      "Step 61121, training: ucc_acc=1.0 weighted_loss=0.00035720752202905715 ucc_loss=0.00035720752202905715 ae_loss=0 eval: ucc_acc=1.0 weighted_loss=0.007125226315110922 ucc_loss=0.007125226315110922 ae_loss=0\n"
     ]
    },
    {
     "name": "stderr",
     "output_type": "stream",
     "text": [
      "  6%|▌         | 1140/20009 [06:50<1:51:39,  2.82it/s]"
     ]
    },
    {
     "name": "stdout",
     "output_type": "stream",
     "text": [
      "Step 61131, training: ucc_acc=1.0 weighted_loss=0.0011129353661090136 ucc_loss=0.0011129353661090136 ae_loss=0 eval: ucc_acc=1.0 weighted_loss=0.022663919255137444 ucc_loss=0.022663919255137444 ae_loss=0\n"
     ]
    },
    {
     "name": "stderr",
     "output_type": "stream",
     "text": [
      "  6%|▌         | 1150/20009 [06:54<2:00:33,  2.61it/s]"
     ]
    },
    {
     "name": "stdout",
     "output_type": "stream",
     "text": [
      "Step 61141, training: ucc_acc=1.0 weighted_loss=0.007546501234173775 ucc_loss=0.007546501234173775 ae_loss=0 eval: ucc_acc=1.0 weighted_loss=0.013567255809903145 ucc_loss=0.013567255809903145 ae_loss=0\n"
     ]
    },
    {
     "name": "stderr",
     "output_type": "stream",
     "text": [
      "  6%|▌         | 1160/20009 [06:57<2:02:40,  2.56it/s]"
     ]
    },
    {
     "name": "stdout",
     "output_type": "stream",
     "text": [
      "Step 61151, training: ucc_acc=0.9333333373069763 weighted_loss=0.14032714068889618 ucc_loss=0.14032714068889618 ae_loss=0 eval: ucc_acc=1.0 weighted_loss=0.04603056237101555 ucc_loss=0.04603056237101555 ae_loss=0\n"
     ]
    },
    {
     "name": "stderr",
     "output_type": "stream",
     "text": [
      "  6%|▌         | 1170/20009 [07:01<2:23:18,  2.19it/s]"
     ]
    },
    {
     "name": "stdout",
     "output_type": "stream",
     "text": [
      "Step 61161, training: ucc_acc=1.0 weighted_loss=0.006564246024936438 ucc_loss=0.006564246024936438 ae_loss=0 eval: ucc_acc=1.0 weighted_loss=0.0010602265829220414 ucc_loss=0.0010602265829220414 ae_loss=0\n"
     ]
    },
    {
     "name": "stderr",
     "output_type": "stream",
     "text": [
      "  6%|▌         | 1180/20009 [07:05<2:17:27,  2.28it/s]"
     ]
    },
    {
     "name": "stdout",
     "output_type": "stream",
     "text": [
      "Step 61171, training: ucc_acc=1.0 weighted_loss=0.011116443201899529 ucc_loss=0.011116443201899529 ae_loss=0 eval: ucc_acc=1.0 weighted_loss=0.011611655354499817 ucc_loss=0.011611655354499817 ae_loss=0\n"
     ]
    },
    {
     "name": "stderr",
     "output_type": "stream",
     "text": [
      "  6%|▌         | 1190/20009 [07:10<2:28:06,  2.12it/s]"
     ]
    },
    {
     "name": "stdout",
     "output_type": "stream",
     "text": [
      "Step 61181, training: ucc_acc=1.0 weighted_loss=0.0383840911090374 ucc_loss=0.0383840911090374 ae_loss=0 eval: ucc_acc=1.0 weighted_loss=0.0003318820090498775 ucc_loss=0.0003318820090498775 ae_loss=0\n"
     ]
    },
    {
     "name": "stderr",
     "output_type": "stream",
     "text": [
      "  6%|▌         | 1200/20009 [07:14<2:19:24,  2.25it/s]"
     ]
    },
    {
     "name": "stdout",
     "output_type": "stream",
     "text": [
      "Step 61191, training: ucc_acc=1.0 weighted_loss=0.0008665444911457598 ucc_loss=0.0008665444911457598 ae_loss=0 eval: ucc_acc=1.0 weighted_loss=0.00013217426021583378 ucc_loss=0.00013217426021583378 ae_loss=0\n"
     ]
    },
    {
     "name": "stderr",
     "output_type": "stream",
     "text": [
      "  6%|▌         | 1210/20009 [07:18<3:16:12,  1.60it/s]"
     ]
    },
    {
     "name": "stdout",
     "output_type": "stream",
     "text": [
      "Step 61201, training: ucc_acc=0.9333333373069763 weighted_loss=0.2246743142604828 ucc_loss=0.2246743142604828 ae_loss=0 eval: ucc_acc=1.0 weighted_loss=0.004402349703013897 ucc_loss=0.004402349703013897 ae_loss=0\n"
     ]
    },
    {
     "name": "stderr",
     "output_type": "stream",
     "text": [
      "  6%|▌         | 1220/20009 [07:22<2:06:14,  2.48it/s]"
     ]
    },
    {
     "name": "stdout",
     "output_type": "stream",
     "text": [
      "Step 61211, training: ucc_acc=0.9333333373069763 weighted_loss=0.239580437541008 ucc_loss=0.239580437541008 ae_loss=0 eval: ucc_acc=0.9333333373069763 weighted_loss=0.05640927702188492 ucc_loss=0.05640927702188492 ae_loss=0\n"
     ]
    },
    {
     "name": "stderr",
     "output_type": "stream",
     "text": [
      "  6%|▌         | 1230/20009 [07:26<1:52:47,  2.77it/s]"
     ]
    },
    {
     "name": "stdout",
     "output_type": "stream",
     "text": [
      "Step 61221, training: ucc_acc=1.0 weighted_loss=0.0003369339683558792 ucc_loss=0.0003369339683558792 ae_loss=0 eval: ucc_acc=1.0 weighted_loss=0.015705937519669533 ucc_loss=0.015705937519669533 ae_loss=0\n"
     ]
    },
    {
     "name": "stderr",
     "output_type": "stream",
     "text": [
      "  6%|▌         | 1240/20009 [07:30<2:07:28,  2.45it/s]"
     ]
    },
    {
     "name": "stdout",
     "output_type": "stream",
     "text": [
      "Step 61231, training: ucc_acc=1.0 weighted_loss=0.04404137283563614 ucc_loss=0.04404137283563614 ae_loss=0 eval: ucc_acc=0.9333333373069763 weighted_loss=0.11193311214447021 ucc_loss=0.11193311214447021 ae_loss=0\n"
     ]
    },
    {
     "name": "stderr",
     "output_type": "stream",
     "text": [
      "  6%|▌         | 1250/20009 [07:34<2:16:29,  2.29it/s]"
     ]
    },
    {
     "name": "stdout",
     "output_type": "stream",
     "text": [
      "Step 61241, training: ucc_acc=1.0 weighted_loss=0.013431134633719921 ucc_loss=0.013431134633719921 ae_loss=0 eval: ucc_acc=1.0 weighted_loss=0.020549623295664787 ucc_loss=0.020549623295664787 ae_loss=0\n"
     ]
    },
    {
     "name": "stderr",
     "output_type": "stream",
     "text": [
      "  6%|▋         | 1260/20009 [07:37<2:03:48,  2.52it/s]"
     ]
    },
    {
     "name": "stdout",
     "output_type": "stream",
     "text": [
      "Step 61251, training: ucc_acc=0.9333333373069763 weighted_loss=0.07710544764995575 ucc_loss=0.07710544764995575 ae_loss=0 eval: ucc_acc=1.0 weighted_loss=0.010954336263239384 ucc_loss=0.010954336263239384 ae_loss=0\n"
     ]
    },
    {
     "name": "stderr",
     "output_type": "stream",
     "text": [
      "  6%|▋         | 1270/20009 [07:41<2:02:58,  2.54it/s]"
     ]
    },
    {
     "name": "stdout",
     "output_type": "stream",
     "text": [
      "Step 61261, training: ucc_acc=0.9333333373069763 weighted_loss=0.13986288011074066 ucc_loss=0.13986288011074066 ae_loss=0 eval: ucc_acc=1.0 weighted_loss=0.03834627568721771 ucc_loss=0.03834627568721771 ae_loss=0\n"
     ]
    },
    {
     "name": "stderr",
     "output_type": "stream",
     "text": [
      "  6%|▋         | 1280/20009 [07:45<2:25:32,  2.14it/s]"
     ]
    },
    {
     "name": "stdout",
     "output_type": "stream",
     "text": [
      "Step 61271, training: ucc_acc=1.0 weighted_loss=0.006196802016347647 ucc_loss=0.006196802016347647 ae_loss=0 eval: ucc_acc=0.9333333373069763 weighted_loss=0.1566602885723114 ucc_loss=0.1566602885723114 ae_loss=0\n"
     ]
    },
    {
     "name": "stderr",
     "output_type": "stream",
     "text": [
      "  6%|▋         | 1290/20009 [07:50<2:18:25,  2.25it/s]"
     ]
    },
    {
     "name": "stdout",
     "output_type": "stream",
     "text": [
      "Step 61281, training: ucc_acc=0.9333333373069763 weighted_loss=0.14164577424526215 ucc_loss=0.14164577424526215 ae_loss=0 eval: ucc_acc=0.9333333373069763 weighted_loss=0.17403820157051086 ucc_loss=0.17403820157051086 ae_loss=0\n"
     ]
    },
    {
     "name": "stderr",
     "output_type": "stream",
     "text": [
      "  6%|▋         | 1300/20009 [07:54<2:07:41,  2.44it/s]"
     ]
    },
    {
     "name": "stdout",
     "output_type": "stream",
     "text": [
      "Step 61291, training: ucc_acc=1.0 weighted_loss=0.017441147938370705 ucc_loss=0.017441147938370705 ae_loss=0 eval: ucc_acc=1.0 weighted_loss=0.006704605650156736 ucc_loss=0.006704605650156736 ae_loss=0\n"
     ]
    },
    {
     "name": "stderr",
     "output_type": "stream",
     "text": [
      "  7%|▋         | 1310/20009 [07:58<2:22:19,  2.19it/s]"
     ]
    },
    {
     "name": "stdout",
     "output_type": "stream",
     "text": [
      "Step 61301, training: ucc_acc=1.0 weighted_loss=0.008752303197979927 ucc_loss=0.008752303197979927 ae_loss=0 eval: ucc_acc=1.0 weighted_loss=0.0001593927590874955 ucc_loss=0.0001593927590874955 ae_loss=0\n"
     ]
    },
    {
     "name": "stderr",
     "output_type": "stream",
     "text": [
      "  7%|▋         | 1320/20009 [08:02<2:18:17,  2.25it/s]"
     ]
    },
    {
     "name": "stdout",
     "output_type": "stream",
     "text": [
      "Step 61311, training: ucc_acc=1.0 weighted_loss=0.020608145743608475 ucc_loss=0.020608145743608475 ae_loss=0 eval: ucc_acc=1.0 weighted_loss=0.006324179004877806 ucc_loss=0.006324179004877806 ae_loss=0\n"
     ]
    },
    {
     "name": "stderr",
     "output_type": "stream",
     "text": [
      "  7%|▋         | 1330/20009 [08:05<2:04:17,  2.50it/s]"
     ]
    },
    {
     "name": "stdout",
     "output_type": "stream",
     "text": [
      "Step 61321, training: ucc_acc=1.0 weighted_loss=0.0057334816083312035 ucc_loss=0.0057334816083312035 ae_loss=0 eval: ucc_acc=1.0 weighted_loss=0.00022243676357902586 ucc_loss=0.00022243676357902586 ae_loss=0\n"
     ]
    },
    {
     "name": "stderr",
     "output_type": "stream",
     "text": [
      "  7%|▋         | 1340/20009 [08:09<2:21:55,  2.19it/s]"
     ]
    },
    {
     "name": "stdout",
     "output_type": "stream",
     "text": [
      "Step 61331, training: ucc_acc=1.0 weighted_loss=0.0022780171129852533 ucc_loss=0.0022780171129852533 ae_loss=0 eval: ucc_acc=1.0 weighted_loss=0.00409443024545908 ucc_loss=0.00409443024545908 ae_loss=0\n"
     ]
    },
    {
     "name": "stderr",
     "output_type": "stream",
     "text": [
      "  7%|▋         | 1350/20009 [08:13<2:07:51,  2.43it/s]"
     ]
    },
    {
     "name": "stdout",
     "output_type": "stream",
     "text": [
      "Step 61341, training: ucc_acc=1.0 weighted_loss=0.008326574228703976 ucc_loss=0.008326574228703976 ae_loss=0 eval: ucc_acc=1.0 weighted_loss=0.0014014496700838208 ucc_loss=0.0014014496700838208 ae_loss=0\n"
     ]
    },
    {
     "name": "stderr",
     "output_type": "stream",
     "text": [
      "  7%|▋         | 1360/20009 [08:17<2:22:35,  2.18it/s]"
     ]
    },
    {
     "name": "stdout",
     "output_type": "stream",
     "text": [
      "Step 61351, training: ucc_acc=1.0 weighted_loss=0.0006932874675840139 ucc_loss=0.0006932874675840139 ae_loss=0 eval: ucc_acc=0.9333333373069763 weighted_loss=0.19606812298297882 ucc_loss=0.19606812298297882 ae_loss=0\n"
     ]
    },
    {
     "name": "stderr",
     "output_type": "stream",
     "text": [
      "  7%|▋         | 1370/20009 [08:21<1:50:25,  2.81it/s]"
     ]
    },
    {
     "name": "stdout",
     "output_type": "stream",
     "text": [
      "Step 61361, training: ucc_acc=1.0 weighted_loss=0.004521622788161039 ucc_loss=0.004521622788161039 ae_loss=0 eval: ucc_acc=1.0 weighted_loss=0.00779587822034955 ucc_loss=0.00779587822034955 ae_loss=0\n"
     ]
    },
    {
     "name": "stderr",
     "output_type": "stream",
     "text": [
      "  7%|▋         | 1380/20009 [08:24<2:04:08,  2.50it/s]"
     ]
    },
    {
     "name": "stdout",
     "output_type": "stream",
     "text": [
      "Step 61371, training: ucc_acc=1.0 weighted_loss=0.003088728990405798 ucc_loss=0.003088728990405798 ae_loss=0 eval: ucc_acc=1.0 weighted_loss=0.005310262553393841 ucc_loss=0.005310262553393841 ae_loss=0\n"
     ]
    },
    {
     "name": "stderr",
     "output_type": "stream",
     "text": [
      "  7%|▋         | 1390/20009 [08:27<1:54:14,  2.72it/s]"
     ]
    },
    {
     "name": "stdout",
     "output_type": "stream",
     "text": [
      "Step 61381, training: ucc_acc=1.0 weighted_loss=0.01497382391244173 ucc_loss=0.01497382391244173 ae_loss=0 eval: ucc_acc=1.0 weighted_loss=0.002779961097985506 ucc_loss=0.002779961097985506 ae_loss=0\n"
     ]
    },
    {
     "name": "stderr",
     "output_type": "stream",
     "text": [
      "  7%|▋         | 1400/20009 [08:31<1:52:07,  2.77it/s]"
     ]
    },
    {
     "name": "stdout",
     "output_type": "stream",
     "text": [
      "Step 61391, training: ucc_acc=0.9333333373069763 weighted_loss=0.25030791759490967 ucc_loss=0.25030791759490967 ae_loss=0 eval: ucc_acc=1.0 weighted_loss=0.013506795279681683 ucc_loss=0.013506795279681683 ae_loss=0\n"
     ]
    },
    {
     "name": "stderr",
     "output_type": "stream",
     "text": [
      "  7%|▋         | 1410/20009 [08:34<1:52:01,  2.77it/s]"
     ]
    },
    {
     "name": "stdout",
     "output_type": "stream",
     "text": [
      "Step 61401, training: ucc_acc=1.0 weighted_loss=0.0010237039532512426 ucc_loss=0.0010237039532512426 ae_loss=0 eval: ucc_acc=1.0 weighted_loss=0.049677774310112 ucc_loss=0.049677774310112 ae_loss=0\n"
     ]
    },
    {
     "name": "stderr",
     "output_type": "stream",
     "text": [
      "  7%|▋         | 1420/20009 [08:37<1:48:26,  2.86it/s]"
     ]
    },
    {
     "name": "stdout",
     "output_type": "stream",
     "text": [
      "Step 61411, training: ucc_acc=0.9333333373069763 weighted_loss=0.08458392322063446 ucc_loss=0.08458392322063446 ae_loss=0 eval: ucc_acc=0.8666666746139526 weighted_loss=0.20487859845161438 ucc_loss=0.20487859845161438 ae_loss=0\n"
     ]
    },
    {
     "name": "stderr",
     "output_type": "stream",
     "text": [
      "  7%|▋         | 1430/20009 [08:40<1:48:00,  2.87it/s]"
     ]
    },
    {
     "name": "stdout",
     "output_type": "stream",
     "text": [
      "Step 61421, training: ucc_acc=0.8666666746139526 weighted_loss=1.0429261922836304 ucc_loss=1.0429261922836304 ae_loss=0 eval: ucc_acc=0.9333333373069763 weighted_loss=0.2363247275352478 ucc_loss=0.2363247275352478 ae_loss=0\n"
     ]
    },
    {
     "name": "stderr",
     "output_type": "stream",
     "text": [
      "  7%|▋         | 1440/20009 [08:44<1:48:00,  2.87it/s]"
     ]
    },
    {
     "name": "stdout",
     "output_type": "stream",
     "text": [
      "Step 61431, training: ucc_acc=1.0 weighted_loss=0.04891756549477577 ucc_loss=0.04891756549477577 ae_loss=0 eval: ucc_acc=0.9333333373069763 weighted_loss=0.11654191464185715 ucc_loss=0.11654191464185715 ae_loss=0\n"
     ]
    },
    {
     "name": "stderr",
     "output_type": "stream",
     "text": [
      "  7%|▋         | 1450/20009 [08:47<1:46:38,  2.90it/s]"
     ]
    },
    {
     "name": "stdout",
     "output_type": "stream",
     "text": [
      "Step 61441, training: ucc_acc=1.0 weighted_loss=0.019596438854932785 ucc_loss=0.019596438854932785 ae_loss=0 eval: ucc_acc=0.9333333373069763 weighted_loss=0.11568711698055267 ucc_loss=0.11568711698055267 ae_loss=0\n"
     ]
    },
    {
     "name": "stderr",
     "output_type": "stream",
     "text": [
      "  7%|▋         | 1460/20009 [08:50<1:48:31,  2.85it/s]"
     ]
    },
    {
     "name": "stdout",
     "output_type": "stream",
     "text": [
      "Step 61451, training: ucc_acc=1.0 weighted_loss=0.015526366420090199 ucc_loss=0.015526366420090199 ae_loss=0 eval: ucc_acc=1.0 weighted_loss=0.003571606706827879 ucc_loss=0.003571606706827879 ae_loss=0\n"
     ]
    },
    {
     "name": "stderr",
     "output_type": "stream",
     "text": [
      "  7%|▋         | 1470/20009 [08:53<1:48:32,  2.85it/s]"
     ]
    },
    {
     "name": "stdout",
     "output_type": "stream",
     "text": [
      "Step 61461, training: ucc_acc=1.0 weighted_loss=0.004559347406029701 ucc_loss=0.004559347406029701 ae_loss=0 eval: ucc_acc=1.0 weighted_loss=0.0021501134615391493 ucc_loss=0.0021501134615391493 ae_loss=0\n"
     ]
    },
    {
     "name": "stderr",
     "output_type": "stream",
     "text": [
      "  7%|▋         | 1480/20009 [08:56<1:48:13,  2.85it/s]"
     ]
    },
    {
     "name": "stdout",
     "output_type": "stream",
     "text": [
      "Step 61471, training: ucc_acc=1.0 weighted_loss=0.018344463780522346 ucc_loss=0.018344463780522346 ae_loss=0 eval: ucc_acc=1.0 weighted_loss=0.008251640014350414 ucc_loss=0.008251640014350414 ae_loss=0\n"
     ]
    },
    {
     "name": "stderr",
     "output_type": "stream",
     "text": [
      "  7%|▋         | 1490/20009 [09:00<1:49:09,  2.83it/s]"
     ]
    },
    {
     "name": "stdout",
     "output_type": "stream",
     "text": [
      "Step 61481, training: ucc_acc=1.0 weighted_loss=0.04946806654334068 ucc_loss=0.04946806654334068 ae_loss=0 eval: ucc_acc=1.0 weighted_loss=0.013117218390107155 ucc_loss=0.013117218390107155 ae_loss=0\n"
     ]
    },
    {
     "name": "stderr",
     "output_type": "stream",
     "text": [
      "  7%|▋         | 1500/20009 [09:03<1:49:14,  2.82it/s]"
     ]
    },
    {
     "name": "stdout",
     "output_type": "stream",
     "text": [
      "Step 61491, training: ucc_acc=1.0 weighted_loss=0.012185206636786461 ucc_loss=0.012185206636786461 ae_loss=0 eval: ucc_acc=1.0 weighted_loss=0.024573558941483498 ucc_loss=0.024573558941483498 ae_loss=0\n"
     ]
    },
    {
     "name": "stderr",
     "output_type": "stream",
     "text": [
      "  8%|▊         | 1510/20009 [09:06<1:48:24,  2.84it/s]"
     ]
    },
    {
     "name": "stdout",
     "output_type": "stream",
     "text": [
      "Step 61501, training: ucc_acc=1.0 weighted_loss=0.00018346442084293813 ucc_loss=0.00018346442084293813 ae_loss=0 eval: ucc_acc=1.0 weighted_loss=0.0099812475964427 ucc_loss=0.0099812475964427 ae_loss=0\n"
     ]
    },
    {
     "name": "stderr",
     "output_type": "stream",
     "text": [
      "  8%|▊         | 1520/20009 [09:09<1:49:32,  2.81it/s]"
     ]
    },
    {
     "name": "stdout",
     "output_type": "stream",
     "text": [
      "Step 61511, training: ucc_acc=1.0 weighted_loss=0.0006722900434397161 ucc_loss=0.0006722900434397161 ae_loss=0 eval: ucc_acc=1.0 weighted_loss=0.017440419644117355 ucc_loss=0.017440419644117355 ae_loss=0\n"
     ]
    },
    {
     "name": "stderr",
     "output_type": "stream",
     "text": [
      "  8%|▊         | 1530/20009 [09:13<1:51:42,  2.76it/s]"
     ]
    },
    {
     "name": "stdout",
     "output_type": "stream",
     "text": [
      "Step 61521, training: ucc_acc=1.0 weighted_loss=0.02325867861509323 ucc_loss=0.02325867861509323 ae_loss=0 eval: ucc_acc=1.0 weighted_loss=0.017124271020293236 ucc_loss=0.017124271020293236 ae_loss=0\n"
     ]
    },
    {
     "name": "stderr",
     "output_type": "stream",
     "text": [
      "  8%|▊         | 1540/20009 [09:16<1:51:00,  2.77it/s]"
     ]
    },
    {
     "name": "stdout",
     "output_type": "stream",
     "text": [
      "Step 61531, training: ucc_acc=1.0 weighted_loss=0.007421035785228014 ucc_loss=0.007421035785228014 ae_loss=0 eval: ucc_acc=1.0 weighted_loss=0.005970996338874102 ucc_loss=0.005970996338874102 ae_loss=0\n"
     ]
    },
    {
     "name": "stderr",
     "output_type": "stream",
     "text": [
      "  8%|▊         | 1550/20009 [09:19<1:52:09,  2.74it/s]"
     ]
    },
    {
     "name": "stdout",
     "output_type": "stream",
     "text": [
      "Step 61541, training: ucc_acc=1.0 weighted_loss=0.028333889320492744 ucc_loss=0.028333889320492744 ae_loss=0 eval: ucc_acc=1.0 weighted_loss=0.013446960598230362 ucc_loss=0.013446960598230362 ae_loss=0\n"
     ]
    },
    {
     "name": "stderr",
     "output_type": "stream",
     "text": [
      "  8%|▊         | 1560/20009 [09:23<1:53:04,  2.72it/s]"
     ]
    },
    {
     "name": "stdout",
     "output_type": "stream",
     "text": [
      "Step 61551, training: ucc_acc=1.0 weighted_loss=0.0145295774564147 ucc_loss=0.0145295774564147 ae_loss=0 eval: ucc_acc=1.0 weighted_loss=0.010153943672776222 ucc_loss=0.010153943672776222 ae_loss=0\n"
     ]
    },
    {
     "name": "stderr",
     "output_type": "stream",
     "text": [
      "  8%|▊         | 1570/20009 [09:26<1:47:16,  2.86it/s]"
     ]
    },
    {
     "name": "stdout",
     "output_type": "stream",
     "text": [
      "Step 61561, training: ucc_acc=1.0 weighted_loss=0.013899242505431175 ucc_loss=0.013899242505431175 ae_loss=0 eval: ucc_acc=1.0 weighted_loss=0.00026185778551734984 ucc_loss=0.00026185778551734984 ae_loss=0\n"
     ]
    },
    {
     "name": "stderr",
     "output_type": "stream",
     "text": [
      "  8%|▊         | 1580/20009 [09:29<1:50:03,  2.79it/s]"
     ]
    },
    {
     "name": "stdout",
     "output_type": "stream",
     "text": [
      "Step 61571, training: ucc_acc=1.0 weighted_loss=0.023270022124052048 ucc_loss=0.023270022124052048 ae_loss=0 eval: ucc_acc=1.0 weighted_loss=0.025141622871160507 ucc_loss=0.025141622871160507 ae_loss=0\n"
     ]
    },
    {
     "name": "stderr",
     "output_type": "stream",
     "text": [
      "  8%|▊         | 1590/20009 [09:32<1:47:18,  2.86it/s]"
     ]
    },
    {
     "name": "stdout",
     "output_type": "stream",
     "text": [
      "Step 61581, training: ucc_acc=1.0 weighted_loss=0.00890943594276905 ucc_loss=0.00890943594276905 ae_loss=0 eval: ucc_acc=1.0 weighted_loss=0.026501735672354698 ucc_loss=0.026501735672354698 ae_loss=0\n"
     ]
    },
    {
     "name": "stderr",
     "output_type": "stream",
     "text": [
      "  8%|▊         | 1600/20009 [09:35<1:48:02,  2.84it/s]"
     ]
    },
    {
     "name": "stdout",
     "output_type": "stream",
     "text": [
      "Step 61591, training: ucc_acc=1.0 weighted_loss=0.020612461492419243 ucc_loss=0.020612461492419243 ae_loss=0 eval: ucc_acc=1.0 weighted_loss=0.013502826914191246 ucc_loss=0.013502826914191246 ae_loss=0\n"
     ]
    },
    {
     "name": "stderr",
     "output_type": "stream",
     "text": [
      "  8%|▊         | 1610/20009 [09:40<2:40:53,  1.91it/s]"
     ]
    },
    {
     "name": "stdout",
     "output_type": "stream",
     "text": [
      "Step 61601, training: ucc_acc=1.0 weighted_loss=0.029363686218857765 ucc_loss=0.029363686218857765 ae_loss=0 eval: ucc_acc=1.0 weighted_loss=0.035808876156806946 ucc_loss=0.035808876156806946 ae_loss=0\n"
     ]
    },
    {
     "name": "stderr",
     "output_type": "stream",
     "text": [
      "  8%|▊         | 1620/20009 [09:45<2:47:20,  1.83it/s]"
     ]
    },
    {
     "name": "stdout",
     "output_type": "stream",
     "text": [
      "Step 61611, training: ucc_acc=1.0 weighted_loss=0.0009906349005177617 ucc_loss=0.0009906349005177617 ae_loss=0 eval: ucc_acc=1.0 weighted_loss=0.007106841541826725 ucc_loss=0.007106841541826725 ae_loss=0\n"
     ]
    },
    {
     "name": "stderr",
     "output_type": "stream",
     "text": [
      "  8%|▊         | 1630/20009 [09:49<2:01:19,  2.52it/s]"
     ]
    },
    {
     "name": "stdout",
     "output_type": "stream",
     "text": [
      "Step 61621, training: ucc_acc=0.9333333373069763 weighted_loss=0.15056516230106354 ucc_loss=0.15056516230106354 ae_loss=0 eval: ucc_acc=1.0 weighted_loss=0.016677821055054665 ucc_loss=0.016677821055054665 ae_loss=0\n"
     ]
    },
    {
     "name": "stderr",
     "output_type": "stream",
     "text": [
      "  8%|▊         | 1640/20009 [09:52<1:48:09,  2.83it/s]"
     ]
    },
    {
     "name": "stdout",
     "output_type": "stream",
     "text": [
      "Step 61631, training: ucc_acc=1.0 weighted_loss=0.022302746772766113 ucc_loss=0.022302746772766113 ae_loss=0 eval: ucc_acc=1.0 weighted_loss=0.015155739150941372 ucc_loss=0.015155739150941372 ae_loss=0\n"
     ]
    },
    {
     "name": "stderr",
     "output_type": "stream",
     "text": [
      "  8%|▊         | 1650/20009 [09:55<1:52:07,  2.73it/s]"
     ]
    },
    {
     "name": "stdout",
     "output_type": "stream",
     "text": [
      "Step 61641, training: ucc_acc=1.0 weighted_loss=0.007790511008352041 ucc_loss=0.007790511008352041 ae_loss=0 eval: ucc_acc=0.9333333373069763 weighted_loss=0.20725654065608978 ucc_loss=0.20725654065608978 ae_loss=0\n"
     ]
    },
    {
     "name": "stderr",
     "output_type": "stream",
     "text": [
      "  8%|▊         | 1660/20009 [09:59<1:50:33,  2.77it/s]"
     ]
    },
    {
     "name": "stdout",
     "output_type": "stream",
     "text": [
      "Step 61651, training: ucc_acc=1.0 weighted_loss=0.0034277448430657387 ucc_loss=0.0034277448430657387 ae_loss=0 eval: ucc_acc=1.0 weighted_loss=0.013411385007202625 ucc_loss=0.013411385007202625 ae_loss=0\n"
     ]
    },
    {
     "name": "stderr",
     "output_type": "stream",
     "text": [
      "  8%|▊         | 1670/20009 [10:02<2:00:12,  2.54it/s]"
     ]
    },
    {
     "name": "stdout",
     "output_type": "stream",
     "text": [
      "Step 61661, training: ucc_acc=1.0 weighted_loss=0.01187975239008665 ucc_loss=0.01187975239008665 ae_loss=0 eval: ucc_acc=1.0 weighted_loss=0.024098342284560204 ucc_loss=0.024098342284560204 ae_loss=0\n"
     ]
    },
    {
     "name": "stderr",
     "output_type": "stream",
     "text": [
      "  8%|▊         | 1680/20009 [10:05<1:49:08,  2.80it/s]"
     ]
    },
    {
     "name": "stdout",
     "output_type": "stream",
     "text": [
      "Step 61671, training: ucc_acc=1.0 weighted_loss=0.021062275394797325 ucc_loss=0.021062275394797325 ae_loss=0 eval: ucc_acc=1.0 weighted_loss=0.020848941057920456 ucc_loss=0.020848941057920456 ae_loss=0\n"
     ]
    },
    {
     "name": "stderr",
     "output_type": "stream",
     "text": [
      "  8%|▊         | 1690/20009 [10:09<1:47:01,  2.85it/s]"
     ]
    },
    {
     "name": "stdout",
     "output_type": "stream",
     "text": [
      "Step 61681, training: ucc_acc=0.9333333373069763 weighted_loss=0.08428367227315903 ucc_loss=0.08428367227315903 ae_loss=0 eval: ucc_acc=0.9333333373069763 weighted_loss=0.17600074410438538 ucc_loss=0.17600074410438538 ae_loss=0\n"
     ]
    },
    {
     "name": "stderr",
     "output_type": "stream",
     "text": [
      "  8%|▊         | 1700/20009 [10:12<1:48:22,  2.82it/s]"
     ]
    },
    {
     "name": "stdout",
     "output_type": "stream",
     "text": [
      "Step 61691, training: ucc_acc=1.0 weighted_loss=0.008739215321838856 ucc_loss=0.008739215321838856 ae_loss=0 eval: ucc_acc=1.0 weighted_loss=0.0062787290662527084 ucc_loss=0.0062787290662527084 ae_loss=0\n"
     ]
    },
    {
     "name": "stderr",
     "output_type": "stream",
     "text": [
      "  9%|▊         | 1710/20009 [10:15<1:46:21,  2.87it/s]"
     ]
    },
    {
     "name": "stdout",
     "output_type": "stream",
     "text": [
      "Step 61701, training: ucc_acc=1.0 weighted_loss=0.0034358464181423187 ucc_loss=0.0034358464181423187 ae_loss=0 eval: ucc_acc=1.0 weighted_loss=0.012790224514901638 ucc_loss=0.012790224514901638 ae_loss=0\n"
     ]
    },
    {
     "name": "stderr",
     "output_type": "stream",
     "text": [
      "  9%|▊         | 1720/20009 [10:18<1:50:04,  2.77it/s]"
     ]
    },
    {
     "name": "stdout",
     "output_type": "stream",
     "text": [
      "Step 61711, training: ucc_acc=1.0 weighted_loss=0.007742070127278566 ucc_loss=0.007742070127278566 ae_loss=0 eval: ucc_acc=1.0 weighted_loss=0.006725315935909748 ucc_loss=0.006725315935909748 ae_loss=0\n"
     ]
    },
    {
     "name": "stderr",
     "output_type": "stream",
     "text": [
      "  9%|▊         | 1730/20009 [10:21<1:47:46,  2.83it/s]"
     ]
    },
    {
     "name": "stdout",
     "output_type": "stream",
     "text": [
      "Step 61721, training: ucc_acc=1.0 weighted_loss=0.0060485173016786575 ucc_loss=0.0060485173016786575 ae_loss=0 eval: ucc_acc=1.0 weighted_loss=0.006223780568689108 ucc_loss=0.006223780568689108 ae_loss=0\n"
     ]
    },
    {
     "name": "stderr",
     "output_type": "stream",
     "text": [
      "  9%|▊         | 1740/20009 [10:25<1:51:06,  2.74it/s]"
     ]
    },
    {
     "name": "stdout",
     "output_type": "stream",
     "text": [
      "Step 61731, training: ucc_acc=1.0 weighted_loss=0.004114791285246611 ucc_loss=0.004114791285246611 ae_loss=0 eval: ucc_acc=1.0 weighted_loss=0.001592148095369339 ucc_loss=0.001592148095369339 ae_loss=0\n"
     ]
    },
    {
     "name": "stderr",
     "output_type": "stream",
     "text": [
      "  9%|▊         | 1750/20009 [10:28<1:47:28,  2.83it/s]"
     ]
    },
    {
     "name": "stdout",
     "output_type": "stream",
     "text": [
      "Step 61741, training: ucc_acc=1.0 weighted_loss=0.00775305088609457 ucc_loss=0.00775305088609457 ae_loss=0 eval: ucc_acc=1.0 weighted_loss=0.015713699162006378 ucc_loss=0.015713699162006378 ae_loss=0\n"
     ]
    },
    {
     "name": "stderr",
     "output_type": "stream",
     "text": [
      "  9%|▉         | 1760/20009 [10:31<1:50:51,  2.74it/s]"
     ]
    },
    {
     "name": "stdout",
     "output_type": "stream",
     "text": [
      "Step 61751, training: ucc_acc=1.0 weighted_loss=0.0001687566691543907 ucc_loss=0.0001687566691543907 ae_loss=0 eval: ucc_acc=0.9333333373069763 weighted_loss=0.10654782503843307 ucc_loss=0.10654782503843307 ae_loss=0\n"
     ]
    },
    {
     "name": "stderr",
     "output_type": "stream",
     "text": [
      "  9%|▉         | 1770/20009 [10:34<1:47:20,  2.83it/s]"
     ]
    },
    {
     "name": "stdout",
     "output_type": "stream",
     "text": [
      "Step 61761, training: ucc_acc=1.0 weighted_loss=0.0007477422477677464 ucc_loss=0.0007477422477677464 ae_loss=0 eval: ucc_acc=0.9333333373069763 weighted_loss=0.20021820068359375 ucc_loss=0.20021820068359375 ae_loss=0\n"
     ]
    },
    {
     "name": "stderr",
     "output_type": "stream",
     "text": [
      "  9%|▉         | 1780/20009 [10:38<2:01:31,  2.50it/s]"
     ]
    },
    {
     "name": "stdout",
     "output_type": "stream",
     "text": [
      "Step 61771, training: ucc_acc=1.0 weighted_loss=0.0009149924153462052 ucc_loss=0.0009149924153462052 ae_loss=0 eval: ucc_acc=1.0 weighted_loss=0.003731305478140712 ucc_loss=0.003731305478140712 ae_loss=0\n"
     ]
    },
    {
     "name": "stderr",
     "output_type": "stream",
     "text": [
      "  9%|▉         | 1790/20009 [10:41<1:48:29,  2.80it/s]"
     ]
    },
    {
     "name": "stdout",
     "output_type": "stream",
     "text": [
      "Step 61781, training: ucc_acc=1.0 weighted_loss=0.008075102232396603 ucc_loss=0.008075102232396603 ae_loss=0 eval: ucc_acc=1.0 weighted_loss=0.0351422019302845 ucc_loss=0.0351422019302845 ae_loss=0\n"
     ]
    },
    {
     "name": "stderr",
     "output_type": "stream",
     "text": [
      "  9%|▉         | 1800/20009 [10:44<1:46:17,  2.86it/s]"
     ]
    },
    {
     "name": "stdout",
     "output_type": "stream",
     "text": [
      "Step 61791, training: ucc_acc=1.0 weighted_loss=0.01205495372414589 ucc_loss=0.01205495372414589 ae_loss=0 eval: ucc_acc=1.0 weighted_loss=0.004705301020294428 ucc_loss=0.004705301020294428 ae_loss=0\n"
     ]
    },
    {
     "name": "stderr",
     "output_type": "stream",
     "text": [
      "  9%|▉         | 1810/20009 [10:47<1:47:30,  2.82it/s]"
     ]
    },
    {
     "name": "stdout",
     "output_type": "stream",
     "text": [
      "Step 61801, training: ucc_acc=1.0 weighted_loss=0.010177028365433216 ucc_loss=0.010177028365433216 ae_loss=0 eval: ucc_acc=1.0 weighted_loss=4.693955634138547e-05 ucc_loss=4.693955634138547e-05 ae_loss=0\n"
     ]
    },
    {
     "name": "stderr",
     "output_type": "stream",
     "text": [
      "  9%|▉         | 1820/20009 [10:51<1:49:04,  2.78it/s]"
     ]
    },
    {
     "name": "stdout",
     "output_type": "stream",
     "text": [
      "Step 61811, training: ucc_acc=1.0 weighted_loss=0.021593375131487846 ucc_loss=0.021593375131487846 ae_loss=0 eval: ucc_acc=1.0 weighted_loss=0.023623760789632797 ucc_loss=0.023623760789632797 ae_loss=0\n"
     ]
    },
    {
     "name": "stderr",
     "output_type": "stream",
     "text": [
      "  9%|▉         | 1830/20009 [10:54<1:47:53,  2.81it/s]"
     ]
    },
    {
     "name": "stdout",
     "output_type": "stream",
     "text": [
      "Step 61821, training: ucc_acc=1.0 weighted_loss=0.02177106775343418 ucc_loss=0.02177106775343418 ae_loss=0 eval: ucc_acc=1.0 weighted_loss=0.0005037232767790556 ucc_loss=0.0005037232767790556 ae_loss=0\n"
     ]
    },
    {
     "name": "stderr",
     "output_type": "stream",
     "text": [
      "  9%|▉         | 1840/20009 [10:57<1:49:15,  2.77it/s]"
     ]
    },
    {
     "name": "stdout",
     "output_type": "stream",
     "text": [
      "Step 61831, training: ucc_acc=1.0 weighted_loss=0.0007258662371896207 ucc_loss=0.0007258662371896207 ae_loss=0 eval: ucc_acc=1.0 weighted_loss=0.014006285928189754 ucc_loss=0.014006285928189754 ae_loss=0\n"
     ]
    },
    {
     "name": "stderr",
     "output_type": "stream",
     "text": [
      "  9%|▉         | 1850/20009 [11:01<1:48:16,  2.80it/s]"
     ]
    },
    {
     "name": "stdout",
     "output_type": "stream",
     "text": [
      "Step 61841, training: ucc_acc=1.0 weighted_loss=0.0063343713991343975 ucc_loss=0.0063343713991343975 ae_loss=0 eval: ucc_acc=1.0 weighted_loss=0.014245575293898582 ucc_loss=0.014245575293898582 ae_loss=0\n"
     ]
    },
    {
     "name": "stderr",
     "output_type": "stream",
     "text": [
      "  9%|▉         | 1860/20009 [11:04<1:48:57,  2.78it/s]"
     ]
    },
    {
     "name": "stdout",
     "output_type": "stream",
     "text": [
      "Step 61851, training: ucc_acc=1.0 weighted_loss=0.010265940800309181 ucc_loss=0.010265940800309181 ae_loss=0 eval: ucc_acc=1.0 weighted_loss=0.02062409371137619 ucc_loss=0.02062409371137619 ae_loss=0\n"
     ]
    },
    {
     "name": "stderr",
     "output_type": "stream",
     "text": [
      "  9%|▉         | 1870/20009 [11:07<1:47:58,  2.80it/s]"
     ]
    },
    {
     "name": "stdout",
     "output_type": "stream",
     "text": [
      "Step 61861, training: ucc_acc=1.0 weighted_loss=0.0008539410773664713 ucc_loss=0.0008539410773664713 ae_loss=0 eval: ucc_acc=1.0 weighted_loss=0.003452344797551632 ucc_loss=0.003452344797551632 ae_loss=0\n"
     ]
    },
    {
     "name": "stderr",
     "output_type": "stream",
     "text": [
      "  9%|▉         | 1880/20009 [11:10<1:46:24,  2.84it/s]"
     ]
    },
    {
     "name": "stdout",
     "output_type": "stream",
     "text": [
      "Step 61871, training: ucc_acc=1.0 weighted_loss=0.016178252175450325 ucc_loss=0.016178252175450325 ae_loss=0 eval: ucc_acc=1.0 weighted_loss=0.009622668847441673 ucc_loss=0.009622668847441673 ae_loss=0\n"
     ]
    },
    {
     "name": "stderr",
     "output_type": "stream",
     "text": [
      "  9%|▉         | 1890/20009 [11:14<1:48:25,  2.79it/s]"
     ]
    },
    {
     "name": "stdout",
     "output_type": "stream",
     "text": [
      "Step 61881, training: ucc_acc=1.0 weighted_loss=0.005494864657521248 ucc_loss=0.005494864657521248 ae_loss=0 eval: ucc_acc=1.0 weighted_loss=0.01923803612589836 ucc_loss=0.01923803612589836 ae_loss=0\n"
     ]
    },
    {
     "name": "stderr",
     "output_type": "stream",
     "text": [
      "  9%|▉         | 1900/20009 [11:17<1:46:08,  2.84it/s]"
     ]
    },
    {
     "name": "stdout",
     "output_type": "stream",
     "text": [
      "Step 61891, training: ucc_acc=1.0 weighted_loss=0.01357494480907917 ucc_loss=0.01357494480907917 ae_loss=0 eval: ucc_acc=1.0 weighted_loss=0.00014383249799720943 ucc_loss=0.00014383249799720943 ae_loss=0\n"
     ]
    },
    {
     "name": "stderr",
     "output_type": "stream",
     "text": [
      " 10%|▉         | 1910/20009 [11:20<1:46:59,  2.82it/s]"
     ]
    },
    {
     "name": "stdout",
     "output_type": "stream",
     "text": [
      "Step 61901, training: ucc_acc=1.0 weighted_loss=0.0010618402156978846 ucc_loss=0.0010618402156978846 ae_loss=0 eval: ucc_acc=1.0 weighted_loss=0.007418417371809483 ucc_loss=0.007418417371809483 ae_loss=0\n"
     ]
    },
    {
     "name": "stderr",
     "output_type": "stream",
     "text": [
      " 10%|▉         | 1920/20009 [11:23<1:46:57,  2.82it/s]"
     ]
    },
    {
     "name": "stdout",
     "output_type": "stream",
     "text": [
      "Step 61911, training: ucc_acc=0.8666666746139526 weighted_loss=0.5104208588600159 ucc_loss=0.5104208588600159 ae_loss=0 eval: ucc_acc=1.0 weighted_loss=0.013107063248753548 ucc_loss=0.013107063248753548 ae_loss=0\n"
     ]
    },
    {
     "name": "stderr",
     "output_type": "stream",
     "text": [
      " 10%|▉         | 1930/20009 [11:27<1:51:00,  2.71it/s]"
     ]
    },
    {
     "name": "stdout",
     "output_type": "stream",
     "text": [
      "Step 61921, training: ucc_acc=1.0 weighted_loss=0.05119527131319046 ucc_loss=0.05119527131319046 ae_loss=0 eval: ucc_acc=1.0 weighted_loss=0.00322584412060678 ucc_loss=0.00322584412060678 ae_loss=0\n"
     ]
    },
    {
     "name": "stderr",
     "output_type": "stream",
     "text": [
      " 10%|▉         | 1940/20009 [11:30<1:51:05,  2.71it/s]"
     ]
    },
    {
     "name": "stdout",
     "output_type": "stream",
     "text": [
      "Step 61931, training: ucc_acc=1.0 weighted_loss=0.02916587144136429 ucc_loss=0.02916587144136429 ae_loss=0 eval: ucc_acc=1.0 weighted_loss=5.104205047246069e-05 ucc_loss=5.104205047246069e-05 ae_loss=0\n"
     ]
    },
    {
     "name": "stderr",
     "output_type": "stream",
     "text": [
      " 10%|▉         | 1950/20009 [11:33<1:47:00,  2.81it/s]"
     ]
    },
    {
     "name": "stdout",
     "output_type": "stream",
     "text": [
      "Step 61941, training: ucc_acc=1.0 weighted_loss=0.006687777582556009 ucc_loss=0.006687777582556009 ae_loss=0 eval: ucc_acc=1.0 weighted_loss=0.01482113916426897 ucc_loss=0.01482113916426897 ae_loss=0\n"
     ]
    },
    {
     "name": "stderr",
     "output_type": "stream",
     "text": [
      " 10%|▉         | 1960/20009 [11:36<1:45:48,  2.84it/s]"
     ]
    },
    {
     "name": "stdout",
     "output_type": "stream",
     "text": [
      "Step 61951, training: ucc_acc=0.9333333373069763 weighted_loss=0.16847968101501465 ucc_loss=0.16847968101501465 ae_loss=0 eval: ucc_acc=1.0 weighted_loss=0.037059567868709564 ucc_loss=0.037059567868709564 ae_loss=0\n"
     ]
    },
    {
     "name": "stderr",
     "output_type": "stream",
     "text": [
      " 10%|▉         | 1970/20009 [11:40<1:47:37,  2.79it/s]"
     ]
    },
    {
     "name": "stdout",
     "output_type": "stream",
     "text": [
      "Step 61961, training: ucc_acc=1.0 weighted_loss=0.007886585779488087 ucc_loss=0.007886585779488087 ae_loss=0 eval: ucc_acc=1.0 weighted_loss=0.020882030948996544 ucc_loss=0.020882030948996544 ae_loss=0\n"
     ]
    },
    {
     "name": "stderr",
     "output_type": "stream",
     "text": [
      " 10%|▉         | 1980/20009 [11:43<1:45:49,  2.84it/s]"
     ]
    },
    {
     "name": "stdout",
     "output_type": "stream",
     "text": [
      "Step 61971, training: ucc_acc=0.9333333373069763 weighted_loss=0.16398170590400696 ucc_loss=0.16398170590400696 ae_loss=0 eval: ucc_acc=1.0 weighted_loss=0.009187096729874611 ucc_loss=0.009187096729874611 ae_loss=0\n"
     ]
    },
    {
     "name": "stderr",
     "output_type": "stream",
     "text": [
      " 10%|▉         | 1990/20009 [11:46<1:46:19,  2.82it/s]"
     ]
    },
    {
     "name": "stdout",
     "output_type": "stream",
     "text": [
      "Step 61981, training: ucc_acc=1.0 weighted_loss=0.00025805775658227503 ucc_loss=0.00025805775658227503 ae_loss=0 eval: ucc_acc=1.0 weighted_loss=0.00900947954505682 ucc_loss=0.00900947954505682 ae_loss=0\n"
     ]
    },
    {
     "name": "stderr",
     "output_type": "stream",
     "text": [
      " 10%|▉         | 2000/20009 [11:49<1:49:16,  2.75it/s]"
     ]
    },
    {
     "name": "stdout",
     "output_type": "stream",
     "text": [
      "Step 61991, training: ucc_acc=0.9333333373069763 weighted_loss=0.16983634233474731 ucc_loss=0.16983634233474731 ae_loss=0 eval: ucc_acc=1.0 weighted_loss=0.001982511719688773 ucc_loss=0.001982511719688773 ae_loss=0\n"
     ]
    },
    {
     "name": "stderr",
     "output_type": "stream",
     "text": [
      " 10%|█         | 2010/20009 [11:53<1:47:45,  2.78it/s]"
     ]
    },
    {
     "name": "stdout",
     "output_type": "stream",
     "text": [
      "Step 62001, training: ucc_acc=1.0 weighted_loss=0.014434403739869595 ucc_loss=0.014434403739869595 ae_loss=0 eval: ucc_acc=1.0 weighted_loss=0.027785656973719597 ucc_loss=0.027785656973719597 ae_loss=0\n"
     ]
    },
    {
     "name": "stderr",
     "output_type": "stream",
     "text": [
      " 10%|█         | 2020/20009 [11:56<1:44:38,  2.87it/s]"
     ]
    },
    {
     "name": "stdout",
     "output_type": "stream",
     "text": [
      "Step 62011, training: ucc_acc=1.0 weighted_loss=0.011376891285181046 ucc_loss=0.011376891285181046 ae_loss=0 eval: ucc_acc=1.0 weighted_loss=8.376195910386741e-05 ucc_loss=8.376195910386741e-05 ae_loss=0\n"
     ]
    },
    {
     "name": "stderr",
     "output_type": "stream",
     "text": [
      " 10%|█         | 2030/20009 [11:59<1:46:44,  2.81it/s]"
     ]
    },
    {
     "name": "stdout",
     "output_type": "stream",
     "text": [
      "Step 62021, training: ucc_acc=1.0 weighted_loss=0.007342541124671698 ucc_loss=0.007342541124671698 ae_loss=0 eval: ucc_acc=1.0 weighted_loss=0.018341396003961563 ucc_loss=0.018341396003961563 ae_loss=0\n"
     ]
    },
    {
     "name": "stderr",
     "output_type": "stream",
     "text": [
      " 10%|█         | 2040/20009 [12:02<1:47:11,  2.79it/s]"
     ]
    },
    {
     "name": "stdout",
     "output_type": "stream",
     "text": [
      "Step 62031, training: ucc_acc=1.0 weighted_loss=0.002496484899893403 ucc_loss=0.002496484899893403 ae_loss=0 eval: ucc_acc=1.0 weighted_loss=0.0006517469300888479 ucc_loss=0.0006517469300888479 ae_loss=0\n"
     ]
    },
    {
     "name": "stderr",
     "output_type": "stream",
     "text": [
      " 10%|█         | 2050/20009 [12:05<1:47:03,  2.80it/s]"
     ]
    },
    {
     "name": "stdout",
     "output_type": "stream",
     "text": [
      "Step 62041, training: ucc_acc=1.0 weighted_loss=0.018818985670804977 ucc_loss=0.018818985670804977 ae_loss=0 eval: ucc_acc=1.0 weighted_loss=0.05476550757884979 ucc_loss=0.05476550757884979 ae_loss=0\n"
     ]
    },
    {
     "name": "stderr",
     "output_type": "stream",
     "text": [
      " 10%|█         | 2060/20009 [12:09<1:47:26,  2.78it/s]"
     ]
    },
    {
     "name": "stdout",
     "output_type": "stream",
     "text": [
      "Step 62051, training: ucc_acc=1.0 weighted_loss=0.01289546862244606 ucc_loss=0.01289546862244606 ae_loss=0 eval: ucc_acc=1.0 weighted_loss=0.035281307995319366 ucc_loss=0.035281307995319366 ae_loss=0\n"
     ]
    },
    {
     "name": "stderr",
     "output_type": "stream",
     "text": [
      " 10%|█         | 2070/20009 [12:12<1:46:01,  2.82it/s]"
     ]
    },
    {
     "name": "stdout",
     "output_type": "stream",
     "text": [
      "Step 62061, training: ucc_acc=1.0 weighted_loss=0.008792916312813759 ucc_loss=0.008792916312813759 ae_loss=0 eval: ucc_acc=1.0 weighted_loss=0.0014212788082659245 ucc_loss=0.0014212788082659245 ae_loss=0\n"
     ]
    },
    {
     "name": "stderr",
     "output_type": "stream",
     "text": [
      " 10%|█         | 2080/20009 [12:15<1:48:46,  2.75it/s]"
     ]
    },
    {
     "name": "stdout",
     "output_type": "stream",
     "text": [
      "Step 62071, training: ucc_acc=1.0 weighted_loss=0.0154491625726223 ucc_loss=0.0154491625726223 ae_loss=0 eval: ucc_acc=1.0 weighted_loss=0.004685766529291868 ucc_loss=0.004685766529291868 ae_loss=0\n"
     ]
    },
    {
     "name": "stderr",
     "output_type": "stream",
     "text": [
      " 10%|█         | 2090/20009 [12:18<1:45:35,  2.83it/s]"
     ]
    },
    {
     "name": "stdout",
     "output_type": "stream",
     "text": [
      "Step 62081, training: ucc_acc=1.0 weighted_loss=0.0075937905348837376 ucc_loss=0.0075937905348837376 ae_loss=0 eval: ucc_acc=1.0 weighted_loss=0.006191995460540056 ucc_loss=0.006191995460540056 ae_loss=0\n"
     ]
    },
    {
     "name": "stderr",
     "output_type": "stream",
     "text": [
      " 10%|█         | 2100/20009 [12:22<1:44:27,  2.86it/s]"
     ]
    },
    {
     "name": "stdout",
     "output_type": "stream",
     "text": [
      "Step 62091, training: ucc_acc=1.0 weighted_loss=0.01462114229798317 ucc_loss=0.01462114229798317 ae_loss=0 eval: ucc_acc=0.8666666746139526 weighted_loss=0.27498677372932434 ucc_loss=0.27498677372932434 ae_loss=0\n"
     ]
    },
    {
     "name": "stderr",
     "output_type": "stream",
     "text": [
      " 11%|█         | 2110/20009 [12:25<1:48:42,  2.74it/s]"
     ]
    },
    {
     "name": "stdout",
     "output_type": "stream",
     "text": [
      "Step 62101, training: ucc_acc=1.0 weighted_loss=0.01078049186617136 ucc_loss=0.01078049186617136 ae_loss=0 eval: ucc_acc=1.0 weighted_loss=0.033449094742536545 ucc_loss=0.033449094742536545 ae_loss=0\n"
     ]
    },
    {
     "name": "stderr",
     "output_type": "stream",
     "text": [
      " 11%|█         | 2120/20009 [12:28<1:45:33,  2.82it/s]"
     ]
    },
    {
     "name": "stdout",
     "output_type": "stream",
     "text": [
      "Step 62111, training: ucc_acc=1.0 weighted_loss=0.007358602713793516 ucc_loss=0.007358602713793516 ae_loss=0 eval: ucc_acc=1.0 weighted_loss=0.013294226489961147 ucc_loss=0.013294226489961147 ae_loss=0\n"
     ]
    },
    {
     "name": "stderr",
     "output_type": "stream",
     "text": [
      " 11%|█         | 2130/20009 [12:31<1:44:08,  2.86it/s]"
     ]
    },
    {
     "name": "stdout",
     "output_type": "stream",
     "text": [
      "Step 62121, training: ucc_acc=1.0 weighted_loss=0.015684016048908234 ucc_loss=0.015684016048908234 ae_loss=0 eval: ucc_acc=1.0 weighted_loss=0.0009297319338656962 ucc_loss=0.0009297319338656962 ae_loss=0\n"
     ]
    },
    {
     "name": "stderr",
     "output_type": "stream",
     "text": [
      " 11%|█         | 2140/20009 [12:35<1:45:22,  2.83it/s]"
     ]
    },
    {
     "name": "stdout",
     "output_type": "stream",
     "text": [
      "Step 62131, training: ucc_acc=1.0 weighted_loss=0.005308612249791622 ucc_loss=0.005308612249791622 ae_loss=0 eval: ucc_acc=1.0 weighted_loss=0.00409091729670763 ucc_loss=0.00409091729670763 ae_loss=0\n"
     ]
    },
    {
     "name": "stderr",
     "output_type": "stream",
     "text": [
      " 11%|█         | 2150/20009 [12:38<1:44:39,  2.84it/s]"
     ]
    },
    {
     "name": "stdout",
     "output_type": "stream",
     "text": [
      "Step 62141, training: ucc_acc=1.0 weighted_loss=0.016770152375102043 ucc_loss=0.016770152375102043 ae_loss=0 eval: ucc_acc=1.0 weighted_loss=0.021547682583332062 ucc_loss=0.021547682583332062 ae_loss=0\n"
     ]
    },
    {
     "name": "stderr",
     "output_type": "stream",
     "text": [
      " 11%|█         | 2160/20009 [12:41<1:45:08,  2.83it/s]"
     ]
    },
    {
     "name": "stdout",
     "output_type": "stream",
     "text": [
      "Step 62151, training: ucc_acc=1.0 weighted_loss=0.007758500520139933 ucc_loss=0.007758500520139933 ae_loss=0 eval: ucc_acc=1.0 weighted_loss=0.010380561463534832 ucc_loss=0.010380561463534832 ae_loss=0\n"
     ]
    },
    {
     "name": "stderr",
     "output_type": "stream",
     "text": [
      " 11%|█         | 2170/20009 [12:44<1:48:59,  2.73it/s]"
     ]
    },
    {
     "name": "stdout",
     "output_type": "stream",
     "text": [
      "Step 62161, training: ucc_acc=1.0 weighted_loss=0.009448395110666752 ucc_loss=0.009448395110666752 ae_loss=0 eval: ucc_acc=1.0 weighted_loss=0.013480170629918575 ucc_loss=0.013480170629918575 ae_loss=0\n"
     ]
    },
    {
     "name": "stderr",
     "output_type": "stream",
     "text": [
      " 11%|█         | 2180/20009 [12:48<1:49:01,  2.73it/s]"
     ]
    },
    {
     "name": "stdout",
     "output_type": "stream",
     "text": [
      "Step 62171, training: ucc_acc=1.0 weighted_loss=0.008592876605689526 ucc_loss=0.008592876605689526 ae_loss=0 eval: ucc_acc=1.0 weighted_loss=0.009211449883878231 ucc_loss=0.009211449883878231 ae_loss=0\n"
     ]
    },
    {
     "name": "stderr",
     "output_type": "stream",
     "text": [
      " 11%|█         | 2190/20009 [12:51<1:46:42,  2.78it/s]"
     ]
    },
    {
     "name": "stdout",
     "output_type": "stream",
     "text": [
      "Step 62181, training: ucc_acc=1.0 weighted_loss=6.589401891687885e-05 ucc_loss=6.589401891687885e-05 ae_loss=0 eval: ucc_acc=1.0 weighted_loss=0.028401631861925125 ucc_loss=0.028401631861925125 ae_loss=0\n"
     ]
    },
    {
     "name": "stderr",
     "output_type": "stream",
     "text": [
      " 11%|█         | 2200/20009 [12:54<1:46:48,  2.78it/s]"
     ]
    },
    {
     "name": "stdout",
     "output_type": "stream",
     "text": [
      "Step 62191, training: ucc_acc=1.0 weighted_loss=0.022606706246733665 ucc_loss=0.022606706246733665 ae_loss=0 eval: ucc_acc=1.0 weighted_loss=0.009149283170700073 ucc_loss=0.009149283170700073 ae_loss=0\n"
     ]
    },
    {
     "name": "stderr",
     "output_type": "stream",
     "text": [
      " 11%|█         | 2210/20009 [12:57<1:42:37,  2.89it/s]"
     ]
    },
    {
     "name": "stdout",
     "output_type": "stream",
     "text": [
      "Step 62201, training: ucc_acc=1.0 weighted_loss=0.03966516628861427 ucc_loss=0.03966516628861427 ae_loss=0 eval: ucc_acc=0.9333333373069763 weighted_loss=0.2222302109003067 ucc_loss=0.2222302109003067 ae_loss=0\n"
     ]
    },
    {
     "name": "stderr",
     "output_type": "stream",
     "text": [
      " 11%|█         | 2220/20009 [13:01<1:46:31,  2.78it/s]"
     ]
    },
    {
     "name": "stdout",
     "output_type": "stream",
     "text": [
      "Step 62211, training: ucc_acc=1.0 weighted_loss=0.014213831163942814 ucc_loss=0.014213831163942814 ae_loss=0 eval: ucc_acc=1.0 weighted_loss=0.0280049629509449 ucc_loss=0.0280049629509449 ae_loss=0\n"
     ]
    },
    {
     "name": "stderr",
     "output_type": "stream",
     "text": [
      " 11%|█         | 2230/20009 [13:04<1:44:13,  2.84it/s]"
     ]
    },
    {
     "name": "stdout",
     "output_type": "stream",
     "text": [
      "Step 62221, training: ucc_acc=1.0 weighted_loss=0.018340034410357475 ucc_loss=0.018340034410357475 ae_loss=0 eval: ucc_acc=1.0 weighted_loss=0.021973203867673874 ucc_loss=0.021973203867673874 ae_loss=0\n"
     ]
    },
    {
     "name": "stderr",
     "output_type": "stream",
     "text": [
      " 11%|█         | 2240/20009 [13:07<1:45:04,  2.82it/s]"
     ]
    },
    {
     "name": "stdout",
     "output_type": "stream",
     "text": [
      "Step 62231, training: ucc_acc=1.0 weighted_loss=0.036294229328632355 ucc_loss=0.036294229328632355 ae_loss=0 eval: ucc_acc=1.0 weighted_loss=0.0005300053162500262 ucc_loss=0.0005300053162500262 ae_loss=0\n"
     ]
    },
    {
     "name": "stderr",
     "output_type": "stream",
     "text": [
      " 11%|█         | 2250/20009 [13:10<1:46:46,  2.77it/s]"
     ]
    },
    {
     "name": "stdout",
     "output_type": "stream",
     "text": [
      "Step 62241, training: ucc_acc=1.0 weighted_loss=0.023637527599930763 ucc_loss=0.023637527599930763 ae_loss=0 eval: ucc_acc=1.0 weighted_loss=0.014555666595697403 ucc_loss=0.014555666595697403 ae_loss=0\n"
     ]
    },
    {
     "name": "stderr",
     "output_type": "stream",
     "text": [
      " 11%|█▏        | 2260/20009 [13:14<1:45:40,  2.80it/s]"
     ]
    },
    {
     "name": "stdout",
     "output_type": "stream",
     "text": [
      "Step 62251, training: ucc_acc=0.9333333373069763 weighted_loss=0.17187364399433136 ucc_loss=0.17187364399433136 ae_loss=0 eval: ucc_acc=1.0 weighted_loss=0.024549366906285286 ucc_loss=0.024549366906285286 ae_loss=0\n"
     ]
    },
    {
     "name": "stderr",
     "output_type": "stream",
     "text": [
      " 11%|█▏        | 2270/20009 [13:17<1:44:53,  2.82it/s]"
     ]
    },
    {
     "name": "stdout",
     "output_type": "stream",
     "text": [
      "Step 62261, training: ucc_acc=1.0 weighted_loss=0.0007440556073561311 ucc_loss=0.0007440556073561311 ae_loss=0 eval: ucc_acc=1.0 weighted_loss=0.010085558518767357 ucc_loss=0.010085558518767357 ae_loss=0\n"
     ]
    },
    {
     "name": "stderr",
     "output_type": "stream",
     "text": [
      " 11%|█▏        | 2280/20009 [13:20<1:47:57,  2.74it/s]"
     ]
    },
    {
     "name": "stdout",
     "output_type": "stream",
     "text": [
      "Step 62271, training: ucc_acc=1.0 weighted_loss=0.008645966649055481 ucc_loss=0.008645966649055481 ae_loss=0 eval: ucc_acc=1.0 weighted_loss=0.0049689291045069695 ucc_loss=0.0049689291045069695 ae_loss=0\n"
     ]
    },
    {
     "name": "stderr",
     "output_type": "stream",
     "text": [
      " 11%|█▏        | 2290/20009 [13:23<1:48:15,  2.73it/s]"
     ]
    },
    {
     "name": "stdout",
     "output_type": "stream",
     "text": [
      "Step 62281, training: ucc_acc=1.0 weighted_loss=0.04281092435121536 ucc_loss=0.04281092435121536 ae_loss=0 eval: ucc_acc=1.0 weighted_loss=0.01689237542450428 ucc_loss=0.01689237542450428 ae_loss=0\n"
     ]
    },
    {
     "name": "stderr",
     "output_type": "stream",
     "text": [
      " 11%|█▏        | 2300/20009 [13:27<1:46:53,  2.76it/s]"
     ]
    },
    {
     "name": "stdout",
     "output_type": "stream",
     "text": [
      "Step 62291, training: ucc_acc=1.0 weighted_loss=0.005053015425801277 ucc_loss=0.005053015425801277 ae_loss=0 eval: ucc_acc=1.0 weighted_loss=0.03180108591914177 ucc_loss=0.03180108591914177 ae_loss=0\n"
     ]
    },
    {
     "name": "stderr",
     "output_type": "stream",
     "text": [
      " 12%|█▏        | 2310/20009 [13:30<1:45:14,  2.80it/s]"
     ]
    },
    {
     "name": "stdout",
     "output_type": "stream",
     "text": [
      "Step 62301, training: ucc_acc=1.0 weighted_loss=0.010349004529416561 ucc_loss=0.010349004529416561 ae_loss=0 eval: ucc_acc=1.0 weighted_loss=0.001999492524191737 ucc_loss=0.001999492524191737 ae_loss=0\n"
     ]
    },
    {
     "name": "stderr",
     "output_type": "stream",
     "text": [
      " 12%|█▏        | 2320/20009 [13:33<1:45:15,  2.80it/s]"
     ]
    },
    {
     "name": "stdout",
     "output_type": "stream",
     "text": [
      "Step 62311, training: ucc_acc=1.0 weighted_loss=0.009573647752404213 ucc_loss=0.009573647752404213 ae_loss=0 eval: ucc_acc=1.0 weighted_loss=0.007503545377403498 ucc_loss=0.007503545377403498 ae_loss=0\n"
     ]
    },
    {
     "name": "stderr",
     "output_type": "stream",
     "text": [
      " 12%|█▏        | 2330/20009 [13:36<1:43:11,  2.86it/s]"
     ]
    },
    {
     "name": "stdout",
     "output_type": "stream",
     "text": [
      "Step 62321, training: ucc_acc=1.0 weighted_loss=0.0025735299568623304 ucc_loss=0.0025735299568623304 ae_loss=0 eval: ucc_acc=1.0 weighted_loss=0.00041012262227013707 ucc_loss=0.00041012262227013707 ae_loss=0\n"
     ]
    },
    {
     "name": "stderr",
     "output_type": "stream",
     "text": [
      " 12%|█▏        | 2340/20009 [13:40<1:44:44,  2.81it/s]"
     ]
    },
    {
     "name": "stdout",
     "output_type": "stream",
     "text": [
      "Step 62331, training: ucc_acc=1.0 weighted_loss=0.01564234308898449 ucc_loss=0.01564234308898449 ae_loss=0 eval: ucc_acc=1.0 weighted_loss=0.0043129525147378445 ucc_loss=0.0043129525147378445 ae_loss=0\n"
     ]
    },
    {
     "name": "stderr",
     "output_type": "stream",
     "text": [
      " 12%|█▏        | 2350/20009 [13:43<1:42:32,  2.87it/s]"
     ]
    },
    {
     "name": "stdout",
     "output_type": "stream",
     "text": [
      "Step 62341, training: ucc_acc=1.0 weighted_loss=0.03851475939154625 ucc_loss=0.03851475939154625 ae_loss=0 eval: ucc_acc=1.0 weighted_loss=0.018138324841856956 ucc_loss=0.018138324841856956 ae_loss=0\n"
     ]
    },
    {
     "name": "stderr",
     "output_type": "stream",
     "text": [
      " 12%|█▏        | 2360/20009 [13:46<1:44:10,  2.82it/s]"
     ]
    },
    {
     "name": "stdout",
     "output_type": "stream",
     "text": [
      "Step 62351, training: ucc_acc=1.0 weighted_loss=0.0038824102375656366 ucc_loss=0.0038824102375656366 ae_loss=0 eval: ucc_acc=1.0 weighted_loss=0.005259438883513212 ucc_loss=0.005259438883513212 ae_loss=0\n"
     ]
    },
    {
     "name": "stderr",
     "output_type": "stream",
     "text": [
      " 12%|█▏        | 2370/20009 [13:49<1:42:43,  2.86it/s]"
     ]
    },
    {
     "name": "stdout",
     "output_type": "stream",
     "text": [
      "Step 62361, training: ucc_acc=1.0 weighted_loss=0.011874902062118053 ucc_loss=0.011874902062118053 ae_loss=0 eval: ucc_acc=1.0 weighted_loss=0.007813478820025921 ucc_loss=0.007813478820025921 ae_loss=0\n"
     ]
    },
    {
     "name": "stderr",
     "output_type": "stream",
     "text": [
      " 12%|█▏        | 2380/20009 [13:53<1:43:04,  2.85it/s]"
     ]
    },
    {
     "name": "stdout",
     "output_type": "stream",
     "text": [
      "Step 62371, training: ucc_acc=1.0 weighted_loss=0.013646084815263748 ucc_loss=0.013646084815263748 ae_loss=0 eval: ucc_acc=0.9333333373069763 weighted_loss=0.14018578827381134 ucc_loss=0.14018578827381134 ae_loss=0\n"
     ]
    },
    {
     "name": "stderr",
     "output_type": "stream",
     "text": [
      " 12%|█▏        | 2390/20009 [13:56<1:43:08,  2.85it/s]"
     ]
    },
    {
     "name": "stdout",
     "output_type": "stream",
     "text": [
      "Step 62381, training: ucc_acc=1.0 weighted_loss=0.04400355741381645 ucc_loss=0.04400355741381645 ae_loss=0 eval: ucc_acc=1.0 weighted_loss=0.03632340580224991 ucc_loss=0.03632340580224991 ae_loss=0\n"
     ]
    },
    {
     "name": "stderr",
     "output_type": "stream",
     "text": [
      " 12%|█▏        | 2400/20009 [13:59<1:42:49,  2.85it/s]"
     ]
    },
    {
     "name": "stdout",
     "output_type": "stream",
     "text": [
      "Step 62391, training: ucc_acc=1.0 weighted_loss=0.023441003635525703 ucc_loss=0.023441003635525703 ae_loss=0 eval: ucc_acc=1.0 weighted_loss=0.006335182581096888 ucc_loss=0.006335182581096888 ae_loss=0\n"
     ]
    },
    {
     "name": "stderr",
     "output_type": "stream",
     "text": [
      " 12%|█▏        | 2410/20009 [14:02<1:43:12,  2.84it/s]"
     ]
    },
    {
     "name": "stdout",
     "output_type": "stream",
     "text": [
      "Step 62401, training: ucc_acc=1.0 weighted_loss=0.006352429278194904 ucc_loss=0.006352429278194904 ae_loss=0 eval: ucc_acc=1.0 weighted_loss=0.012102201581001282 ucc_loss=0.012102201581001282 ae_loss=0\n"
     ]
    },
    {
     "name": "stderr",
     "output_type": "stream",
     "text": [
      " 12%|█▏        | 2420/20009 [14:05<1:40:30,  2.92it/s]"
     ]
    },
    {
     "name": "stdout",
     "output_type": "stream",
     "text": [
      "Step 62411, training: ucc_acc=1.0 weighted_loss=0.016224808990955353 ucc_loss=0.016224808990955353 ae_loss=0 eval: ucc_acc=0.9333333373069763 weighted_loss=0.1557912528514862 ucc_loss=0.1557912528514862 ae_loss=0\n"
     ]
    },
    {
     "name": "stderr",
     "output_type": "stream",
     "text": [
      " 12%|█▏        | 2430/20009 [14:09<1:43:21,  2.83it/s]"
     ]
    },
    {
     "name": "stdout",
     "output_type": "stream",
     "text": [
      "Step 62421, training: ucc_acc=1.0 weighted_loss=0.009115018881857395 ucc_loss=0.009115018881857395 ae_loss=0 eval: ucc_acc=1.0 weighted_loss=0.0001375962601741776 ucc_loss=0.0001375962601741776 ae_loss=0\n"
     ]
    },
    {
     "name": "stderr",
     "output_type": "stream",
     "text": [
      " 12%|█▏        | 2440/20009 [14:12<1:45:46,  2.77it/s]"
     ]
    },
    {
     "name": "stdout",
     "output_type": "stream",
     "text": [
      "Step 62431, training: ucc_acc=1.0 weighted_loss=0.008956413716077805 ucc_loss=0.008956413716077805 ae_loss=0 eval: ucc_acc=1.0 weighted_loss=0.02152317389845848 ucc_loss=0.02152317389845848 ae_loss=0\n"
     ]
    },
    {
     "name": "stderr",
     "output_type": "stream",
     "text": [
      " 12%|█▏        | 2450/20009 [14:15<1:44:27,  2.80it/s]"
     ]
    },
    {
     "name": "stdout",
     "output_type": "stream",
     "text": [
      "Step 62441, training: ucc_acc=1.0 weighted_loss=0.020701294764876366 ucc_loss=0.020701294764876366 ae_loss=0 eval: ucc_acc=1.0 weighted_loss=0.005086016841232777 ucc_loss=0.005086016841232777 ae_loss=0\n"
     ]
    },
    {
     "name": "stderr",
     "output_type": "stream",
     "text": [
      " 12%|█▏        | 2460/20009 [14:18<1:42:01,  2.87it/s]"
     ]
    },
    {
     "name": "stdout",
     "output_type": "stream",
     "text": [
      "Step 62451, training: ucc_acc=1.0 weighted_loss=0.02047879621386528 ucc_loss=0.02047879621386528 ae_loss=0 eval: ucc_acc=1.0 weighted_loss=0.016348805278539658 ucc_loss=0.016348805278539658 ae_loss=0\n"
     ]
    },
    {
     "name": "stderr",
     "output_type": "stream",
     "text": [
      " 12%|█▏        | 2470/20009 [14:21<1:40:43,  2.90it/s]"
     ]
    },
    {
     "name": "stdout",
     "output_type": "stream",
     "text": [
      "Step 62461, training: ucc_acc=1.0 weighted_loss=0.022823045030236244 ucc_loss=0.022823045030236244 ae_loss=0 eval: ucc_acc=0.9333333373069763 weighted_loss=0.14989110827445984 ucc_loss=0.14989110827445984 ae_loss=0\n"
     ]
    },
    {
     "name": "stderr",
     "output_type": "stream",
     "text": [
      " 12%|█▏        | 2480/20009 [14:25<1:43:30,  2.82it/s]"
     ]
    },
    {
     "name": "stdout",
     "output_type": "stream",
     "text": [
      "Step 62471, training: ucc_acc=1.0 weighted_loss=0.022459374740719795 ucc_loss=0.022459374740719795 ae_loss=0 eval: ucc_acc=1.0 weighted_loss=0.00827889982610941 ucc_loss=0.00827889982610941 ae_loss=0\n"
     ]
    },
    {
     "name": "stderr",
     "output_type": "stream",
     "text": [
      " 12%|█▏        | 2490/20009 [14:28<1:42:11,  2.86it/s]"
     ]
    },
    {
     "name": "stdout",
     "output_type": "stream",
     "text": [
      "Step 62481, training: ucc_acc=1.0 weighted_loss=0.00901803933084011 ucc_loss=0.00901803933084011 ae_loss=0 eval: ucc_acc=1.0 weighted_loss=0.014591933228075504 ucc_loss=0.014591933228075504 ae_loss=0\n"
     ]
    },
    {
     "name": "stderr",
     "output_type": "stream",
     "text": [
      " 12%|█▏        | 2500/20009 [14:31<1:41:44,  2.87it/s]"
     ]
    },
    {
     "name": "stdout",
     "output_type": "stream",
     "text": [
      "Step 62491, training: ucc_acc=1.0 weighted_loss=0.01196640357375145 ucc_loss=0.01196640357375145 ae_loss=0 eval: ucc_acc=1.0 weighted_loss=0.0357125848531723 ucc_loss=0.0357125848531723 ae_loss=0\n"
     ]
    },
    {
     "name": "stderr",
     "output_type": "stream",
     "text": [
      " 13%|█▎        | 2510/20009 [14:34<1:43:09,  2.83it/s]"
     ]
    },
    {
     "name": "stdout",
     "output_type": "stream",
     "text": [
      "Step 62501, training: ucc_acc=1.0 weighted_loss=0.0041330717504024506 ucc_loss=0.0041330717504024506 ae_loss=0 eval: ucc_acc=1.0 weighted_loss=0.014103922992944717 ucc_loss=0.014103922992944717 ae_loss=0\n"
     ]
    },
    {
     "name": "stderr",
     "output_type": "stream",
     "text": [
      " 13%|█▎        | 2520/20009 [14:37<1:40:00,  2.91it/s]"
     ]
    },
    {
     "name": "stdout",
     "output_type": "stream",
     "text": [
      "Step 62511, training: ucc_acc=1.0 weighted_loss=0.00023355212761089206 ucc_loss=0.00023355212761089206 ae_loss=0 eval: ucc_acc=0.9333333373069763 weighted_loss=0.1501099020242691 ucc_loss=0.1501099020242691 ae_loss=0\n"
     ]
    },
    {
     "name": "stderr",
     "output_type": "stream",
     "text": [
      " 13%|█▎        | 2530/20009 [14:41<1:43:46,  2.81it/s]"
     ]
    },
    {
     "name": "stdout",
     "output_type": "stream",
     "text": [
      "Step 62521, training: ucc_acc=1.0 weighted_loss=0.0007758236024528742 ucc_loss=0.0007758236024528742 ae_loss=0 eval: ucc_acc=1.0 weighted_loss=0.017313044518232346 ucc_loss=0.017313044518232346 ae_loss=0\n"
     ]
    },
    {
     "name": "stderr",
     "output_type": "stream",
     "text": [
      " 13%|█▎        | 2540/20009 [14:44<1:37:48,  2.98it/s]"
     ]
    },
    {
     "name": "stdout",
     "output_type": "stream",
     "text": [
      "Step 62531, training: ucc_acc=1.0 weighted_loss=0.01337998267263174 ucc_loss=0.01337998267263174 ae_loss=0 eval: ucc_acc=1.0 weighted_loss=0.0013756913831457496 ucc_loss=0.0013756913831457496 ae_loss=0\n"
     ]
    },
    {
     "name": "stderr",
     "output_type": "stream",
     "text": [
      " 13%|█▎        | 2550/20009 [14:47<1:39:46,  2.92it/s]"
     ]
    },
    {
     "name": "stdout",
     "output_type": "stream",
     "text": [
      "Step 62541, training: ucc_acc=1.0 weighted_loss=0.006152434274554253 ucc_loss=0.006152434274554253 ae_loss=0 eval: ucc_acc=1.0 weighted_loss=0.00722929835319519 ucc_loss=0.00722929835319519 ae_loss=0\n"
     ]
    },
    {
     "name": "stderr",
     "output_type": "stream",
     "text": [
      " 13%|█▎        | 2560/20009 [14:50<1:39:42,  2.92it/s]"
     ]
    },
    {
     "name": "stdout",
     "output_type": "stream",
     "text": [
      "Step 62551, training: ucc_acc=1.0 weighted_loss=0.003099120920524001 ucc_loss=0.003099120920524001 ae_loss=0 eval: ucc_acc=1.0 weighted_loss=0.001683384645730257 ucc_loss=0.001683384645730257 ae_loss=0\n"
     ]
    },
    {
     "name": "stderr",
     "output_type": "stream",
     "text": [
      " 13%|█▎        | 2570/20009 [14:53<1:37:54,  2.97it/s]"
     ]
    },
    {
     "name": "stdout",
     "output_type": "stream",
     "text": [
      "Step 62561, training: ucc_acc=1.0 weighted_loss=0.017116732895374298 ucc_loss=0.017116732895374298 ae_loss=0 eval: ucc_acc=0.9333333373069763 weighted_loss=0.07370664179325104 ucc_loss=0.07370664179325104 ae_loss=0\n"
     ]
    },
    {
     "name": "stderr",
     "output_type": "stream",
     "text": [
      " 13%|█▎        | 2580/20009 [14:56<1:39:14,  2.93it/s]"
     ]
    },
    {
     "name": "stdout",
     "output_type": "stream",
     "text": [
      "Step 62571, training: ucc_acc=1.0 weighted_loss=0.015010956674814224 ucc_loss=0.015010956674814224 ae_loss=0 eval: ucc_acc=1.0 weighted_loss=0.016487961634993553 ucc_loss=0.016487961634993553 ae_loss=0\n"
     ]
    },
    {
     "name": "stderr",
     "output_type": "stream",
     "text": [
      " 13%|█▎        | 2590/20009 [14:59<1:38:22,  2.95it/s]"
     ]
    },
    {
     "name": "stdout",
     "output_type": "stream",
     "text": [
      "Step 62581, training: ucc_acc=1.0 weighted_loss=0.0037549876142293215 ucc_loss=0.0037549876142293215 ae_loss=0 eval: ucc_acc=1.0 weighted_loss=0.002627616049721837 ucc_loss=0.002627616049721837 ae_loss=0\n"
     ]
    },
    {
     "name": "stderr",
     "output_type": "stream",
     "text": [
      " 13%|█▎        | 2600/20009 [15:02<1:40:20,  2.89it/s]"
     ]
    },
    {
     "name": "stdout",
     "output_type": "stream",
     "text": [
      "Step 62591, training: ucc_acc=0.9333333373069763 weighted_loss=0.07236239314079285 ucc_loss=0.07236239314079285 ae_loss=0 eval: ucc_acc=1.0 weighted_loss=0.0009634188027121127 ucc_loss=0.0009634188027121127 ae_loss=0\n"
     ]
    },
    {
     "name": "stderr",
     "output_type": "stream",
     "text": [
      " 13%|█▎        | 2610/20009 [15:06<1:40:07,  2.90it/s]"
     ]
    },
    {
     "name": "stdout",
     "output_type": "stream",
     "text": [
      "Step 62601, training: ucc_acc=1.0 weighted_loss=0.03429419919848442 ucc_loss=0.03429419919848442 ae_loss=0 eval: ucc_acc=1.0 weighted_loss=0.011651398614048958 ucc_loss=0.011651398614048958 ae_loss=0\n"
     ]
    },
    {
     "name": "stderr",
     "output_type": "stream",
     "text": [
      " 13%|█▎        | 2620/20009 [15:09<1:45:02,  2.76it/s]"
     ]
    },
    {
     "name": "stdout",
     "output_type": "stream",
     "text": [
      "Step 62611, training: ucc_acc=1.0 weighted_loss=0.00760333938524127 ucc_loss=0.00760333938524127 ae_loss=0 eval: ucc_acc=1.0 weighted_loss=0.020851273089647293 ucc_loss=0.020851273089647293 ae_loss=0\n"
     ]
    },
    {
     "name": "stderr",
     "output_type": "stream",
     "text": [
      " 13%|█▎        | 2630/20009 [15:13<2:03:11,  2.35it/s]"
     ]
    },
    {
     "name": "stdout",
     "output_type": "stream",
     "text": [
      "Step 62621, training: ucc_acc=1.0 weighted_loss=0.002441807184368372 ucc_loss=0.002441807184368372 ae_loss=0 eval: ucc_acc=1.0 weighted_loss=0.0038248668424785137 ucc_loss=0.0038248668424785137 ae_loss=0\n"
     ]
    },
    {
     "name": "stderr",
     "output_type": "stream",
     "text": [
      " 13%|█▎        | 2640/20009 [15:16<1:56:33,  2.48it/s]"
     ]
    },
    {
     "name": "stdout",
     "output_type": "stream",
     "text": [
      "Step 62631, training: ucc_acc=1.0 weighted_loss=0.018885115161538124 ucc_loss=0.018885115161538124 ae_loss=0 eval: ucc_acc=1.0 weighted_loss=0.034791603684425354 ucc_loss=0.034791603684425354 ae_loss=0\n"
     ]
    },
    {
     "name": "stderr",
     "output_type": "stream",
     "text": [
      " 13%|█▎        | 2650/20009 [15:20<2:12:37,  2.18it/s]"
     ]
    },
    {
     "name": "stdout",
     "output_type": "stream",
     "text": [
      "Step 62641, training: ucc_acc=1.0 weighted_loss=0.019000716507434845 ucc_loss=0.019000716507434845 ae_loss=0 eval: ucc_acc=1.0 weighted_loss=0.0021586264483630657 ucc_loss=0.0021586264483630657 ae_loss=0\n"
     ]
    },
    {
     "name": "stderr",
     "output_type": "stream",
     "text": [
      " 13%|█▎        | 2660/20009 [15:24<2:11:44,  2.19it/s]"
     ]
    },
    {
     "name": "stdout",
     "output_type": "stream",
     "text": [
      "Step 62651, training: ucc_acc=0.9333333373069763 weighted_loss=0.17502747476100922 ucc_loss=0.17502747476100922 ae_loss=0 eval: ucc_acc=1.0 weighted_loss=0.014538981951773167 ucc_loss=0.014538981951773167 ae_loss=0\n"
     ]
    },
    {
     "name": "stderr",
     "output_type": "stream",
     "text": [
      " 13%|█▎        | 2670/20009 [15:28<1:50:30,  2.61it/s]"
     ]
    },
    {
     "name": "stdout",
     "output_type": "stream",
     "text": [
      "Step 62661, training: ucc_acc=1.0 weighted_loss=0.00952973309904337 ucc_loss=0.00952973309904337 ae_loss=0 eval: ucc_acc=1.0 weighted_loss=0.020983336493372917 ucc_loss=0.020983336493372917 ae_loss=0\n"
     ]
    },
    {
     "name": "stderr",
     "output_type": "stream",
     "text": [
      " 13%|█▎        | 2680/20009 [15:32<1:58:06,  2.45it/s]"
     ]
    },
    {
     "name": "stdout",
     "output_type": "stream",
     "text": [
      "Step 62671, training: ucc_acc=1.0 weighted_loss=0.006197221577167511 ucc_loss=0.006197221577167511 ae_loss=0 eval: ucc_acc=0.9333333373069763 weighted_loss=0.20404425263404846 ucc_loss=0.20404425263404846 ae_loss=0\n"
     ]
    },
    {
     "name": "stderr",
     "output_type": "stream",
     "text": [
      " 13%|█▎        | 2690/20009 [15:35<2:05:30,  2.30it/s]"
     ]
    },
    {
     "name": "stdout",
     "output_type": "stream",
     "text": [
      "Step 62681, training: ucc_acc=1.0 weighted_loss=0.006118031684309244 ucc_loss=0.006118031684309244 ae_loss=0 eval: ucc_acc=1.0 weighted_loss=0.012568865902721882 ucc_loss=0.012568865902721882 ae_loss=0\n"
     ]
    },
    {
     "name": "stderr",
     "output_type": "stream",
     "text": [
      " 13%|█▎        | 2700/20009 [15:39<2:08:42,  2.24it/s]"
     ]
    },
    {
     "name": "stdout",
     "output_type": "stream",
     "text": [
      "Step 62691, training: ucc_acc=1.0 weighted_loss=0.0016482548089697957 ucc_loss=0.0016482548089697957 ae_loss=0 eval: ucc_acc=1.0 weighted_loss=0.053161825984716415 ucc_loss=0.053161825984716415 ae_loss=0\n"
     ]
    },
    {
     "name": "stderr",
     "output_type": "stream",
     "text": [
      " 14%|█▎        | 2710/20009 [15:43<2:04:13,  2.32it/s]"
     ]
    },
    {
     "name": "stdout",
     "output_type": "stream",
     "text": [
      "Step 62701, training: ucc_acc=1.0 weighted_loss=0.005333084147423506 ucc_loss=0.005333084147423506 ae_loss=0 eval: ucc_acc=0.9333333373069763 weighted_loss=0.18964338302612305 ucc_loss=0.18964338302612305 ae_loss=0\n"
     ]
    },
    {
     "name": "stderr",
     "output_type": "stream",
     "text": [
      " 14%|█▎        | 2720/20009 [15:47<2:02:48,  2.35it/s]"
     ]
    },
    {
     "name": "stdout",
     "output_type": "stream",
     "text": [
      "Step 62711, training: ucc_acc=1.0 weighted_loss=0.0008162760641425848 ucc_loss=0.0008162760641425848 ae_loss=0 eval: ucc_acc=1.0 weighted_loss=0.021420931443572044 ucc_loss=0.021420931443572044 ae_loss=0\n"
     ]
    },
    {
     "name": "stderr",
     "output_type": "stream",
     "text": [
      " 14%|█▎        | 2730/20009 [15:51<2:14:18,  2.14it/s]"
     ]
    },
    {
     "name": "stdout",
     "output_type": "stream",
     "text": [
      "Step 62721, training: ucc_acc=1.0 weighted_loss=0.0085816141217947 ucc_loss=0.0085816141217947 ae_loss=0 eval: ucc_acc=1.0 weighted_loss=0.01620715670287609 ucc_loss=0.01620715670287609 ae_loss=0\n"
     ]
    },
    {
     "name": "stderr",
     "output_type": "stream",
     "text": [
      " 14%|█▎        | 2740/20009 [15:55<2:06:17,  2.28it/s]"
     ]
    },
    {
     "name": "stdout",
     "output_type": "stream",
     "text": [
      "Step 62731, training: ucc_acc=1.0 weighted_loss=0.008945313282310963 ucc_loss=0.008945313282310963 ae_loss=0 eval: ucc_acc=1.0 weighted_loss=0.00509768957272172 ucc_loss=0.00509768957272172 ae_loss=0\n"
     ]
    },
    {
     "name": "stderr",
     "output_type": "stream",
     "text": [
      " 14%|█▎        | 2750/20009 [15:59<2:03:09,  2.34it/s]"
     ]
    },
    {
     "name": "stdout",
     "output_type": "stream",
     "text": [
      "Step 62741, training: ucc_acc=1.0 weighted_loss=0.04123316705226898 ucc_loss=0.04123316705226898 ae_loss=0 eval: ucc_acc=1.0 weighted_loss=0.0008773125591687858 ucc_loss=0.0008773125591687858 ae_loss=0\n"
     ]
    },
    {
     "name": "stderr",
     "output_type": "stream",
     "text": [
      " 14%|█▍        | 2760/20009 [16:03<2:06:10,  2.28it/s]"
     ]
    },
    {
     "name": "stdout",
     "output_type": "stream",
     "text": [
      "Step 62751, training: ucc_acc=1.0 weighted_loss=0.011167047545313835 ucc_loss=0.011167047545313835 ae_loss=0 eval: ucc_acc=1.0 weighted_loss=0.0011685971403494477 ucc_loss=0.0011685971403494477 ae_loss=0\n"
     ]
    },
    {
     "name": "stderr",
     "output_type": "stream",
     "text": [
      " 14%|█▍        | 2770/20009 [16:07<2:06:55,  2.26it/s]"
     ]
    },
    {
     "name": "stdout",
     "output_type": "stream",
     "text": [
      "Step 62761, training: ucc_acc=0.9333333373069763 weighted_loss=0.07800798118114471 ucc_loss=0.07800798118114471 ae_loss=0 eval: ucc_acc=1.0 weighted_loss=0.01860690303146839 ucc_loss=0.01860690303146839 ae_loss=0\n"
     ]
    },
    {
     "name": "stderr",
     "output_type": "stream",
     "text": [
      " 14%|█▍        | 2780/20009 [16:11<2:01:51,  2.36it/s]"
     ]
    },
    {
     "name": "stdout",
     "output_type": "stream",
     "text": [
      "Step 62771, training: ucc_acc=1.0 weighted_loss=0.0062695094384253025 ucc_loss=0.0062695094384253025 ae_loss=0 eval: ucc_acc=0.9333333373069763 weighted_loss=0.11863282322883606 ucc_loss=0.11863282322883606 ae_loss=0\n"
     ]
    },
    {
     "name": "stderr",
     "output_type": "stream",
     "text": [
      " 14%|█▍        | 2790/20009 [16:15<1:52:15,  2.56it/s]"
     ]
    },
    {
     "name": "stdout",
     "output_type": "stream",
     "text": [
      "Step 62781, training: ucc_acc=1.0 weighted_loss=0.0004906594986096025 ucc_loss=0.0004906594986096025 ae_loss=0 eval: ucc_acc=1.0 weighted_loss=0.005894291214644909 ucc_loss=0.005894291214644909 ae_loss=0\n"
     ]
    },
    {
     "name": "stderr",
     "output_type": "stream",
     "text": [
      " 14%|█▍        | 2800/20009 [16:18<1:51:49,  2.56it/s]"
     ]
    },
    {
     "name": "stdout",
     "output_type": "stream",
     "text": [
      "Step 62791, training: ucc_acc=0.9333333373069763 weighted_loss=0.266906201839447 ucc_loss=0.266906201839447 ae_loss=0 eval: ucc_acc=1.0 weighted_loss=0.0045189508236944675 ucc_loss=0.0045189508236944675 ae_loss=0\n"
     ]
    },
    {
     "name": "stderr",
     "output_type": "stream",
     "text": [
      " 14%|█▍        | 2810/20009 [16:22<2:16:28,  2.10it/s]"
     ]
    },
    {
     "name": "stdout",
     "output_type": "stream",
     "text": [
      "Step 62801, training: ucc_acc=1.0 weighted_loss=0.008915003389120102 ucc_loss=0.008915003389120102 ae_loss=0 eval: ucc_acc=1.0 weighted_loss=0.017729217186570168 ucc_loss=0.017729217186570168 ae_loss=0\n"
     ]
    },
    {
     "name": "stderr",
     "output_type": "stream",
     "text": [
      " 14%|█▍        | 2820/20009 [16:26<1:49:17,  2.62it/s]"
     ]
    },
    {
     "name": "stdout",
     "output_type": "stream",
     "text": [
      "Step 62811, training: ucc_acc=1.0 weighted_loss=0.008389338850975037 ucc_loss=0.008389338850975037 ae_loss=0 eval: ucc_acc=0.8666666746139526 weighted_loss=0.22383762896060944 ucc_loss=0.22383762896060944 ae_loss=0\n"
     ]
    },
    {
     "name": "stderr",
     "output_type": "stream",
     "text": [
      " 14%|█▍        | 2830/20009 [16:30<1:49:19,  2.62it/s]"
     ]
    },
    {
     "name": "stdout",
     "output_type": "stream",
     "text": [
      "Step 62821, training: ucc_acc=1.0 weighted_loss=0.005727598909288645 ucc_loss=0.005727598909288645 ae_loss=0 eval: ucc_acc=1.0 weighted_loss=0.0049273790791630745 ucc_loss=0.0049273790791630745 ae_loss=0\n"
     ]
    },
    {
     "name": "stderr",
     "output_type": "stream",
     "text": [
      " 14%|█▍        | 2840/20009 [16:33<1:47:38,  2.66it/s]"
     ]
    },
    {
     "name": "stdout",
     "output_type": "stream",
     "text": [
      "Step 62831, training: ucc_acc=0.9333333373069763 weighted_loss=0.19771035015583038 ucc_loss=0.19771035015583038 ae_loss=0 eval: ucc_acc=1.0 weighted_loss=0.0012344442075118423 ucc_loss=0.0012344442075118423 ae_loss=0\n"
     ]
    },
    {
     "name": "stderr",
     "output_type": "stream",
     "text": [
      " 14%|█▍        | 2850/20009 [16:36<1:46:21,  2.69it/s]"
     ]
    },
    {
     "name": "stdout",
     "output_type": "stream",
     "text": [
      "Step 62841, training: ucc_acc=1.0 weighted_loss=0.00042844185372814536 ucc_loss=0.00042844185372814536 ae_loss=0 eval: ucc_acc=1.0 weighted_loss=0.021296320483088493 ucc_loss=0.021296320483088493 ae_loss=0\n"
     ]
    },
    {
     "name": "stderr",
     "output_type": "stream",
     "text": [
      " 14%|█▍        | 2860/20009 [16:40<1:43:26,  2.76it/s]"
     ]
    },
    {
     "name": "stdout",
     "output_type": "stream",
     "text": [
      "Step 62851, training: ucc_acc=1.0 weighted_loss=0.005393235478550196 ucc_loss=0.005393235478550196 ae_loss=0 eval: ucc_acc=1.0 weighted_loss=0.01931387558579445 ucc_loss=0.01931387558579445 ae_loss=0\n"
     ]
    },
    {
     "name": "stderr",
     "output_type": "stream",
     "text": [
      " 14%|█▍        | 2870/20009 [16:43<1:56:16,  2.46it/s]"
     ]
    },
    {
     "name": "stdout",
     "output_type": "stream",
     "text": [
      "Step 62861, training: ucc_acc=0.9333333373069763 weighted_loss=0.21613968908786774 ucc_loss=0.21613968908786774 ae_loss=0 eval: ucc_acc=1.0 weighted_loss=0.00709902960807085 ucc_loss=0.00709902960807085 ae_loss=0\n"
     ]
    },
    {
     "name": "stderr",
     "output_type": "stream",
     "text": [
      " 14%|█▍        | 2880/20009 [16:47<1:46:11,  2.69it/s]"
     ]
    },
    {
     "name": "stdout",
     "output_type": "stream",
     "text": [
      "Step 62871, training: ucc_acc=1.0 weighted_loss=0.016157783567905426 ucc_loss=0.016157783567905426 ae_loss=0 eval: ucc_acc=1.0 weighted_loss=0.013249210081994534 ucc_loss=0.013249210081994534 ae_loss=0\n"
     ]
    },
    {
     "name": "stderr",
     "output_type": "stream",
     "text": [
      " 14%|█▍        | 2890/20009 [16:50<1:41:26,  2.81it/s]"
     ]
    },
    {
     "name": "stdout",
     "output_type": "stream",
     "text": [
      "Step 62881, training: ucc_acc=1.0 weighted_loss=0.0014896310167387128 ucc_loss=0.0014896310167387128 ae_loss=0 eval: ucc_acc=1.0 weighted_loss=0.005824730731546879 ucc_loss=0.005824730731546879 ae_loss=0\n"
     ]
    },
    {
     "name": "stderr",
     "output_type": "stream",
     "text": [
      " 14%|█▍        | 2900/20009 [16:53<1:44:41,  2.72it/s]"
     ]
    },
    {
     "name": "stdout",
     "output_type": "stream",
     "text": [
      "Step 62891, training: ucc_acc=1.0 weighted_loss=0.005416699685156345 ucc_loss=0.005416699685156345 ae_loss=0 eval: ucc_acc=1.0 weighted_loss=0.012704447843134403 ucc_loss=0.012704447843134403 ae_loss=0\n"
     ]
    },
    {
     "name": "stderr",
     "output_type": "stream",
     "text": [
      " 15%|█▍        | 2910/20009 [16:57<1:43:38,  2.75it/s]"
     ]
    },
    {
     "name": "stdout",
     "output_type": "stream",
     "text": [
      "Step 62901, training: ucc_acc=1.0 weighted_loss=0.015134725719690323 ucc_loss=0.015134725719690323 ae_loss=0 eval: ucc_acc=1.0 weighted_loss=0.024251215159893036 ucc_loss=0.024251215159893036 ae_loss=0\n"
     ]
    },
    {
     "name": "stderr",
     "output_type": "stream",
     "text": [
      " 15%|█▍        | 2920/20009 [17:00<1:42:47,  2.77it/s]"
     ]
    },
    {
     "name": "stdout",
     "output_type": "stream",
     "text": [
      "Step 62911, training: ucc_acc=1.0 weighted_loss=0.05753694102168083 ucc_loss=0.05753694102168083 ae_loss=0 eval: ucc_acc=1.0 weighted_loss=0.04200475662946701 ucc_loss=0.04200475662946701 ae_loss=0\n"
     ]
    },
    {
     "name": "stderr",
     "output_type": "stream",
     "text": [
      " 15%|█▍        | 2930/20009 [17:03<1:49:13,  2.61it/s]"
     ]
    },
    {
     "name": "stdout",
     "output_type": "stream",
     "text": [
      "Step 62921, training: ucc_acc=1.0 weighted_loss=0.027446752414107323 ucc_loss=0.027446752414107323 ae_loss=0 eval: ucc_acc=1.0 weighted_loss=0.007638417650014162 ucc_loss=0.007638417650014162 ae_loss=0\n"
     ]
    },
    {
     "name": "stderr",
     "output_type": "stream",
     "text": [
      " 15%|█▍        | 2940/20009 [17:07<1:44:46,  2.72it/s]"
     ]
    },
    {
     "name": "stdout",
     "output_type": "stream",
     "text": [
      "Step 62931, training: ucc_acc=1.0 weighted_loss=0.0114497235044837 ucc_loss=0.0114497235044837 ae_loss=0 eval: ucc_acc=1.0 weighted_loss=0.015711920335888863 ucc_loss=0.015711920335888863 ae_loss=0\n"
     ]
    },
    {
     "name": "stderr",
     "output_type": "stream",
     "text": [
      " 15%|█▍        | 2950/20009 [17:10<1:41:35,  2.80it/s]"
     ]
    },
    {
     "name": "stdout",
     "output_type": "stream",
     "text": [
      "Step 62941, training: ucc_acc=1.0 weighted_loss=0.008225359953939915 ucc_loss=0.008225359953939915 ae_loss=0 eval: ucc_acc=0.9333333373069763 weighted_loss=0.15339432656764984 ucc_loss=0.15339432656764984 ae_loss=0\n"
     ]
    },
    {
     "name": "stderr",
     "output_type": "stream",
     "text": [
      " 15%|█▍        | 2960/20009 [17:13<1:42:18,  2.78it/s]"
     ]
    },
    {
     "name": "stdout",
     "output_type": "stream",
     "text": [
      "Step 62951, training: ucc_acc=1.0 weighted_loss=0.0021007570903748274 ucc_loss=0.0021007570903748274 ae_loss=0 eval: ucc_acc=1.0 weighted_loss=0.009872034192085266 ucc_loss=0.009872034192085266 ae_loss=0\n"
     ]
    },
    {
     "name": "stderr",
     "output_type": "stream",
     "text": [
      " 15%|█▍        | 2970/20009 [17:16<1:42:44,  2.76it/s]"
     ]
    },
    {
     "name": "stdout",
     "output_type": "stream",
     "text": [
      "Step 62961, training: ucc_acc=1.0 weighted_loss=0.01483078021556139 ucc_loss=0.01483078021556139 ae_loss=0 eval: ucc_acc=1.0 weighted_loss=0.0041480897925794125 ucc_loss=0.0041480897925794125 ae_loss=0\n"
     ]
    },
    {
     "name": "stderr",
     "output_type": "stream",
     "text": [
      " 15%|█▍        | 2980/20009 [17:20<1:44:45,  2.71it/s]"
     ]
    },
    {
     "name": "stdout",
     "output_type": "stream",
     "text": [
      "Step 62971, training: ucc_acc=1.0 weighted_loss=0.009511115029454231 ucc_loss=0.009511115029454231 ae_loss=0 eval: ucc_acc=1.0 weighted_loss=0.036182060837745667 ucc_loss=0.036182060837745667 ae_loss=0\n"
     ]
    },
    {
     "name": "stderr",
     "output_type": "stream",
     "text": [
      " 15%|█▍        | 2990/20009 [17:23<1:47:00,  2.65it/s]"
     ]
    },
    {
     "name": "stdout",
     "output_type": "stream",
     "text": [
      "Step 62981, training: ucc_acc=1.0 weighted_loss=0.04413970187306404 ucc_loss=0.04413970187306404 ae_loss=0 eval: ucc_acc=1.0 weighted_loss=0.05447569862008095 ucc_loss=0.05447569862008095 ae_loss=0\n"
     ]
    },
    {
     "name": "stderr",
     "output_type": "stream",
     "text": [
      " 15%|█▍        | 3000/20009 [17:26<1:43:26,  2.74it/s]"
     ]
    },
    {
     "name": "stdout",
     "output_type": "stream",
     "text": [
      "Step 62991, training: ucc_acc=1.0 weighted_loss=0.020696183666586876 ucc_loss=0.020696183666586876 ae_loss=0 eval: ucc_acc=1.0 weighted_loss=0.022714601829648018 ucc_loss=0.022714601829648018 ae_loss=0\n"
     ]
    },
    {
     "name": "stderr",
     "output_type": "stream",
     "text": [
      " 15%|█▌        | 3010/20009 [17:30<1:41:40,  2.79it/s]"
     ]
    },
    {
     "name": "stdout",
     "output_type": "stream",
     "text": [
      "Step 63001, training: ucc_acc=1.0 weighted_loss=0.0005694261635653675 ucc_loss=0.0005694261635653675 ae_loss=0 eval: ucc_acc=1.0 weighted_loss=0.002187177073210478 ucc_loss=0.002187177073210478 ae_loss=0\n"
     ]
    },
    {
     "name": "stderr",
     "output_type": "stream",
     "text": [
      " 15%|█▌        | 3020/20009 [17:33<1:44:37,  2.71it/s]"
     ]
    },
    {
     "name": "stdout",
     "output_type": "stream",
     "text": [
      "Step 63011, training: ucc_acc=0.9333333373069763 weighted_loss=0.2703250050544739 ucc_loss=0.2703250050544739 ae_loss=0 eval: ucc_acc=1.0 weighted_loss=0.0015778325032442808 ucc_loss=0.0015778325032442808 ae_loss=0\n"
     ]
    },
    {
     "name": "stderr",
     "output_type": "stream",
     "text": [
      " 15%|█▌        | 3030/20009 [17:36<1:45:03,  2.69it/s]"
     ]
    },
    {
     "name": "stdout",
     "output_type": "stream",
     "text": [
      "Step 63021, training: ucc_acc=1.0 weighted_loss=0.017656482756137848 ucc_loss=0.017656482756137848 ae_loss=0 eval: ucc_acc=1.0 weighted_loss=0.002935483818873763 ucc_loss=0.002935483818873763 ae_loss=0\n"
     ]
    },
    {
     "name": "stderr",
     "output_type": "stream",
     "text": [
      " 15%|█▌        | 3040/20009 [17:40<1:41:48,  2.78it/s]"
     ]
    },
    {
     "name": "stdout",
     "output_type": "stream",
     "text": [
      "Step 63031, training: ucc_acc=1.0 weighted_loss=0.01474237721413374 ucc_loss=0.01474237721413374 ae_loss=0 eval: ucc_acc=1.0 weighted_loss=0.00026987804449163377 ucc_loss=0.00026987804449163377 ae_loss=0\n"
     ]
    },
    {
     "name": "stderr",
     "output_type": "stream",
     "text": [
      " 15%|█▌        | 3050/20009 [17:43<1:46:35,  2.65it/s]"
     ]
    },
    {
     "name": "stdout",
     "output_type": "stream",
     "text": [
      "Step 63041, training: ucc_acc=1.0 weighted_loss=0.019207097589969635 ucc_loss=0.019207097589969635 ae_loss=0 eval: ucc_acc=1.0 weighted_loss=0.011479214765131474 ucc_loss=0.011479214765131474 ae_loss=0\n"
     ]
    },
    {
     "name": "stderr",
     "output_type": "stream",
     "text": [
      " 15%|█▌        | 3060/20009 [17:46<1:38:56,  2.85it/s]"
     ]
    },
    {
     "name": "stdout",
     "output_type": "stream",
     "text": [
      "Step 63051, training: ucc_acc=1.0 weighted_loss=0.00024250287970062345 ucc_loss=0.00024250287970062345 ae_loss=0 eval: ucc_acc=0.9333333373069763 weighted_loss=0.1627623289823532 ucc_loss=0.1627623289823532 ae_loss=0\n"
     ]
    },
    {
     "name": "stderr",
     "output_type": "stream",
     "text": [
      " 15%|█▌        | 3070/20009 [17:50<1:44:03,  2.71it/s]"
     ]
    },
    {
     "name": "stdout",
     "output_type": "stream",
     "text": [
      "Step 63061, training: ucc_acc=1.0 weighted_loss=0.0003928871883545071 ucc_loss=0.0003928871883545071 ae_loss=0 eval: ucc_acc=1.0 weighted_loss=0.010313877835869789 ucc_loss=0.010313877835869789 ae_loss=0\n"
     ]
    },
    {
     "name": "stderr",
     "output_type": "stream",
     "text": [
      " 15%|█▌        | 3080/20009 [17:53<1:46:01,  2.66it/s]"
     ]
    },
    {
     "name": "stdout",
     "output_type": "stream",
     "text": [
      "Step 63071, training: ucc_acc=1.0 weighted_loss=0.023637039586901665 ucc_loss=0.023637039586901665 ae_loss=0 eval: ucc_acc=1.0 weighted_loss=0.007259374018758535 ucc_loss=0.007259374018758535 ae_loss=0\n"
     ]
    },
    {
     "name": "stderr",
     "output_type": "stream",
     "text": [
      " 15%|█▌        | 3090/20009 [17:58<2:46:17,  1.70it/s]"
     ]
    },
    {
     "name": "stdout",
     "output_type": "stream",
     "text": [
      "Step 63081, training: ucc_acc=1.0 weighted_loss=0.0155306626111269 ucc_loss=0.0155306626111269 ae_loss=0 eval: ucc_acc=1.0 weighted_loss=0.01033810619264841 ucc_loss=0.01033810619264841 ae_loss=0\n"
     ]
    },
    {
     "name": "stderr",
     "output_type": "stream",
     "text": [
      " 15%|█▌        | 3100/20009 [18:02<2:00:54,  2.33it/s]"
     ]
    },
    {
     "name": "stdout",
     "output_type": "stream",
     "text": [
      "Step 63091, training: ucc_acc=1.0 weighted_loss=0.0024332101456820965 ucc_loss=0.0024332101456820965 ae_loss=0 eval: ucc_acc=1.0 weighted_loss=0.01814686320722103 ucc_loss=0.01814686320722103 ae_loss=0\n"
     ]
    },
    {
     "name": "stderr",
     "output_type": "stream",
     "text": [
      " 16%|█▌        | 3110/20009 [18:06<1:43:53,  2.71it/s]"
     ]
    },
    {
     "name": "stdout",
     "output_type": "stream",
     "text": [
      "Step 63101, training: ucc_acc=1.0 weighted_loss=0.03107466548681259 ucc_loss=0.03107466548681259 ae_loss=0 eval: ucc_acc=1.0 weighted_loss=0.008661325089633465 ucc_loss=0.008661325089633465 ae_loss=0\n"
     ]
    },
    {
     "name": "stderr",
     "output_type": "stream",
     "text": [
      " 16%|█▌        | 3120/20009 [18:09<1:43:40,  2.72it/s]"
     ]
    },
    {
     "name": "stdout",
     "output_type": "stream",
     "text": [
      "Step 63111, training: ucc_acc=1.0 weighted_loss=0.001089626457542181 ucc_loss=0.001089626457542181 ae_loss=0 eval: ucc_acc=1.0 weighted_loss=0.06572836637496948 ucc_loss=0.06572836637496948 ae_loss=0\n"
     ]
    },
    {
     "name": "stderr",
     "output_type": "stream",
     "text": [
      " 16%|█▌        | 3130/20009 [18:12<1:42:20,  2.75it/s]"
     ]
    },
    {
     "name": "stdout",
     "output_type": "stream",
     "text": [
      "Step 63121, training: ucc_acc=1.0 weighted_loss=0.00790234375745058 ucc_loss=0.00790234375745058 ae_loss=0 eval: ucc_acc=0.9333333373069763 weighted_loss=0.244583860039711 ucc_loss=0.244583860039711 ae_loss=0\n"
     ]
    },
    {
     "name": "stderr",
     "output_type": "stream",
     "text": [
      " 16%|█▌        | 3140/20009 [18:16<1:41:03,  2.78it/s]"
     ]
    },
    {
     "name": "stdout",
     "output_type": "stream",
     "text": [
      "Step 63131, training: ucc_acc=1.0 weighted_loss=0.011325408704578876 ucc_loss=0.011325408704578876 ae_loss=0 eval: ucc_acc=1.0 weighted_loss=0.003967511001974344 ucc_loss=0.003967511001974344 ae_loss=0\n"
     ]
    },
    {
     "name": "stderr",
     "output_type": "stream",
     "text": [
      " 16%|█▌        | 3150/20009 [18:19<1:46:38,  2.64it/s]"
     ]
    },
    {
     "name": "stdout",
     "output_type": "stream",
     "text": [
      "Step 63141, training: ucc_acc=1.0 weighted_loss=0.007376599125564098 ucc_loss=0.007376599125564098 ae_loss=0 eval: ucc_acc=1.0 weighted_loss=0.03116336278617382 ucc_loss=0.03116336278617382 ae_loss=0\n"
     ]
    },
    {
     "name": "stderr",
     "output_type": "stream",
     "text": [
      " 16%|█▌        | 3160/20009 [18:23<2:01:46,  2.31it/s]"
     ]
    },
    {
     "name": "stdout",
     "output_type": "stream",
     "text": [
      "Step 63151, training: ucc_acc=1.0 weighted_loss=0.016810178756713867 ucc_loss=0.016810178756713867 ae_loss=0 eval: ucc_acc=1.0 weighted_loss=0.017158420756459236 ucc_loss=0.017158420756459236 ae_loss=0\n"
     ]
    },
    {
     "name": "stderr",
     "output_type": "stream",
     "text": [
      " 16%|█▌        | 3170/20009 [18:27<1:59:45,  2.34it/s]"
     ]
    },
    {
     "name": "stdout",
     "output_type": "stream",
     "text": [
      "Step 63161, training: ucc_acc=1.0 weighted_loss=0.0014137650141492486 ucc_loss=0.0014137650141492486 ae_loss=0 eval: ucc_acc=1.0 weighted_loss=0.021953066810965538 ucc_loss=0.021953066810965538 ae_loss=0\n"
     ]
    },
    {
     "name": "stderr",
     "output_type": "stream",
     "text": [
      " 16%|█▌        | 3180/20009 [18:31<2:02:23,  2.29it/s]"
     ]
    },
    {
     "name": "stdout",
     "output_type": "stream",
     "text": [
      "Step 63171, training: ucc_acc=1.0 weighted_loss=0.01503134798258543 ucc_loss=0.01503134798258543 ae_loss=0 eval: ucc_acc=1.0 weighted_loss=0.009274061769247055 ucc_loss=0.009274061769247055 ae_loss=0\n"
     ]
    },
    {
     "name": "stderr",
     "output_type": "stream",
     "text": [
      " 16%|█▌        | 3190/20009 [18:35<2:11:13,  2.14it/s]"
     ]
    },
    {
     "name": "stdout",
     "output_type": "stream",
     "text": [
      "Step 63181, training: ucc_acc=1.0 weighted_loss=0.008628210052847862 ucc_loss=0.008628210052847862 ae_loss=0 eval: ucc_acc=0.9333333373069763 weighted_loss=0.05114614591002464 ucc_loss=0.05114614591002464 ae_loss=0\n"
     ]
    },
    {
     "name": "stderr",
     "output_type": "stream",
     "text": [
      " 16%|█▌        | 3200/20009 [18:40<2:07:50,  2.19it/s]"
     ]
    },
    {
     "name": "stdout",
     "output_type": "stream",
     "text": [
      "Step 63191, training: ucc_acc=1.0 weighted_loss=0.00968313030898571 ucc_loss=0.00968313030898571 ae_loss=0 eval: ucc_acc=1.0 weighted_loss=0.00015908027125988156 ucc_loss=0.00015908027125988156 ae_loss=0\n"
     ]
    },
    {
     "name": "stderr",
     "output_type": "stream",
     "text": [
      " 16%|█▌        | 3210/20009 [18:44<2:13:46,  2.09it/s]"
     ]
    },
    {
     "name": "stdout",
     "output_type": "stream",
     "text": [
      "Step 63201, training: ucc_acc=1.0 weighted_loss=0.03186127543449402 ucc_loss=0.03186127543449402 ae_loss=0 eval: ucc_acc=1.0 weighted_loss=0.037872564047575 ucc_loss=0.037872564047575 ae_loss=0\n"
     ]
    },
    {
     "name": "stderr",
     "output_type": "stream",
     "text": [
      " 16%|█▌        | 3220/20009 [18:48<2:05:30,  2.23it/s]"
     ]
    },
    {
     "name": "stdout",
     "output_type": "stream",
     "text": [
      "Step 63211, training: ucc_acc=1.0 weighted_loss=0.0054542929865419865 ucc_loss=0.0054542929865419865 ae_loss=0 eval: ucc_acc=1.0 weighted_loss=0.01689891703426838 ucc_loss=0.01689891703426838 ae_loss=0\n"
     ]
    },
    {
     "name": "stderr",
     "output_type": "stream",
     "text": [
      " 16%|█▌        | 3230/20009 [18:52<2:09:21,  2.16it/s]"
     ]
    },
    {
     "name": "stdout",
     "output_type": "stream",
     "text": [
      "Step 63221, training: ucc_acc=1.0 weighted_loss=0.003528526984155178 ucc_loss=0.003528526984155178 ae_loss=0 eval: ucc_acc=1.0 weighted_loss=0.009193342179059982 ucc_loss=0.009193342179059982 ae_loss=0\n"
     ]
    },
    {
     "name": "stderr",
     "output_type": "stream",
     "text": [
      " 16%|█▌        | 3240/20009 [18:56<1:53:27,  2.46it/s]"
     ]
    },
    {
     "name": "stdout",
     "output_type": "stream",
     "text": [
      "Step 63231, training: ucc_acc=1.0 weighted_loss=0.009337108582258224 ucc_loss=0.009337108582258224 ae_loss=0 eval: ucc_acc=1.0 weighted_loss=0.010301261208951473 ucc_loss=0.010301261208951473 ae_loss=0\n"
     ]
    },
    {
     "name": "stderr",
     "output_type": "stream",
     "text": [
      " 16%|█▌        | 3250/20009 [19:00<1:55:34,  2.42it/s]"
     ]
    },
    {
     "name": "stdout",
     "output_type": "stream",
     "text": [
      "Step 63241, training: ucc_acc=1.0 weighted_loss=0.005443797446787357 ucc_loss=0.005443797446787357 ae_loss=0 eval: ucc_acc=1.0 weighted_loss=0.02091832645237446 ucc_loss=0.02091832645237446 ae_loss=0\n"
     ]
    },
    {
     "name": "stderr",
     "output_type": "stream",
     "text": [
      " 16%|█▋        | 3260/20009 [19:04<1:58:11,  2.36it/s]"
     ]
    },
    {
     "name": "stdout",
     "output_type": "stream",
     "text": [
      "Step 63251, training: ucc_acc=1.0 weighted_loss=0.005388251971453428 ucc_loss=0.005388251971453428 ae_loss=0 eval: ucc_acc=1.0 weighted_loss=0.005990237928926945 ucc_loss=0.005990237928926945 ae_loss=0\n"
     ]
    },
    {
     "name": "stderr",
     "output_type": "stream",
     "text": [
      " 16%|█▋        | 3270/20009 [19:08<2:00:58,  2.31it/s]"
     ]
    },
    {
     "name": "stdout",
     "output_type": "stream",
     "text": [
      "Step 63261, training: ucc_acc=1.0 weighted_loss=0.0014097940875217319 ucc_loss=0.0014097940875217319 ae_loss=0 eval: ucc_acc=0.9333333373069763 weighted_loss=0.09401129186153412 ucc_loss=0.09401129186153412 ae_loss=0\n"
     ]
    },
    {
     "name": "stderr",
     "output_type": "stream",
     "text": [
      " 16%|█▋        | 3280/20009 [19:12<2:03:17,  2.26it/s]"
     ]
    },
    {
     "name": "stdout",
     "output_type": "stream",
     "text": [
      "Step 63271, training: ucc_acc=1.0 weighted_loss=0.07250438630580902 ucc_loss=0.07250438630580902 ae_loss=0 eval: ucc_acc=1.0 weighted_loss=0.0013283914886415005 ucc_loss=0.0013283914886415005 ae_loss=0\n"
     ]
    },
    {
     "name": "stderr",
     "output_type": "stream",
     "text": [
      " 16%|█▋        | 3290/20009 [19:16<2:01:31,  2.29it/s]"
     ]
    },
    {
     "name": "stdout",
     "output_type": "stream",
     "text": [
      "Step 63281, training: ucc_acc=1.0 weighted_loss=0.022119803354144096 ucc_loss=0.022119803354144096 ae_loss=0 eval: ucc_acc=1.0 weighted_loss=0.015640411525964737 ucc_loss=0.015640411525964737 ae_loss=0\n"
     ]
    },
    {
     "name": "stderr",
     "output_type": "stream",
     "text": [
      " 16%|█▋        | 3300/20009 [19:20<2:08:35,  2.17it/s]"
     ]
    },
    {
     "name": "stdout",
     "output_type": "stream",
     "text": [
      "Step 63291, training: ucc_acc=1.0 weighted_loss=0.003915778826922178 ucc_loss=0.003915778826922178 ae_loss=0 eval: ucc_acc=1.0 weighted_loss=0.006412643473595381 ucc_loss=0.006412643473595381 ae_loss=0\n"
     ]
    },
    {
     "name": "stderr",
     "output_type": "stream",
     "text": [
      " 17%|█▋        | 3310/20009 [19:24<1:58:05,  2.36it/s]"
     ]
    },
    {
     "name": "stdout",
     "output_type": "stream",
     "text": [
      "Step 63301, training: ucc_acc=1.0 weighted_loss=0.00853096041828394 ucc_loss=0.00853096041828394 ae_loss=0 eval: ucc_acc=1.0 weighted_loss=0.003240414895117283 ucc_loss=0.003240414895117283 ae_loss=0\n"
     ]
    },
    {
     "name": "stderr",
     "output_type": "stream",
     "text": [
      " 17%|█▋        | 3320/20009 [19:28<2:08:26,  2.17it/s]"
     ]
    },
    {
     "name": "stdout",
     "output_type": "stream",
     "text": [
      "Step 63311, training: ucc_acc=0.9333333373069763 weighted_loss=0.1832481324672699 ucc_loss=0.1832481324672699 ae_loss=0 eval: ucc_acc=1.0 weighted_loss=0.005336097441613674 ucc_loss=0.005336097441613674 ae_loss=0\n"
     ]
    },
    {
     "name": "stderr",
     "output_type": "stream",
     "text": [
      " 17%|█▋        | 3330/20009 [19:32<2:07:12,  2.19it/s]"
     ]
    },
    {
     "name": "stdout",
     "output_type": "stream",
     "text": [
      "Step 63321, training: ucc_acc=1.0 weighted_loss=0.003528616623952985 ucc_loss=0.003528616623952985 ae_loss=0 eval: ucc_acc=1.0 weighted_loss=0.000330212467815727 ucc_loss=0.000330212467815727 ae_loss=0\n"
     ]
    },
    {
     "name": "stderr",
     "output_type": "stream",
     "text": [
      " 17%|█▋        | 3340/20009 [19:36<1:53:17,  2.45it/s]"
     ]
    },
    {
     "name": "stdout",
     "output_type": "stream",
     "text": [
      "Step 63331, training: ucc_acc=1.0 weighted_loss=0.02154957689344883 ucc_loss=0.02154957689344883 ae_loss=0 eval: ucc_acc=1.0 weighted_loss=0.016226615756750107 ucc_loss=0.016226615756750107 ae_loss=0\n"
     ]
    },
    {
     "name": "stderr",
     "output_type": "stream",
     "text": [
      " 17%|█▋        | 3350/20009 [19:39<1:53:34,  2.44it/s]"
     ]
    },
    {
     "name": "stdout",
     "output_type": "stream",
     "text": [
      "Step 63341, training: ucc_acc=1.0 weighted_loss=0.027941511943936348 ucc_loss=0.027941511943936348 ae_loss=0 eval: ucc_acc=0.9333333373069763 weighted_loss=0.1432950496673584 ucc_loss=0.1432950496673584 ae_loss=0\n"
     ]
    },
    {
     "name": "stderr",
     "output_type": "stream",
     "text": [
      " 17%|█▋        | 3360/20009 [19:43<1:55:03,  2.41it/s]"
     ]
    },
    {
     "name": "stdout",
     "output_type": "stream",
     "text": [
      "Step 63351, training: ucc_acc=1.0 weighted_loss=0.0197207722812891 ucc_loss=0.0197207722812891 ae_loss=0 eval: ucc_acc=1.0 weighted_loss=0.013314548879861832 ucc_loss=0.013314548879861832 ae_loss=0\n"
     ]
    },
    {
     "name": "stderr",
     "output_type": "stream",
     "text": [
      " 17%|█▋        | 3370/20009 [19:47<1:59:17,  2.32it/s]"
     ]
    },
    {
     "name": "stdout",
     "output_type": "stream",
     "text": [
      "Step 63361, training: ucc_acc=1.0 weighted_loss=0.01970927231013775 ucc_loss=0.01970927231013775 ae_loss=0 eval: ucc_acc=1.0 weighted_loss=0.019645417109131813 ucc_loss=0.019645417109131813 ae_loss=0\n"
     ]
    },
    {
     "name": "stderr",
     "output_type": "stream",
     "text": [
      " 17%|█▋        | 3380/20009 [19:51<2:01:57,  2.27it/s]"
     ]
    },
    {
     "name": "stdout",
     "output_type": "stream",
     "text": [
      "Step 63371, training: ucc_acc=1.0 weighted_loss=0.00553284352645278 ucc_loss=0.00553284352645278 ae_loss=0 eval: ucc_acc=1.0 weighted_loss=0.0021576029248535633 ucc_loss=0.0021576029248535633 ae_loss=0\n"
     ]
    },
    {
     "name": "stderr",
     "output_type": "stream",
     "text": [
      " 17%|█▋        | 3390/20009 [19:55<2:10:03,  2.13it/s]"
     ]
    },
    {
     "name": "stdout",
     "output_type": "stream",
     "text": [
      "Step 63381, training: ucc_acc=1.0 weighted_loss=0.00958683155477047 ucc_loss=0.00958683155477047 ae_loss=0 eval: ucc_acc=0.9333333373069763 weighted_loss=0.18626736104488373 ucc_loss=0.18626736104488373 ae_loss=0\n"
     ]
    },
    {
     "name": "stderr",
     "output_type": "stream",
     "text": [
      " 17%|█▋        | 3400/20009 [19:59<2:00:57,  2.29it/s]"
     ]
    },
    {
     "name": "stdout",
     "output_type": "stream",
     "text": [
      "Step 63391, training: ucc_acc=0.9333333373069763 weighted_loss=0.17596986889839172 ucc_loss=0.17596986889839172 ae_loss=0 eval: ucc_acc=1.0 weighted_loss=0.002878505038097501 ucc_loss=0.002878505038097501 ae_loss=0\n"
     ]
    },
    {
     "name": "stderr",
     "output_type": "stream",
     "text": [
      " 17%|█▋        | 3410/20009 [20:03<1:56:38,  2.37it/s]"
     ]
    },
    {
     "name": "stdout",
     "output_type": "stream",
     "text": [
      "Step 63401, training: ucc_acc=0.9333333373069763 weighted_loss=0.07559280842542648 ucc_loss=0.07559280842542648 ae_loss=0 eval: ucc_acc=1.0 weighted_loss=0.020480869337916374 ucc_loss=0.020480869337916374 ae_loss=0\n"
     ]
    },
    {
     "name": "stderr",
     "output_type": "stream",
     "text": [
      " 17%|█▋        | 3420/20009 [20:07<1:54:51,  2.41it/s]"
     ]
    },
    {
     "name": "stdout",
     "output_type": "stream",
     "text": [
      "Step 63411, training: ucc_acc=1.0 weighted_loss=0.0005630046944133937 ucc_loss=0.0005630046944133937 ae_loss=0 eval: ucc_acc=1.0 weighted_loss=0.013832633383572102 ucc_loss=0.013832633383572102 ae_loss=0\n"
     ]
    },
    {
     "name": "stderr",
     "output_type": "stream",
     "text": [
      " 17%|█▋        | 3430/20009 [20:11<1:49:34,  2.52it/s]"
     ]
    },
    {
     "name": "stdout",
     "output_type": "stream",
     "text": [
      "Step 63421, training: ucc_acc=1.0 weighted_loss=0.003572979476302862 ucc_loss=0.003572979476302862 ae_loss=0 eval: ucc_acc=1.0 weighted_loss=0.010845913551747799 ucc_loss=0.010845913551747799 ae_loss=0\n"
     ]
    },
    {
     "name": "stderr",
     "output_type": "stream",
     "text": [
      " 17%|█▋        | 3440/20009 [20:14<1:52:27,  2.46it/s]"
     ]
    },
    {
     "name": "stdout",
     "output_type": "stream",
     "text": [
      "Step 63431, training: ucc_acc=1.0 weighted_loss=0.004892413504421711 ucc_loss=0.004892413504421711 ae_loss=0 eval: ucc_acc=1.0 weighted_loss=0.019255787134170532 ucc_loss=0.019255787134170532 ae_loss=0\n"
     ]
    },
    {
     "name": "stderr",
     "output_type": "stream",
     "text": [
      " 17%|█▋        | 3450/20009 [20:18<1:55:32,  2.39it/s]"
     ]
    },
    {
     "name": "stdout",
     "output_type": "stream",
     "text": [
      "Step 63441, training: ucc_acc=1.0 weighted_loss=0.0018446043832227588 ucc_loss=0.0018446043832227588 ae_loss=0 eval: ucc_acc=1.0 weighted_loss=0.014843946322798729 ucc_loss=0.014843946322798729 ae_loss=0\n"
     ]
    },
    {
     "name": "stderr",
     "output_type": "stream",
     "text": [
      " 17%|█▋        | 3460/20009 [20:22<1:49:39,  2.52it/s]"
     ]
    },
    {
     "name": "stdout",
     "output_type": "stream",
     "text": [
      "Step 63451, training: ucc_acc=1.0 weighted_loss=0.009777948260307312 ucc_loss=0.009777948260307312 ae_loss=0 eval: ucc_acc=1.0 weighted_loss=1.623556272534188e-05 ucc_loss=1.623556272534188e-05 ae_loss=0\n"
     ]
    },
    {
     "name": "stderr",
     "output_type": "stream",
     "text": [
      " 17%|█▋        | 3470/20009 [20:25<1:53:53,  2.42it/s]"
     ]
    },
    {
     "name": "stdout",
     "output_type": "stream",
     "text": [
      "Step 63461, training: ucc_acc=1.0 weighted_loss=0.00038854495505802333 ucc_loss=0.00038854495505802333 ae_loss=0 eval: ucc_acc=1.0 weighted_loss=0.02243608422577381 ucc_loss=0.02243608422577381 ae_loss=0\n"
     ]
    },
    {
     "name": "stderr",
     "output_type": "stream",
     "text": [
      " 17%|█▋        | 3480/20009 [20:29<1:50:56,  2.48it/s]"
     ]
    },
    {
     "name": "stdout",
     "output_type": "stream",
     "text": [
      "Step 63471, training: ucc_acc=1.0 weighted_loss=0.01023472473025322 ucc_loss=0.01023472473025322 ae_loss=0 eval: ucc_acc=1.0 weighted_loss=0.046374864876270294 ucc_loss=0.046374864876270294 ae_loss=0\n"
     ]
    },
    {
     "name": "stderr",
     "output_type": "stream",
     "text": [
      " 17%|█▋        | 3490/20009 [20:33<1:47:05,  2.57it/s]"
     ]
    },
    {
     "name": "stdout",
     "output_type": "stream",
     "text": [
      "Step 63481, training: ucc_acc=1.0 weighted_loss=0.0007245460874401033 ucc_loss=0.0007245460874401033 ae_loss=0 eval: ucc_acc=1.0 weighted_loss=0.0037821431178599596 ucc_loss=0.0037821431178599596 ae_loss=0\n"
     ]
    },
    {
     "name": "stderr",
     "output_type": "stream",
     "text": [
      " 17%|█▋        | 3500/20009 [20:36<1:51:45,  2.46it/s]"
     ]
    },
    {
     "name": "stdout",
     "output_type": "stream",
     "text": [
      "Step 63491, training: ucc_acc=1.0 weighted_loss=0.0005244733765721321 ucc_loss=0.0005244733765721321 ae_loss=0 eval: ucc_acc=1.0 weighted_loss=0.002500094473361969 ucc_loss=0.002500094473361969 ae_loss=0\n"
     ]
    },
    {
     "name": "stderr",
     "output_type": "stream",
     "text": [
      " 18%|█▊        | 3510/20009 [20:40<1:52:27,  2.45it/s]"
     ]
    },
    {
     "name": "stdout",
     "output_type": "stream",
     "text": [
      "Step 63501, training: ucc_acc=1.0 weighted_loss=0.013479183427989483 ucc_loss=0.013479183427989483 ae_loss=0 eval: ucc_acc=1.0 weighted_loss=0.0060903821140527725 ucc_loss=0.0060903821140527725 ae_loss=0\n"
     ]
    },
    {
     "name": "stderr",
     "output_type": "stream",
     "text": [
      " 18%|█▊        | 3520/20009 [20:44<1:45:22,  2.61it/s]"
     ]
    },
    {
     "name": "stdout",
     "output_type": "stream",
     "text": [
      "Step 63511, training: ucc_acc=1.0 weighted_loss=0.011775719001889229 ucc_loss=0.011775719001889229 ae_loss=0 eval: ucc_acc=1.0 weighted_loss=0.0073948451317846775 ucc_loss=0.0073948451317846775 ae_loss=0\n"
     ]
    },
    {
     "name": "stderr",
     "output_type": "stream",
     "text": [
      " 18%|█▊        | 3530/20009 [20:47<1:50:13,  2.49it/s]"
     ]
    },
    {
     "name": "stdout",
     "output_type": "stream",
     "text": [
      "Step 63521, training: ucc_acc=1.0 weighted_loss=0.025601960718631744 ucc_loss=0.025601960718631744 ae_loss=0 eval: ucc_acc=0.8666666746139526 weighted_loss=0.2242019921541214 ucc_loss=0.2242019921541214 ae_loss=0\n"
     ]
    },
    {
     "name": "stderr",
     "output_type": "stream",
     "text": [
      " 18%|█▊        | 3540/20009 [20:51<1:54:08,  2.40it/s]"
     ]
    },
    {
     "name": "stdout",
     "output_type": "stream",
     "text": [
      "Step 63531, training: ucc_acc=1.0 weighted_loss=0.010785361751914024 ucc_loss=0.010785361751914024 ae_loss=0 eval: ucc_acc=0.9333333373069763 weighted_loss=0.06690527498722076 ucc_loss=0.06690527498722076 ae_loss=0\n"
     ]
    },
    {
     "name": "stderr",
     "output_type": "stream",
     "text": [
      " 18%|█▊        | 3550/20009 [20:55<1:47:06,  2.56it/s]"
     ]
    },
    {
     "name": "stdout",
     "output_type": "stream",
     "text": [
      "Step 63541, training: ucc_acc=1.0 weighted_loss=0.004555562976747751 ucc_loss=0.004555562976747751 ae_loss=0 eval: ucc_acc=0.9333333373069763 weighted_loss=0.1377849578857422 ucc_loss=0.1377849578857422 ae_loss=0\n"
     ]
    },
    {
     "name": "stderr",
     "output_type": "stream",
     "text": [
      " 18%|█▊        | 3560/20009 [20:58<1:51:04,  2.47it/s]"
     ]
    },
    {
     "name": "stdout",
     "output_type": "stream",
     "text": [
      "Step 63551, training: ucc_acc=0.8666666746139526 weighted_loss=0.4405742585659027 ucc_loss=0.4405742585659027 ae_loss=0 eval: ucc_acc=1.0 weighted_loss=0.000433349865488708 ucc_loss=0.000433349865488708 ae_loss=0\n"
     ]
    },
    {
     "name": "stderr",
     "output_type": "stream",
     "text": [
      " 18%|█▊        | 3570/20009 [21:02<1:49:10,  2.51it/s]"
     ]
    },
    {
     "name": "stdout",
     "output_type": "stream",
     "text": [
      "Step 63561, training: ucc_acc=1.0 weighted_loss=0.03166528791189194 ucc_loss=0.03166528791189194 ae_loss=0 eval: ucc_acc=1.0 weighted_loss=0.03343179449439049 ucc_loss=0.03343179449439049 ae_loss=0\n"
     ]
    },
    {
     "name": "stderr",
     "output_type": "stream",
     "text": [
      " 18%|█▊        | 3580/20009 [21:05<1:47:17,  2.55it/s]"
     ]
    },
    {
     "name": "stdout",
     "output_type": "stream",
     "text": [
      "Step 63571, training: ucc_acc=1.0 weighted_loss=0.01786503568291664 ucc_loss=0.01786503568291664 ae_loss=0 eval: ucc_acc=1.0 weighted_loss=0.015735024586319923 ucc_loss=0.015735024586319923 ae_loss=0\n"
     ]
    },
    {
     "name": "stderr",
     "output_type": "stream",
     "text": [
      " 18%|█▊        | 3590/20009 [21:09<1:52:00,  2.44it/s]"
     ]
    },
    {
     "name": "stdout",
     "output_type": "stream",
     "text": [
      "Step 63581, training: ucc_acc=1.0 weighted_loss=0.021813126280903816 ucc_loss=0.021813126280903816 ae_loss=0 eval: ucc_acc=1.0 weighted_loss=0.0006532249390147626 ucc_loss=0.0006532249390147626 ae_loss=0\n"
     ]
    },
    {
     "name": "stderr",
     "output_type": "stream",
     "text": [
      " 18%|█▊        | 3600/20009 [21:13<1:44:32,  2.62it/s]"
     ]
    },
    {
     "name": "stdout",
     "output_type": "stream",
     "text": [
      "Step 63591, training: ucc_acc=1.0 weighted_loss=0.005515267141163349 ucc_loss=0.005515267141163349 ae_loss=0 eval: ucc_acc=1.0 weighted_loss=0.0012221697252243757 ucc_loss=0.0012221697252243757 ae_loss=0\n"
     ]
    },
    {
     "name": "stderr",
     "output_type": "stream",
     "text": [
      " 18%|█▊        | 3610/20009 [21:16<1:48:08,  2.53it/s]"
     ]
    },
    {
     "name": "stdout",
     "output_type": "stream",
     "text": [
      "Step 63601, training: ucc_acc=0.9333333373069763 weighted_loss=0.263022780418396 ucc_loss=0.263022780418396 ae_loss=0 eval: ucc_acc=0.9333333373069763 weighted_loss=0.16379651427268982 ucc_loss=0.16379651427268982 ae_loss=0\n"
     ]
    },
    {
     "name": "stderr",
     "output_type": "stream",
     "text": [
      " 18%|█▊        | 3620/20009 [21:20<1:53:26,  2.41it/s]"
     ]
    },
    {
     "name": "stdout",
     "output_type": "stream",
     "text": [
      "Step 63611, training: ucc_acc=1.0 weighted_loss=0.01966008171439171 ucc_loss=0.01966008171439171 ae_loss=0 eval: ucc_acc=1.0 weighted_loss=0.0010154499905183911 ucc_loss=0.0010154499905183911 ae_loss=0\n"
     ]
    },
    {
     "name": "stderr",
     "output_type": "stream",
     "text": [
      " 18%|█▊        | 3630/20009 [21:24<1:42:43,  2.66it/s]"
     ]
    },
    {
     "name": "stdout",
     "output_type": "stream",
     "text": [
      "Step 63621, training: ucc_acc=1.0 weighted_loss=0.01133529283106327 ucc_loss=0.01133529283106327 ae_loss=0 eval: ucc_acc=1.0 weighted_loss=0.00802227109670639 ucc_loss=0.00802227109670639 ae_loss=0\n"
     ]
    },
    {
     "name": "stderr",
     "output_type": "stream",
     "text": [
      " 18%|█▊        | 3640/20009 [21:27<1:50:18,  2.47it/s]"
     ]
    },
    {
     "name": "stdout",
     "output_type": "stream",
     "text": [
      "Step 63631, training: ucc_acc=1.0 weighted_loss=0.002019457286223769 ucc_loss=0.002019457286223769 ae_loss=0 eval: ucc_acc=1.0 weighted_loss=0.016882440075278282 ucc_loss=0.016882440075278282 ae_loss=0\n"
     ]
    },
    {
     "name": "stderr",
     "output_type": "stream",
     "text": [
      " 18%|█▊        | 3650/20009 [21:31<1:53:15,  2.41it/s]"
     ]
    },
    {
     "name": "stdout",
     "output_type": "stream",
     "text": [
      "Step 63641, training: ucc_acc=1.0 weighted_loss=0.0014446295099332929 ucc_loss=0.0014446295099332929 ae_loss=0 eval: ucc_acc=1.0 weighted_loss=0.004640778061002493 ucc_loss=0.004640778061002493 ae_loss=0\n"
     ]
    },
    {
     "name": "stderr",
     "output_type": "stream",
     "text": [
      " 18%|█▊        | 3660/20009 [21:35<1:44:50,  2.60it/s]"
     ]
    },
    {
     "name": "stdout",
     "output_type": "stream",
     "text": [
      "Step 63651, training: ucc_acc=1.0 weighted_loss=0.008615902625024319 ucc_loss=0.008615902625024319 ae_loss=0 eval: ucc_acc=1.0 weighted_loss=0.008442078717052937 ucc_loss=0.008442078717052937 ae_loss=0\n"
     ]
    },
    {
     "name": "stderr",
     "output_type": "stream",
     "text": [
      " 18%|█▊        | 3670/20009 [21:38<1:53:44,  2.39it/s]"
     ]
    },
    {
     "name": "stdout",
     "output_type": "stream",
     "text": [
      "Step 63661, training: ucc_acc=1.0 weighted_loss=0.001501079648733139 ucc_loss=0.001501079648733139 ae_loss=0 eval: ucc_acc=1.0 weighted_loss=0.0030950503423810005 ucc_loss=0.0030950503423810005 ae_loss=0\n"
     ]
    },
    {
     "name": "stderr",
     "output_type": "stream",
     "text": [
      " 18%|█▊        | 3680/20009 [21:42<1:51:22,  2.44it/s]"
     ]
    },
    {
     "name": "stdout",
     "output_type": "stream",
     "text": [
      "Step 63671, training: ucc_acc=1.0 weighted_loss=0.008996891789138317 ucc_loss=0.008996891789138317 ae_loss=0 eval: ucc_acc=1.0 weighted_loss=0.032148439437150955 ucc_loss=0.032148439437150955 ae_loss=0\n"
     ]
    },
    {
     "name": "stderr",
     "output_type": "stream",
     "text": [
      " 18%|█▊        | 3690/20009 [21:45<1:46:28,  2.55it/s]"
     ]
    },
    {
     "name": "stdout",
     "output_type": "stream",
     "text": [
      "Step 63681, training: ucc_acc=1.0 weighted_loss=0.005158168729394674 ucc_loss=0.005158168729394674 ae_loss=0 eval: ucc_acc=1.0 weighted_loss=0.013804743066430092 ucc_loss=0.013804743066430092 ae_loss=0\n"
     ]
    },
    {
     "name": "stderr",
     "output_type": "stream",
     "text": [
      " 18%|█▊        | 3700/20009 [21:49<1:54:50,  2.37it/s]"
     ]
    },
    {
     "name": "stdout",
     "output_type": "stream",
     "text": [
      "Step 63691, training: ucc_acc=1.0 weighted_loss=0.007450157776474953 ucc_loss=0.007450157776474953 ae_loss=0 eval: ucc_acc=1.0 weighted_loss=0.019336113706231117 ucc_loss=0.019336113706231117 ae_loss=0\n"
     ]
    },
    {
     "name": "stderr",
     "output_type": "stream",
     "text": [
      " 19%|█▊        | 3710/20009 [21:53<1:51:08,  2.44it/s]"
     ]
    },
    {
     "name": "stdout",
     "output_type": "stream",
     "text": [
      "Step 63701, training: ucc_acc=1.0 weighted_loss=0.02081494778394699 ucc_loss=0.02081494778394699 ae_loss=0 eval: ucc_acc=1.0 weighted_loss=0.001852185232564807 ucc_loss=0.001852185232564807 ae_loss=0\n"
     ]
    },
    {
     "name": "stderr",
     "output_type": "stream",
     "text": [
      " 19%|█▊        | 3720/20009 [21:56<1:44:52,  2.59it/s]"
     ]
    },
    {
     "name": "stdout",
     "output_type": "stream",
     "text": [
      "Step 63711, training: ucc_acc=1.0 weighted_loss=0.028658291324973106 ucc_loss=0.028658291324973106 ae_loss=0 eval: ucc_acc=1.0 weighted_loss=0.009386767633259296 ucc_loss=0.009386767633259296 ae_loss=0\n"
     ]
    },
    {
     "name": "stderr",
     "output_type": "stream",
     "text": [
      " 19%|█▊        | 3730/20009 [22:00<1:56:23,  2.33it/s]"
     ]
    },
    {
     "name": "stdout",
     "output_type": "stream",
     "text": [
      "Step 63721, training: ucc_acc=1.0 weighted_loss=0.002756048459559679 ucc_loss=0.002756048459559679 ae_loss=0 eval: ucc_acc=1.0 weighted_loss=0.0014621830778196454 ucc_loss=0.0014621830778196454 ae_loss=0\n"
     ]
    },
    {
     "name": "stderr",
     "output_type": "stream",
     "text": [
      " 19%|█▊        | 3740/20009 [22:04<1:57:46,  2.30it/s]"
     ]
    },
    {
     "name": "stdout",
     "output_type": "stream",
     "text": [
      "Step 63731, training: ucc_acc=1.0 weighted_loss=0.012841546908020973 ucc_loss=0.012841546908020973 ae_loss=0 eval: ucc_acc=1.0 weighted_loss=0.0059231361374258995 ucc_loss=0.0059231361374258995 ae_loss=0\n"
     ]
    },
    {
     "name": "stderr",
     "output_type": "stream",
     "text": [
      " 19%|█▊        | 3750/20009 [22:08<1:53:22,  2.39it/s]"
     ]
    },
    {
     "name": "stdout",
     "output_type": "stream",
     "text": [
      "Step 63741, training: ucc_acc=1.0 weighted_loss=0.041743990033864975 ucc_loss=0.041743990033864975 ae_loss=0 eval: ucc_acc=1.0 weighted_loss=0.024054741486907005 ucc_loss=0.024054741486907005 ae_loss=0\n"
     ]
    },
    {
     "name": "stderr",
     "output_type": "stream",
     "text": [
      " 19%|█▉        | 3760/20009 [22:12<1:49:06,  2.48it/s]"
     ]
    },
    {
     "name": "stdout",
     "output_type": "stream",
     "text": [
      "Step 63751, training: ucc_acc=1.0 weighted_loss=0.0004606878210324794 ucc_loss=0.0004606878210324794 ae_loss=0 eval: ucc_acc=1.0 weighted_loss=0.00012658933701459318 ucc_loss=0.00012658933701459318 ae_loss=0\n"
     ]
    },
    {
     "name": "stderr",
     "output_type": "stream",
     "text": [
      " 19%|█▉        | 3770/20009 [22:15<1:45:58,  2.55it/s]"
     ]
    },
    {
     "name": "stdout",
     "output_type": "stream",
     "text": [
      "Step 63761, training: ucc_acc=1.0 weighted_loss=0.005436927080154419 ucc_loss=0.005436927080154419 ae_loss=0 eval: ucc_acc=1.0 weighted_loss=0.009268756955862045 ucc_loss=0.009268756955862045 ae_loss=0\n"
     ]
    },
    {
     "name": "stderr",
     "output_type": "stream",
     "text": [
      " 19%|█▉        | 3780/20009 [22:19<1:49:23,  2.47it/s]"
     ]
    },
    {
     "name": "stdout",
     "output_type": "stream",
     "text": [
      "Step 63771, training: ucc_acc=1.0 weighted_loss=0.014964993111789227 ucc_loss=0.014964993111789227 ae_loss=0 eval: ucc_acc=1.0 weighted_loss=0.03326134383678436 ucc_loss=0.03326134383678436 ae_loss=0\n"
     ]
    },
    {
     "name": "stderr",
     "output_type": "stream",
     "text": [
      " 19%|█▉        | 3790/20009 [22:23<1:46:07,  2.55it/s]"
     ]
    },
    {
     "name": "stdout",
     "output_type": "stream",
     "text": [
      "Step 63781, training: ucc_acc=1.0 weighted_loss=0.013686067424714565 ucc_loss=0.013686067424714565 ae_loss=0 eval: ucc_acc=1.0 weighted_loss=0.02869199402630329 ucc_loss=0.02869199402630329 ae_loss=0\n"
     ]
    },
    {
     "name": "stderr",
     "output_type": "stream",
     "text": [
      " 19%|█▉        | 3800/20009 [22:26<1:47:12,  2.52it/s]"
     ]
    },
    {
     "name": "stdout",
     "output_type": "stream",
     "text": [
      "Step 63791, training: ucc_acc=1.0 weighted_loss=0.024339791387319565 ucc_loss=0.024339791387319565 ae_loss=0 eval: ucc_acc=1.0 weighted_loss=0.006802142597734928 ucc_loss=0.006802142597734928 ae_loss=0\n"
     ]
    },
    {
     "name": "stderr",
     "output_type": "stream",
     "text": [
      " 19%|█▉        | 3810/20009 [22:30<1:50:01,  2.45it/s]"
     ]
    },
    {
     "name": "stdout",
     "output_type": "stream",
     "text": [
      "Step 63801, training: ucc_acc=1.0 weighted_loss=0.005342579912394285 ucc_loss=0.005342579912394285 ae_loss=0 eval: ucc_acc=0.9333333373069763 weighted_loss=0.1963377594947815 ucc_loss=0.1963377594947815 ae_loss=0\n"
     ]
    },
    {
     "name": "stderr",
     "output_type": "stream",
     "text": [
      " 19%|█▉        | 3820/20009 [22:34<1:45:27,  2.56it/s]"
     ]
    },
    {
     "name": "stdout",
     "output_type": "stream",
     "text": [
      "Step 63811, training: ucc_acc=1.0 weighted_loss=0.00021552997350227088 ucc_loss=0.00021552997350227088 ae_loss=0 eval: ucc_acc=1.0 weighted_loss=0.00040934994467534125 ucc_loss=0.00040934994467534125 ae_loss=0\n"
     ]
    },
    {
     "name": "stderr",
     "output_type": "stream",
     "text": [
      " 19%|█▉        | 3830/20009 [22:37<1:47:07,  2.52it/s]"
     ]
    },
    {
     "name": "stdout",
     "output_type": "stream",
     "text": [
      "Step 63821, training: ucc_acc=1.0 weighted_loss=0.020517051219940186 ucc_loss=0.020517051219940186 ae_loss=0 eval: ucc_acc=1.0 weighted_loss=0.022056065499782562 ucc_loss=0.022056065499782562 ae_loss=0\n"
     ]
    },
    {
     "name": "stderr",
     "output_type": "stream",
     "text": [
      " 19%|█▉        | 3840/20009 [22:41<1:56:09,  2.32it/s]"
     ]
    },
    {
     "name": "stdout",
     "output_type": "stream",
     "text": [
      "Step 63831, training: ucc_acc=1.0 weighted_loss=0.01450274232774973 ucc_loss=0.01450274232774973 ae_loss=0 eval: ucc_acc=1.0 weighted_loss=0.001366691547445953 ucc_loss=0.001366691547445953 ae_loss=0\n"
     ]
    },
    {
     "name": "stderr",
     "output_type": "stream",
     "text": [
      " 19%|█▉        | 3850/20009 [22:45<1:43:55,  2.59it/s]"
     ]
    },
    {
     "name": "stdout",
     "output_type": "stream",
     "text": [
      "Step 63841, training: ucc_acc=1.0 weighted_loss=0.0002446949656587094 ucc_loss=0.0002446949656587094 ae_loss=0 eval: ucc_acc=1.0 weighted_loss=0.01016008760780096 ucc_loss=0.01016008760780096 ae_loss=0\n"
     ]
    },
    {
     "name": "stderr",
     "output_type": "stream",
     "text": [
      " 19%|█▉        | 3860/20009 [22:49<1:52:26,  2.39it/s]"
     ]
    },
    {
     "name": "stdout",
     "output_type": "stream",
     "text": [
      "Step 63851, training: ucc_acc=1.0 weighted_loss=0.02074366994202137 ucc_loss=0.02074366994202137 ae_loss=0 eval: ucc_acc=1.0 weighted_loss=0.01953316293656826 ucc_loss=0.01953316293656826 ae_loss=0\n"
     ]
    },
    {
     "name": "stderr",
     "output_type": "stream",
     "text": [
      " 19%|█▉        | 3870/20009 [22:52<1:52:11,  2.40it/s]"
     ]
    },
    {
     "name": "stdout",
     "output_type": "stream",
     "text": [
      "Step 63861, training: ucc_acc=1.0 weighted_loss=0.010879231616854668 ucc_loss=0.010879231616854668 ae_loss=0 eval: ucc_acc=1.0 weighted_loss=0.0010775185655802488 ucc_loss=0.0010775185655802488 ae_loss=0\n"
     ]
    },
    {
     "name": "stderr",
     "output_type": "stream",
     "text": [
      " 19%|█▉        | 3880/20009 [22:56<1:49:40,  2.45it/s]"
     ]
    },
    {
     "name": "stdout",
     "output_type": "stream",
     "text": [
      "Step 63871, training: ucc_acc=1.0 weighted_loss=0.027641557157039642 ucc_loss=0.027641557157039642 ae_loss=0 eval: ucc_acc=1.0 weighted_loss=0.011373895220458508 ucc_loss=0.011373895220458508 ae_loss=0\n"
     ]
    },
    {
     "name": "stderr",
     "output_type": "stream",
     "text": [
      " 19%|█▉        | 3890/20009 [23:00<1:46:03,  2.53it/s]"
     ]
    },
    {
     "name": "stdout",
     "output_type": "stream",
     "text": [
      "Step 63881, training: ucc_acc=1.0 weighted_loss=0.0003184485249221325 ucc_loss=0.0003184485249221325 ae_loss=0 eval: ucc_acc=0.9333333373069763 weighted_loss=0.1478172093629837 ucc_loss=0.1478172093629837 ae_loss=0\n"
     ]
    },
    {
     "name": "stderr",
     "output_type": "stream",
     "text": [
      " 19%|█▉        | 3900/20009 [23:03<1:44:34,  2.57it/s]"
     ]
    },
    {
     "name": "stdout",
     "output_type": "stream",
     "text": [
      "Step 63891, training: ucc_acc=1.0 weighted_loss=0.0001536277704872191 ucc_loss=0.0001536277704872191 ae_loss=0 eval: ucc_acc=0.9333333373069763 weighted_loss=0.1933855265378952 ucc_loss=0.1933855265378952 ae_loss=0\n"
     ]
    },
    {
     "name": "stderr",
     "output_type": "stream",
     "text": [
      " 20%|█▉        | 3910/20009 [23:07<1:45:28,  2.54it/s]"
     ]
    },
    {
     "name": "stdout",
     "output_type": "stream",
     "text": [
      "Step 63901, training: ucc_acc=1.0 weighted_loss=0.008328041061758995 ucc_loss=0.008328041061758995 ae_loss=0 eval: ucc_acc=1.0 weighted_loss=0.008019332773983479 ucc_loss=0.008019332773983479 ae_loss=0\n"
     ]
    },
    {
     "name": "stderr",
     "output_type": "stream",
     "text": [
      " 20%|█▉        | 3920/20009 [23:11<1:57:27,  2.28it/s]"
     ]
    },
    {
     "name": "stdout",
     "output_type": "stream",
     "text": [
      "Step 63911, training: ucc_acc=1.0 weighted_loss=0.0034574707970023155 ucc_loss=0.0034574707970023155 ae_loss=0 eval: ucc_acc=1.0 weighted_loss=0.01617801934480667 ucc_loss=0.01617801934480667 ae_loss=0\n"
     ]
    },
    {
     "name": "stderr",
     "output_type": "stream",
     "text": [
      " 20%|█▉        | 3930/20009 [23:14<1:45:50,  2.53it/s]"
     ]
    },
    {
     "name": "stdout",
     "output_type": "stream",
     "text": [
      "Step 63921, training: ucc_acc=1.0 weighted_loss=0.006346335634589195 ucc_loss=0.006346335634589195 ae_loss=0 eval: ucc_acc=1.0 weighted_loss=0.006215214263647795 ucc_loss=0.006215214263647795 ae_loss=0\n"
     ]
    },
    {
     "name": "stderr",
     "output_type": "stream",
     "text": [
      " 20%|█▉        | 3940/20009 [23:18<1:44:42,  2.56it/s]"
     ]
    },
    {
     "name": "stdout",
     "output_type": "stream",
     "text": [
      "Step 63931, training: ucc_acc=1.0 weighted_loss=0.009567366912961006 ucc_loss=0.009567366912961006 ae_loss=0 eval: ucc_acc=1.0 weighted_loss=0.021685181185603142 ucc_loss=0.021685181185603142 ae_loss=0\n"
     ]
    },
    {
     "name": "stderr",
     "output_type": "stream",
     "text": [
      " 20%|█▉        | 3950/20009 [23:21<1:46:54,  2.50it/s]"
     ]
    },
    {
     "name": "stdout",
     "output_type": "stream",
     "text": [
      "Step 63941, training: ucc_acc=1.0 weighted_loss=0.0018081279704347253 ucc_loss=0.0018081279704347253 ae_loss=0 eval: ucc_acc=1.0 weighted_loss=0.011926129460334778 ucc_loss=0.011926129460334778 ae_loss=0\n"
     ]
    },
    {
     "name": "stderr",
     "output_type": "stream",
     "text": [
      " 20%|█▉        | 3960/20009 [23:25<1:40:34,  2.66it/s]"
     ]
    },
    {
     "name": "stdout",
     "output_type": "stream",
     "text": [
      "Step 63951, training: ucc_acc=1.0 weighted_loss=0.06470937281847 ucc_loss=0.06470937281847 ae_loss=0 eval: ucc_acc=1.0 weighted_loss=0.008524122647941113 ucc_loss=0.008524122647941113 ae_loss=0\n"
     ]
    },
    {
     "name": "stderr",
     "output_type": "stream",
     "text": [
      " 20%|█▉        | 3970/20009 [23:28<1:42:22,  2.61it/s]"
     ]
    },
    {
     "name": "stdout",
     "output_type": "stream",
     "text": [
      "Step 63961, training: ucc_acc=1.0 weighted_loss=0.032210249453783035 ucc_loss=0.032210249453783035 ae_loss=0 eval: ucc_acc=1.0 weighted_loss=0.026912003755569458 ucc_loss=0.026912003755569458 ae_loss=0\n"
     ]
    },
    {
     "name": "stderr",
     "output_type": "stream",
     "text": [
      " 20%|█▉        | 3980/20009 [23:32<1:46:10,  2.52it/s]"
     ]
    },
    {
     "name": "stdout",
     "output_type": "stream",
     "text": [
      "Step 63971, training: ucc_acc=1.0 weighted_loss=0.00018210741109214723 ucc_loss=0.00018210741109214723 ae_loss=0 eval: ucc_acc=1.0 weighted_loss=0.01065184734761715 ucc_loss=0.01065184734761715 ae_loss=0\n"
     ]
    },
    {
     "name": "stderr",
     "output_type": "stream",
     "text": [
      " 20%|█▉        | 3990/20009 [23:36<1:44:24,  2.56it/s]"
     ]
    },
    {
     "name": "stdout",
     "output_type": "stream",
     "text": [
      "Step 63981, training: ucc_acc=1.0 weighted_loss=0.022328810766339302 ucc_loss=0.022328810766339302 ae_loss=0 eval: ucc_acc=1.0 weighted_loss=0.0010210227919742465 ucc_loss=0.0010210227919742465 ae_loss=0\n"
     ]
    },
    {
     "name": "stderr",
     "output_type": "stream",
     "text": [
      " 20%|█▉        | 4000/20009 [23:39<1:41:24,  2.63it/s]"
     ]
    },
    {
     "name": "stdout",
     "output_type": "stream",
     "text": [
      "Step 63991, training: ucc_acc=1.0 weighted_loss=0.00043473957339301705 ucc_loss=0.00043473957339301705 ae_loss=0 eval: ucc_acc=1.0 weighted_loss=0.025977466255426407 ucc_loss=0.025977466255426407 ae_loss=0\n"
     ]
    },
    {
     "name": "stderr",
     "output_type": "stream",
     "text": [
      " 20%|██        | 4010/20009 [23:42<1:40:24,  2.66it/s]"
     ]
    },
    {
     "name": "stdout",
     "output_type": "stream",
     "text": [
      "Step 64001, training: ucc_acc=1.0 weighted_loss=0.0034271818585693836 ucc_loss=0.0034271818585693836 ae_loss=0 eval: ucc_acc=0.9333333373069763 weighted_loss=0.20115454494953156 ucc_loss=0.20115454494953156 ae_loss=0\n"
     ]
    },
    {
     "name": "stderr",
     "output_type": "stream",
     "text": [
      " 20%|██        | 4020/20009 [23:46<1:41:38,  2.62it/s]"
     ]
    },
    {
     "name": "stdout",
     "output_type": "stream",
     "text": [
      "Step 64011, training: ucc_acc=1.0 weighted_loss=0.010025620460510254 ucc_loss=0.010025620460510254 ae_loss=0 eval: ucc_acc=1.0 weighted_loss=0.006793758366256952 ucc_loss=0.006793758366256952 ae_loss=0\n"
     ]
    },
    {
     "name": "stderr",
     "output_type": "stream",
     "text": [
      " 20%|██        | 4030/20009 [23:50<1:46:36,  2.50it/s]"
     ]
    },
    {
     "name": "stdout",
     "output_type": "stream",
     "text": [
      "Step 64021, training: ucc_acc=1.0 weighted_loss=0.015349392779171467 ucc_loss=0.015349392779171467 ae_loss=0 eval: ucc_acc=1.0 weighted_loss=0.001361298724077642 ucc_loss=0.001361298724077642 ae_loss=0\n"
     ]
    },
    {
     "name": "stderr",
     "output_type": "stream",
     "text": [
      " 20%|██        | 4040/20009 [23:53<1:45:42,  2.52it/s]"
     ]
    },
    {
     "name": "stdout",
     "output_type": "stream",
     "text": [
      "Step 64031, training: ucc_acc=1.0 weighted_loss=0.01155823189765215 ucc_loss=0.01155823189765215 ae_loss=0 eval: ucc_acc=1.0 weighted_loss=0.029228735715150833 ucc_loss=0.029228735715150833 ae_loss=0\n"
     ]
    },
    {
     "name": "stderr",
     "output_type": "stream",
     "text": [
      " 20%|██        | 4050/20009 [23:57<1:47:08,  2.48it/s]"
     ]
    },
    {
     "name": "stdout",
     "output_type": "stream",
     "text": [
      "Step 64041, training: ucc_acc=1.0 weighted_loss=0.00031779069104231894 ucc_loss=0.00031779069104231894 ae_loss=0 eval: ucc_acc=1.0 weighted_loss=0.012421214953064919 ucc_loss=0.012421214953064919 ae_loss=0\n"
     ]
    },
    {
     "name": "stderr",
     "output_type": "stream",
     "text": [
      " 20%|██        | 4060/20009 [24:00<1:39:33,  2.67it/s]"
     ]
    },
    {
     "name": "stdout",
     "output_type": "stream",
     "text": [
      "Step 64051, training: ucc_acc=1.0 weighted_loss=0.024668807163834572 ucc_loss=0.024668807163834572 ae_loss=0 eval: ucc_acc=1.0 weighted_loss=0.019888458773493767 ucc_loss=0.019888458773493767 ae_loss=0\n"
     ]
    },
    {
     "name": "stderr",
     "output_type": "stream",
     "text": [
      " 20%|██        | 4070/20009 [24:04<1:40:36,  2.64it/s]"
     ]
    },
    {
     "name": "stdout",
     "output_type": "stream",
     "text": [
      "Step 64061, training: ucc_acc=1.0 weighted_loss=0.006761495489627123 ucc_loss=0.006761495489627123 ae_loss=0 eval: ucc_acc=1.0 weighted_loss=0.004000714980065823 ucc_loss=0.004000714980065823 ae_loss=0\n"
     ]
    },
    {
     "name": "stderr",
     "output_type": "stream",
     "text": [
      " 20%|██        | 4080/20009 [24:07<1:44:26,  2.54it/s]"
     ]
    },
    {
     "name": "stdout",
     "output_type": "stream",
     "text": [
      "Step 64071, training: ucc_acc=1.0 weighted_loss=0.0005088503239676356 ucc_loss=0.0005088503239676356 ae_loss=0 eval: ucc_acc=1.0 weighted_loss=0.03249537572264671 ucc_loss=0.03249537572264671 ae_loss=0\n"
     ]
    },
    {
     "name": "stderr",
     "output_type": "stream",
     "text": [
      " 20%|██        | 4090/20009 [24:11<1:45:32,  2.51it/s]"
     ]
    },
    {
     "name": "stdout",
     "output_type": "stream",
     "text": [
      "Step 64081, training: ucc_acc=0.9333333373069763 weighted_loss=0.15309621393680573 ucc_loss=0.15309621393680573 ae_loss=0 eval: ucc_acc=1.0 weighted_loss=0.006008464377373457 ucc_loss=0.006008464377373457 ae_loss=0\n"
     ]
    },
    {
     "name": "stderr",
     "output_type": "stream",
     "text": [
      " 20%|██        | 4100/20009 [24:15<1:45:14,  2.52it/s]"
     ]
    },
    {
     "name": "stdout",
     "output_type": "stream",
     "text": [
      "Step 64091, training: ucc_acc=1.0 weighted_loss=0.012367716990411282 ucc_loss=0.012367716990411282 ae_loss=0 eval: ucc_acc=1.0 weighted_loss=0.039721064269542694 ucc_loss=0.039721064269542694 ae_loss=0\n"
     ]
    },
    {
     "name": "stderr",
     "output_type": "stream",
     "text": [
      " 21%|██        | 4110/20009 [24:18<1:55:43,  2.29it/s]"
     ]
    },
    {
     "name": "stdout",
     "output_type": "stream",
     "text": [
      "Step 64101, training: ucc_acc=1.0 weighted_loss=0.010489152744412422 ucc_loss=0.010489152744412422 ae_loss=0 eval: ucc_acc=1.0 weighted_loss=0.008293846622109413 ucc_loss=0.008293846622109413 ae_loss=0\n"
     ]
    },
    {
     "name": "stderr",
     "output_type": "stream",
     "text": [
      " 21%|██        | 4120/20009 [24:22<1:43:37,  2.56it/s]"
     ]
    },
    {
     "name": "stdout",
     "output_type": "stream",
     "text": [
      "Step 64111, training: ucc_acc=1.0 weighted_loss=0.016859812662005424 ucc_loss=0.016859812662005424 ae_loss=0 eval: ucc_acc=1.0 weighted_loss=0.003031809814274311 ucc_loss=0.003031809814274311 ae_loss=0\n"
     ]
    },
    {
     "name": "stderr",
     "output_type": "stream",
     "text": [
      " 21%|██        | 4130/20009 [24:25<1:40:10,  2.64it/s]"
     ]
    },
    {
     "name": "stdout",
     "output_type": "stream",
     "text": [
      "Step 64121, training: ucc_acc=1.0 weighted_loss=0.001811085268855095 ucc_loss=0.001811085268855095 ae_loss=0 eval: ucc_acc=0.9333333373069763 weighted_loss=0.13707612454891205 ucc_loss=0.13707612454891205 ae_loss=0\n"
     ]
    },
    {
     "name": "stderr",
     "output_type": "stream",
     "text": [
      " 21%|██        | 4140/20009 [24:29<1:40:21,  2.64it/s]"
     ]
    },
    {
     "name": "stdout",
     "output_type": "stream",
     "text": [
      "Step 64131, training: ucc_acc=1.0 weighted_loss=0.02229735441505909 ucc_loss=0.02229735441505909 ae_loss=0 eval: ucc_acc=1.0 weighted_loss=0.00017040727834682912 ucc_loss=0.00017040727834682912 ae_loss=0\n"
     ]
    },
    {
     "name": "stderr",
     "output_type": "stream",
     "text": [
      " 21%|██        | 4150/20009 [24:33<1:41:38,  2.60it/s]"
     ]
    },
    {
     "name": "stdout",
     "output_type": "stream",
     "text": [
      "Step 64141, training: ucc_acc=1.0 weighted_loss=0.006707048509269953 ucc_loss=0.006707048509269953 ae_loss=0 eval: ucc_acc=1.0 weighted_loss=0.004629126749932766 ucc_loss=0.004629126749932766 ae_loss=0\n"
     ]
    },
    {
     "name": "stderr",
     "output_type": "stream",
     "text": [
      " 21%|██        | 4160/20009 [24:36<1:43:31,  2.55it/s]"
     ]
    },
    {
     "name": "stdout",
     "output_type": "stream",
     "text": [
      "Step 64151, training: ucc_acc=1.0 weighted_loss=0.00014635380648542196 ucc_loss=0.00014635380648542196 ae_loss=0 eval: ucc_acc=1.0 weighted_loss=0.0002083555154968053 ucc_loss=0.0002083555154968053 ae_loss=0\n"
     ]
    },
    {
     "name": "stderr",
     "output_type": "stream",
     "text": [
      " 21%|██        | 4170/20009 [24:40<1:41:17,  2.61it/s]"
     ]
    },
    {
     "name": "stdout",
     "output_type": "stream",
     "text": [
      "Step 64161, training: ucc_acc=1.0 weighted_loss=0.005620214156806469 ucc_loss=0.005620214156806469 ae_loss=0 eval: ucc_acc=1.0 weighted_loss=0.00954996608197689 ucc_loss=0.00954996608197689 ae_loss=0\n"
     ]
    },
    {
     "name": "stderr",
     "output_type": "stream",
     "text": [
      " 21%|██        | 4180/20009 [24:43<1:45:12,  2.51it/s]"
     ]
    },
    {
     "name": "stdout",
     "output_type": "stream",
     "text": [
      "Step 64171, training: ucc_acc=0.9333333373069763 weighted_loss=0.1928832232952118 ucc_loss=0.1928832232952118 ae_loss=0 eval: ucc_acc=1.0 weighted_loss=0.010822012089192867 ucc_loss=0.010822012089192867 ae_loss=0\n"
     ]
    },
    {
     "name": "stderr",
     "output_type": "stream",
     "text": [
      " 21%|██        | 4190/20009 [24:47<1:40:21,  2.63it/s]"
     ]
    },
    {
     "name": "stdout",
     "output_type": "stream",
     "text": [
      "Step 64181, training: ucc_acc=0.9333333373069763 weighted_loss=0.16244973242282867 ucc_loss=0.16244973242282867 ae_loss=0 eval: ucc_acc=1.0 weighted_loss=0.0058570015244185925 ucc_loss=0.0058570015244185925 ae_loss=0\n"
     ]
    },
    {
     "name": "stderr",
     "output_type": "stream",
     "text": [
      " 21%|██        | 4200/20009 [24:50<1:40:36,  2.62it/s]"
     ]
    },
    {
     "name": "stdout",
     "output_type": "stream",
     "text": [
      "Step 64191, training: ucc_acc=1.0 weighted_loss=0.0010644703870639205 ucc_loss=0.0010644703870639205 ae_loss=0 eval: ucc_acc=1.0 weighted_loss=0.017573628574609756 ucc_loss=0.017573628574609756 ae_loss=0\n"
     ]
    },
    {
     "name": "stderr",
     "output_type": "stream",
     "text": [
      " 21%|██        | 4210/20009 [24:54<1:47:16,  2.45it/s]"
     ]
    },
    {
     "name": "stdout",
     "output_type": "stream",
     "text": [
      "Step 64201, training: ucc_acc=1.0 weighted_loss=0.008027473464608192 ucc_loss=0.008027473464608192 ae_loss=0 eval: ucc_acc=1.0 weighted_loss=0.01992962323129177 ucc_loss=0.01992962323129177 ae_loss=0\n"
     ]
    },
    {
     "name": "stderr",
     "output_type": "stream",
     "text": [
      " 21%|██        | 4220/20009 [24:57<1:40:59,  2.61it/s]"
     ]
    },
    {
     "name": "stdout",
     "output_type": "stream",
     "text": [
      "Step 64211, training: ucc_acc=1.0 weighted_loss=0.005676718894392252 ucc_loss=0.005676718894392252 ae_loss=0 eval: ucc_acc=1.0 weighted_loss=0.0002411158784525469 ucc_loss=0.0002411158784525469 ae_loss=0\n"
     ]
    },
    {
     "name": "stderr",
     "output_type": "stream",
     "text": [
      " 21%|██        | 4230/20009 [25:01<1:45:22,  2.50it/s]"
     ]
    },
    {
     "name": "stdout",
     "output_type": "stream",
     "text": [
      "Step 64221, training: ucc_acc=1.0 weighted_loss=0.003784256288781762 ucc_loss=0.003784256288781762 ae_loss=0 eval: ucc_acc=1.0 weighted_loss=0.01046576164662838 ucc_loss=0.01046576164662838 ae_loss=0\n"
     ]
    },
    {
     "name": "stderr",
     "output_type": "stream",
     "text": [
      " 21%|██        | 4240/20009 [25:04<1:41:47,  2.58it/s]"
     ]
    },
    {
     "name": "stdout",
     "output_type": "stream",
     "text": [
      "Step 64231, training: ucc_acc=1.0 weighted_loss=0.006231145467609167 ucc_loss=0.006231145467609167 ae_loss=0 eval: ucc_acc=1.0 weighted_loss=0.0011019106023013592 ucc_loss=0.0011019106023013592 ae_loss=0\n"
     ]
    },
    {
     "name": "stderr",
     "output_type": "stream",
     "text": [
      " 21%|██        | 4250/20009 [25:10<2:14:16,  1.96it/s]"
     ]
    },
    {
     "name": "stdout",
     "output_type": "stream",
     "text": [
      "Step 64241, training: ucc_acc=1.0 weighted_loss=0.029194707050919533 ucc_loss=0.029194707050919533 ae_loss=0 eval: ucc_acc=1.0 weighted_loss=0.04605398699641228 ucc_loss=0.04605398699641228 ae_loss=0\n"
     ]
    },
    {
     "name": "stderr",
     "output_type": "stream",
     "text": [
      " 21%|██▏       | 4260/20009 [25:13<1:46:46,  2.46it/s]"
     ]
    },
    {
     "name": "stdout",
     "output_type": "stream",
     "text": [
      "Step 64251, training: ucc_acc=1.0 weighted_loss=0.0020867183338850737 ucc_loss=0.0020867183338850737 ae_loss=0 eval: ucc_acc=1.0 weighted_loss=0.006708613131195307 ucc_loss=0.006708613131195307 ae_loss=0\n"
     ]
    },
    {
     "name": "stderr",
     "output_type": "stream",
     "text": [
      " 21%|██▏       | 4270/20009 [25:17<1:41:33,  2.58it/s]"
     ]
    },
    {
     "name": "stdout",
     "output_type": "stream",
     "text": [
      "Step 64261, training: ucc_acc=1.0 weighted_loss=0.00580598646774888 ucc_loss=0.00580598646774888 ae_loss=0 eval: ucc_acc=1.0 weighted_loss=0.003908576909452677 ucc_loss=0.003908576909452677 ae_loss=0\n"
     ]
    },
    {
     "name": "stderr",
     "output_type": "stream",
     "text": [
      " 21%|██▏       | 4280/20009 [25:20<1:41:53,  2.57it/s]"
     ]
    },
    {
     "name": "stdout",
     "output_type": "stream",
     "text": [
      "Step 64271, training: ucc_acc=1.0 weighted_loss=0.01460842415690422 ucc_loss=0.01460842415690422 ae_loss=0 eval: ucc_acc=1.0 weighted_loss=0.016205808147788048 ucc_loss=0.016205808147788048 ae_loss=0\n"
     ]
    },
    {
     "name": "stderr",
     "output_type": "stream",
     "text": [
      " 21%|██▏       | 4290/20009 [25:24<1:51:02,  2.36it/s]"
     ]
    },
    {
     "name": "stdout",
     "output_type": "stream",
     "text": [
      "Step 64281, training: ucc_acc=1.0 weighted_loss=6.918783765286207e-05 ucc_loss=6.918783765286207e-05 ae_loss=0 eval: ucc_acc=1.0 weighted_loss=0.03286739066243172 ucc_loss=0.03286739066243172 ae_loss=0\n"
     ]
    },
    {
     "name": "stderr",
     "output_type": "stream",
     "text": [
      " 21%|██▏       | 4300/20009 [25:28<1:40:06,  2.62it/s]"
     ]
    },
    {
     "name": "stdout",
     "output_type": "stream",
     "text": [
      "Step 64291, training: ucc_acc=1.0 weighted_loss=0.022733433172106743 ucc_loss=0.022733433172106743 ae_loss=0 eval: ucc_acc=0.9333333373069763 weighted_loss=0.09666644036769867 ucc_loss=0.09666644036769867 ae_loss=0\n"
     ]
    },
    {
     "name": "stderr",
     "output_type": "stream",
     "text": [
      " 22%|██▏       | 4310/20009 [25:31<1:38:42,  2.65it/s]"
     ]
    },
    {
     "name": "stdout",
     "output_type": "stream",
     "text": [
      "Step 64301, training: ucc_acc=1.0 weighted_loss=0.010828289203345776 ucc_loss=0.010828289203345776 ae_loss=0 eval: ucc_acc=0.9333333373069763 weighted_loss=0.09668423980474472 ucc_loss=0.09668423980474472 ae_loss=0\n"
     ]
    },
    {
     "name": "stderr",
     "output_type": "stream",
     "text": [
      " 22%|██▏       | 4320/20009 [25:35<1:39:36,  2.63it/s]"
     ]
    },
    {
     "name": "stdout",
     "output_type": "stream",
     "text": [
      "Step 64311, training: ucc_acc=1.0 weighted_loss=0.009867725893855095 ucc_loss=0.009867725893855095 ae_loss=0 eval: ucc_acc=1.0 weighted_loss=0.001478818361647427 ucc_loss=0.001478818361647427 ae_loss=0\n"
     ]
    },
    {
     "name": "stderr",
     "output_type": "stream",
     "text": [
      " 22%|██▏       | 4330/20009 [25:39<1:51:49,  2.34it/s]"
     ]
    },
    {
     "name": "stdout",
     "output_type": "stream",
     "text": [
      "Step 64321, training: ucc_acc=1.0 weighted_loss=0.019430911168456078 ucc_loss=0.019430911168456078 ae_loss=0 eval: ucc_acc=1.0 weighted_loss=0.00733615318313241 ucc_loss=0.00733615318313241 ae_loss=0\n"
     ]
    },
    {
     "name": "stderr",
     "output_type": "stream",
     "text": [
      " 22%|██▏       | 4340/20009 [25:42<1:44:19,  2.50it/s]"
     ]
    },
    {
     "name": "stdout",
     "output_type": "stream",
     "text": [
      "Step 64331, training: ucc_acc=1.0 weighted_loss=0.030400538817048073 ucc_loss=0.030400538817048073 ae_loss=0 eval: ucc_acc=0.9333333373069763 weighted_loss=0.1391407698392868 ucc_loss=0.1391407698392868 ae_loss=0\n"
     ]
    },
    {
     "name": "stderr",
     "output_type": "stream",
     "text": [
      " 22%|██▏       | 4350/20009 [25:46<1:52:16,  2.32it/s]"
     ]
    },
    {
     "name": "stdout",
     "output_type": "stream",
     "text": [
      "Step 64341, training: ucc_acc=1.0 weighted_loss=0.010095745325088501 ucc_loss=0.010095745325088501 ae_loss=0 eval: ucc_acc=1.0 weighted_loss=0.004856519866734743 ucc_loss=0.004856519866734743 ae_loss=0\n"
     ]
    },
    {
     "name": "stderr",
     "output_type": "stream",
     "text": [
      " 22%|██▏       | 4360/20009 [25:49<1:44:41,  2.49it/s]"
     ]
    },
    {
     "name": "stdout",
     "output_type": "stream",
     "text": [
      "Step 64351, training: ucc_acc=1.0 weighted_loss=0.002415630966424942 ucc_loss=0.002415630966424942 ae_loss=0 eval: ucc_acc=1.0 weighted_loss=0.00763386907055974 ucc_loss=0.00763386907055974 ae_loss=0\n"
     ]
    },
    {
     "name": "stderr",
     "output_type": "stream",
     "text": [
      " 22%|██▏       | 4370/20009 [25:53<1:44:14,  2.50it/s]"
     ]
    },
    {
     "name": "stdout",
     "output_type": "stream",
     "text": [
      "Step 64361, training: ucc_acc=1.0 weighted_loss=0.015146971680223942 ucc_loss=0.015146971680223942 ae_loss=0 eval: ucc_acc=1.0 weighted_loss=0.01776723749935627 ucc_loss=0.01776723749935627 ae_loss=0\n"
     ]
    },
    {
     "name": "stderr",
     "output_type": "stream",
     "text": [
      " 22%|██▏       | 4380/20009 [25:57<1:41:42,  2.56it/s]"
     ]
    },
    {
     "name": "stdout",
     "output_type": "stream",
     "text": [
      "Step 64371, training: ucc_acc=1.0 weighted_loss=0.0002464374410919845 ucc_loss=0.0002464374410919845 ae_loss=0 eval: ucc_acc=1.0 weighted_loss=0.013545469380915165 ucc_loss=0.013545469380915165 ae_loss=0\n"
     ]
    },
    {
     "name": "stderr",
     "output_type": "stream",
     "text": [
      " 22%|██▏       | 4390/20009 [26:01<1:43:34,  2.51it/s]"
     ]
    },
    {
     "name": "stdout",
     "output_type": "stream",
     "text": [
      "Step 64381, training: ucc_acc=1.0 weighted_loss=0.04071921110153198 ucc_loss=0.04071921110153198 ae_loss=0 eval: ucc_acc=1.0 weighted_loss=0.015718230977654457 ucc_loss=0.015718230977654457 ae_loss=0\n"
     ]
    },
    {
     "name": "stderr",
     "output_type": "stream",
     "text": [
      " 22%|██▏       | 4400/20009 [26:04<1:44:23,  2.49it/s]"
     ]
    },
    {
     "name": "stdout",
     "output_type": "stream",
     "text": [
      "Step 64391, training: ucc_acc=1.0 weighted_loss=0.004115268122404814 ucc_loss=0.004115268122404814 ae_loss=0 eval: ucc_acc=1.0 weighted_loss=0.051446713507175446 ucc_loss=0.051446713507175446 ae_loss=0\n"
     ]
    },
    {
     "name": "stderr",
     "output_type": "stream",
     "text": [
      " 22%|██▏       | 4410/20009 [26:08<1:45:28,  2.46it/s]"
     ]
    },
    {
     "name": "stdout",
     "output_type": "stream",
     "text": [
      "Step 64401, training: ucc_acc=1.0 weighted_loss=0.014744458720088005 ucc_loss=0.014744458720088005 ae_loss=0 eval: ucc_acc=1.0 weighted_loss=0.0012017347617074847 ucc_loss=0.0012017347617074847 ae_loss=0\n"
     ]
    },
    {
     "name": "stderr",
     "output_type": "stream",
     "text": [
      " 22%|██▏       | 4420/20009 [26:11<1:40:01,  2.60it/s]"
     ]
    },
    {
     "name": "stdout",
     "output_type": "stream",
     "text": [
      "Step 64411, training: ucc_acc=0.9333333373069763 weighted_loss=0.20342965424060822 ucc_loss=0.20342965424060822 ae_loss=0 eval: ucc_acc=1.0 weighted_loss=0.005840606056153774 ucc_loss=0.005840606056153774 ae_loss=0\n"
     ]
    },
    {
     "name": "stderr",
     "output_type": "stream",
     "text": [
      " 22%|██▏       | 4430/20009 [26:15<1:53:48,  2.28it/s]"
     ]
    },
    {
     "name": "stdout",
     "output_type": "stream",
     "text": [
      "Step 64421, training: ucc_acc=1.0 weighted_loss=0.0046516284346580505 ucc_loss=0.0046516284346580505 ae_loss=0 eval: ucc_acc=1.0 weighted_loss=0.0006688062567263842 ucc_loss=0.0006688062567263842 ae_loss=0\n"
     ]
    },
    {
     "name": "stderr",
     "output_type": "stream",
     "text": [
      " 22%|██▏       | 4440/20009 [26:19<1:46:38,  2.43it/s]"
     ]
    },
    {
     "name": "stdout",
     "output_type": "stream",
     "text": [
      "Step 64431, training: ucc_acc=1.0 weighted_loss=0.01509862020611763 ucc_loss=0.01509862020611763 ae_loss=0 eval: ucc_acc=1.0 weighted_loss=0.05914793908596039 ucc_loss=0.05914793908596039 ae_loss=0\n"
     ]
    },
    {
     "name": "stderr",
     "output_type": "stream",
     "text": [
      " 22%|██▏       | 4450/20009 [26:22<1:37:33,  2.66it/s]"
     ]
    },
    {
     "name": "stdout",
     "output_type": "stream",
     "text": [
      "Step 64441, training: ucc_acc=1.0 weighted_loss=0.0005509554175660014 ucc_loss=0.0005509554175660014 ae_loss=0 eval: ucc_acc=0.9333333373069763 weighted_loss=0.19441089034080505 ucc_loss=0.19441089034080505 ae_loss=0\n"
     ]
    },
    {
     "name": "stderr",
     "output_type": "stream",
     "text": [
      " 22%|██▏       | 4460/20009 [26:26<1:41:09,  2.56it/s]"
     ]
    },
    {
     "name": "stdout",
     "output_type": "stream",
     "text": [
      "Step 64451, training: ucc_acc=1.0 weighted_loss=5.015410715714097e-05 ucc_loss=5.015410715714097e-05 ae_loss=0 eval: ucc_acc=1.0 weighted_loss=0.009481201879680157 ucc_loss=0.009481201879680157 ae_loss=0\n"
     ]
    },
    {
     "name": "stderr",
     "output_type": "stream",
     "text": [
      " 22%|██▏       | 4470/20009 [26:29<1:39:04,  2.61it/s]"
     ]
    },
    {
     "name": "stdout",
     "output_type": "stream",
     "text": [
      "Step 64461, training: ucc_acc=1.0 weighted_loss=0.0007344557670876384 ucc_loss=0.0007344557670876384 ae_loss=0 eval: ucc_acc=0.9333333373069763 weighted_loss=0.08653709292411804 ucc_loss=0.08653709292411804 ae_loss=0\n"
     ]
    },
    {
     "name": "stderr",
     "output_type": "stream",
     "text": [
      " 22%|██▏       | 4480/20009 [26:33<1:49:26,  2.37it/s]"
     ]
    },
    {
     "name": "stdout",
     "output_type": "stream",
     "text": [
      "Step 64471, training: ucc_acc=1.0 weighted_loss=0.020826352760195732 ucc_loss=0.020826352760195732 ae_loss=0 eval: ucc_acc=1.0 weighted_loss=0.024858301505446434 ucc_loss=0.024858301505446434 ae_loss=0\n"
     ]
    },
    {
     "name": "stderr",
     "output_type": "stream",
     "text": [
      " 22%|██▏       | 4490/20009 [26:37<1:43:16,  2.50it/s]"
     ]
    },
    {
     "name": "stdout",
     "output_type": "stream",
     "text": [
      "Step 64481, training: ucc_acc=1.0 weighted_loss=0.016636351123452187 ucc_loss=0.016636351123452187 ae_loss=0 eval: ucc_acc=1.0 weighted_loss=0.022434471175074577 ucc_loss=0.022434471175074577 ae_loss=0\n"
     ]
    },
    {
     "name": "stderr",
     "output_type": "stream",
     "text": [
      " 22%|██▏       | 4500/20009 [26:40<1:40:52,  2.56it/s]"
     ]
    },
    {
     "name": "stdout",
     "output_type": "stream",
     "text": [
      "Step 64491, training: ucc_acc=1.0 weighted_loss=0.04377303645014763 ucc_loss=0.04377303645014763 ae_loss=0 eval: ucc_acc=1.0 weighted_loss=0.008016505278646946 ucc_loss=0.008016505278646946 ae_loss=0\n"
     ]
    },
    {
     "name": "stderr",
     "output_type": "stream",
     "text": [
      " 23%|██▎       | 4510/20009 [26:44<1:40:11,  2.58it/s]"
     ]
    },
    {
     "name": "stdout",
     "output_type": "stream",
     "text": [
      "Step 64501, training: ucc_acc=1.0 weighted_loss=0.001791647868230939 ucc_loss=0.001791647868230939 ae_loss=0 eval: ucc_acc=1.0 weighted_loss=0.03674705699086189 ucc_loss=0.03674705699086189 ae_loss=0\n"
     ]
    },
    {
     "name": "stderr",
     "output_type": "stream",
     "text": [
      " 23%|██▎       | 4520/20009 [26:47<1:38:00,  2.63it/s]"
     ]
    },
    {
     "name": "stdout",
     "output_type": "stream",
     "text": [
      "Step 64511, training: ucc_acc=1.0 weighted_loss=0.0017713059205561876 ucc_loss=0.0017713059205561876 ae_loss=0 eval: ucc_acc=1.0 weighted_loss=0.011372522450983524 ucc_loss=0.011372522450983524 ae_loss=0\n"
     ]
    },
    {
     "name": "stderr",
     "output_type": "stream",
     "text": [
      " 23%|██▎       | 4530/20009 [26:51<1:41:22,  2.54it/s]"
     ]
    },
    {
     "name": "stdout",
     "output_type": "stream",
     "text": [
      "Step 64521, training: ucc_acc=1.0 weighted_loss=0.009315474890172482 ucc_loss=0.009315474890172482 ae_loss=0 eval: ucc_acc=1.0 weighted_loss=0.0012373538920655847 ucc_loss=0.0012373538920655847 ae_loss=0\n"
     ]
    },
    {
     "name": "stderr",
     "output_type": "stream",
     "text": [
      " 23%|██▎       | 4540/20009 [26:55<1:43:53,  2.48it/s]"
     ]
    },
    {
     "name": "stdout",
     "output_type": "stream",
     "text": [
      "Step 64531, training: ucc_acc=1.0 weighted_loss=0.0037175959441810846 ucc_loss=0.0037175959441810846 ae_loss=0 eval: ucc_acc=1.0 weighted_loss=0.0014860871015116572 ucc_loss=0.0014860871015116572 ae_loss=0\n"
     ]
    },
    {
     "name": "stderr",
     "output_type": "stream",
     "text": [
      " 23%|██▎       | 4550/20009 [26:58<1:40:49,  2.56it/s]"
     ]
    },
    {
     "name": "stdout",
     "output_type": "stream",
     "text": [
      "Step 64541, training: ucc_acc=1.0 weighted_loss=0.012695828452706337 ucc_loss=0.012695828452706337 ae_loss=0 eval: ucc_acc=1.0 weighted_loss=0.014694330282509327 ucc_loss=0.014694330282509327 ae_loss=0\n"
     ]
    },
    {
     "name": "stderr",
     "output_type": "stream",
     "text": [
      " 23%|██▎       | 4560/20009 [27:02<1:37:11,  2.65it/s]"
     ]
    },
    {
     "name": "stdout",
     "output_type": "stream",
     "text": [
      "Step 64551, training: ucc_acc=1.0 weighted_loss=0.009371801279485226 ucc_loss=0.009371801279485226 ae_loss=0 eval: ucc_acc=0.9333333373069763 weighted_loss=0.12357209622859955 ucc_loss=0.12357209622859955 ae_loss=0\n"
     ]
    },
    {
     "name": "stderr",
     "output_type": "stream",
     "text": [
      " 23%|██▎       | 4570/20009 [27:05<1:37:14,  2.65it/s]"
     ]
    },
    {
     "name": "stdout",
     "output_type": "stream",
     "text": [
      "Step 64561, training: ucc_acc=0.9333333373069763 weighted_loss=0.20347943902015686 ucc_loss=0.20347943902015686 ae_loss=0 eval: ucc_acc=1.0 weighted_loss=0.0021148223895579576 ucc_loss=0.0021148223895579576 ae_loss=0\n"
     ]
    },
    {
     "name": "stderr",
     "output_type": "stream",
     "text": [
      " 23%|██▎       | 4580/20009 [27:09<1:41:02,  2.55it/s]"
     ]
    },
    {
     "name": "stdout",
     "output_type": "stream",
     "text": [
      "Step 64571, training: ucc_acc=1.0 weighted_loss=0.001835734467022121 ucc_loss=0.001835734467022121 ae_loss=0 eval: ucc_acc=1.0 weighted_loss=0.006892932113260031 ucc_loss=0.006892932113260031 ae_loss=0\n"
     ]
    },
    {
     "name": "stderr",
     "output_type": "stream",
     "text": [
      " 23%|██▎       | 4590/20009 [27:12<1:39:52,  2.57it/s]"
     ]
    },
    {
     "name": "stdout",
     "output_type": "stream",
     "text": [
      "Step 64581, training: ucc_acc=1.0 weighted_loss=0.00027502415468916297 ucc_loss=0.00027502415468916297 ae_loss=0 eval: ucc_acc=1.0 weighted_loss=0.007231720257550478 ucc_loss=0.007231720257550478 ae_loss=0\n"
     ]
    },
    {
     "name": "stderr",
     "output_type": "stream",
     "text": [
      " 23%|██▎       | 4600/20009 [27:16<1:38:06,  2.62it/s]"
     ]
    },
    {
     "name": "stdout",
     "output_type": "stream",
     "text": [
      "Step 64591, training: ucc_acc=1.0 weighted_loss=0.02091873250901699 ucc_loss=0.02091873250901699 ae_loss=0 eval: ucc_acc=1.0 weighted_loss=0.005031123757362366 ucc_loss=0.005031123757362366 ae_loss=0\n"
     ]
    },
    {
     "name": "stderr",
     "output_type": "stream",
     "text": [
      " 23%|██▎       | 4610/20009 [27:19<1:40:51,  2.54it/s]"
     ]
    },
    {
     "name": "stdout",
     "output_type": "stream",
     "text": [
      "Step 64601, training: ucc_acc=1.0 weighted_loss=0.0030579620506614447 ucc_loss=0.0030579620506614447 ae_loss=0 eval: ucc_acc=0.9333333373069763 weighted_loss=0.18603917956352234 ucc_loss=0.18603917956352234 ae_loss=0\n"
     ]
    },
    {
     "name": "stderr",
     "output_type": "stream",
     "text": [
      " 23%|██▎       | 4620/20009 [27:23<1:54:22,  2.24it/s]"
     ]
    },
    {
     "name": "stdout",
     "output_type": "stream",
     "text": [
      "Step 64611, training: ucc_acc=1.0 weighted_loss=0.028810685500502586 ucc_loss=0.028810685500502586 ae_loss=0 eval: ucc_acc=1.0 weighted_loss=0.012552913278341293 ucc_loss=0.012552913278341293 ae_loss=0\n"
     ]
    },
    {
     "name": "stderr",
     "output_type": "stream",
     "text": [
      " 23%|██▎       | 4630/20009 [27:27<1:44:41,  2.45it/s]"
     ]
    },
    {
     "name": "stdout",
     "output_type": "stream",
     "text": [
      "Step 64621, training: ucc_acc=0.9333333373069763 weighted_loss=0.07638344913721085 ucc_loss=0.07638344913721085 ae_loss=0 eval: ucc_acc=1.0 weighted_loss=0.0006788890459574759 ucc_loss=0.0006788890459574759 ae_loss=0\n"
     ]
    },
    {
     "name": "stderr",
     "output_type": "stream",
     "text": [
      " 23%|██▎       | 4640/20009 [27:31<1:59:29,  2.14it/s]"
     ]
    },
    {
     "name": "stdout",
     "output_type": "stream",
     "text": [
      "Step 64631, training: ucc_acc=1.0 weighted_loss=0.001500781043432653 ucc_loss=0.001500781043432653 ae_loss=0 eval: ucc_acc=0.9333333373069763 weighted_loss=0.1064886525273323 ucc_loss=0.1064886525273323 ae_loss=0\n"
     ]
    },
    {
     "name": "stderr",
     "output_type": "stream",
     "text": [
      " 23%|██▎       | 4650/20009 [27:35<1:46:16,  2.41it/s]"
     ]
    },
    {
     "name": "stdout",
     "output_type": "stream",
     "text": [
      "Step 64641, training: ucc_acc=0.9333333373069763 weighted_loss=0.23316264152526855 ucc_loss=0.23316264152526855 ae_loss=0 eval: ucc_acc=1.0 weighted_loss=0.004681531805545092 ucc_loss=0.004681531805545092 ae_loss=0\n"
     ]
    },
    {
     "name": "stderr",
     "output_type": "stream",
     "text": [
      " 23%|██▎       | 4660/20009 [27:39<1:42:47,  2.49it/s]"
     ]
    },
    {
     "name": "stdout",
     "output_type": "stream",
     "text": [
      "Step 64651, training: ucc_acc=1.0 weighted_loss=0.01187296025454998 ucc_loss=0.01187296025454998 ae_loss=0 eval: ucc_acc=1.0 weighted_loss=0.013765862211585045 ucc_loss=0.013765862211585045 ae_loss=0\n"
     ]
    },
    {
     "name": "stderr",
     "output_type": "stream",
     "text": [
      " 23%|██▎       | 4670/20009 [27:42<1:40:18,  2.55it/s]"
     ]
    },
    {
     "name": "stdout",
     "output_type": "stream",
     "text": [
      "Step 64661, training: ucc_acc=1.0 weighted_loss=0.0009818326216191053 ucc_loss=0.0009818326216191053 ae_loss=0 eval: ucc_acc=1.0 weighted_loss=0.014514653012156487 ucc_loss=0.014514653012156487 ae_loss=0\n"
     ]
    },
    {
     "name": "stderr",
     "output_type": "stream",
     "text": [
      " 23%|██▎       | 4680/20009 [27:47<1:56:03,  2.20it/s]"
     ]
    },
    {
     "name": "stdout",
     "output_type": "stream",
     "text": [
      "Step 64671, training: ucc_acc=1.0 weighted_loss=0.0014157023979350924 ucc_loss=0.0014157023979350924 ae_loss=0 eval: ucc_acc=1.0 weighted_loss=0.042972248047590256 ucc_loss=0.042972248047590256 ae_loss=0\n"
     ]
    },
    {
     "name": "stderr",
     "output_type": "stream",
     "text": [
      " 23%|██▎       | 4690/20009 [27:51<1:58:13,  2.16it/s]"
     ]
    },
    {
     "name": "stdout",
     "output_type": "stream",
     "text": [
      "Step 64681, training: ucc_acc=1.0 weighted_loss=0.01794404350221157 ucc_loss=0.01794404350221157 ae_loss=0 eval: ucc_acc=1.0 weighted_loss=0.011292601935565472 ucc_loss=0.011292601935565472 ae_loss=0\n"
     ]
    },
    {
     "name": "stderr",
     "output_type": "stream",
     "text": [
      " 23%|██▎       | 4700/20009 [27:55<1:48:42,  2.35it/s]"
     ]
    },
    {
     "name": "stdout",
     "output_type": "stream",
     "text": [
      "Step 64691, training: ucc_acc=1.0 weighted_loss=0.002520747948437929 ucc_loss=0.002520747948437929 ae_loss=0 eval: ucc_acc=1.0 weighted_loss=0.008233900181949139 ucc_loss=0.008233900181949139 ae_loss=0\n"
     ]
    },
    {
     "name": "stderr",
     "output_type": "stream",
     "text": [
      " 24%|██▎       | 4710/20009 [27:58<1:39:49,  2.55it/s]"
     ]
    },
    {
     "name": "stdout",
     "output_type": "stream",
     "text": [
      "Step 64701, training: ucc_acc=1.0 weighted_loss=0.0038695961702615023 ucc_loss=0.0038695961702615023 ae_loss=0 eval: ucc_acc=1.0 weighted_loss=0.002624527784064412 ucc_loss=0.002624527784064412 ae_loss=0\n"
     ]
    },
    {
     "name": "stderr",
     "output_type": "stream",
     "text": [
      " 24%|██▎       | 4720/20009 [28:02<1:43:05,  2.47it/s]"
     ]
    },
    {
     "name": "stdout",
     "output_type": "stream",
     "text": [
      "Step 64711, training: ucc_acc=0.9333333373069763 weighted_loss=0.26429301500320435 ucc_loss=0.26429301500320435 ae_loss=0 eval: ucc_acc=0.9333333373069763 weighted_loss=0.12662816047668457 ucc_loss=0.12662816047668457 ae_loss=0\n"
     ]
    },
    {
     "name": "stderr",
     "output_type": "stream",
     "text": [
      " 24%|██▎       | 4730/20009 [28:06<1:41:03,  2.52it/s]"
     ]
    },
    {
     "name": "stdout",
     "output_type": "stream",
     "text": [
      "Step 64721, training: ucc_acc=1.0 weighted_loss=0.013446050696074963 ucc_loss=0.013446050696074963 ae_loss=0 eval: ucc_acc=0.9333333373069763 weighted_loss=0.14942984282970428 ucc_loss=0.14942984282970428 ae_loss=0\n"
     ]
    },
    {
     "name": "stderr",
     "output_type": "stream",
     "text": [
      " 24%|██▎       | 4740/20009 [28:09<1:43:50,  2.45it/s]"
     ]
    },
    {
     "name": "stdout",
     "output_type": "stream",
     "text": [
      "Step 64731, training: ucc_acc=1.0 weighted_loss=0.028267091140151024 ucc_loss=0.028267091140151024 ae_loss=0 eval: ucc_acc=1.0 weighted_loss=0.025319913402199745 ucc_loss=0.025319913402199745 ae_loss=0\n"
     ]
    },
    {
     "name": "stderr",
     "output_type": "stream",
     "text": [
      " 24%|██▎       | 4750/20009 [28:13<1:43:19,  2.46it/s]"
     ]
    },
    {
     "name": "stdout",
     "output_type": "stream",
     "text": [
      "Step 64741, training: ucc_acc=0.9333333373069763 weighted_loss=0.2192838042974472 ucc_loss=0.2192838042974472 ae_loss=0 eval: ucc_acc=1.0 weighted_loss=0.0012501608580350876 ucc_loss=0.0012501608580350876 ae_loss=0\n"
     ]
    },
    {
     "name": "stderr",
     "output_type": "stream",
     "text": [
      " 24%|██▍       | 4760/20009 [28:17<1:54:03,  2.23it/s]"
     ]
    },
    {
     "name": "stdout",
     "output_type": "stream",
     "text": [
      "Step 64751, training: ucc_acc=1.0 weighted_loss=0.019703736528754234 ucc_loss=0.019703736528754234 ae_loss=0 eval: ucc_acc=0.9333333373069763 weighted_loss=0.14159904420375824 ucc_loss=0.14159904420375824 ae_loss=0\n"
     ]
    },
    {
     "name": "stderr",
     "output_type": "stream",
     "text": [
      " 24%|██▍       | 4770/20009 [28:21<1:53:58,  2.23it/s]"
     ]
    },
    {
     "name": "stdout",
     "output_type": "stream",
     "text": [
      "Step 64761, training: ucc_acc=1.0 weighted_loss=0.01192981656640768 ucc_loss=0.01192981656640768 ae_loss=0 eval: ucc_acc=1.0 weighted_loss=0.017307737842202187 ucc_loss=0.017307737842202187 ae_loss=0\n"
     ]
    },
    {
     "name": "stderr",
     "output_type": "stream",
     "text": [
      " 24%|██▍       | 4780/20009 [28:25<1:41:44,  2.49it/s]"
     ]
    },
    {
     "name": "stdout",
     "output_type": "stream",
     "text": [
      "Step 64771, training: ucc_acc=1.0 weighted_loss=0.005227813962846994 ucc_loss=0.005227813962846994 ae_loss=0 eval: ucc_acc=1.0 weighted_loss=0.004438779782503843 ucc_loss=0.004438779782503843 ae_loss=0\n"
     ]
    },
    {
     "name": "stderr",
     "output_type": "stream",
     "text": [
      " 24%|██▍       | 4790/20009 [28:29<1:58:18,  2.14it/s]"
     ]
    },
    {
     "name": "stdout",
     "output_type": "stream",
     "text": [
      "Step 64781, training: ucc_acc=1.0 weighted_loss=0.0074587552808225155 ucc_loss=0.0074587552808225155 ae_loss=0 eval: ucc_acc=1.0 weighted_loss=0.02860414609313011 ucc_loss=0.02860414609313011 ae_loss=0\n"
     ]
    },
    {
     "name": "stderr",
     "output_type": "stream",
     "text": [
      " 24%|██▍       | 4800/20009 [28:33<1:40:50,  2.51it/s]"
     ]
    },
    {
     "name": "stdout",
     "output_type": "stream",
     "text": [
      "Step 64791, training: ucc_acc=1.0 weighted_loss=0.03704225644469261 ucc_loss=0.03704225644469261 ae_loss=0 eval: ucc_acc=1.0 weighted_loss=0.041574642062187195 ucc_loss=0.041574642062187195 ae_loss=0\n"
     ]
    },
    {
     "name": "stderr",
     "output_type": "stream",
     "text": [
      " 24%|██▍       | 4810/20009 [28:37<1:52:10,  2.26it/s]"
     ]
    },
    {
     "name": "stdout",
     "output_type": "stream",
     "text": [
      "Step 64801, training: ucc_acc=1.0 weighted_loss=0.007346112746745348 ucc_loss=0.007346112746745348 ae_loss=0 eval: ucc_acc=0.8666666746139526 weighted_loss=0.32624900341033936 ucc_loss=0.32624900341033936 ae_loss=0\n"
     ]
    },
    {
     "name": "stderr",
     "output_type": "stream",
     "text": [
      " 24%|██▍       | 4820/20009 [28:41<1:53:09,  2.24it/s]"
     ]
    },
    {
     "name": "stdout",
     "output_type": "stream",
     "text": [
      "Step 64811, training: ucc_acc=1.0 weighted_loss=0.015651050955057144 ucc_loss=0.015651050955057144 ae_loss=0 eval: ucc_acc=1.0 weighted_loss=9.005994797917083e-05 ucc_loss=9.005994797917083e-05 ae_loss=0\n"
     ]
    },
    {
     "name": "stderr",
     "output_type": "stream",
     "text": [
      " 24%|██▍       | 4830/20009 [28:45<1:38:30,  2.57it/s]"
     ]
    },
    {
     "name": "stdout",
     "output_type": "stream",
     "text": [
      "Step 64821, training: ucc_acc=0.9333333373069763 weighted_loss=0.09409686923027039 ucc_loss=0.09409686923027039 ae_loss=0 eval: ucc_acc=1.0 weighted_loss=0.006567554548382759 ucc_loss=0.006567554548382759 ae_loss=0\n"
     ]
    },
    {
     "name": "stderr",
     "output_type": "stream",
     "text": [
      " 24%|██▍       | 4840/20009 [28:49<1:50:02,  2.30it/s]"
     ]
    },
    {
     "name": "stdout",
     "output_type": "stream",
     "text": [
      "Step 64831, training: ucc_acc=1.0 weighted_loss=0.01174113154411316 ucc_loss=0.01174113154411316 ae_loss=0 eval: ucc_acc=1.0 weighted_loss=0.005583405029028654 ucc_loss=0.005583405029028654 ae_loss=0\n"
     ]
    },
    {
     "name": "stderr",
     "output_type": "stream",
     "text": [
      " 24%|██▍       | 4850/20009 [28:52<1:44:11,  2.42it/s]"
     ]
    },
    {
     "name": "stdout",
     "output_type": "stream",
     "text": [
      "Step 64841, training: ucc_acc=1.0 weighted_loss=0.008156673982739449 ucc_loss=0.008156673982739449 ae_loss=0 eval: ucc_acc=1.0 weighted_loss=0.008369963616132736 ucc_loss=0.008369963616132736 ae_loss=0\n"
     ]
    },
    {
     "name": "stderr",
     "output_type": "stream",
     "text": [
      " 24%|██▍       | 4860/20009 [28:56<1:39:17,  2.54it/s]"
     ]
    },
    {
     "name": "stdout",
     "output_type": "stream",
     "text": [
      "Step 64851, training: ucc_acc=1.0 weighted_loss=0.015559173189103603 ucc_loss=0.015559173189103603 ae_loss=0 eval: ucc_acc=1.0 weighted_loss=0.02906317450106144 ucc_loss=0.02906317450106144 ae_loss=0\n"
     ]
    },
    {
     "name": "stderr",
     "output_type": "stream",
     "text": [
      " 24%|██▍       | 4870/20009 [28:59<1:34:42,  2.66it/s]"
     ]
    },
    {
     "name": "stdout",
     "output_type": "stream",
     "text": [
      "Step 64861, training: ucc_acc=0.9333333373069763 weighted_loss=0.12864463031291962 ucc_loss=0.12864463031291962 ae_loss=0 eval: ucc_acc=1.0 weighted_loss=0.011178961023688316 ucc_loss=0.011178961023688316 ae_loss=0\n"
     ]
    },
    {
     "name": "stderr",
     "output_type": "stream",
     "text": [
      " 24%|██▍       | 4880/20009 [29:03<1:38:09,  2.57it/s]"
     ]
    },
    {
     "name": "stdout",
     "output_type": "stream",
     "text": [
      "Step 64871, training: ucc_acc=1.0 weighted_loss=0.012163469567894936 ucc_loss=0.012163469567894936 ae_loss=0 eval: ucc_acc=1.0 weighted_loss=0.013472187332808971 ucc_loss=0.013472187332808971 ae_loss=0\n"
     ]
    },
    {
     "name": "stderr",
     "output_type": "stream",
     "text": [
      " 24%|██▍       | 4890/20009 [29:07<1:50:46,  2.27it/s]"
     ]
    },
    {
     "name": "stdout",
     "output_type": "stream",
     "text": [
      "Step 64881, training: ucc_acc=1.0 weighted_loss=0.022795772179961205 ucc_loss=0.022795772179961205 ae_loss=0 eval: ucc_acc=1.0 weighted_loss=0.011936898343265057 ucc_loss=0.011936898343265057 ae_loss=0\n"
     ]
    },
    {
     "name": "stderr",
     "output_type": "stream",
     "text": [
      " 24%|██▍       | 4900/20009 [29:12<2:19:15,  1.81it/s]"
     ]
    },
    {
     "name": "stdout",
     "output_type": "stream",
     "text": [
      "Step 64891, training: ucc_acc=1.0 weighted_loss=0.003166708629578352 ucc_loss=0.003166708629578352 ae_loss=0 eval: ucc_acc=1.0 weighted_loss=0.0020986408926546574 ucc_loss=0.0020986408926546574 ae_loss=0\n"
     ]
    },
    {
     "name": "stderr",
     "output_type": "stream",
     "text": [
      " 25%|██▍       | 4910/20009 [29:16<1:55:50,  2.17it/s]"
     ]
    },
    {
     "name": "stdout",
     "output_type": "stream",
     "text": [
      "Step 64901, training: ucc_acc=1.0 weighted_loss=0.019257092848420143 ucc_loss=0.019257092848420143 ae_loss=0 eval: ucc_acc=1.0 weighted_loss=0.0011786393588408828 ucc_loss=0.0011786393588408828 ae_loss=0\n"
     ]
    },
    {
     "name": "stderr",
     "output_type": "stream",
     "text": [
      " 25%|██▍       | 4920/20009 [29:20<1:48:31,  2.32it/s]"
     ]
    },
    {
     "name": "stdout",
     "output_type": "stream",
     "text": [
      "Step 64911, training: ucc_acc=1.0 weighted_loss=0.02842022106051445 ucc_loss=0.02842022106051445 ae_loss=0 eval: ucc_acc=1.0 weighted_loss=0.0012959479354321957 ucc_loss=0.0012959479354321957 ae_loss=0\n"
     ]
    },
    {
     "name": "stderr",
     "output_type": "stream",
     "text": [
      " 25%|██▍       | 4930/20009 [29:24<1:49:03,  2.30it/s]"
     ]
    },
    {
     "name": "stdout",
     "output_type": "stream",
     "text": [
      "Step 64921, training: ucc_acc=1.0 weighted_loss=0.011072670109570026 ucc_loss=0.011072670109570026 ae_loss=0 eval: ucc_acc=1.0 weighted_loss=0.015541348606348038 ucc_loss=0.015541348606348038 ae_loss=0\n"
     ]
    },
    {
     "name": "stderr",
     "output_type": "stream",
     "text": [
      " 25%|██▍       | 4940/20009 [29:28<1:44:41,  2.40it/s]"
     ]
    },
    {
     "name": "stdout",
     "output_type": "stream",
     "text": [
      "Step 64931, training: ucc_acc=1.0 weighted_loss=0.0035040443763136864 ucc_loss=0.0035040443763136864 ae_loss=0 eval: ucc_acc=0.9333333373069763 weighted_loss=0.1459665149450302 ucc_loss=0.1459665149450302 ae_loss=0\n"
     ]
    },
    {
     "name": "stderr",
     "output_type": "stream",
     "text": [
      " 25%|██▍       | 4950/20009 [29:32<1:54:48,  2.19it/s]"
     ]
    },
    {
     "name": "stdout",
     "output_type": "stream",
     "text": [
      "Step 64941, training: ucc_acc=1.0 weighted_loss=0.009842976927757263 ucc_loss=0.009842976927757263 ae_loss=0 eval: ucc_acc=1.0 weighted_loss=0.00515889935195446 ucc_loss=0.00515889935195446 ae_loss=0\n"
     ]
    },
    {
     "name": "stderr",
     "output_type": "stream",
     "text": [
      " 25%|██▍       | 4960/20009 [29:36<1:50:48,  2.26it/s]"
     ]
    },
    {
     "name": "stdout",
     "output_type": "stream",
     "text": [
      "Step 64951, training: ucc_acc=0.9333333373069763 weighted_loss=0.08951080590486526 ucc_loss=0.08951080590486526 ae_loss=0 eval: ucc_acc=1.0 weighted_loss=0.013221025466918945 ucc_loss=0.013221025466918945 ae_loss=0\n"
     ]
    },
    {
     "name": "stderr",
     "output_type": "stream",
     "text": [
      " 25%|██▍       | 4970/20009 [29:40<1:51:05,  2.26it/s]"
     ]
    },
    {
     "name": "stdout",
     "output_type": "stream",
     "text": [
      "Step 64961, training: ucc_acc=1.0 weighted_loss=0.018775293603539467 ucc_loss=0.018775293603539467 ae_loss=0 eval: ucc_acc=1.0 weighted_loss=0.01820208504796028 ucc_loss=0.01820208504796028 ae_loss=0\n"
     ]
    },
    {
     "name": "stderr",
     "output_type": "stream",
     "text": [
      " 25%|██▍       | 4980/20009 [29:44<1:54:21,  2.19it/s]"
     ]
    },
    {
     "name": "stdout",
     "output_type": "stream",
     "text": [
      "Step 64971, training: ucc_acc=1.0 weighted_loss=0.012123662047088146 ucc_loss=0.012123662047088146 ae_loss=0 eval: ucc_acc=1.0 weighted_loss=0.00027989502996206284 ucc_loss=0.00027989502996206284 ae_loss=0\n"
     ]
    },
    {
     "name": "stderr",
     "output_type": "stream",
     "text": [
      " 25%|██▍       | 4990/20009 [29:48<1:57:44,  2.13it/s]"
     ]
    },
    {
     "name": "stdout",
     "output_type": "stream",
     "text": [
      "Step 64981, training: ucc_acc=0.9333333373069763 weighted_loss=0.15243513882160187 ucc_loss=0.15243513882160187 ae_loss=0 eval: ucc_acc=1.0 weighted_loss=0.04168616607785225 ucc_loss=0.04168616607785225 ae_loss=0\n"
     ]
    },
    {
     "name": "stderr",
     "output_type": "stream",
     "text": [
      " 25%|██▍       | 5000/20009 [29:52<1:57:26,  2.13it/s]"
     ]
    },
    {
     "name": "stdout",
     "output_type": "stream",
     "text": [
      "Step 64991, training: ucc_acc=1.0 weighted_loss=0.013510880060493946 ucc_loss=0.013510880060493946 ae_loss=0 eval: ucc_acc=1.0 weighted_loss=0.06921318918466568 ucc_loss=0.06921318918466568 ae_loss=0\n"
     ]
    },
    {
     "name": "stderr",
     "output_type": "stream",
     "text": [
      " 25%|██▌       | 5010/20009 [29:56<1:55:05,  2.17it/s]"
     ]
    },
    {
     "name": "stdout",
     "output_type": "stream",
     "text": [
      "Step 65001, training: ucc_acc=1.0 weighted_loss=0.0003685493429657072 ucc_loss=0.0003685493429657072 ae_loss=0 eval: ucc_acc=1.0 weighted_loss=0.006176205351948738 ucc_loss=0.006176205351948738 ae_loss=0\n"
     ]
    },
    {
     "name": "stderr",
     "output_type": "stream",
     "text": [
      " 25%|██▌       | 5020/20009 [30:00<1:43:35,  2.41it/s]"
     ]
    },
    {
     "name": "stdout",
     "output_type": "stream",
     "text": [
      "Step 65011, training: ucc_acc=1.0 weighted_loss=0.014177564531564713 ucc_loss=0.014177564531564713 ae_loss=0 eval: ucc_acc=1.0 weighted_loss=0.005720175337046385 ucc_loss=0.005720175337046385 ae_loss=0\n"
     ]
    },
    {
     "name": "stderr",
     "output_type": "stream",
     "text": [
      " 25%|██▌       | 5030/20009 [30:04<1:36:23,  2.59it/s]"
     ]
    },
    {
     "name": "stdout",
     "output_type": "stream",
     "text": [
      "Step 65021, training: ucc_acc=1.0 weighted_loss=0.010914587415754795 ucc_loss=0.010914587415754795 ae_loss=0 eval: ucc_acc=1.0 weighted_loss=0.0012907441705465317 ucc_loss=0.0012907441705465317 ae_loss=0\n"
     ]
    },
    {
     "name": "stderr",
     "output_type": "stream",
     "text": [
      " 25%|██▌       | 5040/20009 [30:07<1:35:56,  2.60it/s]"
     ]
    },
    {
     "name": "stdout",
     "output_type": "stream",
     "text": [
      "Step 65031, training: ucc_acc=1.0 weighted_loss=0.016992485150694847 ucc_loss=0.016992485150694847 ae_loss=0 eval: ucc_acc=1.0 weighted_loss=0.0001952040329342708 ucc_loss=0.0001952040329342708 ae_loss=0\n"
     ]
    },
    {
     "name": "stderr",
     "output_type": "stream",
     "text": [
      " 25%|██▌       | 5050/20009 [30:11<1:43:51,  2.40it/s]"
     ]
    },
    {
     "name": "stdout",
     "output_type": "stream",
     "text": [
      "Step 65041, training: ucc_acc=1.0 weighted_loss=0.0007906510727480054 ucc_loss=0.0007906510727480054 ae_loss=0 eval: ucc_acc=1.0 weighted_loss=0.03625661879777908 ucc_loss=0.03625661879777908 ae_loss=0\n"
     ]
    },
    {
     "name": "stderr",
     "output_type": "stream",
     "text": [
      " 25%|██▌       | 5060/20009 [30:14<1:37:16,  2.56it/s]"
     ]
    },
    {
     "name": "stdout",
     "output_type": "stream",
     "text": [
      "Step 65051, training: ucc_acc=1.0 weighted_loss=0.0060979872941970825 ucc_loss=0.0060979872941970825 ae_loss=0 eval: ucc_acc=1.0 weighted_loss=0.005350272171199322 ucc_loss=0.005350272171199322 ae_loss=0\n"
     ]
    },
    {
     "name": "stderr",
     "output_type": "stream",
     "text": [
      " 25%|██▌       | 5070/20009 [30:18<1:40:57,  2.47it/s]"
     ]
    },
    {
     "name": "stdout",
     "output_type": "stream",
     "text": [
      "Step 65061, training: ucc_acc=1.0 weighted_loss=0.0010167842265218496 ucc_loss=0.0010167842265218496 ae_loss=0 eval: ucc_acc=1.0 weighted_loss=0.011491748504340649 ucc_loss=0.011491748504340649 ae_loss=0\n"
     ]
    },
    {
     "name": "stderr",
     "output_type": "stream",
     "text": [
      " 25%|██▌       | 5080/20009 [30:22<1:38:55,  2.52it/s]"
     ]
    },
    {
     "name": "stdout",
     "output_type": "stream",
     "text": [
      "Step 65071, training: ucc_acc=0.9333333373069763 weighted_loss=0.209371417760849 ucc_loss=0.209371417760849 ae_loss=0 eval: ucc_acc=1.0 weighted_loss=0.011180439963936806 ucc_loss=0.011180439963936806 ae_loss=0\n"
     ]
    },
    {
     "name": "stderr",
     "output_type": "stream",
     "text": [
      " 25%|██▌       | 5090/20009 [30:25<1:37:27,  2.55it/s]"
     ]
    },
    {
     "name": "stdout",
     "output_type": "stream",
     "text": [
      "Step 65081, training: ucc_acc=1.0 weighted_loss=0.03319493681192398 ucc_loss=0.03319493681192398 ae_loss=0 eval: ucc_acc=1.0 weighted_loss=0.0024518966674804688 ucc_loss=0.0024518966674804688 ae_loss=0\n"
     ]
    },
    {
     "name": "stderr",
     "output_type": "stream",
     "text": [
      " 25%|██▌       | 5100/20009 [30:29<1:38:59,  2.51it/s]"
     ]
    },
    {
     "name": "stdout",
     "output_type": "stream",
     "text": [
      "Step 65091, training: ucc_acc=1.0 weighted_loss=0.006912198383361101 ucc_loss=0.006912198383361101 ae_loss=0 eval: ucc_acc=1.0 weighted_loss=0.0031654417980462313 ucc_loss=0.0031654417980462313 ae_loss=0\n"
     ]
    },
    {
     "name": "stderr",
     "output_type": "stream",
     "text": [
      " 26%|██▌       | 5110/20009 [30:33<1:39:10,  2.50it/s]"
     ]
    },
    {
     "name": "stdout",
     "output_type": "stream",
     "text": [
      "Step 65101, training: ucc_acc=0.9333333373069763 weighted_loss=0.20659509301185608 ucc_loss=0.20659509301185608 ae_loss=0 eval: ucc_acc=1.0 weighted_loss=0.000254886836046353 ucc_loss=0.000254886836046353 ae_loss=0\n"
     ]
    },
    {
     "name": "stderr",
     "output_type": "stream",
     "text": [
      " 26%|██▌       | 5120/20009 [30:36<1:38:28,  2.52it/s]"
     ]
    },
    {
     "name": "stdout",
     "output_type": "stream",
     "text": [
      "Step 65111, training: ucc_acc=1.0 weighted_loss=0.03655153140425682 ucc_loss=0.03655153140425682 ae_loss=0 eval: ucc_acc=1.0 weighted_loss=0.024302851408720016 ucc_loss=0.024302851408720016 ae_loss=0\n"
     ]
    },
    {
     "name": "stderr",
     "output_type": "stream",
     "text": [
      " 26%|██▌       | 5130/20009 [30:40<1:37:54,  2.53it/s]"
     ]
    },
    {
     "name": "stdout",
     "output_type": "stream",
     "text": [
      "Step 65121, training: ucc_acc=1.0 weighted_loss=0.022380409762263298 ucc_loss=0.022380409762263298 ae_loss=0 eval: ucc_acc=1.0 weighted_loss=0.0005479436949826777 ucc_loss=0.0005479436949826777 ae_loss=0\n"
     ]
    },
    {
     "name": "stderr",
     "output_type": "stream",
     "text": [
      " 26%|██▌       | 5140/20009 [30:43<1:38:17,  2.52it/s]"
     ]
    },
    {
     "name": "stdout",
     "output_type": "stream",
     "text": [
      "Step 65131, training: ucc_acc=1.0 weighted_loss=0.021364545449614525 ucc_loss=0.021364545449614525 ae_loss=0 eval: ucc_acc=1.0 weighted_loss=6.192696309881285e-05 ucc_loss=6.192696309881285e-05 ae_loss=0\n"
     ]
    },
    {
     "name": "stderr",
     "output_type": "stream",
     "text": [
      " 26%|██▌       | 5150/20009 [30:47<1:37:53,  2.53it/s]"
     ]
    },
    {
     "name": "stdout",
     "output_type": "stream",
     "text": [
      "Step 65141, training: ucc_acc=1.0 weighted_loss=0.0068516903556883335 ucc_loss=0.0068516903556883335 ae_loss=0 eval: ucc_acc=1.0 weighted_loss=0.0015485311159864068 ucc_loss=0.0015485311159864068 ae_loss=0\n"
     ]
    },
    {
     "name": "stderr",
     "output_type": "stream",
     "text": [
      " 26%|██▌       | 5160/20009 [30:51<1:42:34,  2.41it/s]"
     ]
    },
    {
     "name": "stdout",
     "output_type": "stream",
     "text": [
      "Step 65151, training: ucc_acc=1.0 weighted_loss=0.04138810560107231 ucc_loss=0.04138810560107231 ae_loss=0 eval: ucc_acc=1.0 weighted_loss=0.004324720706790686 ucc_loss=0.004324720706790686 ae_loss=0\n"
     ]
    },
    {
     "name": "stderr",
     "output_type": "stream",
     "text": [
      " 26%|██▌       | 5170/20009 [30:54<1:43:06,  2.40it/s]"
     ]
    },
    {
     "name": "stdout",
     "output_type": "stream",
     "text": [
      "Step 65161, training: ucc_acc=1.0 weighted_loss=0.00269466545432806 ucc_loss=0.00269466545432806 ae_loss=0 eval: ucc_acc=1.0 weighted_loss=0.008322331123054028 ucc_loss=0.008322331123054028 ae_loss=0\n"
     ]
    },
    {
     "name": "stderr",
     "output_type": "stream",
     "text": [
      " 26%|██▌       | 5180/20009 [30:58<1:27:50,  2.81it/s]"
     ]
    },
    {
     "name": "stdout",
     "output_type": "stream",
     "text": [
      "Step 65171, training: ucc_acc=1.0 weighted_loss=0.02588401548564434 ucc_loss=0.02588401548564434 ae_loss=0 eval: ucc_acc=1.0 weighted_loss=0.008526907302439213 ucc_loss=0.008526907302439213 ae_loss=0\n"
     ]
    },
    {
     "name": "stderr",
     "output_type": "stream",
     "text": [
      " 26%|██▌       | 5190/20009 [31:01<1:28:24,  2.79it/s]"
     ]
    },
    {
     "name": "stdout",
     "output_type": "stream",
     "text": [
      "Step 65181, training: ucc_acc=1.0 weighted_loss=0.025634117424488068 ucc_loss=0.025634117424488068 ae_loss=0 eval: ucc_acc=1.0 weighted_loss=0.03957880288362503 ucc_loss=0.03957880288362503 ae_loss=0\n"
     ]
    },
    {
     "name": "stderr",
     "output_type": "stream",
     "text": [
      " 26%|██▌       | 5200/20009 [31:04<1:27:23,  2.82it/s]"
     ]
    },
    {
     "name": "stdout",
     "output_type": "stream",
     "text": [
      "Step 65191, training: ucc_acc=1.0 weighted_loss=0.0023079237435013056 ucc_loss=0.0023079237435013056 ae_loss=0 eval: ucc_acc=1.0 weighted_loss=0.0171261765062809 ucc_loss=0.0171261765062809 ae_loss=0\n"
     ]
    },
    {
     "name": "stderr",
     "output_type": "stream",
     "text": [
      " 26%|██▌       | 5210/20009 [31:08<1:27:59,  2.80it/s]"
     ]
    },
    {
     "name": "stdout",
     "output_type": "stream",
     "text": [
      "Step 65201, training: ucc_acc=0.9333333373069763 weighted_loss=0.21078506112098694 ucc_loss=0.21078506112098694 ae_loss=0 eval: ucc_acc=1.0 weighted_loss=0.007646256126463413 ucc_loss=0.007646256126463413 ae_loss=0\n"
     ]
    },
    {
     "name": "stderr",
     "output_type": "stream",
     "text": [
      " 26%|██▌       | 5220/20009 [31:11<1:28:16,  2.79it/s]"
     ]
    },
    {
     "name": "stdout",
     "output_type": "stream",
     "text": [
      "Step 65211, training: ucc_acc=1.0 weighted_loss=0.02103039063513279 ucc_loss=0.02103039063513279 ae_loss=0 eval: ucc_acc=1.0 weighted_loss=0.011534019373357296 ucc_loss=0.011534019373357296 ae_loss=0\n"
     ]
    },
    {
     "name": "stderr",
     "output_type": "stream",
     "text": [
      " 26%|██▌       | 5230/20009 [31:15<1:46:40,  2.31it/s]"
     ]
    },
    {
     "name": "stdout",
     "output_type": "stream",
     "text": [
      "Step 65221, training: ucc_acc=1.0 weighted_loss=0.004754605237394571 ucc_loss=0.004754605237394571 ae_loss=0 eval: ucc_acc=0.9333333373069763 weighted_loss=0.19357511401176453 ucc_loss=0.19357511401176453 ae_loss=0\n"
     ]
    },
    {
     "name": "stderr",
     "output_type": "stream",
     "text": [
      " 26%|██▌       | 5240/20009 [31:18<1:33:41,  2.63it/s]"
     ]
    },
    {
     "name": "stdout",
     "output_type": "stream",
     "text": [
      "Step 65231, training: ucc_acc=1.0 weighted_loss=0.013893118128180504 ucc_loss=0.013893118128180504 ae_loss=0 eval: ucc_acc=1.0 weighted_loss=0.009571646340191364 ucc_loss=0.009571646340191364 ae_loss=0\n"
     ]
    },
    {
     "name": "stderr",
     "output_type": "stream",
     "text": [
      " 26%|██▌       | 5250/20009 [31:22<1:25:50,  2.87it/s]"
     ]
    },
    {
     "name": "stdout",
     "output_type": "stream",
     "text": [
      "Step 65241, training: ucc_acc=1.0 weighted_loss=0.02678302489221096 ucc_loss=0.02678302489221096 ae_loss=0 eval: ucc_acc=0.9333333373069763 weighted_loss=0.23316653072834015 ucc_loss=0.23316653072834015 ae_loss=0\n"
     ]
    },
    {
     "name": "stderr",
     "output_type": "stream",
     "text": [
      " 26%|██▋       | 5260/20009 [31:25<1:30:46,  2.71it/s]"
     ]
    },
    {
     "name": "stdout",
     "output_type": "stream",
     "text": [
      "Step 65251, training: ucc_acc=0.9333333373069763 weighted_loss=0.16404148936271667 ucc_loss=0.16404148936271667 ae_loss=0 eval: ucc_acc=1.0 weighted_loss=0.03280963748693466 ucc_loss=0.03280963748693466 ae_loss=0\n"
     ]
    },
    {
     "name": "stderr",
     "output_type": "stream",
     "text": [
      " 26%|██▋       | 5270/20009 [31:28<1:28:12,  2.78it/s]"
     ]
    },
    {
     "name": "stdout",
     "output_type": "stream",
     "text": [
      "Step 65261, training: ucc_acc=1.0 weighted_loss=0.016544943675398827 ucc_loss=0.016544943675398827 ae_loss=0 eval: ucc_acc=1.0 weighted_loss=0.00031197379576042295 ucc_loss=0.00031197379576042295 ae_loss=0\n"
     ]
    },
    {
     "name": "stderr",
     "output_type": "stream",
     "text": [
      " 26%|██▋       | 5280/20009 [31:31<1:27:21,  2.81it/s]"
     ]
    },
    {
     "name": "stdout",
     "output_type": "stream",
     "text": [
      "Step 65271, training: ucc_acc=1.0 weighted_loss=0.00036924428422935307 ucc_loss=0.00036924428422935307 ae_loss=0 eval: ucc_acc=1.0 weighted_loss=0.010377657599747181 ucc_loss=0.010377657599747181 ae_loss=0\n"
     ]
    },
    {
     "name": "stderr",
     "output_type": "stream",
     "text": [
      " 26%|██▋       | 5290/20009 [31:35<1:29:47,  2.73it/s]"
     ]
    },
    {
     "name": "stdout",
     "output_type": "stream",
     "text": [
      "Step 65281, training: ucc_acc=1.0 weighted_loss=0.0006432164227589965 ucc_loss=0.0006432164227589965 ae_loss=0 eval: ucc_acc=1.0 weighted_loss=6.450804357882589e-05 ucc_loss=6.450804357882589e-05 ae_loss=0\n"
     ]
    },
    {
     "name": "stderr",
     "output_type": "stream",
     "text": [
      " 26%|██▋       | 5300/20009 [31:38<1:23:53,  2.92it/s]"
     ]
    },
    {
     "name": "stdout",
     "output_type": "stream",
     "text": [
      "Step 65291, training: ucc_acc=1.0 weighted_loss=0.03985556215047836 ucc_loss=0.03985556215047836 ae_loss=0 eval: ucc_acc=0.9333333373069763 weighted_loss=0.1476932018995285 ucc_loss=0.1476932018995285 ae_loss=0\n"
     ]
    },
    {
     "name": "stderr",
     "output_type": "stream",
     "text": [
      " 27%|██▋       | 5310/20009 [31:41<1:23:49,  2.92it/s]"
     ]
    },
    {
     "name": "stdout",
     "output_type": "stream",
     "text": [
      "Step 65301, training: ucc_acc=1.0 weighted_loss=0.0004081435617990792 ucc_loss=0.0004081435617990792 ae_loss=0 eval: ucc_acc=0.9333333373069763 weighted_loss=0.23855094611644745 ucc_loss=0.23855094611644745 ae_loss=0\n"
     ]
    },
    {
     "name": "stderr",
     "output_type": "stream",
     "text": [
      " 27%|██▋       | 5320/20009 [31:44<1:23:36,  2.93it/s]"
     ]
    },
    {
     "name": "stdout",
     "output_type": "stream",
     "text": [
      "Step 65311, training: ucc_acc=1.0 weighted_loss=0.00951654277741909 ucc_loss=0.00951654277741909 ae_loss=0 eval: ucc_acc=1.0 weighted_loss=0.004460746422410011 ucc_loss=0.004460746422410011 ae_loss=0\n"
     ]
    },
    {
     "name": "stderr",
     "output_type": "stream",
     "text": [
      " 27%|██▋       | 5330/20009 [31:48<1:33:24,  2.62it/s]"
     ]
    },
    {
     "name": "stdout",
     "output_type": "stream",
     "text": [
      "Step 65321, training: ucc_acc=1.0 weighted_loss=0.0055232602171599865 ucc_loss=0.0055232602171599865 ae_loss=0 eval: ucc_acc=1.0 weighted_loss=0.003676637774333358 ucc_loss=0.003676637774333358 ae_loss=0\n"
     ]
    },
    {
     "name": "stderr",
     "output_type": "stream",
     "text": [
      " 27%|██▋       | 5340/20009 [31:52<1:43:07,  2.37it/s]"
     ]
    },
    {
     "name": "stdout",
     "output_type": "stream",
     "text": [
      "Step 65331, training: ucc_acc=1.0 weighted_loss=0.00995657965540886 ucc_loss=0.00995657965540886 ae_loss=0 eval: ucc_acc=1.0 weighted_loss=0.004562519025057554 ucc_loss=0.004562519025057554 ae_loss=0\n"
     ]
    },
    {
     "name": "stderr",
     "output_type": "stream",
     "text": [
      " 27%|██▋       | 5350/20009 [31:55<1:37:39,  2.50it/s]"
     ]
    },
    {
     "name": "stdout",
     "output_type": "stream",
     "text": [
      "Step 65341, training: ucc_acc=1.0 weighted_loss=0.004366033244878054 ucc_loss=0.004366033244878054 ae_loss=0 eval: ucc_acc=1.0 weighted_loss=0.015197337605059147 ucc_loss=0.015197337605059147 ae_loss=0\n"
     ]
    },
    {
     "name": "stderr",
     "output_type": "stream",
     "text": [
      " 27%|██▋       | 5360/20009 [31:59<1:31:49,  2.66it/s]"
     ]
    },
    {
     "name": "stdout",
     "output_type": "stream",
     "text": [
      "Step 65351, training: ucc_acc=0.9333333373069763 weighted_loss=0.18759994208812714 ucc_loss=0.18759994208812714 ae_loss=0 eval: ucc_acc=1.0 weighted_loss=0.0034655805211514235 ucc_loss=0.0034655805211514235 ae_loss=0\n"
     ]
    },
    {
     "name": "stderr",
     "output_type": "stream",
     "text": [
      " 27%|██▋       | 5370/20009 [32:02<1:26:26,  2.82it/s]"
     ]
    },
    {
     "name": "stdout",
     "output_type": "stream",
     "text": [
      "Step 65361, training: ucc_acc=0.9333333373069763 weighted_loss=0.16281236708164215 ucc_loss=0.16281236708164215 ae_loss=0 eval: ucc_acc=1.0 weighted_loss=0.0077885896898806095 ucc_loss=0.0077885896898806095 ae_loss=0\n"
     ]
    },
    {
     "name": "stderr",
     "output_type": "stream",
     "text": [
      " 27%|██▋       | 5380/20009 [32:05<1:23:02,  2.94it/s]"
     ]
    },
    {
     "name": "stdout",
     "output_type": "stream",
     "text": [
      "Step 65371, training: ucc_acc=0.9333333373069763 weighted_loss=0.05712037906050682 ucc_loss=0.05712037906050682 ae_loss=0 eval: ucc_acc=1.0 weighted_loss=0.06146955117583275 ucc_loss=0.06146955117583275 ae_loss=0\n"
     ]
    },
    {
     "name": "stderr",
     "output_type": "stream",
     "text": [
      " 27%|██▋       | 5390/20009 [32:08<1:23:41,  2.91it/s]"
     ]
    },
    {
     "name": "stdout",
     "output_type": "stream",
     "text": [
      "Step 65381, training: ucc_acc=1.0 weighted_loss=0.006974256597459316 ucc_loss=0.006974256597459316 ae_loss=0 eval: ucc_acc=1.0 weighted_loss=0.008669042959809303 ucc_loss=0.008669042959809303 ae_loss=0\n"
     ]
    },
    {
     "name": "stderr",
     "output_type": "stream",
     "text": [
      " 27%|██▋       | 5400/20009 [32:11<1:23:38,  2.91it/s]"
     ]
    },
    {
     "name": "stdout",
     "output_type": "stream",
     "text": [
      "Step 65391, training: ucc_acc=1.0 weighted_loss=0.006784230470657349 ucc_loss=0.006784230470657349 ae_loss=0 eval: ucc_acc=1.0 weighted_loss=0.0036642313934862614 ucc_loss=0.0036642313934862614 ae_loss=0\n"
     ]
    },
    {
     "name": "stderr",
     "output_type": "stream",
     "text": [
      " 27%|██▋       | 5410/20009 [32:14<1:23:35,  2.91it/s]"
     ]
    },
    {
     "name": "stdout",
     "output_type": "stream",
     "text": [
      "Step 65401, training: ucc_acc=1.0 weighted_loss=0.002312522614374757 ucc_loss=0.002312522614374757 ae_loss=0 eval: ucc_acc=1.0 weighted_loss=0.0038431682623922825 ucc_loss=0.0038431682623922825 ae_loss=0\n"
     ]
    },
    {
     "name": "stderr",
     "output_type": "stream",
     "text": [
      " 27%|██▋       | 5420/20009 [32:18<1:24:06,  2.89it/s]"
     ]
    },
    {
     "name": "stdout",
     "output_type": "stream",
     "text": [
      "Step 65411, training: ucc_acc=1.0 weighted_loss=0.005586772691458464 ucc_loss=0.005586772691458464 ae_loss=0 eval: ucc_acc=1.0 weighted_loss=0.000983522622846067 ucc_loss=0.000983522622846067 ae_loss=0\n"
     ]
    },
    {
     "name": "stderr",
     "output_type": "stream",
     "text": [
      " 27%|██▋       | 5430/20009 [32:21<1:24:10,  2.89it/s]"
     ]
    },
    {
     "name": "stdout",
     "output_type": "stream",
     "text": [
      "Step 65421, training: ucc_acc=1.0 weighted_loss=0.0119016719982028 ucc_loss=0.0119016719982028 ae_loss=0 eval: ucc_acc=1.0 weighted_loss=0.037568576633930206 ucc_loss=0.037568576633930206 ae_loss=0\n"
     ]
    },
    {
     "name": "stderr",
     "output_type": "stream",
     "text": [
      " 27%|██▋       | 5440/20009 [32:24<1:23:06,  2.92it/s]"
     ]
    },
    {
     "name": "stdout",
     "output_type": "stream",
     "text": [
      "Step 65431, training: ucc_acc=1.0 weighted_loss=0.025002630427479744 ucc_loss=0.025002630427479744 ae_loss=0 eval: ucc_acc=1.0 weighted_loss=0.00333154178224504 ucc_loss=0.00333154178224504 ae_loss=0\n"
     ]
    },
    {
     "name": "stderr",
     "output_type": "stream",
     "text": [
      " 27%|██▋       | 5450/20009 [32:27<1:23:53,  2.89it/s]"
     ]
    },
    {
     "name": "stdout",
     "output_type": "stream",
     "text": [
      "Step 65441, training: ucc_acc=1.0 weighted_loss=0.007983092218637466 ucc_loss=0.007983092218637466 ae_loss=0 eval: ucc_acc=0.9333333373069763 weighted_loss=0.21561165153980255 ucc_loss=0.21561165153980255 ae_loss=0\n"
     ]
    },
    {
     "name": "stderr",
     "output_type": "stream",
     "text": [
      " 27%|██▋       | 5460/20009 [32:30<1:23:21,  2.91it/s]"
     ]
    },
    {
     "name": "stdout",
     "output_type": "stream",
     "text": [
      "Step 65451, training: ucc_acc=1.0 weighted_loss=0.003127525793388486 ucc_loss=0.003127525793388486 ae_loss=0 eval: ucc_acc=1.0 weighted_loss=0.0032405646052211523 ucc_loss=0.0032405646052211523 ae_loss=0\n"
     ]
    },
    {
     "name": "stderr",
     "output_type": "stream",
     "text": [
      " 27%|██▋       | 5470/20009 [32:33<1:22:47,  2.93it/s]"
     ]
    },
    {
     "name": "stdout",
     "output_type": "stream",
     "text": [
      "Step 65461, training: ucc_acc=1.0 weighted_loss=0.01876992918550968 ucc_loss=0.01876992918550968 ae_loss=0 eval: ucc_acc=1.0 weighted_loss=0.013550347648561 ucc_loss=0.013550347648561 ae_loss=0\n"
     ]
    },
    {
     "name": "stderr",
     "output_type": "stream",
     "text": [
      " 27%|██▋       | 5480/20009 [32:36<1:27:39,  2.76it/s]"
     ]
    },
    {
     "name": "stdout",
     "output_type": "stream",
     "text": [
      "Step 65471, training: ucc_acc=1.0 weighted_loss=0.0012261825613677502 ucc_loss=0.0012261825613677502 ae_loss=0 eval: ucc_acc=1.0 weighted_loss=0.012989186681807041 ucc_loss=0.012989186681807041 ae_loss=0\n"
     ]
    },
    {
     "name": "stderr",
     "output_type": "stream",
     "text": [
      " 27%|██▋       | 5490/20009 [32:40<1:23:19,  2.90it/s]"
     ]
    },
    {
     "name": "stdout",
     "output_type": "stream",
     "text": [
      "Step 65481, training: ucc_acc=1.0 weighted_loss=0.013715211302042007 ucc_loss=0.013715211302042007 ae_loss=0 eval: ucc_acc=1.0 weighted_loss=0.028493957594037056 ucc_loss=0.028493957594037056 ae_loss=0\n"
     ]
    },
    {
     "name": "stderr",
     "output_type": "stream",
     "text": [
      " 27%|██▋       | 5500/20009 [32:43<1:26:14,  2.80it/s]"
     ]
    },
    {
     "name": "stdout",
     "output_type": "stream",
     "text": [
      "Step 65491, training: ucc_acc=1.0 weighted_loss=0.008203289471566677 ucc_loss=0.008203289471566677 ae_loss=0 eval: ucc_acc=1.0 weighted_loss=0.0046522896736860275 ucc_loss=0.0046522896736860275 ae_loss=0\n"
     ]
    },
    {
     "name": "stderr",
     "output_type": "stream",
     "text": [
      " 28%|██▊       | 5510/20009 [32:46<1:24:24,  2.86it/s]"
     ]
    },
    {
     "name": "stdout",
     "output_type": "stream",
     "text": [
      "Step 65501, training: ucc_acc=1.0 weighted_loss=0.004589036572724581 ucc_loss=0.004589036572724581 ae_loss=0 eval: ucc_acc=1.0 weighted_loss=0.017762519419193268 ucc_loss=0.017762519419193268 ae_loss=0\n"
     ]
    },
    {
     "name": "stderr",
     "output_type": "stream",
     "text": [
      " 28%|██▊       | 5520/20009 [32:49<1:24:03,  2.87it/s]"
     ]
    },
    {
     "name": "stdout",
     "output_type": "stream",
     "text": [
      "Step 65511, training: ucc_acc=1.0 weighted_loss=0.029371540993452072 ucc_loss=0.029371540993452072 ae_loss=0 eval: ucc_acc=1.0 weighted_loss=0.00423923134803772 ucc_loss=0.00423923134803772 ae_loss=0\n"
     ]
    },
    {
     "name": "stderr",
     "output_type": "stream",
     "text": [
      " 28%|██▊       | 5530/20009 [32:52<1:21:55,  2.95it/s]"
     ]
    },
    {
     "name": "stdout",
     "output_type": "stream",
     "text": [
      "Step 65521, training: ucc_acc=0.9333333373069763 weighted_loss=0.1978248953819275 ucc_loss=0.1978248953819275 ae_loss=0 eval: ucc_acc=1.0 weighted_loss=0.013049918226897717 ucc_loss=0.013049918226897717 ae_loss=0\n"
     ]
    },
    {
     "name": "stderr",
     "output_type": "stream",
     "text": [
      " 28%|██▊       | 5540/20009 [32:55<1:20:57,  2.98it/s]"
     ]
    },
    {
     "name": "stdout",
     "output_type": "stream",
     "text": [
      "Step 65531, training: ucc_acc=1.0 weighted_loss=0.014863429591059685 ucc_loss=0.014863429591059685 ae_loss=0 eval: ucc_acc=1.0 weighted_loss=0.008333833888173103 ucc_loss=0.008333833888173103 ae_loss=0\n"
     ]
    },
    {
     "name": "stderr",
     "output_type": "stream",
     "text": [
      " 28%|██▊       | 5550/20009 [32:58<1:23:51,  2.87it/s]"
     ]
    },
    {
     "name": "stdout",
     "output_type": "stream",
     "text": [
      "Step 65541, training: ucc_acc=1.0 weighted_loss=0.02392168901860714 ucc_loss=0.02392168901860714 ae_loss=0 eval: ucc_acc=1.0 weighted_loss=0.010438618250191212 ucc_loss=0.010438618250191212 ae_loss=0\n"
     ]
    },
    {
     "name": "stderr",
     "output_type": "stream",
     "text": [
      " 28%|██▊       | 5560/20009 [33:02<1:25:44,  2.81it/s]"
     ]
    },
    {
     "name": "stdout",
     "output_type": "stream",
     "text": [
      "Step 65551, training: ucc_acc=0.9333333373069763 weighted_loss=0.184640035033226 ucc_loss=0.184640035033226 ae_loss=0 eval: ucc_acc=1.0 weighted_loss=0.016471493989229202 ucc_loss=0.016471493989229202 ae_loss=0\n"
     ]
    },
    {
     "name": "stderr",
     "output_type": "stream",
     "text": [
      " 28%|██▊       | 5570/20009 [33:05<1:25:07,  2.83it/s]"
     ]
    },
    {
     "name": "stdout",
     "output_type": "stream",
     "text": [
      "Step 65561, training: ucc_acc=1.0 weighted_loss=0.009214352816343307 ucc_loss=0.009214352816343307 ae_loss=0 eval: ucc_acc=1.0 weighted_loss=0.020780818536877632 ucc_loss=0.020780818536877632 ae_loss=0\n"
     ]
    },
    {
     "name": "stderr",
     "output_type": "stream",
     "text": [
      " 28%|██▊       | 5580/20009 [33:08<1:21:42,  2.94it/s]"
     ]
    },
    {
     "name": "stdout",
     "output_type": "stream",
     "text": [
      "Step 65571, training: ucc_acc=1.0 weighted_loss=0.0005627179052680731 ucc_loss=0.0005627179052680731 ae_loss=0 eval: ucc_acc=1.0 weighted_loss=0.017174910753965378 ucc_loss=0.017174910753965378 ae_loss=0\n"
     ]
    },
    {
     "name": "stderr",
     "output_type": "stream",
     "text": [
      " 28%|██▊       | 5590/20009 [33:11<1:25:06,  2.82it/s]"
     ]
    },
    {
     "name": "stdout",
     "output_type": "stream",
     "text": [
      "Step 65581, training: ucc_acc=1.0 weighted_loss=0.0038095032796263695 ucc_loss=0.0038095032796263695 ae_loss=0 eval: ucc_acc=1.0 weighted_loss=0.0004237967950757593 ucc_loss=0.0004237967950757593 ae_loss=0\n"
     ]
    },
    {
     "name": "stderr",
     "output_type": "stream",
     "text": [
      " 28%|██▊       | 5600/20009 [33:14<1:23:46,  2.87it/s]"
     ]
    },
    {
     "name": "stdout",
     "output_type": "stream",
     "text": [
      "Step 65591, training: ucc_acc=1.0 weighted_loss=0.007691219914704561 ucc_loss=0.007691219914704561 ae_loss=0 eval: ucc_acc=1.0 weighted_loss=0.013748890720307827 ucc_loss=0.013748890720307827 ae_loss=0\n"
     ]
    },
    {
     "name": "stderr",
     "output_type": "stream",
     "text": [
      " 28%|██▊       | 5610/20009 [33:17<1:23:45,  2.87it/s]"
     ]
    },
    {
     "name": "stdout",
     "output_type": "stream",
     "text": [
      "Step 65601, training: ucc_acc=1.0 weighted_loss=0.021765513345599174 ucc_loss=0.021765513345599174 ae_loss=0 eval: ucc_acc=1.0 weighted_loss=0.012934016063809395 ucc_loss=0.012934016063809395 ae_loss=0\n"
     ]
    },
    {
     "name": "stderr",
     "output_type": "stream",
     "text": [
      " 28%|██▊       | 5620/20009 [33:21<1:21:59,  2.93it/s]"
     ]
    },
    {
     "name": "stdout",
     "output_type": "stream",
     "text": [
      "Step 65611, training: ucc_acc=1.0 weighted_loss=0.0016080134082585573 ucc_loss=0.0016080134082585573 ae_loss=0 eval: ucc_acc=1.0 weighted_loss=0.002869296120479703 ucc_loss=0.002869296120479703 ae_loss=0\n"
     ]
    },
    {
     "name": "stderr",
     "output_type": "stream",
     "text": [
      " 28%|██▊       | 5630/20009 [33:24<1:22:25,  2.91it/s]"
     ]
    },
    {
     "name": "stdout",
     "output_type": "stream",
     "text": [
      "Step 65621, training: ucc_acc=1.0 weighted_loss=0.020628567785024643 ucc_loss=0.020628567785024643 ae_loss=0 eval: ucc_acc=1.0 weighted_loss=0.007351427339017391 ucc_loss=0.007351427339017391 ae_loss=0\n"
     ]
    },
    {
     "name": "stderr",
     "output_type": "stream",
     "text": [
      " 28%|██▊       | 5640/20009 [33:27<1:23:09,  2.88it/s]"
     ]
    },
    {
     "name": "stdout",
     "output_type": "stream",
     "text": [
      "Step 65631, training: ucc_acc=1.0 weighted_loss=0.009010509587824345 ucc_loss=0.009010509587824345 ae_loss=0 eval: ucc_acc=1.0 weighted_loss=0.001063446863554418 ucc_loss=0.001063446863554418 ae_loss=0\n"
     ]
    },
    {
     "name": "stderr",
     "output_type": "stream",
     "text": [
      " 28%|██▊       | 5650/20009 [33:30<1:26:14,  2.77it/s]"
     ]
    },
    {
     "name": "stdout",
     "output_type": "stream",
     "text": [
      "Step 65641, training: ucc_acc=0.9333333373069763 weighted_loss=0.17593388259410858 ucc_loss=0.17593388259410858 ae_loss=0 eval: ucc_acc=1.0 weighted_loss=0.01893419213593006 ucc_loss=0.01893419213593006 ae_loss=0\n"
     ]
    },
    {
     "name": "stderr",
     "output_type": "stream",
     "text": [
      " 28%|██▊       | 5660/20009 [33:33<1:23:19,  2.87it/s]"
     ]
    },
    {
     "name": "stdout",
     "output_type": "stream",
     "text": [
      "Step 65651, training: ucc_acc=1.0 weighted_loss=0.000815334846265614 ucc_loss=0.000815334846265614 ae_loss=0 eval: ucc_acc=1.0 weighted_loss=0.0031698704697191715 ucc_loss=0.0031698704697191715 ae_loss=0\n"
     ]
    },
    {
     "name": "stderr",
     "output_type": "stream",
     "text": [
      " 28%|██▊       | 5670/20009 [33:36<1:21:08,  2.95it/s]"
     ]
    },
    {
     "name": "stdout",
     "output_type": "stream",
     "text": [
      "Step 65661, training: ucc_acc=1.0 weighted_loss=0.009008383378386497 ucc_loss=0.009008383378386497 ae_loss=0 eval: ucc_acc=1.0 weighted_loss=0.011867043562233448 ucc_loss=0.011867043562233448 ae_loss=0\n"
     ]
    },
    {
     "name": "stderr",
     "output_type": "stream",
     "text": [
      " 28%|██▊       | 5680/20009 [33:39<1:21:08,  2.94it/s]"
     ]
    },
    {
     "name": "stdout",
     "output_type": "stream",
     "text": [
      "Step 65671, training: ucc_acc=1.0 weighted_loss=0.025593172758817673 ucc_loss=0.025593172758817673 ae_loss=0 eval: ucc_acc=0.9333333373069763 weighted_loss=0.20875301957130432 ucc_loss=0.20875301957130432 ae_loss=0\n"
     ]
    },
    {
     "name": "stderr",
     "output_type": "stream",
     "text": [
      " 28%|██▊       | 5690/20009 [33:43<1:23:05,  2.87it/s]"
     ]
    },
    {
     "name": "stdout",
     "output_type": "stream",
     "text": [
      "Step 65681, training: ucc_acc=0.9333333373069763 weighted_loss=0.1957438439130783 ucc_loss=0.1957438439130783 ae_loss=0 eval: ucc_acc=1.0 weighted_loss=0.004871972370892763 ucc_loss=0.004871972370892763 ae_loss=0\n"
     ]
    },
    {
     "name": "stderr",
     "output_type": "stream",
     "text": [
      " 28%|██▊       | 5700/20009 [33:46<1:23:40,  2.85it/s]"
     ]
    },
    {
     "name": "stdout",
     "output_type": "stream",
     "text": [
      "Step 65691, training: ucc_acc=1.0 weighted_loss=0.0007327173370867968 ucc_loss=0.0007327173370867968 ae_loss=0 eval: ucc_acc=1.0 weighted_loss=0.020510073751211166 ucc_loss=0.020510073751211166 ae_loss=0\n"
     ]
    },
    {
     "name": "stderr",
     "output_type": "stream",
     "text": [
      " 29%|██▊       | 5710/20009 [33:50<1:43:47,  2.30it/s]"
     ]
    },
    {
     "name": "stdout",
     "output_type": "stream",
     "text": [
      "Step 65701, training: ucc_acc=1.0 weighted_loss=0.008208077400922775 ucc_loss=0.008208077400922775 ae_loss=0 eval: ucc_acc=1.0 weighted_loss=0.030326001346111298 ucc_loss=0.030326001346111298 ae_loss=0\n"
     ]
    },
    {
     "name": "stderr",
     "output_type": "stream",
     "text": [
      " 29%|██▊       | 5720/20009 [33:53<1:23:20,  2.86it/s]"
     ]
    },
    {
     "name": "stdout",
     "output_type": "stream",
     "text": [
      "Step 65711, training: ucc_acc=1.0 weighted_loss=0.002902440493926406 ucc_loss=0.002902440493926406 ae_loss=0 eval: ucc_acc=1.0 weighted_loss=0.00039859089883975685 ucc_loss=0.00039859089883975685 ae_loss=0\n"
     ]
    },
    {
     "name": "stderr",
     "output_type": "stream",
     "text": [
      " 29%|██▊       | 5730/20009 [33:56<1:21:00,  2.94it/s]"
     ]
    },
    {
     "name": "stdout",
     "output_type": "stream",
     "text": [
      "Step 65721, training: ucc_acc=1.0 weighted_loss=0.004687855020165443 ucc_loss=0.004687855020165443 ae_loss=0 eval: ucc_acc=1.0 weighted_loss=0.014756972901523113 ucc_loss=0.014756972901523113 ae_loss=0\n"
     ]
    },
    {
     "name": "stderr",
     "output_type": "stream",
     "text": [
      " 29%|██▊       | 5740/20009 [33:59<1:23:42,  2.84it/s]"
     ]
    },
    {
     "name": "stdout",
     "output_type": "stream",
     "text": [
      "Step 65731, training: ucc_acc=1.0 weighted_loss=0.01210745982825756 ucc_loss=0.01210745982825756 ae_loss=0 eval: ucc_acc=1.0 weighted_loss=0.029216144233942032 ucc_loss=0.029216144233942032 ae_loss=0\n"
     ]
    },
    {
     "name": "stderr",
     "output_type": "stream",
     "text": [
      " 29%|██▊       | 5750/20009 [34:02<1:20:57,  2.94it/s]"
     ]
    },
    {
     "name": "stdout",
     "output_type": "stream",
     "text": [
      "Step 65741, training: ucc_acc=1.0 weighted_loss=0.007144618313759565 ucc_loss=0.007144618313759565 ae_loss=0 eval: ucc_acc=1.0 weighted_loss=0.01514003798365593 ucc_loss=0.01514003798365593 ae_loss=0\n"
     ]
    },
    {
     "name": "stderr",
     "output_type": "stream",
     "text": [
      " 29%|██▉       | 5760/20009 [34:05<1:19:38,  2.98it/s]"
     ]
    },
    {
     "name": "stdout",
     "output_type": "stream",
     "text": [
      "Step 65751, training: ucc_acc=1.0 weighted_loss=0.008715865202248096 ucc_loss=0.008715865202248096 ae_loss=0 eval: ucc_acc=0.9333333373069763 weighted_loss=0.18383975327014923 ucc_loss=0.18383975327014923 ae_loss=0\n"
     ]
    },
    {
     "name": "stderr",
     "output_type": "stream",
     "text": [
      " 29%|██▉       | 5770/20009 [34:09<1:21:34,  2.91it/s]"
     ]
    },
    {
     "name": "stdout",
     "output_type": "stream",
     "text": [
      "Step 65761, training: ucc_acc=1.0 weighted_loss=0.000525539624504745 ucc_loss=0.000525539624504745 ae_loss=0 eval: ucc_acc=1.0 weighted_loss=0.010047471150755882 ucc_loss=0.010047471150755882 ae_loss=0\n"
     ]
    },
    {
     "name": "stderr",
     "output_type": "stream",
     "text": [
      " 29%|██▉       | 5780/20009 [34:12<1:22:43,  2.87it/s]"
     ]
    },
    {
     "name": "stdout",
     "output_type": "stream",
     "text": [
      "Step 65771, training: ucc_acc=1.0 weighted_loss=0.03746635839343071 ucc_loss=0.03746635839343071 ae_loss=0 eval: ucc_acc=1.0 weighted_loss=0.014823625795543194 ucc_loss=0.014823625795543194 ae_loss=0\n"
     ]
    },
    {
     "name": "stderr",
     "output_type": "stream",
     "text": [
      " 29%|██▉       | 5790/20009 [34:15<1:24:47,  2.79it/s]"
     ]
    },
    {
     "name": "stdout",
     "output_type": "stream",
     "text": [
      "Step 65781, training: ucc_acc=1.0 weighted_loss=0.01497569214552641 ucc_loss=0.01497569214552641 ae_loss=0 eval: ucc_acc=1.0 weighted_loss=0.016005633398890495 ucc_loss=0.016005633398890495 ae_loss=0\n"
     ]
    },
    {
     "name": "stderr",
     "output_type": "stream",
     "text": [
      " 29%|██▉       | 5800/20009 [34:18<1:23:28,  2.84it/s]"
     ]
    },
    {
     "name": "stdout",
     "output_type": "stream",
     "text": [
      "Step 65791, training: ucc_acc=1.0 weighted_loss=0.005160972476005554 ucc_loss=0.005160972476005554 ae_loss=0 eval: ucc_acc=1.0 weighted_loss=0.013166139833629131 ucc_loss=0.013166139833629131 ae_loss=0\n"
     ]
    },
    {
     "name": "stderr",
     "output_type": "stream",
     "text": [
      " 29%|██▉       | 5810/20009 [34:21<1:21:30,  2.90it/s]"
     ]
    },
    {
     "name": "stdout",
     "output_type": "stream",
     "text": [
      "Step 65801, training: ucc_acc=1.0 weighted_loss=0.005003672558814287 ucc_loss=0.005003672558814287 ae_loss=0 eval: ucc_acc=0.9333333373069763 weighted_loss=0.19479253888130188 ucc_loss=0.19479253888130188 ae_loss=0\n"
     ]
    },
    {
     "name": "stderr",
     "output_type": "stream",
     "text": [
      " 29%|██▉       | 5820/20009 [34:24<1:24:48,  2.79it/s]"
     ]
    },
    {
     "name": "stdout",
     "output_type": "stream",
     "text": [
      "Step 65811, training: ucc_acc=1.0 weighted_loss=0.03622547909617424 ucc_loss=0.03622547909617424 ae_loss=0 eval: ucc_acc=1.0 weighted_loss=0.027963539585471153 ucc_loss=0.027963539585471153 ae_loss=0\n"
     ]
    },
    {
     "name": "stderr",
     "output_type": "stream",
     "text": [
      " 29%|██▉       | 5830/20009 [34:28<1:20:52,  2.92it/s]"
     ]
    },
    {
     "name": "stdout",
     "output_type": "stream",
     "text": [
      "Step 65821, training: ucc_acc=0.9333333373069763 weighted_loss=0.161327064037323 ucc_loss=0.161327064037323 ae_loss=0 eval: ucc_acc=1.0 weighted_loss=0.00044192472705617547 ucc_loss=0.00044192472705617547 ae_loss=0\n"
     ]
    },
    {
     "name": "stderr",
     "output_type": "stream",
     "text": [
      " 29%|██▉       | 5840/20009 [34:31<1:19:15,  2.98it/s]"
     ]
    },
    {
     "name": "stdout",
     "output_type": "stream",
     "text": [
      "Step 65831, training: ucc_acc=1.0 weighted_loss=0.0009041148005053401 ucc_loss=0.0009041148005053401 ae_loss=0 eval: ucc_acc=0.9333333373069763 weighted_loss=0.25539544224739075 ucc_loss=0.25539544224739075 ae_loss=0\n"
     ]
    },
    {
     "name": "stderr",
     "output_type": "stream",
     "text": [
      " 29%|██▉       | 5850/20009 [34:34<1:22:56,  2.84it/s]"
     ]
    },
    {
     "name": "stdout",
     "output_type": "stream",
     "text": [
      "Step 65841, training: ucc_acc=1.0 weighted_loss=0.0005232089315541089 ucc_loss=0.0005232089315541089 ae_loss=0 eval: ucc_acc=1.0 weighted_loss=0.05454719811677933 ucc_loss=0.05454719811677933 ae_loss=0\n"
     ]
    },
    {
     "name": "stderr",
     "output_type": "stream",
     "text": [
      " 29%|██▉       | 5860/20009 [34:37<1:20:19,  2.94it/s]"
     ]
    },
    {
     "name": "stdout",
     "output_type": "stream",
     "text": [
      "Step 65851, training: ucc_acc=1.0 weighted_loss=0.014810792170464993 ucc_loss=0.014810792170464993 ae_loss=0 eval: ucc_acc=1.0 weighted_loss=0.011804262176156044 ucc_loss=0.011804262176156044 ae_loss=0\n"
     ]
    },
    {
     "name": "stderr",
     "output_type": "stream",
     "text": [
      " 29%|██▉       | 5870/20009 [34:40<1:20:28,  2.93it/s]"
     ]
    },
    {
     "name": "stdout",
     "output_type": "stream",
     "text": [
      "Step 65861, training: ucc_acc=1.0 weighted_loss=0.009702594019472599 ucc_loss=0.009702594019472599 ae_loss=0 eval: ucc_acc=1.0 weighted_loss=0.010697325691580772 ucc_loss=0.010697325691580772 ae_loss=0\n"
     ]
    },
    {
     "name": "stderr",
     "output_type": "stream",
     "text": [
      " 29%|██▉       | 5880/20009 [34:43<1:21:17,  2.90it/s]"
     ]
    },
    {
     "name": "stdout",
     "output_type": "stream",
     "text": [
      "Step 65871, training: ucc_acc=1.0 weighted_loss=0.026214158162474632 ucc_loss=0.026214158162474632 ae_loss=0 eval: ucc_acc=1.0 weighted_loss=0.007413899526000023 ucc_loss=0.007413899526000023 ae_loss=0\n"
     ]
    },
    {
     "name": "stderr",
     "output_type": "stream",
     "text": [
      " 29%|██▉       | 5890/20009 [34:46<1:20:16,  2.93it/s]"
     ]
    },
    {
     "name": "stdout",
     "output_type": "stream",
     "text": [
      "Step 65881, training: ucc_acc=1.0 weighted_loss=0.015471725724637508 ucc_loss=0.015471725724637508 ae_loss=0 eval: ucc_acc=1.0 weighted_loss=0.031611546874046326 ucc_loss=0.031611546874046326 ae_loss=0\n"
     ]
    },
    {
     "name": "stderr",
     "output_type": "stream",
     "text": [
      " 29%|██▉       | 5900/20009 [34:49<1:22:52,  2.84it/s]"
     ]
    },
    {
     "name": "stdout",
     "output_type": "stream",
     "text": [
      "Step 65891, training: ucc_acc=1.0 weighted_loss=0.0028910404071211815 ucc_loss=0.0028910404071211815 ae_loss=0 eval: ucc_acc=1.0 weighted_loss=0.007765310816466808 ucc_loss=0.007765310816466808 ae_loss=0\n"
     ]
    },
    {
     "name": "stderr",
     "output_type": "stream",
     "text": [
      " 30%|██▉       | 5910/20009 [34:52<1:18:21,  3.00it/s]"
     ]
    },
    {
     "name": "stdout",
     "output_type": "stream",
     "text": [
      "Step 65901, training: ucc_acc=1.0 weighted_loss=0.006716548930853605 ucc_loss=0.006716548930853605 ae_loss=0 eval: ucc_acc=0.9333333373069763 weighted_loss=0.2697603404521942 ucc_loss=0.2697603404521942 ae_loss=0\n"
     ]
    },
    {
     "name": "stderr",
     "output_type": "stream",
     "text": [
      " 30%|██▉       | 5920/20009 [34:56<1:21:15,  2.89it/s]"
     ]
    },
    {
     "name": "stdout",
     "output_type": "stream",
     "text": [
      "Step 65911, training: ucc_acc=1.0 weighted_loss=0.014006135985255241 ucc_loss=0.014006135985255241 ae_loss=0 eval: ucc_acc=1.0 weighted_loss=0.0006594674196094275 ucc_loss=0.0006594674196094275 ae_loss=0\n"
     ]
    },
    {
     "name": "stderr",
     "output_type": "stream",
     "text": [
      " 30%|██▉       | 5930/20009 [34:59<1:19:38,  2.95it/s]"
     ]
    },
    {
     "name": "stdout",
     "output_type": "stream",
     "text": [
      "Step 65921, training: ucc_acc=1.0 weighted_loss=0.010935612954199314 ucc_loss=0.010935612954199314 ae_loss=0 eval: ucc_acc=1.0 weighted_loss=0.01875157468020916 ucc_loss=0.01875157468020916 ae_loss=0\n"
     ]
    },
    {
     "name": "stderr",
     "output_type": "stream",
     "text": [
      " 30%|██▉       | 5940/20009 [35:02<1:20:14,  2.92it/s]"
     ]
    },
    {
     "name": "stdout",
     "output_type": "stream",
     "text": [
      "Step 65931, training: ucc_acc=1.0 weighted_loss=0.0005986393080092967 ucc_loss=0.0005986393080092967 ae_loss=0 eval: ucc_acc=1.0 weighted_loss=0.012800527736544609 ucc_loss=0.012800527736544609 ae_loss=0\n"
     ]
    },
    {
     "name": "stderr",
     "output_type": "stream",
     "text": [
      " 30%|██▉       | 5950/20009 [35:05<1:20:24,  2.91it/s]"
     ]
    },
    {
     "name": "stdout",
     "output_type": "stream",
     "text": [
      "Step 65941, training: ucc_acc=1.0 weighted_loss=0.04750087484717369 ucc_loss=0.04750087484717369 ae_loss=0 eval: ucc_acc=1.0 weighted_loss=0.050326116383075714 ucc_loss=0.050326116383075714 ae_loss=0\n"
     ]
    },
    {
     "name": "stderr",
     "output_type": "stream",
     "text": [
      " 30%|██▉       | 5960/20009 [35:08<1:20:07,  2.92it/s]"
     ]
    },
    {
     "name": "stdout",
     "output_type": "stream",
     "text": [
      "Step 65951, training: ucc_acc=1.0 weighted_loss=0.011035491712391376 ucc_loss=0.011035491712391376 ae_loss=0 eval: ucc_acc=1.0 weighted_loss=0.010358098894357681 ucc_loss=0.010358098894357681 ae_loss=0\n"
     ]
    },
    {
     "name": "stderr",
     "output_type": "stream",
     "text": [
      " 30%|██▉       | 5970/20009 [35:11<1:19:33,  2.94it/s]"
     ]
    },
    {
     "name": "stdout",
     "output_type": "stream",
     "text": [
      "Step 65961, training: ucc_acc=1.0 weighted_loss=0.0039033065550029278 ucc_loss=0.0039033065550029278 ae_loss=0 eval: ucc_acc=0.9333333373069763 weighted_loss=0.1633763164281845 ucc_loss=0.1633763164281845 ae_loss=0\n"
     ]
    },
    {
     "name": "stderr",
     "output_type": "stream",
     "text": [
      " 30%|██▉       | 5980/20009 [35:14<1:20:02,  2.92it/s]"
     ]
    },
    {
     "name": "stdout",
     "output_type": "stream",
     "text": [
      "Step 65971, training: ucc_acc=1.0 weighted_loss=0.015168845653533936 ucc_loss=0.015168845653533936 ae_loss=0 eval: ucc_acc=1.0 weighted_loss=0.02440878190100193 ucc_loss=0.02440878190100193 ae_loss=0\n"
     ]
    },
    {
     "name": "stderr",
     "output_type": "stream",
     "text": [
      " 30%|██▉       | 5990/20009 [35:17<1:20:14,  2.91it/s]"
     ]
    },
    {
     "name": "stdout",
     "output_type": "stream",
     "text": [
      "Step 65981, training: ucc_acc=1.0 weighted_loss=0.012832540087401867 ucc_loss=0.012832540087401867 ae_loss=0 eval: ucc_acc=1.0 weighted_loss=0.019845446571707726 ucc_loss=0.019845446571707726 ae_loss=0\n"
     ]
    },
    {
     "name": "stderr",
     "output_type": "stream",
     "text": [
      " 30%|██▉       | 6000/20009 [35:21<1:22:17,  2.84it/s]"
     ]
    },
    {
     "name": "stdout",
     "output_type": "stream",
     "text": [
      "Step 65991, training: ucc_acc=1.0 weighted_loss=0.002157242503017187 ucc_loss=0.002157242503017187 ae_loss=0 eval: ucc_acc=1.0 weighted_loss=0.0011071761837229133 ucc_loss=0.0011071761837229133 ae_loss=0\n"
     ]
    },
    {
     "name": "stderr",
     "output_type": "stream",
     "text": [
      " 30%|███       | 6010/20009 [35:24<1:19:44,  2.93it/s]"
     ]
    },
    {
     "name": "stdout",
     "output_type": "stream",
     "text": [
      "Step 66001, training: ucc_acc=1.0 weighted_loss=0.006909274961799383 ucc_loss=0.006909274961799383 ae_loss=0 eval: ucc_acc=1.0 weighted_loss=0.0007016818271949887 ucc_loss=0.0007016818271949887 ae_loss=0\n"
     ]
    },
    {
     "name": "stderr",
     "output_type": "stream",
     "text": [
      " 30%|███       | 6020/20009 [35:27<1:20:11,  2.91it/s]"
     ]
    },
    {
     "name": "stdout",
     "output_type": "stream",
     "text": [
      "Step 66011, training: ucc_acc=1.0 weighted_loss=0.0029658128041774035 ucc_loss=0.0029658128041774035 ae_loss=0 eval: ucc_acc=1.0 weighted_loss=0.0006217912887223065 ucc_loss=0.0006217912887223065 ae_loss=0\n"
     ]
    },
    {
     "name": "stderr",
     "output_type": "stream",
     "text": [
      " 30%|███       | 6030/20009 [35:30<1:20:45,  2.88it/s]"
     ]
    },
    {
     "name": "stdout",
     "output_type": "stream",
     "text": [
      "Step 66021, training: ucc_acc=1.0 weighted_loss=0.015888845548033714 ucc_loss=0.015888845548033714 ae_loss=0 eval: ucc_acc=1.0 weighted_loss=0.024995816871523857 ucc_loss=0.024995816871523857 ae_loss=0\n"
     ]
    },
    {
     "name": "stderr",
     "output_type": "stream",
     "text": [
      " 30%|███       | 6040/20009 [35:33<1:19:35,  2.92it/s]"
     ]
    },
    {
     "name": "stdout",
     "output_type": "stream",
     "text": [
      "Step 66031, training: ucc_acc=0.9333333373069763 weighted_loss=0.06657617539167404 ucc_loss=0.06657617539167404 ae_loss=0 eval: ucc_acc=1.0 weighted_loss=0.025123437866568565 ucc_loss=0.025123437866568565 ae_loss=0\n"
     ]
    },
    {
     "name": "stderr",
     "output_type": "stream",
     "text": [
      " 30%|███       | 6050/20009 [35:36<1:19:54,  2.91it/s]"
     ]
    },
    {
     "name": "stdout",
     "output_type": "stream",
     "text": [
      "Step 66041, training: ucc_acc=0.9333333373069763 weighted_loss=0.10490738600492477 ucc_loss=0.10490738600492477 ae_loss=0 eval: ucc_acc=1.0 weighted_loss=0.03280016407370567 ucc_loss=0.03280016407370567 ae_loss=0\n"
     ]
    },
    {
     "name": "stderr",
     "output_type": "stream",
     "text": [
      " 30%|███       | 6060/20009 [35:39<1:19:52,  2.91it/s]"
     ]
    },
    {
     "name": "stdout",
     "output_type": "stream",
     "text": [
      "Step 66051, training: ucc_acc=1.0 weighted_loss=0.019966011866927147 ucc_loss=0.019966011866927147 ae_loss=0 eval: ucc_acc=1.0 weighted_loss=0.0013568612048402429 ucc_loss=0.0013568612048402429 ae_loss=0\n"
     ]
    },
    {
     "name": "stderr",
     "output_type": "stream",
     "text": [
      " 30%|███       | 6070/20009 [35:42<1:18:35,  2.96it/s]"
     ]
    },
    {
     "name": "stdout",
     "output_type": "stream",
     "text": [
      "Step 66061, training: ucc_acc=1.0 weighted_loss=0.02301470749080181 ucc_loss=0.02301470749080181 ae_loss=0 eval: ucc_acc=1.0 weighted_loss=0.008879946544766426 ucc_loss=0.008879946544766426 ae_loss=0\n"
     ]
    },
    {
     "name": "stderr",
     "output_type": "stream",
     "text": [
      " 30%|███       | 6080/20009 [35:45<1:19:14,  2.93it/s]"
     ]
    },
    {
     "name": "stdout",
     "output_type": "stream",
     "text": [
      "Step 66071, training: ucc_acc=1.0 weighted_loss=0.008230012841522694 ucc_loss=0.008230012841522694 ae_loss=0 eval: ucc_acc=1.0 weighted_loss=0.006790458224713802 ucc_loss=0.006790458224713802 ae_loss=0\n"
     ]
    },
    {
     "name": "stderr",
     "output_type": "stream",
     "text": [
      " 30%|███       | 6090/20009 [35:49<1:18:40,  2.95it/s]"
     ]
    },
    {
     "name": "stdout",
     "output_type": "stream",
     "text": [
      "Step 66081, training: ucc_acc=1.0 weighted_loss=0.0044836318120360374 ucc_loss=0.0044836318120360374 ae_loss=0 eval: ucc_acc=1.0 weighted_loss=0.0017823375528678298 ucc_loss=0.0017823375528678298 ae_loss=0\n"
     ]
    },
    {
     "name": "stderr",
     "output_type": "stream",
     "text": [
      " 30%|███       | 6100/20009 [35:52<1:19:39,  2.91it/s]"
     ]
    },
    {
     "name": "stdout",
     "output_type": "stream",
     "text": [
      "Step 66091, training: ucc_acc=1.0 weighted_loss=0.004881980828940868 ucc_loss=0.004881980828940868 ae_loss=0 eval: ucc_acc=1.0 weighted_loss=0.0014567833859473467 ucc_loss=0.0014567833859473467 ae_loss=0\n"
     ]
    },
    {
     "name": "stderr",
     "output_type": "stream",
     "text": [
      " 31%|███       | 6110/20009 [35:55<1:18:48,  2.94it/s]"
     ]
    },
    {
     "name": "stdout",
     "output_type": "stream",
     "text": [
      "Step 66101, training: ucc_acc=1.0 weighted_loss=0.004480363801121712 ucc_loss=0.004480363801121712 ae_loss=0 eval: ucc_acc=1.0 weighted_loss=0.015388947911560535 ucc_loss=0.015388947911560535 ae_loss=0\n"
     ]
    },
    {
     "name": "stderr",
     "output_type": "stream",
     "text": [
      " 31%|███       | 6120/20009 [35:58<1:19:44,  2.90it/s]"
     ]
    },
    {
     "name": "stdout",
     "output_type": "stream",
     "text": [
      "Step 66111, training: ucc_acc=1.0 weighted_loss=0.038087476044893265 ucc_loss=0.038087476044893265 ae_loss=0 eval: ucc_acc=1.0 weighted_loss=0.022749334573745728 ucc_loss=0.022749334573745728 ae_loss=0\n"
     ]
    },
    {
     "name": "stderr",
     "output_type": "stream",
     "text": [
      " 31%|███       | 6130/20009 [36:01<1:19:18,  2.92it/s]"
     ]
    },
    {
     "name": "stdout",
     "output_type": "stream",
     "text": [
      "Step 66121, training: ucc_acc=1.0 weighted_loss=3.645993638201617e-05 ucc_loss=3.645993638201617e-05 ae_loss=0 eval: ucc_acc=0.9333333373069763 weighted_loss=0.18999506533145905 ucc_loss=0.18999506533145905 ae_loss=0\n"
     ]
    },
    {
     "name": "stderr",
     "output_type": "stream",
     "text": [
      " 31%|███       | 6140/20009 [36:04<1:18:37,  2.94it/s]"
     ]
    },
    {
     "name": "stdout",
     "output_type": "stream",
     "text": [
      "Step 66131, training: ucc_acc=1.0 weighted_loss=0.002449944382533431 ucc_loss=0.002449944382533431 ae_loss=0 eval: ucc_acc=1.0 weighted_loss=0.007498220074921846 ucc_loss=0.007498220074921846 ae_loss=0\n"
     ]
    },
    {
     "name": "stderr",
     "output_type": "stream",
     "text": [
      " 31%|███       | 6150/20009 [36:07<1:16:52,  3.00it/s]"
     ]
    },
    {
     "name": "stdout",
     "output_type": "stream",
     "text": [
      "Step 66141, training: ucc_acc=1.0 weighted_loss=0.0005725987139157951 ucc_loss=0.0005725987139157951 ae_loss=0 eval: ucc_acc=0.9333333373069763 weighted_loss=0.05364041030406952 ucc_loss=0.05364041030406952 ae_loss=0\n"
     ]
    },
    {
     "name": "stderr",
     "output_type": "stream",
     "text": [
      " 31%|███       | 6160/20009 [36:10<1:17:34,  2.98it/s]"
     ]
    },
    {
     "name": "stdout",
     "output_type": "stream",
     "text": [
      "Step 66151, training: ucc_acc=1.0 weighted_loss=0.01615305058658123 ucc_loss=0.01615305058658123 ae_loss=0 eval: ucc_acc=0.8666666746139526 weighted_loss=0.3792674243450165 ucc_loss=0.3792674243450165 ae_loss=0\n"
     ]
    },
    {
     "name": "stderr",
     "output_type": "stream",
     "text": [
      " 31%|███       | 6170/20009 [36:13<1:17:59,  2.96it/s]"
     ]
    },
    {
     "name": "stdout",
     "output_type": "stream",
     "text": [
      "Step 66161, training: ucc_acc=1.0 weighted_loss=0.01586867682635784 ucc_loss=0.01586867682635784 ae_loss=0 eval: ucc_acc=0.9333333373069763 weighted_loss=0.06823648512363434 ucc_loss=0.06823648512363434 ae_loss=0\n"
     ]
    },
    {
     "name": "stderr",
     "output_type": "stream",
     "text": [
      " 31%|███       | 6180/20009 [36:16<1:18:51,  2.92it/s]"
     ]
    },
    {
     "name": "stdout",
     "output_type": "stream",
     "text": [
      "Step 66171, training: ucc_acc=1.0 weighted_loss=0.00033455382799729705 ucc_loss=0.00033455382799729705 ae_loss=0 eval: ucc_acc=1.0 weighted_loss=0.007470191456377506 ucc_loss=0.007470191456377506 ae_loss=0\n"
     ]
    },
    {
     "name": "stderr",
     "output_type": "stream",
     "text": [
      " 31%|███       | 6190/20009 [36:20<1:18:22,  2.94it/s]"
     ]
    },
    {
     "name": "stdout",
     "output_type": "stream",
     "text": [
      "Step 66181, training: ucc_acc=1.0 weighted_loss=0.014237290248274803 ucc_loss=0.014237290248274803 ae_loss=0 eval: ucc_acc=1.0 weighted_loss=0.009671000763773918 ucc_loss=0.009671000763773918 ae_loss=0\n"
     ]
    },
    {
     "name": "stderr",
     "output_type": "stream",
     "text": [
      " 31%|███       | 6200/20009 [36:23<1:19:27,  2.90it/s]"
     ]
    },
    {
     "name": "stdout",
     "output_type": "stream",
     "text": [
      "Step 66191, training: ucc_acc=1.0 weighted_loss=0.0066188848577439785 ucc_loss=0.0066188848577439785 ae_loss=0 eval: ucc_acc=1.0 weighted_loss=0.00024542681057937443 ucc_loss=0.00024542681057937443 ae_loss=0\n"
     ]
    },
    {
     "name": "stderr",
     "output_type": "stream",
     "text": [
      " 31%|███       | 6210/20009 [36:26<1:17:46,  2.96it/s]"
     ]
    },
    {
     "name": "stdout",
     "output_type": "stream",
     "text": [
      "Step 66201, training: ucc_acc=0.9333333373069763 weighted_loss=0.15589101612567902 ucc_loss=0.15589101612567902 ae_loss=0 eval: ucc_acc=1.0 weighted_loss=0.012978002429008484 ucc_loss=0.012978002429008484 ae_loss=0\n"
     ]
    },
    {
     "name": "stderr",
     "output_type": "stream",
     "text": [
      " 31%|███       | 6220/20009 [36:29<1:19:34,  2.89it/s]"
     ]
    },
    {
     "name": "stdout",
     "output_type": "stream",
     "text": [
      "Step 66211, training: ucc_acc=1.0 weighted_loss=0.04589734226465225 ucc_loss=0.04589734226465225 ae_loss=0 eval: ucc_acc=1.0 weighted_loss=0.06139712780714035 ucc_loss=0.06139712780714035 ae_loss=0\n"
     ]
    },
    {
     "name": "stderr",
     "output_type": "stream",
     "text": [
      " 31%|███       | 6230/20009 [36:32<1:17:19,  2.97it/s]"
     ]
    },
    {
     "name": "stdout",
     "output_type": "stream",
     "text": [
      "Step 66221, training: ucc_acc=1.0 weighted_loss=0.0033399283420294523 ucc_loss=0.0033399283420294523 ae_loss=0 eval: ucc_acc=1.0 weighted_loss=0.00518027925863862 ucc_loss=0.00518027925863862 ae_loss=0\n"
     ]
    },
    {
     "name": "stderr",
     "output_type": "stream",
     "text": [
      " 31%|███       | 6240/20009 [36:35<1:18:46,  2.91it/s]"
     ]
    },
    {
     "name": "stdout",
     "output_type": "stream",
     "text": [
      "Step 66231, training: ucc_acc=1.0 weighted_loss=0.00035392120480537415 ucc_loss=0.00035392120480537415 ae_loss=0 eval: ucc_acc=1.0 weighted_loss=0.000190349092008546 ucc_loss=0.000190349092008546 ae_loss=0\n"
     ]
    },
    {
     "name": "stderr",
     "output_type": "stream",
     "text": [
      " 31%|███       | 6250/20009 [36:38<1:18:41,  2.91it/s]"
     ]
    },
    {
     "name": "stdout",
     "output_type": "stream",
     "text": [
      "Step 66241, training: ucc_acc=1.0 weighted_loss=0.024314019829034805 ucc_loss=0.024314019829034805 ae_loss=0 eval: ucc_acc=1.0 weighted_loss=0.01010909304022789 ucc_loss=0.01010909304022789 ae_loss=0\n"
     ]
    },
    {
     "name": "stderr",
     "output_type": "stream",
     "text": [
      " 31%|███▏      | 6260/20009 [36:41<1:17:44,  2.95it/s]"
     ]
    },
    {
     "name": "stdout",
     "output_type": "stream",
     "text": [
      "Step 66251, training: ucc_acc=1.0 weighted_loss=0.011028647422790527 ucc_loss=0.011028647422790527 ae_loss=0 eval: ucc_acc=1.0 weighted_loss=0.00026175714447163045 ucc_loss=0.00026175714447163045 ae_loss=0\n"
     ]
    },
    {
     "name": "stderr",
     "output_type": "stream",
     "text": [
      " 31%|███▏      | 6270/20009 [36:44<1:17:21,  2.96it/s]"
     ]
    },
    {
     "name": "stdout",
     "output_type": "stream",
     "text": [
      "Step 66261, training: ucc_acc=1.0 weighted_loss=0.013378203846514225 ucc_loss=0.013378203846514225 ae_loss=0 eval: ucc_acc=1.0 weighted_loss=0.01416026707738638 ucc_loss=0.01416026707738638 ae_loss=0\n"
     ]
    },
    {
     "name": "stderr",
     "output_type": "stream",
     "text": [
      " 31%|███▏      | 6280/20009 [36:48<1:18:02,  2.93it/s]"
     ]
    },
    {
     "name": "stdout",
     "output_type": "stream",
     "text": [
      "Step 66271, training: ucc_acc=1.0 weighted_loss=7.751181692583486e-05 ucc_loss=7.751181692583486e-05 ae_loss=0 eval: ucc_acc=1.0 weighted_loss=0.013041500002145767 ucc_loss=0.013041500002145767 ae_loss=0\n"
     ]
    },
    {
     "name": "stderr",
     "output_type": "stream",
     "text": [
      " 31%|███▏      | 6290/20009 [36:51<1:18:17,  2.92it/s]"
     ]
    },
    {
     "name": "stdout",
     "output_type": "stream",
     "text": [
      "Step 66281, training: ucc_acc=1.0 weighted_loss=0.004589937627315521 ucc_loss=0.004589937627315521 ae_loss=0 eval: ucc_acc=1.0 weighted_loss=0.005905707832425833 ucc_loss=0.005905707832425833 ae_loss=0\n"
     ]
    },
    {
     "name": "stderr",
     "output_type": "stream",
     "text": [
      " 31%|███▏      | 6300/20009 [36:54<1:27:49,  2.60it/s]"
     ]
    },
    {
     "name": "stdout",
     "output_type": "stream",
     "text": [
      "Step 66291, training: ucc_acc=1.0 weighted_loss=0.00023932120529934764 ucc_loss=0.00023932120529934764 ae_loss=0 eval: ucc_acc=1.0 weighted_loss=0.004580063279718161 ucc_loss=0.004580063279718161 ae_loss=0\n"
     ]
    },
    {
     "name": "stderr",
     "output_type": "stream",
     "text": [
      " 32%|███▏      | 6310/20009 [36:58<1:38:33,  2.32it/s]"
     ]
    },
    {
     "name": "stdout",
     "output_type": "stream",
     "text": [
      "Step 66301, training: ucc_acc=1.0 weighted_loss=0.0011035333154723048 ucc_loss=0.0011035333154723048 ae_loss=0 eval: ucc_acc=1.0 weighted_loss=0.02416156604886055 ucc_loss=0.02416156604886055 ae_loss=0\n"
     ]
    },
    {
     "name": "stderr",
     "output_type": "stream",
     "text": [
      " 32%|███▏      | 6320/20009 [37:01<1:17:38,  2.94it/s]"
     ]
    },
    {
     "name": "stdout",
     "output_type": "stream",
     "text": [
      "Step 66311, training: ucc_acc=1.0 weighted_loss=0.012470894493162632 ucc_loss=0.012470894493162632 ae_loss=0 eval: ucc_acc=1.0 weighted_loss=0.006876565981656313 ucc_loss=0.006876565981656313 ae_loss=0\n"
     ]
    },
    {
     "name": "stderr",
     "output_type": "stream",
     "text": [
      " 32%|███▏      | 6330/20009 [37:04<1:17:46,  2.93it/s]"
     ]
    },
    {
     "name": "stdout",
     "output_type": "stream",
     "text": [
      "Step 66321, training: ucc_acc=1.0 weighted_loss=0.022798633202910423 ucc_loss=0.022798633202910423 ae_loss=0 eval: ucc_acc=1.0 weighted_loss=7.705260213697329e-05 ucc_loss=7.705260213697329e-05 ae_loss=0\n"
     ]
    },
    {
     "name": "stderr",
     "output_type": "stream",
     "text": [
      " 32%|███▏      | 6340/20009 [37:07<1:17:24,  2.94it/s]"
     ]
    },
    {
     "name": "stdout",
     "output_type": "stream",
     "text": [
      "Step 66331, training: ucc_acc=1.0 weighted_loss=0.003505895845592022 ucc_loss=0.003505895845592022 ae_loss=0 eval: ucc_acc=1.0 weighted_loss=0.0007207028684206307 ucc_loss=0.0007207028684206307 ae_loss=0\n"
     ]
    },
    {
     "name": "stderr",
     "output_type": "stream",
     "text": [
      " 32%|███▏      | 6350/20009 [37:10<1:18:42,  2.89it/s]"
     ]
    },
    {
     "name": "stdout",
     "output_type": "stream",
     "text": [
      "Step 66341, training: ucc_acc=1.0 weighted_loss=0.009127839468419552 ucc_loss=0.009127839468419552 ae_loss=0 eval: ucc_acc=1.0 weighted_loss=0.012165147811174393 ucc_loss=0.012165147811174393 ae_loss=0\n"
     ]
    },
    {
     "name": "stderr",
     "output_type": "stream",
     "text": [
      " 32%|███▏      | 6360/20009 [37:13<1:17:46,  2.93it/s]"
     ]
    },
    {
     "name": "stdout",
     "output_type": "stream",
     "text": [
      "Step 66351, training: ucc_acc=1.0 weighted_loss=0.009952311404049397 ucc_loss=0.009952311404049397 ae_loss=0 eval: ucc_acc=1.0 weighted_loss=0.005358908791095018 ucc_loss=0.005358908791095018 ae_loss=0\n"
     ]
    },
    {
     "name": "stderr",
     "output_type": "stream",
     "text": [
      " 32%|███▏      | 6370/20009 [37:17<1:18:07,  2.91it/s]"
     ]
    },
    {
     "name": "stdout",
     "output_type": "stream",
     "text": [
      "Step 66361, training: ucc_acc=1.0 weighted_loss=0.00021060019207652658 ucc_loss=0.00021060019207652658 ae_loss=0 eval: ucc_acc=1.0 weighted_loss=0.014611645601689816 ucc_loss=0.014611645601689816 ae_loss=0\n"
     ]
    },
    {
     "name": "stderr",
     "output_type": "stream",
     "text": [
      " 32%|███▏      | 6380/20009 [37:20<1:18:50,  2.88it/s]"
     ]
    },
    {
     "name": "stdout",
     "output_type": "stream",
     "text": [
      "Step 66371, training: ucc_acc=1.0 weighted_loss=0.007758538704365492 ucc_loss=0.007758538704365492 ae_loss=0 eval: ucc_acc=1.0 weighted_loss=0.011567641980946064 ucc_loss=0.011567641980946064 ae_loss=0\n"
     ]
    },
    {
     "name": "stderr",
     "output_type": "stream",
     "text": [
      " 32%|███▏      | 6390/20009 [37:23<1:17:04,  2.95it/s]"
     ]
    },
    {
     "name": "stdout",
     "output_type": "stream",
     "text": [
      "Step 66381, training: ucc_acc=0.9333333373069763 weighted_loss=0.18394191563129425 ucc_loss=0.18394191563129425 ae_loss=0 eval: ucc_acc=1.0 weighted_loss=0.007654187735170126 ucc_loss=0.007654187735170126 ae_loss=0\n"
     ]
    },
    {
     "name": "stderr",
     "output_type": "stream",
     "text": [
      " 32%|███▏      | 6400/20009 [37:26<1:18:02,  2.91it/s]"
     ]
    },
    {
     "name": "stdout",
     "output_type": "stream",
     "text": [
      "Step 66391, training: ucc_acc=1.0 weighted_loss=0.020917082205414772 ucc_loss=0.020917082205414772 ae_loss=0 eval: ucc_acc=1.0 weighted_loss=0.0006724949344061315 ucc_loss=0.0006724949344061315 ae_loss=0\n"
     ]
    },
    {
     "name": "stderr",
     "output_type": "stream",
     "text": [
      " 32%|███▏      | 6410/20009 [37:29<1:16:01,  2.98it/s]"
     ]
    },
    {
     "name": "stdout",
     "output_type": "stream",
     "text": [
      "Step 66401, training: ucc_acc=1.0 weighted_loss=0.0002607583301141858 ucc_loss=0.0002607583301141858 ae_loss=0 eval: ucc_acc=1.0 weighted_loss=0.01838284730911255 ucc_loss=0.01838284730911255 ae_loss=0\n"
     ]
    },
    {
     "name": "stderr",
     "output_type": "stream",
     "text": [
      " 32%|███▏      | 6420/20009 [37:32<1:16:10,  2.97it/s]"
     ]
    },
    {
     "name": "stdout",
     "output_type": "stream",
     "text": [
      "Step 66411, training: ucc_acc=1.0 weighted_loss=5.641700408887118e-05 ucc_loss=5.641700408887118e-05 ae_loss=0 eval: ucc_acc=1.0 weighted_loss=0.00425958214327693 ucc_loss=0.00425958214327693 ae_loss=0\n"
     ]
    },
    {
     "name": "stderr",
     "output_type": "stream",
     "text": [
      " 32%|███▏      | 6430/20009 [37:35<1:18:07,  2.90it/s]"
     ]
    },
    {
     "name": "stdout",
     "output_type": "stream",
     "text": [
      "Step 66421, training: ucc_acc=1.0 weighted_loss=0.04291364178061485 ucc_loss=0.04291364178061485 ae_loss=0 eval: ucc_acc=1.0 weighted_loss=0.01722661778330803 ucc_loss=0.01722661778330803 ae_loss=0\n"
     ]
    },
    {
     "name": "stderr",
     "output_type": "stream",
     "text": [
      " 32%|███▏      | 6440/20009 [37:38<1:17:12,  2.93it/s]"
     ]
    },
    {
     "name": "stdout",
     "output_type": "stream",
     "text": [
      "Step 66431, training: ucc_acc=1.0 weighted_loss=0.00551596051082015 ucc_loss=0.00551596051082015 ae_loss=0 eval: ucc_acc=1.0 weighted_loss=0.00042764499085024 ucc_loss=0.00042764499085024 ae_loss=0\n"
     ]
    },
    {
     "name": "stderr",
     "output_type": "stream",
     "text": [
      " 32%|███▏      | 6450/20009 [37:41<1:18:05,  2.89it/s]"
     ]
    },
    {
     "name": "stdout",
     "output_type": "stream",
     "text": [
      "Step 66441, training: ucc_acc=1.0 weighted_loss=0.01212515402585268 ucc_loss=0.01212515402585268 ae_loss=0 eval: ucc_acc=1.0 weighted_loss=0.0009375456720590591 ucc_loss=0.0009375456720590591 ae_loss=0\n"
     ]
    },
    {
     "name": "stderr",
     "output_type": "stream",
     "text": [
      " 32%|███▏      | 6460/20009 [37:45<1:15:54,  2.98it/s]"
     ]
    },
    {
     "name": "stdout",
     "output_type": "stream",
     "text": [
      "Step 66451, training: ucc_acc=0.9333333373069763 weighted_loss=0.15506282448768616 ucc_loss=0.15506282448768616 ae_loss=0 eval: ucc_acc=1.0 weighted_loss=0.023866651579737663 ucc_loss=0.023866651579737663 ae_loss=0\n"
     ]
    },
    {
     "name": "stderr",
     "output_type": "stream",
     "text": [
      " 32%|███▏      | 6470/20009 [37:48<1:16:52,  2.94it/s]"
     ]
    },
    {
     "name": "stdout",
     "output_type": "stream",
     "text": [
      "Step 66461, training: ucc_acc=1.0 weighted_loss=0.03372590243816376 ucc_loss=0.03372590243816376 ae_loss=0 eval: ucc_acc=0.8666666746139526 weighted_loss=0.17262764275074005 ucc_loss=0.17262764275074005 ae_loss=0\n"
     ]
    },
    {
     "name": "stderr",
     "output_type": "stream",
     "text": [
      " 32%|███▏      | 6480/20009 [37:51<1:18:18,  2.88it/s]"
     ]
    },
    {
     "name": "stdout",
     "output_type": "stream",
     "text": [
      "Step 66471, training: ucc_acc=1.0 weighted_loss=0.008227149955928326 ucc_loss=0.008227149955928326 ae_loss=0 eval: ucc_acc=1.0 weighted_loss=0.007183238863945007 ucc_loss=0.007183238863945007 ae_loss=0\n"
     ]
    },
    {
     "name": "stderr",
     "output_type": "stream",
     "text": [
      " 32%|███▏      | 6490/20009 [37:54<1:15:17,  2.99it/s]"
     ]
    },
    {
     "name": "stdout",
     "output_type": "stream",
     "text": [
      "Step 66481, training: ucc_acc=1.0 weighted_loss=0.0032905053813010454 ucc_loss=0.0032905053813010454 ae_loss=0 eval: ucc_acc=0.9333333373069763 weighted_loss=0.230064257979393 ucc_loss=0.230064257979393 ae_loss=0\n"
     ]
    },
    {
     "name": "stderr",
     "output_type": "stream",
     "text": [
      " 32%|███▏      | 6500/20009 [37:57<1:15:45,  2.97it/s]"
     ]
    },
    {
     "name": "stdout",
     "output_type": "stream",
     "text": [
      "Step 66491, training: ucc_acc=1.0 weighted_loss=0.005153133533895016 ucc_loss=0.005153133533895016 ae_loss=0 eval: ucc_acc=1.0 weighted_loss=4.635092773241922e-05 ucc_loss=4.635092773241922e-05 ae_loss=0\n"
     ]
    },
    {
     "name": "stderr",
     "output_type": "stream",
     "text": [
      " 33%|███▎      | 6510/20009 [38:00<1:16:42,  2.93it/s]"
     ]
    },
    {
     "name": "stdout",
     "output_type": "stream",
     "text": [
      "Step 66501, training: ucc_acc=1.0 weighted_loss=0.002477646805346012 ucc_loss=0.002477646805346012 ae_loss=0 eval: ucc_acc=1.0 weighted_loss=0.0067384676076471806 ucc_loss=0.0067384676076471806 ae_loss=0\n"
     ]
    },
    {
     "name": "stderr",
     "output_type": "stream",
     "text": [
      " 33%|███▎      | 6520/20009 [38:03<1:17:24,  2.90it/s]"
     ]
    },
    {
     "name": "stdout",
     "output_type": "stream",
     "text": [
      "Step 66511, training: ucc_acc=1.0 weighted_loss=0.011106201447546482 ucc_loss=0.011106201447546482 ae_loss=0 eval: ucc_acc=1.0 weighted_loss=0.00025582214584574103 ucc_loss=0.00025582214584574103 ae_loss=0\n"
     ]
    },
    {
     "name": "stderr",
     "output_type": "stream",
     "text": [
      " 33%|███▎      | 6530/20009 [38:06<1:20:18,  2.80it/s]"
     ]
    },
    {
     "name": "stdout",
     "output_type": "stream",
     "text": [
      "Step 66521, training: ucc_acc=1.0 weighted_loss=0.008798537775874138 ucc_loss=0.008798537775874138 ae_loss=0 eval: ucc_acc=1.0 weighted_loss=0.002191711449995637 ucc_loss=0.002191711449995637 ae_loss=0\n"
     ]
    },
    {
     "name": "stderr",
     "output_type": "stream",
     "text": [
      " 33%|███▎      | 6540/20009 [38:10<1:17:23,  2.90it/s]"
     ]
    },
    {
     "name": "stdout",
     "output_type": "stream",
     "text": [
      "Step 66531, training: ucc_acc=1.0 weighted_loss=0.0035179047845304012 ucc_loss=0.0035179047845304012 ae_loss=0 eval: ucc_acc=1.0 weighted_loss=0.012330856174230576 ucc_loss=0.012330856174230576 ae_loss=0\n"
     ]
    },
    {
     "name": "stderr",
     "output_type": "stream",
     "text": [
      " 33%|███▎      | 6550/20009 [38:13<1:20:14,  2.80it/s]"
     ]
    },
    {
     "name": "stdout",
     "output_type": "stream",
     "text": [
      "Step 66541, training: ucc_acc=1.0 weighted_loss=0.018178468570113182 ucc_loss=0.018178468570113182 ae_loss=0 eval: ucc_acc=1.0 weighted_loss=0.03503512591123581 ucc_loss=0.03503512591123581 ae_loss=0\n"
     ]
    },
    {
     "name": "stderr",
     "output_type": "stream",
     "text": [
      " 33%|███▎      | 6560/20009 [38:16<1:17:09,  2.91it/s]"
     ]
    },
    {
     "name": "stdout",
     "output_type": "stream",
     "text": [
      "Step 66551, training: ucc_acc=1.0 weighted_loss=0.013989778235554695 ucc_loss=0.013989778235554695 ae_loss=0 eval: ucc_acc=1.0 weighted_loss=0.02359115332365036 ucc_loss=0.02359115332365036 ae_loss=0\n"
     ]
    },
    {
     "name": "stderr",
     "output_type": "stream",
     "text": [
      " 33%|███▎      | 6570/20009 [38:19<1:15:37,  2.96it/s]"
     ]
    },
    {
     "name": "stdout",
     "output_type": "stream",
     "text": [
      "Step 66561, training: ucc_acc=1.0 weighted_loss=0.0010555139742791653 ucc_loss=0.0010555139742791653 ae_loss=0 eval: ucc_acc=1.0 weighted_loss=0.00816740095615387 ucc_loss=0.00816740095615387 ae_loss=0\n"
     ]
    },
    {
     "name": "stderr",
     "output_type": "stream",
     "text": [
      " 33%|███▎      | 6580/20009 [38:22<1:16:40,  2.92it/s]"
     ]
    },
    {
     "name": "stdout",
     "output_type": "stream",
     "text": [
      "Step 66571, training: ucc_acc=1.0 weighted_loss=0.007295944727957249 ucc_loss=0.007295944727957249 ae_loss=0 eval: ucc_acc=1.0 weighted_loss=0.006628897972404957 ucc_loss=0.006628897972404957 ae_loss=0\n"
     ]
    },
    {
     "name": "stderr",
     "output_type": "stream",
     "text": [
      " 33%|███▎      | 6590/20009 [38:25<1:14:55,  2.98it/s]"
     ]
    },
    {
     "name": "stdout",
     "output_type": "stream",
     "text": [
      "Step 66581, training: ucc_acc=1.0 weighted_loss=0.006923545617610216 ucc_loss=0.006923545617610216 ae_loss=0 eval: ucc_acc=0.9333333373069763 weighted_loss=0.2908937633037567 ucc_loss=0.2908937633037567 ae_loss=0\n"
     ]
    },
    {
     "name": "stderr",
     "output_type": "stream",
     "text": [
      " 33%|███▎      | 6600/20009 [38:29<1:21:27,  2.74it/s]"
     ]
    },
    {
     "name": "stdout",
     "output_type": "stream",
     "text": [
      "Step 66591, training: ucc_acc=1.0 weighted_loss=0.012292096391320229 ucc_loss=0.012292096391320229 ae_loss=0 eval: ucc_acc=1.0 weighted_loss=0.0005432546604424715 ucc_loss=0.0005432546604424715 ae_loss=0\n"
     ]
    },
    {
     "name": "stderr",
     "output_type": "stream",
     "text": [
      " 33%|███▎      | 6610/20009 [38:32<1:17:15,  2.89it/s]"
     ]
    },
    {
     "name": "stdout",
     "output_type": "stream",
     "text": [
      "Step 66601, training: ucc_acc=1.0 weighted_loss=0.020542068406939507 ucc_loss=0.020542068406939507 ae_loss=0 eval: ucc_acc=1.0 weighted_loss=0.0012663147645071149 ucc_loss=0.0012663147645071149 ae_loss=0\n"
     ]
    },
    {
     "name": "stderr",
     "output_type": "stream",
     "text": [
      " 33%|███▎      | 6620/20009 [38:35<1:27:10,  2.56it/s]"
     ]
    },
    {
     "name": "stdout",
     "output_type": "stream",
     "text": [
      "Step 66611, training: ucc_acc=1.0 weighted_loss=0.05419188737869263 ucc_loss=0.05419188737869263 ae_loss=0 eval: ucc_acc=1.0 weighted_loss=0.012094547972083092 ucc_loss=0.012094547972083092 ae_loss=0\n"
     ]
    },
    {
     "name": "stderr",
     "output_type": "stream",
     "text": [
      " 33%|███▎      | 6630/20009 [38:38<1:15:33,  2.95it/s]"
     ]
    },
    {
     "name": "stdout",
     "output_type": "stream",
     "text": [
      "Step 66621, training: ucc_acc=1.0 weighted_loss=0.017439309507608414 ucc_loss=0.017439309507608414 ae_loss=0 eval: ucc_acc=1.0 weighted_loss=0.014960309490561485 ucc_loss=0.014960309490561485 ae_loss=0\n"
     ]
    },
    {
     "name": "stderr",
     "output_type": "stream",
     "text": [
      " 33%|███▎      | 6640/20009 [38:41<1:15:47,  2.94it/s]"
     ]
    },
    {
     "name": "stdout",
     "output_type": "stream",
     "text": [
      "Step 66631, training: ucc_acc=1.0 weighted_loss=0.003071352606639266 ucc_loss=0.003071352606639266 ae_loss=0 eval: ucc_acc=1.0 weighted_loss=0.008127118460834026 ucc_loss=0.008127118460834026 ae_loss=0\n"
     ]
    },
    {
     "name": "stderr",
     "output_type": "stream",
     "text": [
      " 33%|███▎      | 6650/20009 [38:45<1:16:07,  2.92it/s]"
     ]
    },
    {
     "name": "stdout",
     "output_type": "stream",
     "text": [
      "Step 66641, training: ucc_acc=1.0 weighted_loss=0.0013767312048003078 ucc_loss=0.0013767312048003078 ae_loss=0 eval: ucc_acc=1.0 weighted_loss=0.05765600502490997 ucc_loss=0.05765600502490997 ae_loss=0\n"
     ]
    },
    {
     "name": "stderr",
     "output_type": "stream",
     "text": [
      " 33%|███▎      | 6660/20009 [38:48<1:15:33,  2.94it/s]"
     ]
    },
    {
     "name": "stdout",
     "output_type": "stream",
     "text": [
      "Step 66651, training: ucc_acc=1.0 weighted_loss=0.00024923603632487357 ucc_loss=0.00024923603632487357 ae_loss=0 eval: ucc_acc=1.0 weighted_loss=0.0005753528675995767 ucc_loss=0.0005753528675995767 ae_loss=0\n"
     ]
    },
    {
     "name": "stderr",
     "output_type": "stream",
     "text": [
      " 33%|███▎      | 6670/20009 [38:51<1:15:05,  2.96it/s]"
     ]
    },
    {
     "name": "stdout",
     "output_type": "stream",
     "text": [
      "Step 66661, training: ucc_acc=1.0 weighted_loss=0.00033118532155640423 ucc_loss=0.00033118532155640423 ae_loss=0 eval: ucc_acc=0.9333333373069763 weighted_loss=0.08969435095787048 ucc_loss=0.08969435095787048 ae_loss=0\n"
     ]
    },
    {
     "name": "stderr",
     "output_type": "stream",
     "text": [
      " 33%|███▎      | 6680/20009 [38:54<1:14:10,  2.99it/s]"
     ]
    },
    {
     "name": "stdout",
     "output_type": "stream",
     "text": [
      "Step 66671, training: ucc_acc=1.0 weighted_loss=0.002310069976374507 ucc_loss=0.002310069976374507 ae_loss=0 eval: ucc_acc=0.9333333373069763 weighted_loss=0.23560363054275513 ucc_loss=0.23560363054275513 ae_loss=0\n"
     ]
    },
    {
     "name": "stderr",
     "output_type": "stream",
     "text": [
      " 33%|███▎      | 6690/20009 [38:57<1:15:54,  2.92it/s]"
     ]
    },
    {
     "name": "stdout",
     "output_type": "stream",
     "text": [
      "Step 66681, training: ucc_acc=1.0 weighted_loss=0.017276478931307793 ucc_loss=0.017276478931307793 ae_loss=0 eval: ucc_acc=1.0 weighted_loss=0.008718917146325111 ucc_loss=0.008718917146325111 ae_loss=0\n"
     ]
    },
    {
     "name": "stderr",
     "output_type": "stream",
     "text": [
      " 33%|███▎      | 6700/20009 [39:00<1:15:34,  2.94it/s]"
     ]
    },
    {
     "name": "stdout",
     "output_type": "stream",
     "text": [
      "Step 66691, training: ucc_acc=1.0 weighted_loss=0.014271284453570843 ucc_loss=0.014271284453570843 ae_loss=0 eval: ucc_acc=1.0 weighted_loss=0.014373735524713993 ucc_loss=0.014373735524713993 ae_loss=0\n"
     ]
    },
    {
     "name": "stderr",
     "output_type": "stream",
     "text": [
      " 34%|███▎      | 6710/20009 [39:03<1:15:09,  2.95it/s]"
     ]
    },
    {
     "name": "stdout",
     "output_type": "stream",
     "text": [
      "Step 66701, training: ucc_acc=1.0 weighted_loss=0.00017580909479875118 ucc_loss=0.00017580909479875118 ae_loss=0 eval: ucc_acc=1.0 weighted_loss=0.01579849235713482 ucc_loss=0.01579849235713482 ae_loss=0\n"
     ]
    },
    {
     "name": "stderr",
     "output_type": "stream",
     "text": [
      " 34%|███▎      | 6720/20009 [39:06<1:14:48,  2.96it/s]"
     ]
    },
    {
     "name": "stdout",
     "output_type": "stream",
     "text": [
      "Step 66711, training: ucc_acc=0.9333333373069763 weighted_loss=0.117715023458004 ucc_loss=0.117715023458004 ae_loss=0 eval: ucc_acc=0.9333333373069763 weighted_loss=0.09760551154613495 ucc_loss=0.09760551154613495 ae_loss=0\n"
     ]
    },
    {
     "name": "stderr",
     "output_type": "stream",
     "text": [
      " 34%|███▎      | 6730/20009 [39:09<1:15:44,  2.92it/s]"
     ]
    },
    {
     "name": "stdout",
     "output_type": "stream",
     "text": [
      "Step 66721, training: ucc_acc=1.0 weighted_loss=0.011831800453364849 ucc_loss=0.011831800453364849 ae_loss=0 eval: ucc_acc=1.0 weighted_loss=0.011023237369954586 ucc_loss=0.011023237369954586 ae_loss=0\n"
     ]
    },
    {
     "name": "stderr",
     "output_type": "stream",
     "text": [
      " 34%|███▎      | 6740/20009 [39:12<1:17:17,  2.86it/s]"
     ]
    },
    {
     "name": "stdout",
     "output_type": "stream",
     "text": [
      "Step 66731, training: ucc_acc=0.9333333373069763 weighted_loss=0.07641246914863586 ucc_loss=0.07641246914863586 ae_loss=0 eval: ucc_acc=1.0 weighted_loss=0.002834745915606618 ucc_loss=0.002834745915606618 ae_loss=0\n"
     ]
    },
    {
     "name": "stderr",
     "output_type": "stream",
     "text": [
      " 34%|███▎      | 6750/20009 [39:16<1:14:44,  2.96it/s]"
     ]
    },
    {
     "name": "stdout",
     "output_type": "stream",
     "text": [
      "Step 66741, training: ucc_acc=1.0 weighted_loss=0.006637020036578178 ucc_loss=0.006637020036578178 ae_loss=0 eval: ucc_acc=1.0 weighted_loss=0.0371636264026165 ucc_loss=0.0371636264026165 ae_loss=0\n"
     ]
    },
    {
     "name": "stderr",
     "output_type": "stream",
     "text": [
      " 34%|███▍      | 6760/20009 [39:19<1:16:40,  2.88it/s]"
     ]
    },
    {
     "name": "stdout",
     "output_type": "stream",
     "text": [
      "Step 66751, training: ucc_acc=0.9333333373069763 weighted_loss=0.10001138597726822 ucc_loss=0.10001138597726822 ae_loss=0 eval: ucc_acc=1.0 weighted_loss=0.03546322137117386 ucc_loss=0.03546322137117386 ae_loss=0\n"
     ]
    },
    {
     "name": "stderr",
     "output_type": "stream",
     "text": [
      " 34%|███▍      | 6770/20009 [39:22<1:16:42,  2.88it/s]"
     ]
    },
    {
     "name": "stdout",
     "output_type": "stream",
     "text": [
      "Step 66761, training: ucc_acc=1.0 weighted_loss=0.005804064217954874 ucc_loss=0.005804064217954874 ae_loss=0 eval: ucc_acc=1.0 weighted_loss=0.013570088893175125 ucc_loss=0.013570088893175125 ae_loss=0\n"
     ]
    },
    {
     "name": "stderr",
     "output_type": "stream",
     "text": [
      " 34%|███▍      | 6780/20009 [39:25<1:15:31,  2.92it/s]"
     ]
    },
    {
     "name": "stdout",
     "output_type": "stream",
     "text": [
      "Step 66771, training: ucc_acc=1.0 weighted_loss=8.072673517744988e-05 ucc_loss=8.072673517744988e-05 ae_loss=0 eval: ucc_acc=1.0 weighted_loss=0.00017905072309076786 ucc_loss=0.00017905072309076786 ae_loss=0\n"
     ]
    },
    {
     "name": "stderr",
     "output_type": "stream",
     "text": [
      " 34%|███▍      | 6790/20009 [39:28<1:13:52,  2.98it/s]"
     ]
    },
    {
     "name": "stdout",
     "output_type": "stream",
     "text": [
      "Step 66781, training: ucc_acc=1.0 weighted_loss=0.023849274963140488 ucc_loss=0.023849274963140488 ae_loss=0 eval: ucc_acc=0.9333333373069763 weighted_loss=0.19621038436889648 ucc_loss=0.19621038436889648 ae_loss=0\n"
     ]
    },
    {
     "name": "stderr",
     "output_type": "stream",
     "text": [
      " 34%|███▍      | 6800/20009 [39:31<1:15:11,  2.93it/s]"
     ]
    },
    {
     "name": "stdout",
     "output_type": "stream",
     "text": [
      "Step 66791, training: ucc_acc=1.0 weighted_loss=0.0008608003845438361 ucc_loss=0.0008608003845438361 ae_loss=0 eval: ucc_acc=1.0 weighted_loss=0.0027698324993252754 ucc_loss=0.0027698324993252754 ae_loss=0\n"
     ]
    },
    {
     "name": "stderr",
     "output_type": "stream",
     "text": [
      " 34%|███▍      | 6810/20009 [39:34<1:16:01,  2.89it/s]"
     ]
    },
    {
     "name": "stdout",
     "output_type": "stream",
     "text": [
      "Step 66801, training: ucc_acc=1.0 weighted_loss=0.024337710812687874 ucc_loss=0.024337710812687874 ae_loss=0 eval: ucc_acc=1.0 weighted_loss=0.017502490431070328 ucc_loss=0.017502490431070328 ae_loss=0\n"
     ]
    },
    {
     "name": "stderr",
     "output_type": "stream",
     "text": [
      " 34%|███▍      | 6820/20009 [39:37<1:15:12,  2.92it/s]"
     ]
    },
    {
     "name": "stdout",
     "output_type": "stream",
     "text": [
      "Step 66811, training: ucc_acc=0.9333333373069763 weighted_loss=0.120583675801754 ucc_loss=0.120583675801754 ae_loss=0 eval: ucc_acc=1.0 weighted_loss=0.013913525268435478 ucc_loss=0.013913525268435478 ae_loss=0\n"
     ]
    },
    {
     "name": "stderr",
     "output_type": "stream",
     "text": [
      " 34%|███▍      | 6830/20009 [39:41<1:15:59,  2.89it/s]"
     ]
    },
    {
     "name": "stdout",
     "output_type": "stream",
     "text": [
      "Step 66821, training: ucc_acc=1.0 weighted_loss=0.0004971471498720348 ucc_loss=0.0004971471498720348 ae_loss=0 eval: ucc_acc=1.0 weighted_loss=0.009659814648330212 ucc_loss=0.009659814648330212 ae_loss=0\n"
     ]
    },
    {
     "name": "stderr",
     "output_type": "stream",
     "text": [
      " 34%|███▍      | 6840/20009 [39:44<1:13:56,  2.97it/s]"
     ]
    },
    {
     "name": "stdout",
     "output_type": "stream",
     "text": [
      "Step 66831, training: ucc_acc=1.0 weighted_loss=0.051115136593580246 ucc_loss=0.051115136593580246 ae_loss=0 eval: ucc_acc=1.0 weighted_loss=0.02159246802330017 ucc_loss=0.02159246802330017 ae_loss=0\n"
     ]
    },
    {
     "name": "stderr",
     "output_type": "stream",
     "text": [
      " 34%|███▍      | 6850/20009 [39:47<1:16:53,  2.85it/s]"
     ]
    },
    {
     "name": "stdout",
     "output_type": "stream",
     "text": [
      "Step 66841, training: ucc_acc=1.0 weighted_loss=0.004867057781666517 ucc_loss=0.004867057781666517 ae_loss=0 eval: ucc_acc=1.0 weighted_loss=0.002044074237346649 ucc_loss=0.002044074237346649 ae_loss=0\n"
     ]
    },
    {
     "name": "stderr",
     "output_type": "stream",
     "text": [
      " 34%|███▍      | 6860/20009 [39:50<1:15:12,  2.91it/s]"
     ]
    },
    {
     "name": "stdout",
     "output_type": "stream",
     "text": [
      "Step 66851, training: ucc_acc=1.0 weighted_loss=0.0021709364373236895 ucc_loss=0.0021709364373236895 ae_loss=0 eval: ucc_acc=1.0 weighted_loss=0.038815755397081375 ucc_loss=0.038815755397081375 ae_loss=0\n"
     ]
    },
    {
     "name": "stderr",
     "output_type": "stream",
     "text": [
      " 34%|███▍      | 6870/20009 [39:53<1:14:30,  2.94it/s]"
     ]
    },
    {
     "name": "stdout",
     "output_type": "stream",
     "text": [
      "Step 66861, training: ucc_acc=0.9333333373069763 weighted_loss=0.1593964546918869 ucc_loss=0.1593964546918869 ae_loss=0 eval: ucc_acc=1.0 weighted_loss=0.00819997489452362 ucc_loss=0.00819997489452362 ae_loss=0\n"
     ]
    },
    {
     "name": "stderr",
     "output_type": "stream",
     "text": [
      " 34%|███▍      | 6880/20009 [39:56<1:15:51,  2.88it/s]"
     ]
    },
    {
     "name": "stdout",
     "output_type": "stream",
     "text": [
      "Step 66871, training: ucc_acc=1.0 weighted_loss=0.020947035402059555 ucc_loss=0.020947035402059555 ae_loss=0 eval: ucc_acc=1.0 weighted_loss=0.014863970689475536 ucc_loss=0.014863970689475536 ae_loss=0\n"
     ]
    },
    {
     "name": "stderr",
     "output_type": "stream",
     "text": [
      " 34%|███▍      | 6890/20009 [39:59<1:14:54,  2.92it/s]"
     ]
    },
    {
     "name": "stdout",
     "output_type": "stream",
     "text": [
      "Step 66881, training: ucc_acc=1.0 weighted_loss=0.004049763549119234 ucc_loss=0.004049763549119234 ae_loss=0 eval: ucc_acc=1.0 weighted_loss=0.009119298309087753 ucc_loss=0.009119298309087753 ae_loss=0\n"
     ]
    },
    {
     "name": "stderr",
     "output_type": "stream",
     "text": [
      " 34%|███▍      | 6900/20009 [40:03<1:23:28,  2.62it/s]"
     ]
    },
    {
     "name": "stdout",
     "output_type": "stream",
     "text": [
      "Step 66891, training: ucc_acc=1.0 weighted_loss=0.004658916499465704 ucc_loss=0.004658916499465704 ae_loss=0 eval: ucc_acc=1.0 weighted_loss=0.0025104933883994818 ucc_loss=0.0025104933883994818 ae_loss=0\n"
     ]
    },
    {
     "name": "stderr",
     "output_type": "stream",
     "text": [
      " 35%|███▍      | 6910/20009 [40:06<1:14:36,  2.93it/s]"
     ]
    },
    {
     "name": "stdout",
     "output_type": "stream",
     "text": [
      "Step 66901, training: ucc_acc=1.0 weighted_loss=0.012448428198695183 ucc_loss=0.012448428198695183 ae_loss=0 eval: ucc_acc=1.0 weighted_loss=0.008963762782514095 ucc_loss=0.008963762782514095 ae_loss=0\n"
     ]
    },
    {
     "name": "stderr",
     "output_type": "stream",
     "text": [
      " 35%|███▍      | 6920/20009 [40:09<1:23:40,  2.61it/s]"
     ]
    },
    {
     "name": "stdout",
     "output_type": "stream",
     "text": [
      "Step 66911, training: ucc_acc=1.0 weighted_loss=0.015727054327726364 ucc_loss=0.015727054327726364 ae_loss=0 eval: ucc_acc=1.0 weighted_loss=0.03594740852713585 ucc_loss=0.03594740852713585 ae_loss=0\n"
     ]
    },
    {
     "name": "stderr",
     "output_type": "stream",
     "text": [
      " 35%|███▍      | 6930/20009 [40:12<1:12:48,  2.99it/s]"
     ]
    },
    {
     "name": "stdout",
     "output_type": "stream",
     "text": [
      "Step 66921, training: ucc_acc=1.0 weighted_loss=0.009428237564861774 ucc_loss=0.009428237564861774 ae_loss=0 eval: ucc_acc=0.9333333373069763 weighted_loss=0.09697380661964417 ucc_loss=0.09697380661964417 ae_loss=0\n"
     ]
    },
    {
     "name": "stderr",
     "output_type": "stream",
     "text": [
      " 35%|███▍      | 6940/20009 [40:15<1:12:38,  3.00it/s]"
     ]
    },
    {
     "name": "stdout",
     "output_type": "stream",
     "text": [
      "Step 66931, training: ucc_acc=1.0 weighted_loss=0.005993977654725313 ucc_loss=0.005993977654725313 ae_loss=0 eval: ucc_acc=1.0 weighted_loss=0.005539258476346731 ucc_loss=0.005539258476346731 ae_loss=0\n"
     ]
    },
    {
     "name": "stderr",
     "output_type": "stream",
     "text": [
      " 35%|███▍      | 6950/20009 [40:18<1:12:12,  3.01it/s]"
     ]
    },
    {
     "name": "stdout",
     "output_type": "stream",
     "text": [
      "Step 66941, training: ucc_acc=1.0 weighted_loss=0.00637090066447854 ucc_loss=0.00637090066447854 ae_loss=0 eval: ucc_acc=0.9333333373069763 weighted_loss=0.17565898597240448 ucc_loss=0.17565898597240448 ae_loss=0\n"
     ]
    },
    {
     "name": "stderr",
     "output_type": "stream",
     "text": [
      " 35%|███▍      | 6960/20009 [40:21<1:13:23,  2.96it/s]"
     ]
    },
    {
     "name": "stdout",
     "output_type": "stream",
     "text": [
      "Step 66951, training: ucc_acc=1.0 weighted_loss=0.014883521944284439 ucc_loss=0.014883521944284439 ae_loss=0 eval: ucc_acc=1.0 weighted_loss=0.03272333741188049 ucc_loss=0.03272333741188049 ae_loss=0\n"
     ]
    },
    {
     "name": "stderr",
     "output_type": "stream",
     "text": [
      " 35%|███▍      | 6970/20009 [40:25<1:14:03,  2.93it/s]"
     ]
    },
    {
     "name": "stdout",
     "output_type": "stream",
     "text": [
      "Step 66961, training: ucc_acc=1.0 weighted_loss=0.0004191237676423043 ucc_loss=0.0004191237676423043 ae_loss=0 eval: ucc_acc=1.0 weighted_loss=0.0015522713074460626 ucc_loss=0.0015522713074460626 ae_loss=0\n"
     ]
    },
    {
     "name": "stderr",
     "output_type": "stream",
     "text": [
      " 35%|███▍      | 6980/20009 [40:28<1:13:48,  2.94it/s]"
     ]
    },
    {
     "name": "stdout",
     "output_type": "stream",
     "text": [
      "Step 66971, training: ucc_acc=1.0 weighted_loss=0.016947971656918526 ucc_loss=0.016947971656918526 ae_loss=0 eval: ucc_acc=1.0 weighted_loss=0.002929753391072154 ucc_loss=0.002929753391072154 ae_loss=0\n"
     ]
    },
    {
     "name": "stderr",
     "output_type": "stream",
     "text": [
      " 35%|███▍      | 6990/20009 [40:31<1:14:29,  2.91it/s]"
     ]
    },
    {
     "name": "stdout",
     "output_type": "stream",
     "text": [
      "Step 66981, training: ucc_acc=1.0 weighted_loss=0.004680032841861248 ucc_loss=0.004680032841861248 ae_loss=0 eval: ucc_acc=1.0 weighted_loss=0.01599583588540554 ucc_loss=0.01599583588540554 ae_loss=0\n"
     ]
    },
    {
     "name": "stderr",
     "output_type": "stream",
     "text": [
      " 35%|███▍      | 7000/20009 [40:34<1:16:22,  2.84it/s]"
     ]
    },
    {
     "name": "stdout",
     "output_type": "stream",
     "text": [
      "Step 66991, training: ucc_acc=1.0 weighted_loss=0.0033445002045482397 ucc_loss=0.0033445002045482397 ae_loss=0 eval: ucc_acc=1.0 weighted_loss=0.012606284581124783 ucc_loss=0.012606284581124783 ae_loss=0\n"
     ]
    },
    {
     "name": "stderr",
     "output_type": "stream",
     "text": [
      " 35%|███▌      | 7010/20009 [40:37<1:13:43,  2.94it/s]"
     ]
    },
    {
     "name": "stdout",
     "output_type": "stream",
     "text": [
      "Step 67001, training: ucc_acc=1.0 weighted_loss=0.008385461755096912 ucc_loss=0.008385461755096912 ae_loss=0 eval: ucc_acc=1.0 weighted_loss=0.006447393912822008 ucc_loss=0.006447393912822008 ae_loss=0\n"
     ]
    },
    {
     "name": "stderr",
     "output_type": "stream",
     "text": [
      " 35%|███▌      | 7020/20009 [40:40<1:13:38,  2.94it/s]"
     ]
    },
    {
     "name": "stdout",
     "output_type": "stream",
     "text": [
      "Step 67011, training: ucc_acc=1.0 weighted_loss=0.034253206104040146 ucc_loss=0.034253206104040146 ae_loss=0 eval: ucc_acc=1.0 weighted_loss=0.004291431978344917 ucc_loss=0.004291431978344917 ae_loss=0\n"
     ]
    },
    {
     "name": "stderr",
     "output_type": "stream",
     "text": [
      " 35%|███▌      | 7030/20009 [40:43<1:13:30,  2.94it/s]"
     ]
    },
    {
     "name": "stdout",
     "output_type": "stream",
     "text": [
      "Step 67021, training: ucc_acc=1.0 weighted_loss=0.014194472692906857 ucc_loss=0.014194472692906857 ae_loss=0 eval: ucc_acc=1.0 weighted_loss=0.0011914722854271531 ucc_loss=0.0011914722854271531 ae_loss=0\n"
     ]
    },
    {
     "name": "stderr",
     "output_type": "stream",
     "text": [
      " 35%|███▌      | 7040/20009 [40:46<1:13:16,  2.95it/s]"
     ]
    },
    {
     "name": "stdout",
     "output_type": "stream",
     "text": [
      "Step 67031, training: ucc_acc=1.0 weighted_loss=0.003815494477748871 ucc_loss=0.003815494477748871 ae_loss=0 eval: ucc_acc=1.0 weighted_loss=0.024527309462428093 ucc_loss=0.024527309462428093 ae_loss=0\n"
     ]
    },
    {
     "name": "stderr",
     "output_type": "stream",
     "text": [
      " 35%|███▌      | 7050/20009 [40:49<1:11:53,  3.00it/s]"
     ]
    },
    {
     "name": "stdout",
     "output_type": "stream",
     "text": [
      "Step 67041, training: ucc_acc=1.0 weighted_loss=7.761392771499231e-05 ucc_loss=7.761392771499231e-05 ae_loss=0 eval: ucc_acc=1.0 weighted_loss=0.0002481398987583816 ucc_loss=0.0002481398987583816 ae_loss=0\n"
     ]
    },
    {
     "name": "stderr",
     "output_type": "stream",
     "text": [
      " 35%|███▌      | 7060/20009 [40:52<1:10:55,  3.04it/s]"
     ]
    },
    {
     "name": "stdout",
     "output_type": "stream",
     "text": [
      "Step 67051, training: ucc_acc=1.0 weighted_loss=0.00016966521798167378 ucc_loss=0.00016966521798167378 ae_loss=0 eval: ucc_acc=0.9333333373069763 weighted_loss=0.15810047090053558 ucc_loss=0.15810047090053558 ae_loss=0\n"
     ]
    },
    {
     "name": "stderr",
     "output_type": "stream",
     "text": [
      " 35%|███▌      | 7070/20009 [40:55<1:14:16,  2.90it/s]"
     ]
    },
    {
     "name": "stdout",
     "output_type": "stream",
     "text": [
      "Step 67061, training: ucc_acc=0.9333333373069763 weighted_loss=0.21444740891456604 ucc_loss=0.21444740891456604 ae_loss=0 eval: ucc_acc=1.0 weighted_loss=0.0004829349054489285 ucc_loss=0.0004829349054489285 ae_loss=0\n"
     ]
    },
    {
     "name": "stderr",
     "output_type": "stream",
     "text": [
      " 35%|███▌      | 7080/20009 [40:59<1:13:48,  2.92it/s]"
     ]
    },
    {
     "name": "stdout",
     "output_type": "stream",
     "text": [
      "Step 67071, training: ucc_acc=1.0 weighted_loss=0.012314120307564735 ucc_loss=0.012314120307564735 ae_loss=0 eval: ucc_acc=1.0 weighted_loss=0.011106339283287525 ucc_loss=0.011106339283287525 ae_loss=0\n"
     ]
    },
    {
     "name": "stderr",
     "output_type": "stream",
     "text": [
      " 35%|███▌      | 7090/20009 [41:02<1:13:48,  2.92it/s]"
     ]
    },
    {
     "name": "stdout",
     "output_type": "stream",
     "text": [
      "Step 67081, training: ucc_acc=1.0 weighted_loss=0.006941760890185833 ucc_loss=0.006941760890185833 ae_loss=0 eval: ucc_acc=1.0 weighted_loss=0.007619185373187065 ucc_loss=0.007619185373187065 ae_loss=0\n"
     ]
    },
    {
     "name": "stderr",
     "output_type": "stream",
     "text": [
      " 35%|███▌      | 7100/20009 [41:05<1:11:11,  3.02it/s]"
     ]
    },
    {
     "name": "stdout",
     "output_type": "stream",
     "text": [
      "Step 67091, training: ucc_acc=0.9333333373069763 weighted_loss=0.1958102285861969 ucc_loss=0.1958102285861969 ae_loss=0 eval: ucc_acc=0.9333333373069763 weighted_loss=0.16421572864055634 ucc_loss=0.16421572864055634 ae_loss=0\n"
     ]
    },
    {
     "name": "stderr",
     "output_type": "stream",
     "text": [
      " 36%|███▌      | 7110/20009 [41:08<1:16:09,  2.82it/s]"
     ]
    },
    {
     "name": "stdout",
     "output_type": "stream",
     "text": [
      "Step 67101, training: ucc_acc=0.9333333373069763 weighted_loss=0.15953221917152405 ucc_loss=0.15953221917152405 ae_loss=0 eval: ucc_acc=1.0 weighted_loss=0.031590208411216736 ucc_loss=0.031590208411216736 ae_loss=0\n"
     ]
    },
    {
     "name": "stderr",
     "output_type": "stream",
     "text": [
      " 36%|███▌      | 7120/20009 [41:11<1:13:07,  2.94it/s]"
     ]
    },
    {
     "name": "stdout",
     "output_type": "stream",
     "text": [
      "Step 67111, training: ucc_acc=1.0 weighted_loss=0.014104248955845833 ucc_loss=0.014104248955845833 ae_loss=0 eval: ucc_acc=1.0 weighted_loss=0.02235412783920765 ucc_loss=0.02235412783920765 ae_loss=0\n"
     ]
    },
    {
     "name": "stderr",
     "output_type": "stream",
     "text": [
      " 36%|███▌      | 7130/20009 [41:14<1:12:28,  2.96it/s]"
     ]
    },
    {
     "name": "stdout",
     "output_type": "stream",
     "text": [
      "Step 67121, training: ucc_acc=1.0 weighted_loss=0.00852965284138918 ucc_loss=0.00852965284138918 ae_loss=0 eval: ucc_acc=1.0 weighted_loss=0.005858339369297028 ucc_loss=0.005858339369297028 ae_loss=0\n"
     ]
    },
    {
     "name": "stderr",
     "output_type": "stream",
     "text": [
      " 36%|███▌      | 7140/20009 [41:17<1:13:55,  2.90it/s]"
     ]
    },
    {
     "name": "stdout",
     "output_type": "stream",
     "text": [
      "Step 67131, training: ucc_acc=1.0 weighted_loss=0.011516856029629707 ucc_loss=0.011516856029629707 ae_loss=0 eval: ucc_acc=1.0 weighted_loss=0.008662964217364788 ucc_loss=0.008662964217364788 ae_loss=0\n"
     ]
    },
    {
     "name": "stderr",
     "output_type": "stream",
     "text": [
      " 36%|███▌      | 7150/20009 [41:20<1:12:08,  2.97it/s]"
     ]
    },
    {
     "name": "stdout",
     "output_type": "stream",
     "text": [
      "Step 67141, training: ucc_acc=1.0 weighted_loss=0.03880493342876434 ucc_loss=0.03880493342876434 ae_loss=0 eval: ucc_acc=1.0 weighted_loss=0.011598228476941586 ucc_loss=0.011598228476941586 ae_loss=0\n"
     ]
    },
    {
     "name": "stderr",
     "output_type": "stream",
     "text": [
      " 36%|███▌      | 7160/20009 [41:24<1:15:43,  2.83it/s]"
     ]
    },
    {
     "name": "stdout",
     "output_type": "stream",
     "text": [
      "Step 67151, training: ucc_acc=1.0 weighted_loss=0.031001107767224312 ucc_loss=0.031001107767224312 ae_loss=0 eval: ucc_acc=1.0 weighted_loss=0.0006145925144664943 ucc_loss=0.0006145925144664943 ae_loss=0\n"
     ]
    },
    {
     "name": "stderr",
     "output_type": "stream",
     "text": [
      " 36%|███▌      | 7170/20009 [41:27<1:13:07,  2.93it/s]"
     ]
    },
    {
     "name": "stdout",
     "output_type": "stream",
     "text": [
      "Step 67161, training: ucc_acc=1.0 weighted_loss=0.0077460999600589275 ucc_loss=0.0077460999600589275 ae_loss=0 eval: ucc_acc=1.0 weighted_loss=0.0013827603543177247 ucc_loss=0.0013827603543177247 ae_loss=0\n"
     ]
    },
    {
     "name": "stderr",
     "output_type": "stream",
     "text": [
      " 36%|███▌      | 7180/20009 [41:30<1:13:10,  2.92it/s]"
     ]
    },
    {
     "name": "stdout",
     "output_type": "stream",
     "text": [
      "Step 67171, training: ucc_acc=1.0 weighted_loss=0.016861407086253166 ucc_loss=0.016861407086253166 ae_loss=0 eval: ucc_acc=1.0 weighted_loss=0.020650247111916542 ucc_loss=0.020650247111916542 ae_loss=0\n"
     ]
    },
    {
     "name": "stderr",
     "output_type": "stream",
     "text": [
      " 36%|███▌      | 7190/20009 [41:33<1:11:45,  2.98it/s]"
     ]
    },
    {
     "name": "stdout",
     "output_type": "stream",
     "text": [
      "Step 67181, training: ucc_acc=1.0 weighted_loss=0.027708077803254128 ucc_loss=0.027708077803254128 ae_loss=0 eval: ucc_acc=1.0 weighted_loss=0.00877347867935896 ucc_loss=0.00877347867935896 ae_loss=0\n"
     ]
    },
    {
     "name": "stderr",
     "output_type": "stream",
     "text": [
      " 36%|███▌      | 7200/20009 [41:36<1:10:53,  3.01it/s]"
     ]
    },
    {
     "name": "stdout",
     "output_type": "stream",
     "text": [
      "Step 67191, training: ucc_acc=1.0 weighted_loss=0.00010358727013226599 ucc_loss=0.00010358727013226599 ae_loss=0 eval: ucc_acc=0.9333333373069763 weighted_loss=0.2055240422487259 ucc_loss=0.2055240422487259 ae_loss=0\n"
     ]
    },
    {
     "name": "stderr",
     "output_type": "stream",
     "text": [
      " 36%|███▌      | 7210/20009 [41:39<1:14:03,  2.88it/s]"
     ]
    },
    {
     "name": "stdout",
     "output_type": "stream",
     "text": [
      "Step 67201, training: ucc_acc=1.0 weighted_loss=0.006332862190902233 ucc_loss=0.006332862190902233 ae_loss=0 eval: ucc_acc=1.0 weighted_loss=0.0059381891041994095 ucc_loss=0.0059381891041994095 ae_loss=0\n"
     ]
    },
    {
     "name": "stderr",
     "output_type": "stream",
     "text": [
      " 36%|███▌      | 7220/20009 [41:42<1:19:58,  2.67it/s]"
     ]
    },
    {
     "name": "stdout",
     "output_type": "stream",
     "text": [
      "Step 67211, training: ucc_acc=1.0 weighted_loss=0.005325618665665388 ucc_loss=0.005325618665665388 ae_loss=0 eval: ucc_acc=1.0 weighted_loss=0.019940383732318878 ucc_loss=0.019940383732318878 ae_loss=0\n"
     ]
    },
    {
     "name": "stderr",
     "output_type": "stream",
     "text": [
      " 36%|███▌      | 7230/20009 [41:45<1:15:44,  2.81it/s]"
     ]
    },
    {
     "name": "stdout",
     "output_type": "stream",
     "text": [
      "Step 67221, training: ucc_acc=1.0 weighted_loss=0.005286556668579578 ucc_loss=0.005286556668579578 ae_loss=0 eval: ucc_acc=1.0 weighted_loss=0.002903951797634363 ucc_loss=0.002903951797634363 ae_loss=0\n"
     ]
    },
    {
     "name": "stderr",
     "output_type": "stream",
     "text": [
      " 36%|███▌      | 7240/20009 [41:49<1:12:57,  2.92it/s]"
     ]
    },
    {
     "name": "stdout",
     "output_type": "stream",
     "text": [
      "Step 67231, training: ucc_acc=1.0 weighted_loss=0.017258018255233765 ucc_loss=0.017258018255233765 ae_loss=0 eval: ucc_acc=1.0 weighted_loss=0.01779007539153099 ucc_loss=0.01779007539153099 ae_loss=0\n"
     ]
    },
    {
     "name": "stderr",
     "output_type": "stream",
     "text": [
      " 36%|███▌      | 7250/20009 [41:52<1:14:46,  2.84it/s]"
     ]
    },
    {
     "name": "stdout",
     "output_type": "stream",
     "text": [
      "Step 67241, training: ucc_acc=1.0 weighted_loss=0.008330391719937325 ucc_loss=0.008330391719937325 ae_loss=0 eval: ucc_acc=1.0 weighted_loss=0.027195990085601807 ucc_loss=0.027195990085601807 ae_loss=0\n"
     ]
    },
    {
     "name": "stderr",
     "output_type": "stream",
     "text": [
      " 36%|███▋      | 7260/20009 [41:55<1:14:33,  2.85it/s]"
     ]
    },
    {
     "name": "stdout",
     "output_type": "stream",
     "text": [
      "Step 67251, training: ucc_acc=1.0 weighted_loss=0.01187256257981062 ucc_loss=0.01187256257981062 ae_loss=0 eval: ucc_acc=1.0 weighted_loss=0.013968692161142826 ucc_loss=0.013968692161142826 ae_loss=0\n"
     ]
    },
    {
     "name": "stderr",
     "output_type": "stream",
     "text": [
      " 36%|███▋      | 7270/20009 [41:58<1:12:43,  2.92it/s]"
     ]
    },
    {
     "name": "stdout",
     "output_type": "stream",
     "text": [
      "Step 67261, training: ucc_acc=1.0 weighted_loss=0.00902488175779581 ucc_loss=0.00902488175779581 ae_loss=0 eval: ucc_acc=1.0 weighted_loss=0.0013881034683436155 ucc_loss=0.0013881034683436155 ae_loss=0\n"
     ]
    },
    {
     "name": "stderr",
     "output_type": "stream",
     "text": [
      " 36%|███▋      | 7280/20009 [42:01<1:14:20,  2.85it/s]"
     ]
    },
    {
     "name": "stdout",
     "output_type": "stream",
     "text": [
      "Step 67271, training: ucc_acc=1.0 weighted_loss=0.015383287332952023 ucc_loss=0.015383287332952023 ae_loss=0 eval: ucc_acc=1.0 weighted_loss=0.0041952356696128845 ucc_loss=0.0041952356696128845 ae_loss=0\n"
     ]
    },
    {
     "name": "stderr",
     "output_type": "stream",
     "text": [
      " 36%|███▋      | 7290/20009 [42:04<1:11:41,  2.96it/s]"
     ]
    },
    {
     "name": "stdout",
     "output_type": "stream",
     "text": [
      "Step 67281, training: ucc_acc=1.0 weighted_loss=0.008479725569486618 ucc_loss=0.008479725569486618 ae_loss=0 eval: ucc_acc=1.0 weighted_loss=0.011821174062788486 ucc_loss=0.011821174062788486 ae_loss=0\n"
     ]
    },
    {
     "name": "stderr",
     "output_type": "stream",
     "text": [
      " 36%|███▋      | 7300/20009 [42:07<1:13:17,  2.89it/s]"
     ]
    },
    {
     "name": "stdout",
     "output_type": "stream",
     "text": [
      "Step 67291, training: ucc_acc=1.0 weighted_loss=0.007724186405539513 ucc_loss=0.007724186405539513 ae_loss=0 eval: ucc_acc=1.0 weighted_loss=0.0011159229325130582 ucc_loss=0.0011159229325130582 ae_loss=0\n"
     ]
    },
    {
     "name": "stderr",
     "output_type": "stream",
     "text": [
      " 37%|███▋      | 7310/20009 [42:10<1:12:07,  2.93it/s]"
     ]
    },
    {
     "name": "stdout",
     "output_type": "stream",
     "text": [
      "Step 67301, training: ucc_acc=1.0 weighted_loss=0.001274977927096188 ucc_loss=0.001274977927096188 ae_loss=0 eval: ucc_acc=1.0 weighted_loss=0.039185550063848495 ucc_loss=0.039185550063848495 ae_loss=0\n"
     ]
    },
    {
     "name": "stderr",
     "output_type": "stream",
     "text": [
      " 37%|███▋      | 7320/20009 [42:14<1:12:47,  2.91it/s]"
     ]
    },
    {
     "name": "stdout",
     "output_type": "stream",
     "text": [
      "Step 67311, training: ucc_acc=1.0 weighted_loss=0.0056794374249875546 ucc_loss=0.0056794374249875546 ae_loss=0 eval: ucc_acc=1.0 weighted_loss=0.018664086237549782 ucc_loss=0.018664086237549782 ae_loss=0\n"
     ]
    },
    {
     "name": "stderr",
     "output_type": "stream",
     "text": [
      " 37%|███▋      | 7330/20009 [42:17<1:12:28,  2.92it/s]"
     ]
    },
    {
     "name": "stdout",
     "output_type": "stream",
     "text": [
      "Step 67321, training: ucc_acc=1.0 weighted_loss=0.012096856720745564 ucc_loss=0.012096856720745564 ae_loss=0 eval: ucc_acc=1.0 weighted_loss=0.009804944507777691 ucc_loss=0.009804944507777691 ae_loss=0\n"
     ]
    },
    {
     "name": "stderr",
     "output_type": "stream",
     "text": [
      " 37%|███▋      | 7340/20009 [42:20<1:11:56,  2.93it/s]"
     ]
    },
    {
     "name": "stdout",
     "output_type": "stream",
     "text": [
      "Step 67331, training: ucc_acc=1.0 weighted_loss=0.0005357851623557508 ucc_loss=0.0005357851623557508 ae_loss=0 eval: ucc_acc=1.0 weighted_loss=0.011488224379718304 ucc_loss=0.011488224379718304 ae_loss=0\n"
     ]
    },
    {
     "name": "stderr",
     "output_type": "stream",
     "text": [
      " 37%|███▋      | 7350/20009 [42:23<1:11:16,  2.96it/s]"
     ]
    },
    {
     "name": "stdout",
     "output_type": "stream",
     "text": [
      "Step 67341, training: ucc_acc=1.0 weighted_loss=0.03291560336947441 ucc_loss=0.03291560336947441 ae_loss=0 eval: ucc_acc=1.0 weighted_loss=0.008618791587650776 ucc_loss=0.008618791587650776 ae_loss=0\n"
     ]
    },
    {
     "name": "stderr",
     "output_type": "stream",
     "text": [
      " 37%|███▋      | 7360/20009 [42:26<1:11:39,  2.94it/s]"
     ]
    },
    {
     "name": "stdout",
     "output_type": "stream",
     "text": [
      "Step 67351, training: ucc_acc=1.0 weighted_loss=0.013136113062500954 ucc_loss=0.013136113062500954 ae_loss=0 eval: ucc_acc=1.0 weighted_loss=0.01060106698423624 ucc_loss=0.01060106698423624 ae_loss=0\n"
     ]
    },
    {
     "name": "stderr",
     "output_type": "stream",
     "text": [
      " 37%|███▋      | 7370/20009 [42:29<1:12:05,  2.92it/s]"
     ]
    },
    {
     "name": "stdout",
     "output_type": "stream",
     "text": [
      "Step 67361, training: ucc_acc=1.0 weighted_loss=0.04280298203229904 ucc_loss=0.04280298203229904 ae_loss=0 eval: ucc_acc=0.8666666746139526 weighted_loss=0.20831848680973053 ucc_loss=0.20831848680973053 ae_loss=0\n"
     ]
    },
    {
     "name": "stderr",
     "output_type": "stream",
     "text": [
      " 37%|███▋      | 7380/20009 [42:32<1:11:12,  2.96it/s]"
     ]
    },
    {
     "name": "stdout",
     "output_type": "stream",
     "text": [
      "Step 67371, training: ucc_acc=1.0 weighted_loss=0.00683567812666297 ucc_loss=0.00683567812666297 ae_loss=0 eval: ucc_acc=1.0 weighted_loss=0.04317464679479599 ucc_loss=0.04317464679479599 ae_loss=0\n"
     ]
    },
    {
     "name": "stderr",
     "output_type": "stream",
     "text": [
      " 37%|███▋      | 7390/20009 [42:35<1:09:44,  3.02it/s]"
     ]
    },
    {
     "name": "stdout",
     "output_type": "stream",
     "text": [
      "Step 67381, training: ucc_acc=1.0 weighted_loss=0.019429128617048264 ucc_loss=0.019429128617048264 ae_loss=0 eval: ucc_acc=1.0 weighted_loss=0.0010342149762436748 ucc_loss=0.0010342149762436748 ae_loss=0\n"
     ]
    },
    {
     "name": "stderr",
     "output_type": "stream",
     "text": [
      " 37%|███▋      | 7400/20009 [42:38<1:09:43,  3.01it/s]"
     ]
    },
    {
     "name": "stdout",
     "output_type": "stream",
     "text": [
      "Step 67391, training: ucc_acc=1.0 weighted_loss=0.00031935659353621304 ucc_loss=0.00031935659353621304 ae_loss=0 eval: ucc_acc=0.9333333373069763 weighted_loss=0.2022479623556137 ucc_loss=0.2022479623556137 ae_loss=0\n"
     ]
    },
    {
     "name": "stderr",
     "output_type": "stream",
     "text": [
      " 37%|███▋      | 7410/20009 [42:41<1:11:21,  2.94it/s]"
     ]
    },
    {
     "name": "stdout",
     "output_type": "stream",
     "text": [
      "Step 67401, training: ucc_acc=1.0 weighted_loss=0.005253782030194998 ucc_loss=0.005253782030194998 ae_loss=0 eval: ucc_acc=1.0 weighted_loss=0.0005943446303717792 ucc_loss=0.0005943446303717792 ae_loss=0\n"
     ]
    },
    {
     "name": "stderr",
     "output_type": "stream",
     "text": [
      " 37%|███▋      | 7420/20009 [42:44<1:11:07,  2.95it/s]"
     ]
    },
    {
     "name": "stdout",
     "output_type": "stream",
     "text": [
      "Step 67411, training: ucc_acc=1.0 weighted_loss=0.005666458047926426 ucc_loss=0.005666458047926426 ae_loss=0 eval: ucc_acc=1.0 weighted_loss=0.010297942906618118 ucc_loss=0.010297942906618118 ae_loss=0\n"
     ]
    },
    {
     "name": "stderr",
     "output_type": "stream",
     "text": [
      " 37%|███▋      | 7430/20009 [42:48<1:11:01,  2.95it/s]"
     ]
    },
    {
     "name": "stdout",
     "output_type": "stream",
     "text": [
      "Step 67421, training: ucc_acc=1.0 weighted_loss=0.006792200263589621 ucc_loss=0.006792200263589621 ae_loss=0 eval: ucc_acc=0.9333333373069763 weighted_loss=0.20916339755058289 ucc_loss=0.20916339755058289 ae_loss=0\n"
     ]
    },
    {
     "name": "stderr",
     "output_type": "stream",
     "text": [
      " 37%|███▋      | 7440/20009 [42:51<1:12:41,  2.88it/s]"
     ]
    },
    {
     "name": "stdout",
     "output_type": "stream",
     "text": [
      "Step 67431, training: ucc_acc=1.0 weighted_loss=0.015314836986362934 ucc_loss=0.015314836986362934 ae_loss=0 eval: ucc_acc=1.0 weighted_loss=0.0025071667041629553 ucc_loss=0.0025071667041629553 ae_loss=0\n"
     ]
    },
    {
     "name": "stderr",
     "output_type": "stream",
     "text": [
      " 37%|███▋      | 7450/20009 [42:54<1:11:44,  2.92it/s]"
     ]
    },
    {
     "name": "stdout",
     "output_type": "stream",
     "text": [
      "Step 67441, training: ucc_acc=1.0 weighted_loss=0.007943840697407722 ucc_loss=0.007943840697407722 ae_loss=0 eval: ucc_acc=1.0 weighted_loss=0.012355195358395576 ucc_loss=0.012355195358395576 ae_loss=0\n"
     ]
    },
    {
     "name": "stderr",
     "output_type": "stream",
     "text": [
      " 37%|███▋      | 7460/20009 [42:57<1:08:00,  3.08it/s]"
     ]
    },
    {
     "name": "stdout",
     "output_type": "stream",
     "text": [
      "Step 67451, training: ucc_acc=1.0 weighted_loss=0.001680925372056663 ucc_loss=0.001680925372056663 ae_loss=0 eval: ucc_acc=0.9333333373069763 weighted_loss=0.14475180208683014 ucc_loss=0.14475180208683014 ae_loss=0\n"
     ]
    },
    {
     "name": "stderr",
     "output_type": "stream",
     "text": [
      " 37%|███▋      | 7470/20009 [43:00<1:10:38,  2.96it/s]"
     ]
    },
    {
     "name": "stdout",
     "output_type": "stream",
     "text": [
      "Step 67461, training: ucc_acc=1.0 weighted_loss=0.020882973447442055 ucc_loss=0.020882973447442055 ae_loss=0 eval: ucc_acc=1.0 weighted_loss=0.0003073150583077222 ucc_loss=0.0003073150583077222 ae_loss=0\n"
     ]
    },
    {
     "name": "stderr",
     "output_type": "stream",
     "text": [
      " 37%|███▋      | 7480/20009 [43:03<1:09:55,  2.99it/s]"
     ]
    },
    {
     "name": "stdout",
     "output_type": "stream",
     "text": [
      "Step 67471, training: ucc_acc=1.0 weighted_loss=0.014796549454331398 ucc_loss=0.014796549454331398 ae_loss=0 eval: ucc_acc=1.0 weighted_loss=0.015857312828302383 ucc_loss=0.015857312828302383 ae_loss=0\n"
     ]
    },
    {
     "name": "stderr",
     "output_type": "stream",
     "text": [
      " 37%|███▋      | 7490/20009 [43:06<1:11:09,  2.93it/s]"
     ]
    },
    {
     "name": "stdout",
     "output_type": "stream",
     "text": [
      "Step 67481, training: ucc_acc=0.9333333373069763 weighted_loss=0.06714602559804916 ucc_loss=0.06714602559804916 ae_loss=0 eval: ucc_acc=1.0 weighted_loss=0.01276013907045126 ucc_loss=0.01276013907045126 ae_loss=0\n"
     ]
    },
    {
     "name": "stderr",
     "output_type": "stream",
     "text": [
      " 37%|███▋      | 7500/20009 [43:09<1:11:04,  2.93it/s]"
     ]
    },
    {
     "name": "stdout",
     "output_type": "stream",
     "text": [
      "Step 67491, training: ucc_acc=1.0 weighted_loss=0.0011574472300708294 ucc_loss=0.0011574472300708294 ae_loss=0 eval: ucc_acc=1.0 weighted_loss=0.01614679954946041 ucc_loss=0.01614679954946041 ae_loss=0\n"
     ]
    },
    {
     "name": "stderr",
     "output_type": "stream",
     "text": [
      " 38%|███▊      | 7510/20009 [43:12<1:12:07,  2.89it/s]"
     ]
    },
    {
     "name": "stdout",
     "output_type": "stream",
     "text": [
      "Step 67501, training: ucc_acc=1.0 weighted_loss=0.004620537161827087 ucc_loss=0.004620537161827087 ae_loss=0 eval: ucc_acc=1.0 weighted_loss=0.002510285470634699 ucc_loss=0.002510285470634699 ae_loss=0\n"
     ]
    },
    {
     "name": "stderr",
     "output_type": "stream",
     "text": [
      " 38%|███▊      | 7520/20009 [43:16<1:09:10,  3.01it/s]"
     ]
    },
    {
     "name": "stdout",
     "output_type": "stream",
     "text": [
      "Step 67511, training: ucc_acc=1.0 weighted_loss=0.00682869553565979 ucc_loss=0.00682869553565979 ae_loss=0 eval: ucc_acc=1.0 weighted_loss=0.0034075879957526922 ucc_loss=0.0034075879957526922 ae_loss=0\n"
     ]
    },
    {
     "name": "stderr",
     "output_type": "stream",
     "text": [
      " 38%|███▊      | 7530/20009 [43:19<1:16:20,  2.72it/s]"
     ]
    },
    {
     "name": "stdout",
     "output_type": "stream",
     "text": [
      "Step 67521, training: ucc_acc=0.9333333373069763 weighted_loss=0.20398716628551483 ucc_loss=0.20398716628551483 ae_loss=0 eval: ucc_acc=1.0 weighted_loss=0.004518978297710419 ucc_loss=0.004518978297710419 ae_loss=0\n"
     ]
    },
    {
     "name": "stderr",
     "output_type": "stream",
     "text": [
      " 38%|███▊      | 7540/20009 [43:22<1:14:23,  2.79it/s]"
     ]
    },
    {
     "name": "stdout",
     "output_type": "stream",
     "text": [
      "Step 67531, training: ucc_acc=1.0 weighted_loss=0.013243050314486027 ucc_loss=0.013243050314486027 ae_loss=0 eval: ucc_acc=1.0 weighted_loss=0.011297398246824741 ucc_loss=0.011297398246824741 ae_loss=0\n"
     ]
    },
    {
     "name": "stderr",
     "output_type": "stream",
     "text": [
      " 38%|███▊      | 7550/20009 [43:25<1:11:48,  2.89it/s]"
     ]
    },
    {
     "name": "stdout",
     "output_type": "stream",
     "text": [
      "Step 67541, training: ucc_acc=1.0 weighted_loss=0.006395570933818817 ucc_loss=0.006395570933818817 ae_loss=0 eval: ucc_acc=1.0 weighted_loss=0.013355995528399944 ucc_loss=0.013355995528399944 ae_loss=0\n"
     ]
    },
    {
     "name": "stderr",
     "output_type": "stream",
     "text": [
      " 38%|███▊      | 7560/20009 [43:28<1:09:49,  2.97it/s]"
     ]
    },
    {
     "name": "stdout",
     "output_type": "stream",
     "text": [
      "Step 67551, training: ucc_acc=0.9333333373069763 weighted_loss=0.14734861254692078 ucc_loss=0.14734861254692078 ae_loss=0 eval: ucc_acc=0.9333333373069763 weighted_loss=0.07878504693508148 ucc_loss=0.07878504693508148 ae_loss=0\n"
     ]
    },
    {
     "name": "stderr",
     "output_type": "stream",
     "text": [
      " 38%|███▊      | 7570/20009 [43:31<1:09:54,  2.97it/s]"
     ]
    },
    {
     "name": "stdout",
     "output_type": "stream",
     "text": [
      "Step 67561, training: ucc_acc=1.0 weighted_loss=0.001077654305845499 ucc_loss=0.001077654305845499 ae_loss=0 eval: ucc_acc=1.0 weighted_loss=0.01210781093686819 ucc_loss=0.01210781093686819 ae_loss=0\n"
     ]
    },
    {
     "name": "stderr",
     "output_type": "stream",
     "text": [
      " 38%|███▊      | 7580/20009 [43:34<1:11:31,  2.90it/s]"
     ]
    },
    {
     "name": "stdout",
     "output_type": "stream",
     "text": [
      "Step 67571, training: ucc_acc=1.0 weighted_loss=0.02464725822210312 ucc_loss=0.02464725822210312 ae_loss=0 eval: ucc_acc=1.0 weighted_loss=0.00047808513045310974 ucc_loss=0.00047808513045310974 ae_loss=0\n"
     ]
    },
    {
     "name": "stderr",
     "output_type": "stream",
     "text": [
      " 38%|███▊      | 7590/20009 [43:38<1:10:37,  2.93it/s]"
     ]
    },
    {
     "name": "stdout",
     "output_type": "stream",
     "text": [
      "Step 67581, training: ucc_acc=1.0 weighted_loss=0.003926835022866726 ucc_loss=0.003926835022866726 ae_loss=0 eval: ucc_acc=1.0 weighted_loss=0.008340790867805481 ucc_loss=0.008340790867805481 ae_loss=0\n"
     ]
    },
    {
     "name": "stderr",
     "output_type": "stream",
     "text": [
      " 38%|███▊      | 7600/20009 [43:41<1:09:17,  2.98it/s]"
     ]
    },
    {
     "name": "stdout",
     "output_type": "stream",
     "text": [
      "Step 67591, training: ucc_acc=1.0 weighted_loss=0.01325229462236166 ucc_loss=0.01325229462236166 ae_loss=0 eval: ucc_acc=1.0 weighted_loss=0.00025415641721338034 ucc_loss=0.00025415641721338034 ae_loss=0\n"
     ]
    },
    {
     "name": "stderr",
     "output_type": "stream",
     "text": [
      " 38%|███▊      | 7610/20009 [43:44<1:09:24,  2.98it/s]"
     ]
    },
    {
     "name": "stdout",
     "output_type": "stream",
     "text": [
      "Step 67601, training: ucc_acc=1.0 weighted_loss=0.006692665163427591 ucc_loss=0.006692665163427591 ae_loss=0 eval: ucc_acc=1.0 weighted_loss=0.0026103148702532053 ucc_loss=0.0026103148702532053 ae_loss=0\n"
     ]
    },
    {
     "name": "stderr",
     "output_type": "stream",
     "text": [
      " 38%|███▊      | 7620/20009 [43:47<1:09:55,  2.95it/s]"
     ]
    },
    {
     "name": "stdout",
     "output_type": "stream",
     "text": [
      "Step 67611, training: ucc_acc=1.0 weighted_loss=0.007221777457743883 ucc_loss=0.007221777457743883 ae_loss=0 eval: ucc_acc=1.0 weighted_loss=0.0001441003114450723 ucc_loss=0.0001441003114450723 ae_loss=0\n"
     ]
    },
    {
     "name": "stderr",
     "output_type": "stream",
     "text": [
      " 38%|███▊      | 7630/20009 [43:50<1:12:41,  2.84it/s]"
     ]
    },
    {
     "name": "stdout",
     "output_type": "stream",
     "text": [
      "Step 67621, training: ucc_acc=0.9333333373069763 weighted_loss=0.17167633771896362 ucc_loss=0.17167633771896362 ae_loss=0 eval: ucc_acc=0.9333333373069763 weighted_loss=0.10415959358215332 ucc_loss=0.10415959358215332 ae_loss=0\n"
     ]
    },
    {
     "name": "stderr",
     "output_type": "stream",
     "text": [
      " 38%|███▊      | 7640/20009 [43:53<1:09:34,  2.96it/s]"
     ]
    },
    {
     "name": "stdout",
     "output_type": "stream",
     "text": [
      "Step 67631, training: ucc_acc=1.0 weighted_loss=0.005961152724921703 ucc_loss=0.005961152724921703 ae_loss=0 eval: ucc_acc=1.0 weighted_loss=0.01688052900135517 ucc_loss=0.01688052900135517 ae_loss=0\n"
     ]
    },
    {
     "name": "stderr",
     "output_type": "stream",
     "text": [
      " 38%|███▊      | 7650/20009 [43:56<1:07:55,  3.03it/s]"
     ]
    },
    {
     "name": "stdout",
     "output_type": "stream",
     "text": [
      "Step 67641, training: ucc_acc=1.0 weighted_loss=0.012297049164772034 ucc_loss=0.012297049164772034 ae_loss=0 eval: ucc_acc=0.9333333373069763 weighted_loss=0.17771916091442108 ucc_loss=0.17771916091442108 ae_loss=0\n"
     ]
    },
    {
     "name": "stderr",
     "output_type": "stream",
     "text": [
      " 38%|███▊      | 7660/20009 [43:59<1:11:19,  2.89it/s]"
     ]
    },
    {
     "name": "stdout",
     "output_type": "stream",
     "text": [
      "Step 67651, training: ucc_acc=1.0 weighted_loss=0.006928719114512205 ucc_loss=0.006928719114512205 ae_loss=0 eval: ucc_acc=1.0 weighted_loss=0.007548525929450989 ucc_loss=0.007548525929450989 ae_loss=0\n"
     ]
    },
    {
     "name": "stderr",
     "output_type": "stream",
     "text": [
      " 38%|███▊      | 7670/20009 [44:02<1:09:27,  2.96it/s]"
     ]
    },
    {
     "name": "stdout",
     "output_type": "stream",
     "text": [
      "Step 67661, training: ucc_acc=1.0 weighted_loss=0.002000614767894149 ucc_loss=0.002000614767894149 ae_loss=0 eval: ucc_acc=1.0 weighted_loss=0.014053727500140667 ucc_loss=0.014053727500140667 ae_loss=0\n"
     ]
    },
    {
     "name": "stderr",
     "output_type": "stream",
     "text": [
      " 38%|███▊      | 7680/20009 [44:05<1:09:44,  2.95it/s]"
     ]
    },
    {
     "name": "stdout",
     "output_type": "stream",
     "text": [
      "Step 67671, training: ucc_acc=0.9333333373069763 weighted_loss=0.18199746310710907 ucc_loss=0.18199746310710907 ae_loss=0 eval: ucc_acc=1.0 weighted_loss=0.00059365329798311 ucc_loss=0.00059365329798311 ae_loss=0\n"
     ]
    },
    {
     "name": "stderr",
     "output_type": "stream",
     "text": [
      " 38%|███▊      | 7690/20009 [44:08<1:09:14,  2.97it/s]"
     ]
    },
    {
     "name": "stdout",
     "output_type": "stream",
     "text": [
      "Step 67681, training: ucc_acc=1.0 weighted_loss=0.0003317046503070742 ucc_loss=0.0003317046503070742 ae_loss=0 eval: ucc_acc=1.0 weighted_loss=0.012607577256858349 ucc_loss=0.012607577256858349 ae_loss=0\n"
     ]
    },
    {
     "name": "stderr",
     "output_type": "stream",
     "text": [
      " 38%|███▊      | 7700/20009 [44:12<1:14:08,  2.77it/s]"
     ]
    },
    {
     "name": "stdout",
     "output_type": "stream",
     "text": [
      "Step 67691, training: ucc_acc=1.0 weighted_loss=0.0010529403807595372 ucc_loss=0.0010529403807595372 ae_loss=0 eval: ucc_acc=1.0 weighted_loss=0.02126362733542919 ucc_loss=0.02126362733542919 ae_loss=0\n"
     ]
    },
    {
     "name": "stderr",
     "output_type": "stream",
     "text": [
      " 39%|███▊      | 7710/20009 [44:15<1:11:40,  2.86it/s]"
     ]
    },
    {
     "name": "stdout",
     "output_type": "stream",
     "text": [
      "Step 67701, training: ucc_acc=1.0 weighted_loss=0.02521422691643238 ucc_loss=0.02521422691643238 ae_loss=0 eval: ucc_acc=1.0 weighted_loss=0.006978164426982403 ucc_loss=0.006978164426982403 ae_loss=0\n"
     ]
    },
    {
     "name": "stderr",
     "output_type": "stream",
     "text": [
      " 39%|███▊      | 7720/20009 [44:18<1:14:12,  2.76it/s]"
     ]
    },
    {
     "name": "stdout",
     "output_type": "stream",
     "text": [
      "Step 67711, training: ucc_acc=0.9333333373069763 weighted_loss=0.13670511543750763 ucc_loss=0.13670511543750763 ae_loss=0 eval: ucc_acc=1.0 weighted_loss=0.019344402477145195 ucc_loss=0.019344402477145195 ae_loss=0\n"
     ]
    },
    {
     "name": "stderr",
     "output_type": "stream",
     "text": [
      " 39%|███▊      | 7730/20009 [44:21<1:15:36,  2.71it/s]"
     ]
    },
    {
     "name": "stdout",
     "output_type": "stream",
     "text": [
      "Step 67721, training: ucc_acc=1.0 weighted_loss=0.03447920083999634 ucc_loss=0.03447920083999634 ae_loss=0 eval: ucc_acc=1.0 weighted_loss=0.044561780989170074 ucc_loss=0.044561780989170074 ae_loss=0\n"
     ]
    },
    {
     "name": "stderr",
     "output_type": "stream",
     "text": [
      " 39%|███▊      | 7740/20009 [44:25<1:18:02,  2.62it/s]"
     ]
    },
    {
     "name": "stdout",
     "output_type": "stream",
     "text": [
      "Step 67731, training: ucc_acc=1.0 weighted_loss=0.005441485438495874 ucc_loss=0.005441485438495874 ae_loss=0 eval: ucc_acc=1.0 weighted_loss=0.011803511530160904 ucc_loss=0.011803511530160904 ae_loss=0\n"
     ]
    },
    {
     "name": "stderr",
     "output_type": "stream",
     "text": [
      " 39%|███▊      | 7750/20009 [44:28<1:14:22,  2.75it/s]"
     ]
    },
    {
     "name": "stdout",
     "output_type": "stream",
     "text": [
      "Step 67741, training: ucc_acc=1.0 weighted_loss=0.004283400718122721 ucc_loss=0.004283400718122721 ae_loss=0 eval: ucc_acc=1.0 weighted_loss=0.0005306360544636846 ucc_loss=0.0005306360544636846 ae_loss=0\n"
     ]
    },
    {
     "name": "stderr",
     "output_type": "stream",
     "text": [
      " 39%|███▉      | 7760/20009 [44:31<1:15:09,  2.72it/s]"
     ]
    },
    {
     "name": "stdout",
     "output_type": "stream",
     "text": [
      "Step 67751, training: ucc_acc=1.0 weighted_loss=0.010909225791692734 ucc_loss=0.010909225791692734 ae_loss=0 eval: ucc_acc=1.0 weighted_loss=0.005523460917174816 ucc_loss=0.005523460917174816 ae_loss=0\n"
     ]
    },
    {
     "name": "stderr",
     "output_type": "stream",
     "text": [
      " 39%|███▉      | 7770/20009 [44:35<1:16:29,  2.67it/s]"
     ]
    },
    {
     "name": "stdout",
     "output_type": "stream",
     "text": [
      "Step 67761, training: ucc_acc=1.0 weighted_loss=0.00034229125594720244 ucc_loss=0.00034229125594720244 ae_loss=0 eval: ucc_acc=0.9333333373069763 weighted_loss=0.08712635189294815 ucc_loss=0.08712635189294815 ae_loss=0\n"
     ]
    },
    {
     "name": "stderr",
     "output_type": "stream",
     "text": [
      " 39%|███▉      | 7780/20009 [44:38<1:13:34,  2.77it/s]"
     ]
    },
    {
     "name": "stdout",
     "output_type": "stream",
     "text": [
      "Step 67771, training: ucc_acc=1.0 weighted_loss=0.020387984812259674 ucc_loss=0.020387984812259674 ae_loss=0 eval: ucc_acc=1.0 weighted_loss=0.013300474733114243 ucc_loss=0.013300474733114243 ae_loss=0\n"
     ]
    },
    {
     "name": "stderr",
     "output_type": "stream",
     "text": [
      " 39%|███▉      | 7790/20009 [44:42<1:11:57,  2.83it/s]"
     ]
    },
    {
     "name": "stdout",
     "output_type": "stream",
     "text": [
      "Step 67781, training: ucc_acc=1.0 weighted_loss=0.005937734618782997 ucc_loss=0.005937734618782997 ae_loss=0 eval: ucc_acc=1.0 weighted_loss=0.0024516540579497814 ucc_loss=0.0024516540579497814 ae_loss=0\n"
     ]
    },
    {
     "name": "stderr",
     "output_type": "stream",
     "text": [
      " 39%|███▉      | 7800/20009 [44:45<1:12:42,  2.80it/s]"
     ]
    },
    {
     "name": "stdout",
     "output_type": "stream",
     "text": [
      "Step 67791, training: ucc_acc=1.0 weighted_loss=0.003718579886481166 ucc_loss=0.003718579886481166 ae_loss=0 eval: ucc_acc=1.0 weighted_loss=0.014100346714258194 ucc_loss=0.014100346714258194 ae_loss=0\n"
     ]
    },
    {
     "name": "stderr",
     "output_type": "stream",
     "text": [
      " 39%|███▉      | 7810/20009 [44:48<1:10:13,  2.90it/s]"
     ]
    },
    {
     "name": "stdout",
     "output_type": "stream",
     "text": [
      "Step 67801, training: ucc_acc=1.0 weighted_loss=0.02271895296871662 ucc_loss=0.02271895296871662 ae_loss=0 eval: ucc_acc=1.0 weighted_loss=0.010661125183105469 ucc_loss=0.010661125183105469 ae_loss=0\n"
     ]
    },
    {
     "name": "stderr",
     "output_type": "stream",
     "text": [
      " 39%|███▉      | 7820/20009 [44:51<1:09:47,  2.91it/s]"
     ]
    },
    {
     "name": "stdout",
     "output_type": "stream",
     "text": [
      "Step 67811, training: ucc_acc=1.0 weighted_loss=0.024868719279766083 ucc_loss=0.024868719279766083 ae_loss=0 eval: ucc_acc=1.0 weighted_loss=0.008758891373872757 ucc_loss=0.008758891373872757 ae_loss=0\n"
     ]
    },
    {
     "name": "stderr",
     "output_type": "stream",
     "text": [
      " 39%|███▉      | 7830/20009 [44:54<1:11:44,  2.83it/s]"
     ]
    },
    {
     "name": "stdout",
     "output_type": "stream",
     "text": [
      "Step 67821, training: ucc_acc=1.0 weighted_loss=0.004957595840096474 ucc_loss=0.004957595840096474 ae_loss=0 eval: ucc_acc=1.0 weighted_loss=0.003796673147007823 ucc_loss=0.003796673147007823 ae_loss=0\n"
     ]
    },
    {
     "name": "stderr",
     "output_type": "stream",
     "text": [
      " 39%|███▉      | 7840/20009 [44:57<1:08:04,  2.98it/s]"
     ]
    },
    {
     "name": "stdout",
     "output_type": "stream",
     "text": [
      "Step 67831, training: ucc_acc=1.0 weighted_loss=0.00711937015876174 ucc_loss=0.00711937015876174 ae_loss=0 eval: ucc_acc=1.0 weighted_loss=0.006899719592183828 ucc_loss=0.006899719592183828 ae_loss=0\n"
     ]
    },
    {
     "name": "stderr",
     "output_type": "stream",
     "text": [
      " 39%|███▉      | 7850/20009 [45:01<1:12:34,  2.79it/s]"
     ]
    },
    {
     "name": "stdout",
     "output_type": "stream",
     "text": [
      "Step 67841, training: ucc_acc=1.0 weighted_loss=0.02717467211186886 ucc_loss=0.02717467211186886 ae_loss=0 eval: ucc_acc=1.0 weighted_loss=0.0004108156426809728 ucc_loss=0.0004108156426809728 ae_loss=0\n"
     ]
    },
    {
     "name": "stderr",
     "output_type": "stream",
     "text": [
      " 39%|███▉      | 7860/20009 [45:04<1:10:52,  2.86it/s]"
     ]
    },
    {
     "name": "stdout",
     "output_type": "stream",
     "text": [
      "Step 67851, training: ucc_acc=0.9333333373069763 weighted_loss=0.16935229301452637 ucc_loss=0.16935229301452637 ae_loss=0 eval: ucc_acc=1.0 weighted_loss=0.0027679672930389643 ucc_loss=0.0027679672930389643 ae_loss=0\n"
     ]
    },
    {
     "name": "stderr",
     "output_type": "stream",
     "text": [
      " 39%|███▉      | 7870/20009 [45:07<1:10:22,  2.88it/s]"
     ]
    },
    {
     "name": "stdout",
     "output_type": "stream",
     "text": [
      "Step 67861, training: ucc_acc=1.0 weighted_loss=0.007383652031421661 ucc_loss=0.007383652031421661 ae_loss=0 eval: ucc_acc=1.0 weighted_loss=0.01968560554087162 ucc_loss=0.01968560554087162 ae_loss=0\n"
     ]
    },
    {
     "name": "stderr",
     "output_type": "stream",
     "text": [
      " 39%|███▉      | 7880/20009 [45:10<1:11:04,  2.84it/s]"
     ]
    },
    {
     "name": "stdout",
     "output_type": "stream",
     "text": [
      "Step 67871, training: ucc_acc=1.0 weighted_loss=0.0011059083044528961 ucc_loss=0.0011059083044528961 ae_loss=0 eval: ucc_acc=1.0 weighted_loss=0.036968301981687546 ucc_loss=0.036968301981687546 ae_loss=0\n"
     ]
    },
    {
     "name": "stderr",
     "output_type": "stream",
     "text": [
      " 39%|███▉      | 7890/20009 [45:13<1:08:47,  2.94it/s]"
     ]
    },
    {
     "name": "stdout",
     "output_type": "stream",
     "text": [
      "Step 67881, training: ucc_acc=1.0 weighted_loss=0.05086275562644005 ucc_loss=0.05086275562644005 ae_loss=0 eval: ucc_acc=0.9333333373069763 weighted_loss=0.15446294844150543 ucc_loss=0.15446294844150543 ae_loss=0\n"
     ]
    },
    {
     "name": "stderr",
     "output_type": "stream",
     "text": [
      " 39%|███▉      | 7900/20009 [45:16<1:09:32,  2.90it/s]"
     ]
    },
    {
     "name": "stdout",
     "output_type": "stream",
     "text": [
      "Step 67891, training: ucc_acc=1.0 weighted_loss=0.02060711942613125 ucc_loss=0.02060711942613125 ae_loss=0 eval: ucc_acc=1.0 weighted_loss=0.020602015778422356 ucc_loss=0.020602015778422356 ae_loss=0\n"
     ]
    },
    {
     "name": "stderr",
     "output_type": "stream",
     "text": [
      " 40%|███▉      | 7910/20009 [45:20<1:10:17,  2.87it/s]"
     ]
    },
    {
     "name": "stdout",
     "output_type": "stream",
     "text": [
      "Step 67901, training: ucc_acc=1.0 weighted_loss=0.008959111757576466 ucc_loss=0.008959111757576466 ae_loss=0 eval: ucc_acc=1.0 weighted_loss=0.0025647215079516172 ucc_loss=0.0025647215079516172 ae_loss=0\n"
     ]
    },
    {
     "name": "stderr",
     "output_type": "stream",
     "text": [
      " 40%|███▉      | 7920/20009 [45:23<1:10:41,  2.85it/s]"
     ]
    },
    {
     "name": "stdout",
     "output_type": "stream",
     "text": [
      "Step 67911, training: ucc_acc=1.0 weighted_loss=0.007997329346835613 ucc_loss=0.007997329346835613 ae_loss=0 eval: ucc_acc=1.0 weighted_loss=0.008823037147521973 ucc_loss=0.008823037147521973 ae_loss=0\n"
     ]
    },
    {
     "name": "stderr",
     "output_type": "stream",
     "text": [
      " 40%|███▉      | 7930/20009 [45:26<1:08:24,  2.94it/s]"
     ]
    },
    {
     "name": "stdout",
     "output_type": "stream",
     "text": [
      "Step 67921, training: ucc_acc=0.8666666746139526 weighted_loss=0.267976850271225 ucc_loss=0.267976850271225 ae_loss=0 eval: ucc_acc=1.0 weighted_loss=0.009258595295250416 ucc_loss=0.009258595295250416 ae_loss=0\n"
     ]
    },
    {
     "name": "stderr",
     "output_type": "stream",
     "text": [
      " 40%|███▉      | 7940/20009 [45:29<1:08:23,  2.94it/s]"
     ]
    },
    {
     "name": "stdout",
     "output_type": "stream",
     "text": [
      "Step 67931, training: ucc_acc=1.0 weighted_loss=0.00010648374154698104 ucc_loss=0.00010648374154698104 ae_loss=0 eval: ucc_acc=0.9333333373069763 weighted_loss=0.15532609820365906 ucc_loss=0.15532609820365906 ae_loss=0\n"
     ]
    },
    {
     "name": "stderr",
     "output_type": "stream",
     "text": [
      " 40%|███▉      | 7950/20009 [45:32<1:12:40,  2.77it/s]"
     ]
    },
    {
     "name": "stdout",
     "output_type": "stream",
     "text": [
      "Step 67941, training: ucc_acc=1.0 weighted_loss=0.016624292358756065 ucc_loss=0.016624292358756065 ae_loss=0 eval: ucc_acc=1.0 weighted_loss=0.010438025929033756 ucc_loss=0.010438025929033756 ae_loss=0\n"
     ]
    },
    {
     "name": "stderr",
     "output_type": "stream",
     "text": [
      " 40%|███▉      | 7960/20009 [45:36<1:12:06,  2.78it/s]"
     ]
    },
    {
     "name": "stdout",
     "output_type": "stream",
     "text": [
      "Step 67951, training: ucc_acc=1.0 weighted_loss=0.003627374768257141 ucc_loss=0.003627374768257141 ae_loss=0 eval: ucc_acc=1.0 weighted_loss=0.006506043020635843 ucc_loss=0.006506043020635843 ae_loss=0\n"
     ]
    },
    {
     "name": "stderr",
     "output_type": "stream",
     "text": [
      " 40%|███▉      | 7970/20009 [45:39<1:12:01,  2.79it/s]"
     ]
    },
    {
     "name": "stdout",
     "output_type": "stream",
     "text": [
      "Step 67961, training: ucc_acc=1.0 weighted_loss=0.0004911105497740209 ucc_loss=0.0004911105497740209 ae_loss=0 eval: ucc_acc=1.0 weighted_loss=0.004247100558131933 ucc_loss=0.004247100558131933 ae_loss=0\n"
     ]
    },
    {
     "name": "stderr",
     "output_type": "stream",
     "text": [
      " 40%|███▉      | 7980/20009 [45:42<1:08:46,  2.92it/s]"
     ]
    },
    {
     "name": "stdout",
     "output_type": "stream",
     "text": [
      "Step 67971, training: ucc_acc=1.0 weighted_loss=0.007698101922869682 ucc_loss=0.007698101922869682 ae_loss=0 eval: ucc_acc=0.9333333373069763 weighted_loss=0.061226580291986465 ucc_loss=0.061226580291986465 ae_loss=0\n"
     ]
    },
    {
     "name": "stderr",
     "output_type": "stream",
     "text": [
      " 40%|███▉      | 7990/20009 [45:45<1:11:19,  2.81it/s]"
     ]
    },
    {
     "name": "stdout",
     "output_type": "stream",
     "text": [
      "Step 67981, training: ucc_acc=1.0 weighted_loss=0.011670841835439205 ucc_loss=0.011670841835439205 ae_loss=0 eval: ucc_acc=1.0 weighted_loss=0.016757940873503685 ucc_loss=0.016757940873503685 ae_loss=0\n"
     ]
    },
    {
     "name": "stderr",
     "output_type": "stream",
     "text": [
      " 40%|███▉      | 8000/20009 [45:49<1:08:23,  2.93it/s]"
     ]
    },
    {
     "name": "stdout",
     "output_type": "stream",
     "text": [
      "Step 67991, training: ucc_acc=1.0 weighted_loss=0.05616091936826706 ucc_loss=0.05616091936826706 ae_loss=0 eval: ucc_acc=0.9333333373069763 weighted_loss=0.12754476070404053 ucc_loss=0.12754476070404053 ae_loss=0\n"
     ]
    },
    {
     "name": "stderr",
     "output_type": "stream",
     "text": [
      " 40%|████      | 8010/20009 [45:52<1:13:34,  2.72it/s]"
     ]
    },
    {
     "name": "stdout",
     "output_type": "stream",
     "text": [
      "Step 68001, training: ucc_acc=1.0 weighted_loss=0.02478787489235401 ucc_loss=0.02478787489235401 ae_loss=0 eval: ucc_acc=1.0 weighted_loss=0.005499443504959345 ucc_loss=0.005499443504959345 ae_loss=0\n"
     ]
    },
    {
     "name": "stderr",
     "output_type": "stream",
     "text": [
      " 40%|████      | 8020/20009 [45:55<1:14:40,  2.68it/s]"
     ]
    },
    {
     "name": "stdout",
     "output_type": "stream",
     "text": [
      "Step 68011, training: ucc_acc=1.0 weighted_loss=0.004850486759096384 ucc_loss=0.004850486759096384 ae_loss=0 eval: ucc_acc=1.0 weighted_loss=0.004515680018812418 ucc_loss=0.004515680018812418 ae_loss=0\n"
     ]
    },
    {
     "name": "stderr",
     "output_type": "stream",
     "text": [
      " 40%|████      | 8030/20009 [45:59<1:11:26,  2.79it/s]"
     ]
    },
    {
     "name": "stdout",
     "output_type": "stream",
     "text": [
      "Step 68021, training: ucc_acc=1.0 weighted_loss=0.00040956848533824086 ucc_loss=0.00040956848533824086 ae_loss=0 eval: ucc_acc=1.0 weighted_loss=0.0023350967094302177 ucc_loss=0.0023350967094302177 ae_loss=0\n"
     ]
    },
    {
     "name": "stderr",
     "output_type": "stream",
     "text": [
      " 40%|████      | 8040/20009 [46:02<1:23:29,  2.39it/s]"
     ]
    },
    {
     "name": "stdout",
     "output_type": "stream",
     "text": [
      "Step 68031, training: ucc_acc=0.9333333373069763 weighted_loss=0.17373989522457123 ucc_loss=0.17373989522457123 ae_loss=0 eval: ucc_acc=1.0 weighted_loss=0.01791456900537014 ucc_loss=0.01791456900537014 ae_loss=0\n"
     ]
    },
    {
     "name": "stderr",
     "output_type": "stream",
     "text": [
      " 40%|████      | 8050/20009 [46:06<1:21:41,  2.44it/s]"
     ]
    },
    {
     "name": "stdout",
     "output_type": "stream",
     "text": [
      "Step 68041, training: ucc_acc=0.9333333373069763 weighted_loss=0.07478723675012589 ucc_loss=0.07478723675012589 ae_loss=0 eval: ucc_acc=1.0 weighted_loss=0.033447980880737305 ucc_loss=0.033447980880737305 ae_loss=0\n"
     ]
    },
    {
     "name": "stderr",
     "output_type": "stream",
     "text": [
      " 40%|████      | 8060/20009 [46:09<1:15:35,  2.63it/s]"
     ]
    },
    {
     "name": "stdout",
     "output_type": "stream",
     "text": [
      "Step 68051, training: ucc_acc=1.0 weighted_loss=0.011450433172285557 ucc_loss=0.011450433172285557 ae_loss=0 eval: ucc_acc=1.0 weighted_loss=0.013467355631291866 ucc_loss=0.013467355631291866 ae_loss=0\n"
     ]
    },
    {
     "name": "stderr",
     "output_type": "stream",
     "text": [
      " 40%|████      | 8070/20009 [46:13<1:10:04,  2.84it/s]"
     ]
    },
    {
     "name": "stdout",
     "output_type": "stream",
     "text": [
      "Step 68061, training: ucc_acc=1.0 weighted_loss=0.011771973222494125 ucc_loss=0.011771973222494125 ae_loss=0 eval: ucc_acc=1.0 weighted_loss=0.002874856349080801 ucc_loss=0.002874856349080801 ae_loss=0\n"
     ]
    },
    {
     "name": "stderr",
     "output_type": "stream",
     "text": [
      " 40%|████      | 8080/20009 [46:16<1:09:26,  2.86it/s]"
     ]
    },
    {
     "name": "stdout",
     "output_type": "stream",
     "text": [
      "Step 68071, training: ucc_acc=1.0 weighted_loss=0.0059320456348359585 ucc_loss=0.0059320456348359585 ae_loss=0 eval: ucc_acc=1.0 weighted_loss=0.0009280648664571345 ucc_loss=0.0009280648664571345 ae_loss=0\n"
     ]
    },
    {
     "name": "stderr",
     "output_type": "stream",
     "text": [
      " 40%|████      | 8090/20009 [46:19<1:09:29,  2.86it/s]"
     ]
    },
    {
     "name": "stdout",
     "output_type": "stream",
     "text": [
      "Step 68081, training: ucc_acc=1.0 weighted_loss=0.010413494892418385 ucc_loss=0.010413494892418385 ae_loss=0 eval: ucc_acc=1.0 weighted_loss=0.00649950560182333 ucc_loss=0.00649950560182333 ae_loss=0\n"
     ]
    },
    {
     "name": "stderr",
     "output_type": "stream",
     "text": [
      " 40%|████      | 8100/20009 [46:22<1:09:51,  2.84it/s]"
     ]
    },
    {
     "name": "stdout",
     "output_type": "stream",
     "text": [
      "Step 68091, training: ucc_acc=1.0 weighted_loss=0.0005961115239188075 ucc_loss=0.0005961115239188075 ae_loss=0 eval: ucc_acc=1.0 weighted_loss=0.022498611360788345 ucc_loss=0.022498611360788345 ae_loss=0\n"
     ]
    },
    {
     "name": "stderr",
     "output_type": "stream",
     "text": [
      " 41%|████      | 8110/20009 [46:25<1:09:11,  2.87it/s]"
     ]
    },
    {
     "name": "stdout",
     "output_type": "stream",
     "text": [
      "Step 68101, training: ucc_acc=1.0 weighted_loss=0.022607168182730675 ucc_loss=0.022607168182730675 ae_loss=0 eval: ucc_acc=1.0 weighted_loss=0.024173708632588387 ucc_loss=0.024173708632588387 ae_loss=0\n"
     ]
    },
    {
     "name": "stderr",
     "output_type": "stream",
     "text": [
      " 41%|████      | 8120/20009 [46:29<1:08:50,  2.88it/s]"
     ]
    },
    {
     "name": "stdout",
     "output_type": "stream",
     "text": [
      "Step 68111, training: ucc_acc=0.9333333373069763 weighted_loss=0.1718243807554245 ucc_loss=0.1718243807554245 ae_loss=0 eval: ucc_acc=1.0 weighted_loss=0.001342168776318431 ucc_loss=0.001342168776318431 ae_loss=0\n"
     ]
    },
    {
     "name": "stderr",
     "output_type": "stream",
     "text": [
      " 41%|████      | 8130/20009 [46:32<1:07:50,  2.92it/s]"
     ]
    },
    {
     "name": "stdout",
     "output_type": "stream",
     "text": [
      "Step 68121, training: ucc_acc=1.0 weighted_loss=0.014965918846428394 ucc_loss=0.014965918846428394 ae_loss=0 eval: ucc_acc=1.0 weighted_loss=0.027240144088864326 ucc_loss=0.027240144088864326 ae_loss=0\n"
     ]
    },
    {
     "name": "stderr",
     "output_type": "stream",
     "text": [
      " 41%|████      | 8140/20009 [46:35<1:09:11,  2.86it/s]"
     ]
    },
    {
     "name": "stdout",
     "output_type": "stream",
     "text": [
      "Step 68131, training: ucc_acc=1.0 weighted_loss=0.03078872337937355 ucc_loss=0.03078872337937355 ae_loss=0 eval: ucc_acc=1.0 weighted_loss=0.011129495687782764 ucc_loss=0.011129495687782764 ae_loss=0\n"
     ]
    },
    {
     "name": "stderr",
     "output_type": "stream",
     "text": [
      " 41%|████      | 8150/20009 [46:38<1:10:10,  2.82it/s]"
     ]
    },
    {
     "name": "stdout",
     "output_type": "stream",
     "text": [
      "Step 68141, training: ucc_acc=1.0 weighted_loss=0.00018838504911400378 ucc_loss=0.00018838504911400378 ae_loss=0 eval: ucc_acc=0.9333333373069763 weighted_loss=0.1384224146604538 ucc_loss=0.1384224146604538 ae_loss=0\n"
     ]
    },
    {
     "name": "stderr",
     "output_type": "stream",
     "text": [
      " 41%|████      | 8160/20009 [46:41<1:08:39,  2.88it/s]"
     ]
    },
    {
     "name": "stdout",
     "output_type": "stream",
     "text": [
      "Step 68151, training: ucc_acc=0.8666666746139526 weighted_loss=0.3394182324409485 ucc_loss=0.3394182324409485 ae_loss=0 eval: ucc_acc=1.0 weighted_loss=0.023577814921736717 ucc_loss=0.023577814921736717 ae_loss=0\n"
     ]
    },
    {
     "name": "stderr",
     "output_type": "stream",
     "text": [
      " 41%|████      | 8170/20009 [46:44<1:11:15,  2.77it/s]"
     ]
    },
    {
     "name": "stdout",
     "output_type": "stream",
     "text": [
      "Step 68161, training: ucc_acc=1.0 weighted_loss=0.05677906796336174 ucc_loss=0.05677906796336174 ae_loss=0 eval: ucc_acc=1.0 weighted_loss=0.011697838082909584 ucc_loss=0.011697838082909584 ae_loss=0\n"
     ]
    },
    {
     "name": "stderr",
     "output_type": "stream",
     "text": [
      " 41%|████      | 8180/20009 [46:48<1:09:34,  2.83it/s]"
     ]
    },
    {
     "name": "stdout",
     "output_type": "stream",
     "text": [
      "Step 68171, training: ucc_acc=1.0 weighted_loss=0.00015668802370782942 ucc_loss=0.00015668802370782942 ae_loss=0 eval: ucc_acc=1.0 weighted_loss=0.007622579112648964 ucc_loss=0.007622579112648964 ae_loss=0\n"
     ]
    },
    {
     "name": "stderr",
     "output_type": "stream",
     "text": [
      " 41%|████      | 8190/20009 [46:51<1:09:07,  2.85it/s]"
     ]
    },
    {
     "name": "stdout",
     "output_type": "stream",
     "text": [
      "Step 68181, training: ucc_acc=0.9333333373069763 weighted_loss=0.3281025290489197 ucc_loss=0.3281025290489197 ae_loss=0 eval: ucc_acc=1.0 weighted_loss=0.008802777156233788 ucc_loss=0.008802777156233788 ae_loss=0\n"
     ]
    },
    {
     "name": "stderr",
     "output_type": "stream",
     "text": [
      " 41%|████      | 8200/20009 [46:54<1:11:47,  2.74it/s]"
     ]
    },
    {
     "name": "stdout",
     "output_type": "stream",
     "text": [
      "Step 68191, training: ucc_acc=1.0 weighted_loss=0.0021486396435648203 ucc_loss=0.0021486396435648203 ae_loss=0 eval: ucc_acc=1.0 weighted_loss=0.002089596586301923 ucc_loss=0.002089596586301923 ae_loss=0\n"
     ]
    },
    {
     "name": "stderr",
     "output_type": "stream",
     "text": [
      " 41%|████      | 8210/20009 [46:57<1:08:44,  2.86it/s]"
     ]
    },
    {
     "name": "stdout",
     "output_type": "stream",
     "text": [
      "Step 68201, training: ucc_acc=0.9333333373069763 weighted_loss=0.2040705531835556 ucc_loss=0.2040705531835556 ae_loss=0 eval: ucc_acc=1.0 weighted_loss=0.01422684732824564 ucc_loss=0.01422684732824564 ae_loss=0\n"
     ]
    },
    {
     "name": "stderr",
     "output_type": "stream",
     "text": [
      " 41%|████      | 8220/20009 [47:00<1:07:14,  2.92it/s]"
     ]
    },
    {
     "name": "stdout",
     "output_type": "stream",
     "text": [
      "Step 68211, training: ucc_acc=1.0 weighted_loss=0.011095011606812477 ucc_loss=0.011095011606812477 ae_loss=0 eval: ucc_acc=0.9333333373069763 weighted_loss=0.1891634166240692 ucc_loss=0.1891634166240692 ae_loss=0\n"
     ]
    },
    {
     "name": "stderr",
     "output_type": "stream",
     "text": [
      " 41%|████      | 8230/20009 [47:04<1:09:26,  2.83it/s]"
     ]
    },
    {
     "name": "stdout",
     "output_type": "stream",
     "text": [
      "Step 68221, training: ucc_acc=0.9333333373069763 weighted_loss=0.13319382071495056 ucc_loss=0.13319382071495056 ae_loss=0 eval: ucc_acc=1.0 weighted_loss=0.001014129025861621 ucc_loss=0.001014129025861621 ae_loss=0\n"
     ]
    },
    {
     "name": "stderr",
     "output_type": "stream",
     "text": [
      " 41%|████      | 8240/20009 [47:07<1:07:37,  2.90it/s]"
     ]
    },
    {
     "name": "stdout",
     "output_type": "stream",
     "text": [
      "Step 68231, training: ucc_acc=1.0 weighted_loss=0.0003557312593329698 ucc_loss=0.0003557312593329698 ae_loss=0 eval: ucc_acc=1.0 weighted_loss=0.02221703715622425 ucc_loss=0.02221703715622425 ae_loss=0\n"
     ]
    },
    {
     "name": "stderr",
     "output_type": "stream",
     "text": [
      " 41%|████      | 8250/20009 [47:10<1:07:51,  2.89it/s]"
     ]
    },
    {
     "name": "stdout",
     "output_type": "stream",
     "text": [
      "Step 68241, training: ucc_acc=1.0 weighted_loss=0.030749646946787834 ucc_loss=0.030749646946787834 ae_loss=0 eval: ucc_acc=1.0 weighted_loss=0.009303724393248558 ucc_loss=0.009303724393248558 ae_loss=0\n"
     ]
    },
    {
     "name": "stderr",
     "output_type": "stream",
     "text": [
      " 41%|████▏     | 8260/20009 [47:13<1:08:14,  2.87it/s]"
     ]
    },
    {
     "name": "stdout",
     "output_type": "stream",
     "text": [
      "Step 68251, training: ucc_acc=1.0 weighted_loss=0.0034982548095285892 ucc_loss=0.0034982548095285892 ae_loss=0 eval: ucc_acc=1.0 weighted_loss=0.002606946974992752 ucc_loss=0.002606946974992752 ae_loss=0\n"
     ]
    },
    {
     "name": "stderr",
     "output_type": "stream",
     "text": [
      " 41%|████▏     | 8270/20009 [47:16<1:07:56,  2.88it/s]"
     ]
    },
    {
     "name": "stdout",
     "output_type": "stream",
     "text": [
      "Step 68261, training: ucc_acc=1.0 weighted_loss=0.012124201282858849 ucc_loss=0.012124201282858849 ae_loss=0 eval: ucc_acc=1.0 weighted_loss=0.006631709635257721 ucc_loss=0.006631709635257721 ae_loss=0\n"
     ]
    },
    {
     "name": "stderr",
     "output_type": "stream",
     "text": [
      " 41%|████▏     | 8280/20009 [47:19<1:07:52,  2.88it/s]"
     ]
    },
    {
     "name": "stdout",
     "output_type": "stream",
     "text": [
      "Step 68271, training: ucc_acc=0.9333333373069763 weighted_loss=0.15871277451515198 ucc_loss=0.15871277451515198 ae_loss=0 eval: ucc_acc=1.0 weighted_loss=0.029991837218403816 ucc_loss=0.029991837218403816 ae_loss=0\n"
     ]
    },
    {
     "name": "stderr",
     "output_type": "stream",
     "text": [
      " 41%|████▏     | 8290/20009 [47:23<1:07:01,  2.91it/s]"
     ]
    },
    {
     "name": "stdout",
     "output_type": "stream",
     "text": [
      "Step 68281, training: ucc_acc=1.0 weighted_loss=0.008046436123549938 ucc_loss=0.008046436123549938 ae_loss=0 eval: ucc_acc=1.0 weighted_loss=0.004918105434626341 ucc_loss=0.004918105434626341 ae_loss=0\n"
     ]
    },
    {
     "name": "stderr",
     "output_type": "stream",
     "text": [
      " 41%|████▏     | 8300/20009 [47:26<1:09:16,  2.82it/s]"
     ]
    },
    {
     "name": "stdout",
     "output_type": "stream",
     "text": [
      "Step 68291, training: ucc_acc=1.0 weighted_loss=0.006713250186294317 ucc_loss=0.006713250186294317 ae_loss=0 eval: ucc_acc=1.0 weighted_loss=0.00015301670646294951 ucc_loss=0.00015301670646294951 ae_loss=0\n"
     ]
    },
    {
     "name": "stderr",
     "output_type": "stream",
     "text": [
      " 42%|████▏     | 8310/20009 [47:29<1:07:28,  2.89it/s]"
     ]
    },
    {
     "name": "stdout",
     "output_type": "stream",
     "text": [
      "Step 68301, training: ucc_acc=0.9333333373069763 weighted_loss=0.21297584474086761 ucc_loss=0.21297584474086761 ae_loss=0 eval: ucc_acc=0.8666666746139526 weighted_loss=0.3477737605571747 ucc_loss=0.3477737605571747 ae_loss=0\n"
     ]
    },
    {
     "name": "stderr",
     "output_type": "stream",
     "text": [
      " 42%|████▏     | 8320/20009 [47:32<1:08:17,  2.85it/s]"
     ]
    },
    {
     "name": "stdout",
     "output_type": "stream",
     "text": [
      "Step 68311, training: ucc_acc=0.9333333373069763 weighted_loss=0.04948778450489044 ucc_loss=0.04948778450489044 ae_loss=0 eval: ucc_acc=1.0 weighted_loss=0.027669694274663925 ucc_loss=0.027669694274663925 ae_loss=0\n"
     ]
    },
    {
     "name": "stderr",
     "output_type": "stream",
     "text": [
      " 42%|████▏     | 8330/20009 [47:35<1:08:47,  2.83it/s]"
     ]
    },
    {
     "name": "stdout",
     "output_type": "stream",
     "text": [
      "Step 68321, training: ucc_acc=1.0 weighted_loss=0.021963421255350113 ucc_loss=0.021963421255350113 ae_loss=0 eval: ucc_acc=1.0 weighted_loss=0.009461707435548306 ucc_loss=0.009461707435548306 ae_loss=0\n"
     ]
    },
    {
     "name": "stderr",
     "output_type": "stream",
     "text": [
      " 42%|████▏     | 8340/20009 [47:38<1:06:53,  2.91it/s]"
     ]
    },
    {
     "name": "stdout",
     "output_type": "stream",
     "text": [
      "Step 68331, training: ucc_acc=1.0 weighted_loss=0.020039187744259834 ucc_loss=0.020039187744259834 ae_loss=0 eval: ucc_acc=1.0 weighted_loss=0.028546718880534172 ucc_loss=0.028546718880534172 ae_loss=0\n"
     ]
    },
    {
     "name": "stderr",
     "output_type": "stream",
     "text": [
      " 42%|████▏     | 8350/20009 [47:42<1:07:24,  2.88it/s]"
     ]
    },
    {
     "name": "stdout",
     "output_type": "stream",
     "text": [
      "Step 68341, training: ucc_acc=1.0 weighted_loss=0.022084644064307213 ucc_loss=0.022084644064307213 ae_loss=0 eval: ucc_acc=1.0 weighted_loss=0.0003239914367441088 ucc_loss=0.0003239914367441088 ae_loss=0\n"
     ]
    },
    {
     "name": "stderr",
     "output_type": "stream",
     "text": [
      " 42%|████▏     | 8360/20009 [47:45<1:06:54,  2.90it/s]"
     ]
    },
    {
     "name": "stdout",
     "output_type": "stream",
     "text": [
      "Step 68351, training: ucc_acc=1.0 weighted_loss=0.003499037818983197 ucc_loss=0.003499037818983197 ae_loss=0 eval: ucc_acc=1.0 weighted_loss=0.0055930656380951405 ucc_loss=0.0055930656380951405 ae_loss=0\n"
     ]
    },
    {
     "name": "stderr",
     "output_type": "stream",
     "text": [
      " 42%|████▏     | 8370/20009 [47:48<1:09:29,  2.79it/s]"
     ]
    },
    {
     "name": "stdout",
     "output_type": "stream",
     "text": [
      "Step 68361, training: ucc_acc=0.9333333373069763 weighted_loss=0.26184767484664917 ucc_loss=0.26184767484664917 ae_loss=0 eval: ucc_acc=1.0 weighted_loss=0.013327089138329029 ucc_loss=0.013327089138329029 ae_loss=0\n"
     ]
    },
    {
     "name": "stderr",
     "output_type": "stream",
     "text": [
      " 42%|████▏     | 8380/20009 [47:51<1:09:16,  2.80it/s]"
     ]
    },
    {
     "name": "stdout",
     "output_type": "stream",
     "text": [
      "Step 68371, training: ucc_acc=1.0 weighted_loss=0.0076973396353423595 ucc_loss=0.0076973396353423595 ae_loss=0 eval: ucc_acc=1.0 weighted_loss=0.011511990800499916 ucc_loss=0.011511990800499916 ae_loss=0\n"
     ]
    },
    {
     "name": "stderr",
     "output_type": "stream",
     "text": [
      " 42%|████▏     | 8390/20009 [47:54<1:08:20,  2.83it/s]"
     ]
    },
    {
     "name": "stdout",
     "output_type": "stream",
     "text": [
      "Step 68381, training: ucc_acc=1.0 weighted_loss=0.0008862973772920668 ucc_loss=0.0008862973772920668 ae_loss=0 eval: ucc_acc=1.0 weighted_loss=0.007192130666226149 ucc_loss=0.007192130666226149 ae_loss=0\n"
     ]
    },
    {
     "name": "stderr",
     "output_type": "stream",
     "text": [
      " 42%|████▏     | 8400/20009 [47:58<1:07:11,  2.88it/s]"
     ]
    },
    {
     "name": "stdout",
     "output_type": "stream",
     "text": [
      "Step 68391, training: ucc_acc=1.0 weighted_loss=0.030455389991402626 ucc_loss=0.030455389991402626 ae_loss=0 eval: ucc_acc=1.0 weighted_loss=0.04796509072184563 ucc_loss=0.04796509072184563 ae_loss=0\n"
     ]
    },
    {
     "name": "stderr",
     "output_type": "stream",
     "text": [
      " 42%|████▏     | 8410/20009 [48:01<1:08:10,  2.84it/s]"
     ]
    },
    {
     "name": "stdout",
     "output_type": "stream",
     "text": [
      "Step 68401, training: ucc_acc=0.9333333373069763 weighted_loss=0.15285257995128632 ucc_loss=0.15285257995128632 ae_loss=0 eval: ucc_acc=1.0 weighted_loss=0.011932360008358955 ucc_loss=0.011932360008358955 ae_loss=0\n"
     ]
    },
    {
     "name": "stderr",
     "output_type": "stream",
     "text": [
      " 42%|████▏     | 8420/20009 [48:04<1:07:37,  2.86it/s]"
     ]
    },
    {
     "name": "stdout",
     "output_type": "stream",
     "text": [
      "Step 68411, training: ucc_acc=1.0 weighted_loss=0.027373772114515305 ucc_loss=0.027373772114515305 ae_loss=0 eval: ucc_acc=1.0 weighted_loss=0.02203967049717903 ucc_loss=0.02203967049717903 ae_loss=0\n"
     ]
    },
    {
     "name": "stderr",
     "output_type": "stream",
     "text": [
      " 42%|████▏     | 8430/20009 [48:07<1:06:42,  2.89it/s]"
     ]
    },
    {
     "name": "stdout",
     "output_type": "stream",
     "text": [
      "Step 68421, training: ucc_acc=1.0 weighted_loss=0.0054336609318852425 ucc_loss=0.0054336609318852425 ae_loss=0 eval: ucc_acc=1.0 weighted_loss=0.008255609311163425 ucc_loss=0.008255609311163425 ae_loss=0\n"
     ]
    },
    {
     "name": "stderr",
     "output_type": "stream",
     "text": [
      " 42%|████▏     | 8440/20009 [48:10<1:08:11,  2.83it/s]"
     ]
    },
    {
     "name": "stdout",
     "output_type": "stream",
     "text": [
      "Step 68431, training: ucc_acc=1.0 weighted_loss=0.0018318126676604152 ucc_loss=0.0018318126676604152 ae_loss=0 eval: ucc_acc=0.9333333373069763 weighted_loss=0.1800069361925125 ucc_loss=0.1800069361925125 ae_loss=0\n"
     ]
    },
    {
     "name": "stderr",
     "output_type": "stream",
     "text": [
      " 42%|████▏     | 8450/20009 [48:14<1:15:20,  2.56it/s]"
     ]
    },
    {
     "name": "stdout",
     "output_type": "stream",
     "text": [
      "Step 68441, training: ucc_acc=1.0 weighted_loss=0.00019346928456798196 ucc_loss=0.00019346928456798196 ae_loss=0 eval: ucc_acc=1.0 weighted_loss=0.017763009294867516 ucc_loss=0.017763009294867516 ae_loss=0\n"
     ]
    },
    {
     "name": "stderr",
     "output_type": "stream",
     "text": [
      " 42%|████▏     | 8460/20009 [48:17<1:07:46,  2.84it/s]"
     ]
    },
    {
     "name": "stdout",
     "output_type": "stream",
     "text": [
      "Step 68451, training: ucc_acc=0.9333333373069763 weighted_loss=0.19087941944599152 ucc_loss=0.19087941944599152 ae_loss=0 eval: ucc_acc=1.0 weighted_loss=0.005253479816019535 ucc_loss=0.005253479816019535 ae_loss=0\n"
     ]
    },
    {
     "name": "stderr",
     "output_type": "stream",
     "text": [
      " 42%|████▏     | 8470/20009 [48:20<1:06:32,  2.89it/s]"
     ]
    },
    {
     "name": "stdout",
     "output_type": "stream",
     "text": [
      "Step 68461, training: ucc_acc=1.0 weighted_loss=0.012086409144103527 ucc_loss=0.012086409144103527 ae_loss=0 eval: ucc_acc=1.0 weighted_loss=0.059657707810401917 ucc_loss=0.059657707810401917 ae_loss=0\n"
     ]
    },
    {
     "name": "stderr",
     "output_type": "stream",
     "text": [
      " 42%|████▏     | 8480/20009 [48:23<1:10:39,  2.72it/s]"
     ]
    },
    {
     "name": "stdout",
     "output_type": "stream",
     "text": [
      "Step 68471, training: ucc_acc=1.0 weighted_loss=0.018780386075377464 ucc_loss=0.018780386075377464 ae_loss=0 eval: ucc_acc=1.0 weighted_loss=0.006742524914443493 ucc_loss=0.006742524914443493 ae_loss=0\n"
     ]
    },
    {
     "name": "stderr",
     "output_type": "stream",
     "text": [
      " 42%|████▏     | 8490/20009 [48:26<1:07:23,  2.85it/s]"
     ]
    },
    {
     "name": "stdout",
     "output_type": "stream",
     "text": [
      "Step 68481, training: ucc_acc=1.0 weighted_loss=0.0008272721897810698 ucc_loss=0.0008272721897810698 ae_loss=0 eval: ucc_acc=1.0 weighted_loss=0.011923923157155514 ucc_loss=0.011923923157155514 ae_loss=0\n"
     ]
    },
    {
     "name": "stderr",
     "output_type": "stream",
     "text": [
      " 42%|████▏     | 8500/20009 [48:30<1:08:20,  2.81it/s]"
     ]
    },
    {
     "name": "stdout",
     "output_type": "stream",
     "text": [
      "Step 68491, training: ucc_acc=0.9333333373069763 weighted_loss=0.22241991758346558 ucc_loss=0.22241991758346558 ae_loss=0 eval: ucc_acc=1.0 weighted_loss=0.00021300645312294364 ucc_loss=0.00021300645312294364 ae_loss=0\n"
     ]
    },
    {
     "name": "stderr",
     "output_type": "stream",
     "text": [
      " 43%|████▎     | 8510/20009 [48:33<1:07:21,  2.85it/s]"
     ]
    },
    {
     "name": "stdout",
     "output_type": "stream",
     "text": [
      "Step 68501, training: ucc_acc=1.0 weighted_loss=0.026493538171052933 ucc_loss=0.026493538171052933 ae_loss=0 eval: ucc_acc=0.9333333373069763 weighted_loss=0.17501823604106903 ucc_loss=0.17501823604106903 ae_loss=0\n"
     ]
    },
    {
     "name": "stderr",
     "output_type": "stream",
     "text": [
      " 43%|████▎     | 8520/20009 [48:36<1:07:41,  2.83it/s]"
     ]
    },
    {
     "name": "stdout",
     "output_type": "stream",
     "text": [
      "Step 68511, training: ucc_acc=0.9333333373069763 weighted_loss=0.16151626408100128 ucc_loss=0.16151626408100128 ae_loss=0 eval: ucc_acc=1.0 weighted_loss=0.003491078270599246 ucc_loss=0.003491078270599246 ae_loss=0\n"
     ]
    },
    {
     "name": "stderr",
     "output_type": "stream",
     "text": [
      " 43%|████▎     | 8530/20009 [48:39<1:06:24,  2.88it/s]"
     ]
    },
    {
     "name": "stdout",
     "output_type": "stream",
     "text": [
      "Step 68521, training: ucc_acc=1.0 weighted_loss=0.00019438138406258076 ucc_loss=0.00019438138406258076 ae_loss=0 eval: ucc_acc=1.0 weighted_loss=0.012589403428137302 ucc_loss=0.012589403428137302 ae_loss=0\n"
     ]
    },
    {
     "name": "stderr",
     "output_type": "stream",
     "text": [
      " 43%|████▎     | 8540/20009 [48:42<1:07:09,  2.85it/s]"
     ]
    },
    {
     "name": "stdout",
     "output_type": "stream",
     "text": [
      "Step 68531, training: ucc_acc=0.9333333373069763 weighted_loss=0.08488598465919495 ucc_loss=0.08488598465919495 ae_loss=0 eval: ucc_acc=1.0 weighted_loss=0.00041041240910999477 ucc_loss=0.00041041240910999477 ae_loss=0\n"
     ]
    },
    {
     "name": "stderr",
     "output_type": "stream",
     "text": [
      " 43%|████▎     | 8550/20009 [48:46<1:05:06,  2.93it/s]"
     ]
    },
    {
     "name": "stdout",
     "output_type": "stream",
     "text": [
      "Step 68541, training: ucc_acc=1.0 weighted_loss=8.349317067768425e-05 ucc_loss=8.349317067768425e-05 ae_loss=0 eval: ucc_acc=0.8666666746139526 weighted_loss=0.20296399295330048 ucc_loss=0.20296399295330048 ae_loss=0\n"
     ]
    },
    {
     "name": "stderr",
     "output_type": "stream",
     "text": [
      " 43%|████▎     | 8560/20009 [48:49<1:07:25,  2.83it/s]"
     ]
    },
    {
     "name": "stdout",
     "output_type": "stream",
     "text": [
      "Step 68551, training: ucc_acc=1.0 weighted_loss=0.012049267999827862 ucc_loss=0.012049267999827862 ae_loss=0 eval: ucc_acc=1.0 weighted_loss=0.007334175519645214 ucc_loss=0.007334175519645214 ae_loss=0\n"
     ]
    },
    {
     "name": "stderr",
     "output_type": "stream",
     "text": [
      " 43%|████▎     | 8570/20009 [48:52<1:07:48,  2.81it/s]"
     ]
    },
    {
     "name": "stdout",
     "output_type": "stream",
     "text": [
      "Step 68561, training: ucc_acc=1.0 weighted_loss=0.0029487810097634792 ucc_loss=0.0029487810097634792 ae_loss=0 eval: ucc_acc=1.0 weighted_loss=0.004479935392737389 ucc_loss=0.004479935392737389 ae_loss=0\n"
     ]
    },
    {
     "name": "stderr",
     "output_type": "stream",
     "text": [
      " 43%|████▎     | 8580/20009 [48:55<1:07:13,  2.83it/s]"
     ]
    },
    {
     "name": "stdout",
     "output_type": "stream",
     "text": [
      "Step 68571, training: ucc_acc=1.0 weighted_loss=0.0020719014573842287 ucc_loss=0.0020719014573842287 ae_loss=0 eval: ucc_acc=1.0 weighted_loss=0.012401137501001358 ucc_loss=0.012401137501001358 ae_loss=0\n"
     ]
    },
    {
     "name": "stderr",
     "output_type": "stream",
     "text": [
      " 43%|████▎     | 8590/20009 [48:59<1:05:52,  2.89it/s]"
     ]
    },
    {
     "name": "stdout",
     "output_type": "stream",
     "text": [
      "Step 68581, training: ucc_acc=1.0 weighted_loss=0.0029143719002604485 ucc_loss=0.0029143719002604485 ae_loss=0 eval: ucc_acc=1.0 weighted_loss=0.0034150334540754557 ucc_loss=0.0034150334540754557 ae_loss=0\n"
     ]
    },
    {
     "name": "stderr",
     "output_type": "stream",
     "text": [
      " 43%|████▎     | 8600/20009 [49:02<1:09:02,  2.75it/s]"
     ]
    },
    {
     "name": "stdout",
     "output_type": "stream",
     "text": [
      "Step 68591, training: ucc_acc=1.0 weighted_loss=0.012191844172775745 ucc_loss=0.012191844172775745 ae_loss=0 eval: ucc_acc=0.9333333373069763 weighted_loss=0.08682868629693985 ucc_loss=0.08682868629693985 ae_loss=0\n"
     ]
    },
    {
     "name": "stderr",
     "output_type": "stream",
     "text": [
      " 43%|████▎     | 8610/20009 [49:05<1:05:32,  2.90it/s]"
     ]
    },
    {
     "name": "stdout",
     "output_type": "stream",
     "text": [
      "Step 68601, training: ucc_acc=1.0 weighted_loss=0.01552831195294857 ucc_loss=0.01552831195294857 ae_loss=0 eval: ucc_acc=1.0 weighted_loss=0.013427911326289177 ucc_loss=0.013427911326289177 ae_loss=0\n"
     ]
    },
    {
     "name": "stderr",
     "output_type": "stream",
     "text": [
      " 43%|████▎     | 8620/20009 [49:08<1:09:11,  2.74it/s]"
     ]
    },
    {
     "name": "stdout",
     "output_type": "stream",
     "text": [
      "Step 68611, training: ucc_acc=1.0 weighted_loss=0.012770584784448147 ucc_loss=0.012770584784448147 ae_loss=0 eval: ucc_acc=1.0 weighted_loss=0.006031656637787819 ucc_loss=0.006031656637787819 ae_loss=0\n"
     ]
    },
    {
     "name": "stderr",
     "output_type": "stream",
     "text": [
      " 43%|████▎     | 8630/20009 [49:12<1:19:50,  2.38it/s]"
     ]
    },
    {
     "name": "stdout",
     "output_type": "stream",
     "text": [
      "Step 68621, training: ucc_acc=1.0 weighted_loss=0.006202499382197857 ucc_loss=0.006202499382197857 ae_loss=0 eval: ucc_acc=1.0 weighted_loss=0.00020774410222657025 ucc_loss=0.00020774410222657025 ae_loss=0\n"
     ]
    },
    {
     "name": "stderr",
     "output_type": "stream",
     "text": [
      " 43%|████▎     | 8640/20009 [49:16<1:23:28,  2.27it/s]"
     ]
    },
    {
     "name": "stdout",
     "output_type": "stream",
     "text": [
      "Step 68631, training: ucc_acc=1.0 weighted_loss=0.006421501282602549 ucc_loss=0.006421501282602549 ae_loss=0 eval: ucc_acc=1.0 weighted_loss=0.05766579136252403 ucc_loss=0.05766579136252403 ae_loss=0\n"
     ]
    },
    {
     "name": "stderr",
     "output_type": "stream",
     "text": [
      " 43%|████▎     | 8650/20009 [49:20<1:19:43,  2.37it/s]"
     ]
    },
    {
     "name": "stdout",
     "output_type": "stream",
     "text": [
      "Step 68641, training: ucc_acc=1.0 weighted_loss=0.022895466536283493 ucc_loss=0.022895466536283493 ae_loss=0 eval: ucc_acc=1.0 weighted_loss=0.01711997576057911 ucc_loss=0.01711997576057911 ae_loss=0\n"
     ]
    },
    {
     "name": "stderr",
     "output_type": "stream",
     "text": [
      " 43%|████▎     | 8660/20009 [49:24<1:09:03,  2.74it/s]"
     ]
    },
    {
     "name": "stdout",
     "output_type": "stream",
     "text": [
      "Step 68651, training: ucc_acc=1.0 weighted_loss=0.007385531906038523 ucc_loss=0.007385531906038523 ae_loss=0 eval: ucc_acc=0.9333333373069763 weighted_loss=0.07287952303886414 ucc_loss=0.07287952303886414 ae_loss=0\n"
     ]
    },
    {
     "name": "stderr",
     "output_type": "stream",
     "text": [
      " 43%|████▎     | 8670/20009 [49:27<1:14:49,  2.53it/s]"
     ]
    },
    {
     "name": "stdout",
     "output_type": "stream",
     "text": [
      "Step 68661, training: ucc_acc=1.0 weighted_loss=0.008947684429585934 ucc_loss=0.008947684429585934 ae_loss=0 eval: ucc_acc=1.0 weighted_loss=0.002375394571572542 ucc_loss=0.002375394571572542 ae_loss=0\n"
     ]
    },
    {
     "name": "stderr",
     "output_type": "stream",
     "text": [
      " 43%|████▎     | 8680/20009 [49:30<1:06:58,  2.82it/s]"
     ]
    },
    {
     "name": "stdout",
     "output_type": "stream",
     "text": [
      "Step 68671, training: ucc_acc=1.0 weighted_loss=0.007769654039293528 ucc_loss=0.007769654039293528 ae_loss=0 eval: ucc_acc=1.0 weighted_loss=0.04141409695148468 ucc_loss=0.04141409695148468 ae_loss=0\n"
     ]
    },
    {
     "name": "stderr",
     "output_type": "stream",
     "text": [
      " 43%|████▎     | 8690/20009 [49:33<1:05:25,  2.88it/s]"
     ]
    },
    {
     "name": "stdout",
     "output_type": "stream",
     "text": [
      "Step 68681, training: ucc_acc=1.0 weighted_loss=0.00630445871502161 ucc_loss=0.00630445871502161 ae_loss=0 eval: ucc_acc=0.9333333373069763 weighted_loss=0.17190851271152496 ucc_loss=0.17190851271152496 ae_loss=0\n"
     ]
    },
    {
     "name": "stderr",
     "output_type": "stream",
     "text": [
      " 43%|████▎     | 8700/20009 [49:36<1:06:43,  2.82it/s]"
     ]
    },
    {
     "name": "stdout",
     "output_type": "stream",
     "text": [
      "Step 68691, training: ucc_acc=1.0 weighted_loss=0.03418922796845436 ucc_loss=0.03418922796845436 ae_loss=0 eval: ucc_acc=1.0 weighted_loss=0.019952526316046715 ucc_loss=0.019952526316046715 ae_loss=0\n"
     ]
    },
    {
     "name": "stderr",
     "output_type": "stream",
     "text": [
      " 44%|████▎     | 8710/20009 [49:40<1:05:23,  2.88it/s]"
     ]
    },
    {
     "name": "stdout",
     "output_type": "stream",
     "text": [
      "Step 68701, training: ucc_acc=1.0 weighted_loss=0.001825336366891861 ucc_loss=0.001825336366891861 ae_loss=0 eval: ucc_acc=1.0 weighted_loss=0.008481845259666443 ucc_loss=0.008481845259666443 ae_loss=0\n"
     ]
    },
    {
     "name": "stderr",
     "output_type": "stream",
     "text": [
      " 44%|████▎     | 8720/20009 [49:43<1:06:36,  2.82it/s]"
     ]
    },
    {
     "name": "stdout",
     "output_type": "stream",
     "text": [
      "Step 68711, training: ucc_acc=1.0 weighted_loss=0.0003711323661264032 ucc_loss=0.0003711323661264032 ae_loss=0 eval: ucc_acc=1.0 weighted_loss=0.013002146035432816 ucc_loss=0.013002146035432816 ae_loss=0\n"
     ]
    },
    {
     "name": "stderr",
     "output_type": "stream",
     "text": [
      " 44%|████▎     | 8730/20009 [49:46<1:05:36,  2.87it/s]"
     ]
    },
    {
     "name": "stdout",
     "output_type": "stream",
     "text": [
      "Step 68721, training: ucc_acc=1.0 weighted_loss=0.003370029618963599 ucc_loss=0.003370029618963599 ae_loss=0 eval: ucc_acc=1.0 weighted_loss=0.01152027864009142 ucc_loss=0.01152027864009142 ae_loss=0\n"
     ]
    },
    {
     "name": "stderr",
     "output_type": "stream",
     "text": [
      " 44%|████▎     | 8740/20009 [49:49<1:05:25,  2.87it/s]"
     ]
    },
    {
     "name": "stdout",
     "output_type": "stream",
     "text": [
      "Step 68731, training: ucc_acc=1.0 weighted_loss=0.001908747828565538 ucc_loss=0.001908747828565538 ae_loss=0 eval: ucc_acc=1.0 weighted_loss=3.88660300814081e-05 ucc_loss=3.88660300814081e-05 ae_loss=0\n"
     ]
    },
    {
     "name": "stderr",
     "output_type": "stream",
     "text": [
      " 44%|████▎     | 8750/20009 [49:52<1:06:07,  2.84it/s]"
     ]
    },
    {
     "name": "stdout",
     "output_type": "stream",
     "text": [
      "Step 68741, training: ucc_acc=1.0 weighted_loss=0.006803357973694801 ucc_loss=0.006803357973694801 ae_loss=0 eval: ucc_acc=1.0 weighted_loss=0.0013752452796325088 ucc_loss=0.0013752452796325088 ae_loss=0\n"
     ]
    },
    {
     "name": "stderr",
     "output_type": "stream",
     "text": [
      " 44%|████▍     | 8760/20009 [49:56<1:05:46,  2.85it/s]"
     ]
    },
    {
     "name": "stdout",
     "output_type": "stream",
     "text": [
      "Step 68751, training: ucc_acc=0.9333333373069763 weighted_loss=0.13407357037067413 ucc_loss=0.13407357037067413 ae_loss=0 eval: ucc_acc=1.0 weighted_loss=0.05710674822330475 ucc_loss=0.05710674822330475 ae_loss=0\n"
     ]
    },
    {
     "name": "stderr",
     "output_type": "stream",
     "text": [
      " 44%|████▍     | 8770/20009 [49:59<1:04:56,  2.88it/s]"
     ]
    },
    {
     "name": "stdout",
     "output_type": "stream",
     "text": [
      "Step 68761, training: ucc_acc=1.0 weighted_loss=0.04552030190825462 ucc_loss=0.04552030190825462 ae_loss=0 eval: ucc_acc=1.0 weighted_loss=0.0011369101703166962 ucc_loss=0.0011369101703166962 ae_loss=0\n"
     ]
    },
    {
     "name": "stderr",
     "output_type": "stream",
     "text": [
      " 44%|████▍     | 8780/20009 [50:02<1:05:39,  2.85it/s]"
     ]
    },
    {
     "name": "stdout",
     "output_type": "stream",
     "text": [
      "Step 68771, training: ucc_acc=1.0 weighted_loss=0.018837422132492065 ucc_loss=0.018837422132492065 ae_loss=0 eval: ucc_acc=1.0 weighted_loss=0.012684728018939495 ucc_loss=0.012684728018939495 ae_loss=0\n"
     ]
    },
    {
     "name": "stderr",
     "output_type": "stream",
     "text": [
      " 44%|████▍     | 8790/20009 [50:05<1:05:50,  2.84it/s]"
     ]
    },
    {
     "name": "stdout",
     "output_type": "stream",
     "text": [
      "Step 68781, training: ucc_acc=1.0 weighted_loss=0.005027745850384235 ucc_loss=0.005027745850384235 ae_loss=0 eval: ucc_acc=1.0 weighted_loss=0.004790143575519323 ucc_loss=0.004790143575519323 ae_loss=0\n"
     ]
    },
    {
     "name": "stderr",
     "output_type": "stream",
     "text": [
      " 44%|████▍     | 8800/20009 [50:08<1:05:46,  2.84it/s]"
     ]
    },
    {
     "name": "stdout",
     "output_type": "stream",
     "text": [
      "Step 68791, training: ucc_acc=1.0 weighted_loss=0.009371699765324593 ucc_loss=0.009371699765324593 ae_loss=0 eval: ucc_acc=1.0 weighted_loss=0.003596698632463813 ucc_loss=0.003596698632463813 ae_loss=0\n"
     ]
    },
    {
     "name": "stderr",
     "output_type": "stream",
     "text": [
      " 44%|████▍     | 8810/20009 [50:11<1:05:08,  2.87it/s]"
     ]
    },
    {
     "name": "stdout",
     "output_type": "stream",
     "text": [
      "Step 68801, training: ucc_acc=1.0 weighted_loss=0.012024985626339912 ucc_loss=0.012024985626339912 ae_loss=0 eval: ucc_acc=1.0 weighted_loss=0.01860186643898487 ucc_loss=0.01860186643898487 ae_loss=0\n"
     ]
    },
    {
     "name": "stderr",
     "output_type": "stream",
     "text": [
      " 44%|████▍     | 8820/20009 [50:15<1:06:40,  2.80it/s]"
     ]
    },
    {
     "name": "stdout",
     "output_type": "stream",
     "text": [
      "Step 68811, training: ucc_acc=1.0 weighted_loss=0.004654546733945608 ucc_loss=0.004654546733945608 ae_loss=0 eval: ucc_acc=0.9333333373069763 weighted_loss=0.18612457811832428 ucc_loss=0.18612457811832428 ae_loss=0\n"
     ]
    },
    {
     "name": "stderr",
     "output_type": "stream",
     "text": [
      " 44%|████▍     | 8830/20009 [50:18<1:06:08,  2.82it/s]"
     ]
    },
    {
     "name": "stdout",
     "output_type": "stream",
     "text": [
      "Step 68821, training: ucc_acc=1.0 weighted_loss=0.02099543996155262 ucc_loss=0.02099543996155262 ae_loss=0 eval: ucc_acc=1.0 weighted_loss=0.004500723909586668 ucc_loss=0.004500723909586668 ae_loss=0\n"
     ]
    },
    {
     "name": "stderr",
     "output_type": "stream",
     "text": [
      " 44%|████▍     | 8840/20009 [50:21<1:05:16,  2.85it/s]"
     ]
    },
    {
     "name": "stdout",
     "output_type": "stream",
     "text": [
      "Step 68831, training: ucc_acc=1.0 weighted_loss=0.00027886926545761526 ucc_loss=0.00027886926545761526 ae_loss=0 eval: ucc_acc=1.0 weighted_loss=0.012184994295239449 ucc_loss=0.012184994295239449 ae_loss=0\n"
     ]
    },
    {
     "name": "stderr",
     "output_type": "stream",
     "text": [
      " 44%|████▍     | 8850/20009 [50:24<1:04:47,  2.87it/s]"
     ]
    },
    {
     "name": "stdout",
     "output_type": "stream",
     "text": [
      "Step 68841, training: ucc_acc=0.9333333373069763 weighted_loss=0.14936934411525726 ucc_loss=0.14936934411525726 ae_loss=0 eval: ucc_acc=1.0 weighted_loss=0.0028267581947147846 ucc_loss=0.0028267581947147846 ae_loss=0\n"
     ]
    },
    {
     "name": "stderr",
     "output_type": "stream",
     "text": [
      " 44%|████▍     | 8860/20009 [50:28<1:05:36,  2.83it/s]"
     ]
    },
    {
     "name": "stdout",
     "output_type": "stream",
     "text": [
      "Step 68851, training: ucc_acc=1.0 weighted_loss=0.009045054204761982 ucc_loss=0.009045054204761982 ae_loss=0 eval: ucc_acc=1.0 weighted_loss=0.03292824327945709 ucc_loss=0.03292824327945709 ae_loss=0\n"
     ]
    },
    {
     "name": "stderr",
     "output_type": "stream",
     "text": [
      " 44%|████▍     | 8870/20009 [50:31<1:04:35,  2.87it/s]"
     ]
    },
    {
     "name": "stdout",
     "output_type": "stream",
     "text": [
      "Step 68861, training: ucc_acc=1.0 weighted_loss=0.032488949596881866 ucc_loss=0.032488949596881866 ae_loss=0 eval: ucc_acc=1.0 weighted_loss=0.025984350591897964 ucc_loss=0.025984350591897964 ae_loss=0\n"
     ]
    },
    {
     "name": "stderr",
     "output_type": "stream",
     "text": [
      " 44%|████▍     | 8880/20009 [50:34<1:04:00,  2.90it/s]"
     ]
    },
    {
     "name": "stdout",
     "output_type": "stream",
     "text": [
      "Step 68871, training: ucc_acc=1.0 weighted_loss=0.006508730351924896 ucc_loss=0.006508730351924896 ae_loss=0 eval: ucc_acc=1.0 weighted_loss=0.022233307361602783 ucc_loss=0.022233307361602783 ae_loss=0\n"
     ]
    },
    {
     "name": "stderr",
     "output_type": "stream",
     "text": [
      " 44%|████▍     | 8890/20009 [50:37<1:04:31,  2.87it/s]"
     ]
    },
    {
     "name": "stdout",
     "output_type": "stream",
     "text": [
      "Step 68881, training: ucc_acc=1.0 weighted_loss=0.005866518709808588 ucc_loss=0.005866518709808588 ae_loss=0 eval: ucc_acc=1.0 weighted_loss=0.00023152607900556177 ucc_loss=0.00023152607900556177 ae_loss=0\n"
     ]
    },
    {
     "name": "stderr",
     "output_type": "stream",
     "text": [
      " 44%|████▍     | 8900/20009 [50:40<1:06:12,  2.80it/s]"
     ]
    },
    {
     "name": "stdout",
     "output_type": "stream",
     "text": [
      "Step 68891, training: ucc_acc=1.0 weighted_loss=0.012758663855493069 ucc_loss=0.012758663855493069 ae_loss=0 eval: ucc_acc=1.0 weighted_loss=0.0003282037505414337 ucc_loss=0.0003282037505414337 ae_loss=0\n"
     ]
    },
    {
     "name": "stderr",
     "output_type": "stream",
     "text": [
      " 45%|████▍     | 8910/20009 [50:43<1:04:05,  2.89it/s]"
     ]
    },
    {
     "name": "stdout",
     "output_type": "stream",
     "text": [
      "Step 68901, training: ucc_acc=1.0 weighted_loss=0.0014089239994063973 ucc_loss=0.0014089239994063973 ae_loss=0 eval: ucc_acc=1.0 weighted_loss=0.01150153111666441 ucc_loss=0.01150153111666441 ae_loss=0\n"
     ]
    },
    {
     "name": "stderr",
     "output_type": "stream",
     "text": [
      " 45%|████▍     | 8920/20009 [50:47<1:05:56,  2.80it/s]"
     ]
    },
    {
     "name": "stdout",
     "output_type": "stream",
     "text": [
      "Step 68911, training: ucc_acc=1.0 weighted_loss=0.014173024334013462 ucc_loss=0.014173024334013462 ae_loss=0 eval: ucc_acc=1.0 weighted_loss=0.011407379060983658 ucc_loss=0.011407379060983658 ae_loss=0\n"
     ]
    },
    {
     "name": "stderr",
     "output_type": "stream",
     "text": [
      " 45%|████▍     | 8930/20009 [50:50<1:04:12,  2.88it/s]"
     ]
    },
    {
     "name": "stdout",
     "output_type": "stream",
     "text": [
      "Step 68921, training: ucc_acc=1.0 weighted_loss=0.008868304081261158 ucc_loss=0.008868304081261158 ae_loss=0 eval: ucc_acc=1.0 weighted_loss=0.06815135478973389 ucc_loss=0.06815135478973389 ae_loss=0\n"
     ]
    },
    {
     "name": "stderr",
     "output_type": "stream",
     "text": [
      " 45%|████▍     | 8940/20009 [50:53<1:05:15,  2.83it/s]"
     ]
    },
    {
     "name": "stdout",
     "output_type": "stream",
     "text": [
      "Step 68931, training: ucc_acc=1.0 weighted_loss=0.01120426133275032 ucc_loss=0.01120426133275032 ae_loss=0 eval: ucc_acc=1.0 weighted_loss=0.01703616976737976 ucc_loss=0.01703616976737976 ae_loss=0\n"
     ]
    },
    {
     "name": "stderr",
     "output_type": "stream",
     "text": [
      " 45%|████▍     | 8950/20009 [50:56<1:04:12,  2.87it/s]"
     ]
    },
    {
     "name": "stdout",
     "output_type": "stream",
     "text": [
      "Step 68941, training: ucc_acc=1.0 weighted_loss=0.005605160724371672 ucc_loss=0.005605160724371672 ae_loss=0 eval: ucc_acc=1.0 weighted_loss=0.0014311628183349967 ucc_loss=0.0014311628183349967 ae_loss=0\n"
     ]
    },
    {
     "name": "stderr",
     "output_type": "stream",
     "text": [
      " 45%|████▍     | 8960/20009 [50:59<1:02:54,  2.93it/s]"
     ]
    },
    {
     "name": "stdout",
     "output_type": "stream",
     "text": [
      "Step 68951, training: ucc_acc=1.0 weighted_loss=0.009310218505561352 ucc_loss=0.009310218505561352 ae_loss=0 eval: ucc_acc=1.0 weighted_loss=0.00575612485408783 ucc_loss=0.00575612485408783 ae_loss=0\n"
     ]
    },
    {
     "name": "stderr",
     "output_type": "stream",
     "text": [
      " 45%|████▍     | 8970/20009 [51:03<1:05:25,  2.81it/s]"
     ]
    },
    {
     "name": "stdout",
     "output_type": "stream",
     "text": [
      "Step 68961, training: ucc_acc=1.0 weighted_loss=0.01279155258089304 ucc_loss=0.01279155258089304 ae_loss=0 eval: ucc_acc=1.0 weighted_loss=0.033466558903455734 ucc_loss=0.033466558903455734 ae_loss=0\n"
     ]
    },
    {
     "name": "stderr",
     "output_type": "stream",
     "text": [
      " 45%|████▍     | 8980/20009 [51:06<1:04:05,  2.87it/s]"
     ]
    },
    {
     "name": "stdout",
     "output_type": "stream",
     "text": [
      "Step 68971, training: ucc_acc=1.0 weighted_loss=0.010006766766309738 ucc_loss=0.010006766766309738 ae_loss=0 eval: ucc_acc=1.0 weighted_loss=0.0032204636372625828 ucc_loss=0.0032204636372625828 ae_loss=0\n"
     ]
    },
    {
     "name": "stderr",
     "output_type": "stream",
     "text": [
      " 45%|████▍     | 8990/20009 [51:09<1:05:42,  2.80it/s]"
     ]
    },
    {
     "name": "stdout",
     "output_type": "stream",
     "text": [
      "Step 68981, training: ucc_acc=0.8666666746139526 weighted_loss=0.3575957417488098 ucc_loss=0.3575957417488098 ae_loss=0 eval: ucc_acc=1.0 weighted_loss=0.0007988405996002257 ucc_loss=0.0007988405996002257 ae_loss=0\n"
     ]
    },
    {
     "name": "stderr",
     "output_type": "stream",
     "text": [
      " 45%|████▍     | 9000/20009 [51:12<1:03:47,  2.88it/s]"
     ]
    },
    {
     "name": "stdout",
     "output_type": "stream",
     "text": [
      "Step 68991, training: ucc_acc=0.9333333373069763 weighted_loss=0.05842958018183708 ucc_loss=0.05842958018183708 ae_loss=0 eval: ucc_acc=1.0 weighted_loss=0.06039884313941002 ucc_loss=0.06039884313941002 ae_loss=0\n"
     ]
    },
    {
     "name": "stderr",
     "output_type": "stream",
     "text": [
      " 45%|████▌     | 9010/20009 [51:15<1:03:26,  2.89it/s]"
     ]
    },
    {
     "name": "stdout",
     "output_type": "stream",
     "text": [
      "Step 69001, training: ucc_acc=1.0 weighted_loss=0.00048056969535537064 ucc_loss=0.00048056969535537064 ae_loss=0 eval: ucc_acc=0.9333333373069763 weighted_loss=0.12994705140590668 ucc_loss=0.12994705140590668 ae_loss=0\n"
     ]
    },
    {
     "name": "stderr",
     "output_type": "stream",
     "text": [
      " 45%|████▌     | 9020/20009 [51:19<1:06:04,  2.77it/s]"
     ]
    },
    {
     "name": "stdout",
     "output_type": "stream",
     "text": [
      "Step 69011, training: ucc_acc=1.0 weighted_loss=0.008975313045084476 ucc_loss=0.008975313045084476 ae_loss=0 eval: ucc_acc=1.0 weighted_loss=0.00019548907584976405 ucc_loss=0.00019548907584976405 ae_loss=0\n"
     ]
    },
    {
     "name": "stderr",
     "output_type": "stream",
     "text": [
      " 45%|████▌     | 9030/20009 [51:22<1:03:09,  2.90it/s]"
     ]
    },
    {
     "name": "stdout",
     "output_type": "stream",
     "text": [
      "Step 69021, training: ucc_acc=0.9333333373069763 weighted_loss=0.10223130881786346 ucc_loss=0.10223130881786346 ae_loss=0 eval: ucc_acc=1.0 weighted_loss=0.011157019063830376 ucc_loss=0.011157019063830376 ae_loss=0\n"
     ]
    },
    {
     "name": "stderr",
     "output_type": "stream",
     "text": [
      " 45%|████▌     | 9040/20009 [51:25<1:04:10,  2.85it/s]"
     ]
    },
    {
     "name": "stdout",
     "output_type": "stream",
     "text": [
      "Step 69031, training: ucc_acc=1.0 weighted_loss=0.017800217494368553 ucc_loss=0.017800217494368553 ae_loss=0 eval: ucc_acc=1.0 weighted_loss=0.016034133732318878 ucc_loss=0.016034133732318878 ae_loss=0\n"
     ]
    },
    {
     "name": "stderr",
     "output_type": "stream",
     "text": [
      " 45%|████▌     | 9050/20009 [51:28<1:02:43,  2.91it/s]"
     ]
    },
    {
     "name": "stdout",
     "output_type": "stream",
     "text": [
      "Step 69041, training: ucc_acc=1.0 weighted_loss=0.00903987418860197 ucc_loss=0.00903987418860197 ae_loss=0 eval: ucc_acc=1.0 weighted_loss=0.00016593541658949107 ucc_loss=0.00016593541658949107 ae_loss=0\n"
     ]
    },
    {
     "name": "stderr",
     "output_type": "stream",
     "text": [
      " 45%|████▌     | 9060/20009 [51:31<1:03:53,  2.86it/s]"
     ]
    },
    {
     "name": "stdout",
     "output_type": "stream",
     "text": [
      "Step 69051, training: ucc_acc=1.0 weighted_loss=1.5616098608006723e-05 ucc_loss=1.5616098608006723e-05 ae_loss=0 eval: ucc_acc=1.0 weighted_loss=0.022575797513127327 ucc_loss=0.022575797513127327 ae_loss=0\n"
     ]
    },
    {
     "name": "stderr",
     "output_type": "stream",
     "text": [
      " 45%|████▌     | 9070/20009 [51:34<1:03:02,  2.89it/s]"
     ]
    },
    {
     "name": "stdout",
     "output_type": "stream",
     "text": [
      "Step 69061, training: ucc_acc=1.0 weighted_loss=0.018191007897257805 ucc_loss=0.018191007897257805 ae_loss=0 eval: ucc_acc=1.0 weighted_loss=0.005370933096855879 ucc_loss=0.005370933096855879 ae_loss=0\n"
     ]
    },
    {
     "name": "stderr",
     "output_type": "stream",
     "text": [
      " 45%|████▌     | 9080/20009 [51:38<1:03:25,  2.87it/s]"
     ]
    },
    {
     "name": "stdout",
     "output_type": "stream",
     "text": [
      "Step 69071, training: ucc_acc=0.9333333373069763 weighted_loss=0.18963344395160675 ucc_loss=0.18963344395160675 ae_loss=0 eval: ucc_acc=1.0 weighted_loss=0.002169892657548189 ucc_loss=0.002169892657548189 ae_loss=0\n"
     ]
    },
    {
     "name": "stderr",
     "output_type": "stream",
     "text": [
      " 45%|████▌     | 9090/20009 [51:41<1:03:57,  2.85it/s]"
     ]
    },
    {
     "name": "stdout",
     "output_type": "stream",
     "text": [
      "Step 69081, training: ucc_acc=1.0 weighted_loss=7.678885594941676e-05 ucc_loss=7.678885594941676e-05 ae_loss=0 eval: ucc_acc=1.0 weighted_loss=0.030132878571748734 ucc_loss=0.030132878571748734 ae_loss=0\n"
     ]
    },
    {
     "name": "stderr",
     "output_type": "stream",
     "text": [
      " 45%|████▌     | 9100/20009 [51:44<1:02:08,  2.93it/s]"
     ]
    },
    {
     "name": "stdout",
     "output_type": "stream",
     "text": [
      "Step 69091, training: ucc_acc=1.0 weighted_loss=0.006086220499128103 ucc_loss=0.006086220499128103 ae_loss=0 eval: ucc_acc=0.9333333373069763 weighted_loss=0.2223055213689804 ucc_loss=0.2223055213689804 ae_loss=0\n"
     ]
    },
    {
     "name": "stderr",
     "output_type": "stream",
     "text": [
      " 46%|████▌     | 9110/20009 [51:47<1:04:08,  2.83it/s]"
     ]
    },
    {
     "name": "stdout",
     "output_type": "stream",
     "text": [
      "Step 69101, training: ucc_acc=1.0 weighted_loss=0.005322232376784086 ucc_loss=0.005322232376784086 ae_loss=0 eval: ucc_acc=1.0 weighted_loss=0.03343772515654564 ucc_loss=0.03343772515654564 ae_loss=0\n"
     ]
    },
    {
     "name": "stderr",
     "output_type": "stream",
     "text": [
      " 46%|████▌     | 9120/20009 [51:50<1:04:27,  2.82it/s]"
     ]
    },
    {
     "name": "stdout",
     "output_type": "stream",
     "text": [
      "Step 69111, training: ucc_acc=1.0 weighted_loss=0.006024033762514591 ucc_loss=0.006024033762514591 ae_loss=0 eval: ucc_acc=1.0 weighted_loss=0.00023596806568093598 ucc_loss=0.00023596806568093598 ae_loss=0\n"
     ]
    },
    {
     "name": "stderr",
     "output_type": "stream",
     "text": [
      " 46%|████▌     | 9130/20009 [51:54<1:06:02,  2.75it/s]"
     ]
    },
    {
     "name": "stdout",
     "output_type": "stream",
     "text": [
      "Step 69121, training: ucc_acc=1.0 weighted_loss=0.00013310735812410712 ucc_loss=0.00013310735812410712 ae_loss=0 eval: ucc_acc=1.0 weighted_loss=0.027931567281484604 ucc_loss=0.027931567281484604 ae_loss=0\n"
     ]
    },
    {
     "name": "stderr",
     "output_type": "stream",
     "text": [
      " 46%|████▌     | 9140/20009 [51:57<1:05:56,  2.75it/s]"
     ]
    },
    {
     "name": "stdout",
     "output_type": "stream",
     "text": [
      "Step 69131, training: ucc_acc=1.0 weighted_loss=0.007634918205440044 ucc_loss=0.007634918205440044 ae_loss=0 eval: ucc_acc=1.0 weighted_loss=0.00037295251968316734 ucc_loss=0.00037295251968316734 ae_loss=0\n"
     ]
    },
    {
     "name": "stderr",
     "output_type": "stream",
     "text": [
      " 46%|████▌     | 9150/20009 [52:00<1:03:05,  2.87it/s]"
     ]
    },
    {
     "name": "stdout",
     "output_type": "stream",
     "text": [
      "Step 69141, training: ucc_acc=1.0 weighted_loss=0.018388787284493446 ucc_loss=0.018388787284493446 ae_loss=0 eval: ucc_acc=1.0 weighted_loss=0.0017146398313343525 ucc_loss=0.0017146398313343525 ae_loss=0\n"
     ]
    },
    {
     "name": "stderr",
     "output_type": "stream",
     "text": [
      " 46%|████▌     | 9160/20009 [52:03<1:03:33,  2.85it/s]"
     ]
    },
    {
     "name": "stdout",
     "output_type": "stream",
     "text": [
      "Step 69151, training: ucc_acc=1.0 weighted_loss=0.001948414254002273 ucc_loss=0.001948414254002273 ae_loss=0 eval: ucc_acc=1.0 weighted_loss=0.011460933834314346 ucc_loss=0.011460933834314346 ae_loss=0\n"
     ]
    },
    {
     "name": "stderr",
     "output_type": "stream",
     "text": [
      " 46%|████▌     | 9170/20009 [52:06<1:01:27,  2.94it/s]"
     ]
    },
    {
     "name": "stdout",
     "output_type": "stream",
     "text": [
      "Step 69161, training: ucc_acc=1.0 weighted_loss=0.0019304718589410186 ucc_loss=0.0019304718589410186 ae_loss=0 eval: ucc_acc=0.9333333373069763 weighted_loss=0.15839911997318268 ucc_loss=0.15839911997318268 ae_loss=0\n"
     ]
    },
    {
     "name": "stderr",
     "output_type": "stream",
     "text": [
      " 46%|████▌     | 9180/20009 [52:10<1:02:54,  2.87it/s]"
     ]
    },
    {
     "name": "stdout",
     "output_type": "stream",
     "text": [
      "Step 69171, training: ucc_acc=1.0 weighted_loss=0.005758876912295818 ucc_loss=0.005758876912295818 ae_loss=0 eval: ucc_acc=1.0 weighted_loss=0.019325457513332367 ucc_loss=0.019325457513332367 ae_loss=0\n"
     ]
    },
    {
     "name": "stderr",
     "output_type": "stream",
     "text": [
      " 46%|████▌     | 9190/20009 [52:13<1:03:20,  2.85it/s]"
     ]
    },
    {
     "name": "stdout",
     "output_type": "stream",
     "text": [
      "Step 69181, training: ucc_acc=0.9333333373069763 weighted_loss=0.05903034284710884 ucc_loss=0.05903034284710884 ae_loss=0 eval: ucc_acc=1.0 weighted_loss=0.00816589966416359 ucc_loss=0.00816589966416359 ae_loss=0\n"
     ]
    },
    {
     "name": "stderr",
     "output_type": "stream",
     "text": [
      " 46%|████▌     | 9200/20009 [52:16<1:03:22,  2.84it/s]"
     ]
    },
    {
     "name": "stdout",
     "output_type": "stream",
     "text": [
      "Step 69191, training: ucc_acc=1.0 weighted_loss=0.012548045255243778 ucc_loss=0.012548045255243778 ae_loss=0 eval: ucc_acc=1.0 weighted_loss=0.009334790520370007 ucc_loss=0.009334790520370007 ae_loss=0\n"
     ]
    },
    {
     "name": "stderr",
     "output_type": "stream",
     "text": [
      " 46%|████▌     | 9210/20009 [52:19<1:02:00,  2.90it/s]"
     ]
    },
    {
     "name": "stdout",
     "output_type": "stream",
     "text": [
      "Step 69201, training: ucc_acc=1.0 weighted_loss=0.03215767815709114 ucc_loss=0.03215767815709114 ae_loss=0 eval: ucc_acc=0.8666666746139526 weighted_loss=0.17314742505550385 ucc_loss=0.17314742505550385 ae_loss=0\n"
     ]
    },
    {
     "name": "stderr",
     "output_type": "stream",
     "text": [
      " 46%|████▌     | 9220/20009 [52:22<1:01:27,  2.93it/s]"
     ]
    },
    {
     "name": "stdout",
     "output_type": "stream",
     "text": [
      "Step 69211, training: ucc_acc=1.0 weighted_loss=0.0022252534981817007 ucc_loss=0.0022252534981817007 ae_loss=0 eval: ucc_acc=0.9333333373069763 weighted_loss=0.17508989572525024 ucc_loss=0.17508989572525024 ae_loss=0\n"
     ]
    },
    {
     "name": "stderr",
     "output_type": "stream",
     "text": [
      " 46%|████▌     | 9230/20009 [52:25<1:02:30,  2.87it/s]"
     ]
    },
    {
     "name": "stdout",
     "output_type": "stream",
     "text": [
      "Step 69221, training: ucc_acc=1.0 weighted_loss=0.0003281827666796744 ucc_loss=0.0003281827666796744 ae_loss=0 eval: ucc_acc=1.0 weighted_loss=0.002116935793310404 ucc_loss=0.002116935793310404 ae_loss=0\n"
     ]
    },
    {
     "name": "stderr",
     "output_type": "stream",
     "text": [
      " 46%|████▌     | 9240/20009 [52:29<1:03:57,  2.81it/s]"
     ]
    },
    {
     "name": "stdout",
     "output_type": "stream",
     "text": [
      "Step 69231, training: ucc_acc=0.8666666746139526 weighted_loss=0.2838779091835022 ucc_loss=0.2838779091835022 ae_loss=0 eval: ucc_acc=1.0 weighted_loss=0.016441939398646355 ucc_loss=0.016441939398646355 ae_loss=0\n"
     ]
    },
    {
     "name": "stderr",
     "output_type": "stream",
     "text": [
      " 46%|████▌     | 9250/20009 [52:32<1:02:39,  2.86it/s]"
     ]
    },
    {
     "name": "stdout",
     "output_type": "stream",
     "text": [
      "Step 69241, training: ucc_acc=1.0 weighted_loss=0.04389868676662445 ucc_loss=0.04389868676662445 ae_loss=0 eval: ucc_acc=1.0 weighted_loss=0.016607660800218582 ucc_loss=0.016607660800218582 ae_loss=0\n"
     ]
    },
    {
     "name": "stderr",
     "output_type": "stream",
     "text": [
      " 46%|████▋     | 9260/20009 [52:35<1:03:33,  2.82it/s]"
     ]
    },
    {
     "name": "stdout",
     "output_type": "stream",
     "text": [
      "Step 69251, training: ucc_acc=1.0 weighted_loss=0.01581062190234661 ucc_loss=0.01581062190234661 ae_loss=0 eval: ucc_acc=1.0 weighted_loss=0.022062072530388832 ucc_loss=0.022062072530388832 ae_loss=0\n"
     ]
    },
    {
     "name": "stderr",
     "output_type": "stream",
     "text": [
      " 46%|████▋     | 9270/20009 [52:38<1:00:10,  2.97it/s]"
     ]
    },
    {
     "name": "stdout",
     "output_type": "stream",
     "text": [
      "Step 69261, training: ucc_acc=1.0 weighted_loss=0.004026941955089569 ucc_loss=0.004026941955089569 ae_loss=0 eval: ucc_acc=0.9333333373069763 weighted_loss=0.08764992654323578 ucc_loss=0.08764992654323578 ae_loss=0\n"
     ]
    },
    {
     "name": "stderr",
     "output_type": "stream",
     "text": [
      " 46%|████▋     | 9280/20009 [52:41<1:02:04,  2.88it/s]"
     ]
    },
    {
     "name": "stdout",
     "output_type": "stream",
     "text": [
      "Step 69271, training: ucc_acc=0.9333333373069763 weighted_loss=0.17117629945278168 ucc_loss=0.17117629945278168 ae_loss=0 eval: ucc_acc=1.0 weighted_loss=0.0017625089967623353 ucc_loss=0.0017625089967623353 ae_loss=0\n"
     ]
    },
    {
     "name": "stderr",
     "output_type": "stream",
     "text": [
      " 46%|████▋     | 9290/20009 [52:44<1:01:29,  2.91it/s]"
     ]
    },
    {
     "name": "stdout",
     "output_type": "stream",
     "text": [
      "Step 69281, training: ucc_acc=1.0 weighted_loss=0.016491184011101723 ucc_loss=0.016491184011101723 ae_loss=0 eval: ucc_acc=1.0 weighted_loss=0.02745991013944149 ucc_loss=0.02745991013944149 ae_loss=0\n"
     ]
    },
    {
     "name": "stderr",
     "output_type": "stream",
     "text": [
      " 46%|████▋     | 9300/20009 [52:48<1:03:05,  2.83it/s]"
     ]
    },
    {
     "name": "stdout",
     "output_type": "stream",
     "text": [
      "Step 69291, training: ucc_acc=1.0 weighted_loss=0.02763798087835312 ucc_loss=0.02763798087835312 ae_loss=0 eval: ucc_acc=1.0 weighted_loss=0.01175310742110014 ucc_loss=0.01175310742110014 ae_loss=0\n"
     ]
    },
    {
     "name": "stderr",
     "output_type": "stream",
     "text": [
      " 47%|████▋     | 9310/20009 [52:51<1:03:52,  2.79it/s]"
     ]
    },
    {
     "name": "stdout",
     "output_type": "stream",
     "text": [
      "Step 69301, training: ucc_acc=1.0 weighted_loss=0.0066173626109957695 ucc_loss=0.0066173626109957695 ae_loss=0 eval: ucc_acc=1.0 weighted_loss=0.0034320626873522997 ucc_loss=0.0034320626873522997 ae_loss=0\n"
     ]
    },
    {
     "name": "stderr",
     "output_type": "stream",
     "text": [
      " 47%|████▋     | 9320/20009 [52:54<1:02:00,  2.87it/s]"
     ]
    },
    {
     "name": "stdout",
     "output_type": "stream",
     "text": [
      "Step 69311, training: ucc_acc=1.0 weighted_loss=0.0031340380664914846 ucc_loss=0.0031340380664914846 ae_loss=0 eval: ucc_acc=1.0 weighted_loss=0.0006066971691325307 ucc_loss=0.0006066971691325307 ae_loss=0\n"
     ]
    },
    {
     "name": "stderr",
     "output_type": "stream",
     "text": [
      " 47%|████▋     | 9330/20009 [52:57<1:02:03,  2.87it/s]"
     ]
    },
    {
     "name": "stdout",
     "output_type": "stream",
     "text": [
      "Step 69321, training: ucc_acc=1.0 weighted_loss=0.023392487317323685 ucc_loss=0.023392487317323685 ae_loss=0 eval: ucc_acc=1.0 weighted_loss=0.015754334628582 ucc_loss=0.015754334628582 ae_loss=0\n"
     ]
    },
    {
     "name": "stderr",
     "output_type": "stream",
     "text": [
      " 47%|████▋     | 9340/20009 [53:00<1:00:16,  2.95it/s]"
     ]
    },
    {
     "name": "stdout",
     "output_type": "stream",
     "text": [
      "Step 69331, training: ucc_acc=1.0 weighted_loss=0.001144707784987986 ucc_loss=0.001144707784987986 ae_loss=0 eval: ucc_acc=0.9333333373069763 weighted_loss=0.15246346592903137 ucc_loss=0.15246346592903137 ae_loss=0\n"
     ]
    },
    {
     "name": "stderr",
     "output_type": "stream",
     "text": [
      " 47%|████▋     | 9350/20009 [53:03<1:02:36,  2.84it/s]"
     ]
    },
    {
     "name": "stdout",
     "output_type": "stream",
     "text": [
      "Step 69341, training: ucc_acc=1.0 weighted_loss=0.0031112998258322477 ucc_loss=0.0031112998258322477 ae_loss=0 eval: ucc_acc=1.0 weighted_loss=0.003898062277585268 ucc_loss=0.003898062277585268 ae_loss=0\n"
     ]
    },
    {
     "name": "stderr",
     "output_type": "stream",
     "text": [
      " 47%|████▋     | 9360/20009 [53:07<1:02:16,  2.85it/s]"
     ]
    },
    {
     "name": "stdout",
     "output_type": "stream",
     "text": [
      "Step 69351, training: ucc_acc=1.0 weighted_loss=0.00648521538823843 ucc_loss=0.00648521538823843 ae_loss=0 eval: ucc_acc=1.0 weighted_loss=0.010971978306770325 ucc_loss=0.010971978306770325 ae_loss=0\n"
     ]
    },
    {
     "name": "stderr",
     "output_type": "stream",
     "text": [
      " 47%|████▋     | 9370/20009 [53:10<1:01:51,  2.87it/s]"
     ]
    },
    {
     "name": "stdout",
     "output_type": "stream",
     "text": [
      "Step 69361, training: ucc_acc=1.0 weighted_loss=0.00044237039401195943 ucc_loss=0.00044237039401195943 ae_loss=0 eval: ucc_acc=1.0 weighted_loss=0.0054623037576675415 ucc_loss=0.0054623037576675415 ae_loss=0\n"
     ]
    },
    {
     "name": "stderr",
     "output_type": "stream",
     "text": [
      " 47%|████▋     | 9380/20009 [53:13<1:00:12,  2.94it/s]"
     ]
    },
    {
     "name": "stdout",
     "output_type": "stream",
     "text": [
      "Step 69371, training: ucc_acc=1.0 weighted_loss=0.001489197718910873 ucc_loss=0.001489197718910873 ae_loss=0 eval: ucc_acc=1.0 weighted_loss=0.011629467830061913 ucc_loss=0.011629467830061913 ae_loss=0\n"
     ]
    },
    {
     "name": "stderr",
     "output_type": "stream",
     "text": [
      " 47%|████▋     | 9390/20009 [53:16<1:04:18,  2.75it/s]"
     ]
    },
    {
     "name": "stdout",
     "output_type": "stream",
     "text": [
      "Step 69381, training: ucc_acc=1.0 weighted_loss=0.007839408703148365 ucc_loss=0.007839408703148365 ae_loss=0 eval: ucc_acc=1.0 weighted_loss=0.017934028059244156 ucc_loss=0.017934028059244156 ae_loss=0\n"
     ]
    },
    {
     "name": "stderr",
     "output_type": "stream",
     "text": [
      " 47%|████▋     | 9400/20009 [53:19<1:01:43,  2.86it/s]"
     ]
    },
    {
     "name": "stdout",
     "output_type": "stream",
     "text": [
      "Step 69391, training: ucc_acc=1.0 weighted_loss=0.04008982330560684 ucc_loss=0.04008982330560684 ae_loss=0 eval: ucc_acc=1.0 weighted_loss=0.020888037979602814 ucc_loss=0.020888037979602814 ae_loss=0\n"
     ]
    },
    {
     "name": "stderr",
     "output_type": "stream",
     "text": [
      " 47%|████▋     | 9410/20009 [53:23<1:03:37,  2.78it/s]"
     ]
    },
    {
     "name": "stdout",
     "output_type": "stream",
     "text": [
      "Step 69401, training: ucc_acc=1.0 weighted_loss=0.010169785469770432 ucc_loss=0.010169785469770432 ae_loss=0 eval: ucc_acc=1.0 weighted_loss=0.03281242772936821 ucc_loss=0.03281242772936821 ae_loss=0\n"
     ]
    },
    {
     "name": "stderr",
     "output_type": "stream",
     "text": [
      " 47%|████▋     | 9420/20009 [53:26<1:01:09,  2.89it/s]"
     ]
    },
    {
     "name": "stdout",
     "output_type": "stream",
     "text": [
      "Step 69411, training: ucc_acc=1.0 weighted_loss=0.01761721819639206 ucc_loss=0.01761721819639206 ae_loss=0 eval: ucc_acc=1.0 weighted_loss=0.00787651538848877 ucc_loss=0.00787651538848877 ae_loss=0\n"
     ]
    },
    {
     "name": "stderr",
     "output_type": "stream",
     "text": [
      " 47%|████▋     | 9430/20009 [53:29<1:01:52,  2.85it/s]"
     ]
    },
    {
     "name": "stdout",
     "output_type": "stream",
     "text": [
      "Step 69421, training: ucc_acc=0.9333333373069763 weighted_loss=0.19495561718940735 ucc_loss=0.19495561718940735 ae_loss=0 eval: ucc_acc=1.0 weighted_loss=0.003861300414428115 ucc_loss=0.003861300414428115 ae_loss=0\n"
     ]
    },
    {
     "name": "stderr",
     "output_type": "stream",
     "text": [
      " 47%|████▋     | 9440/20009 [53:32<1:01:50,  2.85it/s]"
     ]
    },
    {
     "name": "stdout",
     "output_type": "stream",
     "text": [
      "Step 69431, training: ucc_acc=0.9333333373069763 weighted_loss=0.15367747843265533 ucc_loss=0.15367747843265533 ae_loss=0 eval: ucc_acc=1.0 weighted_loss=0.0007128389552235603 ucc_loss=0.0007128389552235603 ae_loss=0\n"
     ]
    },
    {
     "name": "stderr",
     "output_type": "stream",
     "text": [
      " 47%|████▋     | 9450/20009 [53:35<1:00:46,  2.90it/s]"
     ]
    },
    {
     "name": "stdout",
     "output_type": "stream",
     "text": [
      "Step 69441, training: ucc_acc=1.0 weighted_loss=0.019640445709228516 ucc_loss=0.019640445709228516 ae_loss=0 eval: ucc_acc=1.0 weighted_loss=0.013663461431860924 ucc_loss=0.013663461431860924 ae_loss=0\n"
     ]
    },
    {
     "name": "stderr",
     "output_type": "stream",
     "text": [
      " 47%|████▋     | 9460/20009 [53:39<1:02:12,  2.83it/s]"
     ]
    },
    {
     "name": "stdout",
     "output_type": "stream",
     "text": [
      "Step 69451, training: ucc_acc=1.0 weighted_loss=0.0005397590575739741 ucc_loss=0.0005397590575739741 ae_loss=0 eval: ucc_acc=1.0 weighted_loss=0.011855380609631538 ucc_loss=0.011855380609631538 ae_loss=0\n"
     ]
    },
    {
     "name": "stderr",
     "output_type": "stream",
     "text": [
      " 47%|████▋     | 9470/20009 [53:42<1:02:59,  2.79it/s]"
     ]
    },
    {
     "name": "stdout",
     "output_type": "stream",
     "text": [
      "Step 69461, training: ucc_acc=1.0 weighted_loss=0.005404119845479727 ucc_loss=0.005404119845479727 ae_loss=0 eval: ucc_acc=1.0 weighted_loss=0.00029766737134195864 ucc_loss=0.00029766737134195864 ae_loss=0\n"
     ]
    },
    {
     "name": "stderr",
     "output_type": "stream",
     "text": [
      " 47%|████▋     | 9480/20009 [53:45<1:01:54,  2.83it/s]"
     ]
    },
    {
     "name": "stdout",
     "output_type": "stream",
     "text": [
      "Step 69471, training: ucc_acc=1.0 weighted_loss=0.002358856378123164 ucc_loss=0.002358856378123164 ae_loss=0 eval: ucc_acc=1.0 weighted_loss=0.0003989612159784883 ucc_loss=0.0003989612159784883 ae_loss=0\n"
     ]
    },
    {
     "name": "stderr",
     "output_type": "stream",
     "text": [
      " 47%|████▋     | 9490/20009 [53:48<58:31,  3.00it/s]  "
     ]
    },
    {
     "name": "stdout",
     "output_type": "stream",
     "text": [
      "Step 69481, training: ucc_acc=0.9333333373069763 weighted_loss=0.10581310838460922 ucc_loss=0.10581310838460922 ae_loss=0 eval: ucc_acc=0.9333333373069763 weighted_loss=0.13220803439617157 ucc_loss=0.13220803439617157 ae_loss=0\n"
     ]
    },
    {
     "name": "stderr",
     "output_type": "stream",
     "text": [
      " 47%|████▋     | 9500/20009 [53:51<1:01:35,  2.84it/s]"
     ]
    },
    {
     "name": "stdout",
     "output_type": "stream",
     "text": [
      "Step 69491, training: ucc_acc=1.0 weighted_loss=0.025326460599899292 ucc_loss=0.025326460599899292 ae_loss=0 eval: ucc_acc=1.0 weighted_loss=0.026067687198519707 ucc_loss=0.026067687198519707 ae_loss=0\n"
     ]
    },
    {
     "name": "stderr",
     "output_type": "stream",
     "text": [
      " 48%|████▊     | 9510/20009 [53:54<1:00:37,  2.89it/s]"
     ]
    },
    {
     "name": "stdout",
     "output_type": "stream",
     "text": [
      "Step 69501, training: ucc_acc=1.0 weighted_loss=0.002533883322030306 ucc_loss=0.002533883322030306 ae_loss=0 eval: ucc_acc=1.0 weighted_loss=0.005642874166369438 ucc_loss=0.005642874166369438 ae_loss=0\n"
     ]
    },
    {
     "name": "stderr",
     "output_type": "stream",
     "text": [
      " 48%|████▊     | 9520/20009 [53:58<1:01:24,  2.85it/s]"
     ]
    },
    {
     "name": "stdout",
     "output_type": "stream",
     "text": [
      "Step 69511, training: ucc_acc=1.0 weighted_loss=5.8324185374658555e-05 ucc_loss=5.8324185374658555e-05 ae_loss=0 eval: ucc_acc=1.0 weighted_loss=0.0003099582390859723 ucc_loss=0.0003099582390859723 ae_loss=0\n"
     ]
    },
    {
     "name": "stderr",
     "output_type": "stream",
     "text": [
      " 48%|████▊     | 9530/20009 [54:01<1:00:30,  2.89it/s]"
     ]
    },
    {
     "name": "stdout",
     "output_type": "stream",
     "text": [
      "Step 69521, training: ucc_acc=1.0 weighted_loss=0.0011711857514455914 ucc_loss=0.0011711857514455914 ae_loss=0 eval: ucc_acc=1.0 weighted_loss=0.013283912092447281 ucc_loss=0.013283912092447281 ae_loss=0\n"
     ]
    },
    {
     "name": "stderr",
     "output_type": "stream",
     "text": [
      " 48%|████▊     | 9540/20009 [54:04<1:00:53,  2.87it/s]"
     ]
    },
    {
     "name": "stdout",
     "output_type": "stream",
     "text": [
      "Step 69531, training: ucc_acc=1.0 weighted_loss=3.8913029129616916e-05 ucc_loss=3.8913029129616916e-05 ae_loss=0 eval: ucc_acc=1.0 weighted_loss=0.014487190172076225 ucc_loss=0.014487190172076225 ae_loss=0\n"
     ]
    },
    {
     "name": "stderr",
     "output_type": "stream",
     "text": [
      " 48%|████▊     | 9550/20009 [54:07<59:34,  2.93it/s]  "
     ]
    },
    {
     "name": "stdout",
     "output_type": "stream",
     "text": [
      "Step 69541, training: ucc_acc=1.0 weighted_loss=0.006877628155052662 ucc_loss=0.006877628155052662 ae_loss=0 eval: ucc_acc=0.9333333373069763 weighted_loss=0.1977933943271637 ucc_loss=0.1977933943271637 ae_loss=0\n"
     ]
    },
    {
     "name": "stderr",
     "output_type": "stream",
     "text": [
      " 48%|████▊     | 9560/20009 [54:10<1:01:32,  2.83it/s]"
     ]
    },
    {
     "name": "stdout",
     "output_type": "stream",
     "text": [
      "Step 69551, training: ucc_acc=1.0 weighted_loss=0.017078416422009468 ucc_loss=0.017078416422009468 ae_loss=0 eval: ucc_acc=1.0 weighted_loss=0.036167386919260025 ucc_loss=0.036167386919260025 ae_loss=0\n"
     ]
    },
    {
     "name": "stderr",
     "output_type": "stream",
     "text": [
      " 48%|████▊     | 9570/20009 [54:13<1:01:14,  2.84it/s]"
     ]
    },
    {
     "name": "stdout",
     "output_type": "stream",
     "text": [
      "Step 69561, training: ucc_acc=1.0 weighted_loss=0.01605180650949478 ucc_loss=0.01605180650949478 ae_loss=0 eval: ucc_acc=1.0 weighted_loss=0.03671897202730179 ucc_loss=0.03671897202730179 ae_loss=0\n"
     ]
    },
    {
     "name": "stderr",
     "output_type": "stream",
     "text": [
      " 48%|████▊     | 9580/20009 [54:17<1:01:03,  2.85it/s]"
     ]
    },
    {
     "name": "stdout",
     "output_type": "stream",
     "text": [
      "Step 69571, training: ucc_acc=1.0 weighted_loss=0.019801147282123566 ucc_loss=0.019801147282123566 ae_loss=0 eval: ucc_acc=1.0 weighted_loss=0.018596941605210304 ucc_loss=0.018596941605210304 ae_loss=0\n"
     ]
    },
    {
     "name": "stderr",
     "output_type": "stream",
     "text": [
      " 48%|████▊     | 9590/20009 [54:20<1:00:51,  2.85it/s]"
     ]
    },
    {
     "name": "stdout",
     "output_type": "stream",
     "text": [
      "Step 69581, training: ucc_acc=1.0 weighted_loss=0.01535929273813963 ucc_loss=0.01535929273813963 ae_loss=0 eval: ucc_acc=1.0 weighted_loss=0.014044485054910183 ucc_loss=0.014044485054910183 ae_loss=0\n"
     ]
    },
    {
     "name": "stderr",
     "output_type": "stream",
     "text": [
      " 48%|████▊     | 9600/20009 [54:23<1:02:41,  2.77it/s]"
     ]
    },
    {
     "name": "stdout",
     "output_type": "stream",
     "text": [
      "Step 69591, training: ucc_acc=1.0 weighted_loss=0.004640968516469002 ucc_loss=0.004640968516469002 ae_loss=0 eval: ucc_acc=1.0 weighted_loss=0.00033071835059672594 ucc_loss=0.00033071835059672594 ae_loss=0\n"
     ]
    },
    {
     "name": "stderr",
     "output_type": "stream",
     "text": [
      " 48%|████▊     | 9610/20009 [54:26<59:42,  2.90it/s]  "
     ]
    },
    {
     "name": "stdout",
     "output_type": "stream",
     "text": [
      "Step 69601, training: ucc_acc=0.9333333373069763 weighted_loss=0.24007627367973328 ucc_loss=0.24007627367973328 ae_loss=0 eval: ucc_acc=1.0 weighted_loss=0.009576407261192799 ucc_loss=0.009576407261192799 ae_loss=0\n"
     ]
    },
    {
     "name": "stderr",
     "output_type": "stream",
     "text": [
      " 48%|████▊     | 9620/20009 [54:29<59:26,  2.91it/s]"
     ]
    },
    {
     "name": "stdout",
     "output_type": "stream",
     "text": [
      "Step 69611, training: ucc_acc=1.0 weighted_loss=0.010495574213564396 ucc_loss=0.010495574213564396 ae_loss=0 eval: ucc_acc=1.0 weighted_loss=5.563770901062526e-05 ucc_loss=5.563770901062526e-05 ae_loss=0\n"
     ]
    },
    {
     "name": "stderr",
     "output_type": "stream",
     "text": [
      " 48%|████▊     | 9630/20009 [54:33<1:03:13,  2.74it/s]"
     ]
    },
    {
     "name": "stdout",
     "output_type": "stream",
     "text": [
      "Step 69621, training: ucc_acc=1.0 weighted_loss=0.006272113416343927 ucc_loss=0.006272113416343927 ae_loss=0 eval: ucc_acc=1.0 weighted_loss=0.013049851171672344 ucc_loss=0.013049851171672344 ae_loss=0\n"
     ]
    },
    {
     "name": "stderr",
     "output_type": "stream",
     "text": [
      " 48%|████▊     | 9640/20009 [54:36<1:01:36,  2.81it/s]"
     ]
    },
    {
     "name": "stdout",
     "output_type": "stream",
     "text": [
      "Step 69631, training: ucc_acc=1.0 weighted_loss=0.017984382808208466 ucc_loss=0.017984382808208466 ae_loss=0 eval: ucc_acc=1.0 weighted_loss=0.0010365500347688794 ucc_loss=0.0010365500347688794 ae_loss=0\n"
     ]
    },
    {
     "name": "stderr",
     "output_type": "stream",
     "text": [
      " 48%|████▊     | 9650/20009 [54:39<1:00:22,  2.86it/s]"
     ]
    },
    {
     "name": "stdout",
     "output_type": "stream",
     "text": [
      "Step 69641, training: ucc_acc=1.0 weighted_loss=0.005663901101797819 ucc_loss=0.005663901101797819 ae_loss=0 eval: ucc_acc=1.0 weighted_loss=0.009900899603962898 ucc_loss=0.009900899603962898 ae_loss=0\n"
     ]
    },
    {
     "name": "stderr",
     "output_type": "stream",
     "text": [
      " 48%|████▊     | 9660/20009 [54:42<59:34,  2.90it/s]  "
     ]
    },
    {
     "name": "stdout",
     "output_type": "stream",
     "text": [
      "Step 69651, training: ucc_acc=1.0 weighted_loss=0.019873838871717453 ucc_loss=0.019873838871717453 ae_loss=0 eval: ucc_acc=1.0 weighted_loss=0.006488816346973181 ucc_loss=0.006488816346973181 ae_loss=0\n"
     ]
    },
    {
     "name": "stderr",
     "output_type": "stream",
     "text": [
      " 48%|████▊     | 9670/20009 [54:46<1:00:06,  2.87it/s]"
     ]
    },
    {
     "name": "stdout",
     "output_type": "stream",
     "text": [
      "Step 69661, training: ucc_acc=1.0 weighted_loss=0.007337327580899 ucc_loss=0.007337327580899 ae_loss=0 eval: ucc_acc=1.0 weighted_loss=0.02224903739988804 ucc_loss=0.02224903739988804 ae_loss=0\n"
     ]
    },
    {
     "name": "stderr",
     "output_type": "stream",
     "text": [
      " 48%|████▊     | 9680/20009 [54:49<59:52,  2.88it/s]  "
     ]
    },
    {
     "name": "stdout",
     "output_type": "stream",
     "text": [
      "Step 69671, training: ucc_acc=1.0 weighted_loss=0.01274559274315834 ucc_loss=0.01274559274315834 ae_loss=0 eval: ucc_acc=1.0 weighted_loss=0.01508692093193531 ucc_loss=0.01508692093193531 ae_loss=0\n"
     ]
    },
    {
     "name": "stderr",
     "output_type": "stream",
     "text": [
      " 48%|████▊     | 9690/20009 [54:52<59:30,  2.89it/s]"
     ]
    },
    {
     "name": "stdout",
     "output_type": "stream",
     "text": [
      "Step 69681, training: ucc_acc=1.0 weighted_loss=0.01605995185673237 ucc_loss=0.01605995185673237 ae_loss=0 eval: ucc_acc=0.9333333373069763 weighted_loss=0.16961945593357086 ucc_loss=0.16961945593357086 ae_loss=0\n"
     ]
    },
    {
     "name": "stderr",
     "output_type": "stream",
     "text": [
      " 48%|████▊     | 9700/20009 [54:55<59:06,  2.91it/s]"
     ]
    },
    {
     "name": "stdout",
     "output_type": "stream",
     "text": [
      "Step 69691, training: ucc_acc=1.0 weighted_loss=0.008313036523759365 ucc_loss=0.008313036523759365 ae_loss=0 eval: ucc_acc=1.0 weighted_loss=0.001972983591258526 ucc_loss=0.001972983591258526 ae_loss=0\n"
     ]
    },
    {
     "name": "stderr",
     "output_type": "stream",
     "text": [
      " 49%|████▊     | 9710/20009 [54:58<1:00:16,  2.85it/s]"
     ]
    },
    {
     "name": "stdout",
     "output_type": "stream",
     "text": [
      "Step 69701, training: ucc_acc=1.0 weighted_loss=0.016249943524599075 ucc_loss=0.016249943524599075 ae_loss=0 eval: ucc_acc=1.0 weighted_loss=0.002614338416606188 ucc_loss=0.002614338416606188 ae_loss=0\n"
     ]
    },
    {
     "name": "stderr",
     "output_type": "stream",
     "text": [
      " 49%|████▊     | 9720/20009 [55:01<58:15,  2.94it/s]  "
     ]
    },
    {
     "name": "stdout",
     "output_type": "stream",
     "text": [
      "Step 69711, training: ucc_acc=1.0 weighted_loss=0.013243555091321468 ucc_loss=0.013243555091321468 ae_loss=0 eval: ucc_acc=1.0 weighted_loss=0.013802125118672848 ucc_loss=0.013802125118672848 ae_loss=0\n"
     ]
    },
    {
     "name": "stderr",
     "output_type": "stream",
     "text": [
      " 49%|████▊     | 9730/20009 [55:04<1:00:03,  2.85it/s]"
     ]
    },
    {
     "name": "stdout",
     "output_type": "stream",
     "text": [
      "Step 69721, training: ucc_acc=1.0 weighted_loss=0.01988922245800495 ucc_loss=0.01988922245800495 ae_loss=0 eval: ucc_acc=1.0 weighted_loss=0.0013957463670521975 ucc_loss=0.0013957463670521975 ae_loss=0\n"
     ]
    },
    {
     "name": "stderr",
     "output_type": "stream",
     "text": [
      " 49%|████▊     | 9740/20009 [55:08<59:42,  2.87it/s]  "
     ]
    },
    {
     "name": "stdout",
     "output_type": "stream",
     "text": [
      "Step 69731, training: ucc_acc=1.0 weighted_loss=0.007662957068532705 ucc_loss=0.007662957068532705 ae_loss=0 eval: ucc_acc=1.0 weighted_loss=0.000377336167730391 ucc_loss=0.000377336167730391 ae_loss=0\n"
     ]
    },
    {
     "name": "stderr",
     "output_type": "stream",
     "text": [
      " 49%|████▊     | 9750/20009 [55:11<58:09,  2.94it/s]"
     ]
    },
    {
     "name": "stdout",
     "output_type": "stream",
     "text": [
      "Step 69741, training: ucc_acc=1.0 weighted_loss=0.02216113731265068 ucc_loss=0.02216113731265068 ae_loss=0 eval: ucc_acc=0.9333333373069763 weighted_loss=0.1717536747455597 ucc_loss=0.1717536747455597 ae_loss=0\n"
     ]
    },
    {
     "name": "stderr",
     "output_type": "stream",
     "text": [
      " 49%|████▉     | 9760/20009 [55:14<59:44,  2.86it/s]"
     ]
    },
    {
     "name": "stdout",
     "output_type": "stream",
     "text": [
      "Step 69751, training: ucc_acc=1.0 weighted_loss=0.004927877802401781 ucc_loss=0.004927877802401781 ae_loss=0 eval: ucc_acc=1.0 weighted_loss=0.0004817562294192612 ucc_loss=0.0004817562294192612 ae_loss=0\n"
     ]
    },
    {
     "name": "stderr",
     "output_type": "stream",
     "text": [
      " 49%|████▉     | 9770/20009 [55:17<59:24,  2.87it/s]"
     ]
    },
    {
     "name": "stdout",
     "output_type": "stream",
     "text": [
      "Step 69761, training: ucc_acc=0.9333333373069763 weighted_loss=0.3062972128391266 ucc_loss=0.3062972128391266 ae_loss=0 eval: ucc_acc=1.0 weighted_loss=0.005309113301336765 ucc_loss=0.005309113301336765 ae_loss=0\n"
     ]
    },
    {
     "name": "stderr",
     "output_type": "stream",
     "text": [
      " 49%|████▉     | 9780/20009 [55:20<58:39,  2.91it/s]  "
     ]
    },
    {
     "name": "stdout",
     "output_type": "stream",
     "text": [
      "Step 69771, training: ucc_acc=1.0 weighted_loss=0.014335584826767445 ucc_loss=0.014335584826767445 ae_loss=0 eval: ucc_acc=1.0 weighted_loss=0.02025330625474453 ucc_loss=0.02025330625474453 ae_loss=0\n"
     ]
    },
    {
     "name": "stderr",
     "output_type": "stream",
     "text": [
      " 49%|████▉     | 9790/20009 [55:23<58:35,  2.91it/s]"
     ]
    },
    {
     "name": "stdout",
     "output_type": "stream",
     "text": [
      "Step 69781, training: ucc_acc=1.0 weighted_loss=0.008061313070356846 ucc_loss=0.008061313070356846 ae_loss=0 eval: ucc_acc=1.0 weighted_loss=0.023079069331288338 ucc_loss=0.023079069331288338 ae_loss=0\n"
     ]
    },
    {
     "name": "stderr",
     "output_type": "stream",
     "text": [
      " 49%|████▉     | 9800/20009 [55:27<1:01:05,  2.79it/s]"
     ]
    },
    {
     "name": "stdout",
     "output_type": "stream",
     "text": [
      "Step 69791, training: ucc_acc=1.0 weighted_loss=0.01632712036371231 ucc_loss=0.01632712036371231 ae_loss=0 eval: ucc_acc=1.0 weighted_loss=0.014635419473052025 ucc_loss=0.014635419473052025 ae_loss=0\n"
     ]
    },
    {
     "name": "stderr",
     "output_type": "stream",
     "text": [
      " 49%|████▉     | 9810/20009 [55:30<58:57,  2.88it/s]  "
     ]
    },
    {
     "name": "stdout",
     "output_type": "stream",
     "text": [
      "Step 69801, training: ucc_acc=1.0 weighted_loss=0.01043341588228941 ucc_loss=0.01043341588228941 ae_loss=0 eval: ucc_acc=1.0 weighted_loss=0.02830076403915882 ucc_loss=0.02830076403915882 ae_loss=0\n"
     ]
    },
    {
     "name": "stderr",
     "output_type": "stream",
     "text": [
      " 49%|████▉     | 9820/20009 [55:33<58:19,  2.91it/s]"
     ]
    },
    {
     "name": "stdout",
     "output_type": "stream",
     "text": [
      "Step 69811, training: ucc_acc=1.0 weighted_loss=0.013122237287461758 ucc_loss=0.013122237287461758 ae_loss=0 eval: ucc_acc=0.9333333373069763 weighted_loss=0.09831611067056656 ucc_loss=0.09831611067056656 ae_loss=0\n"
     ]
    },
    {
     "name": "stderr",
     "output_type": "stream",
     "text": [
      " 49%|████▉     | 9830/20009 [55:36<57:31,  2.95it/s]"
     ]
    },
    {
     "name": "stdout",
     "output_type": "stream",
     "text": [
      "Step 69821, training: ucc_acc=1.0 weighted_loss=0.01932445913553238 ucc_loss=0.01932445913553238 ae_loss=0 eval: ucc_acc=1.0 weighted_loss=0.0007847214583307505 ucc_loss=0.0007847214583307505 ae_loss=0\n"
     ]
    },
    {
     "name": "stderr",
     "output_type": "stream",
     "text": [
      " 49%|████▉     | 9840/20009 [55:39<58:52,  2.88it/s]"
     ]
    },
    {
     "name": "stdout",
     "output_type": "stream",
     "text": [
      "Step 69831, training: ucc_acc=0.9333333373069763 weighted_loss=0.13207028806209564 ucc_loss=0.13207028806209564 ae_loss=0 eval: ucc_acc=1.0 weighted_loss=0.01127172727137804 ucc_loss=0.01127172727137804 ae_loss=0\n"
     ]
    },
    {
     "name": "stderr",
     "output_type": "stream",
     "text": [
      " 49%|████▉     | 9850/20009 [55:42<58:19,  2.90it/s]"
     ]
    },
    {
     "name": "stdout",
     "output_type": "stream",
     "text": [
      "Step 69841, training: ucc_acc=1.0 weighted_loss=0.009477692656219006 ucc_loss=0.009477692656219006 ae_loss=0 eval: ucc_acc=1.0 weighted_loss=0.04369170591235161 ucc_loss=0.04369170591235161 ae_loss=0\n"
     ]
    },
    {
     "name": "stderr",
     "output_type": "stream",
     "text": [
      " 49%|████▉     | 9860/20009 [55:45<58:57,  2.87it/s]"
     ]
    },
    {
     "name": "stdout",
     "output_type": "stream",
     "text": [
      "Step 69851, training: ucc_acc=1.0 weighted_loss=0.0007859140168875456 ucc_loss=0.0007859140168875456 ae_loss=0 eval: ucc_acc=1.0 weighted_loss=0.013611274771392345 ucc_loss=0.013611274771392345 ae_loss=0\n"
     ]
    },
    {
     "name": "stderr",
     "output_type": "stream",
     "text": [
      " 49%|████▉     | 9870/20009 [55:49<58:09,  2.91it/s]"
     ]
    },
    {
     "name": "stdout",
     "output_type": "stream",
     "text": [
      "Step 69861, training: ucc_acc=1.0 weighted_loss=0.01565498486161232 ucc_loss=0.01565498486161232 ae_loss=0 eval: ucc_acc=1.0 weighted_loss=0.004328363109380007 ucc_loss=0.004328363109380007 ae_loss=0\n"
     ]
    },
    {
     "name": "stderr",
     "output_type": "stream",
     "text": [
      " 49%|████▉     | 9880/20009 [55:52<58:06,  2.91it/s]"
     ]
    },
    {
     "name": "stdout",
     "output_type": "stream",
     "text": [
      "Step 69871, training: ucc_acc=1.0 weighted_loss=0.017520220950245857 ucc_loss=0.017520220950245857 ae_loss=0 eval: ucc_acc=1.0 weighted_loss=0.009098750539124012 ucc_loss=0.009098750539124012 ae_loss=0\n"
     ]
    },
    {
     "name": "stderr",
     "output_type": "stream",
     "text": [
      " 49%|████▉     | 9890/20009 [55:55<59:21,  2.84it/s]"
     ]
    },
    {
     "name": "stdout",
     "output_type": "stream",
     "text": [
      "Step 69881, training: ucc_acc=1.0 weighted_loss=0.011657885275781155 ucc_loss=0.011657885275781155 ae_loss=0 eval: ucc_acc=1.0 weighted_loss=0.0002564755850471556 ucc_loss=0.0002564755850471556 ae_loss=0\n"
     ]
    },
    {
     "name": "stderr",
     "output_type": "stream",
     "text": [
      " 49%|████▉     | 9900/20009 [55:58<58:01,  2.90it/s]"
     ]
    },
    {
     "name": "stdout",
     "output_type": "stream",
     "text": [
      "Step 69891, training: ucc_acc=1.0 weighted_loss=0.01239212229847908 ucc_loss=0.01239212229847908 ae_loss=0 eval: ucc_acc=1.0 weighted_loss=0.013364004902541637 ucc_loss=0.013364004902541637 ae_loss=0\n"
     ]
    },
    {
     "name": "stderr",
     "output_type": "stream",
     "text": [
      " 50%|████▉     | 9910/20009 [56:01<57:52,  2.91it/s]"
     ]
    },
    {
     "name": "stdout",
     "output_type": "stream",
     "text": [
      "Step 69901, training: ucc_acc=1.0 weighted_loss=0.040824342519044876 ucc_loss=0.040824342519044876 ae_loss=0 eval: ucc_acc=1.0 weighted_loss=0.013233327306807041 ucc_loss=0.013233327306807041 ae_loss=0\n"
     ]
    },
    {
     "name": "stderr",
     "output_type": "stream",
     "text": [
      " 50%|████▉     | 9920/20009 [56:04<57:21,  2.93it/s]"
     ]
    },
    {
     "name": "stdout",
     "output_type": "stream",
     "text": [
      "Step 69911, training: ucc_acc=1.0 weighted_loss=0.011419850401580334 ucc_loss=0.011419850401580334 ae_loss=0 eval: ucc_acc=1.0 weighted_loss=0.015553239732980728 ucc_loss=0.015553239732980728 ae_loss=0\n"
     ]
    },
    {
     "name": "stderr",
     "output_type": "stream",
     "text": [
      " 50%|████▉     | 9930/20009 [56:07<57:57,  2.90it/s]"
     ]
    },
    {
     "name": "stdout",
     "output_type": "stream",
     "text": [
      "Step 69921, training: ucc_acc=1.0 weighted_loss=0.0007938551134429872 ucc_loss=0.0007938551134429872 ae_loss=0 eval: ucc_acc=1.0 weighted_loss=0.004380343481898308 ucc_loss=0.004380343481898308 ae_loss=0\n"
     ]
    },
    {
     "name": "stderr",
     "output_type": "stream",
     "text": [
      " 50%|████▉     | 9940/20009 [56:11<57:26,  2.92it/s]"
     ]
    },
    {
     "name": "stdout",
     "output_type": "stream",
     "text": [
      "Step 69931, training: ucc_acc=1.0 weighted_loss=0.00870987493544817 ucc_loss=0.00870987493544817 ae_loss=0 eval: ucc_acc=1.0 weighted_loss=0.02620437741279602 ucc_loss=0.02620437741279602 ae_loss=0\n"
     ]
    },
    {
     "name": "stderr",
     "output_type": "stream",
     "text": [
      " 50%|████▉     | 9950/20009 [56:14<55:55,  3.00it/s]"
     ]
    },
    {
     "name": "stdout",
     "output_type": "stream",
     "text": [
      "Step 69941, training: ucc_acc=1.0 weighted_loss=0.06710807979106903 ucc_loss=0.06710807979106903 ae_loss=0 eval: ucc_acc=0.9333333373069763 weighted_loss=0.15324167907238007 ucc_loss=0.15324167907238007 ae_loss=0\n"
     ]
    },
    {
     "name": "stderr",
     "output_type": "stream",
     "text": [
      " 50%|████▉     | 9960/20009 [56:17<58:14,  2.88it/s]"
     ]
    },
    {
     "name": "stdout",
     "output_type": "stream",
     "text": [
      "Step 69951, training: ucc_acc=1.0 weighted_loss=0.007044119760394096 ucc_loss=0.007044119760394096 ae_loss=0 eval: ucc_acc=1.0 weighted_loss=0.00457120593637228 ucc_loss=0.00457120593637228 ae_loss=0\n"
     ]
    },
    {
     "name": "stderr",
     "output_type": "stream",
     "text": [
      " 50%|████▉     | 9970/20009 [56:20<57:47,  2.89it/s]"
     ]
    },
    {
     "name": "stdout",
     "output_type": "stream",
     "text": [
      "Step 69961, training: ucc_acc=1.0 weighted_loss=0.011088662780821323 ucc_loss=0.011088662780821323 ae_loss=0 eval: ucc_acc=1.0 weighted_loss=0.0022240295074880123 ucc_loss=0.0022240295074880123 ae_loss=0\n"
     ]
    },
    {
     "name": "stderr",
     "output_type": "stream",
     "text": [
      " 50%|████▉     | 9980/20009 [56:23<58:24,  2.86it/s]"
     ]
    },
    {
     "name": "stdout",
     "output_type": "stream",
     "text": [
      "Step 69971, training: ucc_acc=1.0 weighted_loss=0.011358044110238552 ucc_loss=0.011358044110238552 ae_loss=0 eval: ucc_acc=1.0 weighted_loss=0.02182924374938011 ucc_loss=0.02182924374938011 ae_loss=0\n"
     ]
    },
    {
     "name": "stderr",
     "output_type": "stream",
     "text": [
      " 50%|████▉     | 9990/20009 [56:26<57:31,  2.90it/s]"
     ]
    },
    {
     "name": "stdout",
     "output_type": "stream",
     "text": [
      "Step 69981, training: ucc_acc=1.0 weighted_loss=0.006103118881583214 ucc_loss=0.006103118881583214 ae_loss=0 eval: ucc_acc=1.0 weighted_loss=0.02323971502482891 ucc_loss=0.02323971502482891 ae_loss=0\n"
     ]
    },
    {
     "name": "stderr",
     "output_type": "stream",
     "text": [
      " 50%|████▉     | 10000/20009 [56:29<57:25,  2.91it/s]"
     ]
    },
    {
     "name": "stdout",
     "output_type": "stream",
     "text": [
      "Step 69991, training: ucc_acc=1.0 weighted_loss=0.0030245394445955753 ucc_loss=0.0030245394445955753 ae_loss=0 eval: ucc_acc=1.0 weighted_loss=0.009597805328667164 ucc_loss=0.009597805328667164 ae_loss=0\n"
     ]
    },
    {
     "name": "stderr",
     "output_type": "stream",
     "text": [
      " 50%|█████     | 10010/20009 [56:32<58:00,  2.87it/s]"
     ]
    },
    {
     "name": "stdout",
     "output_type": "stream",
     "text": [
      "Step 70001, training: ucc_acc=1.0 weighted_loss=0.015891442075371742 ucc_loss=0.015891442075371742 ae_loss=0 eval: ucc_acc=1.0 weighted_loss=0.006926494650542736 ucc_loss=0.006926494650542736 ae_loss=0\n"
     ]
    },
    {
     "name": "stderr",
     "output_type": "stream",
     "text": [
      " 50%|█████     | 10020/20009 [56:36<56:07,  2.97it/s]"
     ]
    },
    {
     "name": "stdout",
     "output_type": "stream",
     "text": [
      "Step 70011, training: ucc_acc=1.0 weighted_loss=0.0005174829857423902 ucc_loss=0.0005174829857423902 ae_loss=0 eval: ucc_acc=0.9333333373069763 weighted_loss=0.1853313148021698 ucc_loss=0.1853313148021698 ae_loss=0\n"
     ]
    },
    {
     "name": "stderr",
     "output_type": "stream",
     "text": [
      " 50%|█████     | 10030/20009 [56:39<56:22,  2.95it/s]"
     ]
    },
    {
     "name": "stdout",
     "output_type": "stream",
     "text": [
      "Step 70021, training: ucc_acc=1.0 weighted_loss=0.00852043367922306 ucc_loss=0.00852043367922306 ae_loss=0 eval: ucc_acc=1.0 weighted_loss=0.008360881358385086 ucc_loss=0.008360881358385086 ae_loss=0\n"
     ]
    },
    {
     "name": "stderr",
     "output_type": "stream",
     "text": [
      " 50%|█████     | 10040/20009 [56:42<56:54,  2.92it/s]"
     ]
    },
    {
     "name": "stdout",
     "output_type": "stream",
     "text": [
      "Step 70031, training: ucc_acc=0.9333333373069763 weighted_loss=0.17919553816318512 ucc_loss=0.17919553816318512 ae_loss=0 eval: ucc_acc=1.0 weighted_loss=0.015036691911518574 ucc_loss=0.015036691911518574 ae_loss=0\n"
     ]
    },
    {
     "name": "stderr",
     "output_type": "stream",
     "text": [
      " 50%|█████     | 10050/20009 [56:45<57:04,  2.91it/s]"
     ]
    },
    {
     "name": "stdout",
     "output_type": "stream",
     "text": [
      "Step 70041, training: ucc_acc=0.9333333373069763 weighted_loss=0.19743214547634125 ucc_loss=0.19743214547634125 ae_loss=0 eval: ucc_acc=1.0 weighted_loss=0.030935855582356453 ucc_loss=0.030935855582356453 ae_loss=0\n"
     ]
    },
    {
     "name": "stderr",
     "output_type": "stream",
     "text": [
      " 50%|█████     | 10060/20009 [56:48<57:09,  2.90it/s]"
     ]
    },
    {
     "name": "stdout",
     "output_type": "stream",
     "text": [
      "Step 70051, training: ucc_acc=0.9333333373069763 weighted_loss=0.17580896615982056 ucc_loss=0.17580896615982056 ae_loss=0 eval: ucc_acc=1.0 weighted_loss=8.357746264664456e-05 ucc_loss=8.357746264664456e-05 ae_loss=0\n"
     ]
    },
    {
     "name": "stderr",
     "output_type": "stream",
     "text": [
      " 50%|█████     | 10070/20009 [56:51<55:57,  2.96it/s]"
     ]
    },
    {
     "name": "stdout",
     "output_type": "stream",
     "text": [
      "Step 70061, training: ucc_acc=1.0 weighted_loss=0.024451179429888725 ucc_loss=0.024451179429888725 ae_loss=0 eval: ucc_acc=0.9333333373069763 weighted_loss=0.18192501366138458 ucc_loss=0.18192501366138458 ae_loss=0\n"
     ]
    },
    {
     "name": "stderr",
     "output_type": "stream",
     "text": [
      " 50%|█████     | 10080/20009 [56:54<56:40,  2.92it/s]"
     ]
    },
    {
     "name": "stdout",
     "output_type": "stream",
     "text": [
      "Step 70071, training: ucc_acc=0.9333333373069763 weighted_loss=0.06709782034158707 ucc_loss=0.06709782034158707 ae_loss=0 eval: ucc_acc=1.0 weighted_loss=0.014602607116103172 ucc_loss=0.014602607116103172 ae_loss=0\n"
     ]
    },
    {
     "name": "stderr",
     "output_type": "stream",
     "text": [
      " 50%|█████     | 10090/20009 [56:57<56:38,  2.92it/s]"
     ]
    },
    {
     "name": "stdout",
     "output_type": "stream",
     "text": [
      "Step 70081, training: ucc_acc=1.0 weighted_loss=0.00856280978769064 ucc_loss=0.00856280978769064 ae_loss=0 eval: ucc_acc=1.0 weighted_loss=0.01256562490016222 ucc_loss=0.01256562490016222 ae_loss=0\n"
     ]
    },
    {
     "name": "stderr",
     "output_type": "stream",
     "text": [
      " 50%|█████     | 10100/20009 [57:00<55:09,  2.99it/s]"
     ]
    },
    {
     "name": "stdout",
     "output_type": "stream",
     "text": [
      "Step 70091, training: ucc_acc=0.9333333373069763 weighted_loss=0.1938551515340805 ucc_loss=0.1938551515340805 ae_loss=0 eval: ucc_acc=1.0 weighted_loss=0.005550131667405367 ucc_loss=0.005550131667405367 ae_loss=0\n"
     ]
    },
    {
     "name": "stderr",
     "output_type": "stream",
     "text": [
      " 51%|█████     | 10110/20009 [57:04<54:29,  3.03it/s]"
     ]
    },
    {
     "name": "stdout",
     "output_type": "stream",
     "text": [
      "Step 70101, training: ucc_acc=1.0 weighted_loss=0.0038831965066492558 ucc_loss=0.0038831965066492558 ae_loss=0 eval: ucc_acc=0.9333333373069763 weighted_loss=0.12882623076438904 ucc_loss=0.12882623076438904 ae_loss=0\n"
     ]
    },
    {
     "name": "stderr",
     "output_type": "stream",
     "text": [
      " 51%|█████     | 10120/20009 [57:07<57:51,  2.85it/s]"
     ]
    },
    {
     "name": "stdout",
     "output_type": "stream",
     "text": [
      "Step 70111, training: ucc_acc=0.9333333373069763 weighted_loss=0.16128136217594147 ucc_loss=0.16128136217594147 ae_loss=0 eval: ucc_acc=1.0 weighted_loss=0.0005594792310148478 ucc_loss=0.0005594792310148478 ae_loss=0\n"
     ]
    },
    {
     "name": "stderr",
     "output_type": "stream",
     "text": [
      " 51%|█████     | 10130/20009 [57:10<55:48,  2.95it/s]"
     ]
    },
    {
     "name": "stdout",
     "output_type": "stream",
     "text": [
      "Step 70121, training: ucc_acc=1.0 weighted_loss=0.005487899761646986 ucc_loss=0.005487899761646986 ae_loss=0 eval: ucc_acc=0.9333333373069763 weighted_loss=0.06378257274627686 ucc_loss=0.06378257274627686 ae_loss=0\n"
     ]
    },
    {
     "name": "stderr",
     "output_type": "stream",
     "text": [
      " 51%|█████     | 10140/20009 [57:13<54:17,  3.03it/s]"
     ]
    },
    {
     "name": "stdout",
     "output_type": "stream",
     "text": [
      "Step 70131, training: ucc_acc=1.0 weighted_loss=0.004184183198958635 ucc_loss=0.004184183198958635 ae_loss=0 eval: ucc_acc=0.9333333373069763 weighted_loss=0.2616351246833801 ucc_loss=0.2616351246833801 ae_loss=0\n"
     ]
    },
    {
     "name": "stderr",
     "output_type": "stream",
     "text": [
      " 51%|█████     | 10150/20009 [57:16<57:05,  2.88it/s]"
     ]
    },
    {
     "name": "stdout",
     "output_type": "stream",
     "text": [
      "Step 70141, training: ucc_acc=1.0 weighted_loss=0.007796415593475103 ucc_loss=0.007796415593475103 ae_loss=0 eval: ucc_acc=1.0 weighted_loss=0.00728006474673748 ucc_loss=0.00728006474673748 ae_loss=0\n"
     ]
    },
    {
     "name": "stderr",
     "output_type": "stream",
     "text": [
      " 51%|█████     | 10160/20009 [57:19<56:50,  2.89it/s]"
     ]
    },
    {
     "name": "stdout",
     "output_type": "stream",
     "text": [
      "Step 70151, training: ucc_acc=0.9333333373069763 weighted_loss=0.16820389032363892 ucc_loss=0.16820389032363892 ae_loss=0 eval: ucc_acc=1.0 weighted_loss=0.0003468196664471179 ucc_loss=0.0003468196664471179 ae_loss=0\n"
     ]
    },
    {
     "name": "stderr",
     "output_type": "stream",
     "text": [
      " 51%|█████     | 10170/20009 [57:22<56:07,  2.92it/s]"
     ]
    },
    {
     "name": "stdout",
     "output_type": "stream",
     "text": [
      "Step 70161, training: ucc_acc=1.0 weighted_loss=0.0292257871478796 ucc_loss=0.0292257871478796 ae_loss=0 eval: ucc_acc=1.0 weighted_loss=0.06814412027597427 ucc_loss=0.06814412027597427 ae_loss=0\n"
     ]
    },
    {
     "name": "stderr",
     "output_type": "stream",
     "text": [
      " 51%|█████     | 10180/20009 [57:25<55:53,  2.93it/s]"
     ]
    },
    {
     "name": "stdout",
     "output_type": "stream",
     "text": [
      "Step 70171, training: ucc_acc=1.0 weighted_loss=0.004151283297687769 ucc_loss=0.004151283297687769 ae_loss=0 eval: ucc_acc=1.0 weighted_loss=4.989059380022809e-05 ucc_loss=4.989059380022809e-05 ae_loss=0\n"
     ]
    },
    {
     "name": "stderr",
     "output_type": "stream",
     "text": [
      " 51%|█████     | 10190/20009 [57:29<56:27,  2.90it/s]"
     ]
    },
    {
     "name": "stdout",
     "output_type": "stream",
     "text": [
      "Step 70181, training: ucc_acc=1.0 weighted_loss=0.006293282378464937 ucc_loss=0.006293282378464937 ae_loss=0 eval: ucc_acc=1.0 weighted_loss=0.019998908042907715 ucc_loss=0.019998908042907715 ae_loss=0\n"
     ]
    },
    {
     "name": "stderr",
     "output_type": "stream",
     "text": [
      " 51%|█████     | 10200/20009 [57:32<56:43,  2.88it/s]"
     ]
    },
    {
     "name": "stdout",
     "output_type": "stream",
     "text": [
      "Step 70191, training: ucc_acc=0.9333333373069763 weighted_loss=0.2914505898952484 ucc_loss=0.2914505898952484 ae_loss=0 eval: ucc_acc=1.0 weighted_loss=0.004080525133758783 ucc_loss=0.004080525133758783 ae_loss=0\n"
     ]
    },
    {
     "name": "stderr",
     "output_type": "stream",
     "text": [
      " 51%|█████     | 10210/20009 [57:35<56:25,  2.89it/s]"
     ]
    },
    {
     "name": "stdout",
     "output_type": "stream",
     "text": [
      "Step 70201, training: ucc_acc=1.0 weighted_loss=0.0007633742061443627 ucc_loss=0.0007633742061443627 ae_loss=0 eval: ucc_acc=1.0 weighted_loss=0.011243741028010845 ucc_loss=0.011243741028010845 ae_loss=0\n"
     ]
    },
    {
     "name": "stderr",
     "output_type": "stream",
     "text": [
      " 51%|█████     | 10220/20009 [57:38<57:01,  2.86it/s]"
     ]
    },
    {
     "name": "stdout",
     "output_type": "stream",
     "text": [
      "Step 70211, training: ucc_acc=1.0 weighted_loss=0.0063451724126935005 ucc_loss=0.0063451724126935005 ae_loss=0 eval: ucc_acc=1.0 weighted_loss=0.03210364654660225 ucc_loss=0.03210364654660225 ae_loss=0\n"
     ]
    },
    {
     "name": "stderr",
     "output_type": "stream",
     "text": [
      " 51%|█████     | 10230/20009 [57:41<55:25,  2.94it/s]"
     ]
    },
    {
     "name": "stdout",
     "output_type": "stream",
     "text": [
      "Step 70221, training: ucc_acc=1.0 weighted_loss=0.018088793382048607 ucc_loss=0.018088793382048607 ae_loss=0 eval: ucc_acc=1.0 weighted_loss=0.006956580560654402 ucc_loss=0.006956580560654402 ae_loss=0\n"
     ]
    },
    {
     "name": "stderr",
     "output_type": "stream",
     "text": [
      " 51%|█████     | 10240/20009 [57:44<56:10,  2.90it/s]"
     ]
    },
    {
     "name": "stdout",
     "output_type": "stream",
     "text": [
      "Step 70231, training: ucc_acc=0.9333333373069763 weighted_loss=0.2072635442018509 ucc_loss=0.2072635442018509 ae_loss=0 eval: ucc_acc=1.0 weighted_loss=0.005673584528267384 ucc_loss=0.005673584528267384 ae_loss=0\n"
     ]
    },
    {
     "name": "stderr",
     "output_type": "stream",
     "text": [
      " 51%|█████     | 10250/20009 [57:47<58:07,  2.80it/s]"
     ]
    },
    {
     "name": "stdout",
     "output_type": "stream",
     "text": [
      "Step 70241, training: ucc_acc=1.0 weighted_loss=0.01784626953303814 ucc_loss=0.01784626953303814 ae_loss=0 eval: ucc_acc=1.0 weighted_loss=0.0034026140347123146 ucc_loss=0.0034026140347123146 ae_loss=0\n"
     ]
    },
    {
     "name": "stderr",
     "output_type": "stream",
     "text": [
      " 51%|█████▏    | 10260/20009 [57:51<56:11,  2.89it/s]"
     ]
    },
    {
     "name": "stdout",
     "output_type": "stream",
     "text": [
      "Step 70251, training: ucc_acc=1.0 weighted_loss=0.026025645434856415 ucc_loss=0.026025645434856415 ae_loss=0 eval: ucc_acc=1.0 weighted_loss=0.021943530067801476 ucc_loss=0.021943530067801476 ae_loss=0\n"
     ]
    },
    {
     "name": "stderr",
     "output_type": "stream",
     "text": [
      " 51%|█████▏    | 10270/20009 [57:54<55:24,  2.93it/s]"
     ]
    },
    {
     "name": "stdout",
     "output_type": "stream",
     "text": [
      "Step 70261, training: ucc_acc=1.0 weighted_loss=0.0032885954715311527 ucc_loss=0.0032885954715311527 ae_loss=0 eval: ucc_acc=1.0 weighted_loss=0.010382771492004395 ucc_loss=0.010382771492004395 ae_loss=0\n"
     ]
    },
    {
     "name": "stderr",
     "output_type": "stream",
     "text": [
      " 51%|█████▏    | 10280/20009 [57:57<55:55,  2.90it/s]"
     ]
    },
    {
     "name": "stdout",
     "output_type": "stream",
     "text": [
      "Step 70271, training: ucc_acc=1.0 weighted_loss=0.004060260485857725 ucc_loss=0.004060260485857725 ae_loss=0 eval: ucc_acc=1.0 weighted_loss=0.00328442407771945 ucc_loss=0.00328442407771945 ae_loss=0\n"
     ]
    },
    {
     "name": "stderr",
     "output_type": "stream",
     "text": [
      " 51%|█████▏    | 10290/20009 [58:00<58:02,  2.79it/s]"
     ]
    },
    {
     "name": "stdout",
     "output_type": "stream",
     "text": [
      "Step 70281, training: ucc_acc=1.0 weighted_loss=0.0006407435867004097 ucc_loss=0.0006407435867004097 ae_loss=0 eval: ucc_acc=1.0 weighted_loss=0.005818006116896868 ucc_loss=0.005818006116896868 ae_loss=0\n"
     ]
    },
    {
     "name": "stderr",
     "output_type": "stream",
     "text": [
      " 51%|█████▏    | 10300/20009 [58:03<56:28,  2.87it/s]"
     ]
    },
    {
     "name": "stdout",
     "output_type": "stream",
     "text": [
      "Step 70291, training: ucc_acc=1.0 weighted_loss=0.0014431884046643972 ucc_loss=0.0014431884046643972 ae_loss=0 eval: ucc_acc=1.0 weighted_loss=0.008152034133672714 ucc_loss=0.008152034133672714 ae_loss=0\n"
     ]
    },
    {
     "name": "stderr",
     "output_type": "stream",
     "text": [
      " 52%|█████▏    | 10310/20009 [58:06<55:35,  2.91it/s]"
     ]
    },
    {
     "name": "stdout",
     "output_type": "stream",
     "text": [
      "Step 70301, training: ucc_acc=1.0 weighted_loss=0.017641374841332436 ucc_loss=0.017641374841332436 ae_loss=0 eval: ucc_acc=0.9333333373069763 weighted_loss=0.26330649852752686 ucc_loss=0.26330649852752686 ae_loss=0\n"
     ]
    },
    {
     "name": "stderr",
     "output_type": "stream",
     "text": [
      " 52%|█████▏    | 10320/20009 [58:10<55:58,  2.89it/s]"
     ]
    },
    {
     "name": "stdout",
     "output_type": "stream",
     "text": [
      "Step 70311, training: ucc_acc=0.9333333373069763 weighted_loss=0.17329831421375275 ucc_loss=0.17329831421375275 ae_loss=0 eval: ucc_acc=1.0 weighted_loss=0.004458851180970669 ucc_loss=0.004458851180970669 ae_loss=0\n"
     ]
    },
    {
     "name": "stderr",
     "output_type": "stream",
     "text": [
      " 52%|█████▏    | 10330/20009 [58:13<58:53,  2.74it/s]"
     ]
    },
    {
     "name": "stdout",
     "output_type": "stream",
     "text": [
      "Step 70321, training: ucc_acc=1.0 weighted_loss=0.006618429906666279 ucc_loss=0.006618429906666279 ae_loss=0 eval: ucc_acc=1.0 weighted_loss=0.0008986547472886741 ucc_loss=0.0008986547472886741 ae_loss=0\n"
     ]
    },
    {
     "name": "stderr",
     "output_type": "stream",
     "text": [
      " 52%|█████▏    | 10340/20009 [58:16<56:37,  2.85it/s]"
     ]
    },
    {
     "name": "stdout",
     "output_type": "stream",
     "text": [
      "Step 70331, training: ucc_acc=1.0 weighted_loss=0.009692162275314331 ucc_loss=0.009692162275314331 ae_loss=0 eval: ucc_acc=1.0 weighted_loss=0.006674240343272686 ucc_loss=0.006674240343272686 ae_loss=0\n"
     ]
    },
    {
     "name": "stderr",
     "output_type": "stream",
     "text": [
      " 52%|█████▏    | 10350/20009 [58:19<55:16,  2.91it/s]"
     ]
    },
    {
     "name": "stdout",
     "output_type": "stream",
     "text": [
      "Step 70341, training: ucc_acc=1.0 weighted_loss=0.016641288995742798 ucc_loss=0.016641288995742798 ae_loss=0 eval: ucc_acc=1.0 weighted_loss=0.0004948675632476807 ucc_loss=0.0004948675632476807 ae_loss=0\n"
     ]
    },
    {
     "name": "stderr",
     "output_type": "stream",
     "text": [
      " 52%|█████▏    | 10360/20009 [58:22<55:57,  2.87it/s]"
     ]
    },
    {
     "name": "stdout",
     "output_type": "stream",
     "text": [
      "Step 70351, training: ucc_acc=0.9333333373069763 weighted_loss=0.12066645175218582 ucc_loss=0.12066645175218582 ae_loss=0 eval: ucc_acc=1.0 weighted_loss=0.015876060351729393 ucc_loss=0.015876060351729393 ae_loss=0\n"
     ]
    },
    {
     "name": "stderr",
     "output_type": "stream",
     "text": [
      " 52%|█████▏    | 10370/20009 [58:25<55:35,  2.89it/s]"
     ]
    },
    {
     "name": "stdout",
     "output_type": "stream",
     "text": [
      "Step 70361, training: ucc_acc=0.9333333373069763 weighted_loss=0.13696527481079102 ucc_loss=0.13696527481079102 ae_loss=0 eval: ucc_acc=1.0 weighted_loss=0.009017961099743843 ucc_loss=0.009017961099743843 ae_loss=0\n"
     ]
    },
    {
     "name": "stderr",
     "output_type": "stream",
     "text": [
      " 52%|█████▏    | 10380/20009 [58:29<55:20,  2.90it/s]"
     ]
    },
    {
     "name": "stdout",
     "output_type": "stream",
     "text": [
      "Step 70371, training: ucc_acc=1.0 weighted_loss=0.01490280032157898 ucc_loss=0.01490280032157898 ae_loss=0 eval: ucc_acc=1.0 weighted_loss=0.00752671854570508 ucc_loss=0.00752671854570508 ae_loss=0\n"
     ]
    },
    {
     "name": "stderr",
     "output_type": "stream",
     "text": [
      " 52%|█████▏    | 10390/20009 [58:32<53:27,  3.00it/s]"
     ]
    },
    {
     "name": "stdout",
     "output_type": "stream",
     "text": [
      "Step 70381, training: ucc_acc=1.0 weighted_loss=0.016127323731780052 ucc_loss=0.016127323731780052 ae_loss=0 eval: ucc_acc=0.9333333373069763 weighted_loss=0.05349802225828171 ucc_loss=0.05349802225828171 ae_loss=0\n"
     ]
    },
    {
     "name": "stderr",
     "output_type": "stream",
     "text": [
      " 52%|█████▏    | 10400/20009 [58:35<55:07,  2.91it/s]"
     ]
    },
    {
     "name": "stdout",
     "output_type": "stream",
     "text": [
      "Step 70391, training: ucc_acc=1.0 weighted_loss=0.010511883534491062 ucc_loss=0.010511883534491062 ae_loss=0 eval: ucc_acc=1.0 weighted_loss=0.03052506037056446 ucc_loss=0.03052506037056446 ae_loss=0\n"
     ]
    },
    {
     "name": "stderr",
     "output_type": "stream",
     "text": [
      " 52%|█████▏    | 10410/20009 [58:38<56:06,  2.85it/s]"
     ]
    },
    {
     "name": "stdout",
     "output_type": "stream",
     "text": [
      "Step 70401, training: ucc_acc=1.0 weighted_loss=0.0017287950031459332 ucc_loss=0.0017287950031459332 ae_loss=0 eval: ucc_acc=1.0 weighted_loss=0.015304443426430225 ucc_loss=0.015304443426430225 ae_loss=0\n"
     ]
    },
    {
     "name": "stderr",
     "output_type": "stream",
     "text": [
      " 52%|█████▏    | 10420/20009 [58:41<53:42,  2.98it/s]"
     ]
    },
    {
     "name": "stdout",
     "output_type": "stream",
     "text": [
      "Step 70411, training: ucc_acc=1.0 weighted_loss=0.0012634630547836423 ucc_loss=0.0012634630547836423 ae_loss=0 eval: ucc_acc=1.0 weighted_loss=0.009840174578130245 ucc_loss=0.009840174578130245 ae_loss=0\n"
     ]
    },
    {
     "name": "stderr",
     "output_type": "stream",
     "text": [
      " 52%|█████▏    | 10430/20009 [58:44<54:35,  2.92it/s]"
     ]
    },
    {
     "name": "stdout",
     "output_type": "stream",
     "text": [
      "Step 70421, training: ucc_acc=1.0 weighted_loss=0.04553431272506714 ucc_loss=0.04553431272506714 ae_loss=0 eval: ucc_acc=1.0 weighted_loss=0.00408249581232667 ucc_loss=0.00408249581232667 ae_loss=0\n"
     ]
    },
    {
     "name": "stderr",
     "output_type": "stream",
     "text": [
      " 52%|█████▏    | 10440/20009 [58:47<55:03,  2.90it/s]"
     ]
    },
    {
     "name": "stdout",
     "output_type": "stream",
     "text": [
      "Step 70431, training: ucc_acc=1.0 weighted_loss=0.010256949812173843 ucc_loss=0.010256949812173843 ae_loss=0 eval: ucc_acc=1.0 weighted_loss=0.0003689531877171248 ucc_loss=0.0003689531877171248 ae_loss=0\n"
     ]
    },
    {
     "name": "stderr",
     "output_type": "stream",
     "text": [
      " 52%|█████▏    | 10450/20009 [58:50<54:43,  2.91it/s]"
     ]
    },
    {
     "name": "stdout",
     "output_type": "stream",
     "text": [
      "Step 70441, training: ucc_acc=1.0 weighted_loss=0.013479272834956646 ucc_loss=0.013479272834956646 ae_loss=0 eval: ucc_acc=1.0 weighted_loss=0.016473256051540375 ucc_loss=0.016473256051540375 ae_loss=0\n"
     ]
    },
    {
     "name": "stderr",
     "output_type": "stream",
     "text": [
      " 52%|█████▏    | 10460/20009 [58:54<53:50,  2.96it/s]"
     ]
    },
    {
     "name": "stdout",
     "output_type": "stream",
     "text": [
      "Step 70451, training: ucc_acc=0.9333333373069763 weighted_loss=0.12318365275859833 ucc_loss=0.12318365275859833 ae_loss=0 eval: ucc_acc=0.9333333373069763 weighted_loss=0.11402754485607147 ucc_loss=0.11402754485607147 ae_loss=0\n"
     ]
    },
    {
     "name": "stderr",
     "output_type": "stream",
     "text": [
      " 52%|█████▏    | 10470/20009 [58:57<56:11,  2.83it/s]"
     ]
    },
    {
     "name": "stdout",
     "output_type": "stream",
     "text": [
      "Step 70461, training: ucc_acc=1.0 weighted_loss=0.0001482044899603352 ucc_loss=0.0001482044899603352 ae_loss=0 eval: ucc_acc=0.9333333373069763 weighted_loss=0.13084079325199127 ucc_loss=0.13084079325199127 ae_loss=0\n"
     ]
    },
    {
     "name": "stderr",
     "output_type": "stream",
     "text": [
      " 52%|█████▏    | 10480/20009 [59:00<53:28,  2.97it/s]"
     ]
    },
    {
     "name": "stdout",
     "output_type": "stream",
     "text": [
      "Step 70471, training: ucc_acc=1.0 weighted_loss=0.004364463500678539 ucc_loss=0.004364463500678539 ae_loss=0 eval: ucc_acc=0.9333333373069763 weighted_loss=0.20633579790592194 ucc_loss=0.20633579790592194 ae_loss=0\n"
     ]
    },
    {
     "name": "stderr",
     "output_type": "stream",
     "text": [
      " 52%|█████▏    | 10490/20009 [59:03<55:03,  2.88it/s]"
     ]
    },
    {
     "name": "stdout",
     "output_type": "stream",
     "text": [
      "Step 70481, training: ucc_acc=1.0 weighted_loss=0.010126376524567604 ucc_loss=0.010126376524567604 ae_loss=0 eval: ucc_acc=1.0 weighted_loss=0.0009121000184677541 ucc_loss=0.0009121000184677541 ae_loss=0\n"
     ]
    },
    {
     "name": "stderr",
     "output_type": "stream",
     "text": [
      " 52%|█████▏    | 10500/20009 [59:06<54:45,  2.89it/s]"
     ]
    },
    {
     "name": "stdout",
     "output_type": "stream",
     "text": [
      "Step 70491, training: ucc_acc=1.0 weighted_loss=0.005558473523706198 ucc_loss=0.005558473523706198 ae_loss=0 eval: ucc_acc=1.0 weighted_loss=0.0027085477486252785 ucc_loss=0.0027085477486252785 ae_loss=0\n"
     ]
    },
    {
     "name": "stderr",
     "output_type": "stream",
     "text": [
      " 53%|█████▎    | 10510/20009 [59:09<53:55,  2.94it/s]"
     ]
    },
    {
     "name": "stdout",
     "output_type": "stream",
     "text": [
      "Step 70501, training: ucc_acc=1.0 weighted_loss=0.0052363816648721695 ucc_loss=0.0052363816648721695 ae_loss=0 eval: ucc_acc=1.0 weighted_loss=0.004410885740071535 ucc_loss=0.004410885740071535 ae_loss=0\n"
     ]
    },
    {
     "name": "stderr",
     "output_type": "stream",
     "text": [
      " 53%|█████▎    | 10520/20009 [59:12<54:02,  2.93it/s]"
     ]
    },
    {
     "name": "stdout",
     "output_type": "stream",
     "text": [
      "Step 70511, training: ucc_acc=1.0 weighted_loss=0.023306438699364662 ucc_loss=0.023306438699364662 ae_loss=0 eval: ucc_acc=1.0 weighted_loss=0.011417952366173267 ucc_loss=0.011417952366173267 ae_loss=0\n"
     ]
    },
    {
     "name": "stderr",
     "output_type": "stream",
     "text": [
      " 53%|█████▎    | 10530/20009 [59:16<53:57,  2.93it/s]"
     ]
    },
    {
     "name": "stdout",
     "output_type": "stream",
     "text": [
      "Step 70521, training: ucc_acc=1.0 weighted_loss=0.02786777727305889 ucc_loss=0.02786777727305889 ae_loss=0 eval: ucc_acc=1.0 weighted_loss=0.002391341608017683 ucc_loss=0.002391341608017683 ae_loss=0\n"
     ]
    },
    {
     "name": "stderr",
     "output_type": "stream",
     "text": [
      " 53%|█████▎    | 10540/20009 [59:19<53:41,  2.94it/s]"
     ]
    },
    {
     "name": "stdout",
     "output_type": "stream",
     "text": [
      "Step 70531, training: ucc_acc=0.9333333373069763 weighted_loss=0.1607353687286377 ucc_loss=0.1607353687286377 ae_loss=0 eval: ucc_acc=1.0 weighted_loss=0.008850594982504845 ucc_loss=0.008850594982504845 ae_loss=0\n"
     ]
    },
    {
     "name": "stderr",
     "output_type": "stream",
     "text": [
      " 53%|█████▎    | 10550/20009 [59:22<53:24,  2.95it/s]"
     ]
    },
    {
     "name": "stdout",
     "output_type": "stream",
     "text": [
      "Step 70541, training: ucc_acc=1.0 weighted_loss=0.01977601647377014 ucc_loss=0.01977601647377014 ae_loss=0 eval: ucc_acc=1.0 weighted_loss=0.00274850195273757 ucc_loss=0.00274850195273757 ae_loss=0\n"
     ]
    },
    {
     "name": "stderr",
     "output_type": "stream",
     "text": [
      " 53%|█████▎    | 10560/20009 [59:25<53:58,  2.92it/s]"
     ]
    },
    {
     "name": "stdout",
     "output_type": "stream",
     "text": [
      "Step 70551, training: ucc_acc=1.0 weighted_loss=2.3029444491839968e-05 ucc_loss=2.3029444491839968e-05 ae_loss=0 eval: ucc_acc=1.0 weighted_loss=0.007001239340752363 ucc_loss=0.007001239340752363 ae_loss=0\n"
     ]
    },
    {
     "name": "stderr",
     "output_type": "stream",
     "text": [
      " 53%|█████▎    | 10570/20009 [59:28<54:02,  2.91it/s]"
     ]
    },
    {
     "name": "stdout",
     "output_type": "stream",
     "text": [
      "Step 70561, training: ucc_acc=0.9333333373069763 weighted_loss=0.19669219851493835 ucc_loss=0.19669219851493835 ae_loss=0 eval: ucc_acc=1.0 weighted_loss=0.016013000160455704 ucc_loss=0.016013000160455704 ae_loss=0\n"
     ]
    },
    {
     "name": "stderr",
     "output_type": "stream",
     "text": [
      " 53%|█████▎    | 10580/20009 [59:31<52:41,  2.98it/s]"
     ]
    },
    {
     "name": "stdout",
     "output_type": "stream",
     "text": [
      "Step 70571, training: ucc_acc=0.9333333373069763 weighted_loss=0.15320341289043427 ucc_loss=0.15320341289043427 ae_loss=0 eval: ucc_acc=0.9333333373069763 weighted_loss=0.14606694877147675 ucc_loss=0.14606694877147675 ae_loss=0\n"
     ]
    },
    {
     "name": "stderr",
     "output_type": "stream",
     "text": [
      " 53%|█████▎    | 10590/20009 [59:34<53:01,  2.96it/s]"
     ]
    },
    {
     "name": "stdout",
     "output_type": "stream",
     "text": [
      "Step 70581, training: ucc_acc=1.0 weighted_loss=0.00542878033593297 ucc_loss=0.00542878033593297 ae_loss=0 eval: ucc_acc=1.0 weighted_loss=0.027697792276740074 ucc_loss=0.027697792276740074 ae_loss=0\n"
     ]
    },
    {
     "name": "stderr",
     "output_type": "stream",
     "text": [
      " 53%|█████▎    | 10600/20009 [59:37<54:39,  2.87it/s]"
     ]
    },
    {
     "name": "stdout",
     "output_type": "stream",
     "text": [
      "Step 70591, training: ucc_acc=1.0 weighted_loss=0.055955927819013596 ucc_loss=0.055955927819013596 ae_loss=0 eval: ucc_acc=1.0 weighted_loss=0.021741200238466263 ucc_loss=0.021741200238466263 ae_loss=0\n"
     ]
    },
    {
     "name": "stderr",
     "output_type": "stream",
     "text": [
      " 53%|█████▎    | 10610/20009 [59:41<53:50,  2.91it/s]"
     ]
    },
    {
     "name": "stdout",
     "output_type": "stream",
     "text": [
      "Step 70601, training: ucc_acc=1.0 weighted_loss=0.007303730584681034 ucc_loss=0.007303730584681034 ae_loss=0 eval: ucc_acc=1.0 weighted_loss=0.0018126385984942317 ucc_loss=0.0018126385984942317 ae_loss=0\n"
     ]
    },
    {
     "name": "stderr",
     "output_type": "stream",
     "text": [
      " 53%|█████▎    | 10620/20009 [59:44<51:48,  3.02it/s]"
     ]
    },
    {
     "name": "stdout",
     "output_type": "stream",
     "text": [
      "Step 70611, training: ucc_acc=1.0 weighted_loss=0.0003722842666320503 ucc_loss=0.0003722842666320503 ae_loss=0 eval: ucc_acc=0.9333333373069763 weighted_loss=0.19574220478534698 ucc_loss=0.19574220478534698 ae_loss=0\n"
     ]
    },
    {
     "name": "stderr",
     "output_type": "stream",
     "text": [
      " 53%|█████▎    | 10630/20009 [59:47<54:24,  2.87it/s]"
     ]
    },
    {
     "name": "stdout",
     "output_type": "stream",
     "text": [
      "Step 70621, training: ucc_acc=1.0 weighted_loss=0.003929732367396355 ucc_loss=0.003929732367396355 ae_loss=0 eval: ucc_acc=1.0 weighted_loss=0.011087093502283096 ucc_loss=0.011087093502283096 ae_loss=0\n"
     ]
    },
    {
     "name": "stderr",
     "output_type": "stream",
     "text": [
      " 53%|█████▎    | 10640/20009 [59:50<54:25,  2.87it/s]"
     ]
    },
    {
     "name": "stdout",
     "output_type": "stream",
     "text": [
      "Step 70631, training: ucc_acc=1.0 weighted_loss=0.0072353496216237545 ucc_loss=0.0072353496216237545 ae_loss=0 eval: ucc_acc=1.0 weighted_loss=0.015958504751324654 ucc_loss=0.015958504751324654 ae_loss=0\n"
     ]
    },
    {
     "name": "stderr",
     "output_type": "stream",
     "text": [
      " 53%|█████▎    | 10650/20009 [59:53<53:32,  2.91it/s]"
     ]
    },
    {
     "name": "stdout",
     "output_type": "stream",
     "text": [
      "Step 70641, training: ucc_acc=1.0 weighted_loss=4.802025432582013e-05 ucc_loss=4.802025432582013e-05 ae_loss=0 eval: ucc_acc=1.0 weighted_loss=0.016185494139790535 ucc_loss=0.016185494139790535 ae_loss=0\n"
     ]
    },
    {
     "name": "stderr",
     "output_type": "stream",
     "text": [
      " 53%|█████▎    | 10660/20009 [59:56<52:45,  2.95it/s]"
     ]
    },
    {
     "name": "stdout",
     "output_type": "stream",
     "text": [
      "Step 70651, training: ucc_acc=0.9333333373069763 weighted_loss=0.09059470146894455 ucc_loss=0.09059470146894455 ae_loss=0 eval: ucc_acc=1.0 weighted_loss=0.002871565753594041 ucc_loss=0.002871565753594041 ae_loss=0\n"
     ]
    },
    {
     "name": "stderr",
     "output_type": "stream",
     "text": [
      " 53%|█████▎    | 10670/20009 [59:59<53:42,  2.90it/s]"
     ]
    },
    {
     "name": "stdout",
     "output_type": "stream",
     "text": [
      "Step 70661, training: ucc_acc=1.0 weighted_loss=0.01663542352616787 ucc_loss=0.01663542352616787 ae_loss=0 eval: ucc_acc=1.0 weighted_loss=0.010664212517440319 ucc_loss=0.010664212517440319 ae_loss=0\n"
     ]
    },
    {
     "name": "stderr",
     "output_type": "stream",
     "text": [
      " 53%|█████▎    | 10680/20009 [1:00:02<53:18,  2.92it/s]"
     ]
    },
    {
     "name": "stdout",
     "output_type": "stream",
     "text": [
      "Step 70671, training: ucc_acc=1.0 weighted_loss=0.0075693377293646336 ucc_loss=0.0075693377293646336 ae_loss=0 eval: ucc_acc=1.0 weighted_loss=0.0031101785134524107 ucc_loss=0.0031101785134524107 ae_loss=0\n"
     ]
    },
    {
     "name": "stderr",
     "output_type": "stream",
     "text": [
      " 53%|█████▎    | 10690/20009 [1:00:06<54:04,  2.87it/s]"
     ]
    },
    {
     "name": "stdout",
     "output_type": "stream",
     "text": [
      "Step 70681, training: ucc_acc=1.0 weighted_loss=0.0025999462231993675 ucc_loss=0.0025999462231993675 ae_loss=0 eval: ucc_acc=1.0 weighted_loss=0.0031506435479968786 ucc_loss=0.0031506435479968786 ae_loss=0\n"
     ]
    },
    {
     "name": "stderr",
     "output_type": "stream",
     "text": [
      " 53%|█████▎    | 10700/20009 [1:00:09<53:12,  2.92it/s]"
     ]
    },
    {
     "name": "stdout",
     "output_type": "stream",
     "text": [
      "Step 70691, training: ucc_acc=0.9333333373069763 weighted_loss=0.16350318491458893 ucc_loss=0.16350318491458893 ae_loss=0 eval: ucc_acc=1.0 weighted_loss=0.004912852309644222 ucc_loss=0.004912852309644222 ae_loss=0\n"
     ]
    },
    {
     "name": "stderr",
     "output_type": "stream",
     "text": [
      " 54%|█████▎    | 10710/20009 [1:00:12<53:09,  2.92it/s]"
     ]
    },
    {
     "name": "stdout",
     "output_type": "stream",
     "text": [
      "Step 70701, training: ucc_acc=1.0 weighted_loss=0.024068383499979973 ucc_loss=0.024068383499979973 ae_loss=0 eval: ucc_acc=1.0 weighted_loss=0.016614515334367752 ucc_loss=0.016614515334367752 ae_loss=0\n"
     ]
    },
    {
     "name": "stderr",
     "output_type": "stream",
     "text": [
      " 54%|█████▎    | 10720/20009 [1:00:15<52:31,  2.95it/s]"
     ]
    },
    {
     "name": "stdout",
     "output_type": "stream",
     "text": [
      "Step 70711, training: ucc_acc=1.0 weighted_loss=0.008998730219900608 ucc_loss=0.008998730219900608 ae_loss=0 eval: ucc_acc=0.9333333373069763 weighted_loss=0.12634414434432983 ucc_loss=0.12634414434432983 ae_loss=0\n"
     ]
    },
    {
     "name": "stderr",
     "output_type": "stream",
     "text": [
      " 54%|█████▎    | 10730/20009 [1:00:18<54:01,  2.86it/s]"
     ]
    },
    {
     "name": "stdout",
     "output_type": "stream",
     "text": [
      "Step 70721, training: ucc_acc=1.0 weighted_loss=0.012304202653467655 ucc_loss=0.012304202653467655 ae_loss=0 eval: ucc_acc=1.0 weighted_loss=0.015180588699877262 ucc_loss=0.015180588699877262 ae_loss=0\n"
     ]
    },
    {
     "name": "stderr",
     "output_type": "stream",
     "text": [
      " 54%|█████▎    | 10740/20009 [1:00:21<52:49,  2.92it/s]"
     ]
    },
    {
     "name": "stdout",
     "output_type": "stream",
     "text": [
      "Step 70731, training: ucc_acc=1.0 weighted_loss=0.0006724059348925948 ucc_loss=0.0006724059348925948 ae_loss=0 eval: ucc_acc=1.0 weighted_loss=0.00022978171182330698 ucc_loss=0.00022978171182330698 ae_loss=0\n"
     ]
    },
    {
     "name": "stderr",
     "output_type": "stream",
     "text": [
      " 54%|█████▎    | 10750/20009 [1:00:24<53:04,  2.91it/s]"
     ]
    },
    {
     "name": "stdout",
     "output_type": "stream",
     "text": [
      "Step 70741, training: ucc_acc=1.0 weighted_loss=0.001016148249618709 ucc_loss=0.001016148249618709 ae_loss=0 eval: ucc_acc=1.0 weighted_loss=0.00025925380759872496 ucc_loss=0.00025925380759872496 ae_loss=0\n"
     ]
    },
    {
     "name": "stderr",
     "output_type": "stream",
     "text": [
      " 54%|█████▍    | 10760/20009 [1:00:28<54:19,  2.84it/s]"
     ]
    },
    {
     "name": "stdout",
     "output_type": "stream",
     "text": [
      "Step 70751, training: ucc_acc=1.0 weighted_loss=0.004019289277493954 ucc_loss=0.004019289277493954 ae_loss=0 eval: ucc_acc=1.0 weighted_loss=0.004093353170901537 ucc_loss=0.004093353170901537 ae_loss=0\n"
     ]
    },
    {
     "name": "stderr",
     "output_type": "stream",
     "text": [
      " 54%|█████▍    | 10770/20009 [1:00:31<54:49,  2.81it/s]"
     ]
    },
    {
     "name": "stdout",
     "output_type": "stream",
     "text": [
      "Step 70761, training: ucc_acc=1.0 weighted_loss=0.01016414538025856 ucc_loss=0.01016414538025856 ae_loss=0 eval: ucc_acc=1.0 weighted_loss=0.06541731208562851 ucc_loss=0.06541731208562851 ae_loss=0\n"
     ]
    },
    {
     "name": "stderr",
     "output_type": "stream",
     "text": [
      " 54%|█████▍    | 10780/20009 [1:00:34<53:13,  2.89it/s]"
     ]
    },
    {
     "name": "stdout",
     "output_type": "stream",
     "text": [
      "Step 70771, training: ucc_acc=1.0 weighted_loss=0.0002715411246754229 ucc_loss=0.0002715411246754229 ae_loss=0 eval: ucc_acc=1.0 weighted_loss=0.00015850535419303924 ucc_loss=0.00015850535419303924 ae_loss=0\n"
     ]
    },
    {
     "name": "stderr",
     "output_type": "stream",
     "text": [
      " 54%|█████▍    | 10790/20009 [1:00:37<52:33,  2.92it/s]"
     ]
    },
    {
     "name": "stdout",
     "output_type": "stream",
     "text": [
      "Step 70781, training: ucc_acc=1.0 weighted_loss=0.007246365305036306 ucc_loss=0.007246365305036306 ae_loss=0 eval: ucc_acc=1.0 weighted_loss=0.02190503105521202 ucc_loss=0.02190503105521202 ae_loss=0\n"
     ]
    },
    {
     "name": "stderr",
     "output_type": "stream",
     "text": [
      " 54%|█████▍    | 10800/20009 [1:00:40<53:07,  2.89it/s]"
     ]
    },
    {
     "name": "stdout",
     "output_type": "stream",
     "text": [
      "Step 70791, training: ucc_acc=1.0 weighted_loss=0.008230033330619335 ucc_loss=0.008230033330619335 ae_loss=0 eval: ucc_acc=1.0 weighted_loss=0.0034930577967315912 ucc_loss=0.0034930577967315912 ae_loss=0\n"
     ]
    },
    {
     "name": "stderr",
     "output_type": "stream",
     "text": [
      " 54%|█████▍    | 10810/20009 [1:00:43<52:18,  2.93it/s]"
     ]
    },
    {
     "name": "stdout",
     "output_type": "stream",
     "text": [
      "Step 70801, training: ucc_acc=1.0 weighted_loss=0.01046155858784914 ucc_loss=0.01046155858784914 ae_loss=0 eval: ucc_acc=1.0 weighted_loss=0.01134252455085516 ucc_loss=0.01134252455085516 ae_loss=0\n"
     ]
    },
    {
     "name": "stderr",
     "output_type": "stream",
     "text": [
      " 54%|█████▍    | 10820/20009 [1:00:47<53:42,  2.85it/s]"
     ]
    },
    {
     "name": "stdout",
     "output_type": "stream",
     "text": [
      "Step 70811, training: ucc_acc=1.0 weighted_loss=0.012509986758232117 ucc_loss=0.012509986758232117 ae_loss=0 eval: ucc_acc=1.0 weighted_loss=0.03258311003446579 ucc_loss=0.03258311003446579 ae_loss=0\n"
     ]
    },
    {
     "name": "stderr",
     "output_type": "stream",
     "text": [
      " 54%|█████▍    | 10830/20009 [1:00:50<51:57,  2.94it/s]"
     ]
    },
    {
     "name": "stdout",
     "output_type": "stream",
     "text": [
      "Step 70821, training: ucc_acc=1.0 weighted_loss=0.011718799360096455 ucc_loss=0.011718799360096455 ae_loss=0 eval: ucc_acc=0.9333333373069763 weighted_loss=0.13266736268997192 ucc_loss=0.13266736268997192 ae_loss=0\n"
     ]
    },
    {
     "name": "stderr",
     "output_type": "stream",
     "text": [
      " 54%|█████▍    | 10840/20009 [1:00:53<52:53,  2.89it/s]"
     ]
    },
    {
     "name": "stdout",
     "output_type": "stream",
     "text": [
      "Step 70831, training: ucc_acc=1.0 weighted_loss=0.016161030158400536 ucc_loss=0.016161030158400536 ae_loss=0 eval: ucc_acc=1.0 weighted_loss=0.005703264847397804 ucc_loss=0.005703264847397804 ae_loss=0\n"
     ]
    },
    {
     "name": "stderr",
     "output_type": "stream",
     "text": [
      " 54%|█████▍    | 10850/20009 [1:00:56<52:23,  2.91it/s]"
     ]
    },
    {
     "name": "stdout",
     "output_type": "stream",
     "text": [
      "Step 70841, training: ucc_acc=0.9333333373069763 weighted_loss=0.18127240240573883 ucc_loss=0.18127240240573883 ae_loss=0 eval: ucc_acc=1.0 weighted_loss=0.022488262504339218 ucc_loss=0.022488262504339218 ae_loss=0\n"
     ]
    },
    {
     "name": "stderr",
     "output_type": "stream",
     "text": [
      " 54%|█████▍    | 10860/20009 [1:00:59<51:48,  2.94it/s]"
     ]
    },
    {
     "name": "stdout",
     "output_type": "stream",
     "text": [
      "Step 70851, training: ucc_acc=0.9333333373069763 weighted_loss=0.1410527378320694 ucc_loss=0.1410527378320694 ae_loss=0 eval: ucc_acc=1.0 weighted_loss=0.01597421243786812 ucc_loss=0.01597421243786812 ae_loss=0\n"
     ]
    },
    {
     "name": "stderr",
     "output_type": "stream",
     "text": [
      " 54%|█████▍    | 10870/20009 [1:01:02<52:07,  2.92it/s]"
     ]
    },
    {
     "name": "stdout",
     "output_type": "stream",
     "text": [
      "Step 70861, training: ucc_acc=1.0 weighted_loss=0.019468409940600395 ucc_loss=0.019468409940600395 ae_loss=0 eval: ucc_acc=1.0 weighted_loss=0.01754934713244438 ucc_loss=0.01754934713244438 ae_loss=0\n"
     ]
    },
    {
     "name": "stderr",
     "output_type": "stream",
     "text": [
      " 54%|█████▍    | 10880/20009 [1:01:05<56:18,  2.70it/s]"
     ]
    },
    {
     "name": "stdout",
     "output_type": "stream",
     "text": [
      "Step 70871, training: ucc_acc=1.0 weighted_loss=9.117554873228073e-05 ucc_loss=9.117554873228073e-05 ae_loss=0 eval: ucc_acc=1.0 weighted_loss=0.0003232784220017493 ucc_loss=0.0003232784220017493 ae_loss=0\n"
     ]
    },
    {
     "name": "stderr",
     "output_type": "stream",
     "text": [
      " 54%|█████▍    | 10890/20009 [1:01:09<54:48,  2.77it/s]"
     ]
    },
    {
     "name": "stdout",
     "output_type": "stream",
     "text": [
      "Step 70881, training: ucc_acc=1.0 weighted_loss=5.262043487164192e-05 ucc_loss=5.262043487164192e-05 ae_loss=0 eval: ucc_acc=1.0 weighted_loss=0.01071897242218256 ucc_loss=0.01071897242218256 ae_loss=0\n"
     ]
    },
    {
     "name": "stderr",
     "output_type": "stream",
     "text": [
      " 54%|█████▍    | 10900/20009 [1:01:12<57:12,  2.65it/s]"
     ]
    },
    {
     "name": "stdout",
     "output_type": "stream",
     "text": [
      "Step 70891, training: ucc_acc=1.0 weighted_loss=0.002238658955320716 ucc_loss=0.002238658955320716 ae_loss=0 eval: ucc_acc=1.0 weighted_loss=0.004231135826557875 ucc_loss=0.004231135826557875 ae_loss=0\n"
     ]
    },
    {
     "name": "stderr",
     "output_type": "stream",
     "text": [
      " 55%|█████▍    | 10910/20009 [1:01:16<56:00,  2.71it/s]"
     ]
    },
    {
     "name": "stdout",
     "output_type": "stream",
     "text": [
      "Step 70901, training: ucc_acc=1.0 weighted_loss=0.012595271691679955 ucc_loss=0.012595271691679955 ae_loss=0 eval: ucc_acc=1.0 weighted_loss=0.002553603844717145 ucc_loss=0.002553603844717145 ae_loss=0\n"
     ]
    },
    {
     "name": "stderr",
     "output_type": "stream",
     "text": [
      " 55%|█████▍    | 10920/20009 [1:01:19<56:41,  2.67it/s]"
     ]
    },
    {
     "name": "stdout",
     "output_type": "stream",
     "text": [
      "Step 70911, training: ucc_acc=1.0 weighted_loss=0.009595944546163082 ucc_loss=0.009595944546163082 ae_loss=0 eval: ucc_acc=1.0 weighted_loss=0.0013519972562789917 ucc_loss=0.0013519972562789917 ae_loss=0\n"
     ]
    },
    {
     "name": "stderr",
     "output_type": "stream",
     "text": [
      " 55%|█████▍    | 10930/20009 [1:01:22<53:11,  2.84it/s]"
     ]
    },
    {
     "name": "stdout",
     "output_type": "stream",
     "text": [
      "Step 70921, training: ucc_acc=1.0 weighted_loss=0.00828368030488491 ucc_loss=0.00828368030488491 ae_loss=0 eval: ucc_acc=1.0 weighted_loss=0.01221876684576273 ucc_loss=0.01221876684576273 ae_loss=0\n"
     ]
    },
    {
     "name": "stderr",
     "output_type": "stream",
     "text": [
      " 55%|█████▍    | 10940/20009 [1:01:25<52:37,  2.87it/s]"
     ]
    },
    {
     "name": "stdout",
     "output_type": "stream",
     "text": [
      "Step 70931, training: ucc_acc=1.0 weighted_loss=3.2763877243269235e-05 ucc_loss=3.2763877243269235e-05 ae_loss=0 eval: ucc_acc=1.0 weighted_loss=0.004353553056716919 ucc_loss=0.004353553056716919 ae_loss=0\n"
     ]
    },
    {
     "name": "stderr",
     "output_type": "stream",
     "text": [
      " 55%|█████▍    | 10950/20009 [1:01:29<53:05,  2.84it/s]"
     ]
    },
    {
     "name": "stdout",
     "output_type": "stream",
     "text": [
      "Step 70941, training: ucc_acc=1.0 weighted_loss=0.0005591195076704025 ucc_loss=0.0005591195076704025 ae_loss=0 eval: ucc_acc=1.0 weighted_loss=0.007567002438008785 ucc_loss=0.007567002438008785 ae_loss=0\n"
     ]
    },
    {
     "name": "stderr",
     "output_type": "stream",
     "text": [
      " 55%|█████▍    | 10960/20009 [1:01:32<51:45,  2.91it/s]"
     ]
    },
    {
     "name": "stdout",
     "output_type": "stream",
     "text": [
      "Step 70951, training: ucc_acc=0.9333333373069763 weighted_loss=0.17551398277282715 ucc_loss=0.17551398277282715 ae_loss=0 eval: ucc_acc=1.0 weighted_loss=0.00018528866348788142 ucc_loss=0.00018528866348788142 ae_loss=0\n"
     ]
    },
    {
     "name": "stderr",
     "output_type": "stream",
     "text": [
      " 55%|█████▍    | 10970/20009 [1:01:35<51:46,  2.91it/s]"
     ]
    },
    {
     "name": "stdout",
     "output_type": "stream",
     "text": [
      "Step 70961, training: ucc_acc=1.0 weighted_loss=0.0006588388932868838 ucc_loss=0.0006588388932868838 ae_loss=0 eval: ucc_acc=1.0 weighted_loss=0.0069192517548799515 ucc_loss=0.0069192517548799515 ae_loss=0\n"
     ]
    },
    {
     "name": "stderr",
     "output_type": "stream",
     "text": [
      " 55%|█████▍    | 10980/20009 [1:01:38<52:11,  2.88it/s]"
     ]
    },
    {
     "name": "stdout",
     "output_type": "stream",
     "text": [
      "Step 70971, training: ucc_acc=1.0 weighted_loss=0.0005597519339062274 ucc_loss=0.0005597519339062274 ae_loss=0 eval: ucc_acc=0.9333333373069763 weighted_loss=0.17122648656368256 ucc_loss=0.17122648656368256 ae_loss=0\n"
     ]
    },
    {
     "name": "stderr",
     "output_type": "stream",
     "text": [
      " 55%|█████▍    | 10990/20009 [1:01:41<52:03,  2.89it/s]"
     ]
    },
    {
     "name": "stdout",
     "output_type": "stream",
     "text": [
      "Step 70981, training: ucc_acc=1.0 weighted_loss=0.024491285905241966 ucc_loss=0.024491285905241966 ae_loss=0 eval: ucc_acc=1.0 weighted_loss=0.006411319132894278 ucc_loss=0.006411319132894278 ae_loss=0\n"
     ]
    },
    {
     "name": "stderr",
     "output_type": "stream",
     "text": [
      " 55%|█████▍    | 11000/20009 [1:01:44<51:01,  2.94it/s]"
     ]
    },
    {
     "name": "stdout",
     "output_type": "stream",
     "text": [
      "Step 70991, training: ucc_acc=1.0 weighted_loss=0.0095548490062356 ucc_loss=0.0095548490062356 ae_loss=0 eval: ucc_acc=1.0 weighted_loss=0.0034963206853717566 ucc_loss=0.0034963206853717566 ae_loss=0\n"
     ]
    },
    {
     "name": "stderr",
     "output_type": "stream",
     "text": [
      " 55%|█████▌    | 11010/20009 [1:01:47<51:23,  2.92it/s]"
     ]
    },
    {
     "name": "stdout",
     "output_type": "stream",
     "text": [
      "Step 71001, training: ucc_acc=1.0 weighted_loss=8.912873454391956e-05 ucc_loss=8.912873454391956e-05 ae_loss=0 eval: ucc_acc=1.0 weighted_loss=0.021150559186935425 ucc_loss=0.021150559186935425 ae_loss=0\n"
     ]
    },
    {
     "name": "stderr",
     "output_type": "stream",
     "text": [
      " 55%|█████▌    | 11020/20009 [1:01:51<51:53,  2.89it/s]"
     ]
    },
    {
     "name": "stdout",
     "output_type": "stream",
     "text": [
      "Step 71011, training: ucc_acc=1.0 weighted_loss=0.010994824580848217 ucc_loss=0.010994824580848217 ae_loss=0 eval: ucc_acc=1.0 weighted_loss=0.010809715837240219 ucc_loss=0.010809715837240219 ae_loss=0\n"
     ]
    },
    {
     "name": "stderr",
     "output_type": "stream",
     "text": [
      " 55%|█████▌    | 11030/20009 [1:01:54<51:46,  2.89it/s]"
     ]
    },
    {
     "name": "stdout",
     "output_type": "stream",
     "text": [
      "Step 71021, training: ucc_acc=1.0 weighted_loss=0.020549289882183075 ucc_loss=0.020549289882183075 ae_loss=0 eval: ucc_acc=1.0 weighted_loss=0.0013111340813338757 ucc_loss=0.0013111340813338757 ae_loss=0\n"
     ]
    },
    {
     "name": "stderr",
     "output_type": "stream",
     "text": [
      " 55%|█████▌    | 11040/20009 [1:01:57<50:54,  2.94it/s]"
     ]
    },
    {
     "name": "stdout",
     "output_type": "stream",
     "text": [
      "Step 71031, training: ucc_acc=1.0 weighted_loss=0.02674565464258194 ucc_loss=0.02674565464258194 ae_loss=0 eval: ucc_acc=1.0 weighted_loss=0.009304026141762733 ucc_loss=0.009304026141762733 ae_loss=0\n"
     ]
    },
    {
     "name": "stderr",
     "output_type": "stream",
     "text": [
      " 55%|█████▌    | 11050/20009 [1:02:00<51:29,  2.90it/s]"
     ]
    },
    {
     "name": "stdout",
     "output_type": "stream",
     "text": [
      "Step 71041, training: ucc_acc=1.0 weighted_loss=0.0006946035427972674 ucc_loss=0.0006946035427972674 ae_loss=0 eval: ucc_acc=1.0 weighted_loss=0.05196279287338257 ucc_loss=0.05196279287338257 ae_loss=0\n"
     ]
    },
    {
     "name": "stderr",
     "output_type": "stream",
     "text": [
      " 55%|█████▌    | 11060/20009 [1:02:03<51:07,  2.92it/s]"
     ]
    },
    {
     "name": "stdout",
     "output_type": "stream",
     "text": [
      "Step 71051, training: ucc_acc=1.0 weighted_loss=0.0012691110605373979 ucc_loss=0.0012691110605373979 ae_loss=0 eval: ucc_acc=1.0 weighted_loss=0.0013563453685492277 ucc_loss=0.0013563453685492277 ae_loss=0\n"
     ]
    },
    {
     "name": "stderr",
     "output_type": "stream",
     "text": [
      " 55%|█████▌    | 11070/20009 [1:02:06<50:05,  2.97it/s]"
     ]
    },
    {
     "name": "stdout",
     "output_type": "stream",
     "text": [
      "Step 71061, training: ucc_acc=1.0 weighted_loss=0.00862052757292986 ucc_loss=0.00862052757292986 ae_loss=0 eval: ucc_acc=0.9333333373069763 weighted_loss=0.12677989900112152 ucc_loss=0.12677989900112152 ae_loss=0\n"
     ]
    },
    {
     "name": "stderr",
     "output_type": "stream",
     "text": [
      " 55%|█████▌    | 11080/20009 [1:02:09<49:38,  3.00it/s]"
     ]
    },
    {
     "name": "stdout",
     "output_type": "stream",
     "text": [
      "Step 71071, training: ucc_acc=0.9333333373069763 weighted_loss=0.11219194531440735 ucc_loss=0.11219194531440735 ae_loss=0 eval: ucc_acc=0.9333333373069763 weighted_loss=0.1644725501537323 ucc_loss=0.1644725501537323 ae_loss=0\n"
     ]
    },
    {
     "name": "stderr",
     "output_type": "stream",
     "text": [
      " 55%|█████▌    | 11090/20009 [1:02:12<50:20,  2.95it/s]"
     ]
    },
    {
     "name": "stdout",
     "output_type": "stream",
     "text": [
      "Step 71081, training: ucc_acc=0.9333333373069763 weighted_loss=0.11018051952123642 ucc_loss=0.11018051952123642 ae_loss=0 eval: ucc_acc=1.0 weighted_loss=0.010870327241718769 ucc_loss=0.010870327241718769 ae_loss=0\n"
     ]
    },
    {
     "name": "stderr",
     "output_type": "stream",
     "text": [
      " 55%|█████▌    | 11100/20009 [1:02:16<51:20,  2.89it/s]"
     ]
    },
    {
     "name": "stdout",
     "output_type": "stream",
     "text": [
      "Step 71091, training: ucc_acc=1.0 weighted_loss=0.011780640110373497 ucc_loss=0.011780640110373497 ae_loss=0 eval: ucc_acc=1.0 weighted_loss=0.021456599235534668 ucc_loss=0.021456599235534668 ae_loss=0\n"
     ]
    },
    {
     "name": "stderr",
     "output_type": "stream",
     "text": [
      " 56%|█████▌    | 11110/20009 [1:02:19<51:44,  2.87it/s]"
     ]
    },
    {
     "name": "stdout",
     "output_type": "stream",
     "text": [
      "Step 71101, training: ucc_acc=1.0 weighted_loss=8.59669380588457e-05 ucc_loss=8.59669380588457e-05 ae_loss=0 eval: ucc_acc=1.0 weighted_loss=0.0010983985848724842 ucc_loss=0.0010983985848724842 ae_loss=0\n"
     ]
    },
    {
     "name": "stderr",
     "output_type": "stream",
     "text": [
      " 56%|█████▌    | 11120/20009 [1:02:22<49:43,  2.98it/s]"
     ]
    },
    {
     "name": "stdout",
     "output_type": "stream",
     "text": [
      "Step 71111, training: ucc_acc=1.0 weighted_loss=0.0034074720460921526 ucc_loss=0.0034074720460921526 ae_loss=0 eval: ucc_acc=0.9333333373069763 weighted_loss=0.1743103712797165 ucc_loss=0.1743103712797165 ae_loss=0\n"
     ]
    },
    {
     "name": "stderr",
     "output_type": "stream",
     "text": [
      " 56%|█████▌    | 11130/20009 [1:02:25<52:40,  2.81it/s]"
     ]
    },
    {
     "name": "stdout",
     "output_type": "stream",
     "text": [
      "Step 71121, training: ucc_acc=1.0 weighted_loss=0.00859157182276249 ucc_loss=0.00859157182276249 ae_loss=0 eval: ucc_acc=1.0 weighted_loss=0.007488343399018049 ucc_loss=0.007488343399018049 ae_loss=0\n"
     ]
    },
    {
     "name": "stderr",
     "output_type": "stream",
     "text": [
      " 56%|█████▌    | 11140/20009 [1:02:28<51:05,  2.89it/s]"
     ]
    },
    {
     "name": "stdout",
     "output_type": "stream",
     "text": [
      "Step 71131, training: ucc_acc=1.0 weighted_loss=0.00011747181270038709 ucc_loss=0.00011747181270038709 ae_loss=0 eval: ucc_acc=1.0 weighted_loss=0.017426623031497 ucc_loss=0.017426623031497 ae_loss=0\n"
     ]
    },
    {
     "name": "stderr",
     "output_type": "stream",
     "text": [
      " 56%|█████▌    | 11150/20009 [1:02:31<50:34,  2.92it/s]"
     ]
    },
    {
     "name": "stdout",
     "output_type": "stream",
     "text": [
      "Step 71141, training: ucc_acc=1.0 weighted_loss=0.007815362885594368 ucc_loss=0.007815362885594368 ae_loss=0 eval: ucc_acc=1.0 weighted_loss=0.009514298290014267 ucc_loss=0.009514298290014267 ae_loss=0\n"
     ]
    },
    {
     "name": "stderr",
     "output_type": "stream",
     "text": [
      " 56%|█████▌    | 11160/20009 [1:02:35<56:34,  2.61it/s]"
     ]
    },
    {
     "name": "stdout",
     "output_type": "stream",
     "text": [
      "Step 71151, training: ucc_acc=1.0 weighted_loss=0.004423147067427635 ucc_loss=0.004423147067427635 ae_loss=0 eval: ucc_acc=1.0 weighted_loss=0.006383114960044622 ucc_loss=0.006383114960044622 ae_loss=0\n"
     ]
    },
    {
     "name": "stderr",
     "output_type": "stream",
     "text": [
      " 56%|█████▌    | 11170/20009 [1:02:38<49:55,  2.95it/s]"
     ]
    },
    {
     "name": "stdout",
     "output_type": "stream",
     "text": [
      "Step 71161, training: ucc_acc=1.0 weighted_loss=0.0023795098531991243 ucc_loss=0.0023795098531991243 ae_loss=0 eval: ucc_acc=1.0 weighted_loss=0.04191740229725838 ucc_loss=0.04191740229725838 ae_loss=0\n"
     ]
    },
    {
     "name": "stderr",
     "output_type": "stream",
     "text": [
      " 56%|█████▌    | 11180/20009 [1:02:41<50:12,  2.93it/s]"
     ]
    },
    {
     "name": "stdout",
     "output_type": "stream",
     "text": [
      "Step 71171, training: ucc_acc=1.0 weighted_loss=0.005032066721469164 ucc_loss=0.005032066721469164 ae_loss=0 eval: ucc_acc=1.0 weighted_loss=0.009426918812096119 ucc_loss=0.009426918812096119 ae_loss=0\n"
     ]
    },
    {
     "name": "stderr",
     "output_type": "stream",
     "text": [
      " 56%|█████▌    | 11190/20009 [1:02:44<50:54,  2.89it/s]"
     ]
    },
    {
     "name": "stdout",
     "output_type": "stream",
     "text": [
      "Step 71181, training: ucc_acc=1.0 weighted_loss=0.036276478320360184 ucc_loss=0.036276478320360184 ae_loss=0 eval: ucc_acc=1.0 weighted_loss=0.0006802716525271535 ucc_loss=0.0006802716525271535 ae_loss=0\n"
     ]
    },
    {
     "name": "stderr",
     "output_type": "stream",
     "text": [
      " 56%|█████▌    | 11200/20009 [1:02:47<51:44,  2.84it/s]"
     ]
    },
    {
     "name": "stdout",
     "output_type": "stream",
     "text": [
      "Step 71191, training: ucc_acc=1.0 weighted_loss=0.007978386245667934 ucc_loss=0.007978386245667934 ae_loss=0 eval: ucc_acc=1.0 weighted_loss=0.04933421313762665 ucc_loss=0.04933421313762665 ae_loss=0\n"
     ]
    },
    {
     "name": "stderr",
     "output_type": "stream",
     "text": [
      " 56%|█████▌    | 11210/20009 [1:02:50<51:14,  2.86it/s]"
     ]
    },
    {
     "name": "stdout",
     "output_type": "stream",
     "text": [
      "Step 71201, training: ucc_acc=1.0 weighted_loss=0.002007952891290188 ucc_loss=0.002007952891290188 ae_loss=0 eval: ucc_acc=1.0 weighted_loss=0.00862953532487154 ucc_loss=0.00862953532487154 ae_loss=0\n"
     ]
    },
    {
     "name": "stderr",
     "output_type": "stream",
     "text": [
      " 56%|█████▌    | 11220/20009 [1:02:53<53:06,  2.76it/s]"
     ]
    },
    {
     "name": "stdout",
     "output_type": "stream",
     "text": [
      "Step 71211, training: ucc_acc=1.0 weighted_loss=0.012177437543869019 ucc_loss=0.012177437543869019 ae_loss=0 eval: ucc_acc=1.0 weighted_loss=0.0003748605086002499 ucc_loss=0.0003748605086002499 ae_loss=0\n"
     ]
    },
    {
     "name": "stderr",
     "output_type": "stream",
     "text": [
      " 56%|█████▌    | 11230/20009 [1:02:57<50:52,  2.88it/s]"
     ]
    },
    {
     "name": "stdout",
     "output_type": "stream",
     "text": [
      "Step 71221, training: ucc_acc=1.0 weighted_loss=0.005708085838705301 ucc_loss=0.005708085838705301 ae_loss=0 eval: ucc_acc=1.0 weighted_loss=0.0006493660039268434 ucc_loss=0.0006493660039268434 ae_loss=0\n"
     ]
    },
    {
     "name": "stderr",
     "output_type": "stream",
     "text": [
      " 56%|█████▌    | 11240/20009 [1:03:00<53:03,  2.75it/s]"
     ]
    },
    {
     "name": "stdout",
     "output_type": "stream",
     "text": [
      "Step 71231, training: ucc_acc=1.0 weighted_loss=0.00046212307643145323 ucc_loss=0.00046212307643145323 ae_loss=0 eval: ucc_acc=1.0 weighted_loss=0.015225483104586601 ucc_loss=0.015225483104586601 ae_loss=0\n"
     ]
    },
    {
     "name": "stderr",
     "output_type": "stream",
     "text": [
      " 56%|█████▌    | 11250/20009 [1:03:03<51:51,  2.81it/s]"
     ]
    },
    {
     "name": "stdout",
     "output_type": "stream",
     "text": [
      "Step 71241, training: ucc_acc=0.9333333373069763 weighted_loss=0.17288675904273987 ucc_loss=0.17288675904273987 ae_loss=0 eval: ucc_acc=1.0 weighted_loss=0.011842857114970684 ucc_loss=0.011842857114970684 ae_loss=0\n"
     ]
    },
    {
     "name": "stderr",
     "output_type": "stream",
     "text": [
      " 56%|█████▋    | 11260/20009 [1:03:06<51:44,  2.82it/s]"
     ]
    },
    {
     "name": "stdout",
     "output_type": "stream",
     "text": [
      "Step 71251, training: ucc_acc=1.0 weighted_loss=0.0020421904046088457 ucc_loss=0.0020421904046088457 ae_loss=0 eval: ucc_acc=1.0 weighted_loss=0.0011881483951583505 ucc_loss=0.0011881483951583505 ae_loss=0\n"
     ]
    },
    {
     "name": "stderr",
     "output_type": "stream",
     "text": [
      " 56%|█████▋    | 11270/20009 [1:03:09<50:50,  2.86it/s]"
     ]
    },
    {
     "name": "stdout",
     "output_type": "stream",
     "text": [
      "Step 71261, training: ucc_acc=1.0 weighted_loss=0.005441146902740002 ucc_loss=0.005441146902740002 ae_loss=0 eval: ucc_acc=1.0 weighted_loss=0.003634155262261629 ucc_loss=0.003634155262261629 ae_loss=0\n"
     ]
    },
    {
     "name": "stderr",
     "output_type": "stream",
     "text": [
      " 56%|█████▋    | 11280/20009 [1:03:13<50:14,  2.90it/s]"
     ]
    },
    {
     "name": "stdout",
     "output_type": "stream",
     "text": [
      "Step 71271, training: ucc_acc=1.0 weighted_loss=0.02468370459973812 ucc_loss=0.02468370459973812 ae_loss=0 eval: ucc_acc=1.0 weighted_loss=0.00017494686471763998 ucc_loss=0.00017494686471763998 ae_loss=0\n"
     ]
    },
    {
     "name": "stderr",
     "output_type": "stream",
     "text": [
      " 56%|█████▋    | 11290/20009 [1:03:16<49:13,  2.95it/s]"
     ]
    },
    {
     "name": "stdout",
     "output_type": "stream",
     "text": [
      "Step 71281, training: ucc_acc=1.0 weighted_loss=0.012380084954202175 ucc_loss=0.012380084954202175 ae_loss=0 eval: ucc_acc=1.0 weighted_loss=0.03181450814008713 ucc_loss=0.03181450814008713 ae_loss=0\n"
     ]
    },
    {
     "name": "stderr",
     "output_type": "stream",
     "text": [
      " 56%|█████▋    | 11300/20009 [1:03:19<49:22,  2.94it/s]"
     ]
    },
    {
     "name": "stdout",
     "output_type": "stream",
     "text": [
      "Step 71291, training: ucc_acc=1.0 weighted_loss=0.002740797121077776 ucc_loss=0.002740797121077776 ae_loss=0 eval: ucc_acc=0.9333333373069763 weighted_loss=0.21141265332698822 ucc_loss=0.21141265332698822 ae_loss=0\n"
     ]
    },
    {
     "name": "stderr",
     "output_type": "stream",
     "text": [
      " 57%|█████▋    | 11310/20009 [1:03:22<50:15,  2.88it/s]"
     ]
    },
    {
     "name": "stdout",
     "output_type": "stream",
     "text": [
      "Step 71301, training: ucc_acc=0.9333333373069763 weighted_loss=0.2086351215839386 ucc_loss=0.2086351215839386 ae_loss=0 eval: ucc_acc=1.0 weighted_loss=0.001902935327962041 ucc_loss=0.001902935327962041 ae_loss=0\n"
     ]
    },
    {
     "name": "stderr",
     "output_type": "stream",
     "text": [
      " 57%|█████▋    | 11320/20009 [1:03:25<49:24,  2.93it/s]"
     ]
    },
    {
     "name": "stdout",
     "output_type": "stream",
     "text": [
      "Step 71311, training: ucc_acc=1.0 weighted_loss=0.0004959410289302468 ucc_loss=0.0004959410289302468 ae_loss=0 eval: ucc_acc=1.0 weighted_loss=0.0005960462149232626 ucc_loss=0.0005960462149232626 ae_loss=0\n"
     ]
    },
    {
     "name": "stderr",
     "output_type": "stream",
     "text": [
      " 57%|█████▋    | 11330/20009 [1:03:28<49:42,  2.91it/s]"
     ]
    },
    {
     "name": "stdout",
     "output_type": "stream",
     "text": [
      "Step 71321, training: ucc_acc=1.0 weighted_loss=0.012763917446136475 ucc_loss=0.012763917446136475 ae_loss=0 eval: ucc_acc=1.0 weighted_loss=0.011230566538870335 ucc_loss=0.011230566538870335 ae_loss=0\n"
     ]
    },
    {
     "name": "stderr",
     "output_type": "stream",
     "text": [
      " 57%|█████▋    | 11340/20009 [1:03:31<52:04,  2.77it/s]"
     ]
    },
    {
     "name": "stdout",
     "output_type": "stream",
     "text": [
      "Step 71331, training: ucc_acc=1.0 weighted_loss=0.0009157658205367625 ucc_loss=0.0009157658205367625 ae_loss=0 eval: ucc_acc=1.0 weighted_loss=0.01351882517337799 ucc_loss=0.01351882517337799 ae_loss=0\n"
     ]
    },
    {
     "name": "stderr",
     "output_type": "stream",
     "text": [
      " 57%|█████▋    | 11350/20009 [1:03:35<49:58,  2.89it/s]"
     ]
    },
    {
     "name": "stdout",
     "output_type": "stream",
     "text": [
      "Step 71341, training: ucc_acc=1.0 weighted_loss=0.0035988660529255867 ucc_loss=0.0035988660529255867 ae_loss=0 eval: ucc_acc=1.0 weighted_loss=0.0024248543195426464 ucc_loss=0.0024248543195426464 ae_loss=0\n"
     ]
    },
    {
     "name": "stderr",
     "output_type": "stream",
     "text": [
      " 57%|█████▋    | 11360/20009 [1:03:38<49:35,  2.91it/s]"
     ]
    },
    {
     "name": "stdout",
     "output_type": "stream",
     "text": [
      "Step 71351, training: ucc_acc=1.0 weighted_loss=0.000898446945939213 ucc_loss=0.000898446945939213 ae_loss=0 eval: ucc_acc=1.0 weighted_loss=0.021537143737077713 ucc_loss=0.021537143737077713 ae_loss=0\n"
     ]
    },
    {
     "name": "stderr",
     "output_type": "stream",
     "text": [
      " 57%|█████▋    | 11370/20009 [1:03:41<48:58,  2.94it/s]"
     ]
    },
    {
     "name": "stdout",
     "output_type": "stream",
     "text": [
      "Step 71361, training: ucc_acc=1.0 weighted_loss=0.032860420644283295 ucc_loss=0.032860420644283295 ae_loss=0 eval: ucc_acc=1.0 weighted_loss=0.004424809943884611 ucc_loss=0.004424809943884611 ae_loss=0\n"
     ]
    },
    {
     "name": "stderr",
     "output_type": "stream",
     "text": [
      " 57%|█████▋    | 11380/20009 [1:03:44<48:57,  2.94it/s]"
     ]
    },
    {
     "name": "stdout",
     "output_type": "stream",
     "text": [
      "Step 71371, training: ucc_acc=1.0 weighted_loss=0.022000815719366074 ucc_loss=0.022000815719366074 ae_loss=0 eval: ucc_acc=1.0 weighted_loss=0.02948431298136711 ucc_loss=0.02948431298136711 ae_loss=0\n"
     ]
    },
    {
     "name": "stderr",
     "output_type": "stream",
     "text": [
      " 57%|█████▋    | 11390/20009 [1:03:47<48:17,  2.97it/s]"
     ]
    },
    {
     "name": "stdout",
     "output_type": "stream",
     "text": [
      "Step 71381, training: ucc_acc=1.0 weighted_loss=0.00020612464868463576 ucc_loss=0.00020612464868463576 ae_loss=0 eval: ucc_acc=1.0 weighted_loss=0.007375731598585844 ucc_loss=0.007375731598585844 ae_loss=0\n"
     ]
    },
    {
     "name": "stderr",
     "output_type": "stream",
     "text": [
      " 57%|█████▋    | 11400/20009 [1:03:50<50:12,  2.86it/s]"
     ]
    },
    {
     "name": "stdout",
     "output_type": "stream",
     "text": [
      "Step 71391, training: ucc_acc=1.0 weighted_loss=0.010764866136014462 ucc_loss=0.010764866136014462 ae_loss=0 eval: ucc_acc=1.0 weighted_loss=0.000495369138661772 ucc_loss=0.000495369138661772 ae_loss=0\n"
     ]
    },
    {
     "name": "stderr",
     "output_type": "stream",
     "text": [
      " 57%|█████▋    | 11410/20009 [1:03:53<49:59,  2.87it/s]"
     ]
    },
    {
     "name": "stdout",
     "output_type": "stream",
     "text": [
      "Step 71401, training: ucc_acc=1.0 weighted_loss=0.006625241134315729 ucc_loss=0.006625241134315729 ae_loss=0 eval: ucc_acc=1.0 weighted_loss=0.004733685869723558 ucc_loss=0.004733685869723558 ae_loss=0\n"
     ]
    },
    {
     "name": "stderr",
     "output_type": "stream",
     "text": [
      " 57%|█████▋    | 11420/20009 [1:03:56<49:03,  2.92it/s]"
     ]
    },
    {
     "name": "stdout",
     "output_type": "stream",
     "text": [
      "Step 71411, training: ucc_acc=1.0 weighted_loss=0.00017265803762711585 ucc_loss=0.00017265803762711585 ae_loss=0 eval: ucc_acc=1.0 weighted_loss=0.006123438943177462 ucc_loss=0.006123438943177462 ae_loss=0\n"
     ]
    },
    {
     "name": "stderr",
     "output_type": "stream",
     "text": [
      " 57%|█████▋    | 11430/20009 [1:04:00<49:41,  2.88it/s]"
     ]
    },
    {
     "name": "stdout",
     "output_type": "stream",
     "text": [
      "Step 71421, training: ucc_acc=1.0 weighted_loss=0.0013766288757324219 ucc_loss=0.0013766288757324219 ae_loss=0 eval: ucc_acc=1.0 weighted_loss=0.003182349493727088 ucc_loss=0.003182349493727088 ae_loss=0\n"
     ]
    },
    {
     "name": "stderr",
     "output_type": "stream",
     "text": [
      " 57%|█████▋    | 11440/20009 [1:04:03<48:46,  2.93it/s]"
     ]
    },
    {
     "name": "stdout",
     "output_type": "stream",
     "text": [
      "Step 71431, training: ucc_acc=1.0 weighted_loss=0.004235586617141962 ucc_loss=0.004235586617141962 ae_loss=0 eval: ucc_acc=0.9333333373069763 weighted_loss=0.18728691339492798 ucc_loss=0.18728691339492798 ae_loss=0\n"
     ]
    },
    {
     "name": "stderr",
     "output_type": "stream",
     "text": [
      " 57%|█████▋    | 11450/20009 [1:04:06<49:30,  2.88it/s]"
     ]
    },
    {
     "name": "stdout",
     "output_type": "stream",
     "text": [
      "Step 71441, training: ucc_acc=1.0 weighted_loss=0.0023090713657438755 ucc_loss=0.0023090713657438755 ae_loss=0 eval: ucc_acc=1.0 weighted_loss=0.00276778033003211 ucc_loss=0.00276778033003211 ae_loss=0\n"
     ]
    },
    {
     "name": "stderr",
     "output_type": "stream",
     "text": [
      " 57%|█████▋    | 11460/20009 [1:04:09<48:37,  2.93it/s]"
     ]
    },
    {
     "name": "stdout",
     "output_type": "stream",
     "text": [
      "Step 71451, training: ucc_acc=1.0 weighted_loss=0.0239208173006773 ucc_loss=0.0239208173006773 ae_loss=0 eval: ucc_acc=1.0 weighted_loss=0.001390918274410069 ucc_loss=0.001390918274410069 ae_loss=0\n"
     ]
    },
    {
     "name": "stderr",
     "output_type": "stream",
     "text": [
      " 57%|█████▋    | 11470/20009 [1:04:12<48:30,  2.93it/s]"
     ]
    },
    {
     "name": "stdout",
     "output_type": "stream",
     "text": [
      "Step 71461, training: ucc_acc=1.0 weighted_loss=0.00651288777589798 ucc_loss=0.00651288777589798 ae_loss=0 eval: ucc_acc=0.9333333373069763 weighted_loss=0.10526199638843536 ucc_loss=0.10526199638843536 ae_loss=0\n"
     ]
    },
    {
     "name": "stderr",
     "output_type": "stream",
     "text": [
      " 57%|█████▋    | 11480/20009 [1:04:15<49:56,  2.85it/s]"
     ]
    },
    {
     "name": "stdout",
     "output_type": "stream",
     "text": [
      "Step 71471, training: ucc_acc=1.0 weighted_loss=0.002150742569938302 ucc_loss=0.002150742569938302 ae_loss=0 eval: ucc_acc=1.0 weighted_loss=0.0078275753185153 ucc_loss=0.0078275753185153 ae_loss=0\n"
     ]
    },
    {
     "name": "stderr",
     "output_type": "stream",
     "text": [
      " 57%|█████▋    | 11490/20009 [1:04:19<49:10,  2.89it/s]"
     ]
    },
    {
     "name": "stdout",
     "output_type": "stream",
     "text": [
      "Step 71481, training: ucc_acc=1.0 weighted_loss=0.0004184422723483294 ucc_loss=0.0004184422723483294 ae_loss=0 eval: ucc_acc=1.0 weighted_loss=0.007943122647702694 ucc_loss=0.007943122647702694 ae_loss=0\n"
     ]
    },
    {
     "name": "stderr",
     "output_type": "stream",
     "text": [
      " 57%|█████▋    | 11500/20009 [1:04:22<47:40,  2.97it/s]"
     ]
    },
    {
     "name": "stdout",
     "output_type": "stream",
     "text": [
      "Step 71491, training: ucc_acc=1.0 weighted_loss=0.02061103656888008 ucc_loss=0.02061103656888008 ae_loss=0 eval: ucc_acc=0.9333333373069763 weighted_loss=0.15237273275852203 ucc_loss=0.15237273275852203 ae_loss=0\n"
     ]
    },
    {
     "name": "stderr",
     "output_type": "stream",
     "text": [
      " 58%|█████▊    | 11510/20009 [1:04:25<47:01,  3.01it/s]"
     ]
    },
    {
     "name": "stdout",
     "output_type": "stream",
     "text": [
      "Step 71501, training: ucc_acc=1.0 weighted_loss=0.031015194952487946 ucc_loss=0.031015194952487946 ae_loss=0 eval: ucc_acc=0.9333333373069763 weighted_loss=0.14347927272319794 ucc_loss=0.14347927272319794 ae_loss=0\n"
     ]
    },
    {
     "name": "stderr",
     "output_type": "stream",
     "text": [
      " 58%|█████▊    | 11520/20009 [1:04:28<48:51,  2.90it/s]"
     ]
    },
    {
     "name": "stdout",
     "output_type": "stream",
     "text": [
      "Step 71511, training: ucc_acc=1.0 weighted_loss=0.021267902106046677 ucc_loss=0.021267902106046677 ae_loss=0 eval: ucc_acc=1.0 weighted_loss=0.0039175585843622684 ucc_loss=0.0039175585843622684 ae_loss=0\n"
     ]
    },
    {
     "name": "stderr",
     "output_type": "stream",
     "text": [
      " 58%|█████▊    | 11530/20009 [1:04:31<48:45,  2.90it/s]"
     ]
    },
    {
     "name": "stdout",
     "output_type": "stream",
     "text": [
      "Step 71521, training: ucc_acc=1.0 weighted_loss=4.8642723413649946e-05 ucc_loss=4.8642723413649946e-05 ae_loss=0 eval: ucc_acc=1.0 weighted_loss=0.0009971278486773372 ucc_loss=0.0009971278486773372 ae_loss=0\n"
     ]
    },
    {
     "name": "stderr",
     "output_type": "stream",
     "text": [
      " 58%|█████▊    | 11540/20009 [1:04:34<47:55,  2.95it/s]"
     ]
    },
    {
     "name": "stdout",
     "output_type": "stream",
     "text": [
      "Step 71531, training: ucc_acc=1.0 weighted_loss=0.0003438216808717698 ucc_loss=0.0003438216808717698 ae_loss=0 eval: ucc_acc=1.0 weighted_loss=8.617145795142278e-05 ucc_loss=8.617145795142278e-05 ae_loss=0\n"
     ]
    },
    {
     "name": "stderr",
     "output_type": "stream",
     "text": [
      " 58%|█████▊    | 11550/20009 [1:04:37<47:52,  2.94it/s]"
     ]
    },
    {
     "name": "stdout",
     "output_type": "stream",
     "text": [
      "Step 71541, training: ucc_acc=1.0 weighted_loss=0.006559861358255148 ucc_loss=0.006559861358255148 ae_loss=0 eval: ucc_acc=1.0 weighted_loss=0.0001594002969795838 ucc_loss=0.0001594002969795838 ae_loss=0\n"
     ]
    },
    {
     "name": "stderr",
     "output_type": "stream",
     "text": [
      " 58%|█████▊    | 11560/20009 [1:04:40<48:06,  2.93it/s]"
     ]
    },
    {
     "name": "stdout",
     "output_type": "stream",
     "text": [
      "Step 71551, training: ucc_acc=1.0 weighted_loss=0.03646717220544815 ucc_loss=0.03646717220544815 ae_loss=0 eval: ucc_acc=1.0 weighted_loss=0.000848339288495481 ucc_loss=0.000848339288495481 ae_loss=0\n"
     ]
    },
    {
     "name": "stderr",
     "output_type": "stream",
     "text": [
      " 58%|█████▊    | 11570/20009 [1:04:43<49:18,  2.85it/s]"
     ]
    },
    {
     "name": "stdout",
     "output_type": "stream",
     "text": [
      "Step 71561, training: ucc_acc=1.0 weighted_loss=0.0183027982711792 ucc_loss=0.0183027982711792 ae_loss=0 eval: ucc_acc=1.0 weighted_loss=0.02008465677499771 ucc_loss=0.02008465677499771 ae_loss=0\n"
     ]
    },
    {
     "name": "stderr",
     "output_type": "stream",
     "text": [
      " 58%|█████▊    | 11580/20009 [1:04:47<49:17,  2.85it/s]"
     ]
    },
    {
     "name": "stdout",
     "output_type": "stream",
     "text": [
      "Step 71571, training: ucc_acc=1.0 weighted_loss=0.009479161351919174 ucc_loss=0.009479161351919174 ae_loss=0 eval: ucc_acc=1.0 weighted_loss=0.016461046412587166 ucc_loss=0.016461046412587166 ae_loss=0\n"
     ]
    },
    {
     "name": "stderr",
     "output_type": "stream",
     "text": [
      " 58%|█████▊    | 11590/20009 [1:04:50<48:50,  2.87it/s]"
     ]
    },
    {
     "name": "stdout",
     "output_type": "stream",
     "text": [
      "Step 71581, training: ucc_acc=1.0 weighted_loss=0.0025708102621138096 ucc_loss=0.0025708102621138096 ae_loss=0 eval: ucc_acc=1.0 weighted_loss=0.008718200959265232 ucc_loss=0.008718200959265232 ae_loss=0\n"
     ]
    },
    {
     "name": "stderr",
     "output_type": "stream",
     "text": [
      " 58%|█████▊    | 11600/20009 [1:04:53<47:21,  2.96it/s]"
     ]
    },
    {
     "name": "stdout",
     "output_type": "stream",
     "text": [
      "Step 71591, training: ucc_acc=1.0 weighted_loss=0.005899381823837757 ucc_loss=0.005899381823837757 ae_loss=0 eval: ucc_acc=1.0 weighted_loss=0.0039068907499313354 ucc_loss=0.0039068907499313354 ae_loss=0\n"
     ]
    },
    {
     "name": "stderr",
     "output_type": "stream",
     "text": [
      " 58%|█████▊    | 11610/20009 [1:04:56<46:54,  2.98it/s]"
     ]
    },
    {
     "name": "stdout",
     "output_type": "stream",
     "text": [
      "Step 71601, training: ucc_acc=1.0 weighted_loss=0.00045707341632805765 ucc_loss=0.00045707341632805765 ae_loss=0 eval: ucc_acc=0.9333333373069763 weighted_loss=0.06963620334863663 ucc_loss=0.06963620334863663 ae_loss=0\n"
     ]
    },
    {
     "name": "stderr",
     "output_type": "stream",
     "text": [
      " 58%|█████▊    | 11620/20009 [1:04:59<47:13,  2.96it/s]"
     ]
    },
    {
     "name": "stdout",
     "output_type": "stream",
     "text": [
      "Step 71611, training: ucc_acc=1.0 weighted_loss=0.014900824055075645 ucc_loss=0.014900824055075645 ae_loss=0 eval: ucc_acc=0.9333333373069763 weighted_loss=0.11026324331760406 ucc_loss=0.11026324331760406 ae_loss=0\n"
     ]
    },
    {
     "name": "stderr",
     "output_type": "stream",
     "text": [
      " 58%|█████▊    | 11630/20009 [1:05:02<48:32,  2.88it/s]"
     ]
    },
    {
     "name": "stdout",
     "output_type": "stream",
     "text": [
      "Step 71621, training: ucc_acc=1.0 weighted_loss=0.015077125281095505 ucc_loss=0.015077125281095505 ae_loss=0 eval: ucc_acc=1.0 weighted_loss=0.01772742159664631 ucc_loss=0.01772742159664631 ae_loss=0\n"
     ]
    },
    {
     "name": "stderr",
     "output_type": "stream",
     "text": [
      " 58%|█████▊    | 11640/20009 [1:05:05<47:40,  2.93it/s]"
     ]
    },
    {
     "name": "stdout",
     "output_type": "stream",
     "text": [
      "Step 71631, training: ucc_acc=1.0 weighted_loss=0.0023607551120221615 ucc_loss=0.0023607551120221615 ae_loss=0 eval: ucc_acc=0.9333333373069763 weighted_loss=0.15024812519550323 ucc_loss=0.15024812519550323 ae_loss=0\n"
     ]
    },
    {
     "name": "stderr",
     "output_type": "stream",
     "text": [
      " 58%|█████▊    | 11650/20009 [1:05:08<47:45,  2.92it/s]"
     ]
    },
    {
     "name": "stdout",
     "output_type": "stream",
     "text": [
      "Step 71641, training: ucc_acc=1.0 weighted_loss=0.014624669216573238 ucc_loss=0.014624669216573238 ae_loss=0 eval: ucc_acc=1.0 weighted_loss=0.0017727427184581757 ucc_loss=0.0017727427184581757 ae_loss=0\n"
     ]
    },
    {
     "name": "stderr",
     "output_type": "stream",
     "text": [
      " 58%|█████▊    | 11660/20009 [1:05:12<49:28,  2.81it/s]"
     ]
    },
    {
     "name": "stdout",
     "output_type": "stream",
     "text": [
      "Step 71651, training: ucc_acc=1.0 weighted_loss=0.03163430839776993 ucc_loss=0.03163430839776993 ae_loss=0 eval: ucc_acc=1.0 weighted_loss=0.0101375263184309 ucc_loss=0.0101375263184309 ae_loss=0\n"
     ]
    },
    {
     "name": "stderr",
     "output_type": "stream",
     "text": [
      " 58%|█████▊    | 11670/20009 [1:05:15<47:11,  2.95it/s]"
     ]
    },
    {
     "name": "stdout",
     "output_type": "stream",
     "text": [
      "Step 71661, training: ucc_acc=1.0 weighted_loss=0.01785961538553238 ucc_loss=0.01785961538553238 ae_loss=0 eval: ucc_acc=1.0 weighted_loss=0.039448462426662445 ucc_loss=0.039448462426662445 ae_loss=0\n"
     ]
    },
    {
     "name": "stderr",
     "output_type": "stream",
     "text": [
      " 58%|█████▊    | 11680/20009 [1:05:18<47:56,  2.90it/s]"
     ]
    },
    {
     "name": "stdout",
     "output_type": "stream",
     "text": [
      "Step 71671, training: ucc_acc=1.0 weighted_loss=0.011139953508973122 ucc_loss=0.011139953508973122 ae_loss=0 eval: ucc_acc=1.0 weighted_loss=0.007321623153984547 ucc_loss=0.007321623153984547 ae_loss=0\n"
     ]
    },
    {
     "name": "stderr",
     "output_type": "stream",
     "text": [
      " 58%|█████▊    | 11690/20009 [1:05:21<47:31,  2.92it/s]"
     ]
    },
    {
     "name": "stdout",
     "output_type": "stream",
     "text": [
      "Step 71681, training: ucc_acc=1.0 weighted_loss=0.00010611891775624827 ucc_loss=0.00010611891775624827 ae_loss=0 eval: ucc_acc=1.0 weighted_loss=5.279599645291455e-05 ucc_loss=5.279599645291455e-05 ae_loss=0\n"
     ]
    },
    {
     "name": "stderr",
     "output_type": "stream",
     "text": [
      " 58%|█████▊    | 11700/20009 [1:05:24<48:33,  2.85it/s]"
     ]
    },
    {
     "name": "stdout",
     "output_type": "stream",
     "text": [
      "Step 71691, training: ucc_acc=1.0 weighted_loss=0.00048100980347953737 ucc_loss=0.00048100980347953737 ae_loss=0 eval: ucc_acc=1.0 weighted_loss=0.016311082988977432 ucc_loss=0.016311082988977432 ae_loss=0\n"
     ]
    },
    {
     "name": "stderr",
     "output_type": "stream",
     "text": [
      " 59%|█████▊    | 11710/20009 [1:05:27<48:58,  2.82it/s]"
     ]
    },
    {
     "name": "stdout",
     "output_type": "stream",
     "text": [
      "Step 71701, training: ucc_acc=1.0 weighted_loss=0.004450829233974218 ucc_loss=0.004450829233974218 ae_loss=0 eval: ucc_acc=1.0 weighted_loss=0.015149454586207867 ucc_loss=0.015149454586207867 ae_loss=0\n"
     ]
    },
    {
     "name": "stderr",
     "output_type": "stream",
     "text": [
      " 59%|█████▊    | 11720/20009 [1:05:31<51:20,  2.69it/s]"
     ]
    },
    {
     "name": "stdout",
     "output_type": "stream",
     "text": [
      "Step 71711, training: ucc_acc=1.0 weighted_loss=0.011566787958145142 ucc_loss=0.011566787958145142 ae_loss=0 eval: ucc_acc=1.0 weighted_loss=0.0002502889255993068 ucc_loss=0.0002502889255993068 ae_loss=0\n"
     ]
    },
    {
     "name": "stderr",
     "output_type": "stream",
     "text": [
      " 59%|█████▊    | 11730/20009 [1:05:34<48:58,  2.82it/s]"
     ]
    },
    {
     "name": "stdout",
     "output_type": "stream",
     "text": [
      "Step 71721, training: ucc_acc=1.0 weighted_loss=0.021739579737186432 ucc_loss=0.021739579737186432 ae_loss=0 eval: ucc_acc=1.0 weighted_loss=0.012285292148590088 ucc_loss=0.012285292148590088 ae_loss=0\n"
     ]
    },
    {
     "name": "stderr",
     "output_type": "stream",
     "text": [
      " 59%|█████▊    | 11740/20009 [1:05:37<48:22,  2.85it/s]"
     ]
    },
    {
     "name": "stdout",
     "output_type": "stream",
     "text": [
      "Step 71731, training: ucc_acc=1.0 weighted_loss=0.030231023207306862 ucc_loss=0.030231023207306862 ae_loss=0 eval: ucc_acc=1.0 weighted_loss=0.006860800087451935 ucc_loss=0.006860800087451935 ae_loss=0\n"
     ]
    },
    {
     "name": "stderr",
     "output_type": "stream",
     "text": [
      " 59%|█████▊    | 11750/20009 [1:05:40<49:12,  2.80it/s]"
     ]
    },
    {
     "name": "stdout",
     "output_type": "stream",
     "text": [
      "Step 71741, training: ucc_acc=1.0 weighted_loss=0.007252178620547056 ucc_loss=0.007252178620547056 ae_loss=0 eval: ucc_acc=1.0 weighted_loss=0.0059213838540017605 ucc_loss=0.0059213838540017605 ae_loss=0\n"
     ]
    },
    {
     "name": "stderr",
     "output_type": "stream",
     "text": [
      " 59%|█████▉    | 11760/20009 [1:05:44<49:12,  2.79it/s]"
     ]
    },
    {
     "name": "stdout",
     "output_type": "stream",
     "text": [
      "Step 71751, training: ucc_acc=1.0 weighted_loss=0.004594648722559214 ucc_loss=0.004594648722559214 ae_loss=0 eval: ucc_acc=1.0 weighted_loss=0.024094808846712112 ucc_loss=0.024094808846712112 ae_loss=0\n"
     ]
    },
    {
     "name": "stderr",
     "output_type": "stream",
     "text": [
      " 59%|█████▉    | 11770/20009 [1:05:47<52:15,  2.63it/s]"
     ]
    },
    {
     "name": "stdout",
     "output_type": "stream",
     "text": [
      "Step 71761, training: ucc_acc=1.0 weighted_loss=0.004073984920978546 ucc_loss=0.004073984920978546 ae_loss=0 eval: ucc_acc=1.0 weighted_loss=0.0037054037675261497 ucc_loss=0.0037054037675261497 ae_loss=0\n"
     ]
    },
    {
     "name": "stderr",
     "output_type": "stream",
     "text": [
      " 59%|█████▉    | 11780/20009 [1:05:50<51:02,  2.69it/s]"
     ]
    },
    {
     "name": "stdout",
     "output_type": "stream",
     "text": [
      "Step 71771, training: ucc_acc=0.9333333373069763 weighted_loss=0.18017427623271942 ucc_loss=0.18017427623271942 ae_loss=0 eval: ucc_acc=0.9333333373069763 weighted_loss=0.13192084431648254 ucc_loss=0.13192084431648254 ae_loss=0\n"
     ]
    },
    {
     "name": "stderr",
     "output_type": "stream",
     "text": [
      " 59%|█████▉    | 11790/20009 [1:05:54<49:40,  2.76it/s]"
     ]
    },
    {
     "name": "stdout",
     "output_type": "stream",
     "text": [
      "Step 71781, training: ucc_acc=1.0 weighted_loss=0.0008657079888507724 ucc_loss=0.0008657079888507724 ae_loss=0 eval: ucc_acc=0.9333333373069763 weighted_loss=0.14878323674201965 ucc_loss=0.14878323674201965 ae_loss=0\n"
     ]
    },
    {
     "name": "stderr",
     "output_type": "stream",
     "text": [
      " 59%|█████▉    | 11800/20009 [1:05:57<46:07,  2.97it/s]"
     ]
    },
    {
     "name": "stdout",
     "output_type": "stream",
     "text": [
      "Step 71791, training: ucc_acc=1.0 weighted_loss=0.0381130650639534 ucc_loss=0.0381130650639534 ae_loss=0 eval: ucc_acc=1.0 weighted_loss=0.02152693085372448 ucc_loss=0.02152693085372448 ae_loss=0\n"
     ]
    },
    {
     "name": "stderr",
     "output_type": "stream",
     "text": [
      " 59%|█████▉    | 11810/20009 [1:06:00<46:25,  2.94it/s]"
     ]
    },
    {
     "name": "stdout",
     "output_type": "stream",
     "text": [
      "Step 71801, training: ucc_acc=1.0 weighted_loss=0.0055221873335540295 ucc_loss=0.0055221873335540295 ae_loss=0 eval: ucc_acc=1.0 weighted_loss=0.009628375992178917 ucc_loss=0.009628375992178917 ae_loss=0\n"
     ]
    },
    {
     "name": "stderr",
     "output_type": "stream",
     "text": [
      " 59%|█████▉    | 11820/20009 [1:06:03<46:46,  2.92it/s]"
     ]
    },
    {
     "name": "stdout",
     "output_type": "stream",
     "text": [
      "Step 71811, training: ucc_acc=1.0 weighted_loss=0.002678709337487817 ucc_loss=0.002678709337487817 ae_loss=0 eval: ucc_acc=1.0 weighted_loss=0.003948668483644724 ucc_loss=0.003948668483644724 ae_loss=0\n"
     ]
    },
    {
     "name": "stderr",
     "output_type": "stream",
     "text": [
      " 59%|█████▉    | 11830/20009 [1:06:06<51:01,  2.67it/s]"
     ]
    },
    {
     "name": "stdout",
     "output_type": "stream",
     "text": [
      "Step 71821, training: ucc_acc=1.0 weighted_loss=0.03504667431116104 ucc_loss=0.03504667431116104 ae_loss=0 eval: ucc_acc=1.0 weighted_loss=0.00020531714835669845 ucc_loss=0.00020531714835669845 ae_loss=0\n"
     ]
    },
    {
     "name": "stderr",
     "output_type": "stream",
     "text": [
      " 59%|█████▉    | 11840/20009 [1:06:10<48:28,  2.81it/s]"
     ]
    },
    {
     "name": "stdout",
     "output_type": "stream",
     "text": [
      "Step 71831, training: ucc_acc=1.0 weighted_loss=0.0006721337558701634 ucc_loss=0.0006721337558701634 ae_loss=0 eval: ucc_acc=1.0 weighted_loss=0.000902871775906533 ucc_loss=0.000902871775906533 ae_loss=0\n"
     ]
    },
    {
     "name": "stderr",
     "output_type": "stream",
     "text": [
      " 59%|█████▉    | 11850/20009 [1:06:13<47:00,  2.89it/s]"
     ]
    },
    {
     "name": "stdout",
     "output_type": "stream",
     "text": [
      "Step 71841, training: ucc_acc=0.9333333373069763 weighted_loss=0.16792935132980347 ucc_loss=0.16792935132980347 ae_loss=0 eval: ucc_acc=1.0 weighted_loss=0.010116802528500557 ucc_loss=0.010116802528500557 ae_loss=0\n"
     ]
    },
    {
     "name": "stderr",
     "output_type": "stream",
     "text": [
      " 59%|█████▉    | 11860/20009 [1:06:16<46:37,  2.91it/s]"
     ]
    },
    {
     "name": "stdout",
     "output_type": "stream",
     "text": [
      "Step 71851, training: ucc_acc=1.0 weighted_loss=0.022884158417582512 ucc_loss=0.022884158417582512 ae_loss=0 eval: ucc_acc=1.0 weighted_loss=0.023660341277718544 ucc_loss=0.023660341277718544 ae_loss=0\n"
     ]
    },
    {
     "name": "stderr",
     "output_type": "stream",
     "text": [
      " 59%|█████▉    | 11870/20009 [1:06:19<46:28,  2.92it/s]"
     ]
    },
    {
     "name": "stdout",
     "output_type": "stream",
     "text": [
      "Step 71861, training: ucc_acc=1.0 weighted_loss=0.0033475409727543592 ucc_loss=0.0033475409727543592 ae_loss=0 eval: ucc_acc=1.0 weighted_loss=0.010244353674352169 ucc_loss=0.010244353674352169 ae_loss=0\n"
     ]
    },
    {
     "name": "stderr",
     "output_type": "stream",
     "text": [
      " 59%|█████▉    | 11880/20009 [1:06:22<45:48,  2.96it/s]"
     ]
    },
    {
     "name": "stdout",
     "output_type": "stream",
     "text": [
      "Step 71871, training: ucc_acc=0.9333333373069763 weighted_loss=0.1676720827817917 ucc_loss=0.1676720827817917 ae_loss=0 eval: ucc_acc=0.9333333373069763 weighted_loss=0.16855007410049438 ucc_loss=0.16855007410049438 ae_loss=0\n"
     ]
    },
    {
     "name": "stderr",
     "output_type": "stream",
     "text": [
      " 59%|█████▉    | 11890/20009 [1:06:25<46:18,  2.92it/s]"
     ]
    },
    {
     "name": "stdout",
     "output_type": "stream",
     "text": [
      "Step 71881, training: ucc_acc=1.0 weighted_loss=0.0224292054772377 ucc_loss=0.0224292054772377 ae_loss=0 eval: ucc_acc=1.0 weighted_loss=0.008675620891153812 ucc_loss=0.008675620891153812 ae_loss=0\n"
     ]
    },
    {
     "name": "stderr",
     "output_type": "stream",
     "text": [
      " 59%|█████▉    | 11900/20009 [1:06:29<46:22,  2.91it/s]"
     ]
    },
    {
     "name": "stdout",
     "output_type": "stream",
     "text": [
      "Step 71891, training: ucc_acc=0.9333333373069763 weighted_loss=0.1617439091205597 ucc_loss=0.1617439091205597 ae_loss=0 eval: ucc_acc=1.0 weighted_loss=0.011211428791284561 ucc_loss=0.011211428791284561 ae_loss=0\n"
     ]
    },
    {
     "name": "stderr",
     "output_type": "stream",
     "text": [
      " 60%|█████▉    | 11910/20009 [1:06:32<47:36,  2.83it/s]"
     ]
    },
    {
     "name": "stdout",
     "output_type": "stream",
     "text": [
      "Step 71901, training: ucc_acc=1.0 weighted_loss=5.003284240956418e-05 ucc_loss=5.003284240956418e-05 ae_loss=0 eval: ucc_acc=1.0 weighted_loss=0.0006474598194472492 ucc_loss=0.0006474598194472492 ae_loss=0\n"
     ]
    },
    {
     "name": "stderr",
     "output_type": "stream",
     "text": [
      " 60%|█████▉    | 11920/20009 [1:06:35<46:37,  2.89it/s]"
     ]
    },
    {
     "name": "stdout",
     "output_type": "stream",
     "text": [
      "Step 71911, training: ucc_acc=1.0 weighted_loss=0.004518859088420868 ucc_loss=0.004518859088420868 ae_loss=0 eval: ucc_acc=1.0 weighted_loss=0.010243658907711506 ucc_loss=0.010243658907711506 ae_loss=0\n"
     ]
    },
    {
     "name": "stderr",
     "output_type": "stream",
     "text": [
      " 60%|█████▉    | 11930/20009 [1:06:38<46:05,  2.92it/s]"
     ]
    },
    {
     "name": "stdout",
     "output_type": "stream",
     "text": [
      "Step 71921, training: ucc_acc=0.9333333373069763 weighted_loss=0.20076294243335724 ucc_loss=0.20076294243335724 ae_loss=0 eval: ucc_acc=1.0 weighted_loss=0.008154516108334064 ucc_loss=0.008154516108334064 ae_loss=0\n"
     ]
    },
    {
     "name": "stderr",
     "output_type": "stream",
     "text": [
      " 60%|█████▉    | 11940/20009 [1:06:41<46:40,  2.88it/s]"
     ]
    },
    {
     "name": "stdout",
     "output_type": "stream",
     "text": [
      "Step 71931, training: ucc_acc=1.0 weighted_loss=0.00014673170517198741 ucc_loss=0.00014673170517198741 ae_loss=0 eval: ucc_acc=1.0 weighted_loss=0.01003246195614338 ucc_loss=0.01003246195614338 ae_loss=0\n"
     ]
    },
    {
     "name": "stderr",
     "output_type": "stream",
     "text": [
      " 60%|█████▉    | 11950/20009 [1:06:44<46:12,  2.91it/s]"
     ]
    },
    {
     "name": "stdout",
     "output_type": "stream",
     "text": [
      "Step 71941, training: ucc_acc=1.0 weighted_loss=0.008058330975472927 ucc_loss=0.008058330975472927 ae_loss=0 eval: ucc_acc=1.0 weighted_loss=0.020885728299617767 ucc_loss=0.020885728299617767 ae_loss=0\n"
     ]
    },
    {
     "name": "stderr",
     "output_type": "stream",
     "text": [
      " 60%|█████▉    | 11960/20009 [1:06:47<45:41,  2.94it/s]"
     ]
    },
    {
     "name": "stdout",
     "output_type": "stream",
     "text": [
      "Step 71951, training: ucc_acc=1.0 weighted_loss=0.00406848918646574 ucc_loss=0.00406848918646574 ae_loss=0 eval: ucc_acc=0.9333333373069763 weighted_loss=0.15223044157028198 ucc_loss=0.15223044157028198 ae_loss=0\n"
     ]
    },
    {
     "name": "stderr",
     "output_type": "stream",
     "text": [
      " 60%|█████▉    | 11970/20009 [1:06:51<45:49,  2.92it/s]"
     ]
    },
    {
     "name": "stdout",
     "output_type": "stream",
     "text": [
      "Step 71961, training: ucc_acc=1.0 weighted_loss=0.0018418862018734217 ucc_loss=0.0018418862018734217 ae_loss=0 eval: ucc_acc=1.0 weighted_loss=0.0024961798917502165 ucc_loss=0.0024961798917502165 ae_loss=0\n"
     ]
    },
    {
     "name": "stderr",
     "output_type": "stream",
     "text": [
      " 60%|█████▉    | 11980/20009 [1:06:54<46:03,  2.91it/s]"
     ]
    },
    {
     "name": "stdout",
     "output_type": "stream",
     "text": [
      "Step 71971, training: ucc_acc=1.0 weighted_loss=0.007959568873047829 ucc_loss=0.007959568873047829 ae_loss=0 eval: ucc_acc=1.0 weighted_loss=0.004880078136920929 ucc_loss=0.004880078136920929 ae_loss=0\n"
     ]
    },
    {
     "name": "stderr",
     "output_type": "stream",
     "text": [
      " 60%|█████▉    | 11990/20009 [1:06:57<46:45,  2.86it/s]"
     ]
    },
    {
     "name": "stdout",
     "output_type": "stream",
     "text": [
      "Step 71981, training: ucc_acc=1.0 weighted_loss=0.0021187583915889263 ucc_loss=0.0021187583915889263 ae_loss=0 eval: ucc_acc=1.0 weighted_loss=0.0002636823628563434 ucc_loss=0.0002636823628563434 ae_loss=0\n"
     ]
    },
    {
     "name": "stderr",
     "output_type": "stream",
     "text": [
      " 60%|█████▉    | 12000/20009 [1:07:00<45:07,  2.96it/s]"
     ]
    },
    {
     "name": "stdout",
     "output_type": "stream",
     "text": [
      "Step 71991, training: ucc_acc=1.0 weighted_loss=0.013192855753004551 ucc_loss=0.013192855753004551 ae_loss=0 eval: ucc_acc=1.0 weighted_loss=0.05717719346284866 ucc_loss=0.05717719346284866 ae_loss=0\n"
     ]
    },
    {
     "name": "stderr",
     "output_type": "stream",
     "text": [
      " 60%|██████    | 12010/20009 [1:07:03<45:22,  2.94it/s]"
     ]
    },
    {
     "name": "stdout",
     "output_type": "stream",
     "text": [
      "Step 72001, training: ucc_acc=0.9333333373069763 weighted_loss=0.1250755935907364 ucc_loss=0.1250755935907364 ae_loss=0 eval: ucc_acc=1.0 weighted_loss=0.01501429919153452 ucc_loss=0.01501429919153452 ae_loss=0\n"
     ]
    },
    {
     "name": "stderr",
     "output_type": "stream",
     "text": [
      " 60%|██████    | 12020/20009 [1:07:06<45:50,  2.90it/s]"
     ]
    },
    {
     "name": "stdout",
     "output_type": "stream",
     "text": [
      "Step 72011, training: ucc_acc=1.0 weighted_loss=0.02186836674809456 ucc_loss=0.02186836674809456 ae_loss=0 eval: ucc_acc=0.9333333373069763 weighted_loss=0.11684484779834747 ucc_loss=0.11684484779834747 ae_loss=0\n"
     ]
    },
    {
     "name": "stderr",
     "output_type": "stream",
     "text": [
      " 60%|██████    | 12030/20009 [1:07:09<45:46,  2.91it/s]"
     ]
    },
    {
     "name": "stdout",
     "output_type": "stream",
     "text": [
      "Step 72021, training: ucc_acc=1.0 weighted_loss=0.00796529185026884 ucc_loss=0.00796529185026884 ae_loss=0 eval: ucc_acc=1.0 weighted_loss=0.003582342993468046 ucc_loss=0.003582342993468046 ae_loss=0\n"
     ]
    },
    {
     "name": "stderr",
     "output_type": "stream",
     "text": [
      " 60%|██████    | 12040/20009 [1:07:12<45:49,  2.90it/s]"
     ]
    },
    {
     "name": "stdout",
     "output_type": "stream",
     "text": [
      "Step 72031, training: ucc_acc=1.0 weighted_loss=0.003152434714138508 ucc_loss=0.003152434714138508 ae_loss=0 eval: ucc_acc=1.0 weighted_loss=0.01668427512049675 ucc_loss=0.01668427512049675 ae_loss=0\n"
     ]
    },
    {
     "name": "stderr",
     "output_type": "stream",
     "text": [
      " 60%|██████    | 12050/20009 [1:07:16<46:16,  2.87it/s]"
     ]
    },
    {
     "name": "stdout",
     "output_type": "stream",
     "text": [
      "Step 72041, training: ucc_acc=1.0 weighted_loss=0.007207162212580442 ucc_loss=0.007207162212580442 ae_loss=0 eval: ucc_acc=1.0 weighted_loss=0.04409145191311836 ucc_loss=0.04409145191311836 ae_loss=0\n"
     ]
    },
    {
     "name": "stderr",
     "output_type": "stream",
     "text": [
      " 60%|██████    | 12060/20009 [1:07:19<44:56,  2.95it/s]"
     ]
    },
    {
     "name": "stdout",
     "output_type": "stream",
     "text": [
      "Step 72051, training: ucc_acc=1.0 weighted_loss=0.006933138705790043 ucc_loss=0.006933138705790043 ae_loss=0 eval: ucc_acc=1.0 weighted_loss=0.012463745661079884 ucc_loss=0.012463745661079884 ae_loss=0\n"
     ]
    },
    {
     "name": "stderr",
     "output_type": "stream",
     "text": [
      " 60%|██████    | 12070/20009 [1:07:22<45:58,  2.88it/s]"
     ]
    },
    {
     "name": "stdout",
     "output_type": "stream",
     "text": [
      "Step 72061, training: ucc_acc=1.0 weighted_loss=0.009199912659823895 ucc_loss=0.009199912659823895 ae_loss=0 eval: ucc_acc=1.0 weighted_loss=0.00229236064478755 ucc_loss=0.00229236064478755 ae_loss=0\n"
     ]
    },
    {
     "name": "stderr",
     "output_type": "stream",
     "text": [
      " 60%|██████    | 12080/20009 [1:07:25<45:27,  2.91it/s]"
     ]
    },
    {
     "name": "stdout",
     "output_type": "stream",
     "text": [
      "Step 72071, training: ucc_acc=1.0 weighted_loss=0.013958216644823551 ucc_loss=0.013958216644823551 ae_loss=0 eval: ucc_acc=1.0 weighted_loss=0.034467119723558426 ucc_loss=0.034467119723558426 ae_loss=0\n"
     ]
    },
    {
     "name": "stderr",
     "output_type": "stream",
     "text": [
      " 60%|██████    | 12090/20009 [1:07:28<45:08,  2.92it/s]"
     ]
    },
    {
     "name": "stdout",
     "output_type": "stream",
     "text": [
      "Step 72081, training: ucc_acc=1.0 weighted_loss=0.0006441455334424973 ucc_loss=0.0006441455334424973 ae_loss=0 eval: ucc_acc=1.0 weighted_loss=0.0014328560791909695 ucc_loss=0.0014328560791909695 ae_loss=0\n"
     ]
    },
    {
     "name": "stderr",
     "output_type": "stream",
     "text": [
      " 60%|██████    | 12100/20009 [1:07:31<45:56,  2.87it/s]"
     ]
    },
    {
     "name": "stdout",
     "output_type": "stream",
     "text": [
      "Step 72091, training: ucc_acc=1.0 weighted_loss=0.006554385647177696 ucc_loss=0.006554385647177696 ae_loss=0 eval: ucc_acc=1.0 weighted_loss=0.0038351076655089855 ucc_loss=0.0038351076655089855 ae_loss=0\n"
     ]
    },
    {
     "name": "stderr",
     "output_type": "stream",
     "text": [
      " 61%|██████    | 12110/20009 [1:07:34<45:37,  2.89it/s]"
     ]
    },
    {
     "name": "stdout",
     "output_type": "stream",
     "text": [
      "Step 72101, training: ucc_acc=1.0 weighted_loss=0.0045864456333220005 ucc_loss=0.0045864456333220005 ae_loss=0 eval: ucc_acc=1.0 weighted_loss=0.006247256882488728 ucc_loss=0.006247256882488728 ae_loss=0\n"
     ]
    },
    {
     "name": "stderr",
     "output_type": "stream",
     "text": [
      " 61%|██████    | 12120/20009 [1:07:37<46:20,  2.84it/s]"
     ]
    },
    {
     "name": "stdout",
     "output_type": "stream",
     "text": [
      "Step 72111, training: ucc_acc=1.0 weighted_loss=0.0002315888268640265 ucc_loss=0.0002315888268640265 ae_loss=0 eval: ucc_acc=1.0 weighted_loss=0.012984175235033035 ucc_loss=0.012984175235033035 ae_loss=0\n"
     ]
    },
    {
     "name": "stderr",
     "output_type": "stream",
     "text": [
      " 61%|██████    | 12130/20009 [1:07:41<47:11,  2.78it/s]"
     ]
    },
    {
     "name": "stdout",
     "output_type": "stream",
     "text": [
      "Step 72121, training: ucc_acc=0.9333333373069763 weighted_loss=0.09058035165071487 ucc_loss=0.09058035165071487 ae_loss=0 eval: ucc_acc=1.0 weighted_loss=4.698425982496701e-05 ucc_loss=4.698425982496701e-05 ae_loss=0\n"
     ]
    },
    {
     "name": "stderr",
     "output_type": "stream",
     "text": [
      " 61%|██████    | 12140/20009 [1:07:44<50:56,  2.57it/s]"
     ]
    },
    {
     "name": "stdout",
     "output_type": "stream",
     "text": [
      "Step 72131, training: ucc_acc=1.0 weighted_loss=0.006913510616868734 ucc_loss=0.006913510616868734 ae_loss=0 eval: ucc_acc=1.0 weighted_loss=0.06384766101837158 ucc_loss=0.06384766101837158 ae_loss=0\n"
     ]
    },
    {
     "name": "stderr",
     "output_type": "stream",
     "text": [
      " 61%|██████    | 12150/20009 [1:07:48<50:37,  2.59it/s]"
     ]
    },
    {
     "name": "stdout",
     "output_type": "stream",
     "text": [
      "Step 72141, training: ucc_acc=1.0 weighted_loss=0.051580823957920074 ucc_loss=0.051580823957920074 ae_loss=0 eval: ucc_acc=1.0 weighted_loss=0.011876598931849003 ucc_loss=0.011876598931849003 ae_loss=0\n"
     ]
    },
    {
     "name": "stderr",
     "output_type": "stream",
     "text": [
      " 61%|██████    | 12160/20009 [1:07:51<47:00,  2.78it/s]"
     ]
    },
    {
     "name": "stdout",
     "output_type": "stream",
     "text": [
      "Step 72151, training: ucc_acc=1.0 weighted_loss=0.008600412867963314 ucc_loss=0.008600412867963314 ae_loss=0 eval: ucc_acc=1.0 weighted_loss=0.0035076001659035683 ucc_loss=0.0035076001659035683 ae_loss=0\n"
     ]
    },
    {
     "name": "stderr",
     "output_type": "stream",
     "text": [
      " 61%|██████    | 12170/20009 [1:07:54<45:35,  2.87it/s]"
     ]
    },
    {
     "name": "stdout",
     "output_type": "stream",
     "text": [
      "Step 72161, training: ucc_acc=1.0 weighted_loss=0.003697094740346074 ucc_loss=0.003697094740346074 ae_loss=0 eval: ucc_acc=1.0 weighted_loss=0.01462861429899931 ucc_loss=0.01462861429899931 ae_loss=0\n"
     ]
    },
    {
     "name": "stderr",
     "output_type": "stream",
     "text": [
      " 61%|██████    | 12180/20009 [1:07:57<46:25,  2.81it/s]"
     ]
    },
    {
     "name": "stdout",
     "output_type": "stream",
     "text": [
      "Step 72171, training: ucc_acc=1.0 weighted_loss=0.01018441841006279 ucc_loss=0.01018441841006279 ae_loss=0 eval: ucc_acc=1.0 weighted_loss=0.016229581087827682 ucc_loss=0.016229581087827682 ae_loss=0\n"
     ]
    },
    {
     "name": "stderr",
     "output_type": "stream",
     "text": [
      " 61%|██████    | 12190/20009 [1:08:00<45:07,  2.89it/s]"
     ]
    },
    {
     "name": "stdout",
     "output_type": "stream",
     "text": [
      "Step 72181, training: ucc_acc=1.0 weighted_loss=0.0041851457208395 ucc_loss=0.0041851457208395 ae_loss=0 eval: ucc_acc=1.0 weighted_loss=0.00027622023480944335 ucc_loss=0.00027622023480944335 ae_loss=0\n"
     ]
    },
    {
     "name": "stderr",
     "output_type": "stream",
     "text": [
      " 61%|██████    | 12200/20009 [1:08:03<44:34,  2.92it/s]"
     ]
    },
    {
     "name": "stdout",
     "output_type": "stream",
     "text": [
      "Step 72191, training: ucc_acc=0.9333333373069763 weighted_loss=0.17495054006576538 ucc_loss=0.17495054006576538 ae_loss=0 eval: ucc_acc=1.0 weighted_loss=5.6649041653145105e-05 ucc_loss=5.6649041653145105e-05 ae_loss=0\n"
     ]
    },
    {
     "name": "stderr",
     "output_type": "stream",
     "text": [
      " 61%|██████    | 12210/20009 [1:08:07<45:31,  2.85it/s]"
     ]
    },
    {
     "name": "stdout",
     "output_type": "stream",
     "text": [
      "Step 72201, training: ucc_acc=1.0 weighted_loss=0.0002006774884648621 ucc_loss=0.0002006774884648621 ae_loss=0 eval: ucc_acc=1.0 weighted_loss=0.010509790852665901 ucc_loss=0.010509790852665901 ae_loss=0\n"
     ]
    },
    {
     "name": "stderr",
     "output_type": "stream",
     "text": [
      " 61%|██████    | 12220/20009 [1:08:10<44:09,  2.94it/s]"
     ]
    },
    {
     "name": "stdout",
     "output_type": "stream",
     "text": [
      "Step 72211, training: ucc_acc=1.0 weighted_loss=0.006632558070123196 ucc_loss=0.006632558070123196 ae_loss=0 eval: ucc_acc=1.0 weighted_loss=0.01302378997206688 ucc_loss=0.01302378997206688 ae_loss=0\n"
     ]
    },
    {
     "name": "stderr",
     "output_type": "stream",
     "text": [
      " 61%|██████    | 12230/20009 [1:08:13<44:17,  2.93it/s]"
     ]
    },
    {
     "name": "stdout",
     "output_type": "stream",
     "text": [
      "Step 72221, training: ucc_acc=1.0 weighted_loss=0.021627889946103096 ucc_loss=0.021627889946103096 ae_loss=0 eval: ucc_acc=1.0 weighted_loss=0.002195617649704218 ucc_loss=0.002195617649704218 ae_loss=0\n"
     ]
    },
    {
     "name": "stderr",
     "output_type": "stream",
     "text": [
      " 61%|██████    | 12240/20009 [1:08:16<46:21,  2.79it/s]"
     ]
    },
    {
     "name": "stdout",
     "output_type": "stream",
     "text": [
      "Step 72231, training: ucc_acc=1.0 weighted_loss=4.7429213736904785e-05 ucc_loss=4.7429213736904785e-05 ae_loss=0 eval: ucc_acc=1.0 weighted_loss=0.012188434600830078 ucc_loss=0.012188434600830078 ae_loss=0\n"
     ]
    },
    {
     "name": "stderr",
     "output_type": "stream",
     "text": [
      " 61%|██████    | 12250/20009 [1:08:19<43:28,  2.97it/s]"
     ]
    },
    {
     "name": "stdout",
     "output_type": "stream",
     "text": [
      "Step 72241, training: ucc_acc=0.9333333373069763 weighted_loss=0.17977328598499298 ucc_loss=0.17977328598499298 ae_loss=0 eval: ucc_acc=0.9333333373069763 weighted_loss=0.0673706904053688 ucc_loss=0.0673706904053688 ae_loss=0\n"
     ]
    },
    {
     "name": "stderr",
     "output_type": "stream",
     "text": [
      " 61%|██████▏   | 12260/20009 [1:08:22<44:15,  2.92it/s]"
     ]
    },
    {
     "name": "stdout",
     "output_type": "stream",
     "text": [
      "Step 72251, training: ucc_acc=0.9333333373069763 weighted_loss=0.16516020894050598 ucc_loss=0.16516020894050598 ae_loss=0 eval: ucc_acc=1.0 weighted_loss=0.026302240788936615 ucc_loss=0.026302240788936615 ae_loss=0\n"
     ]
    },
    {
     "name": "stderr",
     "output_type": "stream",
     "text": [
      " 61%|██████▏   | 12270/20009 [1:08:25<44:02,  2.93it/s]"
     ]
    },
    {
     "name": "stdout",
     "output_type": "stream",
     "text": [
      "Step 72261, training: ucc_acc=1.0 weighted_loss=0.02379843220114708 ucc_loss=0.02379843220114708 ae_loss=0 eval: ucc_acc=0.9333333373069763 weighted_loss=0.0863850936293602 ucc_loss=0.0863850936293602 ae_loss=0\n"
     ]
    },
    {
     "name": "stderr",
     "output_type": "stream",
     "text": [
      " 61%|██████▏   | 12280/20009 [1:08:29<46:04,  2.80it/s]"
     ]
    },
    {
     "name": "stdout",
     "output_type": "stream",
     "text": [
      "Step 72271, training: ucc_acc=1.0 weighted_loss=0.006970982067286968 ucc_loss=0.006970982067286968 ae_loss=0 eval: ucc_acc=1.0 weighted_loss=0.010082134045660496 ucc_loss=0.010082134045660496 ae_loss=0\n"
     ]
    },
    {
     "name": "stderr",
     "output_type": "stream",
     "text": [
      " 61%|██████▏   | 12290/20009 [1:08:32<44:14,  2.91it/s]"
     ]
    },
    {
     "name": "stdout",
     "output_type": "stream",
     "text": [
      "Step 72281, training: ucc_acc=1.0 weighted_loss=0.002024836605414748 ucc_loss=0.002024836605414748 ae_loss=0 eval: ucc_acc=1.0 weighted_loss=0.004309373442083597 ucc_loss=0.004309373442083597 ae_loss=0\n"
     ]
    },
    {
     "name": "stderr",
     "output_type": "stream",
     "text": [
      " 61%|██████▏   | 12300/20009 [1:08:35<44:33,  2.88it/s]"
     ]
    },
    {
     "name": "stdout",
     "output_type": "stream",
     "text": [
      "Step 72291, training: ucc_acc=1.0 weighted_loss=0.0005385737167671323 ucc_loss=0.0005385737167671323 ae_loss=0 eval: ucc_acc=1.0 weighted_loss=0.002273761434480548 ucc_loss=0.002273761434480548 ae_loss=0\n"
     ]
    },
    {
     "name": "stderr",
     "output_type": "stream",
     "text": [
      " 62%|██████▏   | 12310/20009 [1:08:38<45:41,  2.81it/s]"
     ]
    },
    {
     "name": "stdout",
     "output_type": "stream",
     "text": [
      "Step 72301, training: ucc_acc=1.0 weighted_loss=0.0006606329698115587 ucc_loss=0.0006606329698115587 ae_loss=0 eval: ucc_acc=1.0 weighted_loss=0.004129666369408369 ucc_loss=0.004129666369408369 ae_loss=0\n"
     ]
    },
    {
     "name": "stderr",
     "output_type": "stream",
     "text": [
      " 62%|██████▏   | 12320/20009 [1:08:41<44:46,  2.86it/s]"
     ]
    },
    {
     "name": "stdout",
     "output_type": "stream",
     "text": [
      "Step 72311, training: ucc_acc=1.0 weighted_loss=0.014119608327746391 ucc_loss=0.014119608327746391 ae_loss=0 eval: ucc_acc=1.0 weighted_loss=0.008841612376272678 ucc_loss=0.008841612376272678 ae_loss=0\n"
     ]
    },
    {
     "name": "stderr",
     "output_type": "stream",
     "text": [
      " 62%|██████▏   | 12330/20009 [1:08:44<43:40,  2.93it/s]"
     ]
    },
    {
     "name": "stdout",
     "output_type": "stream",
     "text": [
      "Step 72321, training: ucc_acc=1.0 weighted_loss=0.005590526387095451 ucc_loss=0.005590526387095451 ae_loss=0 eval: ucc_acc=1.0 weighted_loss=0.013214667327702045 ucc_loss=0.013214667327702045 ae_loss=0\n"
     ]
    },
    {
     "name": "stderr",
     "output_type": "stream",
     "text": [
      " 62%|██████▏   | 12340/20009 [1:08:48<43:33,  2.93it/s]"
     ]
    },
    {
     "name": "stdout",
     "output_type": "stream",
     "text": [
      "Step 72331, training: ucc_acc=1.0 weighted_loss=0.0022530597634613514 ucc_loss=0.0022530597634613514 ae_loss=0 eval: ucc_acc=1.0 weighted_loss=0.02010846510529518 ucc_loss=0.02010846510529518 ae_loss=0\n"
     ]
    },
    {
     "name": "stderr",
     "output_type": "stream",
     "text": [
      " 62%|██████▏   | 12350/20009 [1:08:51<42:42,  2.99it/s]"
     ]
    },
    {
     "name": "stdout",
     "output_type": "stream",
     "text": [
      "Step 72341, training: ucc_acc=1.0 weighted_loss=0.008733168244361877 ucc_loss=0.008733168244361877 ae_loss=0 eval: ucc_acc=0.8666666746139526 weighted_loss=0.27611467242240906 ucc_loss=0.27611467242240906 ae_loss=0\n"
     ]
    },
    {
     "name": "stderr",
     "output_type": "stream",
     "text": [
      " 62%|██████▏   | 12360/20009 [1:08:54<44:11,  2.89it/s]"
     ]
    },
    {
     "name": "stdout",
     "output_type": "stream",
     "text": [
      "Step 72351, training: ucc_acc=1.0 weighted_loss=0.00030617788434028625 ucc_loss=0.00030617788434028625 ae_loss=0 eval: ucc_acc=1.0 weighted_loss=0.001994327874854207 ucc_loss=0.001994327874854207 ae_loss=0\n"
     ]
    },
    {
     "name": "stderr",
     "output_type": "stream",
     "text": [
      " 62%|██████▏   | 12370/20009 [1:08:57<43:23,  2.93it/s]"
     ]
    },
    {
     "name": "stdout",
     "output_type": "stream",
     "text": [
      "Step 72361, training: ucc_acc=0.9333333373069763 weighted_loss=0.22175179421901703 ucc_loss=0.22175179421901703 ae_loss=0 eval: ucc_acc=1.0 weighted_loss=0.027605045586824417 ucc_loss=0.027605045586824417 ae_loss=0\n"
     ]
    },
    {
     "name": "stderr",
     "output_type": "stream",
     "text": [
      " 62%|██████▏   | 12380/20009 [1:09:00<43:36,  2.92it/s]"
     ]
    },
    {
     "name": "stdout",
     "output_type": "stream",
     "text": [
      "Step 72371, training: ucc_acc=1.0 weighted_loss=0.00048360912478528917 ucc_loss=0.00048360912478528917 ae_loss=0 eval: ucc_acc=1.0 weighted_loss=0.0013925719540566206 ucc_loss=0.0013925719540566206 ae_loss=0\n"
     ]
    },
    {
     "name": "stderr",
     "output_type": "stream",
     "text": [
      " 62%|██████▏   | 12390/20009 [1:09:03<43:42,  2.90it/s]"
     ]
    },
    {
     "name": "stdout",
     "output_type": "stream",
     "text": [
      "Step 72381, training: ucc_acc=0.9333333373069763 weighted_loss=0.0870002806186676 ucc_loss=0.0870002806186676 ae_loss=0 eval: ucc_acc=1.0 weighted_loss=0.014906436204910278 ucc_loss=0.014906436204910278 ae_loss=0\n"
     ]
    },
    {
     "name": "stderr",
     "output_type": "stream",
     "text": [
      " 62%|██████▏   | 12400/20009 [1:09:06<43:57,  2.88it/s]"
     ]
    },
    {
     "name": "stdout",
     "output_type": "stream",
     "text": [
      "Step 72391, training: ucc_acc=1.0 weighted_loss=0.008632018230855465 ucc_loss=0.008632018230855465 ae_loss=0 eval: ucc_acc=1.0 weighted_loss=0.02581818588078022 ucc_loss=0.02581818588078022 ae_loss=0\n"
     ]
    },
    {
     "name": "stderr",
     "output_type": "stream",
     "text": [
      " 62%|██████▏   | 12410/20009 [1:09:09<43:19,  2.92it/s]"
     ]
    },
    {
     "name": "stdout",
     "output_type": "stream",
     "text": [
      "Step 72401, training: ucc_acc=1.0 weighted_loss=0.005399936810135841 ucc_loss=0.005399936810135841 ae_loss=0 eval: ucc_acc=1.0 weighted_loss=0.019578611478209496 ucc_loss=0.019578611478209496 ae_loss=0\n"
     ]
    },
    {
     "name": "stderr",
     "output_type": "stream",
     "text": [
      " 62%|██████▏   | 12420/20009 [1:09:13<44:26,  2.85it/s]"
     ]
    },
    {
     "name": "stdout",
     "output_type": "stream",
     "text": [
      "Step 72411, training: ucc_acc=0.9333333373069763 weighted_loss=0.17003978788852692 ucc_loss=0.17003978788852692 ae_loss=0 eval: ucc_acc=1.0 weighted_loss=0.010598454624414444 ucc_loss=0.010598454624414444 ae_loss=0\n"
     ]
    },
    {
     "name": "stderr",
     "output_type": "stream",
     "text": [
      " 62%|██████▏   | 12430/20009 [1:09:16<44:37,  2.83it/s]"
     ]
    },
    {
     "name": "stdout",
     "output_type": "stream",
     "text": [
      "Step 72421, training: ucc_acc=1.0 weighted_loss=0.007221235893666744 ucc_loss=0.007221235893666744 ae_loss=0 eval: ucc_acc=1.0 weighted_loss=0.00861166138201952 ucc_loss=0.00861166138201952 ae_loss=0\n"
     ]
    },
    {
     "name": "stderr",
     "output_type": "stream",
     "text": [
      " 62%|██████▏   | 12440/20009 [1:09:19<44:45,  2.82it/s]"
     ]
    },
    {
     "name": "stdout",
     "output_type": "stream",
     "text": [
      "Step 72431, training: ucc_acc=1.0 weighted_loss=0.014760362915694714 ucc_loss=0.014760362915694714 ae_loss=0 eval: ucc_acc=0.9333333373069763 weighted_loss=0.13865327835083008 ucc_loss=0.13865327835083008 ae_loss=0\n"
     ]
    },
    {
     "name": "stderr",
     "output_type": "stream",
     "text": [
      " 62%|██████▏   | 12450/20009 [1:09:22<45:01,  2.80it/s]"
     ]
    },
    {
     "name": "stdout",
     "output_type": "stream",
     "text": [
      "Step 72441, training: ucc_acc=0.9333333373069763 weighted_loss=0.12257210165262222 ucc_loss=0.12257210165262222 ae_loss=0 eval: ucc_acc=1.0 weighted_loss=0.0005101945716887712 ucc_loss=0.0005101945716887712 ae_loss=0\n"
     ]
    },
    {
     "name": "stderr",
     "output_type": "stream",
     "text": [
      " 62%|██████▏   | 12460/20009 [1:09:26<43:07,  2.92it/s]"
     ]
    },
    {
     "name": "stdout",
     "output_type": "stream",
     "text": [
      "Step 72451, training: ucc_acc=1.0 weighted_loss=0.0010878794128075242 ucc_loss=0.0010878794128075242 ae_loss=0 eval: ucc_acc=1.0 weighted_loss=0.030679162591695786 ucc_loss=0.030679162591695786 ae_loss=0\n"
     ]
    },
    {
     "name": "stderr",
     "output_type": "stream",
     "text": [
      " 62%|██████▏   | 12470/20009 [1:09:29<42:56,  2.93it/s]"
     ]
    },
    {
     "name": "stdout",
     "output_type": "stream",
     "text": [
      "Step 72461, training: ucc_acc=1.0 weighted_loss=0.009319469332695007 ucc_loss=0.009319469332695007 ae_loss=0 eval: ucc_acc=1.0 weighted_loss=0.0004977969219908118 ucc_loss=0.0004977969219908118 ae_loss=0\n"
     ]
    },
    {
     "name": "stderr",
     "output_type": "stream",
     "text": [
      " 62%|██████▏   | 12480/20009 [1:09:32<44:33,  2.82it/s]"
     ]
    },
    {
     "name": "stdout",
     "output_type": "stream",
     "text": [
      "Step 72471, training: ucc_acc=1.0 weighted_loss=0.005299736279994249 ucc_loss=0.005299736279994249 ae_loss=0 eval: ucc_acc=1.0 weighted_loss=0.002627516398206353 ucc_loss=0.002627516398206353 ae_loss=0\n"
     ]
    },
    {
     "name": "stderr",
     "output_type": "stream",
     "text": [
      " 62%|██████▏   | 12490/20009 [1:09:35<42:32,  2.95it/s]"
     ]
    },
    {
     "name": "stdout",
     "output_type": "stream",
     "text": [
      "Step 72481, training: ucc_acc=1.0 weighted_loss=0.0034012198448181152 ucc_loss=0.0034012198448181152 ae_loss=0 eval: ucc_acc=1.0 weighted_loss=0.03839964419603348 ucc_loss=0.03839964419603348 ae_loss=0\n"
     ]
    },
    {
     "name": "stderr",
     "output_type": "stream",
     "text": [
      " 62%|██████▏   | 12500/20009 [1:09:38<42:28,  2.95it/s]"
     ]
    },
    {
     "name": "stdout",
     "output_type": "stream",
     "text": [
      "Step 72491, training: ucc_acc=1.0 weighted_loss=0.0012475948315113783 ucc_loss=0.0012475948315113783 ae_loss=0 eval: ucc_acc=1.0 weighted_loss=0.009845242835581303 ucc_loss=0.009845242835581303 ae_loss=0\n"
     ]
    },
    {
     "name": "stderr",
     "output_type": "stream",
     "text": [
      " 63%|██████▎   | 12510/20009 [1:09:41<45:13,  2.76it/s]"
     ]
    },
    {
     "name": "stdout",
     "output_type": "stream",
     "text": [
      "Step 72501, training: ucc_acc=1.0 weighted_loss=0.015957510098814964 ucc_loss=0.015957510098814964 ae_loss=0 eval: ucc_acc=1.0 weighted_loss=0.014956400729715824 ucc_loss=0.014956400729715824 ae_loss=0\n"
     ]
    },
    {
     "name": "stderr",
     "output_type": "stream",
     "text": [
      " 63%|██████▎   | 12520/20009 [1:09:45<45:32,  2.74it/s]"
     ]
    },
    {
     "name": "stdout",
     "output_type": "stream",
     "text": [
      "Step 72511, training: ucc_acc=1.0 weighted_loss=0.0104838190600276 ucc_loss=0.0104838190600276 ae_loss=0 eval: ucc_acc=1.0 weighted_loss=0.007686854340136051 ucc_loss=0.007686854340136051 ae_loss=0\n"
     ]
    },
    {
     "name": "stderr",
     "output_type": "stream",
     "text": [
      " 63%|██████▎   | 12530/20009 [1:09:48<44:15,  2.82it/s]"
     ]
    },
    {
     "name": "stdout",
     "output_type": "stream",
     "text": [
      "Step 72521, training: ucc_acc=1.0 weighted_loss=0.0041549792513251305 ucc_loss=0.0041549792513251305 ae_loss=0 eval: ucc_acc=1.0 weighted_loss=0.0009522988693788648 ucc_loss=0.0009522988693788648 ae_loss=0\n"
     ]
    },
    {
     "name": "stderr",
     "output_type": "stream",
     "text": [
      " 63%|██████▎   | 12540/20009 [1:09:51<43:27,  2.86it/s]"
     ]
    },
    {
     "name": "stdout",
     "output_type": "stream",
     "text": [
      "Step 72531, training: ucc_acc=1.0 weighted_loss=0.007935451343655586 ucc_loss=0.007935451343655586 ae_loss=0 eval: ucc_acc=0.9333333373069763 weighted_loss=0.19780637323856354 ucc_loss=0.19780637323856354 ae_loss=0\n"
     ]
    },
    {
     "name": "stderr",
     "output_type": "stream",
     "text": [
      " 63%|██████▎   | 12550/20009 [1:09:54<41:51,  2.97it/s]"
     ]
    },
    {
     "name": "stdout",
     "output_type": "stream",
     "text": [
      "Step 72541, training: ucc_acc=1.0 weighted_loss=0.009277143515646458 ucc_loss=0.009277143515646458 ae_loss=0 eval: ucc_acc=1.0 weighted_loss=0.02009987272322178 ucc_loss=0.02009987272322178 ae_loss=0\n"
     ]
    },
    {
     "name": "stderr",
     "output_type": "stream",
     "text": [
      " 63%|██████▎   | 12560/20009 [1:09:57<43:41,  2.84it/s]"
     ]
    },
    {
     "name": "stdout",
     "output_type": "stream",
     "text": [
      "Step 72551, training: ucc_acc=1.0 weighted_loss=0.018106605857610703 ucc_loss=0.018106605857610703 ae_loss=0 eval: ucc_acc=1.0 weighted_loss=0.05489107593894005 ucc_loss=0.05489107593894005 ae_loss=0\n"
     ]
    },
    {
     "name": "stderr",
     "output_type": "stream",
     "text": [
      " 63%|██████▎   | 12570/20009 [1:10:00<41:56,  2.96it/s]"
     ]
    },
    {
     "name": "stdout",
     "output_type": "stream",
     "text": [
      "Step 72561, training: ucc_acc=1.0 weighted_loss=0.005865477025508881 ucc_loss=0.005865477025508881 ae_loss=0 eval: ucc_acc=1.0 weighted_loss=0.00026310334214940667 ucc_loss=0.00026310334214940667 ae_loss=0\n"
     ]
    },
    {
     "name": "stderr",
     "output_type": "stream",
     "text": [
      " 63%|██████▎   | 12580/20009 [1:10:04<43:02,  2.88it/s]"
     ]
    },
    {
     "name": "stdout",
     "output_type": "stream",
     "text": [
      "Step 72571, training: ucc_acc=1.0 weighted_loss=0.004207069519907236 ucc_loss=0.004207069519907236 ae_loss=0 eval: ucc_acc=1.0 weighted_loss=0.006368176080286503 ucc_loss=0.006368176080286503 ae_loss=0\n"
     ]
    },
    {
     "name": "stderr",
     "output_type": "stream",
     "text": [
      " 63%|██████▎   | 12590/20009 [1:10:07<42:51,  2.89it/s]"
     ]
    },
    {
     "name": "stdout",
     "output_type": "stream",
     "text": [
      "Step 72581, training: ucc_acc=1.0 weighted_loss=0.0016452252166345716 ucc_loss=0.0016452252166345716 ae_loss=0 eval: ucc_acc=1.0 weighted_loss=0.007266119588166475 ucc_loss=0.007266119588166475 ae_loss=0\n"
     ]
    },
    {
     "name": "stderr",
     "output_type": "stream",
     "text": [
      " 63%|██████▎   | 12600/20009 [1:10:10<42:51,  2.88it/s]"
     ]
    },
    {
     "name": "stdout",
     "output_type": "stream",
     "text": [
      "Step 72591, training: ucc_acc=1.0 weighted_loss=0.010212804190814495 ucc_loss=0.010212804190814495 ae_loss=0 eval: ucc_acc=1.0 weighted_loss=0.006941367872059345 ucc_loss=0.006941367872059345 ae_loss=0\n"
     ]
    },
    {
     "name": "stderr",
     "output_type": "stream",
     "text": [
      " 63%|██████▎   | 12610/20009 [1:10:13<43:13,  2.85it/s]"
     ]
    },
    {
     "name": "stdout",
     "output_type": "stream",
     "text": [
      "Step 72601, training: ucc_acc=1.0 weighted_loss=0.008722039870917797 ucc_loss=0.008722039870917797 ae_loss=0 eval: ucc_acc=1.0 weighted_loss=0.00013454318104777485 ucc_loss=0.00013454318104777485 ae_loss=0\n"
     ]
    },
    {
     "name": "stderr",
     "output_type": "stream",
     "text": [
      " 63%|██████▎   | 12620/20009 [1:10:16<41:10,  2.99it/s]"
     ]
    },
    {
     "name": "stdout",
     "output_type": "stream",
     "text": [
      "Step 72611, training: ucc_acc=1.0 weighted_loss=0.0009624688536860049 ucc_loss=0.0009624688536860049 ae_loss=0 eval: ucc_acc=1.0 weighted_loss=0.017129676416516304 ucc_loss=0.017129676416516304 ae_loss=0\n"
     ]
    },
    {
     "name": "stderr",
     "output_type": "stream",
     "text": [
      " 63%|██████▎   | 12630/20009 [1:10:19<42:27,  2.90it/s]"
     ]
    },
    {
     "name": "stdout",
     "output_type": "stream",
     "text": [
      "Step 72621, training: ucc_acc=1.0 weighted_loss=0.011483204551041126 ucc_loss=0.011483204551041126 ae_loss=0 eval: ucc_acc=1.0 weighted_loss=0.05093983933329582 ucc_loss=0.05093983933329582 ae_loss=0\n"
     ]
    },
    {
     "name": "stderr",
     "output_type": "stream",
     "text": [
      " 63%|██████▎   | 12640/20009 [1:10:22<42:05,  2.92it/s]"
     ]
    },
    {
     "name": "stdout",
     "output_type": "stream",
     "text": [
      "Step 72631, training: ucc_acc=1.0 weighted_loss=0.005368058569729328 ucc_loss=0.005368058569729328 ae_loss=0 eval: ucc_acc=1.0 weighted_loss=0.0016567487036809325 ucc_loss=0.0016567487036809325 ae_loss=0\n"
     ]
    },
    {
     "name": "stderr",
     "output_type": "stream",
     "text": [
      " 63%|██████▎   | 12650/20009 [1:10:25<42:10,  2.91it/s]"
     ]
    },
    {
     "name": "stdout",
     "output_type": "stream",
     "text": [
      "Step 72641, training: ucc_acc=1.0 weighted_loss=0.018097996711730957 ucc_loss=0.018097996711730957 ae_loss=0 eval: ucc_acc=1.0 weighted_loss=0.027662493288517 ucc_loss=0.027662493288517 ae_loss=0\n"
     ]
    },
    {
     "name": "stderr",
     "output_type": "stream",
     "text": [
      " 63%|██████▎   | 12660/20009 [1:10:29<41:22,  2.96it/s]"
     ]
    },
    {
     "name": "stdout",
     "output_type": "stream",
     "text": [
      "Step 72651, training: ucc_acc=1.0 weighted_loss=0.006548914592713118 ucc_loss=0.006548914592713118 ae_loss=0 eval: ucc_acc=1.0 weighted_loss=0.0020496926736086607 ucc_loss=0.0020496926736086607 ae_loss=0\n"
     ]
    },
    {
     "name": "stderr",
     "output_type": "stream",
     "text": [
      " 63%|██████▎   | 12670/20009 [1:10:32<42:10,  2.90it/s]"
     ]
    },
    {
     "name": "stdout",
     "output_type": "stream",
     "text": [
      "Step 72661, training: ucc_acc=1.0 weighted_loss=0.00016860633331816643 ucc_loss=0.00016860633331816643 ae_loss=0 eval: ucc_acc=1.0 weighted_loss=0.008187261410057545 ucc_loss=0.008187261410057545 ae_loss=0\n"
     ]
    },
    {
     "name": "stderr",
     "output_type": "stream",
     "text": [
      " 63%|██████▎   | 12680/20009 [1:10:35<42:51,  2.85it/s]"
     ]
    },
    {
     "name": "stdout",
     "output_type": "stream",
     "text": [
      "Step 72671, training: ucc_acc=1.0 weighted_loss=0.002010663505643606 ucc_loss=0.002010663505643606 ae_loss=0 eval: ucc_acc=1.0 weighted_loss=0.005271721165627241 ucc_loss=0.005271721165627241 ae_loss=0\n"
     ]
    },
    {
     "name": "stderr",
     "output_type": "stream",
     "text": [
      " 63%|██████▎   | 12690/20009 [1:10:38<41:42,  2.92it/s]"
     ]
    },
    {
     "name": "stdout",
     "output_type": "stream",
     "text": [
      "Step 72681, training: ucc_acc=1.0 weighted_loss=4.576590799842961e-05 ucc_loss=4.576590799842961e-05 ae_loss=0 eval: ucc_acc=1.0 weighted_loss=0.017304714769124985 ucc_loss=0.017304714769124985 ae_loss=0\n"
     ]
    },
    {
     "name": "stderr",
     "output_type": "stream",
     "text": [
      " 63%|██████▎   | 12700/20009 [1:10:41<41:48,  2.91it/s]"
     ]
    },
    {
     "name": "stdout",
     "output_type": "stream",
     "text": [
      "Step 72691, training: ucc_acc=1.0 weighted_loss=0.008655642159283161 ucc_loss=0.008655642159283161 ae_loss=0 eval: ucc_acc=1.0 weighted_loss=0.004744178149849176 ucc_loss=0.004744178149849176 ae_loss=0\n"
     ]
    },
    {
     "name": "stderr",
     "output_type": "stream",
     "text": [
      " 64%|██████▎   | 12710/20009 [1:10:44<42:14,  2.88it/s]"
     ]
    },
    {
     "name": "stdout",
     "output_type": "stream",
     "text": [
      "Step 72701, training: ucc_acc=1.0 weighted_loss=5.185165355214849e-05 ucc_loss=5.185165355214849e-05 ae_loss=0 eval: ucc_acc=1.0 weighted_loss=0.02022274024784565 ucc_loss=0.02022274024784565 ae_loss=0\n"
     ]
    },
    {
     "name": "stderr",
     "output_type": "stream",
     "text": [
      " 64%|██████▎   | 12720/20009 [1:10:48<43:05,  2.82it/s]"
     ]
    },
    {
     "name": "stdout",
     "output_type": "stream",
     "text": [
      "Step 72711, training: ucc_acc=1.0 weighted_loss=0.02093362621963024 ucc_loss=0.02093362621963024 ae_loss=0 eval: ucc_acc=1.0 weighted_loss=0.008094407618045807 ucc_loss=0.008094407618045807 ae_loss=0\n"
     ]
    },
    {
     "name": "stderr",
     "output_type": "stream",
     "text": [
      " 64%|██████▎   | 12730/20009 [1:10:51<40:35,  2.99it/s]"
     ]
    },
    {
     "name": "stdout",
     "output_type": "stream",
     "text": [
      "Step 72721, training: ucc_acc=1.0 weighted_loss=0.010448440909385681 ucc_loss=0.010448440909385681 ae_loss=0 eval: ucc_acc=1.0 weighted_loss=0.0068498956970870495 ucc_loss=0.0068498956970870495 ae_loss=0\n"
     ]
    },
    {
     "name": "stderr",
     "output_type": "stream",
     "text": [
      " 64%|██████▎   | 12740/20009 [1:10:54<42:38,  2.84it/s]"
     ]
    },
    {
     "name": "stdout",
     "output_type": "stream",
     "text": [
      "Step 72731, training: ucc_acc=1.0 weighted_loss=0.0009259730577468872 ucc_loss=0.0009259730577468872 ae_loss=0 eval: ucc_acc=1.0 weighted_loss=0.08710737526416779 ucc_loss=0.08710737526416779 ae_loss=0\n"
     ]
    },
    {
     "name": "stderr",
     "output_type": "stream",
     "text": [
      " 64%|██████▎   | 12750/20009 [1:10:57<40:47,  2.97it/s]"
     ]
    },
    {
     "name": "stdout",
     "output_type": "stream",
     "text": [
      "Step 72741, training: ucc_acc=1.0 weighted_loss=5.967232209513895e-05 ucc_loss=5.967232209513895e-05 ae_loss=0 eval: ucc_acc=1.0 weighted_loss=0.012712398543953896 ucc_loss=0.012712398543953896 ae_loss=0\n"
     ]
    },
    {
     "name": "stderr",
     "output_type": "stream",
     "text": [
      " 64%|██████▍   | 12760/20009 [1:11:00<41:37,  2.90it/s]"
     ]
    },
    {
     "name": "stdout",
     "output_type": "stream",
     "text": [
      "Step 72751, training: ucc_acc=1.0 weighted_loss=0.0016072000144049525 ucc_loss=0.0016072000144049525 ae_loss=0 eval: ucc_acc=1.0 weighted_loss=0.005958947353065014 ucc_loss=0.005958947353065014 ae_loss=0\n"
     ]
    },
    {
     "name": "stderr",
     "output_type": "stream",
     "text": [
      " 64%|██████▍   | 12770/20009 [1:11:03<40:26,  2.98it/s]"
     ]
    },
    {
     "name": "stdout",
     "output_type": "stream",
     "text": [
      "Step 72761, training: ucc_acc=1.0 weighted_loss=0.019676145166158676 ucc_loss=0.019676145166158676 ae_loss=0 eval: ucc_acc=0.9333333373069763 weighted_loss=0.17367567121982574 ucc_loss=0.17367567121982574 ae_loss=0\n"
     ]
    },
    {
     "name": "stderr",
     "output_type": "stream",
     "text": [
      " 64%|██████▍   | 12780/20009 [1:11:06<41:15,  2.92it/s]"
     ]
    },
    {
     "name": "stdout",
     "output_type": "stream",
     "text": [
      "Step 72771, training: ucc_acc=1.0 weighted_loss=0.01870855875313282 ucc_loss=0.01870855875313282 ae_loss=0 eval: ucc_acc=1.0 weighted_loss=0.006890538148581982 ucc_loss=0.006890538148581982 ae_loss=0\n"
     ]
    },
    {
     "name": "stderr",
     "output_type": "stream",
     "text": [
      " 64%|██████▍   | 12790/20009 [1:11:09<40:06,  3.00it/s]"
     ]
    },
    {
     "name": "stdout",
     "output_type": "stream",
     "text": [
      "Step 72781, training: ucc_acc=1.0 weighted_loss=0.00512561434879899 ucc_loss=0.00512561434879899 ae_loss=0 eval: ucc_acc=0.9333333373069763 weighted_loss=0.17238754034042358 ucc_loss=0.17238754034042358 ae_loss=0\n"
     ]
    },
    {
     "name": "stderr",
     "output_type": "stream",
     "text": [
      " 64%|██████▍   | 12800/20009 [1:11:13<40:54,  2.94it/s]"
     ]
    },
    {
     "name": "stdout",
     "output_type": "stream",
     "text": [
      "Step 72791, training: ucc_acc=0.9333333373069763 weighted_loss=0.16723190248012543 ucc_loss=0.16723190248012543 ae_loss=0 eval: ucc_acc=1.0 weighted_loss=0.004339742474257946 ucc_loss=0.004339742474257946 ae_loss=0\n"
     ]
    },
    {
     "name": "stderr",
     "output_type": "stream",
     "text": [
      " 64%|██████▍   | 12810/20009 [1:11:16<41:07,  2.92it/s]"
     ]
    },
    {
     "name": "stdout",
     "output_type": "stream",
     "text": [
      "Step 72801, training: ucc_acc=1.0 weighted_loss=0.02283579297363758 ucc_loss=0.02283579297363758 ae_loss=0 eval: ucc_acc=1.0 weighted_loss=0.0001811541005736217 ucc_loss=0.0001811541005736217 ae_loss=0\n"
     ]
    },
    {
     "name": "stderr",
     "output_type": "stream",
     "text": [
      " 64%|██████▍   | 12820/20009 [1:11:19<41:48,  2.87it/s]"
     ]
    },
    {
     "name": "stdout",
     "output_type": "stream",
     "text": [
      "Step 72811, training: ucc_acc=1.0 weighted_loss=0.0006867732736282051 ucc_loss=0.0006867732736282051 ae_loss=0 eval: ucc_acc=1.0 weighted_loss=0.00357905775308609 ucc_loss=0.00357905775308609 ae_loss=0\n"
     ]
    },
    {
     "name": "stderr",
     "output_type": "stream",
     "text": [
      " 64%|██████▍   | 12830/20009 [1:11:22<41:08,  2.91it/s]"
     ]
    },
    {
     "name": "stdout",
     "output_type": "stream",
     "text": [
      "Step 72821, training: ucc_acc=1.0 weighted_loss=0.027421414852142334 ucc_loss=0.027421414852142334 ae_loss=0 eval: ucc_acc=1.0 weighted_loss=0.009435574524104595 ucc_loss=0.009435574524104595 ae_loss=0\n"
     ]
    },
    {
     "name": "stderr",
     "output_type": "stream",
     "text": [
      " 64%|██████▍   | 12840/20009 [1:11:25<40:28,  2.95it/s]"
     ]
    },
    {
     "name": "stdout",
     "output_type": "stream",
     "text": [
      "Step 72831, training: ucc_acc=1.0 weighted_loss=0.004183967597782612 ucc_loss=0.004183967597782612 ae_loss=0 eval: ucc_acc=1.0 weighted_loss=0.0008864746778272092 ucc_loss=0.0008864746778272092 ae_loss=0\n"
     ]
    },
    {
     "name": "stderr",
     "output_type": "stream",
     "text": [
      " 64%|██████▍   | 12850/20009 [1:11:28<41:17,  2.89it/s]"
     ]
    },
    {
     "name": "stdout",
     "output_type": "stream",
     "text": [
      "Step 72841, training: ucc_acc=1.0 weighted_loss=0.008889257907867432 ucc_loss=0.008889257907867432 ae_loss=0 eval: ucc_acc=1.0 weighted_loss=0.007122528739273548 ucc_loss=0.007122528739273548 ae_loss=0\n"
     ]
    },
    {
     "name": "stderr",
     "output_type": "stream",
     "text": [
      " 64%|██████▍   | 12860/20009 [1:11:31<39:47,  2.99it/s]"
     ]
    },
    {
     "name": "stdout",
     "output_type": "stream",
     "text": [
      "Step 72851, training: ucc_acc=1.0 weighted_loss=0.004715702962130308 ucc_loss=0.004715702962130308 ae_loss=0 eval: ucc_acc=0.9333333373069763 weighted_loss=0.13152554631233215 ucc_loss=0.13152554631233215 ae_loss=0\n"
     ]
    },
    {
     "name": "stderr",
     "output_type": "stream",
     "text": [
      " 64%|██████▍   | 12870/20009 [1:11:34<40:38,  2.93it/s]"
     ]
    },
    {
     "name": "stdout",
     "output_type": "stream",
     "text": [
      "Step 72861, training: ucc_acc=1.0 weighted_loss=0.06366975605487823 ucc_loss=0.06366975605487823 ae_loss=0 eval: ucc_acc=1.0 weighted_loss=0.02302168868482113 ucc_loss=0.02302168868482113 ae_loss=0\n"
     ]
    },
    {
     "name": "stderr",
     "output_type": "stream",
     "text": [
      " 64%|██████▍   | 12880/20009 [1:11:37<40:48,  2.91it/s]"
     ]
    },
    {
     "name": "stdout",
     "output_type": "stream",
     "text": [
      "Step 72871, training: ucc_acc=1.0 weighted_loss=0.019484175369143486 ucc_loss=0.019484175369143486 ae_loss=0 eval: ucc_acc=1.0 weighted_loss=0.006072879768908024 ucc_loss=0.006072879768908024 ae_loss=0\n"
     ]
    },
    {
     "name": "stderr",
     "output_type": "stream",
     "text": [
      " 64%|██████▍   | 12890/20009 [1:11:41<40:51,  2.90it/s]"
     ]
    },
    {
     "name": "stdout",
     "output_type": "stream",
     "text": [
      "Step 72881, training: ucc_acc=1.0 weighted_loss=0.001087761833332479 ucc_loss=0.001087761833332479 ae_loss=0 eval: ucc_acc=1.0 weighted_loss=0.00020243013568688184 ucc_loss=0.00020243013568688184 ae_loss=0\n"
     ]
    },
    {
     "name": "stderr",
     "output_type": "stream",
     "text": [
      " 64%|██████▍   | 12900/20009 [1:11:44<39:51,  2.97it/s]"
     ]
    },
    {
     "name": "stdout",
     "output_type": "stream",
     "text": [
      "Step 72891, training: ucc_acc=1.0 weighted_loss=0.0034279553219676018 ucc_loss=0.0034279553219676018 ae_loss=0 eval: ucc_acc=1.0 weighted_loss=0.003171531716361642 ucc_loss=0.003171531716361642 ae_loss=0\n"
     ]
    },
    {
     "name": "stderr",
     "output_type": "stream",
     "text": [
      " 65%|██████▍   | 12910/20009 [1:11:47<40:46,  2.90it/s]"
     ]
    },
    {
     "name": "stdout",
     "output_type": "stream",
     "text": [
      "Step 72901, training: ucc_acc=1.0 weighted_loss=0.010016142390668392 ucc_loss=0.010016142390668392 ae_loss=0 eval: ucc_acc=1.0 weighted_loss=0.0075514246709644794 ucc_loss=0.0075514246709644794 ae_loss=0\n"
     ]
    },
    {
     "name": "stderr",
     "output_type": "stream",
     "text": [
      " 65%|██████▍   | 12920/20009 [1:11:50<40:38,  2.91it/s]"
     ]
    },
    {
     "name": "stdout",
     "output_type": "stream",
     "text": [
      "Step 72911, training: ucc_acc=1.0 weighted_loss=0.0003200448409188539 ucc_loss=0.0003200448409188539 ae_loss=0 eval: ucc_acc=1.0 weighted_loss=0.002543146489188075 ucc_loss=0.002543146489188075 ae_loss=0\n"
     ]
    },
    {
     "name": "stderr",
     "output_type": "stream",
     "text": [
      " 65%|██████▍   | 12930/20009 [1:11:53<39:53,  2.96it/s]"
     ]
    },
    {
     "name": "stdout",
     "output_type": "stream",
     "text": [
      "Step 72921, training: ucc_acc=1.0 weighted_loss=0.0005745984963141382 ucc_loss=0.0005745984963141382 ae_loss=0 eval: ucc_acc=1.0 weighted_loss=0.03508326783776283 ucc_loss=0.03508326783776283 ae_loss=0\n"
     ]
    },
    {
     "name": "stderr",
     "output_type": "stream",
     "text": [
      " 65%|██████▍   | 12940/20009 [1:11:56<39:34,  2.98it/s]"
     ]
    },
    {
     "name": "stdout",
     "output_type": "stream",
     "text": [
      "Step 72931, training: ucc_acc=1.0 weighted_loss=0.026697898283600807 ucc_loss=0.026697898283600807 ae_loss=0 eval: ucc_acc=1.0 weighted_loss=0.021940816193819046 ucc_loss=0.021940816193819046 ae_loss=0\n"
     ]
    },
    {
     "name": "stderr",
     "output_type": "stream",
     "text": [
      " 65%|██████▍   | 12950/20009 [1:11:59<40:21,  2.92it/s]"
     ]
    },
    {
     "name": "stdout",
     "output_type": "stream",
     "text": [
      "Step 72941, training: ucc_acc=1.0 weighted_loss=0.006258547771722078 ucc_loss=0.006258547771722078 ae_loss=0 eval: ucc_acc=1.0 weighted_loss=0.005930725019425154 ucc_loss=0.005930725019425154 ae_loss=0\n"
     ]
    },
    {
     "name": "stderr",
     "output_type": "stream",
     "text": [
      " 65%|██████▍   | 12960/20009 [1:12:02<39:38,  2.96it/s]"
     ]
    },
    {
     "name": "stdout",
     "output_type": "stream",
     "text": [
      "Step 72951, training: ucc_acc=1.0 weighted_loss=0.001118035288527608 ucc_loss=0.001118035288527608 ae_loss=0 eval: ucc_acc=1.0 weighted_loss=0.03375338017940521 ucc_loss=0.03375338017940521 ae_loss=0\n"
     ]
    },
    {
     "name": "stderr",
     "output_type": "stream",
     "text": [
      " 65%|██████▍   | 12970/20009 [1:12:05<41:05,  2.86it/s]"
     ]
    },
    {
     "name": "stdout",
     "output_type": "stream",
     "text": [
      "Step 72961, training: ucc_acc=1.0 weighted_loss=0.010901311412453651 ucc_loss=0.010901311412453651 ae_loss=0 eval: ucc_acc=1.0 weighted_loss=0.001505606109276414 ucc_loss=0.001505606109276414 ae_loss=0\n"
     ]
    },
    {
     "name": "stderr",
     "output_type": "stream",
     "text": [
      " 65%|██████▍   | 12980/20009 [1:12:09<39:42,  2.95it/s]"
     ]
    },
    {
     "name": "stdout",
     "output_type": "stream",
     "text": [
      "Step 72971, training: ucc_acc=1.0 weighted_loss=0.008714843541383743 ucc_loss=0.008714843541383743 ae_loss=0 eval: ucc_acc=1.0 weighted_loss=0.00642628176137805 ucc_loss=0.00642628176137805 ae_loss=0\n"
     ]
    },
    {
     "name": "stderr",
     "output_type": "stream",
     "text": [
      " 65%|██████▍   | 12990/20009 [1:12:12<40:08,  2.91it/s]"
     ]
    },
    {
     "name": "stdout",
     "output_type": "stream",
     "text": [
      "Step 72981, training: ucc_acc=1.0 weighted_loss=0.0135638527572155 ucc_loss=0.0135638527572155 ae_loss=0 eval: ucc_acc=1.0 weighted_loss=0.018682455644011497 ucc_loss=0.018682455644011497 ae_loss=0\n"
     ]
    },
    {
     "name": "stderr",
     "output_type": "stream",
     "text": [
      " 65%|██████▍   | 13000/20009 [1:12:15<39:28,  2.96it/s]"
     ]
    },
    {
     "name": "stdout",
     "output_type": "stream",
     "text": [
      "Step 72991, training: ucc_acc=0.9333333373069763 weighted_loss=0.13265874981880188 ucc_loss=0.13265874981880188 ae_loss=0 eval: ucc_acc=1.0 weighted_loss=0.0212103184312582 ucc_loss=0.0212103184312582 ae_loss=0\n"
     ]
    },
    {
     "name": "stderr",
     "output_type": "stream",
     "text": [
      " 65%|██████▌   | 13010/20009 [1:12:18<40:28,  2.88it/s]"
     ]
    },
    {
     "name": "stdout",
     "output_type": "stream",
     "text": [
      "Step 73001, training: ucc_acc=1.0 weighted_loss=0.009580658748745918 ucc_loss=0.009580658748745918 ae_loss=0 eval: ucc_acc=1.0 weighted_loss=0.01728166826069355 ucc_loss=0.01728166826069355 ae_loss=0\n"
     ]
    },
    {
     "name": "stderr",
     "output_type": "stream",
     "text": [
      " 65%|██████▌   | 13020/20009 [1:12:21<42:26,  2.74it/s]"
     ]
    },
    {
     "name": "stdout",
     "output_type": "stream",
     "text": [
      "Step 73011, training: ucc_acc=0.9333333373069763 weighted_loss=0.18576589226722717 ucc_loss=0.18576589226722717 ae_loss=0 eval: ucc_acc=1.0 weighted_loss=0.00035190361086279154 ucc_loss=0.00035190361086279154 ae_loss=0\n"
     ]
    },
    {
     "name": "stderr",
     "output_type": "stream",
     "text": [
      " 65%|██████▌   | 13030/20009 [1:12:25<40:15,  2.89it/s]"
     ]
    },
    {
     "name": "stdout",
     "output_type": "stream",
     "text": [
      "Step 73021, training: ucc_acc=1.0 weighted_loss=0.014907329343259335 ucc_loss=0.014907329343259335 ae_loss=0 eval: ucc_acc=0.9333333373069763 weighted_loss=0.07226848602294922 ucc_loss=0.07226848602294922 ae_loss=0\n"
     ]
    },
    {
     "name": "stderr",
     "output_type": "stream",
     "text": [
      " 65%|██████▌   | 13040/20009 [1:12:28<40:32,  2.86it/s]"
     ]
    },
    {
     "name": "stdout",
     "output_type": "stream",
     "text": [
      "Step 73031, training: ucc_acc=1.0 weighted_loss=0.03048282116651535 ucc_loss=0.03048282116651535 ae_loss=0 eval: ucc_acc=1.0 weighted_loss=0.03383047506213188 ucc_loss=0.03383047506213188 ae_loss=0\n"
     ]
    },
    {
     "name": "stderr",
     "output_type": "stream",
     "text": [
      " 65%|██████▌   | 13050/20009 [1:12:31<39:27,  2.94it/s]"
     ]
    },
    {
     "name": "stdout",
     "output_type": "stream",
     "text": [
      "Step 73041, training: ucc_acc=1.0 weighted_loss=0.0017039765371009707 ucc_loss=0.0017039765371009707 ae_loss=0 eval: ucc_acc=1.0 weighted_loss=0.01357062254101038 ucc_loss=0.01357062254101038 ae_loss=0\n"
     ]
    },
    {
     "name": "stderr",
     "output_type": "stream",
     "text": [
      " 65%|██████▌   | 13060/20009 [1:12:34<39:45,  2.91it/s]"
     ]
    },
    {
     "name": "stdout",
     "output_type": "stream",
     "text": [
      "Step 73051, training: ucc_acc=1.0 weighted_loss=0.00013195503561291844 ucc_loss=0.00013195503561291844 ae_loss=0 eval: ucc_acc=1.0 weighted_loss=9.0885951067321e-05 ucc_loss=9.0885951067321e-05 ae_loss=0\n"
     ]
    },
    {
     "name": "stderr",
     "output_type": "stream",
     "text": [
      " 65%|██████▌   | 13070/20009 [1:12:37<39:38,  2.92it/s]"
     ]
    },
    {
     "name": "stdout",
     "output_type": "stream",
     "text": [
      "Step 73061, training: ucc_acc=1.0 weighted_loss=0.0003609783307183534 ucc_loss=0.0003609783307183534 ae_loss=0 eval: ucc_acc=1.0 weighted_loss=0.0009844133164733648 ucc_loss=0.0009844133164733648 ae_loss=0\n"
     ]
    },
    {
     "name": "stderr",
     "output_type": "stream",
     "text": [
      " 65%|██████▌   | 13080/20009 [1:12:40<40:23,  2.86it/s]"
     ]
    },
    {
     "name": "stdout",
     "output_type": "stream",
     "text": [
      "Step 73071, training: ucc_acc=0.9333333373069763 weighted_loss=0.19034776091575623 ucc_loss=0.19034776091575623 ae_loss=0 eval: ucc_acc=1.0 weighted_loss=0.01700923778116703 ucc_loss=0.01700923778116703 ae_loss=0\n"
     ]
    },
    {
     "name": "stderr",
     "output_type": "stream",
     "text": [
      " 65%|██████▌   | 13090/20009 [1:12:43<38:27,  3.00it/s]"
     ]
    },
    {
     "name": "stdout",
     "output_type": "stream",
     "text": [
      "Step 73081, training: ucc_acc=1.0 weighted_loss=0.017087729647755623 ucc_loss=0.017087729647755623 ae_loss=0 eval: ucc_acc=0.9333333373069763 weighted_loss=0.27383583784103394 ucc_loss=0.27383583784103394 ae_loss=0\n"
     ]
    },
    {
     "name": "stderr",
     "output_type": "stream",
     "text": [
      " 65%|██████▌   | 13100/20009 [1:12:46<38:58,  2.95it/s]"
     ]
    },
    {
     "name": "stdout",
     "output_type": "stream",
     "text": [
      "Step 73091, training: ucc_acc=1.0 weighted_loss=0.013488484546542168 ucc_loss=0.013488484546542168 ae_loss=0 eval: ucc_acc=1.0 weighted_loss=0.0006169553962536156 ucc_loss=0.0006169553962536156 ae_loss=0\n"
     ]
    },
    {
     "name": "stderr",
     "output_type": "stream",
     "text": [
      " 66%|██████▌   | 13110/20009 [1:12:50<39:27,  2.91it/s]"
     ]
    },
    {
     "name": "stdout",
     "output_type": "stream",
     "text": [
      "Step 73101, training: ucc_acc=1.0 weighted_loss=0.0007093731546774507 ucc_loss=0.0007093731546774507 ae_loss=0 eval: ucc_acc=1.0 weighted_loss=0.022681018337607384 ucc_loss=0.022681018337607384 ae_loss=0\n"
     ]
    },
    {
     "name": "stderr",
     "output_type": "stream",
     "text": [
      " 66%|██████▌   | 13120/20009 [1:12:53<39:27,  2.91it/s]"
     ]
    },
    {
     "name": "stdout",
     "output_type": "stream",
     "text": [
      "Step 73111, training: ucc_acc=1.0 weighted_loss=0.0478828027844429 ucc_loss=0.0478828027844429 ae_loss=0 eval: ucc_acc=1.0 weighted_loss=0.027365300804376602 ucc_loss=0.027365300804376602 ae_loss=0\n"
     ]
    },
    {
     "name": "stderr",
     "output_type": "stream",
     "text": [
      " 66%|██████▌   | 13130/20009 [1:12:56<39:37,  2.89it/s]"
     ]
    },
    {
     "name": "stdout",
     "output_type": "stream",
     "text": [
      "Step 73121, training: ucc_acc=1.0 weighted_loss=0.008339310996234417 ucc_loss=0.008339310996234417 ae_loss=0 eval: ucc_acc=1.0 weighted_loss=0.0001786770299077034 ucc_loss=0.0001786770299077034 ae_loss=0\n"
     ]
    },
    {
     "name": "stderr",
     "output_type": "stream",
     "text": [
      " 66%|██████▌   | 13140/20009 [1:12:59<39:41,  2.88it/s]"
     ]
    },
    {
     "name": "stdout",
     "output_type": "stream",
     "text": [
      "Step 73131, training: ucc_acc=1.0 weighted_loss=0.00855181459337473 ucc_loss=0.00855181459337473 ae_loss=0 eval: ucc_acc=1.0 weighted_loss=0.008527292869985104 ucc_loss=0.008527292869985104 ae_loss=0\n"
     ]
    },
    {
     "name": "stderr",
     "output_type": "stream",
     "text": [
      " 66%|██████▌   | 13150/20009 [1:13:02<39:15,  2.91it/s]"
     ]
    },
    {
     "name": "stdout",
     "output_type": "stream",
     "text": [
      "Step 73141, training: ucc_acc=1.0 weighted_loss=0.008130503818392754 ucc_loss=0.008130503818392754 ae_loss=0 eval: ucc_acc=1.0 weighted_loss=0.024286070838570595 ucc_loss=0.024286070838570595 ae_loss=0\n"
     ]
    },
    {
     "name": "stderr",
     "output_type": "stream",
     "text": [
      " 66%|██████▌   | 13160/20009 [1:13:05<39:05,  2.92it/s]"
     ]
    },
    {
     "name": "stdout",
     "output_type": "stream",
     "text": [
      "Step 73151, training: ucc_acc=1.0 weighted_loss=0.00960218720138073 ucc_loss=0.00960218720138073 ae_loss=0 eval: ucc_acc=1.0 weighted_loss=0.002532164566218853 ucc_loss=0.002532164566218853 ae_loss=0\n"
     ]
    },
    {
     "name": "stderr",
     "output_type": "stream",
     "text": [
      " 66%|██████▌   | 13170/20009 [1:13:08<38:34,  2.95it/s]"
     ]
    },
    {
     "name": "stdout",
     "output_type": "stream",
     "text": [
      "Step 73161, training: ucc_acc=1.0 weighted_loss=0.03033505007624626 ucc_loss=0.03033505007624626 ae_loss=0 eval: ucc_acc=0.9333333373069763 weighted_loss=0.1572226881980896 ucc_loss=0.1572226881980896 ae_loss=0\n"
     ]
    },
    {
     "name": "stderr",
     "output_type": "stream",
     "text": [
      " 66%|██████▌   | 13180/20009 [1:13:11<38:46,  2.94it/s]"
     ]
    },
    {
     "name": "stdout",
     "output_type": "stream",
     "text": [
      "Step 73171, training: ucc_acc=1.0 weighted_loss=0.005709347780793905 ucc_loss=0.005709347780793905 ae_loss=0 eval: ucc_acc=1.0 weighted_loss=0.0019173364853486419 ucc_loss=0.0019173364853486419 ae_loss=0\n"
     ]
    },
    {
     "name": "stderr",
     "output_type": "stream",
     "text": [
      " 66%|██████▌   | 13190/20009 [1:13:15<39:31,  2.88it/s]"
     ]
    },
    {
     "name": "stdout",
     "output_type": "stream",
     "text": [
      "Step 73181, training: ucc_acc=1.0 weighted_loss=0.009770558215677738 ucc_loss=0.009770558215677738 ae_loss=0 eval: ucc_acc=1.0 weighted_loss=0.009459654800593853 ucc_loss=0.009459654800593853 ae_loss=0\n"
     ]
    },
    {
     "name": "stderr",
     "output_type": "stream",
     "text": [
      " 66%|██████▌   | 13200/20009 [1:13:18<40:05,  2.83it/s]"
     ]
    },
    {
     "name": "stdout",
     "output_type": "stream",
     "text": [
      "Step 73191, training: ucc_acc=1.0 weighted_loss=0.0027120313607156277 ucc_loss=0.0027120313607156277 ae_loss=0 eval: ucc_acc=1.0 weighted_loss=0.00016823734040372074 ucc_loss=0.00016823734040372074 ae_loss=0\n"
     ]
    },
    {
     "name": "stderr",
     "output_type": "stream",
     "text": [
      " 66%|██████▌   | 13210/20009 [1:13:21<38:49,  2.92it/s]"
     ]
    },
    {
     "name": "stdout",
     "output_type": "stream",
     "text": [
      "Step 73201, training: ucc_acc=1.0 weighted_loss=0.014462183229625225 ucc_loss=0.014462183229625225 ae_loss=0 eval: ucc_acc=0.9333333373069763 weighted_loss=0.14415116608142853 ucc_loss=0.14415116608142853 ae_loss=0\n"
     ]
    },
    {
     "name": "stderr",
     "output_type": "stream",
     "text": [
      " 66%|██████▌   | 13220/20009 [1:13:24<38:48,  2.92it/s]"
     ]
    },
    {
     "name": "stdout",
     "output_type": "stream",
     "text": [
      "Step 73211, training: ucc_acc=1.0 weighted_loss=0.0038649518974125385 ucc_loss=0.0038649518974125385 ae_loss=0 eval: ucc_acc=1.0 weighted_loss=0.0252720694988966 ucc_loss=0.0252720694988966 ae_loss=0\n"
     ]
    },
    {
     "name": "stderr",
     "output_type": "stream",
     "text": [
      " 66%|██████▌   | 13230/20009 [1:13:27<39:14,  2.88it/s]"
     ]
    },
    {
     "name": "stdout",
     "output_type": "stream",
     "text": [
      "Step 73221, training: ucc_acc=1.0 weighted_loss=0.017164194956421852 ucc_loss=0.017164194956421852 ae_loss=0 eval: ucc_acc=1.0 weighted_loss=0.025109346956014633 ucc_loss=0.025109346956014633 ae_loss=0\n"
     ]
    },
    {
     "name": "stderr",
     "output_type": "stream",
     "text": [
      " 66%|██████▌   | 13240/20009 [1:13:30<39:39,  2.84it/s]"
     ]
    },
    {
     "name": "stdout",
     "output_type": "stream",
     "text": [
      "Step 73231, training: ucc_acc=1.0 weighted_loss=0.005118971224874258 ucc_loss=0.005118971224874258 ae_loss=0 eval: ucc_acc=1.0 weighted_loss=0.004976796917617321 ucc_loss=0.004976796917617321 ae_loss=0\n"
     ]
    },
    {
     "name": "stderr",
     "output_type": "stream",
     "text": [
      " 66%|██████▌   | 13250/20009 [1:13:33<38:15,  2.94it/s]"
     ]
    },
    {
     "name": "stdout",
     "output_type": "stream",
     "text": [
      "Step 73241, training: ucc_acc=1.0 weighted_loss=0.007988709956407547 ucc_loss=0.007988709956407547 ae_loss=0 eval: ucc_acc=1.0 weighted_loss=0.0009538173908367753 ucc_loss=0.0009538173908367753 ae_loss=0\n"
     ]
    },
    {
     "name": "stderr",
     "output_type": "stream",
     "text": [
      " 66%|██████▋   | 13260/20009 [1:13:37<38:10,  2.95it/s]"
     ]
    },
    {
     "name": "stdout",
     "output_type": "stream",
     "text": [
      "Step 73251, training: ucc_acc=1.0 weighted_loss=0.01026099268347025 ucc_loss=0.01026099268347025 ae_loss=0 eval: ucc_acc=1.0 weighted_loss=3.053134059882723e-05 ucc_loss=3.053134059882723e-05 ae_loss=0\n"
     ]
    },
    {
     "name": "stderr",
     "output_type": "stream",
     "text": [
      " 66%|██████▋   | 13270/20009 [1:13:40<38:38,  2.91it/s]"
     ]
    },
    {
     "name": "stdout",
     "output_type": "stream",
     "text": [
      "Step 73261, training: ucc_acc=1.0 weighted_loss=0.025387484580278397 ucc_loss=0.025387484580278397 ae_loss=0 eval: ucc_acc=1.0 weighted_loss=0.0009766631992533803 ucc_loss=0.0009766631992533803 ae_loss=0\n"
     ]
    },
    {
     "name": "stderr",
     "output_type": "stream",
     "text": [
      " 66%|██████▋   | 13280/20009 [1:13:43<38:24,  2.92it/s]"
     ]
    },
    {
     "name": "stdout",
     "output_type": "stream",
     "text": [
      "Step 73271, training: ucc_acc=1.0 weighted_loss=0.004185520578175783 ucc_loss=0.004185520578175783 ae_loss=0 eval: ucc_acc=1.0 weighted_loss=0.021254369989037514 ucc_loss=0.021254369989037514 ae_loss=0\n"
     ]
    },
    {
     "name": "stderr",
     "output_type": "stream",
     "text": [
      " 66%|██████▋   | 13290/20009 [1:13:46<38:55,  2.88it/s]"
     ]
    },
    {
     "name": "stdout",
     "output_type": "stream",
     "text": [
      "Step 73281, training: ucc_acc=1.0 weighted_loss=0.011897270567715168 ucc_loss=0.011897270567715168 ae_loss=0 eval: ucc_acc=1.0 weighted_loss=0.0024222168140113354 ucc_loss=0.0024222168140113354 ae_loss=0\n"
     ]
    },
    {
     "name": "stderr",
     "output_type": "stream",
     "text": [
      " 66%|██████▋   | 13300/20009 [1:13:49<38:51,  2.88it/s]"
     ]
    },
    {
     "name": "stdout",
     "output_type": "stream",
     "text": [
      "Step 73291, training: ucc_acc=1.0 weighted_loss=0.025284599512815475 ucc_loss=0.025284599512815475 ae_loss=0 eval: ucc_acc=1.0 weighted_loss=0.021752290427684784 ucc_loss=0.021752290427684784 ae_loss=0\n"
     ]
    },
    {
     "name": "stderr",
     "output_type": "stream",
     "text": [
      " 67%|██████▋   | 13310/20009 [1:13:52<39:43,  2.81it/s]"
     ]
    },
    {
     "name": "stdout",
     "output_type": "stream",
     "text": [
      "Step 73301, training: ucc_acc=1.0 weighted_loss=0.009421614930033684 ucc_loss=0.009421614930033684 ae_loss=0 eval: ucc_acc=1.0 weighted_loss=0.021902820095419884 ucc_loss=0.021902820095419884 ae_loss=0\n"
     ]
    },
    {
     "name": "stderr",
     "output_type": "stream",
     "text": [
      " 67%|██████▋   | 13320/20009 [1:13:56<40:09,  2.78it/s]"
     ]
    },
    {
     "name": "stdout",
     "output_type": "stream",
     "text": [
      "Step 73311, training: ucc_acc=1.0 weighted_loss=0.0012457816628739238 ucc_loss=0.0012457816628739238 ae_loss=0 eval: ucc_acc=1.0 weighted_loss=0.006375020835548639 ucc_loss=0.006375020835548639 ae_loss=0\n"
     ]
    },
    {
     "name": "stderr",
     "output_type": "stream",
     "text": [
      " 67%|██████▋   | 13330/20009 [1:13:59<38:31,  2.89it/s]"
     ]
    },
    {
     "name": "stdout",
     "output_type": "stream",
     "text": [
      "Step 73321, training: ucc_acc=1.0 weighted_loss=0.0053400504402816296 ucc_loss=0.0053400504402816296 ae_loss=0 eval: ucc_acc=1.0 weighted_loss=0.006753928959369659 ucc_loss=0.006753928959369659 ae_loss=0\n"
     ]
    },
    {
     "name": "stderr",
     "output_type": "stream",
     "text": [
      " 67%|██████▋   | 13340/20009 [1:14:02<38:10,  2.91it/s]"
     ]
    },
    {
     "name": "stdout",
     "output_type": "stream",
     "text": [
      "Step 73331, training: ucc_acc=1.0 weighted_loss=0.00022208181326277554 ucc_loss=0.00022208181326277554 ae_loss=0 eval: ucc_acc=1.0 weighted_loss=0.01165062002837658 ucc_loss=0.01165062002837658 ae_loss=0\n"
     ]
    },
    {
     "name": "stderr",
     "output_type": "stream",
     "text": [
      " 67%|██████▋   | 13350/20009 [1:14:05<39:13,  2.83it/s]"
     ]
    },
    {
     "name": "stdout",
     "output_type": "stream",
     "text": [
      "Step 73341, training: ucc_acc=1.0 weighted_loss=0.006410573609173298 ucc_loss=0.006410573609173298 ae_loss=0 eval: ucc_acc=1.0 weighted_loss=0.0011470611207187176 ucc_loss=0.0011470611207187176 ae_loss=0\n"
     ]
    },
    {
     "name": "stderr",
     "output_type": "stream",
     "text": [
      " 67%|██████▋   | 13360/20009 [1:14:08<38:13,  2.90it/s]"
     ]
    },
    {
     "name": "stdout",
     "output_type": "stream",
     "text": [
      "Step 73351, training: ucc_acc=1.0 weighted_loss=0.009646598249673843 ucc_loss=0.009646598249673843 ae_loss=0 eval: ucc_acc=1.0 weighted_loss=0.018115486949682236 ucc_loss=0.018115486949682236 ae_loss=0\n"
     ]
    },
    {
     "name": "stderr",
     "output_type": "stream",
     "text": [
      " 67%|██████▋   | 13370/20009 [1:14:11<37:45,  2.93it/s]"
     ]
    },
    {
     "name": "stdout",
     "output_type": "stream",
     "text": [
      "Step 73361, training: ucc_acc=1.0 weighted_loss=0.036087121814489365 ucc_loss=0.036087121814489365 ae_loss=0 eval: ucc_acc=0.9333333373069763 weighted_loss=0.09386999905109406 ucc_loss=0.09386999905109406 ae_loss=0\n"
     ]
    },
    {
     "name": "stderr",
     "output_type": "stream",
     "text": [
      " 67%|██████▋   | 13380/20009 [1:14:15<38:05,  2.90it/s]"
     ]
    },
    {
     "name": "stdout",
     "output_type": "stream",
     "text": [
      "Step 73371, training: ucc_acc=1.0 weighted_loss=0.007346282247453928 ucc_loss=0.007346282247453928 ae_loss=0 eval: ucc_acc=1.0 weighted_loss=0.008942053653299809 ucc_loss=0.008942053653299809 ae_loss=0\n"
     ]
    },
    {
     "name": "stderr",
     "output_type": "stream",
     "text": [
      " 67%|██████▋   | 13390/20009 [1:14:18<37:44,  2.92it/s]"
     ]
    },
    {
     "name": "stdout",
     "output_type": "stream",
     "text": [
      "Step 73381, training: ucc_acc=1.0 weighted_loss=0.005471323151141405 ucc_loss=0.005471323151141405 ae_loss=0 eval: ucc_acc=0.9333333373069763 weighted_loss=0.22440655529499054 ucc_loss=0.22440655529499054 ae_loss=0\n"
     ]
    },
    {
     "name": "stderr",
     "output_type": "stream",
     "text": [
      " 67%|██████▋   | 13400/20009 [1:14:21<37:41,  2.92it/s]"
     ]
    },
    {
     "name": "stdout",
     "output_type": "stream",
     "text": [
      "Step 73391, training: ucc_acc=1.0 weighted_loss=0.0038623795844614506 ucc_loss=0.0038623795844614506 ae_loss=0 eval: ucc_acc=1.0 weighted_loss=0.0010234054643660784 ucc_loss=0.0010234054643660784 ae_loss=0\n"
     ]
    },
    {
     "name": "stderr",
     "output_type": "stream",
     "text": [
      " 67%|██████▋   | 13410/20009 [1:14:24<37:58,  2.90it/s]"
     ]
    },
    {
     "name": "stdout",
     "output_type": "stream",
     "text": [
      "Step 73401, training: ucc_acc=1.0 weighted_loss=0.010191665031015873 ucc_loss=0.010191665031015873 ae_loss=0 eval: ucc_acc=1.0 weighted_loss=0.001763454987667501 ucc_loss=0.001763454987667501 ae_loss=0\n"
     ]
    },
    {
     "name": "stderr",
     "output_type": "stream",
     "text": [
      " 67%|██████▋   | 13420/20009 [1:14:27<37:29,  2.93it/s]"
     ]
    },
    {
     "name": "stdout",
     "output_type": "stream",
     "text": [
      "Step 73411, training: ucc_acc=1.0 weighted_loss=0.0110664376989007 ucc_loss=0.0110664376989007 ae_loss=0 eval: ucc_acc=1.0 weighted_loss=0.004359669052064419 ucc_loss=0.004359669052064419 ae_loss=0\n"
     ]
    },
    {
     "name": "stderr",
     "output_type": "stream",
     "text": [
      " 67%|██████▋   | 13430/20009 [1:14:30<37:10,  2.95it/s]"
     ]
    },
    {
     "name": "stdout",
     "output_type": "stream",
     "text": [
      "Step 73421, training: ucc_acc=1.0 weighted_loss=0.006475664209574461 ucc_loss=0.006475664209574461 ae_loss=0 eval: ucc_acc=1.0 weighted_loss=0.0068459827452898026 ucc_loss=0.0068459827452898026 ae_loss=0\n"
     ]
    },
    {
     "name": "stderr",
     "output_type": "stream",
     "text": [
      " 67%|██████▋   | 13440/20009 [1:14:33<38:12,  2.87it/s]"
     ]
    },
    {
     "name": "stdout",
     "output_type": "stream",
     "text": [
      "Step 73431, training: ucc_acc=1.0 weighted_loss=0.014085200615227222 ucc_loss=0.014085200615227222 ae_loss=0 eval: ucc_acc=1.0 weighted_loss=0.00883791409432888 ucc_loss=0.00883791409432888 ae_loss=0\n"
     ]
    },
    {
     "name": "stderr",
     "output_type": "stream",
     "text": [
      " 67%|██████▋   | 13450/20009 [1:14:36<38:24,  2.85it/s]"
     ]
    },
    {
     "name": "stdout",
     "output_type": "stream",
     "text": [
      "Step 73441, training: ucc_acc=1.0 weighted_loss=0.005732150748372078 ucc_loss=0.005732150748372078 ae_loss=0 eval: ucc_acc=1.0 weighted_loss=0.007001734804362059 ucc_loss=0.007001734804362059 ae_loss=0\n"
     ]
    },
    {
     "name": "stderr",
     "output_type": "stream",
     "text": [
      " 67%|██████▋   | 13460/20009 [1:14:40<37:30,  2.91it/s]"
     ]
    },
    {
     "name": "stdout",
     "output_type": "stream",
     "text": [
      "Step 73451, training: ucc_acc=1.0 weighted_loss=0.004320007283240557 ucc_loss=0.004320007283240557 ae_loss=0 eval: ucc_acc=1.0 weighted_loss=0.042232997715473175 ucc_loss=0.042232997715473175 ae_loss=0\n"
     ]
    },
    {
     "name": "stderr",
     "output_type": "stream",
     "text": [
      " 67%|██████▋   | 13470/20009 [1:14:43<38:06,  2.86it/s]"
     ]
    },
    {
     "name": "stdout",
     "output_type": "stream",
     "text": [
      "Step 73461, training: ucc_acc=1.0 weighted_loss=0.003056473098695278 ucc_loss=0.003056473098695278 ae_loss=0 eval: ucc_acc=1.0 weighted_loss=0.02084260806441307 ucc_loss=0.02084260806441307 ae_loss=0\n"
     ]
    },
    {
     "name": "stderr",
     "output_type": "stream",
     "text": [
      " 67%|██████▋   | 13480/20009 [1:14:46<37:49,  2.88it/s]"
     ]
    },
    {
     "name": "stdout",
     "output_type": "stream",
     "text": [
      "Step 73471, training: ucc_acc=0.9333333373069763 weighted_loss=0.1159200370311737 ucc_loss=0.1159200370311737 ae_loss=0 eval: ucc_acc=1.0 weighted_loss=0.01640820875763893 ucc_loss=0.01640820875763893 ae_loss=0\n"
     ]
    },
    {
     "name": "stderr",
     "output_type": "stream",
     "text": [
      " 67%|██████▋   | 13490/20009 [1:14:49<36:52,  2.95it/s]"
     ]
    },
    {
     "name": "stdout",
     "output_type": "stream",
     "text": [
      "Step 73481, training: ucc_acc=1.0 weighted_loss=0.005008711479604244 ucc_loss=0.005008711479604244 ae_loss=0 eval: ucc_acc=1.0 weighted_loss=0.023334719240665436 ucc_loss=0.023334719240665436 ae_loss=0\n"
     ]
    },
    {
     "name": "stderr",
     "output_type": "stream",
     "text": [
      " 67%|██████▋   | 13500/20009 [1:14:52<37:04,  2.93it/s]"
     ]
    },
    {
     "name": "stdout",
     "output_type": "stream",
     "text": [
      "Step 73491, training: ucc_acc=1.0 weighted_loss=0.008927476592361927 ucc_loss=0.008927476592361927 ae_loss=0 eval: ucc_acc=1.0 weighted_loss=0.004185521975159645 ucc_loss=0.004185521975159645 ae_loss=0\n"
     ]
    },
    {
     "name": "stderr",
     "output_type": "stream",
     "text": [
      " 68%|██████▊   | 13510/20009 [1:14:55<36:33,  2.96it/s]"
     ]
    },
    {
     "name": "stdout",
     "output_type": "stream",
     "text": [
      "Step 73501, training: ucc_acc=1.0 weighted_loss=6.663937529083341e-05 ucc_loss=6.663937529083341e-05 ae_loss=0 eval: ucc_acc=1.0 weighted_loss=0.018748614937067032 ucc_loss=0.018748614937067032 ae_loss=0\n"
     ]
    },
    {
     "name": "stderr",
     "output_type": "stream",
     "text": [
      " 68%|██████▊   | 13520/20009 [1:14:58<36:38,  2.95it/s]"
     ]
    },
    {
     "name": "stdout",
     "output_type": "stream",
     "text": [
      "Step 73511, training: ucc_acc=1.0 weighted_loss=0.003422206500545144 ucc_loss=0.003422206500545144 ae_loss=0 eval: ucc_acc=1.0 weighted_loss=0.011275398544967175 ucc_loss=0.011275398544967175 ae_loss=0\n"
     ]
    },
    {
     "name": "stderr",
     "output_type": "stream",
     "text": [
      " 68%|██████▊   | 13530/20009 [1:15:01<37:26,  2.88it/s]"
     ]
    },
    {
     "name": "stdout",
     "output_type": "stream",
     "text": [
      "Step 73521, training: ucc_acc=1.0 weighted_loss=0.04294754937291145 ucc_loss=0.04294754937291145 ae_loss=0 eval: ucc_acc=1.0 weighted_loss=0.04822815582156181 ucc_loss=0.04822815582156181 ae_loss=0\n"
     ]
    },
    {
     "name": "stderr",
     "output_type": "stream",
     "text": [
      " 68%|██████▊   | 13540/20009 [1:15:05<37:20,  2.89it/s]"
     ]
    },
    {
     "name": "stdout",
     "output_type": "stream",
     "text": [
      "Step 73531, training: ucc_acc=1.0 weighted_loss=0.004286141134798527 ucc_loss=0.004286141134798527 ae_loss=0 eval: ucc_acc=1.0 weighted_loss=0.006449644919484854 ucc_loss=0.006449644919484854 ae_loss=0\n"
     ]
    },
    {
     "name": "stderr",
     "output_type": "stream",
     "text": [
      " 68%|██████▊   | 13550/20009 [1:15:08<37:54,  2.84it/s]"
     ]
    },
    {
     "name": "stdout",
     "output_type": "stream",
     "text": [
      "Step 73541, training: ucc_acc=1.0 weighted_loss=0.0068411026149988174 ucc_loss=0.0068411026149988174 ae_loss=0 eval: ucc_acc=1.0 weighted_loss=0.00461105490103364 ucc_loss=0.00461105490103364 ae_loss=0\n"
     ]
    },
    {
     "name": "stderr",
     "output_type": "stream",
     "text": [
      " 68%|██████▊   | 13560/20009 [1:15:11<37:19,  2.88it/s]"
     ]
    },
    {
     "name": "stdout",
     "output_type": "stream",
     "text": [
      "Step 73551, training: ucc_acc=1.0 weighted_loss=0.010344374924898148 ucc_loss=0.010344374924898148 ae_loss=0 eval: ucc_acc=1.0 weighted_loss=0.0017674528062343597 ucc_loss=0.0017674528062343597 ae_loss=0\n"
     ]
    },
    {
     "name": "stderr",
     "output_type": "stream",
     "text": [
      " 68%|██████▊   | 13570/20009 [1:15:14<36:34,  2.93it/s]"
     ]
    },
    {
     "name": "stdout",
     "output_type": "stream",
     "text": [
      "Step 73561, training: ucc_acc=1.0 weighted_loss=0.007802202831953764 ucc_loss=0.007802202831953764 ae_loss=0 eval: ucc_acc=1.0 weighted_loss=0.002082142047584057 ucc_loss=0.002082142047584057 ae_loss=0\n"
     ]
    },
    {
     "name": "stderr",
     "output_type": "stream",
     "text": [
      " 68%|██████▊   | 13580/20009 [1:15:17<35:40,  3.00it/s]"
     ]
    },
    {
     "name": "stdout",
     "output_type": "stream",
     "text": [
      "Step 73571, training: ucc_acc=1.0 weighted_loss=0.006536672357469797 ucc_loss=0.006536672357469797 ae_loss=0 eval: ucc_acc=0.8666666746139526 weighted_loss=0.31107157468795776 ucc_loss=0.31107157468795776 ae_loss=0\n"
     ]
    },
    {
     "name": "stderr",
     "output_type": "stream",
     "text": [
      " 68%|██████▊   | 13590/20009 [1:15:20<36:26,  2.94it/s]"
     ]
    },
    {
     "name": "stdout",
     "output_type": "stream",
     "text": [
      "Step 73581, training: ucc_acc=1.0 weighted_loss=0.008539091795682907 ucc_loss=0.008539091795682907 ae_loss=0 eval: ucc_acc=1.0 weighted_loss=0.004936342127621174 ucc_loss=0.004936342127621174 ae_loss=0\n"
     ]
    },
    {
     "name": "stderr",
     "output_type": "stream",
     "text": [
      " 68%|██████▊   | 13600/20009 [1:15:23<35:44,  2.99it/s]"
     ]
    },
    {
     "name": "stdout",
     "output_type": "stream",
     "text": [
      "Step 73591, training: ucc_acc=1.0 weighted_loss=0.022108351811766624 ucc_loss=0.022108351811766624 ae_loss=0 eval: ucc_acc=0.9333333373069763 weighted_loss=0.06783810257911682 ucc_loss=0.06783810257911682 ae_loss=0\n"
     ]
    },
    {
     "name": "stderr",
     "output_type": "stream",
     "text": [
      " 68%|██████▊   | 13610/20009 [1:15:27<36:55,  2.89it/s]"
     ]
    },
    {
     "name": "stdout",
     "output_type": "stream",
     "text": [
      "Step 73601, training: ucc_acc=1.0 weighted_loss=0.005691858008503914 ucc_loss=0.005691858008503914 ae_loss=0 eval: ucc_acc=1.0 weighted_loss=0.0011409855214878917 ucc_loss=0.0011409855214878917 ae_loss=0\n"
     ]
    },
    {
     "name": "stderr",
     "output_type": "stream",
     "text": [
      " 68%|██████▊   | 13620/20009 [1:15:30<37:10,  2.86it/s]"
     ]
    },
    {
     "name": "stdout",
     "output_type": "stream",
     "text": [
      "Step 73611, training: ucc_acc=1.0 weighted_loss=0.003922874107956886 ucc_loss=0.003922874107956886 ae_loss=0 eval: ucc_acc=1.0 weighted_loss=0.021846558898687363 ucc_loss=0.021846558898687363 ae_loss=0\n"
     ]
    },
    {
     "name": "stderr",
     "output_type": "stream",
     "text": [
      " 68%|██████▊   | 13630/20009 [1:15:33<36:25,  2.92it/s]"
     ]
    },
    {
     "name": "stdout",
     "output_type": "stream",
     "text": [
      "Step 73621, training: ucc_acc=1.0 weighted_loss=0.00939028151333332 ucc_loss=0.00939028151333332 ae_loss=0 eval: ucc_acc=1.0 weighted_loss=0.008872420527040958 ucc_loss=0.008872420527040958 ae_loss=0\n"
     ]
    },
    {
     "name": "stderr",
     "output_type": "stream",
     "text": [
      " 68%|██████▊   | 13640/20009 [1:15:36<37:09,  2.86it/s]"
     ]
    },
    {
     "name": "stdout",
     "output_type": "stream",
     "text": [
      "Step 73631, training: ucc_acc=1.0 weighted_loss=0.017515527084469795 ucc_loss=0.017515527084469795 ae_loss=0 eval: ucc_acc=1.0 weighted_loss=0.013897012919187546 ucc_loss=0.013897012919187546 ae_loss=0\n"
     ]
    },
    {
     "name": "stderr",
     "output_type": "stream",
     "text": [
      " 68%|██████▊   | 13650/20009 [1:15:39<36:08,  2.93it/s]"
     ]
    },
    {
     "name": "stdout",
     "output_type": "stream",
     "text": [
      "Step 73641, training: ucc_acc=1.0 weighted_loss=0.020224137231707573 ucc_loss=0.020224137231707573 ae_loss=0 eval: ucc_acc=0.9333333373069763 weighted_loss=0.11096196621656418 ucc_loss=0.11096196621656418 ae_loss=0\n"
     ]
    },
    {
     "name": "stderr",
     "output_type": "stream",
     "text": [
      " 68%|██████▊   | 13660/20009 [1:15:42<36:10,  2.93it/s]"
     ]
    },
    {
     "name": "stdout",
     "output_type": "stream",
     "text": [
      "Step 73651, training: ucc_acc=1.0 weighted_loss=0.007009983528405428 ucc_loss=0.007009983528405428 ae_loss=0 eval: ucc_acc=1.0 weighted_loss=0.03664281219244003 ucc_loss=0.03664281219244003 ae_loss=0\n"
     ]
    },
    {
     "name": "stderr",
     "output_type": "stream",
     "text": [
      " 68%|██████▊   | 13670/20009 [1:15:45<38:22,  2.75it/s]"
     ]
    },
    {
     "name": "stdout",
     "output_type": "stream",
     "text": [
      "Step 73661, training: ucc_acc=0.9333333373069763 weighted_loss=0.08049282431602478 ucc_loss=0.08049282431602478 ae_loss=0 eval: ucc_acc=1.0 weighted_loss=0.0017310227267444134 ucc_loss=0.0017310227267444134 ae_loss=0\n"
     ]
    },
    {
     "name": "stderr",
     "output_type": "stream",
     "text": [
      " 68%|██████▊   | 13680/20009 [1:15:49<37:17,  2.83it/s]"
     ]
    },
    {
     "name": "stdout",
     "output_type": "stream",
     "text": [
      "Step 73671, training: ucc_acc=1.0 weighted_loss=0.021933594718575478 ucc_loss=0.021933594718575478 ae_loss=0 eval: ucc_acc=1.0 weighted_loss=0.002675809897482395 ucc_loss=0.002675809897482395 ae_loss=0\n"
     ]
    },
    {
     "name": "stderr",
     "output_type": "stream",
     "text": [
      " 68%|██████▊   | 13690/20009 [1:15:52<37:34,  2.80it/s]"
     ]
    },
    {
     "name": "stdout",
     "output_type": "stream",
     "text": [
      "Step 73681, training: ucc_acc=0.9333333373069763 weighted_loss=0.14757537841796875 ucc_loss=0.14757537841796875 ae_loss=0 eval: ucc_acc=1.0 weighted_loss=0.018466653302311897 ucc_loss=0.018466653302311897 ae_loss=0\n"
     ]
    },
    {
     "name": "stderr",
     "output_type": "stream",
     "text": [
      " 68%|██████▊   | 13700/20009 [1:15:55<36:18,  2.90it/s]"
     ]
    },
    {
     "name": "stdout",
     "output_type": "stream",
     "text": [
      "Step 73691, training: ucc_acc=1.0 weighted_loss=0.011248757131397724 ucc_loss=0.011248757131397724 ae_loss=0 eval: ucc_acc=1.0 weighted_loss=0.015989437699317932 ucc_loss=0.015989437699317932 ae_loss=0\n"
     ]
    },
    {
     "name": "stderr",
     "output_type": "stream",
     "text": [
      " 69%|██████▊   | 13710/20009 [1:15:58<36:34,  2.87it/s]"
     ]
    },
    {
     "name": "stdout",
     "output_type": "stream",
     "text": [
      "Step 73701, training: ucc_acc=1.0 weighted_loss=0.00706916768103838 ucc_loss=0.00706916768103838 ae_loss=0 eval: ucc_acc=1.0 weighted_loss=0.006473115179687738 ucc_loss=0.006473115179687738 ae_loss=0\n"
     ]
    },
    {
     "name": "stderr",
     "output_type": "stream",
     "text": [
      " 69%|██████▊   | 13720/20009 [1:16:01<36:17,  2.89it/s]"
     ]
    },
    {
     "name": "stdout",
     "output_type": "stream",
     "text": [
      "Step 73711, training: ucc_acc=1.0 weighted_loss=0.0003112556296400726 ucc_loss=0.0003112556296400726 ae_loss=0 eval: ucc_acc=1.0 weighted_loss=0.005344914272427559 ucc_loss=0.005344914272427559 ae_loss=0\n"
     ]
    },
    {
     "name": "stderr",
     "output_type": "stream",
     "text": [
      " 69%|██████▊   | 13730/20009 [1:16:05<35:59,  2.91it/s]"
     ]
    },
    {
     "name": "stdout",
     "output_type": "stream",
     "text": [
      "Step 73721, training: ucc_acc=1.0 weighted_loss=0.01334567554295063 ucc_loss=0.01334567554295063 ae_loss=0 eval: ucc_acc=1.0 weighted_loss=0.04712900146842003 ucc_loss=0.04712900146842003 ae_loss=0\n"
     ]
    },
    {
     "name": "stderr",
     "output_type": "stream",
     "text": [
      " 69%|██████▊   | 13740/20009 [1:16:08<36:03,  2.90it/s]"
     ]
    },
    {
     "name": "stdout",
     "output_type": "stream",
     "text": [
      "Step 73731, training: ucc_acc=1.0 weighted_loss=0.0019412512192502618 ucc_loss=0.0019412512192502618 ae_loss=0 eval: ucc_acc=1.0 weighted_loss=0.03555471822619438 ucc_loss=0.03555471822619438 ae_loss=0\n"
     ]
    },
    {
     "name": "stderr",
     "output_type": "stream",
     "text": [
      " 69%|██████▊   | 13750/20009 [1:16:11<35:51,  2.91it/s]"
     ]
    },
    {
     "name": "stdout",
     "output_type": "stream",
     "text": [
      "Step 73741, training: ucc_acc=1.0 weighted_loss=0.001718369428999722 ucc_loss=0.001718369428999722 ae_loss=0 eval: ucc_acc=0.9333333373069763 weighted_loss=0.15324577689170837 ucc_loss=0.15324577689170837 ae_loss=0\n"
     ]
    },
    {
     "name": "stderr",
     "output_type": "stream",
     "text": [
      " 69%|██████▉   | 13760/20009 [1:16:14<36:34,  2.85it/s]"
     ]
    },
    {
     "name": "stdout",
     "output_type": "stream",
     "text": [
      "Step 73751, training: ucc_acc=1.0 weighted_loss=0.0013612357433885336 ucc_loss=0.0013612357433885336 ae_loss=0 eval: ucc_acc=1.0 weighted_loss=0.0055158971808850765 ucc_loss=0.0055158971808850765 ae_loss=0\n"
     ]
    },
    {
     "name": "stderr",
     "output_type": "stream",
     "text": [
      " 69%|██████▉   | 13770/20009 [1:16:17<37:13,  2.79it/s]"
     ]
    },
    {
     "name": "stdout",
     "output_type": "stream",
     "text": [
      "Step 73761, training: ucc_acc=1.0 weighted_loss=0.007303760387003422 ucc_loss=0.007303760387003422 ae_loss=0 eval: ucc_acc=1.0 weighted_loss=0.0014948484022170305 ucc_loss=0.0014948484022170305 ae_loss=0\n"
     ]
    },
    {
     "name": "stderr",
     "output_type": "stream",
     "text": [
      " 69%|██████▉   | 13780/20009 [1:16:21<36:32,  2.84it/s]"
     ]
    },
    {
     "name": "stdout",
     "output_type": "stream",
     "text": [
      "Step 73771, training: ucc_acc=0.9333333373069763 weighted_loss=0.15219572186470032 ucc_loss=0.15219572186470032 ae_loss=0 eval: ucc_acc=1.0 weighted_loss=0.020454872399568558 ucc_loss=0.020454872399568558 ae_loss=0\n"
     ]
    },
    {
     "name": "stderr",
     "output_type": "stream",
     "text": [
      " 69%|██████▉   | 13790/20009 [1:16:24<35:53,  2.89it/s]"
     ]
    },
    {
     "name": "stdout",
     "output_type": "stream",
     "text": [
      "Step 73781, training: ucc_acc=0.9333333373069763 weighted_loss=0.11681646853685379 ucc_loss=0.11681646853685379 ae_loss=0 eval: ucc_acc=1.0 weighted_loss=0.032363224774599075 ucc_loss=0.032363224774599075 ae_loss=0\n"
     ]
    },
    {
     "name": "stderr",
     "output_type": "stream",
     "text": [
      " 69%|██████▉   | 13800/20009 [1:16:27<36:21,  2.85it/s]"
     ]
    },
    {
     "name": "stdout",
     "output_type": "stream",
     "text": [
      "Step 73791, training: ucc_acc=1.0 weighted_loss=0.019746530801057816 ucc_loss=0.019746530801057816 ae_loss=0 eval: ucc_acc=1.0 weighted_loss=0.005894288886338472 ucc_loss=0.005894288886338472 ae_loss=0\n"
     ]
    },
    {
     "name": "stderr",
     "output_type": "stream",
     "text": [
      " 69%|██████▉   | 13810/20009 [1:16:30<35:32,  2.91it/s]"
     ]
    },
    {
     "name": "stdout",
     "output_type": "stream",
     "text": [
      "Step 73801, training: ucc_acc=1.0 weighted_loss=0.0003527545486576855 ucc_loss=0.0003527545486576855 ae_loss=0 eval: ucc_acc=1.0 weighted_loss=0.0019410231616348028 ucc_loss=0.0019410231616348028 ae_loss=0\n"
     ]
    },
    {
     "name": "stderr",
     "output_type": "stream",
     "text": [
      " 69%|██████▉   | 13820/20009 [1:16:33<35:40,  2.89it/s]"
     ]
    },
    {
     "name": "stdout",
     "output_type": "stream",
     "text": [
      "Step 73811, training: ucc_acc=1.0 weighted_loss=0.010404803790152073 ucc_loss=0.010404803790152073 ae_loss=0 eval: ucc_acc=1.0 weighted_loss=0.006041860673576593 ucc_loss=0.006041860673576593 ae_loss=0\n"
     ]
    },
    {
     "name": "stderr",
     "output_type": "stream",
     "text": [
      " 69%|██████▉   | 13830/20009 [1:16:36<34:56,  2.95it/s]"
     ]
    },
    {
     "name": "stdout",
     "output_type": "stream",
     "text": [
      "Step 73821, training: ucc_acc=1.0 weighted_loss=0.02118038944900036 ucc_loss=0.02118038944900036 ae_loss=0 eval: ucc_acc=0.9333333373069763 weighted_loss=0.09344876557588577 ucc_loss=0.09344876557588577 ae_loss=0\n"
     ]
    },
    {
     "name": "stderr",
     "output_type": "stream",
     "text": [
      " 69%|██████▉   | 13840/20009 [1:16:39<36:12,  2.84it/s]"
     ]
    },
    {
     "name": "stdout",
     "output_type": "stream",
     "text": [
      "Step 73831, training: ucc_acc=1.0 weighted_loss=0.0007021790952421725 ucc_loss=0.0007021790952421725 ae_loss=0 eval: ucc_acc=1.0 weighted_loss=0.01996663026511669 ucc_loss=0.01996663026511669 ae_loss=0\n"
     ]
    },
    {
     "name": "stderr",
     "output_type": "stream",
     "text": [
      " 69%|██████▉   | 13850/20009 [1:16:43<35:37,  2.88it/s]"
     ]
    },
    {
     "name": "stdout",
     "output_type": "stream",
     "text": [
      "Step 73841, training: ucc_acc=1.0 weighted_loss=0.00450677378103137 ucc_loss=0.00450677378103137 ae_loss=0 eval: ucc_acc=1.0 weighted_loss=0.0094503965228796 ucc_loss=0.0094503965228796 ae_loss=0\n"
     ]
    },
    {
     "name": "stderr",
     "output_type": "stream",
     "text": [
      " 69%|██████▉   | 13860/20009 [1:16:46<35:15,  2.91it/s]"
     ]
    },
    {
     "name": "stdout",
     "output_type": "stream",
     "text": [
      "Step 73851, training: ucc_acc=1.0 weighted_loss=0.006324654445052147 ucc_loss=0.006324654445052147 ae_loss=0 eval: ucc_acc=1.0 weighted_loss=0.010524747893214226 ucc_loss=0.010524747893214226 ae_loss=0\n"
     ]
    },
    {
     "name": "stderr",
     "output_type": "stream",
     "text": [
      " 69%|██████▉   | 13870/20009 [1:16:49<35:38,  2.87it/s]"
     ]
    },
    {
     "name": "stdout",
     "output_type": "stream",
     "text": [
      "Step 73861, training: ucc_acc=1.0 weighted_loss=0.0027017255779355764 ucc_loss=0.0027017255779355764 ae_loss=0 eval: ucc_acc=1.0 weighted_loss=0.01834595389664173 ucc_loss=0.01834595389664173 ae_loss=0\n"
     ]
    },
    {
     "name": "stderr",
     "output_type": "stream",
     "text": [
      " 69%|██████▉   | 13880/20009 [1:16:52<35:29,  2.88it/s]"
     ]
    },
    {
     "name": "stdout",
     "output_type": "stream",
     "text": [
      "Step 73871, training: ucc_acc=0.8666666746139526 weighted_loss=0.345965713262558 ucc_loss=0.345965713262558 ae_loss=0 eval: ucc_acc=1.0 weighted_loss=0.006070037838071585 ucc_loss=0.006070037838071585 ae_loss=0\n"
     ]
    },
    {
     "name": "stderr",
     "output_type": "stream",
     "text": [
      " 69%|██████▉   | 13890/20009 [1:16:55<36:03,  2.83it/s]"
     ]
    },
    {
     "name": "stdout",
     "output_type": "stream",
     "text": [
      "Step 73881, training: ucc_acc=1.0 weighted_loss=0.03575310856103897 ucc_loss=0.03575310856103897 ae_loss=0 eval: ucc_acc=1.0 weighted_loss=0.011254657991230488 ucc_loss=0.011254657991230488 ae_loss=0\n"
     ]
    },
    {
     "name": "stderr",
     "output_type": "stream",
     "text": [
      " 69%|██████▉   | 13900/20009 [1:16:58<35:18,  2.88it/s]"
     ]
    },
    {
     "name": "stdout",
     "output_type": "stream",
     "text": [
      "Step 73891, training: ucc_acc=1.0 weighted_loss=0.01838110201060772 ucc_loss=0.01838110201060772 ae_loss=0 eval: ucc_acc=1.0 weighted_loss=0.006401729304343462 ucc_loss=0.006401729304343462 ae_loss=0\n"
     ]
    },
    {
     "name": "stderr",
     "output_type": "stream",
     "text": [
      " 70%|██████▉   | 13910/20009 [1:17:02<35:41,  2.85it/s]"
     ]
    },
    {
     "name": "stdout",
     "output_type": "stream",
     "text": [
      "Step 73901, training: ucc_acc=1.0 weighted_loss=0.0023626387119293213 ucc_loss=0.0023626387119293213 ae_loss=0 eval: ucc_acc=1.0 weighted_loss=0.010289092548191547 ucc_loss=0.010289092548191547 ae_loss=0\n"
     ]
    },
    {
     "name": "stderr",
     "output_type": "stream",
     "text": [
      " 70%|██████▉   | 13920/20009 [1:17:05<35:11,  2.88it/s]"
     ]
    },
    {
     "name": "stdout",
     "output_type": "stream",
     "text": [
      "Step 73911, training: ucc_acc=0.9333333373069763 weighted_loss=0.1646968424320221 ucc_loss=0.1646968424320221 ae_loss=0 eval: ucc_acc=1.0 weighted_loss=0.030527202412486076 ucc_loss=0.030527202412486076 ae_loss=0\n"
     ]
    },
    {
     "name": "stderr",
     "output_type": "stream",
     "text": [
      " 70%|██████▉   | 13930/20009 [1:17:08<35:29,  2.85it/s]"
     ]
    },
    {
     "name": "stdout",
     "output_type": "stream",
     "text": [
      "Step 73921, training: ucc_acc=1.0 weighted_loss=0.01748865656554699 ucc_loss=0.01748865656554699 ae_loss=0 eval: ucc_acc=1.0 weighted_loss=0.012549011036753654 ucc_loss=0.012549011036753654 ae_loss=0\n"
     ]
    },
    {
     "name": "stderr",
     "output_type": "stream",
     "text": [
      " 70%|██████▉   | 13940/20009 [1:17:11<35:07,  2.88it/s]"
     ]
    },
    {
     "name": "stdout",
     "output_type": "stream",
     "text": [
      "Step 73931, training: ucc_acc=1.0 weighted_loss=0.007392033468931913 ucc_loss=0.007392033468931913 ae_loss=0 eval: ucc_acc=1.0 weighted_loss=0.007049290928989649 ucc_loss=0.007049290928989649 ae_loss=0\n"
     ]
    },
    {
     "name": "stderr",
     "output_type": "stream",
     "text": [
      " 70%|██████▉   | 13950/20009 [1:17:14<35:01,  2.88it/s]"
     ]
    },
    {
     "name": "stdout",
     "output_type": "stream",
     "text": [
      "Step 73941, training: ucc_acc=1.0 weighted_loss=0.01471569575369358 ucc_loss=0.01471569575369358 ae_loss=0 eval: ucc_acc=1.0 weighted_loss=0.025212125852704048 ucc_loss=0.025212125852704048 ae_loss=0\n"
     ]
    },
    {
     "name": "stderr",
     "output_type": "stream",
     "text": [
      " 70%|██████▉   | 13960/20009 [1:17:18<35:52,  2.81it/s]"
     ]
    },
    {
     "name": "stdout",
     "output_type": "stream",
     "text": [
      "Step 73951, training: ucc_acc=1.0 weighted_loss=0.0021470298524945974 ucc_loss=0.0021470298524945974 ae_loss=0 eval: ucc_acc=0.9333333373069763 weighted_loss=0.13584326207637787 ucc_loss=0.13584326207637787 ae_loss=0\n"
     ]
    },
    {
     "name": "stderr",
     "output_type": "stream",
     "text": [
      " 70%|██████▉   | 13970/20009 [1:17:21<35:54,  2.80it/s]"
     ]
    },
    {
     "name": "stdout",
     "output_type": "stream",
     "text": [
      "Step 73961, training: ucc_acc=1.0 weighted_loss=0.0038329416420310736 ucc_loss=0.0038329416420310736 ae_loss=0 eval: ucc_acc=1.0 weighted_loss=0.012871678918600082 ucc_loss=0.012871678918600082 ae_loss=0\n"
     ]
    },
    {
     "name": "stderr",
     "output_type": "stream",
     "text": [
      " 70%|██████▉   | 13980/20009 [1:17:24<35:14,  2.85it/s]"
     ]
    },
    {
     "name": "stdout",
     "output_type": "stream",
     "text": [
      "Step 73971, training: ucc_acc=1.0 weighted_loss=0.003962136339396238 ucc_loss=0.003962136339396238 ae_loss=0 eval: ucc_acc=1.0 weighted_loss=0.0013337013078853488 ucc_loss=0.0013337013078853488 ae_loss=0\n"
     ]
    },
    {
     "name": "stderr",
     "output_type": "stream",
     "text": [
      " 70%|██████▉   | 13990/20009 [1:17:27<35:11,  2.85it/s]"
     ]
    },
    {
     "name": "stdout",
     "output_type": "stream",
     "text": [
      "Step 73981, training: ucc_acc=0.9333333373069763 weighted_loss=0.18314282596111298 ucc_loss=0.18314282596111298 ae_loss=0 eval: ucc_acc=1.0 weighted_loss=0.030351977795362473 ucc_loss=0.030351977795362473 ae_loss=0\n"
     ]
    },
    {
     "name": "stderr",
     "output_type": "stream",
     "text": [
      " 70%|██████▉   | 14000/20009 [1:17:30<35:22,  2.83it/s]"
     ]
    },
    {
     "name": "stdout",
     "output_type": "stream",
     "text": [
      "Step 73991, training: ucc_acc=1.0 weighted_loss=0.0006425585015676916 ucc_loss=0.0006425585015676916 ae_loss=0 eval: ucc_acc=1.0 weighted_loss=0.005302689969539642 ucc_loss=0.005302689969539642 ae_loss=0\n"
     ]
    },
    {
     "name": "stderr",
     "output_type": "stream",
     "text": [
      " 70%|███████   | 14010/20009 [1:17:34<35:29,  2.82it/s]"
     ]
    },
    {
     "name": "stdout",
     "output_type": "stream",
     "text": [
      "Step 74001, training: ucc_acc=1.0 weighted_loss=0.0016624851850792766 ucc_loss=0.0016624851850792766 ae_loss=0 eval: ucc_acc=1.0 weighted_loss=0.004519423469901085 ucc_loss=0.004519423469901085 ae_loss=0\n"
     ]
    },
    {
     "name": "stderr",
     "output_type": "stream",
     "text": [
      " 70%|███████   | 14020/20009 [1:17:37<36:33,  2.73it/s]"
     ]
    },
    {
     "name": "stdout",
     "output_type": "stream",
     "text": [
      "Step 74011, training: ucc_acc=1.0 weighted_loss=0.0019527055555954576 ucc_loss=0.0019527055555954576 ae_loss=0 eval: ucc_acc=0.9333333373069763 weighted_loss=0.050601776689291 ucc_loss=0.050601776689291 ae_loss=0\n"
     ]
    },
    {
     "name": "stderr",
     "output_type": "stream",
     "text": [
      " 70%|███████   | 14030/20009 [1:17:40<34:28,  2.89it/s]"
     ]
    },
    {
     "name": "stdout",
     "output_type": "stream",
     "text": [
      "Step 74021, training: ucc_acc=1.0 weighted_loss=0.004663162864744663 ucc_loss=0.004663162864744663 ae_loss=0 eval: ucc_acc=1.0 weighted_loss=0.012334512546658516 ucc_loss=0.012334512546658516 ae_loss=0\n"
     ]
    },
    {
     "name": "stderr",
     "output_type": "stream",
     "text": [
      " 70%|███████   | 14040/20009 [1:17:43<34:49,  2.86it/s]"
     ]
    },
    {
     "name": "stdout",
     "output_type": "stream",
     "text": [
      "Step 74031, training: ucc_acc=1.0 weighted_loss=0.02313694730401039 ucc_loss=0.02313694730401039 ae_loss=0 eval: ucc_acc=1.0 weighted_loss=0.0051888576708734035 ucc_loss=0.0051888576708734035 ae_loss=0\n"
     ]
    },
    {
     "name": "stderr",
     "output_type": "stream",
     "text": [
      " 70%|███████   | 14050/20009 [1:17:46<34:46,  2.86it/s]"
     ]
    },
    {
     "name": "stdout",
     "output_type": "stream",
     "text": [
      "Step 74041, training: ucc_acc=1.0 weighted_loss=0.020837407559156418 ucc_loss=0.020837407559156418 ae_loss=0 eval: ucc_acc=1.0 weighted_loss=0.0005470870528370142 ucc_loss=0.0005470870528370142 ae_loss=0\n"
     ]
    },
    {
     "name": "stderr",
     "output_type": "stream",
     "text": [
      " 70%|███████   | 14060/20009 [1:17:50<33:52,  2.93it/s]"
     ]
    },
    {
     "name": "stdout",
     "output_type": "stream",
     "text": [
      "Step 74051, training: ucc_acc=1.0 weighted_loss=0.01027134619653225 ucc_loss=0.01027134619653225 ae_loss=0 eval: ucc_acc=0.9333333373069763 weighted_loss=0.11316456645727158 ucc_loss=0.11316456645727158 ae_loss=0\n"
     ]
    },
    {
     "name": "stderr",
     "output_type": "stream",
     "text": [
      " 70%|███████   | 14070/20009 [1:17:53<34:13,  2.89it/s]"
     ]
    },
    {
     "name": "stdout",
     "output_type": "stream",
     "text": [
      "Step 74061, training: ucc_acc=1.0 weighted_loss=0.009864406660199165 ucc_loss=0.009864406660199165 ae_loss=0 eval: ucc_acc=1.0 weighted_loss=0.00013642518024425954 ucc_loss=0.00013642518024425954 ae_loss=0\n"
     ]
    },
    {
     "name": "stderr",
     "output_type": "stream",
     "text": [
      " 70%|███████   | 14080/20009 [1:17:56<34:38,  2.85it/s]"
     ]
    },
    {
     "name": "stdout",
     "output_type": "stream",
     "text": [
      "Step 74071, training: ucc_acc=1.0 weighted_loss=0.009115089662373066 ucc_loss=0.009115089662373066 ae_loss=0 eval: ucc_acc=1.0 weighted_loss=0.011985748074948788 ucc_loss=0.011985748074948788 ae_loss=0\n"
     ]
    },
    {
     "name": "stderr",
     "output_type": "stream",
     "text": [
      " 70%|███████   | 14090/20009 [1:17:59<33:57,  2.90it/s]"
     ]
    },
    {
     "name": "stdout",
     "output_type": "stream",
     "text": [
      "Step 74081, training: ucc_acc=1.0 weighted_loss=3.934081905754283e-05 ucc_loss=3.934081905754283e-05 ae_loss=0 eval: ucc_acc=1.0 weighted_loss=0.00646881153807044 ucc_loss=0.00646881153807044 ae_loss=0\n"
     ]
    },
    {
     "name": "stderr",
     "output_type": "stream",
     "text": [
      " 70%|███████   | 14100/20009 [1:18:02<33:56,  2.90it/s]"
     ]
    },
    {
     "name": "stdout",
     "output_type": "stream",
     "text": [
      "Step 74091, training: ucc_acc=1.0 weighted_loss=0.00373785849660635 ucc_loss=0.00373785849660635 ae_loss=0 eval: ucc_acc=1.0 weighted_loss=0.032471202313899994 ucc_loss=0.032471202313899994 ae_loss=0\n"
     ]
    },
    {
     "name": "stderr",
     "output_type": "stream",
     "text": [
      " 71%|███████   | 14110/20009 [1:18:05<34:13,  2.87it/s]"
     ]
    },
    {
     "name": "stdout",
     "output_type": "stream",
     "text": [
      "Step 74101, training: ucc_acc=0.9333333373069763 weighted_loss=0.07971075922250748 ucc_loss=0.07971075922250748 ae_loss=0 eval: ucc_acc=1.0 weighted_loss=0.00045462834532372653 ucc_loss=0.00045462834532372653 ae_loss=0\n"
     ]
    },
    {
     "name": "stderr",
     "output_type": "stream",
     "text": [
      " 71%|███████   | 14120/20009 [1:18:09<33:26,  2.94it/s]"
     ]
    },
    {
     "name": "stdout",
     "output_type": "stream",
     "text": [
      "Step 74111, training: ucc_acc=1.0 weighted_loss=0.024611089378595352 ucc_loss=0.024611089378595352 ae_loss=0 eval: ucc_acc=0.9333333373069763 weighted_loss=0.08176568895578384 ucc_loss=0.08176568895578384 ae_loss=0\n"
     ]
    },
    {
     "name": "stderr",
     "output_type": "stream",
     "text": [
      " 71%|███████   | 14130/20009 [1:18:12<33:55,  2.89it/s]"
     ]
    },
    {
     "name": "stdout",
     "output_type": "stream",
     "text": [
      "Step 74121, training: ucc_acc=1.0 weighted_loss=0.0046897875145077705 ucc_loss=0.0046897875145077705 ae_loss=0 eval: ucc_acc=1.0 weighted_loss=0.014903995208442211 ucc_loss=0.014903995208442211 ae_loss=0\n"
     ]
    },
    {
     "name": "stderr",
     "output_type": "stream",
     "text": [
      " 71%|███████   | 14140/20009 [1:18:15<33:26,  2.92it/s]"
     ]
    },
    {
     "name": "stdout",
     "output_type": "stream",
     "text": [
      "Step 74131, training: ucc_acc=1.0 weighted_loss=0.0009161140769720078 ucc_loss=0.0009161140769720078 ae_loss=0 eval: ucc_acc=1.0 weighted_loss=0.010064362548291683 ucc_loss=0.010064362548291683 ae_loss=0\n"
     ]
    },
    {
     "name": "stderr",
     "output_type": "stream",
     "text": [
      " 71%|███████   | 14150/20009 [1:18:18<34:57,  2.79it/s]"
     ]
    },
    {
     "name": "stdout",
     "output_type": "stream",
     "text": [
      "Step 74141, training: ucc_acc=1.0 weighted_loss=0.004279524087905884 ucc_loss=0.004279524087905884 ae_loss=0 eval: ucc_acc=1.0 weighted_loss=0.0013405790086835623 ucc_loss=0.0013405790086835623 ae_loss=0\n"
     ]
    },
    {
     "name": "stderr",
     "output_type": "stream",
     "text": [
      " 71%|███████   | 14160/20009 [1:18:21<36:03,  2.70it/s]"
     ]
    },
    {
     "name": "stdout",
     "output_type": "stream",
     "text": [
      "Step 74151, training: ucc_acc=1.0 weighted_loss=8.367283589905128e-05 ucc_loss=8.367283589905128e-05 ae_loss=0 eval: ucc_acc=1.0 weighted_loss=0.007558930199593306 ucc_loss=0.007558930199593306 ae_loss=0\n"
     ]
    },
    {
     "name": "stderr",
     "output_type": "stream",
     "text": [
      " 71%|███████   | 14170/20009 [1:18:25<36:15,  2.68it/s]"
     ]
    },
    {
     "name": "stdout",
     "output_type": "stream",
     "text": [
      "Step 74161, training: ucc_acc=1.0 weighted_loss=0.006373712792992592 ucc_loss=0.006373712792992592 ae_loss=0 eval: ucc_acc=1.0 weighted_loss=0.006816992536187172 ucc_loss=0.006816992536187172 ae_loss=0\n"
     ]
    },
    {
     "name": "stderr",
     "output_type": "stream",
     "text": [
      " 71%|███████   | 14180/20009 [1:18:28<34:03,  2.85it/s]"
     ]
    },
    {
     "name": "stdout",
     "output_type": "stream",
     "text": [
      "Step 74171, training: ucc_acc=1.0 weighted_loss=0.00530777033418417 ucc_loss=0.00530777033418417 ae_loss=0 eval: ucc_acc=1.0 weighted_loss=0.0036599594168365 ucc_loss=0.0036599594168365 ae_loss=0\n"
     ]
    },
    {
     "name": "stderr",
     "output_type": "stream",
     "text": [
      " 71%|███████   | 14190/20009 [1:18:31<33:55,  2.86it/s]"
     ]
    },
    {
     "name": "stdout",
     "output_type": "stream",
     "text": [
      "Step 74181, training: ucc_acc=1.0 weighted_loss=0.0010487380204722285 ucc_loss=0.0010487380204722285 ae_loss=0 eval: ucc_acc=1.0 weighted_loss=0.02574317343533039 ucc_loss=0.02574317343533039 ae_loss=0\n"
     ]
    },
    {
     "name": "stderr",
     "output_type": "stream",
     "text": [
      " 71%|███████   | 14200/20009 [1:18:34<33:32,  2.89it/s]"
     ]
    },
    {
     "name": "stdout",
     "output_type": "stream",
     "text": [
      "Step 74191, training: ucc_acc=0.9333333373069763 weighted_loss=0.17631664872169495 ucc_loss=0.17631664872169495 ae_loss=0 eval: ucc_acc=0.9333333373069763 weighted_loss=0.18756866455078125 ucc_loss=0.18756866455078125 ae_loss=0\n"
     ]
    },
    {
     "name": "stderr",
     "output_type": "stream",
     "text": [
      " 71%|███████   | 14210/20009 [1:18:38<33:55,  2.85it/s]"
     ]
    },
    {
     "name": "stdout",
     "output_type": "stream",
     "text": [
      "Step 74201, training: ucc_acc=1.0 weighted_loss=0.00278995162807405 ucc_loss=0.00278995162807405 ae_loss=0 eval: ucc_acc=0.9333333373069763 weighted_loss=0.10590896755456924 ucc_loss=0.10590896755456924 ae_loss=0\n"
     ]
    },
    {
     "name": "stderr",
     "output_type": "stream",
     "text": [
      " 71%|███████   | 14220/20009 [1:18:41<34:07,  2.83it/s]"
     ]
    },
    {
     "name": "stdout",
     "output_type": "stream",
     "text": [
      "Step 74211, training: ucc_acc=1.0 weighted_loss=0.008208243176341057 ucc_loss=0.008208243176341057 ae_loss=0 eval: ucc_acc=1.0 weighted_loss=0.03808007016777992 ucc_loss=0.03808007016777992 ae_loss=0\n"
     ]
    },
    {
     "name": "stderr",
     "output_type": "stream",
     "text": [
      " 71%|███████   | 14230/20009 [1:18:44<33:26,  2.88it/s]"
     ]
    },
    {
     "name": "stdout",
     "output_type": "stream",
     "text": [
      "Step 74221, training: ucc_acc=1.0 weighted_loss=0.0005709678516723216 ucc_loss=0.0005709678516723216 ae_loss=0 eval: ucc_acc=1.0 weighted_loss=0.008718281984329224 ucc_loss=0.008718281984329224 ae_loss=0\n"
     ]
    },
    {
     "name": "stderr",
     "output_type": "stream",
     "text": [
      " 71%|███████   | 14240/20009 [1:18:47<33:23,  2.88it/s]"
     ]
    },
    {
     "name": "stdout",
     "output_type": "stream",
     "text": [
      "Step 74231, training: ucc_acc=1.0 weighted_loss=0.003107290482148528 ucc_loss=0.003107290482148528 ae_loss=0 eval: ucc_acc=1.0 weighted_loss=0.0010956369806081057 ucc_loss=0.0010956369806081057 ae_loss=0\n"
     ]
    },
    {
     "name": "stderr",
     "output_type": "stream",
     "text": [
      " 71%|███████   | 14250/20009 [1:18:51<34:32,  2.78it/s]"
     ]
    },
    {
     "name": "stdout",
     "output_type": "stream",
     "text": [
      "Step 74241, training: ucc_acc=0.9333333373069763 weighted_loss=0.16656717658042908 ucc_loss=0.16656717658042908 ae_loss=0 eval: ucc_acc=1.0 weighted_loss=0.001174355624243617 ucc_loss=0.001174355624243617 ae_loss=0\n"
     ]
    },
    {
     "name": "stderr",
     "output_type": "stream",
     "text": [
      " 71%|███████▏  | 14260/20009 [1:18:54<33:40,  2.85it/s]"
     ]
    },
    {
     "name": "stdout",
     "output_type": "stream",
     "text": [
      "Step 74251, training: ucc_acc=1.0 weighted_loss=3.945427306462079e-05 ucc_loss=3.945427306462079e-05 ae_loss=0 eval: ucc_acc=1.0 weighted_loss=0.013013568706810474 ucc_loss=0.013013568706810474 ae_loss=0\n"
     ]
    },
    {
     "name": "stderr",
     "output_type": "stream",
     "text": [
      " 71%|███████▏  | 14270/20009 [1:18:57<33:20,  2.87it/s]"
     ]
    },
    {
     "name": "stdout",
     "output_type": "stream",
     "text": [
      "Step 74261, training: ucc_acc=1.0 weighted_loss=0.0013918079202994704 ucc_loss=0.0013918079202994704 ae_loss=0 eval: ucc_acc=0.9333333373069763 weighted_loss=0.11974215507507324 ucc_loss=0.11974215507507324 ae_loss=0\n"
     ]
    },
    {
     "name": "stderr",
     "output_type": "stream",
     "text": [
      " 71%|███████▏  | 14280/20009 [1:19:00<39:25,  2.42it/s]"
     ]
    },
    {
     "name": "stdout",
     "output_type": "stream",
     "text": [
      "Step 74271, training: ucc_acc=1.0 weighted_loss=8.444614650215954e-05 ucc_loss=8.444614650215954e-05 ae_loss=0 eval: ucc_acc=1.0 weighted_loss=0.03181834518909454 ucc_loss=0.03181834518909454 ae_loss=0\n"
     ]
    },
    {
     "name": "stderr",
     "output_type": "stream",
     "text": [
      " 71%|███████▏  | 14290/20009 [1:19:04<33:53,  2.81it/s]"
     ]
    },
    {
     "name": "stdout",
     "output_type": "stream",
     "text": [
      "Step 74281, training: ucc_acc=1.0 weighted_loss=0.003845415310934186 ucc_loss=0.003845415310934186 ae_loss=0 eval: ucc_acc=1.0 weighted_loss=0.005518574733287096 ucc_loss=0.005518574733287096 ae_loss=0\n"
     ]
    },
    {
     "name": "stderr",
     "output_type": "stream",
     "text": [
      " 71%|███████▏  | 14300/20009 [1:19:07<33:38,  2.83it/s]"
     ]
    },
    {
     "name": "stdout",
     "output_type": "stream",
     "text": [
      "Step 74291, training: ucc_acc=1.0 weighted_loss=0.031654663383960724 ucc_loss=0.031654663383960724 ae_loss=0 eval: ucc_acc=1.0 weighted_loss=0.02904323861002922 ucc_loss=0.02904323861002922 ae_loss=0\n"
     ]
    },
    {
     "name": "stderr",
     "output_type": "stream",
     "text": [
      " 72%|███████▏  | 14310/20009 [1:19:10<34:30,  2.75it/s]"
     ]
    },
    {
     "name": "stdout",
     "output_type": "stream",
     "text": [
      "Step 74301, training: ucc_acc=0.9333333373069763 weighted_loss=0.17395642399787903 ucc_loss=0.17395642399787903 ae_loss=0 eval: ucc_acc=0.9333333373069763 weighted_loss=0.10229871422052383 ucc_loss=0.10229871422052383 ae_loss=0\n"
     ]
    },
    {
     "name": "stderr",
     "output_type": "stream",
     "text": [
      " 72%|███████▏  | 14320/20009 [1:19:13<32:35,  2.91it/s]"
     ]
    },
    {
     "name": "stdout",
     "output_type": "stream",
     "text": [
      "Step 74311, training: ucc_acc=1.0 weighted_loss=0.0009364720317535102 ucc_loss=0.0009364720317535102 ae_loss=0 eval: ucc_acc=1.0 weighted_loss=0.04413647949695587 ucc_loss=0.04413647949695587 ae_loss=0\n"
     ]
    },
    {
     "name": "stderr",
     "output_type": "stream",
     "text": [
      " 72%|███████▏  | 14330/20009 [1:19:17<35:18,  2.68it/s]"
     ]
    },
    {
     "name": "stdout",
     "output_type": "stream",
     "text": [
      "Step 74321, training: ucc_acc=1.0 weighted_loss=0.0003037454735022038 ucc_loss=0.0003037454735022038 ae_loss=0 eval: ucc_acc=1.0 weighted_loss=0.024146806448698044 ucc_loss=0.024146806448698044 ae_loss=0\n"
     ]
    },
    {
     "name": "stderr",
     "output_type": "stream",
     "text": [
      " 72%|███████▏  | 14340/20009 [1:19:20<32:55,  2.87it/s]"
     ]
    },
    {
     "name": "stdout",
     "output_type": "stream",
     "text": [
      "Step 74331, training: ucc_acc=1.0 weighted_loss=0.02091735228896141 ucc_loss=0.02091735228896141 ae_loss=0 eval: ucc_acc=1.0 weighted_loss=0.009898404590785503 ucc_loss=0.009898404590785503 ae_loss=0\n"
     ]
    },
    {
     "name": "stderr",
     "output_type": "stream",
     "text": [
      " 72%|███████▏  | 14350/20009 [1:19:23<32:49,  2.87it/s]"
     ]
    },
    {
     "name": "stdout",
     "output_type": "stream",
     "text": [
      "Step 74341, training: ucc_acc=1.0 weighted_loss=0.005931547377258539 ucc_loss=0.005931547377258539 ae_loss=0 eval: ucc_acc=1.0 weighted_loss=0.0071539622731506824 ucc_loss=0.0071539622731506824 ae_loss=0\n"
     ]
    },
    {
     "name": "stderr",
     "output_type": "stream",
     "text": [
      " 72%|███████▏  | 14360/20009 [1:19:26<32:29,  2.90it/s]"
     ]
    },
    {
     "name": "stdout",
     "output_type": "stream",
     "text": [
      "Step 74351, training: ucc_acc=1.0 weighted_loss=0.006813800893723965 ucc_loss=0.006813800893723965 ae_loss=0 eval: ucc_acc=1.0 weighted_loss=0.011964223347604275 ucc_loss=0.011964223347604275 ae_loss=0\n"
     ]
    },
    {
     "name": "stderr",
     "output_type": "stream",
     "text": [
      " 72%|███████▏  | 14370/20009 [1:19:29<33:27,  2.81it/s]"
     ]
    },
    {
     "name": "stdout",
     "output_type": "stream",
     "text": [
      "Step 74361, training: ucc_acc=1.0 weighted_loss=0.0083916699513793 ucc_loss=0.0083916699513793 ae_loss=0 eval: ucc_acc=1.0 weighted_loss=0.003832833142951131 ucc_loss=0.003832833142951131 ae_loss=0\n"
     ]
    },
    {
     "name": "stderr",
     "output_type": "stream",
     "text": [
      " 72%|███████▏  | 14380/20009 [1:19:33<37:45,  2.48it/s]"
     ]
    },
    {
     "name": "stdout",
     "output_type": "stream",
     "text": [
      "Step 74371, training: ucc_acc=1.0 weighted_loss=0.006308893207460642 ucc_loss=0.006308893207460642 ae_loss=0 eval: ucc_acc=1.0 weighted_loss=0.0033855633810162544 ucc_loss=0.0033855633810162544 ae_loss=0\n"
     ]
    },
    {
     "name": "stderr",
     "output_type": "stream",
     "text": [
      " 72%|███████▏  | 14390/20009 [1:19:36<34:09,  2.74it/s]"
     ]
    },
    {
     "name": "stdout",
     "output_type": "stream",
     "text": [
      "Step 74381, training: ucc_acc=1.0 weighted_loss=0.05377662926912308 ucc_loss=0.05377662926912308 ae_loss=0 eval: ucc_acc=1.0 weighted_loss=0.0035714765544980764 ucc_loss=0.0035714765544980764 ae_loss=0\n"
     ]
    },
    {
     "name": "stderr",
     "output_type": "stream",
     "text": [
      " 72%|███████▏  | 14400/20009 [1:19:39<33:52,  2.76it/s]"
     ]
    },
    {
     "name": "stdout",
     "output_type": "stream",
     "text": [
      "Step 74391, training: ucc_acc=1.0 weighted_loss=0.0030069041531533003 ucc_loss=0.0030069041531533003 ae_loss=0 eval: ucc_acc=1.0 weighted_loss=0.006957955192774534 ucc_loss=0.006957955192774534 ae_loss=0\n"
     ]
    },
    {
     "name": "stderr",
     "output_type": "stream",
     "text": [
      " 72%|███████▏  | 14410/20009 [1:19:42<32:02,  2.91it/s]"
     ]
    },
    {
     "name": "stdout",
     "output_type": "stream",
     "text": [
      "Step 74401, training: ucc_acc=1.0 weighted_loss=0.010009530931711197 ucc_loss=0.010009530931711197 ae_loss=0 eval: ucc_acc=1.0 weighted_loss=0.006808618549257517 ucc_loss=0.006808618549257517 ae_loss=0\n"
     ]
    },
    {
     "name": "stderr",
     "output_type": "stream",
     "text": [
      " 72%|███████▏  | 14420/20009 [1:19:46<32:01,  2.91it/s]"
     ]
    },
    {
     "name": "stdout",
     "output_type": "stream",
     "text": [
      "Step 74411, training: ucc_acc=1.0 weighted_loss=0.004063553176820278 ucc_loss=0.004063553176820278 ae_loss=0 eval: ucc_acc=1.0 weighted_loss=0.007590065710246563 ucc_loss=0.007590065710246563 ae_loss=0\n"
     ]
    },
    {
     "name": "stderr",
     "output_type": "stream",
     "text": [
      " 72%|███████▏  | 14430/20009 [1:19:49<31:58,  2.91it/s]"
     ]
    },
    {
     "name": "stdout",
     "output_type": "stream",
     "text": [
      "Step 74421, training: ucc_acc=1.0 weighted_loss=0.04608684778213501 ucc_loss=0.04608684778213501 ae_loss=0 eval: ucc_acc=1.0 weighted_loss=0.019101370126008987 ucc_loss=0.019101370126008987 ae_loss=0\n"
     ]
    },
    {
     "name": "stderr",
     "output_type": "stream",
     "text": [
      " 72%|███████▏  | 14440/20009 [1:19:52<33:50,  2.74it/s]"
     ]
    },
    {
     "name": "stdout",
     "output_type": "stream",
     "text": [
      "Step 74431, training: ucc_acc=1.0 weighted_loss=0.03320608660578728 ucc_loss=0.03320608660578728 ae_loss=0 eval: ucc_acc=1.0 weighted_loss=0.03123590350151062 ucc_loss=0.03123590350151062 ae_loss=0\n"
     ]
    },
    {
     "name": "stderr",
     "output_type": "stream",
     "text": [
      " 72%|███████▏  | 14450/20009 [1:19:55<31:56,  2.90it/s]"
     ]
    },
    {
     "name": "stdout",
     "output_type": "stream",
     "text": [
      "Step 74441, training: ucc_acc=1.0 weighted_loss=0.005846722051501274 ucc_loss=0.005846722051501274 ae_loss=0 eval: ucc_acc=1.0 weighted_loss=0.00769196217879653 ucc_loss=0.00769196217879653 ae_loss=0\n"
     ]
    },
    {
     "name": "stderr",
     "output_type": "stream",
     "text": [
      " 72%|███████▏  | 14460/20009 [1:19:58<34:06,  2.71it/s]"
     ]
    },
    {
     "name": "stdout",
     "output_type": "stream",
     "text": [
      "Step 74451, training: ucc_acc=1.0 weighted_loss=0.021563820540905 ucc_loss=0.021563820540905 ae_loss=0 eval: ucc_acc=0.9333333373069763 weighted_loss=0.1542334109544754 ucc_loss=0.1542334109544754 ae_loss=0\n"
     ]
    },
    {
     "name": "stderr",
     "output_type": "stream",
     "text": [
      " 72%|███████▏  | 14470/20009 [1:20:02<34:05,  2.71it/s]"
     ]
    },
    {
     "name": "stdout",
     "output_type": "stream",
     "text": [
      "Step 74461, training: ucc_acc=0.9333333373069763 weighted_loss=0.1524733155965805 ucc_loss=0.1524733155965805 ae_loss=0 eval: ucc_acc=0.9333333373069763 weighted_loss=0.0876392126083374 ucc_loss=0.0876392126083374 ae_loss=0\n"
     ]
    },
    {
     "name": "stderr",
     "output_type": "stream",
     "text": [
      " 72%|███████▏  | 14480/20009 [1:20:05<34:11,  2.69it/s]"
     ]
    },
    {
     "name": "stdout",
     "output_type": "stream",
     "text": [
      "Step 74471, training: ucc_acc=1.0 weighted_loss=0.011538391932845116 ucc_loss=0.011538391932845116 ae_loss=0 eval: ucc_acc=1.0 weighted_loss=0.0030377097427845 ucc_loss=0.0030377097427845 ae_loss=0\n"
     ]
    },
    {
     "name": "stderr",
     "output_type": "stream",
     "text": [
      " 72%|███████▏  | 14490/20009 [1:20:08<34:04,  2.70it/s]"
     ]
    },
    {
     "name": "stdout",
     "output_type": "stream",
     "text": [
      "Step 74481, training: ucc_acc=1.0 weighted_loss=0.0046037426218390465 ucc_loss=0.0046037426218390465 ae_loss=0 eval: ucc_acc=1.0 weighted_loss=0.000578642007894814 ucc_loss=0.000578642007894814 ae_loss=0\n"
     ]
    },
    {
     "name": "stderr",
     "output_type": "stream",
     "text": [
      " 72%|███████▏  | 14500/20009 [1:20:12<33:28,  2.74it/s]"
     ]
    },
    {
     "name": "stdout",
     "output_type": "stream",
     "text": [
      "Step 74491, training: ucc_acc=1.0 weighted_loss=0.007931635715067387 ucc_loss=0.007931635715067387 ae_loss=0 eval: ucc_acc=1.0 weighted_loss=0.0006651848671026528 ucc_loss=0.0006651848671026528 ae_loss=0\n"
     ]
    },
    {
     "name": "stderr",
     "output_type": "stream",
     "text": [
      " 73%|███████▎  | 14510/20009 [1:20:15<35:39,  2.57it/s]"
     ]
    },
    {
     "name": "stdout",
     "output_type": "stream",
     "text": [
      "Step 74501, training: ucc_acc=1.0 weighted_loss=0.000567941926419735 ucc_loss=0.000567941926419735 ae_loss=0 eval: ucc_acc=1.0 weighted_loss=0.005384530406445265 ucc_loss=0.005384530406445265 ae_loss=0\n"
     ]
    },
    {
     "name": "stderr",
     "output_type": "stream",
     "text": [
      " 73%|███████▎  | 14520/20009 [1:20:19<37:53,  2.41it/s]"
     ]
    },
    {
     "name": "stdout",
     "output_type": "stream",
     "text": [
      "Step 74511, training: ucc_acc=1.0 weighted_loss=0.00035277355345897377 ucc_loss=0.00035277355345897377 ae_loss=0 eval: ucc_acc=1.0 weighted_loss=0.013385290279984474 ucc_loss=0.013385290279984474 ae_loss=0\n"
     ]
    },
    {
     "name": "stderr",
     "output_type": "stream",
     "text": [
      " 73%|███████▎  | 14530/20009 [1:20:23<34:30,  2.65it/s]"
     ]
    },
    {
     "name": "stdout",
     "output_type": "stream",
     "text": [
      "Step 74521, training: ucc_acc=1.0 weighted_loss=0.0005166569026187062 ucc_loss=0.0005166569026187062 ae_loss=0 eval: ucc_acc=1.0 weighted_loss=0.0009502486209385097 ucc_loss=0.0009502486209385097 ae_loss=0\n"
     ]
    },
    {
     "name": "stderr",
     "output_type": "stream",
     "text": [
      " 73%|███████▎  | 14540/20009 [1:20:26<39:55,  2.28it/s]"
     ]
    },
    {
     "name": "stdout",
     "output_type": "stream",
     "text": [
      "Step 74531, training: ucc_acc=1.0 weighted_loss=0.003428142983466387 ucc_loss=0.003428142983466387 ae_loss=0 eval: ucc_acc=1.0 weighted_loss=0.022513167932629585 ucc_loss=0.022513167932629585 ae_loss=0\n"
     ]
    },
    {
     "name": "stderr",
     "output_type": "stream",
     "text": [
      " 73%|███████▎  | 14550/20009 [1:20:30<35:05,  2.59it/s]"
     ]
    },
    {
     "name": "stdout",
     "output_type": "stream",
     "text": [
      "Step 74541, training: ucc_acc=1.0 weighted_loss=0.004888311494141817 ucc_loss=0.004888311494141817 ae_loss=0 eval: ucc_acc=1.0 weighted_loss=0.00184340076521039 ucc_loss=0.00184340076521039 ae_loss=0\n"
     ]
    },
    {
     "name": "stderr",
     "output_type": "stream",
     "text": [
      " 73%|███████▎  | 14560/20009 [1:20:33<32:23,  2.80it/s]"
     ]
    },
    {
     "name": "stdout",
     "output_type": "stream",
     "text": [
      "Step 74551, training: ucc_acc=0.9333333373069763 weighted_loss=0.15370355546474457 ucc_loss=0.15370355546474457 ae_loss=0 eval: ucc_acc=1.0 weighted_loss=0.013178304769098759 ucc_loss=0.013178304769098759 ae_loss=0\n"
     ]
    },
    {
     "name": "stderr",
     "output_type": "stream",
     "text": [
      " 73%|███████▎  | 14570/20009 [1:20:36<32:01,  2.83it/s]"
     ]
    },
    {
     "name": "stdout",
     "output_type": "stream",
     "text": [
      "Step 74561, training: ucc_acc=1.0 weighted_loss=0.0570543073117733 ucc_loss=0.0570543073117733 ae_loss=0 eval: ucc_acc=0.9333333373069763 weighted_loss=0.12453361600637436 ucc_loss=0.12453361600637436 ae_loss=0\n"
     ]
    },
    {
     "name": "stderr",
     "output_type": "stream",
     "text": [
      " 73%|███████▎  | 14580/20009 [1:20:40<34:37,  2.61it/s]"
     ]
    },
    {
     "name": "stdout",
     "output_type": "stream",
     "text": [
      "Step 74571, training: ucc_acc=1.0 weighted_loss=0.006678191479295492 ucc_loss=0.006678191479295492 ae_loss=0 eval: ucc_acc=1.0 weighted_loss=0.0003244839026592672 ucc_loss=0.0003244839026592672 ae_loss=0\n"
     ]
    },
    {
     "name": "stderr",
     "output_type": "stream",
     "text": [
      " 73%|███████▎  | 14590/20009 [1:20:43<31:41,  2.85it/s]"
     ]
    },
    {
     "name": "stdout",
     "output_type": "stream",
     "text": [
      "Step 74581, training: ucc_acc=0.9333333373069763 weighted_loss=0.14455576241016388 ucc_loss=0.14455576241016388 ae_loss=0 eval: ucc_acc=1.0 weighted_loss=0.02207012102007866 ucc_loss=0.02207012102007866 ae_loss=0\n"
     ]
    },
    {
     "name": "stderr",
     "output_type": "stream",
     "text": [
      " 73%|███████▎  | 14600/20009 [1:20:46<31:31,  2.86it/s]"
     ]
    },
    {
     "name": "stdout",
     "output_type": "stream",
     "text": [
      "Step 74591, training: ucc_acc=0.9333333373069763 weighted_loss=0.07948220521211624 ucc_loss=0.07948220521211624 ae_loss=0 eval: ucc_acc=1.0 weighted_loss=0.01928052119910717 ucc_loss=0.01928052119910717 ae_loss=0\n"
     ]
    },
    {
     "name": "stderr",
     "output_type": "stream",
     "text": [
      " 73%|███████▎  | 14610/20009 [1:20:50<33:00,  2.73it/s]"
     ]
    },
    {
     "name": "stdout",
     "output_type": "stream",
     "text": [
      "Step 74601, training: ucc_acc=1.0 weighted_loss=0.0011601503938436508 ucc_loss=0.0011601503938436508 ae_loss=0 eval: ucc_acc=1.0 weighted_loss=0.02435964345932007 ucc_loss=0.02435964345932007 ae_loss=0\n"
     ]
    },
    {
     "name": "stderr",
     "output_type": "stream",
     "text": [
      " 73%|███████▎  | 14620/20009 [1:20:53<31:29,  2.85it/s]"
     ]
    },
    {
     "name": "stdout",
     "output_type": "stream",
     "text": [
      "Step 74611, training: ucc_acc=1.0 weighted_loss=0.0037825326435267925 ucc_loss=0.0037825326435267925 ae_loss=0 eval: ucc_acc=1.0 weighted_loss=0.0013928221305832267 ucc_loss=0.0013928221305832267 ae_loss=0\n"
     ]
    },
    {
     "name": "stderr",
     "output_type": "stream",
     "text": [
      " 73%|███████▎  | 14630/20009 [1:20:56<30:55,  2.90it/s]"
     ]
    },
    {
     "name": "stdout",
     "output_type": "stream",
     "text": [
      "Step 74621, training: ucc_acc=1.0 weighted_loss=0.005476395599544048 ucc_loss=0.005476395599544048 ae_loss=0 eval: ucc_acc=1.0 weighted_loss=0.00045876603689976037 ucc_loss=0.00045876603689976037 ae_loss=0\n"
     ]
    },
    {
     "name": "stderr",
     "output_type": "stream",
     "text": [
      " 73%|███████▎  | 14640/20009 [1:20:59<30:55,  2.89it/s]"
     ]
    },
    {
     "name": "stdout",
     "output_type": "stream",
     "text": [
      "Step 74631, training: ucc_acc=1.0 weighted_loss=0.011661898344755173 ucc_loss=0.011661898344755173 ae_loss=0 eval: ucc_acc=1.0 weighted_loss=0.014496819116175175 ucc_loss=0.014496819116175175 ae_loss=0\n"
     ]
    },
    {
     "name": "stderr",
     "output_type": "stream",
     "text": [
      " 73%|███████▎  | 14650/20009 [1:21:02<31:26,  2.84it/s]"
     ]
    },
    {
     "name": "stdout",
     "output_type": "stream",
     "text": [
      "Step 74641, training: ucc_acc=1.0 weighted_loss=0.007490603718906641 ucc_loss=0.007490603718906641 ae_loss=0 eval: ucc_acc=1.0 weighted_loss=0.005849878303706646 ucc_loss=0.005849878303706646 ae_loss=0\n"
     ]
    },
    {
     "name": "stderr",
     "output_type": "stream",
     "text": [
      " 73%|███████▎  | 14660/20009 [1:21:05<31:45,  2.81it/s]"
     ]
    },
    {
     "name": "stdout",
     "output_type": "stream",
     "text": [
      "Step 74651, training: ucc_acc=1.0 weighted_loss=0.0070106289349496365 ucc_loss=0.0070106289349496365 ae_loss=0 eval: ucc_acc=1.0 weighted_loss=0.01767231710255146 ucc_loss=0.01767231710255146 ae_loss=0\n"
     ]
    },
    {
     "name": "stderr",
     "output_type": "stream",
     "text": [
      " 73%|███████▎  | 14670/20009 [1:21:09<30:33,  2.91it/s]"
     ]
    },
    {
     "name": "stdout",
     "output_type": "stream",
     "text": [
      "Step 74661, training: ucc_acc=1.0 weighted_loss=0.015113215893507004 ucc_loss=0.015113215893507004 ae_loss=0 eval: ucc_acc=1.0 weighted_loss=0.0009686303674243391 ucc_loss=0.0009686303674243391 ae_loss=0\n"
     ]
    },
    {
     "name": "stderr",
     "output_type": "stream",
     "text": [
      " 73%|███████▎  | 14680/20009 [1:21:12<30:42,  2.89it/s]"
     ]
    },
    {
     "name": "stdout",
     "output_type": "stream",
     "text": [
      "Step 74671, training: ucc_acc=1.0 weighted_loss=0.0032583565916866064 ucc_loss=0.0032583565916866064 ae_loss=0 eval: ucc_acc=0.9333333373069763 weighted_loss=0.1512106955051422 ucc_loss=0.1512106955051422 ae_loss=0\n"
     ]
    },
    {
     "name": "stderr",
     "output_type": "stream",
     "text": [
      " 73%|███████▎  | 14690/20009 [1:21:15<29:50,  2.97it/s]"
     ]
    },
    {
     "name": "stdout",
     "output_type": "stream",
     "text": [
      "Step 74681, training: ucc_acc=1.0 weighted_loss=0.0020143932197242975 ucc_loss=0.0020143932197242975 ae_loss=0 eval: ucc_acc=0.9333333373069763 weighted_loss=0.10987643152475357 ucc_loss=0.10987643152475357 ae_loss=0\n"
     ]
    },
    {
     "name": "stderr",
     "output_type": "stream",
     "text": [
      " 73%|███████▎  | 14700/20009 [1:21:18<30:47,  2.87it/s]"
     ]
    },
    {
     "name": "stdout",
     "output_type": "stream",
     "text": [
      "Step 74691, training: ucc_acc=1.0 weighted_loss=0.015066421590745449 ucc_loss=0.015066421590745449 ae_loss=0 eval: ucc_acc=1.0 weighted_loss=0.007121078670024872 ucc_loss=0.007121078670024872 ae_loss=0\n"
     ]
    },
    {
     "name": "stderr",
     "output_type": "stream",
     "text": [
      " 74%|███████▎  | 14710/20009 [1:21:21<30:32,  2.89it/s]"
     ]
    },
    {
     "name": "stdout",
     "output_type": "stream",
     "text": [
      "Step 74701, training: ucc_acc=0.9333333373069763 weighted_loss=0.07616111636161804 ucc_loss=0.07616111636161804 ae_loss=0 eval: ucc_acc=1.0 weighted_loss=0.00013442493218462914 ucc_loss=0.00013442493218462914 ae_loss=0\n"
     ]
    },
    {
     "name": "stderr",
     "output_type": "stream",
     "text": [
      " 74%|███████▎  | 14720/20009 [1:21:24<30:11,  2.92it/s]"
     ]
    },
    {
     "name": "stdout",
     "output_type": "stream",
     "text": [
      "Step 74711, training: ucc_acc=1.0 weighted_loss=0.006234985776245594 ucc_loss=0.006234985776245594 ae_loss=0 eval: ucc_acc=1.0 weighted_loss=0.004898175597190857 ucc_loss=0.004898175597190857 ae_loss=0\n"
     ]
    },
    {
     "name": "stderr",
     "output_type": "stream",
     "text": [
      " 74%|███████▎  | 14730/20009 [1:21:27<29:39,  2.97it/s]"
     ]
    },
    {
     "name": "stdout",
     "output_type": "stream",
     "text": [
      "Step 74721, training: ucc_acc=1.0 weighted_loss=0.006890555843710899 ucc_loss=0.006890555843710899 ae_loss=0 eval: ucc_acc=1.0 weighted_loss=0.012271183542907238 ucc_loss=0.012271183542907238 ae_loss=0\n"
     ]
    },
    {
     "name": "stderr",
     "output_type": "stream",
     "text": [
      " 74%|███████▎  | 14740/20009 [1:21:31<30:05,  2.92it/s]"
     ]
    },
    {
     "name": "stdout",
     "output_type": "stream",
     "text": [
      "Step 74731, training: ucc_acc=1.0 weighted_loss=0.04345383495092392 ucc_loss=0.04345383495092392 ae_loss=0 eval: ucc_acc=1.0 weighted_loss=0.0004856377199757844 ucc_loss=0.0004856377199757844 ae_loss=0\n"
     ]
    },
    {
     "name": "stderr",
     "output_type": "stream",
     "text": [
      " 74%|███████▎  | 14750/20009 [1:21:34<30:13,  2.90it/s]"
     ]
    },
    {
     "name": "stdout",
     "output_type": "stream",
     "text": [
      "Step 74741, training: ucc_acc=1.0 weighted_loss=0.0020789119880646467 ucc_loss=0.0020789119880646467 ae_loss=0 eval: ucc_acc=1.0 weighted_loss=0.012302478775382042 ucc_loss=0.012302478775382042 ae_loss=0\n"
     ]
    },
    {
     "name": "stderr",
     "output_type": "stream",
     "text": [
      " 74%|███████▍  | 14760/20009 [1:21:37<30:28,  2.87it/s]"
     ]
    },
    {
     "name": "stdout",
     "output_type": "stream",
     "text": [
      "Step 74751, training: ucc_acc=1.0 weighted_loss=0.00999030377715826 ucc_loss=0.00999030377715826 ae_loss=0 eval: ucc_acc=1.0 weighted_loss=0.046830914914608 ucc_loss=0.046830914914608 ae_loss=0\n"
     ]
    },
    {
     "name": "stderr",
     "output_type": "stream",
     "text": [
      " 74%|███████▍  | 14770/20009 [1:21:40<30:20,  2.88it/s]"
     ]
    },
    {
     "name": "stdout",
     "output_type": "stream",
     "text": [
      "Step 74761, training: ucc_acc=1.0 weighted_loss=0.00013552421296481043 ucc_loss=0.00013552421296481043 ae_loss=0 eval: ucc_acc=1.0 weighted_loss=0.01795799657702446 ucc_loss=0.01795799657702446 ae_loss=0\n"
     ]
    },
    {
     "name": "stderr",
     "output_type": "stream",
     "text": [
      " 74%|███████▍  | 14780/20009 [1:21:43<29:52,  2.92it/s]"
     ]
    },
    {
     "name": "stdout",
     "output_type": "stream",
     "text": [
      "Step 74771, training: ucc_acc=1.0 weighted_loss=0.0013345786137506366 ucc_loss=0.0013345786137506366 ae_loss=0 eval: ucc_acc=1.0 weighted_loss=0.0010908525437116623 ucc_loss=0.0010908525437116623 ae_loss=0\n"
     ]
    },
    {
     "name": "stderr",
     "output_type": "stream",
     "text": [
      " 74%|███████▍  | 14790/20009 [1:21:46<30:12,  2.88it/s]"
     ]
    },
    {
     "name": "stdout",
     "output_type": "stream",
     "text": [
      "Step 74781, training: ucc_acc=1.0 weighted_loss=9.585330553818494e-05 ucc_loss=9.585330553818494e-05 ae_loss=0 eval: ucc_acc=1.0 weighted_loss=0.04427044466137886 ucc_loss=0.04427044466137886 ae_loss=0\n"
     ]
    },
    {
     "name": "stderr",
     "output_type": "stream",
     "text": [
      " 74%|███████▍  | 14800/20009 [1:21:49<31:17,  2.77it/s]"
     ]
    },
    {
     "name": "stdout",
     "output_type": "stream",
     "text": [
      "Step 74791, training: ucc_acc=0.9333333373069763 weighted_loss=0.18609462678432465 ucc_loss=0.18609462678432465 ae_loss=0 eval: ucc_acc=1.0 weighted_loss=0.0010424359934404492 ucc_loss=0.0010424359934404492 ae_loss=0\n"
     ]
    },
    {
     "name": "stderr",
     "output_type": "stream",
     "text": [
      " 74%|███████▍  | 14810/20009 [1:21:53<29:31,  2.94it/s]"
     ]
    },
    {
     "name": "stdout",
     "output_type": "stream",
     "text": [
      "Step 74801, training: ucc_acc=0.9333333373069763 weighted_loss=0.05043445900082588 ucc_loss=0.05043445900082588 ae_loss=0 eval: ucc_acc=1.0 weighted_loss=0.001831911620683968 ucc_loss=0.001831911620683968 ae_loss=0\n"
     ]
    },
    {
     "name": "stderr",
     "output_type": "stream",
     "text": [
      " 74%|███████▍  | 14820/20009 [1:21:56<29:26,  2.94it/s]"
     ]
    },
    {
     "name": "stdout",
     "output_type": "stream",
     "text": [
      "Step 74811, training: ucc_acc=1.0 weighted_loss=0.00028598643257282674 ucc_loss=0.00028598643257282674 ae_loss=0 eval: ucc_acc=1.0 weighted_loss=0.01952553540468216 ucc_loss=0.01952553540468216 ae_loss=0\n"
     ]
    },
    {
     "name": "stderr",
     "output_type": "stream",
     "text": [
      " 74%|███████▍  | 14830/20009 [1:21:59<29:36,  2.92it/s]"
     ]
    },
    {
     "name": "stdout",
     "output_type": "stream",
     "text": [
      "Step 74821, training: ucc_acc=0.9333333373069763 weighted_loss=0.08793388307094574 ucc_loss=0.08793388307094574 ae_loss=0 eval: ucc_acc=1.0 weighted_loss=0.004343676380813122 ucc_loss=0.004343676380813122 ae_loss=0\n"
     ]
    },
    {
     "name": "stderr",
     "output_type": "stream",
     "text": [
      " 74%|███████▍  | 14840/20009 [1:22:02<31:17,  2.75it/s]"
     ]
    },
    {
     "name": "stdout",
     "output_type": "stream",
     "text": [
      "Step 74831, training: ucc_acc=1.0 weighted_loss=9.628591942600906e-05 ucc_loss=9.628591942600906e-05 ae_loss=0 eval: ucc_acc=1.0 weighted_loss=0.015412294305860996 ucc_loss=0.015412294305860996 ae_loss=0\n"
     ]
    },
    {
     "name": "stderr",
     "output_type": "stream",
     "text": [
      " 74%|███████▍  | 14850/20009 [1:22:05<30:22,  2.83it/s]"
     ]
    },
    {
     "name": "stdout",
     "output_type": "stream",
     "text": [
      "Step 74841, training: ucc_acc=0.9333333373069763 weighted_loss=0.20746301114559174 ucc_loss=0.20746301114559174 ae_loss=0 eval: ucc_acc=1.0 weighted_loss=0.01254380214959383 ucc_loss=0.01254380214959383 ae_loss=0\n"
     ]
    },
    {
     "name": "stderr",
     "output_type": "stream",
     "text": [
      " 74%|███████▍  | 14860/20009 [1:22:08<29:43,  2.89it/s]"
     ]
    },
    {
     "name": "stdout",
     "output_type": "stream",
     "text": [
      "Step 74851, training: ucc_acc=1.0 weighted_loss=0.0059563880786299706 ucc_loss=0.0059563880786299706 ae_loss=0 eval: ucc_acc=1.0 weighted_loss=0.007929835468530655 ucc_loss=0.007929835468530655 ae_loss=0\n"
     ]
    },
    {
     "name": "stderr",
     "output_type": "stream",
     "text": [
      " 74%|███████▍  | 14870/20009 [1:22:12<29:39,  2.89it/s]"
     ]
    },
    {
     "name": "stdout",
     "output_type": "stream",
     "text": [
      "Step 74861, training: ucc_acc=1.0 weighted_loss=0.003516299417242408 ucc_loss=0.003516299417242408 ae_loss=0 eval: ucc_acc=1.0 weighted_loss=0.007018198259174824 ucc_loss=0.007018198259174824 ae_loss=0\n"
     ]
    },
    {
     "name": "stderr",
     "output_type": "stream",
     "text": [
      " 74%|███████▍  | 14880/20009 [1:22:15<29:34,  2.89it/s]"
     ]
    },
    {
     "name": "stdout",
     "output_type": "stream",
     "text": [
      "Step 74871, training: ucc_acc=1.0 weighted_loss=0.002283019246533513 ucc_loss=0.002283019246533513 ae_loss=0 eval: ucc_acc=1.0 weighted_loss=0.0038289418444037437 ucc_loss=0.0038289418444037437 ae_loss=0\n"
     ]
    },
    {
     "name": "stderr",
     "output_type": "stream",
     "text": [
      " 74%|███████▍  | 14890/20009 [1:22:18<29:32,  2.89it/s]"
     ]
    },
    {
     "name": "stdout",
     "output_type": "stream",
     "text": [
      "Step 74881, training: ucc_acc=1.0 weighted_loss=0.0006342414417304099 ucc_loss=0.0006342414417304099 ae_loss=0 eval: ucc_acc=1.0 weighted_loss=0.0035651875659823418 ucc_loss=0.0035651875659823418 ae_loss=0\n"
     ]
    },
    {
     "name": "stderr",
     "output_type": "stream",
     "text": [
      " 74%|███████▍  | 14900/20009 [1:22:21<29:52,  2.85it/s]"
     ]
    },
    {
     "name": "stdout",
     "output_type": "stream",
     "text": [
      "Step 74891, training: ucc_acc=1.0 weighted_loss=0.008471768349409103 ucc_loss=0.008471768349409103 ae_loss=0 eval: ucc_acc=1.0 weighted_loss=0.11933298408985138 ucc_loss=0.11933298408985138 ae_loss=0\n"
     ]
    },
    {
     "name": "stderr",
     "output_type": "stream",
     "text": [
      " 75%|███████▍  | 14910/20009 [1:22:24<29:12,  2.91it/s]"
     ]
    },
    {
     "name": "stdout",
     "output_type": "stream",
     "text": [
      "Step 74901, training: ucc_acc=1.0 weighted_loss=0.04599523916840553 ucc_loss=0.04599523916840553 ae_loss=0 eval: ucc_acc=1.0 weighted_loss=0.04979340732097626 ucc_loss=0.04979340732097626 ae_loss=0\n"
     ]
    },
    {
     "name": "stderr",
     "output_type": "stream",
     "text": [
      " 75%|███████▍  | 14920/20009 [1:22:27<30:02,  2.82it/s]"
     ]
    },
    {
     "name": "stdout",
     "output_type": "stream",
     "text": [
      "Step 74911, training: ucc_acc=1.0 weighted_loss=0.00030647736275568604 ucc_loss=0.00030647736275568604 ae_loss=0 eval: ucc_acc=1.0 weighted_loss=0.01822240836918354 ucc_loss=0.01822240836918354 ae_loss=0\n"
     ]
    },
    {
     "name": "stderr",
     "output_type": "stream",
     "text": [
      " 75%|███████▍  | 14930/20009 [1:22:31<29:20,  2.89it/s]"
     ]
    },
    {
     "name": "stdout",
     "output_type": "stream",
     "text": [
      "Step 74921, training: ucc_acc=1.0 weighted_loss=0.004334060940891504 ucc_loss=0.004334060940891504 ae_loss=0 eval: ucc_acc=1.0 weighted_loss=0.016710039228200912 ucc_loss=0.016710039228200912 ae_loss=0\n"
     ]
    },
    {
     "name": "stderr",
     "output_type": "stream",
     "text": [
      " 75%|███████▍  | 14940/20009 [1:22:34<28:41,  2.94it/s]"
     ]
    },
    {
     "name": "stdout",
     "output_type": "stream",
     "text": [
      "Step 74931, training: ucc_acc=1.0 weighted_loss=0.0005431542522273958 ucc_loss=0.0005431542522273958 ae_loss=0 eval: ucc_acc=0.9333333373069763 weighted_loss=0.13625548779964447 ucc_loss=0.13625548779964447 ae_loss=0\n"
     ]
    },
    {
     "name": "stderr",
     "output_type": "stream",
     "text": [
      " 75%|███████▍  | 14950/20009 [1:22:37<29:04,  2.90it/s]"
     ]
    },
    {
     "name": "stdout",
     "output_type": "stream",
     "text": [
      "Step 74941, training: ucc_acc=1.0 weighted_loss=0.0030717095360159874 ucc_loss=0.0030717095360159874 ae_loss=0 eval: ucc_acc=1.0 weighted_loss=0.0030859061516821384 ucc_loss=0.0030859061516821384 ae_loss=0\n"
     ]
    },
    {
     "name": "stderr",
     "output_type": "stream",
     "text": [
      " 75%|███████▍  | 14960/20009 [1:22:40<28:52,  2.91it/s]"
     ]
    },
    {
     "name": "stdout",
     "output_type": "stream",
     "text": [
      "Step 74951, training: ucc_acc=1.0 weighted_loss=0.016759084537625313 ucc_loss=0.016759084537625313 ae_loss=0 eval: ucc_acc=0.8666666746139526 weighted_loss=0.24057818949222565 ucc_loss=0.24057818949222565 ae_loss=0\n"
     ]
    },
    {
     "name": "stderr",
     "output_type": "stream",
     "text": [
      " 75%|███████▍  | 14970/20009 [1:22:43<30:53,  2.72it/s]"
     ]
    },
    {
     "name": "stdout",
     "output_type": "stream",
     "text": [
      "Step 74961, training: ucc_acc=1.0 weighted_loss=0.0033830530010163784 ucc_loss=0.0033830530010163784 ae_loss=0 eval: ucc_acc=1.0 weighted_loss=0.013240337371826172 ucc_loss=0.013240337371826172 ae_loss=0\n"
     ]
    },
    {
     "name": "stderr",
     "output_type": "stream",
     "text": [
      " 75%|███████▍  | 14980/20009 [1:22:47<28:59,  2.89it/s]"
     ]
    },
    {
     "name": "stdout",
     "output_type": "stream",
     "text": [
      "Step 74971, training: ucc_acc=1.0 weighted_loss=0.018719015643000603 ucc_loss=0.018719015643000603 ae_loss=0 eval: ucc_acc=1.0 weighted_loss=0.009352166205644608 ucc_loss=0.009352166205644608 ae_loss=0\n"
     ]
    },
    {
     "name": "stderr",
     "output_type": "stream",
     "text": [
      " 75%|███████▍  | 14990/20009 [1:22:50<31:02,  2.69it/s]"
     ]
    },
    {
     "name": "stdout",
     "output_type": "stream",
     "text": [
      "Step 74981, training: ucc_acc=1.0 weighted_loss=0.0006717509240843356 ucc_loss=0.0006717509240843356 ae_loss=0 eval: ucc_acc=1.0 weighted_loss=0.03231751546263695 ucc_loss=0.03231751546263695 ae_loss=0\n"
     ]
    },
    {
     "name": "stderr",
     "output_type": "stream",
     "text": [
      " 75%|███████▍  | 15000/20009 [1:22:53<28:52,  2.89it/s]"
     ]
    },
    {
     "name": "stdout",
     "output_type": "stream",
     "text": [
      "Step 74991, training: ucc_acc=0.9333333373069763 weighted_loss=0.16391602158546448 ucc_loss=0.16391602158546448 ae_loss=0 eval: ucc_acc=1.0 weighted_loss=0.00024379053502343595 ucc_loss=0.00024379053502343595 ae_loss=0\n"
     ]
    },
    {
     "name": "stderr",
     "output_type": "stream",
     "text": [
      " 75%|███████▌  | 15010/20009 [1:22:56<29:11,  2.85it/s]"
     ]
    },
    {
     "name": "stdout",
     "output_type": "stream",
     "text": [
      "Step 75001, training: ucc_acc=1.0 weighted_loss=0.0308319553732872 ucc_loss=0.0308319553732872 ae_loss=0 eval: ucc_acc=1.0 weighted_loss=0.02446233294904232 ucc_loss=0.02446233294904232 ae_loss=0\n"
     ]
    },
    {
     "name": "stderr",
     "output_type": "stream",
     "text": [
      " 75%|███████▌  | 15020/20009 [1:22:59<28:52,  2.88it/s]"
     ]
    },
    {
     "name": "stdout",
     "output_type": "stream",
     "text": [
      "Step 75011, training: ucc_acc=1.0 weighted_loss=0.024098079651594162 ucc_loss=0.024098079651594162 ae_loss=0 eval: ucc_acc=1.0 weighted_loss=0.000811599544249475 ucc_loss=0.000811599544249475 ae_loss=0\n"
     ]
    },
    {
     "name": "stderr",
     "output_type": "stream",
     "text": [
      " 75%|███████▌  | 15030/20009 [1:23:02<28:45,  2.89it/s]"
     ]
    },
    {
     "name": "stdout",
     "output_type": "stream",
     "text": [
      "Step 75021, training: ucc_acc=1.0 weighted_loss=0.006951755844056606 ucc_loss=0.006951755844056606 ae_loss=0 eval: ucc_acc=1.0 weighted_loss=0.006980902049690485 ucc_loss=0.006980902049690485 ae_loss=0\n"
     ]
    },
    {
     "name": "stderr",
     "output_type": "stream",
     "text": [
      " 75%|███████▌  | 15040/20009 [1:23:06<28:37,  2.89it/s]"
     ]
    },
    {
     "name": "stdout",
     "output_type": "stream",
     "text": [
      "Step 75031, training: ucc_acc=1.0 weighted_loss=0.005668176803737879 ucc_loss=0.005668176803737879 ae_loss=0 eval: ucc_acc=1.0 weighted_loss=0.015646642073988914 ucc_loss=0.015646642073988914 ae_loss=0\n"
     ]
    },
    {
     "name": "stderr",
     "output_type": "stream",
     "text": [
      " 75%|███████▌  | 15050/20009 [1:23:09<28:50,  2.87it/s]"
     ]
    },
    {
     "name": "stdout",
     "output_type": "stream",
     "text": [
      "Step 75041, training: ucc_acc=1.0 weighted_loss=0.005022375378757715 ucc_loss=0.005022375378757715 ae_loss=0 eval: ucc_acc=1.0 weighted_loss=0.01566445082426071 ucc_loss=0.01566445082426071 ae_loss=0\n"
     ]
    },
    {
     "name": "stderr",
     "output_type": "stream",
     "text": [
      " 75%|███████▌  | 15060/20009 [1:23:12<28:38,  2.88it/s]"
     ]
    },
    {
     "name": "stdout",
     "output_type": "stream",
     "text": [
      "Step 75051, training: ucc_acc=1.0 weighted_loss=0.018628068268299103 ucc_loss=0.018628068268299103 ae_loss=0 eval: ucc_acc=1.0 weighted_loss=0.009334374219179153 ucc_loss=0.009334374219179153 ae_loss=0\n"
     ]
    },
    {
     "name": "stderr",
     "output_type": "stream",
     "text": [
      " 75%|███████▌  | 15070/20009 [1:23:15<28:18,  2.91it/s]"
     ]
    },
    {
     "name": "stdout",
     "output_type": "stream",
     "text": [
      "Step 75061, training: ucc_acc=1.0 weighted_loss=0.009835416451096535 ucc_loss=0.009835416451096535 ae_loss=0 eval: ucc_acc=1.0 weighted_loss=0.015758464112877846 ucc_loss=0.015758464112877846 ae_loss=0\n"
     ]
    },
    {
     "name": "stderr",
     "output_type": "stream",
     "text": [
      " 75%|███████▌  | 15080/20009 [1:23:18<27:50,  2.95it/s]"
     ]
    },
    {
     "name": "stdout",
     "output_type": "stream",
     "text": [
      "Step 75071, training: ucc_acc=1.0 weighted_loss=0.00040083346539177 ucc_loss=0.00040083346539177 ae_loss=0 eval: ucc_acc=1.0 weighted_loss=0.032794419676065445 ucc_loss=0.032794419676065445 ae_loss=0\n"
     ]
    },
    {
     "name": "stderr",
     "output_type": "stream",
     "text": [
      " 75%|███████▌  | 15090/20009 [1:23:22<32:17,  2.54it/s]"
     ]
    },
    {
     "name": "stdout",
     "output_type": "stream",
     "text": [
      "Step 75081, training: ucc_acc=1.0 weighted_loss=0.015270964242517948 ucc_loss=0.015270964242517948 ae_loss=0 eval: ucc_acc=1.0 weighted_loss=0.01498785987496376 ucc_loss=0.01498785987496376 ae_loss=0\n"
     ]
    },
    {
     "name": "stderr",
     "output_type": "stream",
     "text": [
      " 75%|███████▌  | 15100/20009 [1:23:25<28:23,  2.88it/s]"
     ]
    },
    {
     "name": "stdout",
     "output_type": "stream",
     "text": [
      "Step 75091, training: ucc_acc=1.0 weighted_loss=0.01513065304607153 ucc_loss=0.01513065304607153 ae_loss=0 eval: ucc_acc=1.0 weighted_loss=0.011300960555672646 ucc_loss=0.011300960555672646 ae_loss=0\n"
     ]
    },
    {
     "name": "stderr",
     "output_type": "stream",
     "text": [
      " 76%|███████▌  | 15110/20009 [1:23:28<28:07,  2.90it/s]"
     ]
    },
    {
     "name": "stdout",
     "output_type": "stream",
     "text": [
      "Step 75101, training: ucc_acc=1.0 weighted_loss=0.00416371738538146 ucc_loss=0.00416371738538146 ae_loss=0 eval: ucc_acc=1.0 weighted_loss=0.0015350821195170283 ucc_loss=0.0015350821195170283 ae_loss=0\n"
     ]
    },
    {
     "name": "stderr",
     "output_type": "stream",
     "text": [
      " 76%|███████▌  | 15120/20009 [1:23:31<28:07,  2.90it/s]"
     ]
    },
    {
     "name": "stdout",
     "output_type": "stream",
     "text": [
      "Step 75111, training: ucc_acc=1.0 weighted_loss=0.004308813251554966 ucc_loss=0.004308813251554966 ae_loss=0 eval: ucc_acc=1.0 weighted_loss=0.015171881765127182 ucc_loss=0.015171881765127182 ae_loss=0\n"
     ]
    },
    {
     "name": "stderr",
     "output_type": "stream",
     "text": [
      " 76%|███████▌  | 15130/20009 [1:23:34<31:13,  2.60it/s]"
     ]
    },
    {
     "name": "stdout",
     "output_type": "stream",
     "text": [
      "Step 75121, training: ucc_acc=1.0 weighted_loss=0.000855961989145726 ucc_loss=0.000855961989145726 ae_loss=0 eval: ucc_acc=1.0 weighted_loss=0.022630445659160614 ucc_loss=0.022630445659160614 ae_loss=0\n"
     ]
    },
    {
     "name": "stderr",
     "output_type": "stream",
     "text": [
      " 76%|███████▌  | 15140/20009 [1:23:38<27:54,  2.91it/s]"
     ]
    },
    {
     "name": "stdout",
     "output_type": "stream",
     "text": [
      "Step 75131, training: ucc_acc=1.0 weighted_loss=0.009104286320507526 ucc_loss=0.009104286320507526 ae_loss=0 eval: ucc_acc=1.0 weighted_loss=0.009589278139173985 ucc_loss=0.009589278139173985 ae_loss=0\n"
     ]
    },
    {
     "name": "stderr",
     "output_type": "stream",
     "text": [
      " 76%|███████▌  | 15150/20009 [1:23:41<28:01,  2.89it/s]"
     ]
    },
    {
     "name": "stdout",
     "output_type": "stream",
     "text": [
      "Step 75141, training: ucc_acc=1.0 weighted_loss=0.016576476395130157 ucc_loss=0.016576476395130157 ae_loss=0 eval: ucc_acc=1.0 weighted_loss=0.0464017353951931 ucc_loss=0.0464017353951931 ae_loss=0\n"
     ]
    },
    {
     "name": "stderr",
     "output_type": "stream",
     "text": [
      " 76%|███████▌  | 15160/20009 [1:23:44<28:06,  2.88it/s]"
     ]
    },
    {
     "name": "stdout",
     "output_type": "stream",
     "text": [
      "Step 75151, training: ucc_acc=1.0 weighted_loss=0.005780043080449104 ucc_loss=0.005780043080449104 ae_loss=0 eval: ucc_acc=1.0 weighted_loss=0.002852285047993064 ucc_loss=0.002852285047993064 ae_loss=0\n"
     ]
    },
    {
     "name": "stderr",
     "output_type": "stream",
     "text": [
      " 76%|███████▌  | 15170/20009 [1:23:47<27:56,  2.89it/s]"
     ]
    },
    {
     "name": "stdout",
     "output_type": "stream",
     "text": [
      "Step 75161, training: ucc_acc=1.0 weighted_loss=0.0031045014038681984 ucc_loss=0.0031045014038681984 ae_loss=0 eval: ucc_acc=1.0 weighted_loss=0.0023576924577355385 ucc_loss=0.0023576924577355385 ae_loss=0\n"
     ]
    },
    {
     "name": "stderr",
     "output_type": "stream",
     "text": [
      " 76%|███████▌  | 15180/20009 [1:23:50<28:43,  2.80it/s]"
     ]
    },
    {
     "name": "stdout",
     "output_type": "stream",
     "text": [
      "Step 75171, training: ucc_acc=1.0 weighted_loss=0.0031211040914058685 ucc_loss=0.0031211040914058685 ae_loss=0 eval: ucc_acc=1.0 weighted_loss=0.007337538059800863 ucc_loss=0.007337538059800863 ae_loss=0\n"
     ]
    },
    {
     "name": "stderr",
     "output_type": "stream",
     "text": [
      " 76%|███████▌  | 15190/20009 [1:23:54<30:26,  2.64it/s]"
     ]
    },
    {
     "name": "stdout",
     "output_type": "stream",
     "text": [
      "Step 75181, training: ucc_acc=1.0 weighted_loss=0.000857471430208534 ucc_loss=0.000857471430208534 ae_loss=0 eval: ucc_acc=1.0 weighted_loss=0.011011812835931778 ucc_loss=0.011011812835931778 ae_loss=0\n"
     ]
    },
    {
     "name": "stderr",
     "output_type": "stream",
     "text": [
      " 76%|███████▌  | 15200/20009 [1:23:57<27:05,  2.96it/s]"
     ]
    },
    {
     "name": "stdout",
     "output_type": "stream",
     "text": [
      "Step 75191, training: ucc_acc=1.0 weighted_loss=0.04135934263467789 ucc_loss=0.04135934263467789 ae_loss=0 eval: ucc_acc=0.8666666746139526 weighted_loss=0.3601749837398529 ucc_loss=0.3601749837398529 ae_loss=0\n"
     ]
    },
    {
     "name": "stderr",
     "output_type": "stream",
     "text": [
      " 76%|███████▌  | 15210/20009 [1:24:00<27:23,  2.92it/s]"
     ]
    },
    {
     "name": "stdout",
     "output_type": "stream",
     "text": [
      "Step 75201, training: ucc_acc=1.0 weighted_loss=0.017926247790455818 ucc_loss=0.017926247790455818 ae_loss=0 eval: ucc_acc=1.0 weighted_loss=0.001754299970343709 ucc_loss=0.001754299970343709 ae_loss=0\n"
     ]
    },
    {
     "name": "stderr",
     "output_type": "stream",
     "text": [
      " 76%|███████▌  | 15220/20009 [1:24:03<27:43,  2.88it/s]"
     ]
    },
    {
     "name": "stdout",
     "output_type": "stream",
     "text": [
      "Step 75211, training: ucc_acc=1.0 weighted_loss=0.01684875413775444 ucc_loss=0.01684875413775444 ae_loss=0 eval: ucc_acc=1.0 weighted_loss=0.006664646789431572 ucc_loss=0.006664646789431572 ae_loss=0\n"
     ]
    },
    {
     "name": "stderr",
     "output_type": "stream",
     "text": [
      " 76%|███████▌  | 15230/20009 [1:24:06<27:22,  2.91it/s]"
     ]
    },
    {
     "name": "stdout",
     "output_type": "stream",
     "text": [
      "Step 75221, training: ucc_acc=1.0 weighted_loss=0.0006476202397607267 ucc_loss=0.0006476202397607267 ae_loss=0 eval: ucc_acc=1.0 weighted_loss=0.0012867701007053256 ucc_loss=0.0012867701007053256 ae_loss=0\n"
     ]
    },
    {
     "name": "stderr",
     "output_type": "stream",
     "text": [
      " 76%|███████▌  | 15240/20009 [1:24:09<27:28,  2.89it/s]"
     ]
    },
    {
     "name": "stdout",
     "output_type": "stream",
     "text": [
      "Step 75231, training: ucc_acc=1.0 weighted_loss=0.005605646874755621 ucc_loss=0.005605646874755621 ae_loss=0 eval: ucc_acc=1.0 weighted_loss=0.0018280138028785586 ucc_loss=0.0018280138028785586 ae_loss=0\n"
     ]
    },
    {
     "name": "stderr",
     "output_type": "stream",
     "text": [
      " 76%|███████▌  | 15250/20009 [1:24:12<28:20,  2.80it/s]"
     ]
    },
    {
     "name": "stdout",
     "output_type": "stream",
     "text": [
      "Step 75241, training: ucc_acc=1.0 weighted_loss=0.010770471766591072 ucc_loss=0.010770471766591072 ae_loss=0 eval: ucc_acc=1.0 weighted_loss=0.005072840955108404 ucc_loss=0.005072840955108404 ae_loss=0\n"
     ]
    },
    {
     "name": "stderr",
     "output_type": "stream",
     "text": [
      " 76%|███████▋  | 15260/20009 [1:24:16<28:58,  2.73it/s]"
     ]
    },
    {
     "name": "stdout",
     "output_type": "stream",
     "text": [
      "Step 75251, training: ucc_acc=1.0 weighted_loss=0.013748658820986748 ucc_loss=0.013748658820986748 ae_loss=0 eval: ucc_acc=1.0 weighted_loss=0.027914520353078842 ucc_loss=0.027914520353078842 ae_loss=0\n"
     ]
    },
    {
     "name": "stderr",
     "output_type": "stream",
     "text": [
      " 76%|███████▋  | 15270/20009 [1:24:19<27:17,  2.89it/s]"
     ]
    },
    {
     "name": "stdout",
     "output_type": "stream",
     "text": [
      "Step 75261, training: ucc_acc=1.0 weighted_loss=0.027744079008698463 ucc_loss=0.027744079008698463 ae_loss=0 eval: ucc_acc=1.0 weighted_loss=0.01726774498820305 ucc_loss=0.01726774498820305 ae_loss=0\n"
     ]
    },
    {
     "name": "stderr",
     "output_type": "stream",
     "text": [
      " 76%|███████▋  | 15280/20009 [1:24:22<27:26,  2.87it/s]"
     ]
    },
    {
     "name": "stdout",
     "output_type": "stream",
     "text": [
      "Step 75271, training: ucc_acc=0.9333333373069763 weighted_loss=0.13715161383152008 ucc_loss=0.13715161383152008 ae_loss=0 eval: ucc_acc=1.0 weighted_loss=0.009814584627747536 ucc_loss=0.009814584627747536 ae_loss=0\n"
     ]
    },
    {
     "name": "stderr",
     "output_type": "stream",
     "text": [
      " 76%|███████▋  | 15290/20009 [1:24:25<26:51,  2.93it/s]"
     ]
    },
    {
     "name": "stdout",
     "output_type": "stream",
     "text": [
      "Step 75281, training: ucc_acc=1.0 weighted_loss=0.017589161172509193 ucc_loss=0.017589161172509193 ae_loss=0 eval: ucc_acc=0.9333333373069763 weighted_loss=0.11681579798460007 ucc_loss=0.11681579798460007 ae_loss=0\n"
     ]
    },
    {
     "name": "stderr",
     "output_type": "stream",
     "text": [
      " 76%|███████▋  | 15300/20009 [1:24:28<26:53,  2.92it/s]"
     ]
    },
    {
     "name": "stdout",
     "output_type": "stream",
     "text": [
      "Step 75291, training: ucc_acc=1.0 weighted_loss=0.005174865014851093 ucc_loss=0.005174865014851093 ae_loss=0 eval: ucc_acc=1.0 weighted_loss=0.0006801554700359702 ucc_loss=0.0006801554700359702 ae_loss=0\n"
     ]
    },
    {
     "name": "stderr",
     "output_type": "stream",
     "text": [
      " 77%|███████▋  | 15310/20009 [1:24:31<26:44,  2.93it/s]"
     ]
    },
    {
     "name": "stdout",
     "output_type": "stream",
     "text": [
      "Step 75301, training: ucc_acc=1.0 weighted_loss=0.011957620270550251 ucc_loss=0.011957620270550251 ae_loss=0 eval: ucc_acc=0.9333333373069763 weighted_loss=0.07084068655967712 ucc_loss=0.07084068655967712 ae_loss=0\n"
     ]
    },
    {
     "name": "stderr",
     "output_type": "stream",
     "text": [
      " 77%|███████▋  | 15320/20009 [1:24:35<26:47,  2.92it/s]"
     ]
    },
    {
     "name": "stdout",
     "output_type": "stream",
     "text": [
      "Step 75311, training: ucc_acc=1.0 weighted_loss=0.00011990007624262944 ucc_loss=0.00011990007624262944 ae_loss=0 eval: ucc_acc=1.0 weighted_loss=0.007272529415786266 ucc_loss=0.007272529415786266 ae_loss=0\n"
     ]
    },
    {
     "name": "stderr",
     "output_type": "stream",
     "text": [
      " 77%|███████▋  | 15330/20009 [1:24:38<27:14,  2.86it/s]"
     ]
    },
    {
     "name": "stdout",
     "output_type": "stream",
     "text": [
      "Step 75321, training: ucc_acc=0.9333333373069763 weighted_loss=0.0886043980717659 ucc_loss=0.0886043980717659 ae_loss=0 eval: ucc_acc=0.9333333373069763 weighted_loss=0.0893813744187355 ucc_loss=0.0893813744187355 ae_loss=0\n"
     ]
    },
    {
     "name": "stderr",
     "output_type": "stream",
     "text": [
      " 77%|███████▋  | 15340/20009 [1:24:41<28:06,  2.77it/s]"
     ]
    },
    {
     "name": "stdout",
     "output_type": "stream",
     "text": [
      "Step 75331, training: ucc_acc=1.0 weighted_loss=0.0009684510878287256 ucc_loss=0.0009684510878287256 ae_loss=0 eval: ucc_acc=1.0 weighted_loss=0.036746930330991745 ucc_loss=0.036746930330991745 ae_loss=0\n"
     ]
    },
    {
     "name": "stderr",
     "output_type": "stream",
     "text": [
      " 77%|███████▋  | 15350/20009 [1:24:44<28:10,  2.76it/s]"
     ]
    },
    {
     "name": "stdout",
     "output_type": "stream",
     "text": [
      "Step 75341, training: ucc_acc=1.0 weighted_loss=0.00015393974899780005 ucc_loss=0.00015393974899780005 ae_loss=0 eval: ucc_acc=1.0 weighted_loss=0.00028662916156463325 ucc_loss=0.00028662916156463325 ae_loss=0\n"
     ]
    },
    {
     "name": "stderr",
     "output_type": "stream",
     "text": [
      " 77%|███████▋  | 15360/20009 [1:24:48<32:11,  2.41it/s]"
     ]
    },
    {
     "name": "stdout",
     "output_type": "stream",
     "text": [
      "Step 75351, training: ucc_acc=1.0 weighted_loss=0.01907861977815628 ucc_loss=0.01907861977815628 ae_loss=0 eval: ucc_acc=1.0 weighted_loss=0.0020806912798434496 ucc_loss=0.0020806912798434496 ae_loss=0\n"
     ]
    },
    {
     "name": "stderr",
     "output_type": "stream",
     "text": [
      " 77%|███████▋  | 15370/20009 [1:24:51<29:16,  2.64it/s]"
     ]
    },
    {
     "name": "stdout",
     "output_type": "stream",
     "text": [
      "Step 75361, training: ucc_acc=1.0 weighted_loss=0.0020920357201248407 ucc_loss=0.0020920357201248407 ae_loss=0 eval: ucc_acc=1.0 weighted_loss=0.0012748675653710961 ucc_loss=0.0012748675653710961 ae_loss=0\n"
     ]
    },
    {
     "name": "stderr",
     "output_type": "stream",
     "text": [
      " 77%|███████▋  | 15380/20009 [1:24:55<26:36,  2.90it/s]"
     ]
    },
    {
     "name": "stdout",
     "output_type": "stream",
     "text": [
      "Step 75371, training: ucc_acc=1.0 weighted_loss=0.0026270165108144283 ucc_loss=0.0026270165108144283 ae_loss=0 eval: ucc_acc=1.0 weighted_loss=0.004408049397170544 ucc_loss=0.004408049397170544 ae_loss=0\n"
     ]
    },
    {
     "name": "stderr",
     "output_type": "stream",
     "text": [
      " 77%|███████▋  | 15390/20009 [1:24:58<26:47,  2.87it/s]"
     ]
    },
    {
     "name": "stdout",
     "output_type": "stream",
     "text": [
      "Step 75381, training: ucc_acc=0.9333333373069763 weighted_loss=0.12039849907159805 ucc_loss=0.12039849907159805 ae_loss=0 eval: ucc_acc=1.0 weighted_loss=0.011187422089278698 ucc_loss=0.011187422089278698 ae_loss=0\n"
     ]
    },
    {
     "name": "stderr",
     "output_type": "stream",
     "text": [
      " 77%|███████▋  | 15400/20009 [1:25:01<27:35,  2.78it/s]"
     ]
    },
    {
     "name": "stdout",
     "output_type": "stream",
     "text": [
      "Step 75391, training: ucc_acc=1.0 weighted_loss=0.0004936562618240714 ucc_loss=0.0004936562618240714 ae_loss=0 eval: ucc_acc=1.0 weighted_loss=0.027675652876496315 ucc_loss=0.027675652876496315 ae_loss=0\n"
     ]
    },
    {
     "name": "stderr",
     "output_type": "stream",
     "text": [
      " 77%|███████▋  | 15410/20009 [1:25:04<26:24,  2.90it/s]"
     ]
    },
    {
     "name": "stdout",
     "output_type": "stream",
     "text": [
      "Step 75401, training: ucc_acc=0.9333333373069763 weighted_loss=0.14796201884746552 ucc_loss=0.14796201884746552 ae_loss=0 eval: ucc_acc=1.0 weighted_loss=0.00884999893605709 ucc_loss=0.00884999893605709 ae_loss=0\n"
     ]
    },
    {
     "name": "stderr",
     "output_type": "stream",
     "text": [
      " 77%|███████▋  | 15420/20009 [1:25:07<26:26,  2.89it/s]"
     ]
    },
    {
     "name": "stdout",
     "output_type": "stream",
     "text": [
      "Step 75411, training: ucc_acc=1.0 weighted_loss=0.014674234203994274 ucc_loss=0.014674234203994274 ae_loss=0 eval: ucc_acc=1.0 weighted_loss=0.017624448984861374 ucc_loss=0.017624448984861374 ae_loss=0\n"
     ]
    },
    {
     "name": "stderr",
     "output_type": "stream",
     "text": [
      " 77%|███████▋  | 15430/20009 [1:25:10<27:46,  2.75it/s]"
     ]
    },
    {
     "name": "stdout",
     "output_type": "stream",
     "text": [
      "Step 75421, training: ucc_acc=1.0 weighted_loss=0.0009847928304225206 ucc_loss=0.0009847928304225206 ae_loss=0 eval: ucc_acc=1.0 weighted_loss=0.00010715520329540595 ucc_loss=0.00010715520329540595 ae_loss=0\n"
     ]
    },
    {
     "name": "stderr",
     "output_type": "stream",
     "text": [
      " 77%|███████▋  | 15440/20009 [1:25:14<26:19,  2.89it/s]"
     ]
    },
    {
     "name": "stdout",
     "output_type": "stream",
     "text": [
      "Step 75431, training: ucc_acc=1.0 weighted_loss=0.011052734218537807 ucc_loss=0.011052734218537807 ae_loss=0 eval: ucc_acc=1.0 weighted_loss=0.0005487819435074925 ucc_loss=0.0005487819435074925 ae_loss=0\n"
     ]
    },
    {
     "name": "stderr",
     "output_type": "stream",
     "text": [
      " 77%|███████▋  | 15450/20009 [1:25:17<26:36,  2.86it/s]"
     ]
    },
    {
     "name": "stdout",
     "output_type": "stream",
     "text": [
      "Step 75441, training: ucc_acc=1.0 weighted_loss=0.0004501043586060405 ucc_loss=0.0004501043586060405 ae_loss=0 eval: ucc_acc=1.0 weighted_loss=0.010480151511728764 ucc_loss=0.010480151511728764 ae_loss=0\n"
     ]
    },
    {
     "name": "stderr",
     "output_type": "stream",
     "text": [
      " 77%|███████▋  | 15460/20009 [1:25:20<26:25,  2.87it/s]"
     ]
    },
    {
     "name": "stdout",
     "output_type": "stream",
     "text": [
      "Step 75451, training: ucc_acc=1.0 weighted_loss=0.017941493541002274 ucc_loss=0.017941493541002274 ae_loss=0 eval: ucc_acc=1.0 weighted_loss=0.006241277325898409 ucc_loss=0.006241277325898409 ae_loss=0\n"
     ]
    },
    {
     "name": "stderr",
     "output_type": "stream",
     "text": [
      " 77%|███████▋  | 15470/20009 [1:25:23<26:49,  2.82it/s]"
     ]
    },
    {
     "name": "stdout",
     "output_type": "stream",
     "text": [
      "Step 75461, training: ucc_acc=1.0 weighted_loss=5.31221812707372e-05 ucc_loss=5.31221812707372e-05 ae_loss=0 eval: ucc_acc=1.0 weighted_loss=9.539314487483352e-05 ucc_loss=9.539314487483352e-05 ae_loss=0\n"
     ]
    },
    {
     "name": "stderr",
     "output_type": "stream",
     "text": [
      " 77%|███████▋  | 15480/20009 [1:25:26<25:36,  2.95it/s]"
     ]
    },
    {
     "name": "stdout",
     "output_type": "stream",
     "text": [
      "Step 75471, training: ucc_acc=1.0 weighted_loss=0.0032107376027852297 ucc_loss=0.0032107376027852297 ae_loss=0 eval: ucc_acc=1.0 weighted_loss=0.015265557914972305 ucc_loss=0.015265557914972305 ae_loss=0\n"
     ]
    },
    {
     "name": "stderr",
     "output_type": "stream",
     "text": [
      " 77%|███████▋  | 15490/20009 [1:25:29<25:53,  2.91it/s]"
     ]
    },
    {
     "name": "stdout",
     "output_type": "stream",
     "text": [
      "Step 75481, training: ucc_acc=1.0 weighted_loss=0.014175078831613064 ucc_loss=0.014175078831613064 ae_loss=0 eval: ucc_acc=1.0 weighted_loss=0.006826567929238081 ucc_loss=0.006826567929238081 ae_loss=0\n"
     ]
    },
    {
     "name": "stderr",
     "output_type": "stream",
     "text": [
      " 77%|███████▋  | 15500/20009 [1:25:33<25:49,  2.91it/s]"
     ]
    },
    {
     "name": "stdout",
     "output_type": "stream",
     "text": [
      "Step 75491, training: ucc_acc=0.9333333373069763 weighted_loss=0.10497932136058807 ucc_loss=0.10497932136058807 ae_loss=0 eval: ucc_acc=1.0 weighted_loss=0.011865814216434956 ucc_loss=0.011865814216434956 ae_loss=0\n"
     ]
    },
    {
     "name": "stderr",
     "output_type": "stream",
     "text": [
      " 78%|███████▊  | 15510/20009 [1:25:36<25:44,  2.91it/s]"
     ]
    },
    {
     "name": "stdout",
     "output_type": "stream",
     "text": [
      "Step 75501, training: ucc_acc=1.0 weighted_loss=0.007571077439934015 ucc_loss=0.007571077439934015 ae_loss=0 eval: ucc_acc=1.0 weighted_loss=0.00014046036812942475 ucc_loss=0.00014046036812942475 ae_loss=0\n"
     ]
    },
    {
     "name": "stderr",
     "output_type": "stream",
     "text": [
      " 78%|███████▊  | 15520/20009 [1:25:39<26:05,  2.87it/s]"
     ]
    },
    {
     "name": "stdout",
     "output_type": "stream",
     "text": [
      "Step 75511, training: ucc_acc=1.0 weighted_loss=0.004484021570533514 ucc_loss=0.004484021570533514 ae_loss=0 eval: ucc_acc=1.0 weighted_loss=0.0035163196735084057 ucc_loss=0.0035163196735084057 ae_loss=0\n"
     ]
    },
    {
     "name": "stderr",
     "output_type": "stream",
     "text": [
      " 78%|███████▊  | 15530/20009 [1:25:42<26:09,  2.85it/s]"
     ]
    },
    {
     "name": "stdout",
     "output_type": "stream",
     "text": [
      "Step 75521, training: ucc_acc=0.9333333373069763 weighted_loss=0.10629238933324814 ucc_loss=0.10629238933324814 ae_loss=0 eval: ucc_acc=1.0 weighted_loss=0.013285280205309391 ucc_loss=0.013285280205309391 ae_loss=0\n"
     ]
    },
    {
     "name": "stderr",
     "output_type": "stream",
     "text": [
      " 78%|███████▊  | 15540/20009 [1:25:45<25:45,  2.89it/s]"
     ]
    },
    {
     "name": "stdout",
     "output_type": "stream",
     "text": [
      "Step 75531, training: ucc_acc=1.0 weighted_loss=0.017894716933369637 ucc_loss=0.017894716933369637 ae_loss=0 eval: ucc_acc=1.0 weighted_loss=0.018550241366028786 ucc_loss=0.018550241366028786 ae_loss=0\n"
     ]
    },
    {
     "name": "stderr",
     "output_type": "stream",
     "text": [
      " 78%|███████▊  | 15550/20009 [1:25:48<25:35,  2.90it/s]"
     ]
    },
    {
     "name": "stdout",
     "output_type": "stream",
     "text": [
      "Step 75541, training: ucc_acc=1.0 weighted_loss=0.007207975722849369 ucc_loss=0.007207975722849369 ae_loss=0 eval: ucc_acc=1.0 weighted_loss=0.014751210808753967 ucc_loss=0.014751210808753967 ae_loss=0\n"
     ]
    },
    {
     "name": "stderr",
     "output_type": "stream",
     "text": [
      " 78%|███████▊  | 15560/20009 [1:25:52<25:57,  2.86it/s]"
     ]
    },
    {
     "name": "stdout",
     "output_type": "stream",
     "text": [
      "Step 75551, training: ucc_acc=1.0 weighted_loss=0.01917385682463646 ucc_loss=0.01917385682463646 ae_loss=0 eval: ucc_acc=1.0 weighted_loss=0.001208618050441146 ucc_loss=0.001208618050441146 ae_loss=0\n"
     ]
    },
    {
     "name": "stderr",
     "output_type": "stream",
     "text": [
      " 78%|███████▊  | 15570/20009 [1:25:55<25:28,  2.90it/s]"
     ]
    },
    {
     "name": "stdout",
     "output_type": "stream",
     "text": [
      "Step 75561, training: ucc_acc=1.0 weighted_loss=0.00013037354801781476 ucc_loss=0.00013037354801781476 ae_loss=0 eval: ucc_acc=1.0 weighted_loss=0.03744782879948616 ucc_loss=0.03744782879948616 ae_loss=0\n"
     ]
    },
    {
     "name": "stderr",
     "output_type": "stream",
     "text": [
      " 78%|███████▊  | 15580/20009 [1:25:58<24:50,  2.97it/s]"
     ]
    },
    {
     "name": "stdout",
     "output_type": "stream",
     "text": [
      "Step 75571, training: ucc_acc=1.0 weighted_loss=0.005606151185929775 ucc_loss=0.005606151185929775 ae_loss=0 eval: ucc_acc=1.0 weighted_loss=0.033709604293107986 ucc_loss=0.033709604293107986 ae_loss=0\n"
     ]
    },
    {
     "name": "stderr",
     "output_type": "stream",
     "text": [
      " 78%|███████▊  | 15590/20009 [1:26:01<25:01,  2.94it/s]"
     ]
    },
    {
     "name": "stdout",
     "output_type": "stream",
     "text": [
      "Step 75581, training: ucc_acc=1.0 weighted_loss=0.008155611343681812 ucc_loss=0.008155611343681812 ae_loss=0 eval: ucc_acc=0.9333333373069763 weighted_loss=0.18315348029136658 ucc_loss=0.18315348029136658 ae_loss=0\n"
     ]
    },
    {
     "name": "stderr",
     "output_type": "stream",
     "text": [
      " 78%|███████▊  | 15600/20009 [1:26:04<24:53,  2.95it/s]"
     ]
    },
    {
     "name": "stdout",
     "output_type": "stream",
     "text": [
      "Step 75591, training: ucc_acc=1.0 weighted_loss=0.022278569638729095 ucc_loss=0.022278569638729095 ae_loss=0 eval: ucc_acc=1.0 weighted_loss=0.01970331184566021 ucc_loss=0.01970331184566021 ae_loss=0\n"
     ]
    },
    {
     "name": "stderr",
     "output_type": "stream",
     "text": [
      " 78%|███████▊  | 15610/20009 [1:26:07<25:39,  2.86it/s]"
     ]
    },
    {
     "name": "stdout",
     "output_type": "stream",
     "text": [
      "Step 75601, training: ucc_acc=1.0 weighted_loss=3.269379885750823e-05 ucc_loss=3.269379885750823e-05 ae_loss=0 eval: ucc_acc=1.0 weighted_loss=0.005825918633490801 ucc_loss=0.005825918633490801 ae_loss=0\n"
     ]
    },
    {
     "name": "stderr",
     "output_type": "stream",
     "text": [
      " 78%|███████▊  | 15620/20009 [1:26:10<25:14,  2.90it/s]"
     ]
    },
    {
     "name": "stdout",
     "output_type": "stream",
     "text": [
      "Step 75611, training: ucc_acc=1.0 weighted_loss=0.00450788252055645 ucc_loss=0.00450788252055645 ae_loss=0 eval: ucc_acc=1.0 weighted_loss=0.031298696994781494 ucc_loss=0.031298696994781494 ae_loss=0\n"
     ]
    },
    {
     "name": "stderr",
     "output_type": "stream",
     "text": [
      " 78%|███████▊  | 15630/20009 [1:26:14<25:37,  2.85it/s]"
     ]
    },
    {
     "name": "stdout",
     "output_type": "stream",
     "text": [
      "Step 75621, training: ucc_acc=0.9333333373069763 weighted_loss=0.13460224866867065 ucc_loss=0.13460224866867065 ae_loss=0 eval: ucc_acc=0.9333333373069763 weighted_loss=0.19443078339099884 ucc_loss=0.19443078339099884 ae_loss=0\n"
     ]
    },
    {
     "name": "stderr",
     "output_type": "stream",
     "text": [
      " 78%|███████▊  | 15640/20009 [1:26:17<25:00,  2.91it/s]"
     ]
    },
    {
     "name": "stdout",
     "output_type": "stream",
     "text": [
      "Step 75631, training: ucc_acc=1.0 weighted_loss=3.3646214433247223e-05 ucc_loss=3.3646214433247223e-05 ae_loss=0 eval: ucc_acc=0.8666666746139526 weighted_loss=0.11319264024496078 ucc_loss=0.11319264024496078 ae_loss=0\n"
     ]
    },
    {
     "name": "stderr",
     "output_type": "stream",
     "text": [
      " 78%|███████▊  | 15650/20009 [1:26:20<24:41,  2.94it/s]"
     ]
    },
    {
     "name": "stdout",
     "output_type": "stream",
     "text": [
      "Step 75641, training: ucc_acc=1.0 weighted_loss=0.009567366912961006 ucc_loss=0.009567366912961006 ae_loss=0 eval: ucc_acc=1.0 weighted_loss=0.0001133983678300865 ucc_loss=0.0001133983678300865 ae_loss=0\n"
     ]
    },
    {
     "name": "stderr",
     "output_type": "stream",
     "text": [
      " 78%|███████▊  | 15660/20009 [1:26:23<25:03,  2.89it/s]"
     ]
    },
    {
     "name": "stdout",
     "output_type": "stream",
     "text": [
      "Step 75651, training: ucc_acc=1.0 weighted_loss=0.006214732304215431 ucc_loss=0.006214732304215431 ae_loss=0 eval: ucc_acc=1.0 weighted_loss=0.00023492032778449357 ucc_loss=0.00023492032778449357 ae_loss=0\n"
     ]
    },
    {
     "name": "stderr",
     "output_type": "stream",
     "text": [
      " 78%|███████▊  | 15670/20009 [1:26:26<24:38,  2.93it/s]"
     ]
    },
    {
     "name": "stdout",
     "output_type": "stream",
     "text": [
      "Step 75661, training: ucc_acc=1.0 weighted_loss=0.0003390258934814483 ucc_loss=0.0003390258934814483 ae_loss=0 eval: ucc_acc=1.0 weighted_loss=0.04523511603474617 ucc_loss=0.04523511603474617 ae_loss=0\n"
     ]
    },
    {
     "name": "stderr",
     "output_type": "stream",
     "text": [
      " 78%|███████▊  | 15680/20009 [1:26:29<24:36,  2.93it/s]"
     ]
    },
    {
     "name": "stdout",
     "output_type": "stream",
     "text": [
      "Step 75671, training: ucc_acc=1.0 weighted_loss=0.0030269031412899494 ucc_loss=0.0030269031412899494 ae_loss=0 eval: ucc_acc=1.0 weighted_loss=0.01131903100758791 ucc_loss=0.01131903100758791 ae_loss=0\n"
     ]
    },
    {
     "name": "stderr",
     "output_type": "stream",
     "text": [
      " 78%|███████▊  | 15690/20009 [1:26:32<24:35,  2.93it/s]"
     ]
    },
    {
     "name": "stdout",
     "output_type": "stream",
     "text": [
      "Step 75681, training: ucc_acc=1.0 weighted_loss=0.015652446076273918 ucc_loss=0.015652446076273918 ae_loss=0 eval: ucc_acc=0.9333333373069763 weighted_loss=0.049227748066186905 ucc_loss=0.049227748066186905 ae_loss=0\n"
     ]
    },
    {
     "name": "stderr",
     "output_type": "stream",
     "text": [
      " 78%|███████▊  | 15700/20009 [1:26:36<25:28,  2.82it/s]"
     ]
    },
    {
     "name": "stdout",
     "output_type": "stream",
     "text": [
      "Step 75691, training: ucc_acc=1.0 weighted_loss=0.0007754555554129183 ucc_loss=0.0007754555554129183 ae_loss=0 eval: ucc_acc=1.0 weighted_loss=0.004068701062351465 ucc_loss=0.004068701062351465 ae_loss=0\n"
     ]
    },
    {
     "name": "stderr",
     "output_type": "stream",
     "text": [
      " 79%|███████▊  | 15710/20009 [1:26:39<25:14,  2.84it/s]"
     ]
    },
    {
     "name": "stdout",
     "output_type": "stream",
     "text": [
      "Step 75701, training: ucc_acc=1.0 weighted_loss=0.007868087850511074 ucc_loss=0.007868087850511074 ae_loss=0 eval: ucc_acc=1.0 weighted_loss=0.004485077224671841 ucc_loss=0.004485077224671841 ae_loss=0\n"
     ]
    },
    {
     "name": "stderr",
     "output_type": "stream",
     "text": [
      " 79%|███████▊  | 15720/20009 [1:26:42<25:07,  2.85it/s]"
     ]
    },
    {
     "name": "stdout",
     "output_type": "stream",
     "text": [
      "Step 75711, training: ucc_acc=0.9333333373069763 weighted_loss=0.1870122104883194 ucc_loss=0.1870122104883194 ae_loss=0 eval: ucc_acc=1.0 weighted_loss=0.01708206720650196 ucc_loss=0.01708206720650196 ae_loss=0\n"
     ]
    },
    {
     "name": "stderr",
     "output_type": "stream",
     "text": [
      " 79%|███████▊  | 15730/20009 [1:26:45<24:35,  2.90it/s]"
     ]
    },
    {
     "name": "stdout",
     "output_type": "stream",
     "text": [
      "Step 75721, training: ucc_acc=1.0 weighted_loss=0.01003266777843237 ucc_loss=0.01003266777843237 ae_loss=0 eval: ucc_acc=1.0 weighted_loss=0.02085406333208084 ucc_loss=0.02085406333208084 ae_loss=0\n"
     ]
    },
    {
     "name": "stderr",
     "output_type": "stream",
     "text": [
      " 79%|███████▊  | 15740/20009 [1:26:48<24:05,  2.95it/s]"
     ]
    },
    {
     "name": "stdout",
     "output_type": "stream",
     "text": [
      "Step 75731, training: ucc_acc=0.9333333373069763 weighted_loss=0.17998681962490082 ucc_loss=0.17998681962490082 ae_loss=0 eval: ucc_acc=1.0 weighted_loss=0.003013161476701498 ucc_loss=0.003013161476701498 ae_loss=0\n"
     ]
    },
    {
     "name": "stderr",
     "output_type": "stream",
     "text": [
      " 79%|███████▊  | 15750/20009 [1:26:51<24:25,  2.91it/s]"
     ]
    },
    {
     "name": "stdout",
     "output_type": "stream",
     "text": [
      "Step 75741, training: ucc_acc=1.0 weighted_loss=0.00954660214483738 ucc_loss=0.00954660214483738 ae_loss=0 eval: ucc_acc=1.0 weighted_loss=0.016174208372831345 ucc_loss=0.016174208372831345 ae_loss=0\n"
     ]
    },
    {
     "name": "stderr",
     "output_type": "stream",
     "text": [
      " 79%|███████▉  | 15760/20009 [1:26:54<24:01,  2.95it/s]"
     ]
    },
    {
     "name": "stdout",
     "output_type": "stream",
     "text": [
      "Step 75751, training: ucc_acc=1.0 weighted_loss=0.010479371063411236 ucc_loss=0.010479371063411236 ae_loss=0 eval: ucc_acc=1.0 weighted_loss=0.01195375807583332 ucc_loss=0.01195375807583332 ae_loss=0\n"
     ]
    },
    {
     "name": "stderr",
     "output_type": "stream",
     "text": [
      " 79%|███████▉  | 15770/20009 [1:26:58<24:30,  2.88it/s]"
     ]
    },
    {
     "name": "stdout",
     "output_type": "stream",
     "text": [
      "Step 75761, training: ucc_acc=1.0 weighted_loss=0.012351395562291145 ucc_loss=0.012351395562291145 ae_loss=0 eval: ucc_acc=1.0 weighted_loss=0.02018413133919239 ucc_loss=0.02018413133919239 ae_loss=0\n"
     ]
    },
    {
     "name": "stderr",
     "output_type": "stream",
     "text": [
      " 79%|███████▉  | 15780/20009 [1:27:01<26:01,  2.71it/s]"
     ]
    },
    {
     "name": "stdout",
     "output_type": "stream",
     "text": [
      "Step 75771, training: ucc_acc=1.0 weighted_loss=0.006454853340983391 ucc_loss=0.006454853340983391 ae_loss=0 eval: ucc_acc=1.0 weighted_loss=0.0012025126488879323 ucc_loss=0.0012025126488879323 ae_loss=0\n"
     ]
    },
    {
     "name": "stderr",
     "output_type": "stream",
     "text": [
      " 79%|███████▉  | 15790/20009 [1:27:04<24:06,  2.92it/s]"
     ]
    },
    {
     "name": "stdout",
     "output_type": "stream",
     "text": [
      "Step 75781, training: ucc_acc=1.0 weighted_loss=0.009658167138695717 ucc_loss=0.009658167138695717 ae_loss=0 eval: ucc_acc=1.0 weighted_loss=0.01171333622187376 ucc_loss=0.01171333622187376 ae_loss=0\n"
     ]
    },
    {
     "name": "stderr",
     "output_type": "stream",
     "text": [
      " 79%|███████▉  | 15800/20009 [1:27:07<24:15,  2.89it/s]"
     ]
    },
    {
     "name": "stdout",
     "output_type": "stream",
     "text": [
      "Step 75791, training: ucc_acc=1.0 weighted_loss=0.011643903329968452 ucc_loss=0.011643903329968452 ae_loss=0 eval: ucc_acc=1.0 weighted_loss=0.004377723205834627 ucc_loss=0.004377723205834627 ae_loss=0\n"
     ]
    },
    {
     "name": "stderr",
     "output_type": "stream",
     "text": [
      " 79%|███████▉  | 15810/20009 [1:27:11<24:44,  2.83it/s]"
     ]
    },
    {
     "name": "stdout",
     "output_type": "stream",
     "text": [
      "Step 75801, training: ucc_acc=1.0 weighted_loss=0.0045801931992173195 ucc_loss=0.0045801931992173195 ae_loss=0 eval: ucc_acc=1.0 weighted_loss=0.006328688468784094 ucc_loss=0.006328688468784094 ae_loss=0\n"
     ]
    },
    {
     "name": "stderr",
     "output_type": "stream",
     "text": [
      " 79%|███████▉  | 15820/20009 [1:27:14<24:24,  2.86it/s]"
     ]
    },
    {
     "name": "stdout",
     "output_type": "stream",
     "text": [
      "Step 75811, training: ucc_acc=1.0 weighted_loss=0.0006726133287884295 ucc_loss=0.0006726133287884295 ae_loss=0 eval: ucc_acc=1.0 weighted_loss=0.005428160075098276 ucc_loss=0.005428160075098276 ae_loss=0\n"
     ]
    },
    {
     "name": "stderr",
     "output_type": "stream",
     "text": [
      " 79%|███████▉  | 15830/20009 [1:27:17<24:23,  2.86it/s]"
     ]
    },
    {
     "name": "stdout",
     "output_type": "stream",
     "text": [
      "Step 75821, training: ucc_acc=1.0 weighted_loss=0.018532482907176018 ucc_loss=0.018532482907176018 ae_loss=0 eval: ucc_acc=1.0 weighted_loss=0.01047484204173088 ucc_loss=0.01047484204173088 ae_loss=0\n"
     ]
    },
    {
     "name": "stderr",
     "output_type": "stream",
     "text": [
      " 79%|███████▉  | 15840/20009 [1:27:20<24:36,  2.82it/s]"
     ]
    },
    {
     "name": "stdout",
     "output_type": "stream",
     "text": [
      "Step 75831, training: ucc_acc=1.0 weighted_loss=0.0053209890611469746 ucc_loss=0.0053209890611469746 ae_loss=0 eval: ucc_acc=1.0 weighted_loss=0.010518974624574184 ucc_loss=0.010518974624574184 ae_loss=0\n"
     ]
    },
    {
     "name": "stderr",
     "output_type": "stream",
     "text": [
      " 79%|███████▉  | 15850/20009 [1:27:23<24:26,  2.84it/s]"
     ]
    },
    {
     "name": "stdout",
     "output_type": "stream",
     "text": [
      "Step 75841, training: ucc_acc=1.0 weighted_loss=0.02243778482079506 ucc_loss=0.02243778482079506 ae_loss=0 eval: ucc_acc=1.0 weighted_loss=0.03584260120987892 ucc_loss=0.03584260120987892 ae_loss=0\n"
     ]
    },
    {
     "name": "stderr",
     "output_type": "stream",
     "text": [
      " 79%|███████▉  | 15860/20009 [1:27:27<23:50,  2.90it/s]"
     ]
    },
    {
     "name": "stdout",
     "output_type": "stream",
     "text": [
      "Step 75851, training: ucc_acc=1.0 weighted_loss=0.006286031566560268 ucc_loss=0.006286031566560268 ae_loss=0 eval: ucc_acc=1.0 weighted_loss=6.77896969136782e-05 ucc_loss=6.77896969136782e-05 ae_loss=0\n"
     ]
    },
    {
     "name": "stderr",
     "output_type": "stream",
     "text": [
      " 79%|███████▉  | 15870/20009 [1:27:30<24:08,  2.86it/s]"
     ]
    },
    {
     "name": "stdout",
     "output_type": "stream",
     "text": [
      "Step 75861, training: ucc_acc=1.0 weighted_loss=0.0022000852040946484 ucc_loss=0.0022000852040946484 ae_loss=0 eval: ucc_acc=1.0 weighted_loss=0.0005475861253216863 ucc_loss=0.0005475861253216863 ae_loss=0\n"
     ]
    },
    {
     "name": "stderr",
     "output_type": "stream",
     "text": [
      " 79%|███████▉  | 15880/20009 [1:27:33<24:33,  2.80it/s]"
     ]
    },
    {
     "name": "stdout",
     "output_type": "stream",
     "text": [
      "Step 75871, training: ucc_acc=1.0 weighted_loss=0.0036527460906654596 ucc_loss=0.0036527460906654596 ae_loss=0 eval: ucc_acc=1.0 weighted_loss=0.0032557854428887367 ucc_loss=0.0032557854428887367 ae_loss=0\n"
     ]
    },
    {
     "name": "stderr",
     "output_type": "stream",
     "text": [
      " 79%|███████▉  | 15890/20009 [1:27:36<23:38,  2.90it/s]"
     ]
    },
    {
     "name": "stdout",
     "output_type": "stream",
     "text": [
      "Step 75881, training: ucc_acc=1.0 weighted_loss=0.0015812203055247664 ucc_loss=0.0015812203055247664 ae_loss=0 eval: ucc_acc=1.0 weighted_loss=0.008576693013310432 ucc_loss=0.008576693013310432 ae_loss=0\n"
     ]
    },
    {
     "name": "stderr",
     "output_type": "stream",
     "text": [
      " 79%|███████▉  | 15900/20009 [1:27:39<23:56,  2.86it/s]"
     ]
    },
    {
     "name": "stdout",
     "output_type": "stream",
     "text": [
      "Step 75891, training: ucc_acc=1.0 weighted_loss=0.0017513667698949575 ucc_loss=0.0017513667698949575 ae_loss=0 eval: ucc_acc=1.0 weighted_loss=0.010564046911895275 ucc_loss=0.010564046911895275 ae_loss=0\n"
     ]
    },
    {
     "name": "stderr",
     "output_type": "stream",
     "text": [
      " 80%|███████▉  | 15910/20009 [1:27:42<23:21,  2.92it/s]"
     ]
    },
    {
     "name": "stdout",
     "output_type": "stream",
     "text": [
      "Step 75901, training: ucc_acc=1.0 weighted_loss=0.032013121992349625 ucc_loss=0.032013121992349625 ae_loss=0 eval: ucc_acc=1.0 weighted_loss=0.026129359379410744 ucc_loss=0.026129359379410744 ae_loss=0\n"
     ]
    },
    {
     "name": "stderr",
     "output_type": "stream",
     "text": [
      " 80%|███████▉  | 15920/20009 [1:27:46<23:31,  2.90it/s]"
     ]
    },
    {
     "name": "stdout",
     "output_type": "stream",
     "text": [
      "Step 75911, training: ucc_acc=1.0 weighted_loss=0.013546479865908623 ucc_loss=0.013546479865908623 ae_loss=0 eval: ucc_acc=1.0 weighted_loss=0.010766240768134594 ucc_loss=0.010766240768134594 ae_loss=0\n"
     ]
    },
    {
     "name": "stderr",
     "output_type": "stream",
     "text": [
      " 80%|███████▉  | 15930/20009 [1:27:49<23:31,  2.89it/s]"
     ]
    },
    {
     "name": "stdout",
     "output_type": "stream",
     "text": [
      "Step 75921, training: ucc_acc=1.0 weighted_loss=0.00011566031753318384 ucc_loss=0.00011566031753318384 ae_loss=0 eval: ucc_acc=1.0 weighted_loss=0.00610250374302268 ucc_loss=0.00610250374302268 ae_loss=0\n"
     ]
    },
    {
     "name": "stderr",
     "output_type": "stream",
     "text": [
      " 80%|███████▉  | 15940/20009 [1:27:52<23:08,  2.93it/s]"
     ]
    },
    {
     "name": "stdout",
     "output_type": "stream",
     "text": [
      "Step 75931, training: ucc_acc=1.0 weighted_loss=0.006949272472411394 ucc_loss=0.006949272472411394 ae_loss=0 eval: ucc_acc=1.0 weighted_loss=0.005511214025318623 ucc_loss=0.005511214025318623 ae_loss=0\n"
     ]
    },
    {
     "name": "stderr",
     "output_type": "stream",
     "text": [
      " 80%|███████▉  | 15950/20009 [1:27:55<23:02,  2.94it/s]"
     ]
    },
    {
     "name": "stdout",
     "output_type": "stream",
     "text": [
      "Step 75941, training: ucc_acc=1.0 weighted_loss=0.002290933858603239 ucc_loss=0.002290933858603239 ae_loss=0 eval: ucc_acc=1.0 weighted_loss=0.024197084829211235 ucc_loss=0.024197084829211235 ae_loss=0\n"
     ]
    },
    {
     "name": "stderr",
     "output_type": "stream",
     "text": [
      " 80%|███████▉  | 15960/20009 [1:27:58<23:13,  2.91it/s]"
     ]
    },
    {
     "name": "stdout",
     "output_type": "stream",
     "text": [
      "Step 75951, training: ucc_acc=1.0 weighted_loss=0.010357669554650784 ucc_loss=0.010357669554650784 ae_loss=0 eval: ucc_acc=1.0 weighted_loss=0.0001555990456836298 ucc_loss=0.0001555990456836298 ae_loss=0\n"
     ]
    },
    {
     "name": "stderr",
     "output_type": "stream",
     "text": [
      " 80%|███████▉  | 15970/20009 [1:28:01<22:45,  2.96it/s]"
     ]
    },
    {
     "name": "stdout",
     "output_type": "stream",
     "text": [
      "Step 75961, training: ucc_acc=0.9333333373069763 weighted_loss=0.20861907303333282 ucc_loss=0.20861907303333282 ae_loss=0 eval: ucc_acc=1.0 weighted_loss=0.022503076121211052 ucc_loss=0.022503076121211052 ae_loss=0\n"
     ]
    },
    {
     "name": "stderr",
     "output_type": "stream",
     "text": [
      " 80%|███████▉  | 15980/20009 [1:28:04<23:35,  2.85it/s]"
     ]
    },
    {
     "name": "stdout",
     "output_type": "stream",
     "text": [
      "Step 75971, training: ucc_acc=1.0 weighted_loss=0.013621884398162365 ucc_loss=0.013621884398162365 ae_loss=0 eval: ucc_acc=1.0 weighted_loss=0.01108078844845295 ucc_loss=0.01108078844845295 ae_loss=0\n"
     ]
    },
    {
     "name": "stderr",
     "output_type": "stream",
     "text": [
      " 80%|███████▉  | 15990/20009 [1:28:08<23:57,  2.80it/s]"
     ]
    },
    {
     "name": "stdout",
     "output_type": "stream",
     "text": [
      "Step 75981, training: ucc_acc=1.0 weighted_loss=0.007344668731093407 ucc_loss=0.007344668731093407 ae_loss=0 eval: ucc_acc=1.0 weighted_loss=0.0060361046344041824 ucc_loss=0.0060361046344041824 ae_loss=0\n"
     ]
    },
    {
     "name": "stderr",
     "output_type": "stream",
     "text": [
      " 80%|███████▉  | 16000/20009 [1:28:11<23:13,  2.88it/s]"
     ]
    },
    {
     "name": "stdout",
     "output_type": "stream",
     "text": [
      "Step 75991, training: ucc_acc=1.0 weighted_loss=0.009595739655196667 ucc_loss=0.009595739655196667 ae_loss=0 eval: ucc_acc=1.0 weighted_loss=0.01306572463363409 ucc_loss=0.01306572463363409 ae_loss=0\n"
     ]
    },
    {
     "name": "stderr",
     "output_type": "stream",
     "text": [
      " 80%|████████  | 16010/20009 [1:28:14<23:40,  2.81it/s]"
     ]
    },
    {
     "name": "stdout",
     "output_type": "stream",
     "text": [
      "Step 76001, training: ucc_acc=1.0 weighted_loss=0.04632037878036499 ucc_loss=0.04632037878036499 ae_loss=0 eval: ucc_acc=1.0 weighted_loss=0.00825941190123558 ucc_loss=0.00825941190123558 ae_loss=0\n"
     ]
    },
    {
     "name": "stderr",
     "output_type": "stream",
     "text": [
      " 80%|████████  | 16020/20009 [1:28:17<22:51,  2.91it/s]"
     ]
    },
    {
     "name": "stdout",
     "output_type": "stream",
     "text": [
      "Step 76011, training: ucc_acc=1.0 weighted_loss=0.008472861722111702 ucc_loss=0.008472861722111702 ae_loss=0 eval: ucc_acc=1.0 weighted_loss=0.0011315606534481049 ucc_loss=0.0011315606534481049 ae_loss=0\n"
     ]
    },
    {
     "name": "stderr",
     "output_type": "stream",
     "text": [
      " 80%|████████  | 16030/20009 [1:28:21<23:42,  2.80it/s]"
     ]
    },
    {
     "name": "stdout",
     "output_type": "stream",
     "text": [
      "Step 76021, training: ucc_acc=1.0 weighted_loss=0.005311309359967709 ucc_loss=0.005311309359967709 ae_loss=0 eval: ucc_acc=0.9333333373069763 weighted_loss=0.10883495956659317 ucc_loss=0.10883495956659317 ae_loss=0\n"
     ]
    },
    {
     "name": "stderr",
     "output_type": "stream",
     "text": [
      " 80%|████████  | 16040/20009 [1:28:24<23:25,  2.82it/s]"
     ]
    },
    {
     "name": "stdout",
     "output_type": "stream",
     "text": [
      "Step 76031, training: ucc_acc=1.0 weighted_loss=0.003025540616363287 ucc_loss=0.003025540616363287 ae_loss=0 eval: ucc_acc=1.0 weighted_loss=0.009098085574805737 ucc_loss=0.009098085574805737 ae_loss=0\n"
     ]
    },
    {
     "name": "stderr",
     "output_type": "stream",
     "text": [
      " 80%|████████  | 16050/20009 [1:28:27<25:08,  2.62it/s]"
     ]
    },
    {
     "name": "stdout",
     "output_type": "stream",
     "text": [
      "Step 76041, training: ucc_acc=1.0 weighted_loss=0.008995046839118004 ucc_loss=0.008995046839118004 ae_loss=0 eval: ucc_acc=1.0 weighted_loss=0.0010517939226701856 ucc_loss=0.0010517939226701856 ae_loss=0\n"
     ]
    },
    {
     "name": "stderr",
     "output_type": "stream",
     "text": [
      " 80%|████████  | 16060/20009 [1:28:30<22:41,  2.90it/s]"
     ]
    },
    {
     "name": "stdout",
     "output_type": "stream",
     "text": [
      "Step 76051, training: ucc_acc=1.0 weighted_loss=0.020906083285808563 ucc_loss=0.020906083285808563 ae_loss=0 eval: ucc_acc=0.9333333373069763 weighted_loss=0.1439688503742218 ucc_loss=0.1439688503742218 ae_loss=0\n"
     ]
    },
    {
     "name": "stderr",
     "output_type": "stream",
     "text": [
      " 80%|████████  | 16070/20009 [1:28:34<23:17,  2.82it/s]"
     ]
    },
    {
     "name": "stdout",
     "output_type": "stream",
     "text": [
      "Step 76061, training: ucc_acc=1.0 weighted_loss=0.00897358451038599 ucc_loss=0.00897358451038599 ae_loss=0 eval: ucc_acc=1.0 weighted_loss=0.0077817258425056934 ucc_loss=0.0077817258425056934 ae_loss=0\n"
     ]
    },
    {
     "name": "stderr",
     "output_type": "stream",
     "text": [
      " 80%|████████  | 16080/20009 [1:28:37<23:34,  2.78it/s]"
     ]
    },
    {
     "name": "stdout",
     "output_type": "stream",
     "text": [
      "Step 76071, training: ucc_acc=1.0 weighted_loss=0.005763682071119547 ucc_loss=0.005763682071119547 ae_loss=0 eval: ucc_acc=1.0 weighted_loss=0.005367299076169729 ucc_loss=0.005367299076169729 ae_loss=0\n"
     ]
    },
    {
     "name": "stderr",
     "output_type": "stream",
     "text": [
      " 80%|████████  | 16090/20009 [1:28:40<22:51,  2.86it/s]"
     ]
    },
    {
     "name": "stdout",
     "output_type": "stream",
     "text": [
      "Step 76081, training: ucc_acc=0.9333333373069763 weighted_loss=0.09311830997467041 ucc_loss=0.09311830997467041 ae_loss=0 eval: ucc_acc=1.0 weighted_loss=0.01998114213347435 ucc_loss=0.01998114213347435 ae_loss=0\n"
     ]
    },
    {
     "name": "stderr",
     "output_type": "stream",
     "text": [
      " 80%|████████  | 16100/20009 [1:28:43<22:12,  2.93it/s]"
     ]
    },
    {
     "name": "stdout",
     "output_type": "stream",
     "text": [
      "Step 76091, training: ucc_acc=1.0 weighted_loss=0.01910717971622944 ucc_loss=0.01910717971622944 ae_loss=0 eval: ucc_acc=1.0 weighted_loss=0.0457981675863266 ucc_loss=0.0457981675863266 ae_loss=0\n"
     ]
    },
    {
     "name": "stderr",
     "output_type": "stream",
     "text": [
      " 81%|████████  | 16110/20009 [1:28:46<22:42,  2.86it/s]"
     ]
    },
    {
     "name": "stdout",
     "output_type": "stream",
     "text": [
      "Step 76101, training: ucc_acc=1.0 weighted_loss=0.008000461384654045 ucc_loss=0.008000461384654045 ae_loss=0 eval: ucc_acc=1.0 weighted_loss=0.0071615488268435 ucc_loss=0.0071615488268435 ae_loss=0\n"
     ]
    },
    {
     "name": "stderr",
     "output_type": "stream",
     "text": [
      " 81%|████████  | 16120/20009 [1:28:50<22:10,  2.92it/s]"
     ]
    },
    {
     "name": "stdout",
     "output_type": "stream",
     "text": [
      "Step 76111, training: ucc_acc=1.0 weighted_loss=0.003086540848016739 ucc_loss=0.003086540848016739 ae_loss=0 eval: ucc_acc=1.0 weighted_loss=0.0002349559945287183 ucc_loss=0.0002349559945287183 ae_loss=0\n"
     ]
    },
    {
     "name": "stderr",
     "output_type": "stream",
     "text": [
      " 81%|████████  | 16130/20009 [1:28:53<22:11,  2.91it/s]"
     ]
    },
    {
     "name": "stdout",
     "output_type": "stream",
     "text": [
      "Step 76121, training: ucc_acc=1.0 weighted_loss=0.007273463532328606 ucc_loss=0.007273463532328606 ae_loss=0 eval: ucc_acc=1.0 weighted_loss=0.00019167223945260048 ucc_loss=0.00019167223945260048 ae_loss=0\n"
     ]
    },
    {
     "name": "stderr",
     "output_type": "stream",
     "text": [
      " 81%|████████  | 16140/20009 [1:28:56<21:50,  2.95it/s]"
     ]
    },
    {
     "name": "stdout",
     "output_type": "stream",
     "text": [
      "Step 76131, training: ucc_acc=1.0 weighted_loss=0.004861858207732439 ucc_loss=0.004861858207732439 ae_loss=0 eval: ucc_acc=1.0 weighted_loss=0.015975499525666237 ucc_loss=0.015975499525666237 ae_loss=0\n"
     ]
    },
    {
     "name": "stderr",
     "output_type": "stream",
     "text": [
      " 81%|████████  | 16150/20009 [1:28:59<22:03,  2.92it/s]"
     ]
    },
    {
     "name": "stdout",
     "output_type": "stream",
     "text": [
      "Step 76141, training: ucc_acc=1.0 weighted_loss=0.013812470249831676 ucc_loss=0.013812470249831676 ae_loss=0 eval: ucc_acc=1.0 weighted_loss=0.023068876937031746 ucc_loss=0.023068876937031746 ae_loss=0\n"
     ]
    },
    {
     "name": "stderr",
     "output_type": "stream",
     "text": [
      " 81%|████████  | 16160/20009 [1:29:02<22:28,  2.85it/s]"
     ]
    },
    {
     "name": "stdout",
     "output_type": "stream",
     "text": [
      "Step 76151, training: ucc_acc=1.0 weighted_loss=0.007056899834424257 ucc_loss=0.007056899834424257 ae_loss=0 eval: ucc_acc=1.0 weighted_loss=0.0005229275557212532 ucc_loss=0.0005229275557212532 ae_loss=0\n"
     ]
    },
    {
     "name": "stderr",
     "output_type": "stream",
     "text": [
      " 81%|████████  | 16170/20009 [1:29:05<22:00,  2.91it/s]"
     ]
    },
    {
     "name": "stdout",
     "output_type": "stream",
     "text": [
      "Step 76161, training: ucc_acc=1.0 weighted_loss=0.016094576567411423 ucc_loss=0.016094576567411423 ae_loss=0 eval: ucc_acc=1.0 weighted_loss=0.03173215687274933 ucc_loss=0.03173215687274933 ae_loss=0\n"
     ]
    },
    {
     "name": "stderr",
     "output_type": "stream",
     "text": [
      " 81%|████████  | 16180/20009 [1:29:08<21:45,  2.93it/s]"
     ]
    },
    {
     "name": "stdout",
     "output_type": "stream",
     "text": [
      "Step 76171, training: ucc_acc=1.0 weighted_loss=0.0009649795829318464 ucc_loss=0.0009649795829318464 ae_loss=0 eval: ucc_acc=1.0 weighted_loss=0.011103978380560875 ucc_loss=0.011103978380560875 ae_loss=0\n"
     ]
    },
    {
     "name": "stderr",
     "output_type": "stream",
     "text": [
      " 81%|████████  | 16190/20009 [1:29:12<22:21,  2.85it/s]"
     ]
    },
    {
     "name": "stdout",
     "output_type": "stream",
     "text": [
      "Step 76181, training: ucc_acc=1.0 weighted_loss=0.0053160060197114944 ucc_loss=0.0053160060197114944 ae_loss=0 eval: ucc_acc=1.0 weighted_loss=0.00858569797128439 ucc_loss=0.00858569797128439 ae_loss=0\n"
     ]
    },
    {
     "name": "stderr",
     "output_type": "stream",
     "text": [
      " 81%|████████  | 16200/20009 [1:29:15<22:13,  2.86it/s]"
     ]
    },
    {
     "name": "stdout",
     "output_type": "stream",
     "text": [
      "Step 76191, training: ucc_acc=1.0 weighted_loss=0.0001402615016559139 ucc_loss=0.0001402615016559139 ae_loss=0 eval: ucc_acc=1.0 weighted_loss=0.007695998530834913 ucc_loss=0.007695998530834913 ae_loss=0\n"
     ]
    },
    {
     "name": "stderr",
     "output_type": "stream",
     "text": [
      " 81%|████████  | 16210/20009 [1:29:18<22:18,  2.84it/s]"
     ]
    },
    {
     "name": "stdout",
     "output_type": "stream",
     "text": [
      "Step 76201, training: ucc_acc=1.0 weighted_loss=0.006962105631828308 ucc_loss=0.006962105631828308 ae_loss=0 eval: ucc_acc=1.0 weighted_loss=0.005165250971913338 ucc_loss=0.005165250971913338 ae_loss=0\n"
     ]
    },
    {
     "name": "stderr",
     "output_type": "stream",
     "text": [
      " 81%|████████  | 16220/20009 [1:29:21<21:35,  2.92it/s]"
     ]
    },
    {
     "name": "stdout",
     "output_type": "stream",
     "text": [
      "Step 76211, training: ucc_acc=1.0 weighted_loss=0.0029916579369455576 ucc_loss=0.0029916579369455576 ae_loss=0 eval: ucc_acc=0.9333333373069763 weighted_loss=0.0647016391158104 ucc_loss=0.0647016391158104 ae_loss=0\n"
     ]
    },
    {
     "name": "stderr",
     "output_type": "stream",
     "text": [
      " 81%|████████  | 16230/20009 [1:29:25<22:08,  2.85it/s]"
     ]
    },
    {
     "name": "stdout",
     "output_type": "stream",
     "text": [
      "Step 76221, training: ucc_acc=0.9333333373069763 weighted_loss=0.09247107803821564 ucc_loss=0.09247107803821564 ae_loss=0 eval: ucc_acc=1.0 weighted_loss=0.013092574663460255 ucc_loss=0.013092574663460255 ae_loss=0\n"
     ]
    },
    {
     "name": "stderr",
     "output_type": "stream",
     "text": [
      " 81%|████████  | 16240/20009 [1:29:28<22:00,  2.85it/s]"
     ]
    },
    {
     "name": "stdout",
     "output_type": "stream",
     "text": [
      "Step 76231, training: ucc_acc=1.0 weighted_loss=0.02259702794253826 ucc_loss=0.02259702794253826 ae_loss=0 eval: ucc_acc=1.0 weighted_loss=0.004308624658733606 ucc_loss=0.004308624658733606 ae_loss=0\n"
     ]
    },
    {
     "name": "stderr",
     "output_type": "stream",
     "text": [
      " 81%|████████  | 16250/20009 [1:29:31<21:35,  2.90it/s]"
     ]
    },
    {
     "name": "stdout",
     "output_type": "stream",
     "text": [
      "Step 76241, training: ucc_acc=1.0 weighted_loss=0.009785701520740986 ucc_loss=0.009785701520740986 ae_loss=0 eval: ucc_acc=1.0 weighted_loss=5.61550295969937e-05 ucc_loss=5.61550295969937e-05 ae_loss=0\n"
     ]
    },
    {
     "name": "stderr",
     "output_type": "stream",
     "text": [
      " 81%|████████▏ | 16260/20009 [1:29:34<22:01,  2.84it/s]"
     ]
    },
    {
     "name": "stdout",
     "output_type": "stream",
     "text": [
      "Step 76251, training: ucc_acc=1.0 weighted_loss=0.006003818940371275 ucc_loss=0.006003818940371275 ae_loss=0 eval: ucc_acc=0.9333333373069763 weighted_loss=0.17039969563484192 ucc_loss=0.17039969563484192 ae_loss=0\n"
     ]
    },
    {
     "name": "stderr",
     "output_type": "stream",
     "text": [
      " 81%|████████▏ | 16270/20009 [1:29:37<21:54,  2.84it/s]"
     ]
    },
    {
     "name": "stdout",
     "output_type": "stream",
     "text": [
      "Step 76261, training: ucc_acc=1.0 weighted_loss=0.01752421446144581 ucc_loss=0.01752421446144581 ae_loss=0 eval: ucc_acc=1.0 weighted_loss=0.006460137199610472 ucc_loss=0.006460137199610472 ae_loss=0\n"
     ]
    },
    {
     "name": "stderr",
     "output_type": "stream",
     "text": [
      " 81%|████████▏ | 16280/20009 [1:29:41<22:29,  2.76it/s]"
     ]
    },
    {
     "name": "stdout",
     "output_type": "stream",
     "text": [
      "Step 76271, training: ucc_acc=1.0 weighted_loss=0.01479758508503437 ucc_loss=0.01479758508503437 ae_loss=0 eval: ucc_acc=0.9333333373069763 weighted_loss=0.09620442241430283 ucc_loss=0.09620442241430283 ae_loss=0\n"
     ]
    },
    {
     "name": "stderr",
     "output_type": "stream",
     "text": [
      " 81%|████████▏ | 16290/20009 [1:29:44<21:21,  2.90it/s]"
     ]
    },
    {
     "name": "stdout",
     "output_type": "stream",
     "text": [
      "Step 76281, training: ucc_acc=1.0 weighted_loss=0.0003168803232256323 ucc_loss=0.0003168803232256323 ae_loss=0 eval: ucc_acc=1.0 weighted_loss=0.0011467464501038194 ucc_loss=0.0011467464501038194 ae_loss=0\n"
     ]
    },
    {
     "name": "stderr",
     "output_type": "stream",
     "text": [
      " 81%|████████▏ | 16300/20009 [1:29:47<21:58,  2.81it/s]"
     ]
    },
    {
     "name": "stdout",
     "output_type": "stream",
     "text": [
      "Step 76291, training: ucc_acc=1.0 weighted_loss=0.0227483082562685 ucc_loss=0.0227483082562685 ae_loss=0 eval: ucc_acc=1.0 weighted_loss=0.0010693335207179189 ucc_loss=0.0010693335207179189 ae_loss=0\n"
     ]
    },
    {
     "name": "stderr",
     "output_type": "stream",
     "text": [
      " 82%|████████▏ | 16310/20009 [1:29:50<20:42,  2.98it/s]"
     ]
    },
    {
     "name": "stdout",
     "output_type": "stream",
     "text": [
      "Step 76301, training: ucc_acc=1.0 weighted_loss=0.007914322428405285 ucc_loss=0.007914322428405285 ae_loss=0 eval: ucc_acc=0.9333333373069763 weighted_loss=0.07108290493488312 ucc_loss=0.07108290493488312 ae_loss=0\n"
     ]
    },
    {
     "name": "stderr",
     "output_type": "stream",
     "text": [
      " 82%|████████▏ | 16320/20009 [1:29:53<20:56,  2.94it/s]"
     ]
    },
    {
     "name": "stdout",
     "output_type": "stream",
     "text": [
      "Step 76311, training: ucc_acc=1.0 weighted_loss=0.005930472631007433 ucc_loss=0.005930472631007433 ae_loss=0 eval: ucc_acc=1.0 weighted_loss=0.01807970553636551 ucc_loss=0.01807970553636551 ae_loss=0\n"
     ]
    },
    {
     "name": "stderr",
     "output_type": "stream",
     "text": [
      " 82%|████████▏ | 16330/20009 [1:29:56<20:55,  2.93it/s]"
     ]
    },
    {
     "name": "stdout",
     "output_type": "stream",
     "text": [
      "Step 76321, training: ucc_acc=0.9333333373069763 weighted_loss=0.13614967465400696 ucc_loss=0.13614967465400696 ae_loss=0 eval: ucc_acc=1.0 weighted_loss=0.020373141393065453 ucc_loss=0.020373141393065453 ae_loss=0\n"
     ]
    },
    {
     "name": "stderr",
     "output_type": "stream",
     "text": [
      " 82%|████████▏ | 16340/20009 [1:30:00<20:45,  2.95it/s]"
     ]
    },
    {
     "name": "stdout",
     "output_type": "stream",
     "text": [
      "Step 76331, training: ucc_acc=1.0 weighted_loss=0.007383011747151613 ucc_loss=0.007383011747151613 ae_loss=0 eval: ucc_acc=1.0 weighted_loss=0.0002278044557897374 ucc_loss=0.0002278044557897374 ae_loss=0\n"
     ]
    },
    {
     "name": "stderr",
     "output_type": "stream",
     "text": [
      " 82%|████████▏ | 16350/20009 [1:30:03<21:00,  2.90it/s]"
     ]
    },
    {
     "name": "stdout",
     "output_type": "stream",
     "text": [
      "Step 76341, training: ucc_acc=0.9333333373069763 weighted_loss=0.09833517670631409 ucc_loss=0.09833517670631409 ae_loss=0 eval: ucc_acc=1.0 weighted_loss=0.0079946992918849 ucc_loss=0.0079946992918849 ae_loss=0\n"
     ]
    },
    {
     "name": "stderr",
     "output_type": "stream",
     "text": [
      " 82%|████████▏ | 16360/20009 [1:30:06<22:01,  2.76it/s]"
     ]
    },
    {
     "name": "stdout",
     "output_type": "stream",
     "text": [
      "Step 76351, training: ucc_acc=1.0 weighted_loss=0.02271186374127865 ucc_loss=0.02271186374127865 ae_loss=0 eval: ucc_acc=1.0 weighted_loss=0.0001255858805961907 ucc_loss=0.0001255858805961907 ae_loss=0\n"
     ]
    },
    {
     "name": "stderr",
     "output_type": "stream",
     "text": [
      " 82%|████████▏ | 16370/20009 [1:30:09<20:51,  2.91it/s]"
     ]
    },
    {
     "name": "stdout",
     "output_type": "stream",
     "text": [
      "Step 76361, training: ucc_acc=1.0 weighted_loss=0.005567468237131834 ucc_loss=0.005567468237131834 ae_loss=0 eval: ucc_acc=1.0 weighted_loss=0.014094873331487179 ucc_loss=0.014094873331487179 ae_loss=0\n"
     ]
    },
    {
     "name": "stderr",
     "output_type": "stream",
     "text": [
      " 82%|████████▏ | 16380/20009 [1:30:12<20:49,  2.91it/s]"
     ]
    },
    {
     "name": "stdout",
     "output_type": "stream",
     "text": [
      "Step 76371, training: ucc_acc=1.0 weighted_loss=0.005872935056686401 ucc_loss=0.005872935056686401 ae_loss=0 eval: ucc_acc=1.0 weighted_loss=0.00039463548455387354 ucc_loss=0.00039463548455387354 ae_loss=0\n"
     ]
    },
    {
     "name": "stderr",
     "output_type": "stream",
     "text": [
      " 82%|████████▏ | 16390/20009 [1:30:15<20:57,  2.88it/s]"
     ]
    },
    {
     "name": "stdout",
     "output_type": "stream",
     "text": [
      "Step 76381, training: ucc_acc=0.9333333373069763 weighted_loss=0.18702180683612823 ucc_loss=0.18702180683612823 ae_loss=0 eval: ucc_acc=1.0 weighted_loss=0.007021118421107531 ucc_loss=0.007021118421107531 ae_loss=0\n"
     ]
    },
    {
     "name": "stderr",
     "output_type": "stream",
     "text": [
      " 82%|████████▏ | 16400/20009 [1:30:19<20:37,  2.92it/s]"
     ]
    },
    {
     "name": "stdout",
     "output_type": "stream",
     "text": [
      "Step 76391, training: ucc_acc=1.0 weighted_loss=0.06989095360040665 ucc_loss=0.06989095360040665 ae_loss=0 eval: ucc_acc=1.0 weighted_loss=0.010325431823730469 ucc_loss=0.010325431823730469 ae_loss=0\n"
     ]
    },
    {
     "name": "stderr",
     "output_type": "stream",
     "text": [
      " 82%|████████▏ | 16410/20009 [1:30:22<20:24,  2.94it/s]"
     ]
    },
    {
     "name": "stdout",
     "output_type": "stream",
     "text": [
      "Step 76401, training: ucc_acc=1.0 weighted_loss=0.014848326332867146 ucc_loss=0.014848326332867146 ae_loss=0 eval: ucc_acc=1.0 weighted_loss=0.006247674115002155 ucc_loss=0.006247674115002155 ae_loss=0\n"
     ]
    },
    {
     "name": "stderr",
     "output_type": "stream",
     "text": [
      " 82%|████████▏ | 16420/20009 [1:30:25<20:45,  2.88it/s]"
     ]
    },
    {
     "name": "stdout",
     "output_type": "stream",
     "text": [
      "Step 76411, training: ucc_acc=1.0 weighted_loss=0.02273196540772915 ucc_loss=0.02273196540772915 ae_loss=0 eval: ucc_acc=0.9333333373069763 weighted_loss=0.10145214200019836 ucc_loss=0.10145214200019836 ae_loss=0\n"
     ]
    },
    {
     "name": "stderr",
     "output_type": "stream",
     "text": [
      " 82%|████████▏ | 16430/20009 [1:30:28<20:27,  2.92it/s]"
     ]
    },
    {
     "name": "stdout",
     "output_type": "stream",
     "text": [
      "Step 76421, training: ucc_acc=1.0 weighted_loss=0.015173216350376606 ucc_loss=0.015173216350376606 ae_loss=0 eval: ucc_acc=1.0 weighted_loss=0.01488562859594822 ucc_loss=0.01488562859594822 ae_loss=0\n"
     ]
    },
    {
     "name": "stderr",
     "output_type": "stream",
     "text": [
      " 82%|████████▏ | 16440/20009 [1:30:31<20:38,  2.88it/s]"
     ]
    },
    {
     "name": "stdout",
     "output_type": "stream",
     "text": [
      "Step 76431, training: ucc_acc=1.0 weighted_loss=0.010330247692763805 ucc_loss=0.010330247692763805 ae_loss=0 eval: ucc_acc=1.0 weighted_loss=0.008686427026987076 ucc_loss=0.008686427026987076 ae_loss=0\n"
     ]
    },
    {
     "name": "stderr",
     "output_type": "stream",
     "text": [
      " 82%|████████▏ | 16450/20009 [1:30:34<20:18,  2.92it/s]"
     ]
    },
    {
     "name": "stdout",
     "output_type": "stream",
     "text": [
      "Step 76441, training: ucc_acc=1.0 weighted_loss=0.0018219068879261613 ucc_loss=0.0018219068879261613 ae_loss=0 eval: ucc_acc=1.0 weighted_loss=0.0024484095629304647 ucc_loss=0.0024484095629304647 ae_loss=0\n"
     ]
    },
    {
     "name": "stderr",
     "output_type": "stream",
     "text": [
      " 82%|████████▏ | 16460/20009 [1:30:37<20:48,  2.84it/s]"
     ]
    },
    {
     "name": "stdout",
     "output_type": "stream",
     "text": [
      "Step 76451, training: ucc_acc=1.0 weighted_loss=0.008227011188864708 ucc_loss=0.008227011188864708 ae_loss=0 eval: ucc_acc=1.0 weighted_loss=0.0010420880280435085 ucc_loss=0.0010420880280435085 ae_loss=0\n"
     ]
    },
    {
     "name": "stderr",
     "output_type": "stream",
     "text": [
      " 82%|████████▏ | 16470/20009 [1:30:41<20:08,  2.93it/s]"
     ]
    },
    {
     "name": "stdout",
     "output_type": "stream",
     "text": [
      "Step 76461, training: ucc_acc=1.0 weighted_loss=0.01045103371143341 ucc_loss=0.01045103371143341 ae_loss=0 eval: ucc_acc=1.0 weighted_loss=0.014382751658558846 ucc_loss=0.014382751658558846 ae_loss=0\n"
     ]
    },
    {
     "name": "stderr",
     "output_type": "stream",
     "text": [
      " 82%|████████▏ | 16480/20009 [1:30:44<20:21,  2.89it/s]"
     ]
    },
    {
     "name": "stdout",
     "output_type": "stream",
     "text": [
      "Step 76471, training: ucc_acc=1.0 weighted_loss=0.011073945090174675 ucc_loss=0.011073945090174675 ae_loss=0 eval: ucc_acc=1.0 weighted_loss=0.0016912060091271996 ucc_loss=0.0016912060091271996 ae_loss=0\n"
     ]
    },
    {
     "name": "stderr",
     "output_type": "stream",
     "text": [
      " 82%|████████▏ | 16490/20009 [1:30:47<20:29,  2.86it/s]"
     ]
    },
    {
     "name": "stdout",
     "output_type": "stream",
     "text": [
      "Step 76481, training: ucc_acc=1.0 weighted_loss=0.01621926948428154 ucc_loss=0.01621926948428154 ae_loss=0 eval: ucc_acc=1.0 weighted_loss=0.011762299574911594 ucc_loss=0.011762299574911594 ae_loss=0\n"
     ]
    },
    {
     "name": "stderr",
     "output_type": "stream",
     "text": [
      " 82%|████████▏ | 16500/20009 [1:30:50<20:07,  2.91it/s]"
     ]
    },
    {
     "name": "stdout",
     "output_type": "stream",
     "text": [
      "Step 76491, training: ucc_acc=1.0 weighted_loss=0.020232712849974632 ucc_loss=0.020232712849974632 ae_loss=0 eval: ucc_acc=1.0 weighted_loss=0.029207099229097366 ucc_loss=0.029207099229097366 ae_loss=0\n"
     ]
    },
    {
     "name": "stderr",
     "output_type": "stream",
     "text": [
      " 83%|████████▎ | 16510/20009 [1:30:53<19:46,  2.95it/s]"
     ]
    },
    {
     "name": "stdout",
     "output_type": "stream",
     "text": [
      "Step 76501, training: ucc_acc=1.0 weighted_loss=0.0025620399974286556 ucc_loss=0.0025620399974286556 ae_loss=0 eval: ucc_acc=0.9333333373069763 weighted_loss=0.11767251044511795 ucc_loss=0.11767251044511795 ae_loss=0\n"
     ]
    },
    {
     "name": "stderr",
     "output_type": "stream",
     "text": [
      " 83%|████████▎ | 16520/20009 [1:30:56<19:37,  2.96it/s]"
     ]
    },
    {
     "name": "stdout",
     "output_type": "stream",
     "text": [
      "Step 76511, training: ucc_acc=1.0 weighted_loss=0.014593994244933128 ucc_loss=0.014593994244933128 ae_loss=0 eval: ucc_acc=1.0 weighted_loss=0.00986892357468605 ucc_loss=0.00986892357468605 ae_loss=0\n"
     ]
    },
    {
     "name": "stderr",
     "output_type": "stream",
     "text": [
      " 83%|████████▎ | 16530/20009 [1:30:59<19:45,  2.94it/s]"
     ]
    },
    {
     "name": "stdout",
     "output_type": "stream",
     "text": [
      "Step 76521, training: ucc_acc=1.0 weighted_loss=0.00012836468522436917 ucc_loss=0.00012836468522436917 ae_loss=0 eval: ucc_acc=1.0 weighted_loss=0.00046301729162223637 ucc_loss=0.00046301729162223637 ae_loss=0\n"
     ]
    },
    {
     "name": "stderr",
     "output_type": "stream",
     "text": [
      " 83%|████████▎ | 16540/20009 [1:31:03<20:09,  2.87it/s]"
     ]
    },
    {
     "name": "stdout",
     "output_type": "stream",
     "text": [
      "Step 76531, training: ucc_acc=1.0 weighted_loss=0.005460458341985941 ucc_loss=0.005460458341985941 ae_loss=0 eval: ucc_acc=1.0 weighted_loss=0.02791045792400837 ucc_loss=0.02791045792400837 ae_loss=0\n"
     ]
    },
    {
     "name": "stderr",
     "output_type": "stream",
     "text": [
      " 83%|████████▎ | 16550/20009 [1:31:06<20:22,  2.83it/s]"
     ]
    },
    {
     "name": "stdout",
     "output_type": "stream",
     "text": [
      "Step 76541, training: ucc_acc=1.0 weighted_loss=0.00045929712359793484 ucc_loss=0.00045929712359793484 ae_loss=0 eval: ucc_acc=1.0 weighted_loss=0.005718908738344908 ucc_loss=0.005718908738344908 ae_loss=0\n"
     ]
    },
    {
     "name": "stderr",
     "output_type": "stream",
     "text": [
      " 83%|████████▎ | 16560/20009 [1:31:09<19:40,  2.92it/s]"
     ]
    },
    {
     "name": "stdout",
     "output_type": "stream",
     "text": [
      "Step 76551, training: ucc_acc=1.0 weighted_loss=0.005778662860393524 ucc_loss=0.005778662860393524 ae_loss=0 eval: ucc_acc=1.0 weighted_loss=0.010932291857898235 ucc_loss=0.010932291857898235 ae_loss=0\n"
     ]
    },
    {
     "name": "stderr",
     "output_type": "stream",
     "text": [
      " 83%|████████▎ | 16570/20009 [1:31:12<20:03,  2.86it/s]"
     ]
    },
    {
     "name": "stdout",
     "output_type": "stream",
     "text": [
      "Step 76561, training: ucc_acc=1.0 weighted_loss=0.018876248970627785 ucc_loss=0.018876248970627785 ae_loss=0 eval: ucc_acc=1.0 weighted_loss=0.017402978613972664 ucc_loss=0.017402978613972664 ae_loss=0\n"
     ]
    },
    {
     "name": "stderr",
     "output_type": "stream",
     "text": [
      " 83%|████████▎ | 16580/20009 [1:31:15<19:57,  2.86it/s]"
     ]
    },
    {
     "name": "stdout",
     "output_type": "stream",
     "text": [
      "Step 76571, training: ucc_acc=1.0 weighted_loss=0.00824577547609806 ucc_loss=0.00824577547609806 ae_loss=0 eval: ucc_acc=1.0 weighted_loss=0.0010766839841380715 ucc_loss=0.0010766839841380715 ae_loss=0\n"
     ]
    },
    {
     "name": "stderr",
     "output_type": "stream",
     "text": [
      " 83%|████████▎ | 16590/20009 [1:31:19<22:14,  2.56it/s]"
     ]
    },
    {
     "name": "stdout",
     "output_type": "stream",
     "text": [
      "Step 76581, training: ucc_acc=0.9333333373069763 weighted_loss=0.08497216552495956 ucc_loss=0.08497216552495956 ae_loss=0 eval: ucc_acc=1.0 weighted_loss=0.014324071817100048 ucc_loss=0.014324071817100048 ae_loss=0\n"
     ]
    },
    {
     "name": "stderr",
     "output_type": "stream",
     "text": [
      " 83%|████████▎ | 16600/20009 [1:31:22<19:35,  2.90it/s]"
     ]
    },
    {
     "name": "stdout",
     "output_type": "stream",
     "text": [
      "Step 76591, training: ucc_acc=1.0 weighted_loss=0.006346080917865038 ucc_loss=0.006346080917865038 ae_loss=0 eval: ucc_acc=1.0 weighted_loss=0.018835676833987236 ucc_loss=0.018835676833987236 ae_loss=0\n"
     ]
    },
    {
     "name": "stderr",
     "output_type": "stream",
     "text": [
      " 83%|████████▎ | 16610/20009 [1:31:25<19:54,  2.85it/s]"
     ]
    },
    {
     "name": "stdout",
     "output_type": "stream",
     "text": [
      "Step 76601, training: ucc_acc=1.0 weighted_loss=0.008153606206178665 ucc_loss=0.008153606206178665 ae_loss=0 eval: ucc_acc=1.0 weighted_loss=0.016834473237395287 ucc_loss=0.016834473237395287 ae_loss=0\n"
     ]
    },
    {
     "name": "stderr",
     "output_type": "stream",
     "text": [
      " 83%|████████▎ | 16620/20009 [1:31:28<19:36,  2.88it/s]"
     ]
    },
    {
     "name": "stdout",
     "output_type": "stream",
     "text": [
      "Step 76611, training: ucc_acc=1.0 weighted_loss=0.005438318941742182 ucc_loss=0.005438318941742182 ae_loss=0 eval: ucc_acc=1.0 weighted_loss=0.0009876101976260543 ucc_loss=0.0009876101976260543 ae_loss=0\n"
     ]
    },
    {
     "name": "stderr",
     "output_type": "stream",
     "text": [
      " 83%|████████▎ | 16630/20009 [1:31:31<19:11,  2.93it/s]"
     ]
    },
    {
     "name": "stdout",
     "output_type": "stream",
     "text": [
      "Step 76621, training: ucc_acc=1.0 weighted_loss=0.0014192612143233418 ucc_loss=0.0014192612143233418 ae_loss=0 eval: ucc_acc=1.0 weighted_loss=0.008080614730715752 ucc_loss=0.008080614730715752 ae_loss=0\n"
     ]
    },
    {
     "name": "stderr",
     "output_type": "stream",
     "text": [
      " 83%|████████▎ | 16640/20009 [1:31:34<19:19,  2.90it/s]"
     ]
    },
    {
     "name": "stdout",
     "output_type": "stream",
     "text": [
      "Step 76631, training: ucc_acc=0.9333333373069763 weighted_loss=0.14741794764995575 ucc_loss=0.14741794764995575 ae_loss=0 eval: ucc_acc=1.0 weighted_loss=0.0019751975778490305 ucc_loss=0.0019751975778490305 ae_loss=0\n"
     ]
    },
    {
     "name": "stderr",
     "output_type": "stream",
     "text": [
      " 83%|████████▎ | 16650/20009 [1:31:37<18:51,  2.97it/s]"
     ]
    },
    {
     "name": "stdout",
     "output_type": "stream",
     "text": [
      "Step 76641, training: ucc_acc=1.0 weighted_loss=0.01152884028851986 ucc_loss=0.01152884028851986 ae_loss=0 eval: ucc_acc=1.0 weighted_loss=0.012543389573693275 ucc_loss=0.012543389573693275 ae_loss=0\n"
     ]
    },
    {
     "name": "stderr",
     "output_type": "stream",
     "text": [
      " 83%|████████▎ | 16660/20009 [1:31:41<19:12,  2.91it/s]"
     ]
    },
    {
     "name": "stdout",
     "output_type": "stream",
     "text": [
      "Step 76651, training: ucc_acc=1.0 weighted_loss=0.003519047750160098 ucc_loss=0.003519047750160098 ae_loss=0 eval: ucc_acc=1.0 weighted_loss=0.01711583137512207 ucc_loss=0.01711583137512207 ae_loss=0\n"
     ]
    },
    {
     "name": "stderr",
     "output_type": "stream",
     "text": [
      " 83%|████████▎ | 16670/20009 [1:31:44<18:31,  3.00it/s]"
     ]
    },
    {
     "name": "stdout",
     "output_type": "stream",
     "text": [
      "Step 76661, training: ucc_acc=1.0 weighted_loss=0.002070368267595768 ucc_loss=0.002070368267595768 ae_loss=0 eval: ucc_acc=0.9333333373069763 weighted_loss=0.14524076879024506 ucc_loss=0.14524076879024506 ae_loss=0\n"
     ]
    },
    {
     "name": "stderr",
     "output_type": "stream",
     "text": [
      " 83%|████████▎ | 16680/20009 [1:31:47<19:26,  2.85it/s]"
     ]
    },
    {
     "name": "stdout",
     "output_type": "stream",
     "text": [
      "Step 76671, training: ucc_acc=1.0 weighted_loss=0.013130521401762962 ucc_loss=0.013130521401762962 ae_loss=0 eval: ucc_acc=1.0 weighted_loss=0.00018189888214692473 ucc_loss=0.00018189888214692473 ae_loss=0\n"
     ]
    },
    {
     "name": "stderr",
     "output_type": "stream",
     "text": [
      " 83%|████████▎ | 16690/20009 [1:31:50<18:43,  2.95it/s]"
     ]
    },
    {
     "name": "stdout",
     "output_type": "stream",
     "text": [
      "Step 76681, training: ucc_acc=1.0 weighted_loss=0.0002465173020027578 ucc_loss=0.0002465173020027578 ae_loss=0 eval: ucc_acc=1.0 weighted_loss=0.0018899202113971114 ucc_loss=0.0018899202113971114 ae_loss=0\n"
     ]
    },
    {
     "name": "stderr",
     "output_type": "stream",
     "text": [
      " 83%|████████▎ | 16700/20009 [1:31:53<18:51,  2.92it/s]"
     ]
    },
    {
     "name": "stdout",
     "output_type": "stream",
     "text": [
      "Step 76691, training: ucc_acc=1.0 weighted_loss=0.0007429625256918371 ucc_loss=0.0007429625256918371 ae_loss=0 eval: ucc_acc=1.0 weighted_loss=0.028653254732489586 ucc_loss=0.028653254732489586 ae_loss=0\n"
     ]
    },
    {
     "name": "stderr",
     "output_type": "stream",
     "text": [
      " 84%|████████▎ | 16710/20009 [1:31:56<18:59,  2.90it/s]"
     ]
    },
    {
     "name": "stdout",
     "output_type": "stream",
     "text": [
      "Step 76701, training: ucc_acc=1.0 weighted_loss=0.0011531115742400289 ucc_loss=0.0011531115742400289 ae_loss=0 eval: ucc_acc=1.0 weighted_loss=0.0003457356942817569 ucc_loss=0.0003457356942817569 ae_loss=0\n"
     ]
    },
    {
     "name": "stderr",
     "output_type": "stream",
     "text": [
      " 84%|████████▎ | 16720/20009 [1:31:59<18:41,  2.93it/s]"
     ]
    },
    {
     "name": "stdout",
     "output_type": "stream",
     "text": [
      "Step 76711, training: ucc_acc=1.0 weighted_loss=0.0028182524256408215 ucc_loss=0.0028182524256408215 ae_loss=0 eval: ucc_acc=1.0 weighted_loss=0.009699685499072075 ucc_loss=0.009699685499072075 ae_loss=0\n"
     ]
    },
    {
     "name": "stderr",
     "output_type": "stream",
     "text": [
      " 84%|████████▎ | 16730/20009 [1:32:02<18:19,  2.98it/s]"
     ]
    },
    {
     "name": "stdout",
     "output_type": "stream",
     "text": [
      "Step 76721, training: ucc_acc=1.0 weighted_loss=0.01365901343524456 ucc_loss=0.01365901343524456 ae_loss=0 eval: ucc_acc=0.9333333373069763 weighted_loss=0.10739918053150177 ucc_loss=0.10739918053150177 ae_loss=0\n"
     ]
    },
    {
     "name": "stderr",
     "output_type": "stream",
     "text": [
      " 84%|████████▎ | 16740/20009 [1:32:06<18:53,  2.88it/s]"
     ]
    },
    {
     "name": "stdout",
     "output_type": "stream",
     "text": [
      "Step 76731, training: ucc_acc=1.0 weighted_loss=0.003700261702761054 ucc_loss=0.003700261702761054 ae_loss=0 eval: ucc_acc=1.0 weighted_loss=0.015499619767069817 ucc_loss=0.015499619767069817 ae_loss=0\n"
     ]
    },
    {
     "name": "stderr",
     "output_type": "stream",
     "text": [
      " 84%|████████▎ | 16750/20009 [1:32:09<18:28,  2.94it/s]"
     ]
    },
    {
     "name": "stdout",
     "output_type": "stream",
     "text": [
      "Step 76741, training: ucc_acc=0.9333333373069763 weighted_loss=0.10698400437831879 ucc_loss=0.10698400437831879 ae_loss=0 eval: ucc_acc=0.9333333373069763 weighted_loss=0.08803915232419968 ucc_loss=0.08803915232419968 ae_loss=0\n"
     ]
    },
    {
     "name": "stderr",
     "output_type": "stream",
     "text": [
      " 84%|████████▍ | 16760/20009 [1:32:12<18:29,  2.93it/s]"
     ]
    },
    {
     "name": "stdout",
     "output_type": "stream",
     "text": [
      "Step 76751, training: ucc_acc=1.0 weighted_loss=0.017387790605425835 ucc_loss=0.017387790605425835 ae_loss=0 eval: ucc_acc=1.0 weighted_loss=0.010149122215807438 ucc_loss=0.010149122215807438 ae_loss=0\n"
     ]
    },
    {
     "name": "stderr",
     "output_type": "stream",
     "text": [
      " 84%|████████▍ | 16770/20009 [1:32:15<18:51,  2.86it/s]"
     ]
    },
    {
     "name": "stdout",
     "output_type": "stream",
     "text": [
      "Step 76761, training: ucc_acc=0.9333333373069763 weighted_loss=0.17393451929092407 ucc_loss=0.17393451929092407 ae_loss=0 eval: ucc_acc=1.0 weighted_loss=0.03987766057252884 ucc_loss=0.03987766057252884 ae_loss=0\n"
     ]
    },
    {
     "name": "stderr",
     "output_type": "stream",
     "text": [
      " 84%|████████▍ | 16780/20009 [1:32:18<19:05,  2.82it/s]"
     ]
    },
    {
     "name": "stdout",
     "output_type": "stream",
     "text": [
      "Step 76771, training: ucc_acc=1.0 weighted_loss=0.011990036815404892 ucc_loss=0.011990036815404892 ae_loss=0 eval: ucc_acc=1.0 weighted_loss=0.008598821237683296 ucc_loss=0.008598821237683296 ae_loss=0\n"
     ]
    },
    {
     "name": "stderr",
     "output_type": "stream",
     "text": [
      " 84%|████████▍ | 16790/20009 [1:32:22<18:11,  2.95it/s]"
     ]
    },
    {
     "name": "stdout",
     "output_type": "stream",
     "text": [
      "Step 76781, training: ucc_acc=1.0 weighted_loss=0.011508846655488014 ucc_loss=0.011508846655488014 ae_loss=0 eval: ucc_acc=0.9333333373069763 weighted_loss=0.1953888088464737 ucc_loss=0.1953888088464737 ae_loss=0\n"
     ]
    },
    {
     "name": "stderr",
     "output_type": "stream",
     "text": [
      " 84%|████████▍ | 16800/20009 [1:32:25<18:21,  2.91it/s]"
     ]
    },
    {
     "name": "stdout",
     "output_type": "stream",
     "text": [
      "Step 76791, training: ucc_acc=1.0 weighted_loss=0.020856110379099846 ucc_loss=0.020856110379099846 ae_loss=0 eval: ucc_acc=1.0 weighted_loss=0.0013652041088789701 ucc_loss=0.0013652041088789701 ae_loss=0\n"
     ]
    },
    {
     "name": "stderr",
     "output_type": "stream",
     "text": [
      " 84%|████████▍ | 16810/20009 [1:32:28<18:21,  2.91it/s]"
     ]
    },
    {
     "name": "stdout",
     "output_type": "stream",
     "text": [
      "Step 76801, training: ucc_acc=0.9333333373069763 weighted_loss=0.17828620970249176 ucc_loss=0.17828620970249176 ae_loss=0 eval: ucc_acc=1.0 weighted_loss=0.0009791977936401963 ucc_loss=0.0009791977936401963 ae_loss=0\n"
     ]
    },
    {
     "name": "stderr",
     "output_type": "stream",
     "text": [
      " 84%|████████▍ | 16820/20009 [1:32:31<18:38,  2.85it/s]"
     ]
    },
    {
     "name": "stdout",
     "output_type": "stream",
     "text": [
      "Step 76811, training: ucc_acc=0.9333333373069763 weighted_loss=0.11243437975645065 ucc_loss=0.11243437975645065 ae_loss=0 eval: ucc_acc=1.0 weighted_loss=0.003888319479301572 ucc_loss=0.003888319479301572 ae_loss=0\n"
     ]
    },
    {
     "name": "stderr",
     "output_type": "stream",
     "text": [
      " 84%|████████▍ | 16830/20009 [1:32:34<18:09,  2.92it/s]"
     ]
    },
    {
     "name": "stdout",
     "output_type": "stream",
     "text": [
      "Step 76821, training: ucc_acc=1.0 weighted_loss=0.01133884396404028 ucc_loss=0.01133884396404028 ae_loss=0 eval: ucc_acc=1.0 weighted_loss=0.07364685088396072 ucc_loss=0.07364685088396072 ae_loss=0\n"
     ]
    },
    {
     "name": "stderr",
     "output_type": "stream",
     "text": [
      " 84%|████████▍ | 16840/20009 [1:32:37<18:13,  2.90it/s]"
     ]
    },
    {
     "name": "stdout",
     "output_type": "stream",
     "text": [
      "Step 76831, training: ucc_acc=1.0 weighted_loss=0.00018945400370284915 ucc_loss=0.00018945400370284915 ae_loss=0 eval: ucc_acc=1.0 weighted_loss=0.037971969693899155 ucc_loss=0.037971969693899155 ae_loss=0\n"
     ]
    },
    {
     "name": "stderr",
     "output_type": "stream",
     "text": [
      " 84%|████████▍ | 16850/20009 [1:32:41<18:11,  2.89it/s]"
     ]
    },
    {
     "name": "stdout",
     "output_type": "stream",
     "text": [
      "Step 76841, training: ucc_acc=1.0 weighted_loss=0.0042985123582184315 ucc_loss=0.0042985123582184315 ae_loss=0 eval: ucc_acc=1.0 weighted_loss=0.010761030949652195 ucc_loss=0.010761030949652195 ae_loss=0\n"
     ]
    },
    {
     "name": "stderr",
     "output_type": "stream",
     "text": [
      " 84%|████████▍ | 16860/20009 [1:32:44<18:21,  2.86it/s]"
     ]
    },
    {
     "name": "stdout",
     "output_type": "stream",
     "text": [
      "Step 76851, training: ucc_acc=1.0 weighted_loss=0.021912021562457085 ucc_loss=0.021912021562457085 ae_loss=0 eval: ucc_acc=1.0 weighted_loss=0.014049411751329899 ucc_loss=0.014049411751329899 ae_loss=0\n"
     ]
    },
    {
     "name": "stderr",
     "output_type": "stream",
     "text": [
      " 84%|████████▍ | 16870/20009 [1:32:47<17:26,  3.00it/s]"
     ]
    },
    {
     "name": "stdout",
     "output_type": "stream",
     "text": [
      "Step 76861, training: ucc_acc=0.9333333373069763 weighted_loss=0.11591368168592453 ucc_loss=0.11591368168592453 ae_loss=0 eval: ucc_acc=0.9333333373069763 weighted_loss=0.06337995827198029 ucc_loss=0.06337995827198029 ae_loss=0\n"
     ]
    },
    {
     "name": "stderr",
     "output_type": "stream",
     "text": [
      " 84%|████████▍ | 16880/20009 [1:32:50<18:15,  2.86it/s]"
     ]
    },
    {
     "name": "stdout",
     "output_type": "stream",
     "text": [
      "Step 76871, training: ucc_acc=1.0 weighted_loss=0.00043996653403155506 ucc_loss=0.00043996653403155506 ae_loss=0 eval: ucc_acc=1.0 weighted_loss=0.017247198149561882 ucc_loss=0.017247198149561882 ae_loss=0\n"
     ]
    },
    {
     "name": "stderr",
     "output_type": "stream",
     "text": [
      " 84%|████████▍ | 16890/20009 [1:32:53<17:54,  2.90it/s]"
     ]
    },
    {
     "name": "stdout",
     "output_type": "stream",
     "text": [
      "Step 76881, training: ucc_acc=1.0 weighted_loss=0.008340282365679741 ucc_loss=0.008340282365679741 ae_loss=0 eval: ucc_acc=1.0 weighted_loss=0.0015547320945188403 ucc_loss=0.0015547320945188403 ae_loss=0\n"
     ]
    },
    {
     "name": "stderr",
     "output_type": "stream",
     "text": [
      " 84%|████████▍ | 16900/20009 [1:32:56<18:03,  2.87it/s]"
     ]
    },
    {
     "name": "stdout",
     "output_type": "stream",
     "text": [
      "Step 76891, training: ucc_acc=1.0 weighted_loss=3.03636297758203e-05 ucc_loss=3.03636297758203e-05 ae_loss=0 eval: ucc_acc=1.0 weighted_loss=0.008092556148767471 ucc_loss=0.008092556148767471 ae_loss=0\n"
     ]
    },
    {
     "name": "stderr",
     "output_type": "stream",
     "text": [
      " 85%|████████▍ | 16910/20009 [1:32:59<17:51,  2.89it/s]"
     ]
    },
    {
     "name": "stdout",
     "output_type": "stream",
     "text": [
      "Step 76901, training: ucc_acc=1.0 weighted_loss=0.011195674538612366 ucc_loss=0.011195674538612366 ae_loss=0 eval: ucc_acc=1.0 weighted_loss=0.055926743894815445 ucc_loss=0.055926743894815445 ae_loss=0\n"
     ]
    },
    {
     "name": "stderr",
     "output_type": "stream",
     "text": [
      " 85%|████████▍ | 16920/20009 [1:33:03<17:38,  2.92it/s]"
     ]
    },
    {
     "name": "stdout",
     "output_type": "stream",
     "text": [
      "Step 76911, training: ucc_acc=1.0 weighted_loss=0.0005361310904845595 ucc_loss=0.0005361310904845595 ae_loss=0 eval: ucc_acc=1.0 weighted_loss=0.003778996178880334 ucc_loss=0.003778996178880334 ae_loss=0\n"
     ]
    },
    {
     "name": "stderr",
     "output_type": "stream",
     "text": [
      " 85%|████████▍ | 16930/20009 [1:33:06<17:32,  2.93it/s]"
     ]
    },
    {
     "name": "stdout",
     "output_type": "stream",
     "text": [
      "Step 76921, training: ucc_acc=1.0 weighted_loss=0.00016112769662868232 ucc_loss=0.00016112769662868232 ae_loss=0 eval: ucc_acc=1.0 weighted_loss=0.018983392044901848 ucc_loss=0.018983392044901848 ae_loss=0\n"
     ]
    },
    {
     "name": "stderr",
     "output_type": "stream",
     "text": [
      " 85%|████████▍ | 16940/20009 [1:33:09<17:23,  2.94it/s]"
     ]
    },
    {
     "name": "stdout",
     "output_type": "stream",
     "text": [
      "Step 76931, training: ucc_acc=1.0 weighted_loss=0.012275753542780876 ucc_loss=0.012275753542780876 ae_loss=0 eval: ucc_acc=1.0 weighted_loss=0.011595768854022026 ucc_loss=0.011595768854022026 ae_loss=0\n"
     ]
    },
    {
     "name": "stderr",
     "output_type": "stream",
     "text": [
      " 85%|████████▍ | 16950/20009 [1:33:12<17:42,  2.88it/s]"
     ]
    },
    {
     "name": "stdout",
     "output_type": "stream",
     "text": [
      "Step 76941, training: ucc_acc=1.0 weighted_loss=0.01348082534968853 ucc_loss=0.01348082534968853 ae_loss=0 eval: ucc_acc=1.0 weighted_loss=0.04719297215342522 ucc_loss=0.04719297215342522 ae_loss=0\n"
     ]
    },
    {
     "name": "stderr",
     "output_type": "stream",
     "text": [
      " 85%|████████▍ | 16960/20009 [1:33:15<17:22,  2.93it/s]"
     ]
    },
    {
     "name": "stdout",
     "output_type": "stream",
     "text": [
      "Step 76951, training: ucc_acc=1.0 weighted_loss=0.008070719428360462 ucc_loss=0.008070719428360462 ae_loss=0 eval: ucc_acc=1.0 weighted_loss=0.003973191138356924 ucc_loss=0.003973191138356924 ae_loss=0\n"
     ]
    },
    {
     "name": "stderr",
     "output_type": "stream",
     "text": [
      " 85%|████████▍ | 16970/20009 [1:33:18<17:39,  2.87it/s]"
     ]
    },
    {
     "name": "stdout",
     "output_type": "stream",
     "text": [
      "Step 76961, training: ucc_acc=1.0 weighted_loss=0.002477718284353614 ucc_loss=0.002477718284353614 ae_loss=0 eval: ucc_acc=1.0 weighted_loss=0.00029781399643979967 ucc_loss=0.00029781399643979967 ae_loss=0\n"
     ]
    },
    {
     "name": "stderr",
     "output_type": "stream",
     "text": [
      " 85%|████████▍ | 16980/20009 [1:33:21<17:51,  2.83it/s]"
     ]
    },
    {
     "name": "stdout",
     "output_type": "stream",
     "text": [
      "Step 76971, training: ucc_acc=1.0 weighted_loss=0.000689273583702743 ucc_loss=0.000689273583702743 ae_loss=0 eval: ucc_acc=1.0 weighted_loss=0.0019434017594903708 ucc_loss=0.0019434017594903708 ae_loss=0\n"
     ]
    },
    {
     "name": "stderr",
     "output_type": "stream",
     "text": [
      " 85%|████████▍ | 16990/20009 [1:33:25<17:38,  2.85it/s]"
     ]
    },
    {
     "name": "stdout",
     "output_type": "stream",
     "text": [
      "Step 76981, training: ucc_acc=0.9333333373069763 weighted_loss=0.10609054565429688 ucc_loss=0.10609054565429688 ae_loss=0 eval: ucc_acc=1.0 weighted_loss=0.008614035323262215 ucc_loss=0.008614035323262215 ae_loss=0\n"
     ]
    },
    {
     "name": "stderr",
     "output_type": "stream",
     "text": [
      " 85%|████████▍ | 17000/20009 [1:33:28<17:01,  2.95it/s]"
     ]
    },
    {
     "name": "stdout",
     "output_type": "stream",
     "text": [
      "Step 76991, training: ucc_acc=1.0 weighted_loss=0.016230685636401176 ucc_loss=0.016230685636401176 ae_loss=0 eval: ucc_acc=1.0 weighted_loss=0.009344620630145073 ucc_loss=0.009344620630145073 ae_loss=0\n"
     ]
    },
    {
     "name": "stderr",
     "output_type": "stream",
     "text": [
      " 85%|████████▌ | 17010/20009 [1:33:31<17:11,  2.91it/s]"
     ]
    },
    {
     "name": "stdout",
     "output_type": "stream",
     "text": [
      "Step 77001, training: ucc_acc=1.0 weighted_loss=0.004996422212570906 ucc_loss=0.004996422212570906 ae_loss=0 eval: ucc_acc=1.0 weighted_loss=0.00821213610470295 ucc_loss=0.00821213610470295 ae_loss=0\n"
     ]
    },
    {
     "name": "stderr",
     "output_type": "stream",
     "text": [
      " 85%|████████▌ | 17020/20009 [1:33:34<17:04,  2.92it/s]"
     ]
    },
    {
     "name": "stdout",
     "output_type": "stream",
     "text": [
      "Step 77011, training: ucc_acc=1.0 weighted_loss=0.002573307603597641 ucc_loss=0.002573307603597641 ae_loss=0 eval: ucc_acc=0.9333333373069763 weighted_loss=0.19318212568759918 ucc_loss=0.19318212568759918 ae_loss=0\n"
     ]
    },
    {
     "name": "stderr",
     "output_type": "stream",
     "text": [
      " 85%|████████▌ | 17030/20009 [1:33:37<17:07,  2.90it/s]"
     ]
    },
    {
     "name": "stdout",
     "output_type": "stream",
     "text": [
      "Step 77021, training: ucc_acc=0.9333333373069763 weighted_loss=0.06347685307264328 ucc_loss=0.06347685307264328 ae_loss=0 eval: ucc_acc=1.0 weighted_loss=0.01014399342238903 ucc_loss=0.01014399342238903 ae_loss=0\n"
     ]
    },
    {
     "name": "stderr",
     "output_type": "stream",
     "text": [
      " 85%|████████▌ | 17040/20009 [1:33:40<17:16,  2.86it/s]"
     ]
    },
    {
     "name": "stdout",
     "output_type": "stream",
     "text": [
      "Step 77031, training: ucc_acc=1.0 weighted_loss=0.0006004221504554152 ucc_loss=0.0006004221504554152 ae_loss=0 eval: ucc_acc=1.0 weighted_loss=0.0025654833298176527 ucc_loss=0.0025654833298176527 ae_loss=0\n"
     ]
    },
    {
     "name": "stderr",
     "output_type": "stream",
     "text": [
      " 85%|████████▌ | 17050/20009 [1:33:44<17:10,  2.87it/s]"
     ]
    },
    {
     "name": "stdout",
     "output_type": "stream",
     "text": [
      "Step 77041, training: ucc_acc=1.0 weighted_loss=0.016852350905537605 ucc_loss=0.016852350905537605 ae_loss=0 eval: ucc_acc=1.0 weighted_loss=0.011988162063062191 ucc_loss=0.011988162063062191 ae_loss=0\n"
     ]
    },
    {
     "name": "stderr",
     "output_type": "stream",
     "text": [
      " 85%|████████▌ | 17060/20009 [1:33:47<17:16,  2.85it/s]"
     ]
    },
    {
     "name": "stdout",
     "output_type": "stream",
     "text": [
      "Step 77051, training: ucc_acc=1.0 weighted_loss=0.010771811939775944 ucc_loss=0.010771811939775944 ae_loss=0 eval: ucc_acc=1.0 weighted_loss=0.003347831778228283 ucc_loss=0.003347831778228283 ae_loss=0\n"
     ]
    },
    {
     "name": "stderr",
     "output_type": "stream",
     "text": [
      " 85%|████████▌ | 17070/20009 [1:33:50<17:12,  2.85it/s]"
     ]
    },
    {
     "name": "stdout",
     "output_type": "stream",
     "text": [
      "Step 77061, training: ucc_acc=1.0 weighted_loss=0.0029905708506703377 ucc_loss=0.0029905708506703377 ae_loss=0 eval: ucc_acc=1.0 weighted_loss=0.009992810897529125 ucc_loss=0.009992810897529125 ae_loss=0\n"
     ]
    },
    {
     "name": "stderr",
     "output_type": "stream",
     "text": [
      " 85%|████████▌ | 17080/20009 [1:33:53<18:16,  2.67it/s]"
     ]
    },
    {
     "name": "stdout",
     "output_type": "stream",
     "text": [
      "Step 77071, training: ucc_acc=0.9333333373069763 weighted_loss=0.05372310057282448 ucc_loss=0.05372310057282448 ae_loss=0 eval: ucc_acc=1.0 weighted_loss=0.006066866219043732 ucc_loss=0.006066866219043732 ae_loss=0\n"
     ]
    },
    {
     "name": "stderr",
     "output_type": "stream",
     "text": [
      " 85%|████████▌ | 17090/20009 [1:33:56<17:37,  2.76it/s]"
     ]
    },
    {
     "name": "stdout",
     "output_type": "stream",
     "text": [
      "Step 77081, training: ucc_acc=1.0 weighted_loss=0.0073221600614488125 ucc_loss=0.0073221600614488125 ae_loss=0 eval: ucc_acc=1.0 weighted_loss=0.009376664645969868 ucc_loss=0.009376664645969868 ae_loss=0\n"
     ]
    },
    {
     "name": "stderr",
     "output_type": "stream",
     "text": [
      " 85%|████████▌ | 17100/20009 [1:34:00<18:35,  2.61it/s]"
     ]
    },
    {
     "name": "stdout",
     "output_type": "stream",
     "text": [
      "Step 77091, training: ucc_acc=1.0 weighted_loss=0.0007084995741024613 ucc_loss=0.0007084995741024613 ae_loss=0 eval: ucc_acc=1.0 weighted_loss=0.010610591620206833 ucc_loss=0.010610591620206833 ae_loss=0\n"
     ]
    },
    {
     "name": "stderr",
     "output_type": "stream",
     "text": [
      " 86%|████████▌ | 17110/20009 [1:34:03<17:44,  2.72it/s]"
     ]
    },
    {
     "name": "stdout",
     "output_type": "stream",
     "text": [
      "Step 77101, training: ucc_acc=1.0 weighted_loss=0.003718448569998145 ucc_loss=0.003718448569998145 ae_loss=0 eval: ucc_acc=1.0 weighted_loss=0.0009445013711228967 ucc_loss=0.0009445013711228967 ae_loss=0\n"
     ]
    },
    {
     "name": "stderr",
     "output_type": "stream",
     "text": [
      " 86%|████████▌ | 17120/20009 [1:34:07<19:54,  2.42it/s]"
     ]
    },
    {
     "name": "stdout",
     "output_type": "stream",
     "text": [
      "Step 77111, training: ucc_acc=0.9333333373069763 weighted_loss=0.08068434149026871 ucc_loss=0.08068434149026871 ae_loss=0 eval: ucc_acc=1.0 weighted_loss=0.020183106884360313 ucc_loss=0.020183106884360313 ae_loss=0\n"
     ]
    },
    {
     "name": "stderr",
     "output_type": "stream",
     "text": [
      " 86%|████████▌ | 17130/20009 [1:34:11<20:30,  2.34it/s]"
     ]
    },
    {
     "name": "stdout",
     "output_type": "stream",
     "text": [
      "Step 77121, training: ucc_acc=1.0 weighted_loss=0.01609879732131958 ucc_loss=0.01609879732131958 ae_loss=0 eval: ucc_acc=1.0 weighted_loss=0.010795455425977707 ucc_loss=0.010795455425977707 ae_loss=0\n"
     ]
    },
    {
     "name": "stderr",
     "output_type": "stream",
     "text": [
      " 86%|████████▌ | 17140/20009 [1:34:14<17:30,  2.73it/s]"
     ]
    },
    {
     "name": "stdout",
     "output_type": "stream",
     "text": [
      "Step 77131, training: ucc_acc=1.0 weighted_loss=0.0002153124223696068 ucc_loss=0.0002153124223696068 ae_loss=0 eval: ucc_acc=1.0 weighted_loss=0.014458847232162952 ucc_loss=0.014458847232162952 ae_loss=0\n"
     ]
    },
    {
     "name": "stderr",
     "output_type": "stream",
     "text": [
      " 86%|████████▌ | 17150/20009 [1:34:17<16:46,  2.84it/s]"
     ]
    },
    {
     "name": "stdout",
     "output_type": "stream",
     "text": [
      "Step 77141, training: ucc_acc=0.9333333373069763 weighted_loss=0.18578416109085083 ucc_loss=0.18578416109085083 ae_loss=0 eval: ucc_acc=1.0 weighted_loss=0.0010898702312260866 ucc_loss=0.0010898702312260866 ae_loss=0\n"
     ]
    },
    {
     "name": "stderr",
     "output_type": "stream",
     "text": [
      " 86%|████████▌ | 17160/20009 [1:34:20<16:02,  2.96it/s]"
     ]
    },
    {
     "name": "stdout",
     "output_type": "stream",
     "text": [
      "Step 77151, training: ucc_acc=0.9333333373069763 weighted_loss=0.10109777003526688 ucc_loss=0.10109777003526688 ae_loss=0 eval: ucc_acc=0.9333333373069763 weighted_loss=0.04675399139523506 ucc_loss=0.04675399139523506 ae_loss=0\n"
     ]
    },
    {
     "name": "stderr",
     "output_type": "stream",
     "text": [
      " 86%|████████▌ | 17170/20009 [1:34:24<16:22,  2.89it/s]"
     ]
    },
    {
     "name": "stdout",
     "output_type": "stream",
     "text": [
      "Step 77161, training: ucc_acc=1.0 weighted_loss=0.01706228032708168 ucc_loss=0.01706228032708168 ae_loss=0 eval: ucc_acc=1.0 weighted_loss=0.011424620635807514 ucc_loss=0.011424620635807514 ae_loss=0\n"
     ]
    },
    {
     "name": "stderr",
     "output_type": "stream",
     "text": [
      " 86%|████████▌ | 17180/20009 [1:34:27<16:38,  2.83it/s]"
     ]
    },
    {
     "name": "stdout",
     "output_type": "stream",
     "text": [
      "Step 77171, training: ucc_acc=1.0 weighted_loss=0.005057257134467363 ucc_loss=0.005057257134467363 ae_loss=0 eval: ucc_acc=1.0 weighted_loss=0.0051187267526984215 ucc_loss=0.0051187267526984215 ae_loss=0\n"
     ]
    },
    {
     "name": "stderr",
     "output_type": "stream",
     "text": [
      " 86%|████████▌ | 17190/20009 [1:34:30<15:54,  2.95it/s]"
     ]
    },
    {
     "name": "stdout",
     "output_type": "stream",
     "text": [
      "Step 77181, training: ucc_acc=1.0 weighted_loss=0.009600168094038963 ucc_loss=0.009600168094038963 ae_loss=0 eval: ucc_acc=1.0 weighted_loss=0.006302927155047655 ucc_loss=0.006302927155047655 ae_loss=0\n"
     ]
    },
    {
     "name": "stderr",
     "output_type": "stream",
     "text": [
      " 86%|████████▌ | 17200/20009 [1:34:33<15:59,  2.93it/s]"
     ]
    },
    {
     "name": "stdout",
     "output_type": "stream",
     "text": [
      "Step 77191, training: ucc_acc=1.0 weighted_loss=0.005091898608952761 ucc_loss=0.005091898608952761 ae_loss=0 eval: ucc_acc=0.9333333373069763 weighted_loss=0.09863605350255966 ucc_loss=0.09863605350255966 ae_loss=0\n"
     ]
    },
    {
     "name": "stderr",
     "output_type": "stream",
     "text": [
      " 86%|████████▌ | 17210/20009 [1:34:36<16:04,  2.90it/s]"
     ]
    },
    {
     "name": "stdout",
     "output_type": "stream",
     "text": [
      "Step 77201, training: ucc_acc=1.0 weighted_loss=0.014211025089025497 ucc_loss=0.014211025089025497 ae_loss=0 eval: ucc_acc=1.0 weighted_loss=0.005925667472183704 ucc_loss=0.005925667472183704 ae_loss=0\n"
     ]
    },
    {
     "name": "stderr",
     "output_type": "stream",
     "text": [
      " 86%|████████▌ | 17220/20009 [1:34:39<16:11,  2.87it/s]"
     ]
    },
    {
     "name": "stdout",
     "output_type": "stream",
     "text": [
      "Step 77211, training: ucc_acc=1.0 weighted_loss=0.011951874941587448 ucc_loss=0.011951874941587448 ae_loss=0 eval: ucc_acc=1.0 weighted_loss=0.0023731242399662733 ucc_loss=0.0023731242399662733 ae_loss=0\n"
     ]
    },
    {
     "name": "stderr",
     "output_type": "stream",
     "text": [
      " 86%|████████▌ | 17230/20009 [1:34:42<15:58,  2.90it/s]"
     ]
    },
    {
     "name": "stdout",
     "output_type": "stream",
     "text": [
      "Step 77221, training: ucc_acc=1.0 weighted_loss=0.005503987427800894 ucc_loss=0.005503987427800894 ae_loss=0 eval: ucc_acc=1.0 weighted_loss=0.0049155643209815025 ucc_loss=0.0049155643209815025 ae_loss=0\n"
     ]
    },
    {
     "name": "stderr",
     "output_type": "stream",
     "text": [
      " 86%|████████▌ | 17240/20009 [1:34:46<15:57,  2.89it/s]"
     ]
    },
    {
     "name": "stdout",
     "output_type": "stream",
     "text": [
      "Step 77231, training: ucc_acc=0.9333333373069763 weighted_loss=0.08504434674978256 ucc_loss=0.08504434674978256 ae_loss=0 eval: ucc_acc=1.0 weighted_loss=0.009455106221139431 ucc_loss=0.009455106221139431 ae_loss=0\n"
     ]
    },
    {
     "name": "stderr",
     "output_type": "stream",
     "text": [
      " 86%|████████▌ | 17250/20009 [1:34:49<15:42,  2.93it/s]"
     ]
    },
    {
     "name": "stdout",
     "output_type": "stream",
     "text": [
      "Step 77241, training: ucc_acc=1.0 weighted_loss=0.019386442378163338 ucc_loss=0.019386442378163338 ae_loss=0 eval: ucc_acc=0.9333333373069763 weighted_loss=0.07438202947378159 ucc_loss=0.07438202947378159 ae_loss=0\n"
     ]
    },
    {
     "name": "stderr",
     "output_type": "stream",
     "text": [
      " 86%|████████▋ | 17260/20009 [1:34:52<15:36,  2.94it/s]"
     ]
    },
    {
     "name": "stdout",
     "output_type": "stream",
     "text": [
      "Step 77251, training: ucc_acc=1.0 weighted_loss=0.006502723321318626 ucc_loss=0.006502723321318626 ae_loss=0 eval: ucc_acc=1.0 weighted_loss=0.004619629122316837 ucc_loss=0.004619629122316837 ae_loss=0\n"
     ]
    },
    {
     "name": "stderr",
     "output_type": "stream",
     "text": [
      " 86%|████████▋ | 17270/20009 [1:34:55<15:15,  2.99it/s]"
     ]
    },
    {
     "name": "stdout",
     "output_type": "stream",
     "text": [
      "Step 77261, training: ucc_acc=1.0 weighted_loss=0.002760813571512699 ucc_loss=0.002760813571512699 ae_loss=0 eval: ucc_acc=0.9333333373069763 weighted_loss=0.17704741656780243 ucc_loss=0.17704741656780243 ae_loss=0\n"
     ]
    },
    {
     "name": "stderr",
     "output_type": "stream",
     "text": [
      " 86%|████████▋ | 17280/20009 [1:34:58<15:38,  2.91it/s]"
     ]
    },
    {
     "name": "stdout",
     "output_type": "stream",
     "text": [
      "Step 77271, training: ucc_acc=1.0 weighted_loss=0.010121948085725307 ucc_loss=0.010121948085725307 ae_loss=0 eval: ucc_acc=1.0 weighted_loss=0.00014396080223377794 ucc_loss=0.00014396080223377794 ae_loss=0\n"
     ]
    },
    {
     "name": "stderr",
     "output_type": "stream",
     "text": [
      " 86%|████████▋ | 17290/20009 [1:35:01<15:46,  2.87it/s]"
     ]
    },
    {
     "name": "stdout",
     "output_type": "stream",
     "text": [
      "Step 77281, training: ucc_acc=1.0 weighted_loss=0.004058653488755226 ucc_loss=0.004058653488755226 ae_loss=0 eval: ucc_acc=1.0 weighted_loss=0.019506659358739853 ucc_loss=0.019506659358739853 ae_loss=0\n"
     ]
    },
    {
     "name": "stderr",
     "output_type": "stream",
     "text": [
      " 86%|████████▋ | 17300/20009 [1:35:04<15:28,  2.92it/s]"
     ]
    },
    {
     "name": "stdout",
     "output_type": "stream",
     "text": [
      "Step 77291, training: ucc_acc=0.9333333373069763 weighted_loss=0.054505668580532074 ucc_loss=0.054505668580532074 ae_loss=0 eval: ucc_acc=1.0 weighted_loss=0.004625202156603336 ucc_loss=0.004625202156603336 ae_loss=0\n"
     ]
    },
    {
     "name": "stderr",
     "output_type": "stream",
     "text": [
      " 87%|████████▋ | 17310/20009 [1:35:07<15:20,  2.93it/s]"
     ]
    },
    {
     "name": "stdout",
     "output_type": "stream",
     "text": [
      "Step 77301, training: ucc_acc=1.0 weighted_loss=0.0001481365761719644 ucc_loss=0.0001481365761719644 ae_loss=0 eval: ucc_acc=0.9333333373069763 weighted_loss=0.07554721087217331 ucc_loss=0.07554721087217331 ae_loss=0\n"
     ]
    },
    {
     "name": "stderr",
     "output_type": "stream",
     "text": [
      " 87%|████████▋ | 17320/20009 [1:35:11<15:21,  2.92it/s]"
     ]
    },
    {
     "name": "stdout",
     "output_type": "stream",
     "text": [
      "Step 77311, training: ucc_acc=1.0 weighted_loss=0.0002905205765273422 ucc_loss=0.0002905205765273422 ae_loss=0 eval: ucc_acc=1.0 weighted_loss=0.014034216292202473 ucc_loss=0.014034216292202473 ae_loss=0\n"
     ]
    },
    {
     "name": "stderr",
     "output_type": "stream",
     "text": [
      " 87%|████████▋ | 17330/20009 [1:35:14<15:37,  2.86it/s]"
     ]
    },
    {
     "name": "stdout",
     "output_type": "stream",
     "text": [
      "Step 77321, training: ucc_acc=1.0 weighted_loss=0.004733466077595949 ucc_loss=0.004733466077595949 ae_loss=0 eval: ucc_acc=1.0 weighted_loss=0.0037110070697963238 ucc_loss=0.0037110070697963238 ae_loss=0\n"
     ]
    },
    {
     "name": "stderr",
     "output_type": "stream",
     "text": [
      " 87%|████████▋ | 17340/20009 [1:35:17<15:34,  2.86it/s]"
     ]
    },
    {
     "name": "stdout",
     "output_type": "stream",
     "text": [
      "Step 77331, training: ucc_acc=1.0 weighted_loss=0.0023825180251151323 ucc_loss=0.0023825180251151323 ae_loss=0 eval: ucc_acc=1.0 weighted_loss=0.010055189952254295 ucc_loss=0.010055189952254295 ae_loss=0\n"
     ]
    },
    {
     "name": "stderr",
     "output_type": "stream",
     "text": [
      " 87%|████████▋ | 17350/20009 [1:35:20<15:20,  2.89it/s]"
     ]
    },
    {
     "name": "stdout",
     "output_type": "stream",
     "text": [
      "Step 77341, training: ucc_acc=1.0 weighted_loss=0.0011615670518949628 ucc_loss=0.0011615670518949628 ae_loss=0 eval: ucc_acc=1.0 weighted_loss=0.0049062324687838554 ucc_loss=0.0049062324687838554 ae_loss=0\n"
     ]
    },
    {
     "name": "stderr",
     "output_type": "stream",
     "text": [
      " 87%|████████▋ | 17360/20009 [1:35:23<15:04,  2.93it/s]"
     ]
    },
    {
     "name": "stdout",
     "output_type": "stream",
     "text": [
      "Step 77351, training: ucc_acc=1.0 weighted_loss=0.01562256459146738 ucc_loss=0.01562256459146738 ae_loss=0 eval: ucc_acc=1.0 weighted_loss=0.007988205179572105 ucc_loss=0.007988205179572105 ae_loss=0\n"
     ]
    },
    {
     "name": "stderr",
     "output_type": "stream",
     "text": [
      " 87%|████████▋ | 17370/20009 [1:35:26<15:23,  2.86it/s]"
     ]
    },
    {
     "name": "stdout",
     "output_type": "stream",
     "text": [
      "Step 77361, training: ucc_acc=1.0 weighted_loss=0.006146805360913277 ucc_loss=0.006146805360913277 ae_loss=0 eval: ucc_acc=1.0 weighted_loss=0.008905132301151752 ucc_loss=0.008905132301151752 ae_loss=0\n"
     ]
    },
    {
     "name": "stderr",
     "output_type": "stream",
     "text": [
      " 87%|████████▋ | 17380/20009 [1:35:29<15:05,  2.90it/s]"
     ]
    },
    {
     "name": "stdout",
     "output_type": "stream",
     "text": [
      "Step 77371, training: ucc_acc=1.0 weighted_loss=0.01598241738975048 ucc_loss=0.01598241738975048 ae_loss=0 eval: ucc_acc=1.0 weighted_loss=0.0020828829146921635 ucc_loss=0.0020828829146921635 ae_loss=0\n"
     ]
    },
    {
     "name": "stderr",
     "output_type": "stream",
     "text": [
      " 87%|████████▋ | 17390/20009 [1:35:33<14:47,  2.95it/s]"
     ]
    },
    {
     "name": "stdout",
     "output_type": "stream",
     "text": [
      "Step 77381, training: ucc_acc=1.0 weighted_loss=0.005389603320509195 ucc_loss=0.005389603320509195 ae_loss=0 eval: ucc_acc=1.0 weighted_loss=0.029630016535520554 ucc_loss=0.029630016535520554 ae_loss=0\n"
     ]
    },
    {
     "name": "stderr",
     "output_type": "stream",
     "text": [
      " 87%|████████▋ | 17400/20009 [1:35:36<16:51,  2.58it/s]"
     ]
    },
    {
     "name": "stdout",
     "output_type": "stream",
     "text": [
      "Step 77391, training: ucc_acc=0.9333333373069763 weighted_loss=0.09610079973936081 ucc_loss=0.09610079973936081 ae_loss=0 eval: ucc_acc=1.0 weighted_loss=0.02497771754860878 ucc_loss=0.02497771754860878 ae_loss=0\n"
     ]
    },
    {
     "name": "stderr",
     "output_type": "stream",
     "text": [
      " 87%|████████▋ | 17410/20009 [1:35:39<14:58,  2.89it/s]"
     ]
    },
    {
     "name": "stdout",
     "output_type": "stream",
     "text": [
      "Step 77401, training: ucc_acc=1.0 weighted_loss=0.0043533421121537685 ucc_loss=0.0043533421121537685 ae_loss=0 eval: ucc_acc=0.8666666746139526 weighted_loss=0.23566891252994537 ucc_loss=0.23566891252994537 ae_loss=0\n"
     ]
    },
    {
     "name": "stderr",
     "output_type": "stream",
     "text": [
      " 87%|████████▋ | 17420/20009 [1:35:42<14:53,  2.90it/s]"
     ]
    },
    {
     "name": "stdout",
     "output_type": "stream",
     "text": [
      "Step 77411, training: ucc_acc=1.0 weighted_loss=0.007098875008523464 ucc_loss=0.007098875008523464 ae_loss=0 eval: ucc_acc=1.0 weighted_loss=0.02497578226029873 ucc_loss=0.02497578226029873 ae_loss=0\n"
     ]
    },
    {
     "name": "stderr",
     "output_type": "stream",
     "text": [
      " 87%|████████▋ | 17430/20009 [1:35:45<14:42,  2.92it/s]"
     ]
    },
    {
     "name": "stdout",
     "output_type": "stream",
     "text": [
      "Step 77421, training: ucc_acc=1.0 weighted_loss=0.006849722005426884 ucc_loss=0.006849722005426884 ae_loss=0 eval: ucc_acc=1.0 weighted_loss=0.017422618344426155 ucc_loss=0.017422618344426155 ae_loss=0\n"
     ]
    },
    {
     "name": "stderr",
     "output_type": "stream",
     "text": [
      " 87%|████████▋ | 17440/20009 [1:35:48<14:31,  2.95it/s]"
     ]
    },
    {
     "name": "stdout",
     "output_type": "stream",
     "text": [
      "Step 77431, training: ucc_acc=1.0 weighted_loss=0.005158110521733761 ucc_loss=0.005158110521733761 ae_loss=0 eval: ucc_acc=1.0 weighted_loss=0.010287893004715443 ucc_loss=0.010287893004715443 ae_loss=0\n"
     ]
    },
    {
     "name": "stderr",
     "output_type": "stream",
     "text": [
      " 87%|████████▋ | 17450/20009 [1:35:52<15:01,  2.84it/s]"
     ]
    },
    {
     "name": "stdout",
     "output_type": "stream",
     "text": [
      "Step 77441, training: ucc_acc=1.0 weighted_loss=0.01953020505607128 ucc_loss=0.01953020505607128 ae_loss=0 eval: ucc_acc=1.0 weighted_loss=0.0001791357935871929 ucc_loss=0.0001791357935871929 ae_loss=0\n"
     ]
    },
    {
     "name": "stderr",
     "output_type": "stream",
     "text": [
      " 87%|████████▋ | 17460/20009 [1:35:55<14:27,  2.94it/s]"
     ]
    },
    {
     "name": "stdout",
     "output_type": "stream",
     "text": [
      "Step 77451, training: ucc_acc=1.0 weighted_loss=0.01212173979729414 ucc_loss=0.01212173979729414 ae_loss=0 eval: ucc_acc=1.0 weighted_loss=0.00018396161613054574 ucc_loss=0.00018396161613054574 ae_loss=0\n"
     ]
    },
    {
     "name": "stderr",
     "output_type": "stream",
     "text": [
      " 87%|████████▋ | 17470/20009 [1:35:58<14:31,  2.91it/s]"
     ]
    },
    {
     "name": "stdout",
     "output_type": "stream",
     "text": [
      "Step 77461, training: ucc_acc=1.0 weighted_loss=0.0008768165134824812 ucc_loss=0.0008768165134824812 ae_loss=0 eval: ucc_acc=1.0 weighted_loss=0.0047743553295731544 ucc_loss=0.0047743553295731544 ae_loss=0\n"
     ]
    },
    {
     "name": "stderr",
     "output_type": "stream",
     "text": [
      " 87%|████████▋ | 17480/20009 [1:36:01<14:13,  2.96it/s]"
     ]
    },
    {
     "name": "stdout",
     "output_type": "stream",
     "text": [
      "Step 77471, training: ucc_acc=1.0 weighted_loss=0.009499877691268921 ucc_loss=0.009499877691268921 ae_loss=0 eval: ucc_acc=1.0 weighted_loss=0.0008050983888097107 ucc_loss=0.0008050983888097107 ae_loss=0\n"
     ]
    },
    {
     "name": "stderr",
     "output_type": "stream",
     "text": [
      " 87%|████████▋ | 17490/20009 [1:36:04<14:48,  2.84it/s]"
     ]
    },
    {
     "name": "stdout",
     "output_type": "stream",
     "text": [
      "Step 77481, training: ucc_acc=1.0 weighted_loss=0.012448038905858994 ucc_loss=0.012448038905858994 ae_loss=0 eval: ucc_acc=1.0 weighted_loss=0.016474658623337746 ucc_loss=0.016474658623337746 ae_loss=0\n"
     ]
    },
    {
     "name": "stderr",
     "output_type": "stream",
     "text": [
      " 87%|████████▋ | 17500/20009 [1:36:07<14:42,  2.84it/s]"
     ]
    },
    {
     "name": "stdout",
     "output_type": "stream",
     "text": [
      "Step 77491, training: ucc_acc=1.0 weighted_loss=0.007265026681125164 ucc_loss=0.007265026681125164 ae_loss=0 eval: ucc_acc=1.0 weighted_loss=0.009501016698777676 ucc_loss=0.009501016698777676 ae_loss=0\n"
     ]
    },
    {
     "name": "stderr",
     "output_type": "stream",
     "text": [
      " 88%|████████▊ | 17510/20009 [1:36:10<14:08,  2.94it/s]"
     ]
    },
    {
     "name": "stdout",
     "output_type": "stream",
     "text": [
      "Step 77501, training: ucc_acc=1.0 weighted_loss=0.0015087806386873126 ucc_loss=0.0015087806386873126 ae_loss=0 eval: ucc_acc=1.0 weighted_loss=0.02125418186187744 ucc_loss=0.02125418186187744 ae_loss=0\n"
     ]
    },
    {
     "name": "stderr",
     "output_type": "stream",
     "text": [
      " 88%|████████▊ | 17520/20009 [1:36:14<14:19,  2.90it/s]"
     ]
    },
    {
     "name": "stdout",
     "output_type": "stream",
     "text": [
      "Step 77511, training: ucc_acc=1.0 weighted_loss=0.00253699510358274 ucc_loss=0.00253699510358274 ae_loss=0 eval: ucc_acc=1.0 weighted_loss=6.39533027424477e-05 ucc_loss=6.39533027424477e-05 ae_loss=0\n"
     ]
    },
    {
     "name": "stderr",
     "output_type": "stream",
     "text": [
      " 88%|████████▊ | 17530/20009 [1:36:17<14:17,  2.89it/s]"
     ]
    },
    {
     "name": "stdout",
     "output_type": "stream",
     "text": [
      "Step 77521, training: ucc_acc=0.9333333373069763 weighted_loss=0.06308507919311523 ucc_loss=0.06308507919311523 ae_loss=0 eval: ucc_acc=1.0 weighted_loss=0.0009622800280340016 ucc_loss=0.0009622800280340016 ae_loss=0\n"
     ]
    },
    {
     "name": "stderr",
     "output_type": "stream",
     "text": [
      " 88%|████████▊ | 17540/20009 [1:36:20<14:13,  2.89it/s]"
     ]
    },
    {
     "name": "stdout",
     "output_type": "stream",
     "text": [
      "Step 77531, training: ucc_acc=1.0 weighted_loss=0.02770850621163845 ucc_loss=0.02770850621163845 ae_loss=0 eval: ucc_acc=1.0 weighted_loss=0.0030078557319939137 ucc_loss=0.0030078557319939137 ae_loss=0\n"
     ]
    },
    {
     "name": "stderr",
     "output_type": "stream",
     "text": [
      " 88%|████████▊ | 17550/20009 [1:36:23<13:54,  2.95it/s]"
     ]
    },
    {
     "name": "stdout",
     "output_type": "stream",
     "text": [
      "Step 77541, training: ucc_acc=1.0 weighted_loss=0.001219497760757804 ucc_loss=0.001219497760757804 ae_loss=0 eval: ucc_acc=1.0 weighted_loss=0.009312082082033157 ucc_loss=0.009312082082033157 ae_loss=0\n"
     ]
    },
    {
     "name": "stderr",
     "output_type": "stream",
     "text": [
      " 88%|████████▊ | 17560/20009 [1:36:26<14:08,  2.89it/s]"
     ]
    },
    {
     "name": "stdout",
     "output_type": "stream",
     "text": [
      "Step 77551, training: ucc_acc=1.0 weighted_loss=0.009934051893651485 ucc_loss=0.009934051893651485 ae_loss=0 eval: ucc_acc=1.0 weighted_loss=0.015531289391219616 ucc_loss=0.015531289391219616 ae_loss=0\n"
     ]
    },
    {
     "name": "stderr",
     "output_type": "stream",
     "text": [
      " 88%|████████▊ | 17570/20009 [1:36:30<15:44,  2.58it/s]"
     ]
    },
    {
     "name": "stdout",
     "output_type": "stream",
     "text": [
      "Step 77561, training: ucc_acc=0.9333333373069763 weighted_loss=0.0795455202460289 ucc_loss=0.0795455202460289 ae_loss=0 eval: ucc_acc=1.0 weighted_loss=0.012535134330391884 ucc_loss=0.012535134330391884 ae_loss=0\n"
     ]
    },
    {
     "name": "stderr",
     "output_type": "stream",
     "text": [
      " 88%|████████▊ | 17580/20009 [1:36:33<13:48,  2.93it/s]"
     ]
    },
    {
     "name": "stdout",
     "output_type": "stream",
     "text": [
      "Step 77571, training: ucc_acc=1.0 weighted_loss=0.007742330431938171 ucc_loss=0.007742330431938171 ae_loss=0 eval: ucc_acc=1.0 weighted_loss=0.008593994192779064 ucc_loss=0.008593994192779064 ae_loss=0\n"
     ]
    },
    {
     "name": "stderr",
     "output_type": "stream",
     "text": [
      " 88%|████████▊ | 17590/20009 [1:36:36<13:50,  2.91it/s]"
     ]
    },
    {
     "name": "stdout",
     "output_type": "stream",
     "text": [
      "Step 77581, training: ucc_acc=1.0 weighted_loss=0.005943383555859327 ucc_loss=0.005943383555859327 ae_loss=0 eval: ucc_acc=1.0 weighted_loss=0.005991794168949127 ucc_loss=0.005991794168949127 ae_loss=0\n"
     ]
    },
    {
     "name": "stderr",
     "output_type": "stream",
     "text": [
      " 88%|████████▊ | 17600/20009 [1:36:39<13:52,  2.90it/s]"
     ]
    },
    {
     "name": "stdout",
     "output_type": "stream",
     "text": [
      "Step 77591, training: ucc_acc=1.0 weighted_loss=0.001821410609409213 ucc_loss=0.001821410609409213 ae_loss=0 eval: ucc_acc=1.0 weighted_loss=0.010138251818716526 ucc_loss=0.010138251818716526 ae_loss=0\n"
     ]
    },
    {
     "name": "stderr",
     "output_type": "stream",
     "text": [
      " 88%|████████▊ | 17610/20009 [1:36:42<13:42,  2.92it/s]"
     ]
    },
    {
     "name": "stdout",
     "output_type": "stream",
     "text": [
      "Step 77601, training: ucc_acc=1.0 weighted_loss=0.00044121110113337636 ucc_loss=0.00044121110113337636 ae_loss=0 eval: ucc_acc=1.0 weighted_loss=0.0010538252536207438 ucc_loss=0.0010538252536207438 ae_loss=0\n"
     ]
    },
    {
     "name": "stderr",
     "output_type": "stream",
     "text": [
      " 88%|████████▊ | 17620/20009 [1:36:45<13:37,  2.92it/s]"
     ]
    },
    {
     "name": "stdout",
     "output_type": "stream",
     "text": [
      "Step 77611, training: ucc_acc=1.0 weighted_loss=0.01069715991616249 ucc_loss=0.01069715991616249 ae_loss=0 eval: ucc_acc=1.0 weighted_loss=0.015004578977823257 ucc_loss=0.015004578977823257 ae_loss=0\n"
     ]
    },
    {
     "name": "stderr",
     "output_type": "stream",
     "text": [
      " 88%|████████▊ | 17630/20009 [1:36:48<14:00,  2.83it/s]"
     ]
    },
    {
     "name": "stdout",
     "output_type": "stream",
     "text": [
      "Step 77621, training: ucc_acc=1.0 weighted_loss=0.01100687962025404 ucc_loss=0.01100687962025404 ae_loss=0 eval: ucc_acc=1.0 weighted_loss=0.02001417987048626 ucc_loss=0.02001417987048626 ae_loss=0\n"
     ]
    },
    {
     "name": "stderr",
     "output_type": "stream",
     "text": [
      " 88%|████████▊ | 17640/20009 [1:36:52<13:42,  2.88it/s]"
     ]
    },
    {
     "name": "stdout",
     "output_type": "stream",
     "text": [
      "Step 77631, training: ucc_acc=1.0 weighted_loss=0.0006234298343770206 ucc_loss=0.0006234298343770206 ae_loss=0 eval: ucc_acc=1.0 weighted_loss=8.764433005126193e-05 ucc_loss=8.764433005126193e-05 ae_loss=0\n"
     ]
    },
    {
     "name": "stderr",
     "output_type": "stream",
     "text": [
      " 88%|████████▊ | 17650/20009 [1:36:55<13:21,  2.94it/s]"
     ]
    },
    {
     "name": "stdout",
     "output_type": "stream",
     "text": [
      "Step 77641, training: ucc_acc=1.0 weighted_loss=0.0004918554332107306 ucc_loss=0.0004918554332107306 ae_loss=0 eval: ucc_acc=0.9333333373069763 weighted_loss=0.09771290421485901 ucc_loss=0.09771290421485901 ae_loss=0\n"
     ]
    },
    {
     "name": "stderr",
     "output_type": "stream",
     "text": [
      " 88%|████████▊ | 17660/20009 [1:36:58<13:20,  2.93it/s]"
     ]
    },
    {
     "name": "stdout",
     "output_type": "stream",
     "text": [
      "Step 77651, training: ucc_acc=1.0 weighted_loss=0.017996519804000854 ucc_loss=0.017996519804000854 ae_loss=0 eval: ucc_acc=1.0 weighted_loss=0.007408717647194862 ucc_loss=0.007408717647194862 ae_loss=0\n"
     ]
    },
    {
     "name": "stderr",
     "output_type": "stream",
     "text": [
      " 88%|████████▊ | 17670/20009 [1:37:01<13:35,  2.87it/s]"
     ]
    },
    {
     "name": "stdout",
     "output_type": "stream",
     "text": [
      "Step 77661, training: ucc_acc=0.9333333373069763 weighted_loss=0.13983981311321259 ucc_loss=0.13983981311321259 ae_loss=0 eval: ucc_acc=1.0 weighted_loss=0.0013888304820284247 ucc_loss=0.0013888304820284247 ae_loss=0\n"
     ]
    },
    {
     "name": "stderr",
     "output_type": "stream",
     "text": [
      " 88%|████████▊ | 17680/20009 [1:37:04<13:20,  2.91it/s]"
     ]
    },
    {
     "name": "stdout",
     "output_type": "stream",
     "text": [
      "Step 77671, training: ucc_acc=1.0 weighted_loss=0.012841274030506611 ucc_loss=0.012841274030506611 ae_loss=0 eval: ucc_acc=1.0 weighted_loss=0.00024598516756668687 ucc_loss=0.00024598516756668687 ae_loss=0\n"
     ]
    },
    {
     "name": "stderr",
     "output_type": "stream",
     "text": [
      " 88%|████████▊ | 17690/20009 [1:37:07<13:39,  2.83it/s]"
     ]
    },
    {
     "name": "stdout",
     "output_type": "stream",
     "text": [
      "Step 77681, training: ucc_acc=1.0 weighted_loss=0.012701760977506638 ucc_loss=0.012701760977506638 ae_loss=0 eval: ucc_acc=1.0 weighted_loss=0.013434362597763538 ucc_loss=0.013434362597763538 ae_loss=0\n"
     ]
    },
    {
     "name": "stderr",
     "output_type": "stream",
     "text": [
      " 88%|████████▊ | 17700/20009 [1:37:11<13:32,  2.84it/s]"
     ]
    },
    {
     "name": "stdout",
     "output_type": "stream",
     "text": [
      "Step 77691, training: ucc_acc=1.0 weighted_loss=0.000929134723264724 ucc_loss=0.000929134723264724 ae_loss=0 eval: ucc_acc=1.0 weighted_loss=0.0010300559224560857 ucc_loss=0.0010300559224560857 ae_loss=0\n"
     ]
    },
    {
     "name": "stderr",
     "output_type": "stream",
     "text": [
      " 89%|████████▊ | 17710/20009 [1:37:14<13:29,  2.84it/s]"
     ]
    },
    {
     "name": "stdout",
     "output_type": "stream",
     "text": [
      "Step 77701, training: ucc_acc=1.0 weighted_loss=0.012809159234166145 ucc_loss=0.012809159234166145 ae_loss=0 eval: ucc_acc=1.0 weighted_loss=0.012364947237074375 ucc_loss=0.012364947237074375 ae_loss=0\n"
     ]
    },
    {
     "name": "stderr",
     "output_type": "stream",
     "text": [
      " 89%|████████▊ | 17720/20009 [1:37:17<13:35,  2.81it/s]"
     ]
    },
    {
     "name": "stdout",
     "output_type": "stream",
     "text": [
      "Step 77711, training: ucc_acc=1.0 weighted_loss=0.00017107346502598375 ucc_loss=0.00017107346502598375 ae_loss=0 eval: ucc_acc=1.0 weighted_loss=0.014709328301250935 ucc_loss=0.014709328301250935 ae_loss=0\n"
     ]
    },
    {
     "name": "stderr",
     "output_type": "stream",
     "text": [
      " 89%|████████▊ | 17730/20009 [1:37:20<13:04,  2.90it/s]"
     ]
    },
    {
     "name": "stdout",
     "output_type": "stream",
     "text": [
      "Step 77721, training: ucc_acc=1.0 weighted_loss=0.02390221506357193 ucc_loss=0.02390221506357193 ae_loss=0 eval: ucc_acc=1.0 weighted_loss=0.012037220411002636 ucc_loss=0.012037220411002636 ae_loss=0\n"
     ]
    },
    {
     "name": "stderr",
     "output_type": "stream",
     "text": [
      " 89%|████████▊ | 17740/20009 [1:37:23<13:06,  2.89it/s]"
     ]
    },
    {
     "name": "stdout",
     "output_type": "stream",
     "text": [
      "Step 77731, training: ucc_acc=1.0 weighted_loss=0.007118286099284887 ucc_loss=0.007118286099284887 ae_loss=0 eval: ucc_acc=1.0 weighted_loss=0.02412409894168377 ucc_loss=0.02412409894168377 ae_loss=0\n"
     ]
    },
    {
     "name": "stderr",
     "output_type": "stream",
     "text": [
      " 89%|████████▊ | 17750/20009 [1:37:27<12:47,  2.94it/s]"
     ]
    },
    {
     "name": "stdout",
     "output_type": "stream",
     "text": [
      "Step 77741, training: ucc_acc=1.0 weighted_loss=0.00015427189646288753 ucc_loss=0.00015427189646288753 ae_loss=0 eval: ucc_acc=0.9333333373069763 weighted_loss=0.19426320493221283 ucc_loss=0.19426320493221283 ae_loss=0\n"
     ]
    },
    {
     "name": "stderr",
     "output_type": "stream",
     "text": [
      " 89%|████████▉ | 17760/20009 [1:37:30<13:07,  2.86it/s]"
     ]
    },
    {
     "name": "stdout",
     "output_type": "stream",
     "text": [
      "Step 77751, training: ucc_acc=1.0 weighted_loss=0.0033345543779432774 ucc_loss=0.0033345543779432774 ae_loss=0 eval: ucc_acc=1.0 weighted_loss=0.006443520076572895 ucc_loss=0.006443520076572895 ae_loss=0\n"
     ]
    },
    {
     "name": "stderr",
     "output_type": "stream",
     "text": [
      " 89%|████████▉ | 17770/20009 [1:37:33<12:44,  2.93it/s]"
     ]
    },
    {
     "name": "stdout",
     "output_type": "stream",
     "text": [
      "Step 77761, training: ucc_acc=1.0 weighted_loss=0.010364782065153122 ucc_loss=0.010364782065153122 ae_loss=0 eval: ucc_acc=1.0 weighted_loss=0.0009316304931417108 ucc_loss=0.0009316304931417108 ae_loss=0\n"
     ]
    },
    {
     "name": "stderr",
     "output_type": "stream",
     "text": [
      " 89%|████████▉ | 17780/20009 [1:37:36<12:55,  2.87it/s]"
     ]
    },
    {
     "name": "stdout",
     "output_type": "stream",
     "text": [
      "Step 77771, training: ucc_acc=1.0 weighted_loss=0.0049943202175199986 ucc_loss=0.0049943202175199986 ae_loss=0 eval: ucc_acc=1.0 weighted_loss=0.005443899892270565 ucc_loss=0.005443899892270565 ae_loss=0\n"
     ]
    },
    {
     "name": "stderr",
     "output_type": "stream",
     "text": [
      " 89%|████████▉ | 17790/20009 [1:37:39<12:33,  2.95it/s]"
     ]
    },
    {
     "name": "stdout",
     "output_type": "stream",
     "text": [
      "Step 77781, training: ucc_acc=1.0 weighted_loss=0.008261619135737419 ucc_loss=0.008261619135737419 ae_loss=0 eval: ucc_acc=0.9333333373069763 weighted_loss=0.13815239071846008 ucc_loss=0.13815239071846008 ae_loss=0\n"
     ]
    },
    {
     "name": "stderr",
     "output_type": "stream",
     "text": [
      " 89%|████████▉ | 17800/20009 [1:37:42<12:36,  2.92it/s]"
     ]
    },
    {
     "name": "stdout",
     "output_type": "stream",
     "text": [
      "Step 77791, training: ucc_acc=1.0 weighted_loss=0.017912738025188446 ucc_loss=0.017912738025188446 ae_loss=0 eval: ucc_acc=1.0 weighted_loss=0.012005984783172607 ucc_loss=0.012005984783172607 ae_loss=0\n"
     ]
    },
    {
     "name": "stderr",
     "output_type": "stream",
     "text": [
      " 89%|████████▉ | 17810/20009 [1:37:45<12:42,  2.88it/s]"
     ]
    },
    {
     "name": "stdout",
     "output_type": "stream",
     "text": [
      "Step 77801, training: ucc_acc=1.0 weighted_loss=0.018877139315009117 ucc_loss=0.018877139315009117 ae_loss=0 eval: ucc_acc=1.0 weighted_loss=0.0002029700845014304 ucc_loss=0.0002029700845014304 ae_loss=0\n"
     ]
    },
    {
     "name": "stderr",
     "output_type": "stream",
     "text": [
      " 89%|████████▉ | 17820/20009 [1:37:49<12:53,  2.83it/s]"
     ]
    },
    {
     "name": "stdout",
     "output_type": "stream",
     "text": [
      "Step 77811, training: ucc_acc=0.9333333373069763 weighted_loss=0.13247713446617126 ucc_loss=0.13247713446617126 ae_loss=0 eval: ucc_acc=1.0 weighted_loss=0.018032340332865715 ucc_loss=0.018032340332865715 ae_loss=0\n"
     ]
    },
    {
     "name": "stderr",
     "output_type": "stream",
     "text": [
      " 89%|████████▉ | 17830/20009 [1:37:52<13:03,  2.78it/s]"
     ]
    },
    {
     "name": "stdout",
     "output_type": "stream",
     "text": [
      "Step 77821, training: ucc_acc=1.0 weighted_loss=0.0002886623260565102 ucc_loss=0.0002886623260565102 ae_loss=0 eval: ucc_acc=1.0 weighted_loss=0.02212115377187729 ucc_loss=0.02212115377187729 ae_loss=0\n"
     ]
    },
    {
     "name": "stderr",
     "output_type": "stream",
     "text": [
      " 89%|████████▉ | 17840/20009 [1:37:55<14:10,  2.55it/s]"
     ]
    },
    {
     "name": "stdout",
     "output_type": "stream",
     "text": [
      "Step 77831, training: ucc_acc=1.0 weighted_loss=0.009571850299835205 ucc_loss=0.009571850299835205 ae_loss=0 eval: ucc_acc=1.0 weighted_loss=0.0024430034682154655 ucc_loss=0.0024430034682154655 ae_loss=0\n"
     ]
    },
    {
     "name": "stderr",
     "output_type": "stream",
     "text": [
      " 89%|████████▉ | 17850/20009 [1:37:58<12:22,  2.91it/s]"
     ]
    },
    {
     "name": "stdout",
     "output_type": "stream",
     "text": [
      "Step 77841, training: ucc_acc=1.0 weighted_loss=0.00018206298409495503 ucc_loss=0.00018206298409495503 ae_loss=0 eval: ucc_acc=1.0 weighted_loss=0.03054765611886978 ucc_loss=0.03054765611886978 ae_loss=0\n"
     ]
    },
    {
     "name": "stderr",
     "output_type": "stream",
     "text": [
      " 89%|████████▉ | 17860/20009 [1:38:01<12:12,  2.93it/s]"
     ]
    },
    {
     "name": "stdout",
     "output_type": "stream",
     "text": [
      "Step 77851, training: ucc_acc=1.0 weighted_loss=0.0004560723900794983 ucc_loss=0.0004560723900794983 ae_loss=0 eval: ucc_acc=1.0 weighted_loss=0.013966402970254421 ucc_loss=0.013966402970254421 ae_loss=0\n"
     ]
    },
    {
     "name": "stderr",
     "output_type": "stream",
     "text": [
      " 89%|████████▉ | 17870/20009 [1:38:05<12:35,  2.83it/s]"
     ]
    },
    {
     "name": "stdout",
     "output_type": "stream",
     "text": [
      "Step 77861, training: ucc_acc=1.0 weighted_loss=0.009543949738144875 ucc_loss=0.009543949738144875 ae_loss=0 eval: ucc_acc=1.0 weighted_loss=0.012192200869321823 ucc_loss=0.012192200869321823 ae_loss=0\n"
     ]
    },
    {
     "name": "stderr",
     "output_type": "stream",
     "text": [
      " 89%|████████▉ | 17880/20009 [1:38:08<12:06,  2.93it/s]"
     ]
    },
    {
     "name": "stdout",
     "output_type": "stream",
     "text": [
      "Step 77871, training: ucc_acc=1.0 weighted_loss=0.010797921568155289 ucc_loss=0.010797921568155289 ae_loss=0 eval: ucc_acc=1.0 weighted_loss=0.014502289704978466 ucc_loss=0.014502289704978466 ae_loss=0\n"
     ]
    },
    {
     "name": "stderr",
     "output_type": "stream",
     "text": [
      " 89%|████████▉ | 17890/20009 [1:38:11<12:12,  2.89it/s]"
     ]
    },
    {
     "name": "stdout",
     "output_type": "stream",
     "text": [
      "Step 77881, training: ucc_acc=1.0 weighted_loss=0.01410392764955759 ucc_loss=0.01410392764955759 ae_loss=0 eval: ucc_acc=1.0 weighted_loss=0.0011198833817616105 ucc_loss=0.0011198833817616105 ae_loss=0\n"
     ]
    },
    {
     "name": "stderr",
     "output_type": "stream",
     "text": [
      " 89%|████████▉ | 17900/20009 [1:38:14<12:02,  2.92it/s]"
     ]
    },
    {
     "name": "stdout",
     "output_type": "stream",
     "text": [
      "Step 77891, training: ucc_acc=1.0 weighted_loss=0.004812114872038364 ucc_loss=0.004812114872038364 ae_loss=0 eval: ucc_acc=1.0 weighted_loss=0.00046828313497826457 ucc_loss=0.00046828313497826457 ae_loss=0\n"
     ]
    },
    {
     "name": "stderr",
     "output_type": "stream",
     "text": [
      " 90%|████████▉ | 17910/20009 [1:38:17<12:04,  2.90it/s]"
     ]
    },
    {
     "name": "stdout",
     "output_type": "stream",
     "text": [
      "Step 77901, training: ucc_acc=1.0 weighted_loss=0.014725799672305584 ucc_loss=0.014725799672305584 ae_loss=0 eval: ucc_acc=1.0 weighted_loss=0.004497847054153681 ucc_loss=0.004497847054153681 ae_loss=0\n"
     ]
    },
    {
     "name": "stderr",
     "output_type": "stream",
     "text": [
      " 90%|████████▉ | 17920/20009 [1:38:20<11:57,  2.91it/s]"
     ]
    },
    {
     "name": "stdout",
     "output_type": "stream",
     "text": [
      "Step 77911, training: ucc_acc=1.0 weighted_loss=0.001962798647582531 ucc_loss=0.001962798647582531 ae_loss=0 eval: ucc_acc=0.9333333373069763 weighted_loss=0.07950039207935333 ucc_loss=0.07950039207935333 ae_loss=0\n"
     ]
    },
    {
     "name": "stderr",
     "output_type": "stream",
     "text": [
      " 90%|████████▉ | 17930/20009 [1:38:24<12:18,  2.81it/s]"
     ]
    },
    {
     "name": "stdout",
     "output_type": "stream",
     "text": [
      "Step 77921, training: ucc_acc=1.0 weighted_loss=0.0009549425449222326 ucc_loss=0.0009549425449222326 ae_loss=0 eval: ucc_acc=1.0 weighted_loss=0.0014451429015025496 ucc_loss=0.0014451429015025496 ae_loss=0\n"
     ]
    },
    {
     "name": "stderr",
     "output_type": "stream",
     "text": [
      " 90%|████████▉ | 17940/20009 [1:38:27<12:23,  2.78it/s]"
     ]
    },
    {
     "name": "stdout",
     "output_type": "stream",
     "text": [
      "Step 77931, training: ucc_acc=1.0 weighted_loss=0.023494308814406395 ucc_loss=0.023494308814406395 ae_loss=0 eval: ucc_acc=1.0 weighted_loss=0.007558831013739109 ucc_loss=0.007558831013739109 ae_loss=0\n"
     ]
    },
    {
     "name": "stderr",
     "output_type": "stream",
     "text": [
      " 90%|████████▉ | 17950/20009 [1:38:30<11:47,  2.91it/s]"
     ]
    },
    {
     "name": "stdout",
     "output_type": "stream",
     "text": [
      "Step 77941, training: ucc_acc=1.0 weighted_loss=0.005323827266693115 ucc_loss=0.005323827266693115 ae_loss=0 eval: ucc_acc=1.0 weighted_loss=0.0037610423751175404 ucc_loss=0.0037610423751175404 ae_loss=0\n"
     ]
    },
    {
     "name": "stderr",
     "output_type": "stream",
     "text": [
      " 90%|████████▉ | 17960/20009 [1:38:33<12:29,  2.73it/s]"
     ]
    },
    {
     "name": "stdout",
     "output_type": "stream",
     "text": [
      "Step 77951, training: ucc_acc=0.9333333373069763 weighted_loss=0.10820014029741287 ucc_loss=0.10820014029741287 ae_loss=0 eval: ucc_acc=1.0 weighted_loss=0.006407556589692831 ucc_loss=0.006407556589692831 ae_loss=0\n"
     ]
    },
    {
     "name": "stderr",
     "output_type": "stream",
     "text": [
      " 90%|████████▉ | 17970/20009 [1:38:36<11:30,  2.95it/s]"
     ]
    },
    {
     "name": "stdout",
     "output_type": "stream",
     "text": [
      "Step 77961, training: ucc_acc=1.0 weighted_loss=0.008259170688688755 ucc_loss=0.008259170688688755 ae_loss=0 eval: ucc_acc=1.0 weighted_loss=0.0013952250592410564 ucc_loss=0.0013952250592410564 ae_loss=0\n"
     ]
    },
    {
     "name": "stderr",
     "output_type": "stream",
     "text": [
      " 90%|████████▉ | 17980/20009 [1:38:39<12:04,  2.80it/s]"
     ]
    },
    {
     "name": "stdout",
     "output_type": "stream",
     "text": [
      "Step 77971, training: ucc_acc=1.0 weighted_loss=9.011323709273711e-05 ucc_loss=9.011323709273711e-05 ae_loss=0 eval: ucc_acc=1.0 weighted_loss=0.005022376775741577 ucc_loss=0.005022376775741577 ae_loss=0\n"
     ]
    },
    {
     "name": "stderr",
     "output_type": "stream",
     "text": [
      " 90%|████████▉ | 17990/20009 [1:38:43<11:31,  2.92it/s]"
     ]
    },
    {
     "name": "stdout",
     "output_type": "stream",
     "text": [
      "Step 77981, training: ucc_acc=1.0 weighted_loss=0.008519990369677544 ucc_loss=0.008519990369677544 ae_loss=0 eval: ucc_acc=1.0 weighted_loss=0.00256615923717618 ucc_loss=0.00256615923717618 ae_loss=0\n"
     ]
    },
    {
     "name": "stderr",
     "output_type": "stream",
     "text": [
      " 90%|████████▉ | 18000/20009 [1:38:46<11:32,  2.90it/s]"
     ]
    },
    {
     "name": "stdout",
     "output_type": "stream",
     "text": [
      "Step 77991, training: ucc_acc=0.9333333373069763 weighted_loss=0.08993375301361084 ucc_loss=0.08993375301361084 ae_loss=0 eval: ucc_acc=1.0 weighted_loss=0.011547974310815334 ucc_loss=0.011547974310815334 ae_loss=0\n"
     ]
    },
    {
     "name": "stderr",
     "output_type": "stream",
     "text": [
      " 90%|█████████ | 18010/20009 [1:38:49<11:36,  2.87it/s]"
     ]
    },
    {
     "name": "stdout",
     "output_type": "stream",
     "text": [
      "Step 78001, training: ucc_acc=1.0 weighted_loss=0.0077264620922505856 ucc_loss=0.0077264620922505856 ae_loss=0 eval: ucc_acc=1.0 weighted_loss=0.057556264102458954 ucc_loss=0.057556264102458954 ae_loss=0\n"
     ]
    },
    {
     "name": "stderr",
     "output_type": "stream",
     "text": [
      " 90%|█████████ | 18020/20009 [1:38:52<11:29,  2.89it/s]"
     ]
    },
    {
     "name": "stdout",
     "output_type": "stream",
     "text": [
      "Step 78011, training: ucc_acc=1.0 weighted_loss=0.00022037475719116628 ucc_loss=0.00022037475719116628 ae_loss=0 eval: ucc_acc=1.0 weighted_loss=0.013365485705435276 ucc_loss=0.013365485705435276 ae_loss=0\n"
     ]
    },
    {
     "name": "stderr",
     "output_type": "stream",
     "text": [
      " 90%|█████████ | 18030/20009 [1:38:55<11:15,  2.93it/s]"
     ]
    },
    {
     "name": "stdout",
     "output_type": "stream",
     "text": [
      "Step 78021, training: ucc_acc=1.0 weighted_loss=0.005678272806107998 ucc_loss=0.005678272806107998 ae_loss=0 eval: ucc_acc=1.0 weighted_loss=0.02352847345173359 ucc_loss=0.02352847345173359 ae_loss=0\n"
     ]
    },
    {
     "name": "stderr",
     "output_type": "stream",
     "text": [
      " 90%|█████████ | 18040/20009 [1:38:58<11:13,  2.92it/s]"
     ]
    },
    {
     "name": "stdout",
     "output_type": "stream",
     "text": [
      "Step 78031, training: ucc_acc=1.0 weighted_loss=0.0030448439065366983 ucc_loss=0.0030448439065366983 ae_loss=0 eval: ucc_acc=1.0 weighted_loss=0.004537909757345915 ucc_loss=0.004537909757345915 ae_loss=0\n"
     ]
    },
    {
     "name": "stderr",
     "output_type": "stream",
     "text": [
      " 90%|█████████ | 18050/20009 [1:39:02<11:25,  2.86it/s]"
     ]
    },
    {
     "name": "stdout",
     "output_type": "stream",
     "text": [
      "Step 78041, training: ucc_acc=1.0 weighted_loss=0.0033891862258315086 ucc_loss=0.0033891862258315086 ae_loss=0 eval: ucc_acc=1.0 weighted_loss=0.012735734693706036 ucc_loss=0.012735734693706036 ae_loss=0\n"
     ]
    },
    {
     "name": "stderr",
     "output_type": "stream",
     "text": [
      " 90%|█████████ | 18060/20009 [1:39:05<11:14,  2.89it/s]"
     ]
    },
    {
     "name": "stdout",
     "output_type": "stream",
     "text": [
      "Step 78051, training: ucc_acc=1.0 weighted_loss=0.04099815711379051 ucc_loss=0.04099815711379051 ae_loss=0 eval: ucc_acc=1.0 weighted_loss=0.02480723150074482 ucc_loss=0.02480723150074482 ae_loss=0\n"
     ]
    },
    {
     "name": "stderr",
     "output_type": "stream",
     "text": [
      " 90%|█████████ | 18070/20009 [1:39:08<11:23,  2.84it/s]"
     ]
    },
    {
     "name": "stdout",
     "output_type": "stream",
     "text": [
      "Step 78061, training: ucc_acc=0.9333333373069763 weighted_loss=0.16290923953056335 ucc_loss=0.16290923953056335 ae_loss=0 eval: ucc_acc=1.0 weighted_loss=0.00018735493358690292 ucc_loss=0.00018735493358690292 ae_loss=0\n"
     ]
    },
    {
     "name": "stderr",
     "output_type": "stream",
     "text": [
      " 90%|█████████ | 18080/20009 [1:39:11<11:26,  2.81it/s]"
     ]
    },
    {
     "name": "stdout",
     "output_type": "stream",
     "text": [
      "Step 78071, training: ucc_acc=1.0 weighted_loss=0.018304502591490746 ucc_loss=0.018304502591490746 ae_loss=0 eval: ucc_acc=1.0 weighted_loss=0.011198113672435284 ucc_loss=0.011198113672435284 ae_loss=0\n"
     ]
    },
    {
     "name": "stderr",
     "output_type": "stream",
     "text": [
      " 90%|█████████ | 18090/20009 [1:39:14<11:17,  2.83it/s]"
     ]
    },
    {
     "name": "stdout",
     "output_type": "stream",
     "text": [
      "Step 78081, training: ucc_acc=1.0 weighted_loss=0.006642056163400412 ucc_loss=0.006642056163400412 ae_loss=0 eval: ucc_acc=1.0 weighted_loss=0.006601433735340834 ucc_loss=0.006601433735340834 ae_loss=0\n"
     ]
    },
    {
     "name": "stderr",
     "output_type": "stream",
     "text": [
      " 90%|█████████ | 18100/20009 [1:39:17<10:59,  2.90it/s]"
     ]
    },
    {
     "name": "stdout",
     "output_type": "stream",
     "text": [
      "Step 78091, training: ucc_acc=1.0 weighted_loss=0.0001409657852491364 ucc_loss=0.0001409657852491364 ae_loss=0 eval: ucc_acc=1.0 weighted_loss=0.016957972198724747 ucc_loss=0.016957972198724747 ae_loss=0\n"
     ]
    },
    {
     "name": "stderr",
     "output_type": "stream",
     "text": [
      " 91%|█████████ | 18110/20009 [1:39:21<11:08,  2.84it/s]"
     ]
    },
    {
     "name": "stdout",
     "output_type": "stream",
     "text": [
      "Step 78101, training: ucc_acc=1.0 weighted_loss=6.564992509083822e-05 ucc_loss=6.564992509083822e-05 ae_loss=0 eval: ucc_acc=1.0 weighted_loss=0.003520718775689602 ucc_loss=0.003520718775689602 ae_loss=0\n"
     ]
    },
    {
     "name": "stderr",
     "output_type": "stream",
     "text": [
      " 91%|█████████ | 18120/20009 [1:39:24<10:53,  2.89it/s]"
     ]
    },
    {
     "name": "stdout",
     "output_type": "stream",
     "text": [
      "Step 78111, training: ucc_acc=1.0 weighted_loss=0.010594028048217297 ucc_loss=0.010594028048217297 ae_loss=0 eval: ucc_acc=1.0 weighted_loss=0.000504243653267622 ucc_loss=0.000504243653267622 ae_loss=0\n"
     ]
    },
    {
     "name": "stderr",
     "output_type": "stream",
     "text": [
      " 91%|█████████ | 18130/20009 [1:39:27<10:47,  2.90it/s]"
     ]
    },
    {
     "name": "stdout",
     "output_type": "stream",
     "text": [
      "Step 78121, training: ucc_acc=1.0 weighted_loss=0.02115742489695549 ucc_loss=0.02115742489695549 ae_loss=0 eval: ucc_acc=1.0 weighted_loss=8.702760533196852e-05 ucc_loss=8.702760533196852e-05 ae_loss=0\n"
     ]
    },
    {
     "name": "stderr",
     "output_type": "stream",
     "text": [
      " 91%|█████████ | 18140/20009 [1:39:30<10:55,  2.85it/s]"
     ]
    },
    {
     "name": "stdout",
     "output_type": "stream",
     "text": [
      "Step 78131, training: ucc_acc=1.0 weighted_loss=0.005489163566380739 ucc_loss=0.005489163566380739 ae_loss=0 eval: ucc_acc=1.0 weighted_loss=0.015526329167187214 ucc_loss=0.015526329167187214 ae_loss=0\n"
     ]
    },
    {
     "name": "stderr",
     "output_type": "stream",
     "text": [
      " 91%|█████████ | 18150/20009 [1:39:33<10:48,  2.86it/s]"
     ]
    },
    {
     "name": "stdout",
     "output_type": "stream",
     "text": [
      "Step 78141, training: ucc_acc=1.0 weighted_loss=0.0014770964626222849 ucc_loss=0.0014770964626222849 ae_loss=0 eval: ucc_acc=1.0 weighted_loss=0.010202987119555473 ucc_loss=0.010202987119555473 ae_loss=0\n"
     ]
    },
    {
     "name": "stderr",
     "output_type": "stream",
     "text": [
      " 91%|█████████ | 18160/20009 [1:39:36<10:50,  2.84it/s]"
     ]
    },
    {
     "name": "stdout",
     "output_type": "stream",
     "text": [
      "Step 78151, training: ucc_acc=1.0 weighted_loss=4.4459877244662493e-05 ucc_loss=4.4459877244662493e-05 ae_loss=0 eval: ucc_acc=1.0 weighted_loss=0.014843691140413284 ucc_loss=0.014843691140413284 ae_loss=0\n"
     ]
    },
    {
     "name": "stderr",
     "output_type": "stream",
     "text": [
      " 91%|█████████ | 18170/20009 [1:39:40<10:31,  2.91it/s]"
     ]
    },
    {
     "name": "stdout",
     "output_type": "stream",
     "text": [
      "Step 78161, training: ucc_acc=1.0 weighted_loss=0.03139941394329071 ucc_loss=0.03139941394329071 ae_loss=0 eval: ucc_acc=1.0 weighted_loss=0.032231204211711884 ucc_loss=0.032231204211711884 ae_loss=0\n"
     ]
    },
    {
     "name": "stderr",
     "output_type": "stream",
     "text": [
      " 91%|█████████ | 18180/20009 [1:39:43<10:31,  2.90it/s]"
     ]
    },
    {
     "name": "stdout",
     "output_type": "stream",
     "text": [
      "Step 78171, training: ucc_acc=1.0 weighted_loss=0.01188836432993412 ucc_loss=0.01188836432993412 ae_loss=0 eval: ucc_acc=1.0 weighted_loss=0.008468774147331715 ucc_loss=0.008468774147331715 ae_loss=0\n"
     ]
    },
    {
     "name": "stderr",
     "output_type": "stream",
     "text": [
      " 91%|█████████ | 18190/20009 [1:39:46<10:25,  2.91it/s]"
     ]
    },
    {
     "name": "stdout",
     "output_type": "stream",
     "text": [
      "Step 78181, training: ucc_acc=1.0 weighted_loss=0.017123937606811523 ucc_loss=0.017123937606811523 ae_loss=0 eval: ucc_acc=1.0 weighted_loss=0.007818004116415977 ucc_loss=0.007818004116415977 ae_loss=0\n"
     ]
    },
    {
     "name": "stderr",
     "output_type": "stream",
     "text": [
      " 91%|█████████ | 18200/20009 [1:39:49<10:20,  2.92it/s]"
     ]
    },
    {
     "name": "stdout",
     "output_type": "stream",
     "text": [
      "Step 78191, training: ucc_acc=1.0 weighted_loss=0.019550127908587456 ucc_loss=0.019550127908587456 ae_loss=0 eval: ucc_acc=1.0 weighted_loss=0.0005010681343264878 ucc_loss=0.0005010681343264878 ae_loss=0\n"
     ]
    },
    {
     "name": "stderr",
     "output_type": "stream",
     "text": [
      " 91%|█████████ | 18210/20009 [1:39:52<10:15,  2.92it/s]"
     ]
    },
    {
     "name": "stdout",
     "output_type": "stream",
     "text": [
      "Step 78201, training: ucc_acc=1.0 weighted_loss=0.006181446369737387 ucc_loss=0.006181446369737387 ae_loss=0 eval: ucc_acc=1.0 weighted_loss=0.009706353768706322 ucc_loss=0.009706353768706322 ae_loss=0\n"
     ]
    },
    {
     "name": "stderr",
     "output_type": "stream",
     "text": [
      " 91%|█████████ | 18220/20009 [1:39:55<10:21,  2.88it/s]"
     ]
    },
    {
     "name": "stdout",
     "output_type": "stream",
     "text": [
      "Step 78211, training: ucc_acc=1.0 weighted_loss=0.00022642643307335675 ucc_loss=0.00022642643307335675 ae_loss=0 eval: ucc_acc=1.0 weighted_loss=0.008324524387717247 ucc_loss=0.008324524387717247 ae_loss=0\n"
     ]
    },
    {
     "name": "stderr",
     "output_type": "stream",
     "text": [
      " 91%|█████████ | 18230/20009 [1:39:58<10:09,  2.92it/s]"
     ]
    },
    {
     "name": "stdout",
     "output_type": "stream",
     "text": [
      "Step 78221, training: ucc_acc=1.0 weighted_loss=0.01029313262552023 ucc_loss=0.01029313262552023 ae_loss=0 eval: ucc_acc=0.9333333373069763 weighted_loss=0.12531790137290955 ucc_loss=0.12531790137290955 ae_loss=0\n"
     ]
    },
    {
     "name": "stderr",
     "output_type": "stream",
     "text": [
      " 91%|█████████ | 18240/20009 [1:40:02<10:22,  2.84it/s]"
     ]
    },
    {
     "name": "stdout",
     "output_type": "stream",
     "text": [
      "Step 78231, training: ucc_acc=1.0 weighted_loss=0.02070530317723751 ucc_loss=0.02070530317723751 ae_loss=0 eval: ucc_acc=1.0 weighted_loss=0.001424345071427524 ucc_loss=0.001424345071427524 ae_loss=0\n"
     ]
    },
    {
     "name": "stderr",
     "output_type": "stream",
     "text": [
      " 91%|█████████ | 18250/20009 [1:40:05<10:06,  2.90it/s]"
     ]
    },
    {
     "name": "stdout",
     "output_type": "stream",
     "text": [
      "Step 78241, training: ucc_acc=1.0 weighted_loss=0.007661100942641497 ucc_loss=0.007661100942641497 ae_loss=0 eval: ucc_acc=1.0 weighted_loss=0.005847756750881672 ucc_loss=0.005847756750881672 ae_loss=0\n"
     ]
    },
    {
     "name": "stderr",
     "output_type": "stream",
     "text": [
      " 91%|█████████▏| 18260/20009 [1:40:08<10:06,  2.88it/s]"
     ]
    },
    {
     "name": "stdout",
     "output_type": "stream",
     "text": [
      "Step 78251, training: ucc_acc=1.0 weighted_loss=0.026493895798921585 ucc_loss=0.026493895798921585 ae_loss=0 eval: ucc_acc=1.0 weighted_loss=0.004222509451210499 ucc_loss=0.004222509451210499 ae_loss=0\n"
     ]
    },
    {
     "name": "stderr",
     "output_type": "stream",
     "text": [
      " 91%|█████████▏| 18270/20009 [1:40:11<10:19,  2.81it/s]"
     ]
    },
    {
     "name": "stdout",
     "output_type": "stream",
     "text": [
      "Step 78261, training: ucc_acc=1.0 weighted_loss=0.010103842243552208 ucc_loss=0.010103842243552208 ae_loss=0 eval: ucc_acc=1.0 weighted_loss=0.004962351638823748 ucc_loss=0.004962351638823748 ae_loss=0\n"
     ]
    },
    {
     "name": "stderr",
     "output_type": "stream",
     "text": [
      " 91%|█████████▏| 18280/20009 [1:40:14<09:55,  2.90it/s]"
     ]
    },
    {
     "name": "stdout",
     "output_type": "stream",
     "text": [
      "Step 78271, training: ucc_acc=1.0 weighted_loss=0.00013947192928753793 ucc_loss=0.00013947192928753793 ae_loss=0 eval: ucc_acc=1.0 weighted_loss=0.00023720081662759185 ucc_loss=0.00023720081662759185 ae_loss=0\n"
     ]
    },
    {
     "name": "stderr",
     "output_type": "stream",
     "text": [
      " 91%|█████████▏| 18290/20009 [1:40:18<10:41,  2.68it/s]"
     ]
    },
    {
     "name": "stdout",
     "output_type": "stream",
     "text": [
      "Step 78281, training: ucc_acc=0.9333333373069763 weighted_loss=0.07573592662811279 ucc_loss=0.07573592662811279 ae_loss=0 eval: ucc_acc=0.9333333373069763 weighted_loss=0.0666533038020134 ucc_loss=0.0666533038020134 ae_loss=0\n"
     ]
    },
    {
     "name": "stderr",
     "output_type": "stream",
     "text": [
      " 91%|█████████▏| 18300/20009 [1:40:21<09:57,  2.86it/s]"
     ]
    },
    {
     "name": "stdout",
     "output_type": "stream",
     "text": [
      "Step 78291, training: ucc_acc=1.0 weighted_loss=0.0052712117321789265 ucc_loss=0.0052712117321789265 ae_loss=0 eval: ucc_acc=1.0 weighted_loss=0.0029575671069324017 ucc_loss=0.0029575671069324017 ae_loss=0\n"
     ]
    },
    {
     "name": "stderr",
     "output_type": "stream",
     "text": [
      " 92%|█████████▏| 18310/20009 [1:40:24<10:01,  2.83it/s]"
     ]
    },
    {
     "name": "stdout",
     "output_type": "stream",
     "text": [
      "Step 78301, training: ucc_acc=1.0 weighted_loss=0.04407637193799019 ucc_loss=0.04407637193799019 ae_loss=0 eval: ucc_acc=1.0 weighted_loss=0.030577432364225388 ucc_loss=0.030577432364225388 ae_loss=0\n"
     ]
    },
    {
     "name": "stderr",
     "output_type": "stream",
     "text": [
      " 92%|█████████▏| 18320/20009 [1:40:27<09:41,  2.91it/s]"
     ]
    },
    {
     "name": "stdout",
     "output_type": "stream",
     "text": [
      "Step 78311, training: ucc_acc=1.0 weighted_loss=0.006839854177087545 ucc_loss=0.006839854177087545 ae_loss=0 eval: ucc_acc=1.0 weighted_loss=0.037822749465703964 ucc_loss=0.037822749465703964 ae_loss=0\n"
     ]
    },
    {
     "name": "stderr",
     "output_type": "stream",
     "text": [
      " 92%|█████████▏| 18330/20009 [1:40:31<09:54,  2.82it/s]"
     ]
    },
    {
     "name": "stdout",
     "output_type": "stream",
     "text": [
      "Step 78321, training: ucc_acc=1.0 weighted_loss=0.013081228360533714 ucc_loss=0.013081228360533714 ae_loss=0 eval: ucc_acc=1.0 weighted_loss=0.0020127366296947002 ucc_loss=0.0020127366296947002 ae_loss=0\n"
     ]
    },
    {
     "name": "stderr",
     "output_type": "stream",
     "text": [
      " 92%|█████████▏| 18340/20009 [1:40:34<09:34,  2.90it/s]"
     ]
    },
    {
     "name": "stdout",
     "output_type": "stream",
     "text": [
      "Step 78331, training: ucc_acc=1.0 weighted_loss=0.00633287476375699 ucc_loss=0.00633287476375699 ae_loss=0 eval: ucc_acc=1.0 weighted_loss=0.00629650941118598 ucc_loss=0.00629650941118598 ae_loss=0\n"
     ]
    },
    {
     "name": "stderr",
     "output_type": "stream",
     "text": [
      " 92%|█████████▏| 18350/20009 [1:40:37<09:40,  2.86it/s]"
     ]
    },
    {
     "name": "stdout",
     "output_type": "stream",
     "text": [
      "Step 78341, training: ucc_acc=1.0 weighted_loss=0.010674008168280125 ucc_loss=0.010674008168280125 ae_loss=0 eval: ucc_acc=1.0 weighted_loss=0.0026896647177636623 ucc_loss=0.0026896647177636623 ae_loss=0\n"
     ]
    },
    {
     "name": "stderr",
     "output_type": "stream",
     "text": [
      " 92%|█████████▏| 18360/20009 [1:40:40<09:42,  2.83it/s]"
     ]
    },
    {
     "name": "stdout",
     "output_type": "stream",
     "text": [
      "Step 78351, training: ucc_acc=1.0 weighted_loss=0.005832173861563206 ucc_loss=0.005832173861563206 ae_loss=0 eval: ucc_acc=1.0 weighted_loss=0.00044386342051438987 ucc_loss=0.00044386342051438987 ae_loss=0\n"
     ]
    },
    {
     "name": "stderr",
     "output_type": "stream",
     "text": [
      " 92%|█████████▏| 18370/20009 [1:40:43<09:17,  2.94it/s]"
     ]
    },
    {
     "name": "stdout",
     "output_type": "stream",
     "text": [
      "Step 78361, training: ucc_acc=1.0 weighted_loss=0.0097590871155262 ucc_loss=0.0097590871155262 ae_loss=0 eval: ucc_acc=1.0 weighted_loss=0.010119196027517319 ucc_loss=0.010119196027517319 ae_loss=0\n"
     ]
    },
    {
     "name": "stderr",
     "output_type": "stream",
     "text": [
      " 92%|█████████▏| 18380/20009 [1:40:46<09:40,  2.81it/s]"
     ]
    },
    {
     "name": "stdout",
     "output_type": "stream",
     "text": [
      "Step 78371, training: ucc_acc=1.0 weighted_loss=0.011096456088125706 ucc_loss=0.011096456088125706 ae_loss=0 eval: ucc_acc=1.0 weighted_loss=0.0468391515314579 ucc_loss=0.0468391515314579 ae_loss=0\n"
     ]
    },
    {
     "name": "stderr",
     "output_type": "stream",
     "text": [
      " 92%|█████████▏| 18390/20009 [1:40:50<09:17,  2.90it/s]"
     ]
    },
    {
     "name": "stdout",
     "output_type": "stream",
     "text": [
      "Step 78381, training: ucc_acc=1.0 weighted_loss=0.0023602619767189026 ucc_loss=0.0023602619767189026 ae_loss=0 eval: ucc_acc=0.9333333373069763 weighted_loss=0.11686015874147415 ucc_loss=0.11686015874147415 ae_loss=0\n"
     ]
    },
    {
     "name": "stderr",
     "output_type": "stream",
     "text": [
      " 92%|█████████▏| 18400/20009 [1:40:53<09:21,  2.87it/s]"
     ]
    },
    {
     "name": "stdout",
     "output_type": "stream",
     "text": [
      "Step 78391, training: ucc_acc=1.0 weighted_loss=0.0023111409973353148 ucc_loss=0.0023111409973353148 ae_loss=0 eval: ucc_acc=1.0 weighted_loss=0.008950828574597836 ucc_loss=0.008950828574597836 ae_loss=0\n"
     ]
    },
    {
     "name": "stderr",
     "output_type": "stream",
     "text": [
      " 92%|█████████▏| 18410/20009 [1:40:56<09:07,  2.92it/s]"
     ]
    },
    {
     "name": "stdout",
     "output_type": "stream",
     "text": [
      "Step 78401, training: ucc_acc=1.0 weighted_loss=0.020471841096878052 ucc_loss=0.020471841096878052 ae_loss=0 eval: ucc_acc=1.0 weighted_loss=0.035061974078416824 ucc_loss=0.035061974078416824 ae_loss=0\n"
     ]
    },
    {
     "name": "stderr",
     "output_type": "stream",
     "text": [
      " 92%|█████████▏| 18420/20009 [1:40:59<09:08,  2.90it/s]"
     ]
    },
    {
     "name": "stdout",
     "output_type": "stream",
     "text": [
      "Step 78411, training: ucc_acc=1.0 weighted_loss=0.00025635413476265967 ucc_loss=0.00025635413476265967 ae_loss=0 eval: ucc_acc=1.0 weighted_loss=0.0028446479700505733 ucc_loss=0.0028446479700505733 ae_loss=0\n"
     ]
    },
    {
     "name": "stderr",
     "output_type": "stream",
     "text": [
      " 92%|█████████▏| 18430/20009 [1:41:02<09:17,  2.83it/s]"
     ]
    },
    {
     "name": "stdout",
     "output_type": "stream",
     "text": [
      "Step 78421, training: ucc_acc=1.0 weighted_loss=0.0006289658485911787 ucc_loss=0.0006289658485911787 ae_loss=0 eval: ucc_acc=1.0 weighted_loss=0.001184837776236236 ucc_loss=0.001184837776236236 ae_loss=0\n"
     ]
    },
    {
     "name": "stderr",
     "output_type": "stream",
     "text": [
      " 92%|█████████▏| 18440/20009 [1:41:06<09:10,  2.85it/s]"
     ]
    },
    {
     "name": "stdout",
     "output_type": "stream",
     "text": [
      "Step 78431, training: ucc_acc=1.0 weighted_loss=0.0005513575742952526 ucc_loss=0.0005513575742952526 ae_loss=0 eval: ucc_acc=1.0 weighted_loss=0.0011360322823747993 ucc_loss=0.0011360322823747993 ae_loss=0\n"
     ]
    },
    {
     "name": "stderr",
     "output_type": "stream",
     "text": [
      " 92%|█████████▏| 18450/20009 [1:41:09<08:44,  2.97it/s]"
     ]
    },
    {
     "name": "stdout",
     "output_type": "stream",
     "text": [
      "Step 78441, training: ucc_acc=0.9333333373069763 weighted_loss=0.11976288259029388 ucc_loss=0.11976288259029388 ae_loss=0 eval: ucc_acc=0.9333333373069763 weighted_loss=0.18853674829006195 ucc_loss=0.18853674829006195 ae_loss=0\n"
     ]
    },
    {
     "name": "stderr",
     "output_type": "stream",
     "text": [
      " 92%|█████████▏| 18460/20009 [1:41:12<09:02,  2.86it/s]"
     ]
    },
    {
     "name": "stdout",
     "output_type": "stream",
     "text": [
      "Step 78451, training: ucc_acc=1.0 weighted_loss=0.010206859558820724 ucc_loss=0.010206859558820724 ae_loss=0 eval: ucc_acc=1.0 weighted_loss=0.0005209429655224085 ucc_loss=0.0005209429655224085 ae_loss=0\n"
     ]
    },
    {
     "name": "stderr",
     "output_type": "stream",
     "text": [
      " 92%|█████████▏| 18470/20009 [1:41:15<08:43,  2.94it/s]"
     ]
    },
    {
     "name": "stdout",
     "output_type": "stream",
     "text": [
      "Step 78461, training: ucc_acc=1.0 weighted_loss=0.024851972237229347 ucc_loss=0.024851972237229347 ae_loss=0 eval: ucc_acc=0.9333333373069763 weighted_loss=0.28346455097198486 ucc_loss=0.28346455097198486 ae_loss=0\n"
     ]
    },
    {
     "name": "stderr",
     "output_type": "stream",
     "text": [
      " 92%|█████████▏| 18480/20009 [1:41:18<09:11,  2.77it/s]"
     ]
    },
    {
     "name": "stdout",
     "output_type": "stream",
     "text": [
      "Step 78471, training: ucc_acc=1.0 weighted_loss=0.019519347697496414 ucc_loss=0.019519347697496414 ae_loss=0 eval: ucc_acc=1.0 weighted_loss=0.0002806054544635117 ucc_loss=0.0002806054544635117 ae_loss=0\n"
     ]
    },
    {
     "name": "stderr",
     "output_type": "stream",
     "text": [
      " 92%|█████████▏| 18490/20009 [1:41:22<08:51,  2.86it/s]"
     ]
    },
    {
     "name": "stdout",
     "output_type": "stream",
     "text": [
      "Step 78481, training: ucc_acc=1.0 weighted_loss=0.0016544434474781156 ucc_loss=0.0016544434474781156 ae_loss=0 eval: ucc_acc=1.0 weighted_loss=0.0021074716933071613 ucc_loss=0.0021074716933071613 ae_loss=0\n"
     ]
    },
    {
     "name": "stderr",
     "output_type": "stream",
     "text": [
      " 92%|█████████▏| 18500/20009 [1:41:25<08:45,  2.87it/s]"
     ]
    },
    {
     "name": "stdout",
     "output_type": "stream",
     "text": [
      "Step 78491, training: ucc_acc=1.0 weighted_loss=0.005454756785184145 ucc_loss=0.005454756785184145 ae_loss=0 eval: ucc_acc=1.0 weighted_loss=0.016293171793222427 ucc_loss=0.016293171793222427 ae_loss=0\n"
     ]
    },
    {
     "name": "stderr",
     "output_type": "stream",
     "text": [
      " 93%|█████████▎| 18510/20009 [1:41:28<08:32,  2.93it/s]"
     ]
    },
    {
     "name": "stdout",
     "output_type": "stream",
     "text": [
      "Step 78501, training: ucc_acc=1.0 weighted_loss=0.014633321203291416 ucc_loss=0.014633321203291416 ae_loss=0 eval: ucc_acc=0.9333333373069763 weighted_loss=0.17362403869628906 ucc_loss=0.17362403869628906 ae_loss=0\n"
     ]
    },
    {
     "name": "stderr",
     "output_type": "stream",
     "text": [
      " 93%|█████████▎| 18520/20009 [1:41:31<08:40,  2.86it/s]"
     ]
    },
    {
     "name": "stdout",
     "output_type": "stream",
     "text": [
      "Step 78511, training: ucc_acc=1.0 weighted_loss=0.052590250968933105 ucc_loss=0.052590250968933105 ae_loss=0 eval: ucc_acc=1.0 weighted_loss=0.0005248058587312698 ucc_loss=0.0005248058587312698 ae_loss=0\n"
     ]
    },
    {
     "name": "stderr",
     "output_type": "stream",
     "text": [
      " 93%|█████████▎| 18530/20009 [1:41:34<08:30,  2.90it/s]"
     ]
    },
    {
     "name": "stdout",
     "output_type": "stream",
     "text": [
      "Step 78521, training: ucc_acc=0.9333333373069763 weighted_loss=0.06915705651044846 ucc_loss=0.06915705651044846 ae_loss=0 eval: ucc_acc=1.0 weighted_loss=0.0090886689722538 ucc_loss=0.0090886689722538 ae_loss=0\n"
     ]
    },
    {
     "name": "stderr",
     "output_type": "stream",
     "text": [
      " 93%|█████████▎| 18540/20009 [1:41:37<08:30,  2.88it/s]"
     ]
    },
    {
     "name": "stdout",
     "output_type": "stream",
     "text": [
      "Step 78531, training: ucc_acc=1.0 weighted_loss=0.0005531621864065528 ucc_loss=0.0005531621864065528 ae_loss=0 eval: ucc_acc=1.0 weighted_loss=0.011479988694190979 ucc_loss=0.011479988694190979 ae_loss=0\n"
     ]
    },
    {
     "name": "stderr",
     "output_type": "stream",
     "text": [
      " 93%|█████████▎| 18550/20009 [1:41:41<08:34,  2.84it/s]"
     ]
    },
    {
     "name": "stdout",
     "output_type": "stream",
     "text": [
      "Step 78541, training: ucc_acc=1.0 weighted_loss=0.0005848402506671846 ucc_loss=0.0005848402506671846 ae_loss=0 eval: ucc_acc=1.0 weighted_loss=0.04932927340269089 ucc_loss=0.04932927340269089 ae_loss=0\n"
     ]
    },
    {
     "name": "stderr",
     "output_type": "stream",
     "text": [
      " 93%|█████████▎| 18560/20009 [1:41:44<08:42,  2.77it/s]"
     ]
    },
    {
     "name": "stdout",
     "output_type": "stream",
     "text": [
      "Step 78551, training: ucc_acc=1.0 weighted_loss=0.011753108352422714 ucc_loss=0.011753108352422714 ae_loss=0 eval: ucc_acc=1.0 weighted_loss=0.00012203124788356945 ucc_loss=0.00012203124788356945 ae_loss=0\n"
     ]
    },
    {
     "name": "stderr",
     "output_type": "stream",
     "text": [
      " 93%|█████████▎| 18570/20009 [1:41:47<08:24,  2.85it/s]"
     ]
    },
    {
     "name": "stdout",
     "output_type": "stream",
     "text": [
      "Step 78561, training: ucc_acc=1.0 weighted_loss=0.012391229160130024 ucc_loss=0.012391229160130024 ae_loss=0 eval: ucc_acc=1.0 weighted_loss=0.0027611085679382086 ucc_loss=0.0027611085679382086 ae_loss=0\n"
     ]
    },
    {
     "name": "stderr",
     "output_type": "stream",
     "text": [
      " 93%|█████████▎| 18580/20009 [1:41:50<08:15,  2.88it/s]"
     ]
    },
    {
     "name": "stdout",
     "output_type": "stream",
     "text": [
      "Step 78571, training: ucc_acc=1.0 weighted_loss=0.04557012766599655 ucc_loss=0.04557012766599655 ae_loss=0 eval: ucc_acc=1.0 weighted_loss=0.026952693238854408 ucc_loss=0.026952693238854408 ae_loss=0\n"
     ]
    },
    {
     "name": "stderr",
     "output_type": "stream",
     "text": [
      " 93%|█████████▎| 18590/20009 [1:41:53<08:17,  2.85it/s]"
     ]
    },
    {
     "name": "stdout",
     "output_type": "stream",
     "text": [
      "Step 78581, training: ucc_acc=1.0 weighted_loss=6.900937296450138e-05 ucc_loss=6.900937296450138e-05 ae_loss=0 eval: ucc_acc=1.0 weighted_loss=0.0010552394669502974 ucc_loss=0.0010552394669502974 ae_loss=0\n"
     ]
    },
    {
     "name": "stderr",
     "output_type": "stream",
     "text": [
      " 93%|█████████▎| 18600/20009 [1:41:57<07:57,  2.95it/s]"
     ]
    },
    {
     "name": "stdout",
     "output_type": "stream",
     "text": [
      "Step 78591, training: ucc_acc=1.0 weighted_loss=0.007042987272143364 ucc_loss=0.007042987272143364 ae_loss=0 eval: ucc_acc=0.9333333373069763 weighted_loss=0.07093751430511475 ucc_loss=0.07093751430511475 ae_loss=0\n"
     ]
    },
    {
     "name": "stderr",
     "output_type": "stream",
     "text": [
      " 93%|█████████▎| 18610/20009 [1:42:00<08:03,  2.89it/s]"
     ]
    },
    {
     "name": "stdout",
     "output_type": "stream",
     "text": [
      "Step 78601, training: ucc_acc=1.0 weighted_loss=0.007902834564447403 ucc_loss=0.007902834564447403 ae_loss=0 eval: ucc_acc=1.0 weighted_loss=0.0003338780370540917 ucc_loss=0.0003338780370540917 ae_loss=0\n"
     ]
    },
    {
     "name": "stderr",
     "output_type": "stream",
     "text": [
      " 93%|█████████▎| 18620/20009 [1:42:03<08:02,  2.88it/s]"
     ]
    },
    {
     "name": "stdout",
     "output_type": "stream",
     "text": [
      "Step 78611, training: ucc_acc=1.0 weighted_loss=0.005937099922448397 ucc_loss=0.005937099922448397 ae_loss=0 eval: ucc_acc=1.0 weighted_loss=0.0030691747087985277 ucc_loss=0.0030691747087985277 ae_loss=0\n"
     ]
    },
    {
     "name": "stderr",
     "output_type": "stream",
     "text": [
      " 93%|█████████▎| 18630/20009 [1:42:06<08:04,  2.85it/s]"
     ]
    },
    {
     "name": "stdout",
     "output_type": "stream",
     "text": [
      "Step 78621, training: ucc_acc=1.0 weighted_loss=0.0025347876362502575 ucc_loss=0.0025347876362502575 ae_loss=0 eval: ucc_acc=1.0 weighted_loss=0.018742572516202927 ucc_loss=0.018742572516202927 ae_loss=0\n"
     ]
    },
    {
     "name": "stderr",
     "output_type": "stream",
     "text": [
      " 93%|█████████▎| 18640/20009 [1:42:09<07:54,  2.88it/s]"
     ]
    },
    {
     "name": "stdout",
     "output_type": "stream",
     "text": [
      "Step 78631, training: ucc_acc=1.0 weighted_loss=0.0031634639017283916 ucc_loss=0.0031634639017283916 ae_loss=0 eval: ucc_acc=1.0 weighted_loss=0.0190726388245821 ucc_loss=0.0190726388245821 ae_loss=0\n"
     ]
    },
    {
     "name": "stderr",
     "output_type": "stream",
     "text": [
      " 93%|█████████▎| 18650/20009 [1:42:12<08:01,  2.82it/s]"
     ]
    },
    {
     "name": "stdout",
     "output_type": "stream",
     "text": [
      "Step 78641, training: ucc_acc=1.0 weighted_loss=0.009075808338820934 ucc_loss=0.009075808338820934 ae_loss=0 eval: ucc_acc=1.0 weighted_loss=0.01696511171758175 ucc_loss=0.01696511171758175 ae_loss=0\n"
     ]
    },
    {
     "name": "stderr",
     "output_type": "stream",
     "text": [
      " 93%|█████████▎| 18660/20009 [1:42:16<07:53,  2.85it/s]"
     ]
    },
    {
     "name": "stdout",
     "output_type": "stream",
     "text": [
      "Step 78651, training: ucc_acc=1.0 weighted_loss=0.019625848159193993 ucc_loss=0.019625848159193993 ae_loss=0 eval: ucc_acc=1.0 weighted_loss=0.007017912808805704 ucc_loss=0.007017912808805704 ae_loss=0\n"
     ]
    },
    {
     "name": "stderr",
     "output_type": "stream",
     "text": [
      " 93%|█████████▎| 18670/20009 [1:42:19<07:54,  2.82it/s]"
     ]
    },
    {
     "name": "stdout",
     "output_type": "stream",
     "text": [
      "Step 78661, training: ucc_acc=1.0 weighted_loss=0.0003287073050159961 ucc_loss=0.0003287073050159961 ae_loss=0 eval: ucc_acc=1.0 weighted_loss=0.011251580901443958 ucc_loss=0.011251580901443958 ae_loss=0\n"
     ]
    },
    {
     "name": "stderr",
     "output_type": "stream",
     "text": [
      " 93%|█████████▎| 18680/20009 [1:42:22<07:47,  2.84it/s]"
     ]
    },
    {
     "name": "stdout",
     "output_type": "stream",
     "text": [
      "Step 78671, training: ucc_acc=1.0 weighted_loss=0.020885834470391273 ucc_loss=0.020885834470391273 ae_loss=0 eval: ucc_acc=1.0 weighted_loss=0.0016903795767575502 ucc_loss=0.0016903795767575502 ae_loss=0\n"
     ]
    },
    {
     "name": "stderr",
     "output_type": "stream",
     "text": [
      " 93%|█████████▎| 18690/20009 [1:42:25<07:58,  2.76it/s]"
     ]
    },
    {
     "name": "stdout",
     "output_type": "stream",
     "text": [
      "Step 78681, training: ucc_acc=1.0 weighted_loss=0.00012006791803287342 ucc_loss=0.00012006791803287342 ae_loss=0 eval: ucc_acc=1.0 weighted_loss=0.011683207005262375 ucc_loss=0.011683207005262375 ae_loss=0\n"
     ]
    },
    {
     "name": "stderr",
     "output_type": "stream",
     "text": [
      " 93%|█████████▎| 18700/20009 [1:42:29<07:38,  2.86it/s]"
     ]
    },
    {
     "name": "stdout",
     "output_type": "stream",
     "text": [
      "Step 78691, training: ucc_acc=1.0 weighted_loss=0.015449748374521732 ucc_loss=0.015449748374521732 ae_loss=0 eval: ucc_acc=1.0 weighted_loss=0.0067849415354430676 ucc_loss=0.0067849415354430676 ae_loss=0\n"
     ]
    },
    {
     "name": "stderr",
     "output_type": "stream",
     "text": [
      " 94%|█████████▎| 18710/20009 [1:42:32<07:36,  2.84it/s]"
     ]
    },
    {
     "name": "stdout",
     "output_type": "stream",
     "text": [
      "Step 78701, training: ucc_acc=1.0 weighted_loss=0.006753179244697094 ucc_loss=0.006753179244697094 ae_loss=0 eval: ucc_acc=1.0 weighted_loss=0.01727236993610859 ucc_loss=0.01727236993610859 ae_loss=0\n"
     ]
    },
    {
     "name": "stderr",
     "output_type": "stream",
     "text": [
      " 94%|█████████▎| 18720/20009 [1:42:35<07:28,  2.87it/s]"
     ]
    },
    {
     "name": "stdout",
     "output_type": "stream",
     "text": [
      "Step 78711, training: ucc_acc=0.8666666746139526 weighted_loss=0.20861993730068207 ucc_loss=0.20861993730068207 ae_loss=0 eval: ucc_acc=1.0 weighted_loss=0.002171105705201626 ucc_loss=0.002171105705201626 ae_loss=0\n"
     ]
    },
    {
     "name": "stderr",
     "output_type": "stream",
     "text": [
      " 94%|█████████▎| 18730/20009 [1:42:38<07:32,  2.83it/s]"
     ]
    },
    {
     "name": "stdout",
     "output_type": "stream",
     "text": [
      "Step 78721, training: ucc_acc=1.0 weighted_loss=0.024687621742486954 ucc_loss=0.024687621742486954 ae_loss=0 eval: ucc_acc=1.0 weighted_loss=0.000550413504242897 ucc_loss=0.000550413504242897 ae_loss=0\n"
     ]
    },
    {
     "name": "stderr",
     "output_type": "stream",
     "text": [
      " 94%|█████████▎| 18740/20009 [1:42:41<07:17,  2.90it/s]"
     ]
    },
    {
     "name": "stdout",
     "output_type": "stream",
     "text": [
      "Step 78731, training: ucc_acc=1.0 weighted_loss=0.00012595205043908209 ucc_loss=0.00012595205043908209 ae_loss=0 eval: ucc_acc=1.0 weighted_loss=0.0017613142263144255 ucc_loss=0.0017613142263144255 ae_loss=0\n"
     ]
    },
    {
     "name": "stderr",
     "output_type": "stream",
     "text": [
      " 94%|█████████▎| 18750/20009 [1:42:44<07:13,  2.91it/s]"
     ]
    },
    {
     "name": "stdout",
     "output_type": "stream",
     "text": [
      "Step 78741, training: ucc_acc=0.9333333373069763 weighted_loss=0.08881887048482895 ucc_loss=0.08881887048482895 ae_loss=0 eval: ucc_acc=1.0 weighted_loss=0.03429601341485977 ucc_loss=0.03429601341485977 ae_loss=0\n"
     ]
    },
    {
     "name": "stderr",
     "output_type": "stream",
     "text": [
      " 94%|█████████▍| 18760/20009 [1:42:48<07:19,  2.84it/s]"
     ]
    },
    {
     "name": "stdout",
     "output_type": "stream",
     "text": [
      "Step 78751, training: ucc_acc=1.0 weighted_loss=0.014204796403646469 ucc_loss=0.014204796403646469 ae_loss=0 eval: ucc_acc=1.0 weighted_loss=0.027918873354792595 ucc_loss=0.027918873354792595 ae_loss=0\n"
     ]
    },
    {
     "name": "stderr",
     "output_type": "stream",
     "text": [
      " 94%|█████████▍| 18770/20009 [1:42:51<07:04,  2.92it/s]"
     ]
    },
    {
     "name": "stdout",
     "output_type": "stream",
     "text": [
      "Step 78761, training: ucc_acc=1.0 weighted_loss=0.00259092403575778 ucc_loss=0.00259092403575778 ae_loss=0 eval: ucc_acc=0.9333333373069763 weighted_loss=0.16077201068401337 ucc_loss=0.16077201068401337 ae_loss=0\n"
     ]
    },
    {
     "name": "stderr",
     "output_type": "stream",
     "text": [
      " 94%|█████████▍| 18780/20009 [1:42:54<07:12,  2.84it/s]"
     ]
    },
    {
     "name": "stdout",
     "output_type": "stream",
     "text": [
      "Step 78771, training: ucc_acc=1.0 weighted_loss=0.00046662456588819623 ucc_loss=0.00046662456588819623 ae_loss=0 eval: ucc_acc=1.0 weighted_loss=0.04857771843671799 ucc_loss=0.04857771843671799 ae_loss=0\n"
     ]
    },
    {
     "name": "stderr",
     "output_type": "stream",
     "text": [
      " 94%|█████████▍| 18790/20009 [1:42:57<06:53,  2.95it/s]"
     ]
    },
    {
     "name": "stdout",
     "output_type": "stream",
     "text": [
      "Step 78781, training: ucc_acc=1.0 weighted_loss=0.03609136864542961 ucc_loss=0.03609136864542961 ae_loss=0 eval: ucc_acc=1.0 weighted_loss=0.00028591707814484835 ucc_loss=0.00028591707814484835 ae_loss=0\n"
     ]
    },
    {
     "name": "stderr",
     "output_type": "stream",
     "text": [
      " 94%|█████████▍| 18800/20009 [1:43:00<07:11,  2.80it/s]"
     ]
    },
    {
     "name": "stdout",
     "output_type": "stream",
     "text": [
      "Step 78791, training: ucc_acc=1.0 weighted_loss=0.013712188228964806 ucc_loss=0.013712188228964806 ae_loss=0 eval: ucc_acc=1.0 weighted_loss=0.0075144171714782715 ucc_loss=0.0075144171714782715 ae_loss=0\n"
     ]
    },
    {
     "name": "stderr",
     "output_type": "stream",
     "text": [
      " 94%|█████████▍| 18810/20009 [1:43:04<06:51,  2.91it/s]"
     ]
    },
    {
     "name": "stdout",
     "output_type": "stream",
     "text": [
      "Step 78801, training: ucc_acc=1.0 weighted_loss=0.01599707081913948 ucc_loss=0.01599707081913948 ae_loss=0 eval: ucc_acc=1.0 weighted_loss=0.010080435313284397 ucc_loss=0.010080435313284397 ae_loss=0\n"
     ]
    },
    {
     "name": "stderr",
     "output_type": "stream",
     "text": [
      " 94%|█████████▍| 18820/20009 [1:43:07<07:05,  2.79it/s]"
     ]
    },
    {
     "name": "stdout",
     "output_type": "stream",
     "text": [
      "Step 78811, training: ucc_acc=1.0 weighted_loss=0.02086564339697361 ucc_loss=0.02086564339697361 ae_loss=0 eval: ucc_acc=1.0 weighted_loss=0.00036282240762375295 ucc_loss=0.00036282240762375295 ae_loss=0\n"
     ]
    },
    {
     "name": "stderr",
     "output_type": "stream",
     "text": [
      " 94%|█████████▍| 18830/20009 [1:43:10<06:47,  2.89it/s]"
     ]
    },
    {
     "name": "stdout",
     "output_type": "stream",
     "text": [
      "Step 78821, training: ucc_acc=1.0 weighted_loss=0.010463358834385872 ucc_loss=0.010463358834385872 ae_loss=0 eval: ucc_acc=1.0 weighted_loss=0.006650825031101704 ucc_loss=0.006650825031101704 ae_loss=0\n"
     ]
    },
    {
     "name": "stderr",
     "output_type": "stream",
     "text": [
      " 94%|█████████▍| 18840/20009 [1:43:13<06:45,  2.88it/s]"
     ]
    },
    {
     "name": "stdout",
     "output_type": "stream",
     "text": [
      "Step 78831, training: ucc_acc=1.0 weighted_loss=0.0028868368826806545 ucc_loss=0.0028868368826806545 ae_loss=0 eval: ucc_acc=1.0 weighted_loss=0.024276908487081528 ucc_loss=0.024276908487081528 ae_loss=0\n"
     ]
    },
    {
     "name": "stderr",
     "output_type": "stream",
     "text": [
      " 94%|█████████▍| 18850/20009 [1:43:16<06:46,  2.85it/s]"
     ]
    },
    {
     "name": "stdout",
     "output_type": "stream",
     "text": [
      "Step 78841, training: ucc_acc=1.0 weighted_loss=0.010001824237406254 ucc_loss=0.010001824237406254 ae_loss=0 eval: ucc_acc=1.0 weighted_loss=0.029823197051882744 ucc_loss=0.029823197051882744 ae_loss=0\n"
     ]
    },
    {
     "name": "stderr",
     "output_type": "stream",
     "text": [
      " 94%|█████████▍| 18860/20009 [1:43:20<06:47,  2.82it/s]"
     ]
    },
    {
     "name": "stdout",
     "output_type": "stream",
     "text": [
      "Step 78851, training: ucc_acc=1.0 weighted_loss=0.0020621789153665304 ucc_loss=0.0020621789153665304 ae_loss=0 eval: ucc_acc=1.0 weighted_loss=0.00041139943641610444 ucc_loss=0.00041139943641610444 ae_loss=0\n"
     ]
    },
    {
     "name": "stderr",
     "output_type": "stream",
     "text": [
      " 94%|█████████▍| 18870/20009 [1:43:23<06:36,  2.88it/s]"
     ]
    },
    {
     "name": "stdout",
     "output_type": "stream",
     "text": [
      "Step 78861, training: ucc_acc=1.0 weighted_loss=0.001008716644719243 ucc_loss=0.001008716644719243 ae_loss=0 eval: ucc_acc=0.9333333373069763 weighted_loss=0.07201575487852097 ucc_loss=0.07201575487852097 ae_loss=0\n"
     ]
    },
    {
     "name": "stderr",
     "output_type": "stream",
     "text": [
      " 94%|█████████▍| 18880/20009 [1:43:26<06:34,  2.86it/s]"
     ]
    },
    {
     "name": "stdout",
     "output_type": "stream",
     "text": [
      "Step 78871, training: ucc_acc=1.0 weighted_loss=0.0026826185639947653 ucc_loss=0.0026826185639947653 ae_loss=0 eval: ucc_acc=1.0 weighted_loss=0.006253327243030071 ucc_loss=0.006253327243030071 ae_loss=0\n"
     ]
    },
    {
     "name": "stderr",
     "output_type": "stream",
     "text": [
      " 94%|█████████▍| 18890/20009 [1:43:29<06:34,  2.83it/s]"
     ]
    },
    {
     "name": "stdout",
     "output_type": "stream",
     "text": [
      "Step 78881, training: ucc_acc=1.0 weighted_loss=0.009955568239092827 ucc_loss=0.009955568239092827 ae_loss=0 eval: ucc_acc=0.9333333373069763 weighted_loss=0.07800713181495667 ucc_loss=0.07800713181495667 ae_loss=0\n"
     ]
    },
    {
     "name": "stderr",
     "output_type": "stream",
     "text": [
      " 94%|█████████▍| 18900/20009 [1:43:33<06:25,  2.88it/s]"
     ]
    },
    {
     "name": "stdout",
     "output_type": "stream",
     "text": [
      "Step 78891, training: ucc_acc=1.0 weighted_loss=0.006889815907925367 ucc_loss=0.006889815907925367 ae_loss=0 eval: ucc_acc=1.0 weighted_loss=0.008700043894350529 ucc_loss=0.008700043894350529 ae_loss=0\n"
     ]
    },
    {
     "name": "stderr",
     "output_type": "stream",
     "text": [
      " 95%|█████████▍| 18910/20009 [1:43:36<06:24,  2.86it/s]"
     ]
    },
    {
     "name": "stdout",
     "output_type": "stream",
     "text": [
      "Step 78901, training: ucc_acc=1.0 weighted_loss=0.017733225598931313 ucc_loss=0.017733225598931313 ae_loss=0 eval: ucc_acc=1.0 weighted_loss=0.006836214568465948 ucc_loss=0.006836214568465948 ae_loss=0\n"
     ]
    },
    {
     "name": "stderr",
     "output_type": "stream",
     "text": [
      " 95%|█████████▍| 18920/20009 [1:43:39<06:11,  2.93it/s]"
     ]
    },
    {
     "name": "stdout",
     "output_type": "stream",
     "text": [
      "Step 78911, training: ucc_acc=1.0 weighted_loss=0.0002149396314052865 ucc_loss=0.0002149396314052865 ae_loss=0 eval: ucc_acc=1.0 weighted_loss=0.016161251813173294 ucc_loss=0.016161251813173294 ae_loss=0\n"
     ]
    },
    {
     "name": "stderr",
     "output_type": "stream",
     "text": [
      " 95%|█████████▍| 18930/20009 [1:43:42<06:24,  2.81it/s]"
     ]
    },
    {
     "name": "stdout",
     "output_type": "stream",
     "text": [
      "Step 78921, training: ucc_acc=1.0 weighted_loss=0.005031850654631853 ucc_loss=0.005031850654631853 ae_loss=0 eval: ucc_acc=1.0 weighted_loss=0.008946558460593224 ucc_loss=0.008946558460593224 ae_loss=0\n"
     ]
    },
    {
     "name": "stderr",
     "output_type": "stream",
     "text": [
      " 95%|█████████▍| 18940/20009 [1:43:45<05:59,  2.97it/s]"
     ]
    },
    {
     "name": "stdout",
     "output_type": "stream",
     "text": [
      "Step 78931, training: ucc_acc=0.9333333373069763 weighted_loss=0.16499358415603638 ucc_loss=0.16499358415603638 ae_loss=0 eval: ucc_acc=0.9333333373069763 weighted_loss=0.054640982300043106 ucc_loss=0.054640982300043106 ae_loss=0\n"
     ]
    },
    {
     "name": "stderr",
     "output_type": "stream",
     "text": [
      " 95%|█████████▍| 18950/20009 [1:43:48<06:09,  2.87it/s]"
     ]
    },
    {
     "name": "stdout",
     "output_type": "stream",
     "text": [
      "Step 78941, training: ucc_acc=0.9333333373069763 weighted_loss=0.06992249935865402 ucc_loss=0.06992249935865402 ae_loss=0 eval: ucc_acc=1.0 weighted_loss=0.005857672076672316 ucc_loss=0.005857672076672316 ae_loss=0\n"
     ]
    },
    {
     "name": "stderr",
     "output_type": "stream",
     "text": [
      " 95%|█████████▍| 18960/20009 [1:43:52<06:18,  2.77it/s]"
     ]
    },
    {
     "name": "stdout",
     "output_type": "stream",
     "text": [
      "Step 78951, training: ucc_acc=1.0 weighted_loss=0.01398496888577938 ucc_loss=0.01398496888577938 ae_loss=0 eval: ucc_acc=1.0 weighted_loss=0.014413723722100258 ucc_loss=0.014413723722100258 ae_loss=0\n"
     ]
    },
    {
     "name": "stderr",
     "output_type": "stream",
     "text": [
      " 95%|█████████▍| 18970/20009 [1:43:55<06:04,  2.85it/s]"
     ]
    },
    {
     "name": "stdout",
     "output_type": "stream",
     "text": [
      "Step 78961, training: ucc_acc=1.0 weighted_loss=0.0011103064753115177 ucc_loss=0.0011103064753115177 ae_loss=0 eval: ucc_acc=1.0 weighted_loss=0.00559229264035821 ucc_loss=0.00559229264035821 ae_loss=0\n"
     ]
    },
    {
     "name": "stderr",
     "output_type": "stream",
     "text": [
      " 95%|█████████▍| 18980/20009 [1:43:58<06:01,  2.85it/s]"
     ]
    },
    {
     "name": "stdout",
     "output_type": "stream",
     "text": [
      "Step 78971, training: ucc_acc=1.0 weighted_loss=0.014224166981875896 ucc_loss=0.014224166981875896 ae_loss=0 eval: ucc_acc=1.0 weighted_loss=0.03978053107857704 ucc_loss=0.03978053107857704 ae_loss=0\n"
     ]
    },
    {
     "name": "stderr",
     "output_type": "stream",
     "text": [
      " 95%|█████████▍| 18990/20009 [1:44:01<05:51,  2.90it/s]"
     ]
    },
    {
     "name": "stdout",
     "output_type": "stream",
     "text": [
      "Step 78981, training: ucc_acc=1.0 weighted_loss=0.008730651810765266 ucc_loss=0.008730651810765266 ae_loss=0 eval: ucc_acc=1.0 weighted_loss=0.007924115285277367 ucc_loss=0.007924115285277367 ae_loss=0\n"
     ]
    },
    {
     "name": "stderr",
     "output_type": "stream",
     "text": [
      " 95%|█████████▍| 19000/20009 [1:44:04<05:45,  2.92it/s]"
     ]
    },
    {
     "name": "stdout",
     "output_type": "stream",
     "text": [
      "Step 78991, training: ucc_acc=1.0 weighted_loss=0.0010612976038828492 ucc_loss=0.0010612976038828492 ae_loss=0 eval: ucc_acc=0.9333333373069763 weighted_loss=0.15174587070941925 ucc_loss=0.15174587070941925 ae_loss=0\n"
     ]
    },
    {
     "name": "stderr",
     "output_type": "stream",
     "text": [
      " 95%|█████████▌| 19010/20009 [1:44:07<05:38,  2.95it/s]"
     ]
    },
    {
     "name": "stdout",
     "output_type": "stream",
     "text": [
      "Step 79001, training: ucc_acc=1.0 weighted_loss=0.016127828508615494 ucc_loss=0.016127828508615494 ae_loss=0 eval: ucc_acc=1.0 weighted_loss=0.003306825179606676 ucc_loss=0.003306825179606676 ae_loss=0\n"
     ]
    },
    {
     "name": "stderr",
     "output_type": "stream",
     "text": [
      " 95%|█████████▌| 19020/20009 [1:44:11<05:59,  2.75it/s]"
     ]
    },
    {
     "name": "stdout",
     "output_type": "stream",
     "text": [
      "Step 79011, training: ucc_acc=1.0 weighted_loss=0.006512722931802273 ucc_loss=0.006512722931802273 ae_loss=0 eval: ucc_acc=1.0 weighted_loss=0.01298595778644085 ucc_loss=0.01298595778644085 ae_loss=0\n"
     ]
    },
    {
     "name": "stderr",
     "output_type": "stream",
     "text": [
      " 95%|█████████▌| 19030/20009 [1:44:14<05:34,  2.93it/s]"
     ]
    },
    {
     "name": "stdout",
     "output_type": "stream",
     "text": [
      "Step 79021, training: ucc_acc=1.0 weighted_loss=0.0009742291294969618 ucc_loss=0.0009742291294969618 ae_loss=0 eval: ucc_acc=1.0 weighted_loss=0.00619451142847538 ucc_loss=0.00619451142847538 ae_loss=0\n"
     ]
    },
    {
     "name": "stderr",
     "output_type": "stream",
     "text": [
      " 95%|█████████▌| 19040/20009 [1:44:17<05:49,  2.78it/s]"
     ]
    },
    {
     "name": "stdout",
     "output_type": "stream",
     "text": [
      "Step 79031, training: ucc_acc=1.0 weighted_loss=0.017362920567393303 ucc_loss=0.017362920567393303 ae_loss=0 eval: ucc_acc=1.0 weighted_loss=0.016421936452388763 ucc_loss=0.016421936452388763 ae_loss=0\n"
     ]
    },
    {
     "name": "stderr",
     "output_type": "stream",
     "text": [
      " 95%|█████████▌| 19050/20009 [1:44:20<05:27,  2.93it/s]"
     ]
    },
    {
     "name": "stdout",
     "output_type": "stream",
     "text": [
      "Step 79041, training: ucc_acc=1.0 weighted_loss=0.020047627389431 ucc_loss=0.020047627389431 ae_loss=0 eval: ucc_acc=1.0 weighted_loss=0.010154605843126774 ucc_loss=0.010154605843126774 ae_loss=0\n"
     ]
    },
    {
     "name": "stderr",
     "output_type": "stream",
     "text": [
      " 95%|█████████▌| 19060/20009 [1:44:23<05:35,  2.83it/s]"
     ]
    },
    {
     "name": "stdout",
     "output_type": "stream",
     "text": [
      "Step 79051, training: ucc_acc=1.0 weighted_loss=0.012836546637117863 ucc_loss=0.012836546637117863 ae_loss=0 eval: ucc_acc=1.0 weighted_loss=0.0018175106961280107 ucc_loss=0.0018175106961280107 ae_loss=0\n"
     ]
    },
    {
     "name": "stderr",
     "output_type": "stream",
     "text": [
      " 95%|█████████▌| 19070/20009 [1:44:27<05:21,  2.92it/s]"
     ]
    },
    {
     "name": "stdout",
     "output_type": "stream",
     "text": [
      "Step 79061, training: ucc_acc=1.0 weighted_loss=0.014171913266181946 ucc_loss=0.014171913266181946 ae_loss=0 eval: ucc_acc=1.0 weighted_loss=0.004694501403719187 ucc_loss=0.004694501403719187 ae_loss=0\n"
     ]
    },
    {
     "name": "stderr",
     "output_type": "stream",
     "text": [
      " 95%|█████████▌| 19080/20009 [1:44:30<05:23,  2.87it/s]"
     ]
    },
    {
     "name": "stdout",
     "output_type": "stream",
     "text": [
      "Step 79071, training: ucc_acc=1.0 weighted_loss=0.03628551587462425 ucc_loss=0.03628551587462425 ae_loss=0 eval: ucc_acc=1.0 weighted_loss=0.01130526140332222 ucc_loss=0.01130526140332222 ae_loss=0\n"
     ]
    },
    {
     "name": "stderr",
     "output_type": "stream",
     "text": [
      " 95%|█████████▌| 19090/20009 [1:44:33<05:16,  2.90it/s]"
     ]
    },
    {
     "name": "stdout",
     "output_type": "stream",
     "text": [
      "Step 79081, training: ucc_acc=1.0 weighted_loss=0.011326100677251816 ucc_loss=0.011326100677251816 ae_loss=0 eval: ucc_acc=1.0 weighted_loss=0.008234203793108463 ucc_loss=0.008234203793108463 ae_loss=0\n"
     ]
    },
    {
     "name": "stderr",
     "output_type": "stream",
     "text": [
      " 95%|█████████▌| 19100/20009 [1:44:36<05:12,  2.90it/s]"
     ]
    },
    {
     "name": "stdout",
     "output_type": "stream",
     "text": [
      "Step 79091, training: ucc_acc=1.0 weighted_loss=0.006328278221189976 ucc_loss=0.006328278221189976 ae_loss=0 eval: ucc_acc=1.0 weighted_loss=0.0005268650711514056 ucc_loss=0.0005268650711514056 ae_loss=0\n"
     ]
    },
    {
     "name": "stderr",
     "output_type": "stream",
     "text": [
      " 96%|█████████▌| 19110/20009 [1:44:39<05:14,  2.85it/s]"
     ]
    },
    {
     "name": "stdout",
     "output_type": "stream",
     "text": [
      "Step 79101, training: ucc_acc=1.0 weighted_loss=0.008447731845080853 ucc_loss=0.008447731845080853 ae_loss=0 eval: ucc_acc=1.0 weighted_loss=0.0023944044951349497 ucc_loss=0.0023944044951349497 ae_loss=0\n"
     ]
    },
    {
     "name": "stderr",
     "output_type": "stream",
     "text": [
      " 96%|█████████▌| 19120/20009 [1:44:43<05:10,  2.87it/s]"
     ]
    },
    {
     "name": "stdout",
     "output_type": "stream",
     "text": [
      "Step 79111, training: ucc_acc=1.0 weighted_loss=0.006180881522595882 ucc_loss=0.006180881522595882 ae_loss=0 eval: ucc_acc=1.0 weighted_loss=0.00634829793125391 ucc_loss=0.00634829793125391 ae_loss=0\n"
     ]
    },
    {
     "name": "stderr",
     "output_type": "stream",
     "text": [
      " 96%|█████████▌| 19130/20009 [1:44:46<05:11,  2.82it/s]"
     ]
    },
    {
     "name": "stdout",
     "output_type": "stream",
     "text": [
      "Step 79121, training: ucc_acc=1.0 weighted_loss=0.01715923100709915 ucc_loss=0.01715923100709915 ae_loss=0 eval: ucc_acc=1.0 weighted_loss=0.006981949787586927 ucc_loss=0.006981949787586927 ae_loss=0\n"
     ]
    },
    {
     "name": "stderr",
     "output_type": "stream",
     "text": [
      " 96%|█████████▌| 19140/20009 [1:44:49<04:56,  2.93it/s]"
     ]
    },
    {
     "name": "stdout",
     "output_type": "stream",
     "text": [
      "Step 79131, training: ucc_acc=1.0 weighted_loss=0.013054152019321918 ucc_loss=0.013054152019321918 ae_loss=0 eval: ucc_acc=1.0 weighted_loss=0.0027138530276715755 ucc_loss=0.0027138530276715755 ae_loss=0\n"
     ]
    },
    {
     "name": "stderr",
     "output_type": "stream",
     "text": [
      " 96%|█████████▌| 19150/20009 [1:44:52<05:09,  2.77it/s]"
     ]
    },
    {
     "name": "stdout",
     "output_type": "stream",
     "text": [
      "Step 79141, training: ucc_acc=1.0 weighted_loss=0.003261118195950985 ucc_loss=0.003261118195950985 ae_loss=0 eval: ucc_acc=1.0 weighted_loss=0.01086606364697218 ucc_loss=0.01086606364697218 ae_loss=0\n"
     ]
    },
    {
     "name": "stderr",
     "output_type": "stream",
     "text": [
      " 96%|█████████▌| 19160/20009 [1:44:55<04:59,  2.84it/s]"
     ]
    },
    {
     "name": "stdout",
     "output_type": "stream",
     "text": [
      "Step 79151, training: ucc_acc=0.9333333373069763 weighted_loss=0.0722506120800972 ucc_loss=0.0722506120800972 ae_loss=0 eval: ucc_acc=1.0 weighted_loss=0.03016425482928753 ucc_loss=0.03016425482928753 ae_loss=0\n"
     ]
    },
    {
     "name": "stderr",
     "output_type": "stream",
     "text": [
      " 96%|█████████▌| 19170/20009 [1:44:59<05:30,  2.54it/s]"
     ]
    },
    {
     "name": "stdout",
     "output_type": "stream",
     "text": [
      "Step 79161, training: ucc_acc=0.9333333373069763 weighted_loss=0.14641441404819489 ucc_loss=0.14641441404819489 ae_loss=0 eval: ucc_acc=1.0 weighted_loss=0.05111636966466904 ucc_loss=0.05111636966466904 ae_loss=0\n"
     ]
    },
    {
     "name": "stderr",
     "output_type": "stream",
     "text": [
      " 96%|█████████▌| 19180/20009 [1:45:02<04:43,  2.92it/s]"
     ]
    },
    {
     "name": "stdout",
     "output_type": "stream",
     "text": [
      "Step 79171, training: ucc_acc=1.0 weighted_loss=0.013171314261853695 ucc_loss=0.013171314261853695 ae_loss=0 eval: ucc_acc=1.0 weighted_loss=0.018020514398813248 ucc_loss=0.018020514398813248 ae_loss=0\n"
     ]
    },
    {
     "name": "stderr",
     "output_type": "stream",
     "text": [
      " 96%|█████████▌| 19190/20009 [1:45:05<04:51,  2.81it/s]"
     ]
    },
    {
     "name": "stdout",
     "output_type": "stream",
     "text": [
      "Step 79181, training: ucc_acc=1.0 weighted_loss=0.010572019964456558 ucc_loss=0.010572019964456558 ae_loss=0 eval: ucc_acc=1.0 weighted_loss=0.001981165260076523 ucc_loss=0.001981165260076523 ae_loss=0\n"
     ]
    },
    {
     "name": "stderr",
     "output_type": "stream",
     "text": [
      " 96%|█████████▌| 19200/20009 [1:45:08<04:43,  2.86it/s]"
     ]
    },
    {
     "name": "stdout",
     "output_type": "stream",
     "text": [
      "Step 79191, training: ucc_acc=1.0 weighted_loss=0.0011328476248309016 ucc_loss=0.0011328476248309016 ae_loss=0 eval: ucc_acc=1.0 weighted_loss=0.009921591728925705 ucc_loss=0.009921591728925705 ae_loss=0\n"
     ]
    },
    {
     "name": "stderr",
     "output_type": "stream",
     "text": [
      " 96%|█████████▌| 19210/20009 [1:45:11<04:33,  2.92it/s]"
     ]
    },
    {
     "name": "stdout",
     "output_type": "stream",
     "text": [
      "Step 79201, training: ucc_acc=1.0 weighted_loss=0.0019253079080954194 ucc_loss=0.0019253079080954194 ae_loss=0 eval: ucc_acc=1.0 weighted_loss=0.004665993619710207 ucc_loss=0.004665993619710207 ae_loss=0\n"
     ]
    },
    {
     "name": "stderr",
     "output_type": "stream",
     "text": [
      " 96%|█████████▌| 19220/20009 [1:45:15<04:33,  2.88it/s]"
     ]
    },
    {
     "name": "stdout",
     "output_type": "stream",
     "text": [
      "Step 79211, training: ucc_acc=1.0 weighted_loss=0.015891261398792267 ucc_loss=0.015891261398792267 ae_loss=0 eval: ucc_acc=1.0 weighted_loss=0.005601811222732067 ucc_loss=0.005601811222732067 ae_loss=0\n"
     ]
    },
    {
     "name": "stderr",
     "output_type": "stream",
     "text": [
      " 96%|█████████▌| 19230/20009 [1:45:18<04:32,  2.85it/s]"
     ]
    },
    {
     "name": "stdout",
     "output_type": "stream",
     "text": [
      "Step 79221, training: ucc_acc=1.0 weighted_loss=0.01348727848380804 ucc_loss=0.01348727848380804 ae_loss=0 eval: ucc_acc=1.0 weighted_loss=0.012133858166635036 ucc_loss=0.012133858166635036 ae_loss=0\n"
     ]
    },
    {
     "name": "stderr",
     "output_type": "stream",
     "text": [
      " 96%|█████████▌| 19240/20009 [1:45:21<04:28,  2.86it/s]"
     ]
    },
    {
     "name": "stdout",
     "output_type": "stream",
     "text": [
      "Step 79231, training: ucc_acc=0.9333333373069763 weighted_loss=0.13718771934509277 ucc_loss=0.13718771934509277 ae_loss=0 eval: ucc_acc=1.0 weighted_loss=0.0006672700401395559 ucc_loss=0.0006672700401395559 ae_loss=0\n"
     ]
    },
    {
     "name": "stderr",
     "output_type": "stream",
     "text": [
      " 96%|█████████▌| 19250/20009 [1:45:24<04:20,  2.91it/s]"
     ]
    },
    {
     "name": "stdout",
     "output_type": "stream",
     "text": [
      "Step 79241, training: ucc_acc=1.0 weighted_loss=0.010660181753337383 ucc_loss=0.010660181753337383 ae_loss=0 eval: ucc_acc=1.0 weighted_loss=0.012147902511060238 ucc_loss=0.012147902511060238 ae_loss=0\n"
     ]
    },
    {
     "name": "stderr",
     "output_type": "stream",
     "text": [
      " 96%|█████████▋| 19260/20009 [1:45:27<04:24,  2.83it/s]"
     ]
    },
    {
     "name": "stdout",
     "output_type": "stream",
     "text": [
      "Step 79251, training: ucc_acc=1.0 weighted_loss=0.0004115784540772438 ucc_loss=0.0004115784540772438 ae_loss=0 eval: ucc_acc=1.0 weighted_loss=0.009908059611916542 ucc_loss=0.009908059611916542 ae_loss=0\n"
     ]
    },
    {
     "name": "stderr",
     "output_type": "stream",
     "text": [
      " 96%|█████████▋| 19270/20009 [1:45:31<04:18,  2.86it/s]"
     ]
    },
    {
     "name": "stdout",
     "output_type": "stream",
     "text": [
      "Step 79261, training: ucc_acc=1.0 weighted_loss=0.005984642077237368 ucc_loss=0.005984642077237368 ae_loss=0 eval: ucc_acc=1.0 weighted_loss=0.007710655219852924 ucc_loss=0.007710655219852924 ae_loss=0\n"
     ]
    },
    {
     "name": "stderr",
     "output_type": "stream",
     "text": [
      " 96%|█████████▋| 19280/20009 [1:45:34<04:20,  2.79it/s]"
     ]
    },
    {
     "name": "stdout",
     "output_type": "stream",
     "text": [
      "Step 79271, training: ucc_acc=1.0 weighted_loss=0.004603552632033825 ucc_loss=0.004603552632033825 ae_loss=0 eval: ucc_acc=1.0 weighted_loss=0.014286017045378685 ucc_loss=0.014286017045378685 ae_loss=0\n"
     ]
    },
    {
     "name": "stderr",
     "output_type": "stream",
     "text": [
      " 96%|█████████▋| 19290/20009 [1:45:37<04:08,  2.90it/s]"
     ]
    },
    {
     "name": "stdout",
     "output_type": "stream",
     "text": [
      "Step 79281, training: ucc_acc=1.0 weighted_loss=0.009663505479693413 ucc_loss=0.009663505479693413 ae_loss=0 eval: ucc_acc=1.0 weighted_loss=0.0012230220017954707 ucc_loss=0.0012230220017954707 ae_loss=0\n"
     ]
    },
    {
     "name": "stderr",
     "output_type": "stream",
     "text": [
      " 96%|█████████▋| 19300/20009 [1:45:40<04:04,  2.90it/s]"
     ]
    },
    {
     "name": "stdout",
     "output_type": "stream",
     "text": [
      "Step 79291, training: ucc_acc=1.0 weighted_loss=0.005658386275172234 ucc_loss=0.005658386275172234 ae_loss=0 eval: ucc_acc=1.0 weighted_loss=0.0029027299024164677 ucc_loss=0.0029027299024164677 ae_loss=0\n"
     ]
    },
    {
     "name": "stderr",
     "output_type": "stream",
     "text": [
      " 97%|█████████▋| 19310/20009 [1:45:43<04:03,  2.88it/s]"
     ]
    },
    {
     "name": "stdout",
     "output_type": "stream",
     "text": [
      "Step 79301, training: ucc_acc=1.0 weighted_loss=0.0006829734775237739 ucc_loss=0.0006829734775237739 ae_loss=0 eval: ucc_acc=1.0 weighted_loss=0.00027505867183208466 ucc_loss=0.00027505867183208466 ae_loss=0\n"
     ]
    },
    {
     "name": "stderr",
     "output_type": "stream",
     "text": [
      " 97%|█████████▋| 19320/20009 [1:45:46<03:58,  2.89it/s]"
     ]
    },
    {
     "name": "stdout",
     "output_type": "stream",
     "text": [
      "Step 79311, training: ucc_acc=1.0 weighted_loss=0.0016892100684344769 ucc_loss=0.0016892100684344769 ae_loss=0 eval: ucc_acc=1.0 weighted_loss=0.0007803851622156799 ucc_loss=0.0007803851622156799 ae_loss=0\n"
     ]
    },
    {
     "name": "stderr",
     "output_type": "stream",
     "text": [
      " 97%|█████████▋| 19330/20009 [1:45:50<03:55,  2.88it/s]"
     ]
    },
    {
     "name": "stdout",
     "output_type": "stream",
     "text": [
      "Step 79321, training: ucc_acc=0.9333333373069763 weighted_loss=0.1257873922586441 ucc_loss=0.1257873922586441 ae_loss=0 eval: ucc_acc=1.0 weighted_loss=0.015750661492347717 ucc_loss=0.015750661492347717 ae_loss=0\n"
     ]
    },
    {
     "name": "stderr",
     "output_type": "stream",
     "text": [
      " 97%|█████████▋| 19340/20009 [1:45:53<03:53,  2.87it/s]"
     ]
    },
    {
     "name": "stdout",
     "output_type": "stream",
     "text": [
      "Step 79331, training: ucc_acc=1.0 weighted_loss=0.004057643469423056 ucc_loss=0.004057643469423056 ae_loss=0 eval: ucc_acc=1.0 weighted_loss=0.000563310575671494 ucc_loss=0.000563310575671494 ae_loss=0\n"
     ]
    },
    {
     "name": "stderr",
     "output_type": "stream",
     "text": [
      " 97%|█████████▋| 19350/20009 [1:45:56<03:53,  2.82it/s]"
     ]
    },
    {
     "name": "stdout",
     "output_type": "stream",
     "text": [
      "Step 79341, training: ucc_acc=1.0 weighted_loss=0.000256237864959985 ucc_loss=0.000256237864959985 ae_loss=0 eval: ucc_acc=1.0 weighted_loss=0.019185643643140793 ucc_loss=0.019185643643140793 ae_loss=0\n"
     ]
    },
    {
     "name": "stderr",
     "output_type": "stream",
     "text": [
      " 97%|█████████▋| 19360/20009 [1:45:59<03:44,  2.89it/s]"
     ]
    },
    {
     "name": "stdout",
     "output_type": "stream",
     "text": [
      "Step 79351, training: ucc_acc=1.0 weighted_loss=0.017419636249542236 ucc_loss=0.017419636249542236 ae_loss=0 eval: ucc_acc=0.9333333373069763 weighted_loss=0.04901811107993126 ucc_loss=0.04901811107993126 ae_loss=0\n"
     ]
    },
    {
     "name": "stderr",
     "output_type": "stream",
     "text": [
      " 97%|█████████▋| 19370/20009 [1:46:02<03:50,  2.77it/s]"
     ]
    },
    {
     "name": "stdout",
     "output_type": "stream",
     "text": [
      "Step 79361, training: ucc_acc=1.0 weighted_loss=0.0032151779159903526 ucc_loss=0.0032151779159903526 ae_loss=0 eval: ucc_acc=1.0 weighted_loss=0.015244727954268456 ucc_loss=0.015244727954268456 ae_loss=0\n"
     ]
    },
    {
     "name": "stderr",
     "output_type": "stream",
     "text": [
      " 97%|█████████▋| 19380/20009 [1:46:06<03:34,  2.93it/s]"
     ]
    },
    {
     "name": "stdout",
     "output_type": "stream",
     "text": [
      "Step 79371, training: ucc_acc=0.9333333373069763 weighted_loss=0.1755618155002594 ucc_loss=0.1755618155002594 ae_loss=0 eval: ucc_acc=0.9333333373069763 weighted_loss=0.1865387260913849 ucc_loss=0.1865387260913849 ae_loss=0\n"
     ]
    },
    {
     "name": "stderr",
     "output_type": "stream",
     "text": [
      " 97%|█████████▋| 19390/20009 [1:46:09<03:39,  2.82it/s]"
     ]
    },
    {
     "name": "stdout",
     "output_type": "stream",
     "text": [
      "Step 79381, training: ucc_acc=1.0 weighted_loss=0.0023831138387322426 ucc_loss=0.0023831138387322426 ae_loss=0 eval: ucc_acc=1.0 weighted_loss=0.0032960453536361456 ucc_loss=0.0032960453536361456 ae_loss=0\n"
     ]
    },
    {
     "name": "stderr",
     "output_type": "stream",
     "text": [
      " 97%|█████████▋| 19400/20009 [1:46:12<03:33,  2.85it/s]"
     ]
    },
    {
     "name": "stdout",
     "output_type": "stream",
     "text": [
      "Step 79391, training: ucc_acc=1.0 weighted_loss=0.007363022770732641 ucc_loss=0.007363022770732641 ae_loss=0 eval: ucc_acc=1.0 weighted_loss=0.006974170915782452 ucc_loss=0.006974170915782452 ae_loss=0\n"
     ]
    },
    {
     "name": "stderr",
     "output_type": "stream",
     "text": [
      " 97%|█████████▋| 19410/20009 [1:46:15<03:28,  2.88it/s]"
     ]
    },
    {
     "name": "stdout",
     "output_type": "stream",
     "text": [
      "Step 79401, training: ucc_acc=1.0 weighted_loss=0.0033658817410469055 ucc_loss=0.0033658817410469055 ae_loss=0 eval: ucc_acc=1.0 weighted_loss=0.0021146468352526426 ucc_loss=0.0021146468352526426 ae_loss=0\n"
     ]
    },
    {
     "name": "stderr",
     "output_type": "stream",
     "text": [
      " 97%|█████████▋| 19420/20009 [1:46:18<03:25,  2.86it/s]"
     ]
    },
    {
     "name": "stdout",
     "output_type": "stream",
     "text": [
      "Step 79411, training: ucc_acc=1.0 weighted_loss=0.010609421879053116 ucc_loss=0.010609421879053116 ae_loss=0 eval: ucc_acc=1.0 weighted_loss=0.01105598546564579 ucc_loss=0.01105598546564579 ae_loss=0\n"
     ]
    },
    {
     "name": "stderr",
     "output_type": "stream",
     "text": [
      " 97%|█████████▋| 19430/20009 [1:46:22<03:22,  2.87it/s]"
     ]
    },
    {
     "name": "stdout",
     "output_type": "stream",
     "text": [
      "Step 79421, training: ucc_acc=1.0 weighted_loss=0.028287945315241814 ucc_loss=0.028287945315241814 ae_loss=0 eval: ucc_acc=1.0 weighted_loss=0.0027080113068223 ucc_loss=0.0027080113068223 ae_loss=0\n"
     ]
    },
    {
     "name": "stderr",
     "output_type": "stream",
     "text": [
      " 97%|█████████▋| 19440/20009 [1:46:25<03:24,  2.79it/s]"
     ]
    },
    {
     "name": "stdout",
     "output_type": "stream",
     "text": [
      "Step 79431, training: ucc_acc=1.0 weighted_loss=0.0001155400022980757 ucc_loss=0.0001155400022980757 ae_loss=0 eval: ucc_acc=1.0 weighted_loss=0.00826499704271555 ucc_loss=0.00826499704271555 ae_loss=0\n"
     ]
    },
    {
     "name": "stderr",
     "output_type": "stream",
     "text": [
      " 97%|█████████▋| 19450/20009 [1:46:28<03:10,  2.94it/s]"
     ]
    },
    {
     "name": "stdout",
     "output_type": "stream",
     "text": [
      "Step 79441, training: ucc_acc=1.0 weighted_loss=0.006246102973818779 ucc_loss=0.006246102973818779 ae_loss=0 eval: ucc_acc=1.0 weighted_loss=0.0133083276450634 ucc_loss=0.0133083276450634 ae_loss=0\n"
     ]
    },
    {
     "name": "stderr",
     "output_type": "stream",
     "text": [
      " 97%|█████████▋| 19460/20009 [1:46:31<03:22,  2.72it/s]"
     ]
    },
    {
     "name": "stdout",
     "output_type": "stream",
     "text": [
      "Step 79451, training: ucc_acc=0.8666666746139526 weighted_loss=0.1435500532388687 ucc_loss=0.1435500532388687 ae_loss=0 eval: ucc_acc=1.0 weighted_loss=0.00752644008025527 ucc_loss=0.00752644008025527 ae_loss=0\n"
     ]
    },
    {
     "name": "stderr",
     "output_type": "stream",
     "text": [
      " 97%|█████████▋| 19470/20009 [1:46:34<03:06,  2.89it/s]"
     ]
    },
    {
     "name": "stdout",
     "output_type": "stream",
     "text": [
      "Step 79461, training: ucc_acc=1.0 weighted_loss=0.005864748731255531 ucc_loss=0.005864748731255531 ae_loss=0 eval: ucc_acc=1.0 weighted_loss=0.0014064143178984523 ucc_loss=0.0014064143178984523 ae_loss=0\n"
     ]
    },
    {
     "name": "stderr",
     "output_type": "stream",
     "text": [
      " 97%|█████████▋| 19480/20009 [1:46:38<03:10,  2.78it/s]"
     ]
    },
    {
     "name": "stdout",
     "output_type": "stream",
     "text": [
      "Step 79471, training: ucc_acc=1.0 weighted_loss=0.006557358428835869 ucc_loss=0.006557358428835869 ae_loss=0 eval: ucc_acc=1.0 weighted_loss=0.016661515459418297 ucc_loss=0.016661515459418297 ae_loss=0\n"
     ]
    },
    {
     "name": "stderr",
     "output_type": "stream",
     "text": [
      " 97%|█████████▋| 19490/20009 [1:46:41<03:04,  2.82it/s]"
     ]
    },
    {
     "name": "stdout",
     "output_type": "stream",
     "text": [
      "Step 79481, training: ucc_acc=1.0 weighted_loss=0.01987818442285061 ucc_loss=0.01987818442285061 ae_loss=0 eval: ucc_acc=1.0 weighted_loss=0.004204787313938141 ucc_loss=0.004204787313938141 ae_loss=0\n"
     ]
    },
    {
     "name": "stderr",
     "output_type": "stream",
     "text": [
      " 97%|█████████▋| 19500/20009 [1:46:44<02:59,  2.83it/s]"
     ]
    },
    {
     "name": "stdout",
     "output_type": "stream",
     "text": [
      "Step 79491, training: ucc_acc=1.0 weighted_loss=0.0026336947921663523 ucc_loss=0.0026336947921663523 ae_loss=0 eval: ucc_acc=1.0 weighted_loss=0.045132819563150406 ucc_loss=0.045132819563150406 ae_loss=0\n"
     ]
    },
    {
     "name": "stderr",
     "output_type": "stream",
     "text": [
      " 98%|█████████▊| 19510/20009 [1:46:47<02:56,  2.83it/s]"
     ]
    },
    {
     "name": "stdout",
     "output_type": "stream",
     "text": [
      "Step 79501, training: ucc_acc=1.0 weighted_loss=0.0007592403562739491 ucc_loss=0.0007592403562739491 ae_loss=0 eval: ucc_acc=1.0 weighted_loss=0.008176782168447971 ucc_loss=0.008176782168447971 ae_loss=0\n"
     ]
    },
    {
     "name": "stderr",
     "output_type": "stream",
     "text": [
      " 98%|█████████▊| 19520/20009 [1:46:51<02:50,  2.86it/s]"
     ]
    },
    {
     "name": "stdout",
     "output_type": "stream",
     "text": [
      "Step 79511, training: ucc_acc=1.0 weighted_loss=3.9660280890529975e-05 ucc_loss=3.9660280890529975e-05 ae_loss=0 eval: ucc_acc=1.0 weighted_loss=0.0008758649928495288 ucc_loss=0.0008758649928495288 ae_loss=0\n"
     ]
    },
    {
     "name": "stderr",
     "output_type": "stream",
     "text": [
      " 98%|█████████▊| 19530/20009 [1:46:54<02:50,  2.81it/s]"
     ]
    },
    {
     "name": "stdout",
     "output_type": "stream",
     "text": [
      "Step 79521, training: ucc_acc=1.0 weighted_loss=0.02515946701169014 ucc_loss=0.02515946701169014 ae_loss=0 eval: ucc_acc=1.0 weighted_loss=0.0022497440222650766 ucc_loss=0.0022497440222650766 ae_loss=0\n"
     ]
    },
    {
     "name": "stderr",
     "output_type": "stream",
     "text": [
      " 98%|█████████▊| 19540/20009 [1:46:57<02:46,  2.81it/s]"
     ]
    },
    {
     "name": "stdout",
     "output_type": "stream",
     "text": [
      "Step 79531, training: ucc_acc=1.0 weighted_loss=0.004727943334728479 ucc_loss=0.004727943334728479 ae_loss=0 eval: ucc_acc=1.0 weighted_loss=0.015394440852105618 ucc_loss=0.015394440852105618 ae_loss=0\n"
     ]
    },
    {
     "name": "stderr",
     "output_type": "stream",
     "text": [
      " 98%|█████████▊| 19550/20009 [1:47:00<02:37,  2.91it/s]"
     ]
    },
    {
     "name": "stdout",
     "output_type": "stream",
     "text": [
      "Step 79541, training: ucc_acc=1.0 weighted_loss=0.017250627279281616 ucc_loss=0.017250627279281616 ae_loss=0 eval: ucc_acc=1.0 weighted_loss=0.004517887718975544 ucc_loss=0.004517887718975544 ae_loss=0\n"
     ]
    },
    {
     "name": "stderr",
     "output_type": "stream",
     "text": [
      " 98%|█████████▊| 19560/20009 [1:47:03<02:34,  2.90it/s]"
     ]
    },
    {
     "name": "stdout",
     "output_type": "stream",
     "text": [
      "Step 79551, training: ucc_acc=1.0 weighted_loss=0.0029618293046951294 ucc_loss=0.0029618293046951294 ae_loss=0 eval: ucc_acc=1.0 weighted_loss=0.0031078665051609278 ucc_loss=0.0031078665051609278 ae_loss=0\n"
     ]
    },
    {
     "name": "stderr",
     "output_type": "stream",
     "text": [
      " 98%|█████████▊| 19570/20009 [1:47:07<02:33,  2.87it/s]"
     ]
    },
    {
     "name": "stdout",
     "output_type": "stream",
     "text": [
      "Step 79561, training: ucc_acc=1.0 weighted_loss=0.004910679999738932 ucc_loss=0.004910679999738932 ae_loss=0 eval: ucc_acc=1.0 weighted_loss=0.008332851342856884 ucc_loss=0.008332851342856884 ae_loss=0\n"
     ]
    },
    {
     "name": "stderr",
     "output_type": "stream",
     "text": [
      " 98%|█████████▊| 19580/20009 [1:47:10<02:28,  2.89it/s]"
     ]
    },
    {
     "name": "stdout",
     "output_type": "stream",
     "text": [
      "Step 79571, training: ucc_acc=1.0 weighted_loss=0.0009306461433880031 ucc_loss=0.0009306461433880031 ae_loss=0 eval: ucc_acc=1.0 weighted_loss=0.006352664902806282 ucc_loss=0.006352664902806282 ae_loss=0\n"
     ]
    },
    {
     "name": "stderr",
     "output_type": "stream",
     "text": [
      " 98%|█████████▊| 19590/20009 [1:47:13<02:27,  2.84it/s]"
     ]
    },
    {
     "name": "stdout",
     "output_type": "stream",
     "text": [
      "Step 79581, training: ucc_acc=0.9333333373069763 weighted_loss=0.15377061069011688 ucc_loss=0.15377061069011688 ae_loss=0 eval: ucc_acc=1.0 weighted_loss=3.222189116058871e-05 ucc_loss=3.222189116058871e-05 ae_loss=0\n"
     ]
    },
    {
     "name": "stderr",
     "output_type": "stream",
     "text": [
      " 98%|█████████▊| 19600/20009 [1:47:16<02:41,  2.53it/s]"
     ]
    },
    {
     "name": "stdout",
     "output_type": "stream",
     "text": [
      "Step 79591, training: ucc_acc=1.0 weighted_loss=0.005184235982596874 ucc_loss=0.005184235982596874 ae_loss=0 eval: ucc_acc=1.0 weighted_loss=0.020384544506669044 ucc_loss=0.020384544506669044 ae_loss=0\n"
     ]
    },
    {
     "name": "stderr",
     "output_type": "stream",
     "text": [
      " 98%|█████████▊| 19610/20009 [1:47:20<02:19,  2.86it/s]"
     ]
    },
    {
     "name": "stdout",
     "output_type": "stream",
     "text": [
      "Step 79601, training: ucc_acc=1.0 weighted_loss=0.0021077259443700314 ucc_loss=0.0021077259443700314 ae_loss=0 eval: ucc_acc=1.0 weighted_loss=0.009737906977534294 ucc_loss=0.009737906977534294 ae_loss=0\n"
     ]
    },
    {
     "name": "stderr",
     "output_type": "stream",
     "text": [
      " 98%|█████████▊| 19620/20009 [1:47:23<02:12,  2.93it/s]"
     ]
    },
    {
     "name": "stdout",
     "output_type": "stream",
     "text": [
      "Step 79611, training: ucc_acc=1.0 weighted_loss=0.004757806658744812 ucc_loss=0.004757806658744812 ae_loss=0 eval: ucc_acc=0.9333333373069763 weighted_loss=0.1493379920721054 ucc_loss=0.1493379920721054 ae_loss=0\n"
     ]
    },
    {
     "name": "stderr",
     "output_type": "stream",
     "text": [
      " 98%|█████████▊| 19630/20009 [1:47:26<02:09,  2.92it/s]"
     ]
    },
    {
     "name": "stdout",
     "output_type": "stream",
     "text": [
      "Step 79621, training: ucc_acc=1.0 weighted_loss=0.0021934215910732746 ucc_loss=0.0021934215910732746 ae_loss=0 eval: ucc_acc=0.8666666746139526 weighted_loss=0.11904864758253098 ucc_loss=0.11904864758253098 ae_loss=0\n"
     ]
    },
    {
     "name": "stderr",
     "output_type": "stream",
     "text": [
      " 98%|█████████▊| 19640/20009 [1:47:29<02:08,  2.86it/s]"
     ]
    },
    {
     "name": "stdout",
     "output_type": "stream",
     "text": [
      "Step 79631, training: ucc_acc=1.0 weighted_loss=0.00034647935535758734 ucc_loss=0.00034647935535758734 ae_loss=0 eval: ucc_acc=1.0 weighted_loss=0.005386576522141695 ucc_loss=0.005386576522141695 ae_loss=0\n"
     ]
    },
    {
     "name": "stderr",
     "output_type": "stream",
     "text": [
      " 98%|█████████▊| 19650/20009 [1:47:32<02:03,  2.90it/s]"
     ]
    },
    {
     "name": "stdout",
     "output_type": "stream",
     "text": [
      "Step 79641, training: ucc_acc=1.0 weighted_loss=0.012667330913245678 ucc_loss=0.012667330913245678 ae_loss=0 eval: ucc_acc=1.0 weighted_loss=0.000157580099767074 ucc_loss=0.000157580099767074 ae_loss=0\n"
     ]
    },
    {
     "name": "stderr",
     "output_type": "stream",
     "text": [
      " 98%|█████████▊| 19660/20009 [1:47:36<02:02,  2.86it/s]"
     ]
    },
    {
     "name": "stdout",
     "output_type": "stream",
     "text": [
      "Step 79651, training: ucc_acc=1.0 weighted_loss=0.0015439536655321717 ucc_loss=0.0015439536655321717 ae_loss=0 eval: ucc_acc=1.0 weighted_loss=0.009599877521395683 ucc_loss=0.009599877521395683 ae_loss=0\n"
     ]
    },
    {
     "name": "stderr",
     "output_type": "stream",
     "text": [
      " 98%|█████████▊| 19670/20009 [1:47:39<01:59,  2.83it/s]"
     ]
    },
    {
     "name": "stdout",
     "output_type": "stream",
     "text": [
      "Step 79661, training: ucc_acc=1.0 weighted_loss=0.0028066954109817743 ucc_loss=0.0028066954109817743 ae_loss=0 eval: ucc_acc=1.0 weighted_loss=0.0060959914699196815 ucc_loss=0.0060959914699196815 ae_loss=0\n"
     ]
    },
    {
     "name": "stderr",
     "output_type": "stream",
     "text": [
      " 98%|█████████▊| 19680/20009 [1:47:42<01:55,  2.85it/s]"
     ]
    },
    {
     "name": "stdout",
     "output_type": "stream",
     "text": [
      "Step 79671, training: ucc_acc=1.0 weighted_loss=0.012149889022111893 ucc_loss=0.012149889022111893 ae_loss=0 eval: ucc_acc=1.0 weighted_loss=0.01104160025715828 ucc_loss=0.01104160025715828 ae_loss=0\n"
     ]
    },
    {
     "name": "stderr",
     "output_type": "stream",
     "text": [
      " 98%|█████████▊| 19690/20009 [1:47:45<01:57,  2.72it/s]"
     ]
    },
    {
     "name": "stdout",
     "output_type": "stream",
     "text": [
      "Step 79681, training: ucc_acc=1.0 weighted_loss=0.043202903121709824 ucc_loss=0.043202903121709824 ae_loss=0 eval: ucc_acc=1.0 weighted_loss=0.00015945157792884856 ucc_loss=0.00015945157792884856 ae_loss=0\n"
     ]
    },
    {
     "name": "stderr",
     "output_type": "stream",
     "text": [
      " 98%|█████████▊| 19700/20009 [1:47:48<01:48,  2.86it/s]"
     ]
    },
    {
     "name": "stdout",
     "output_type": "stream",
     "text": [
      "Step 79691, training: ucc_acc=1.0 weighted_loss=0.02262171171605587 ucc_loss=0.02262171171605587 ae_loss=0 eval: ucc_acc=1.0 weighted_loss=0.029056860134005547 ucc_loss=0.029056860134005547 ae_loss=0\n"
     ]
    },
    {
     "name": "stderr",
     "output_type": "stream",
     "text": [
      " 99%|█████████▊| 19710/20009 [1:47:52<01:48,  2.76it/s]"
     ]
    },
    {
     "name": "stdout",
     "output_type": "stream",
     "text": [
      "Step 79701, training: ucc_acc=0.9333333373069763 weighted_loss=0.07573430985212326 ucc_loss=0.07573430985212326 ae_loss=0 eval: ucc_acc=1.0 weighted_loss=0.003251527901738882 ucc_loss=0.003251527901738882 ae_loss=0\n"
     ]
    },
    {
     "name": "stderr",
     "output_type": "stream",
     "text": [
      " 99%|█████████▊| 19720/20009 [1:47:55<01:41,  2.85it/s]"
     ]
    },
    {
     "name": "stdout",
     "output_type": "stream",
     "text": [
      "Step 79711, training: ucc_acc=1.0 weighted_loss=0.011134621687233448 ucc_loss=0.011134621687233448 ae_loss=0 eval: ucc_acc=1.0 weighted_loss=2.8798805942642502e-05 ucc_loss=2.8798805942642502e-05 ae_loss=0\n"
     ]
    },
    {
     "name": "stderr",
     "output_type": "stream",
     "text": [
      " 99%|█████████▊| 19730/20009 [1:47:58<01:34,  2.94it/s]"
     ]
    },
    {
     "name": "stdout",
     "output_type": "stream",
     "text": [
      "Step 79721, training: ucc_acc=1.0 weighted_loss=0.0017827855190262198 ucc_loss=0.0017827855190262198 ae_loss=0 eval: ucc_acc=0.9333333373069763 weighted_loss=0.13277210295200348 ucc_loss=0.13277210295200348 ae_loss=0\n"
     ]
    },
    {
     "name": "stderr",
     "output_type": "stream",
     "text": [
      " 99%|█████████▊| 19740/20009 [1:48:01<01:33,  2.88it/s]"
     ]
    },
    {
     "name": "stdout",
     "output_type": "stream",
     "text": [
      "Step 79731, training: ucc_acc=1.0 weighted_loss=0.022035615518689156 ucc_loss=0.022035615518689156 ae_loss=0 eval: ucc_acc=1.0 weighted_loss=0.0003048560756724328 ucc_loss=0.0003048560756724328 ae_loss=0\n"
     ]
    },
    {
     "name": "stderr",
     "output_type": "stream",
     "text": [
      " 99%|█████████▊| 19750/20009 [1:48:04<01:30,  2.87it/s]"
     ]
    },
    {
     "name": "stdout",
     "output_type": "stream",
     "text": [
      "Step 79741, training: ucc_acc=1.0 weighted_loss=0.007488207891583443 ucc_loss=0.007488207891583443 ae_loss=0 eval: ucc_acc=1.0 weighted_loss=0.0065374975092709064 ucc_loss=0.0065374975092709064 ae_loss=0\n"
     ]
    },
    {
     "name": "stderr",
     "output_type": "stream",
     "text": [
      " 99%|█████████▉| 19760/20009 [1:48:08<01:25,  2.93it/s]"
     ]
    },
    {
     "name": "stdout",
     "output_type": "stream",
     "text": [
      "Step 79751, training: ucc_acc=1.0 weighted_loss=0.017683571204543114 ucc_loss=0.017683571204543114 ae_loss=0 eval: ucc_acc=0.9333333373069763 weighted_loss=0.0607151985168457 ucc_loss=0.0607151985168457 ae_loss=0\n"
     ]
    },
    {
     "name": "stderr",
     "output_type": "stream",
     "text": [
      " 99%|█████████▉| 19770/20009 [1:48:11<01:23,  2.88it/s]"
     ]
    },
    {
     "name": "stdout",
     "output_type": "stream",
     "text": [
      "Step 79761, training: ucc_acc=1.0 weighted_loss=0.020617110654711723 ucc_loss=0.020617110654711723 ae_loss=0 eval: ucc_acc=1.0 weighted_loss=0.004784260410815477 ucc_loss=0.004784260410815477 ae_loss=0\n"
     ]
    },
    {
     "name": "stderr",
     "output_type": "stream",
     "text": [
      " 99%|█████████▉| 19780/20009 [1:48:14<01:25,  2.67it/s]"
     ]
    },
    {
     "name": "stdout",
     "output_type": "stream",
     "text": [
      "Step 79771, training: ucc_acc=1.0 weighted_loss=0.012023854069411755 ucc_loss=0.012023854069411755 ae_loss=0 eval: ucc_acc=1.0 weighted_loss=0.017642991617321968 ucc_loss=0.017642991617321968 ae_loss=0\n"
     ]
    },
    {
     "name": "stderr",
     "output_type": "stream",
     "text": [
      " 99%|█████████▉| 19790/20009 [1:48:17<01:25,  2.55it/s]"
     ]
    },
    {
     "name": "stdout",
     "output_type": "stream",
     "text": [
      "Step 79781, training: ucc_acc=1.0 weighted_loss=0.01449937466531992 ucc_loss=0.01449937466531992 ae_loss=0 eval: ucc_acc=1.0 weighted_loss=0.0073281945660710335 ucc_loss=0.0073281945660710335 ae_loss=0\n"
     ]
    },
    {
     "name": "stderr",
     "output_type": "stream",
     "text": [
      " 99%|█████████▉| 19800/20009 [1:48:21<01:16,  2.72it/s]"
     ]
    },
    {
     "name": "stdout",
     "output_type": "stream",
     "text": [
      "Step 79791, training: ucc_acc=1.0 weighted_loss=0.0017737394664436579 ucc_loss=0.0017737394664436579 ae_loss=0 eval: ucc_acc=1.0 weighted_loss=0.00037381512811407447 ucc_loss=0.00037381512811407447 ae_loss=0\n"
     ]
    },
    {
     "name": "stderr",
     "output_type": "stream",
     "text": [
      " 99%|█████████▉| 19810/20009 [1:48:24<01:08,  2.93it/s]"
     ]
    },
    {
     "name": "stdout",
     "output_type": "stream",
     "text": [
      "Step 79801, training: ucc_acc=1.0 weighted_loss=0.003961681853979826 ucc_loss=0.003961681853979826 ae_loss=0 eval: ucc_acc=1.0 weighted_loss=0.00017394220049027354 ucc_loss=0.00017394220049027354 ae_loss=0\n"
     ]
    },
    {
     "name": "stderr",
     "output_type": "stream",
     "text": [
      " 99%|█████████▉| 19820/20009 [1:48:27<01:07,  2.82it/s]"
     ]
    },
    {
     "name": "stdout",
     "output_type": "stream",
     "text": [
      "Step 79811, training: ucc_acc=0.9333333373069763 weighted_loss=0.1496625393629074 ucc_loss=0.1496625393629074 ae_loss=0 eval: ucc_acc=1.0 weighted_loss=0.0305296890437603 ucc_loss=0.0305296890437603 ae_loss=0\n"
     ]
    },
    {
     "name": "stderr",
     "output_type": "stream",
     "text": [
      " 99%|█████████▉| 19830/20009 [1:48:30<01:01,  2.91it/s]"
     ]
    },
    {
     "name": "stdout",
     "output_type": "stream",
     "text": [
      "Step 79821, training: ucc_acc=1.0 weighted_loss=0.00010873686551349238 ucc_loss=0.00010873686551349238 ae_loss=0 eval: ucc_acc=1.0 weighted_loss=0.028817491605877876 ucc_loss=0.028817491605877876 ae_loss=0\n"
     ]
    },
    {
     "name": "stderr",
     "output_type": "stream",
     "text": [
      " 99%|█████████▉| 19840/20009 [1:48:34<01:00,  2.78it/s]"
     ]
    },
    {
     "name": "stdout",
     "output_type": "stream",
     "text": [
      "Step 79831, training: ucc_acc=1.0 weighted_loss=0.002330337418243289 ucc_loss=0.002330337418243289 ae_loss=0 eval: ucc_acc=1.0 weighted_loss=0.0029074440244585276 ucc_loss=0.0029074440244585276 ae_loss=0\n"
     ]
    },
    {
     "name": "stderr",
     "output_type": "stream",
     "text": [
      " 99%|█████████▉| 19850/20009 [1:48:37<00:55,  2.87it/s]"
     ]
    },
    {
     "name": "stdout",
     "output_type": "stream",
     "text": [
      "Step 79841, training: ucc_acc=1.0 weighted_loss=0.021138858050107956 ucc_loss=0.021138858050107956 ae_loss=0 eval: ucc_acc=1.0 weighted_loss=0.0024646774400025606 ucc_loss=0.0024646774400025606 ae_loss=0\n"
     ]
    },
    {
     "name": "stderr",
     "output_type": "stream",
     "text": [
      " 99%|█████████▉| 19860/20009 [1:48:40<00:51,  2.90it/s]"
     ]
    },
    {
     "name": "stdout",
     "output_type": "stream",
     "text": [
      "Step 79851, training: ucc_acc=1.0 weighted_loss=0.005109553225338459 ucc_loss=0.005109553225338459 ae_loss=0 eval: ucc_acc=1.0 weighted_loss=0.0045631336979568005 ucc_loss=0.0045631336979568005 ae_loss=0\n"
     ]
    },
    {
     "name": "stderr",
     "output_type": "stream",
     "text": [
      " 99%|█████████▉| 19870/20009 [1:48:43<00:48,  2.85it/s]"
     ]
    },
    {
     "name": "stdout",
     "output_type": "stream",
     "text": [
      "Step 79861, training: ucc_acc=1.0 weighted_loss=0.006886589806526899 ucc_loss=0.006886589806526899 ae_loss=0 eval: ucc_acc=1.0 weighted_loss=0.0021240743808448315 ucc_loss=0.0021240743808448315 ae_loss=0\n"
     ]
    },
    {
     "name": "stderr",
     "output_type": "stream",
     "text": [
      " 99%|█████████▉| 19880/20009 [1:48:46<00:45,  2.82it/s]"
     ]
    },
    {
     "name": "stdout",
     "output_type": "stream",
     "text": [
      "Step 79871, training: ucc_acc=1.0 weighted_loss=0.008099978789687157 ucc_loss=0.008099978789687157 ae_loss=0 eval: ucc_acc=1.0 weighted_loss=0.0041390517726540565 ucc_loss=0.0041390517726540565 ae_loss=0\n"
     ]
    },
    {
     "name": "stderr",
     "output_type": "stream",
     "text": [
      " 99%|█████████▉| 19890/20009 [1:48:50<00:41,  2.86it/s]"
     ]
    },
    {
     "name": "stdout",
     "output_type": "stream",
     "text": [
      "Step 79881, training: ucc_acc=1.0 weighted_loss=0.004306125920265913 ucc_loss=0.004306125920265913 ae_loss=0 eval: ucc_acc=1.0 weighted_loss=0.0033972368109971285 ucc_loss=0.0033972368109971285 ae_loss=0\n"
     ]
    },
    {
     "name": "stderr",
     "output_type": "stream",
     "text": [
      " 99%|█████████▉| 19900/20009 [1:48:53<00:38,  2.86it/s]"
     ]
    },
    {
     "name": "stdout",
     "output_type": "stream",
     "text": [
      "Step 79891, training: ucc_acc=1.0 weighted_loss=0.0006448523490689695 ucc_loss=0.0006448523490689695 ae_loss=0 eval: ucc_acc=1.0 weighted_loss=0.0021245379466563463 ucc_loss=0.0021245379466563463 ae_loss=0\n"
     ]
    },
    {
     "name": "stderr",
     "output_type": "stream",
     "text": [
      "100%|█████████▉| 19910/20009 [1:48:56<00:35,  2.80it/s]"
     ]
    },
    {
     "name": "stdout",
     "output_type": "stream",
     "text": [
      "Step 79901, training: ucc_acc=1.0 weighted_loss=0.011046585626900196 ucc_loss=0.011046585626900196 ae_loss=0 eval: ucc_acc=1.0 weighted_loss=0.010638093575835228 ucc_loss=0.010638093575835228 ae_loss=0\n"
     ]
    },
    {
     "name": "stderr",
     "output_type": "stream",
     "text": [
      "100%|█████████▉| 19920/20009 [1:48:59<00:30,  2.89it/s]"
     ]
    },
    {
     "name": "stdout",
     "output_type": "stream",
     "text": [
      "Step 79911, training: ucc_acc=1.0 weighted_loss=0.0462162010371685 ucc_loss=0.0462162010371685 ae_loss=0 eval: ucc_acc=1.0 weighted_loss=0.0017581199062988162 ucc_loss=0.0017581199062988162 ae_loss=0\n"
     ]
    },
    {
     "name": "stderr",
     "output_type": "stream",
     "text": [
      "100%|█████████▉| 19930/20009 [1:49:02<00:27,  2.89it/s]"
     ]
    },
    {
     "name": "stdout",
     "output_type": "stream",
     "text": [
      "Step 79921, training: ucc_acc=1.0 weighted_loss=0.0018191882409155369 ucc_loss=0.0018191882409155369 ae_loss=0 eval: ucc_acc=1.0 weighted_loss=0.002829709555953741 ucc_loss=0.002829709555953741 ae_loss=0\n"
     ]
    },
    {
     "name": "stderr",
     "output_type": "stream",
     "text": [
      "100%|█████████▉| 19940/20009 [1:49:05<00:24,  2.86it/s]"
     ]
    },
    {
     "name": "stdout",
     "output_type": "stream",
     "text": [
      "Step 79931, training: ucc_acc=1.0 weighted_loss=0.009662101045250893 ucc_loss=0.009662101045250893 ae_loss=0 eval: ucc_acc=1.0 weighted_loss=0.00012084379704901949 ucc_loss=0.00012084379704901949 ae_loss=0\n"
     ]
    },
    {
     "name": "stderr",
     "output_type": "stream",
     "text": [
      "100%|█████████▉| 19950/20009 [1:49:09<00:20,  2.88it/s]"
     ]
    },
    {
     "name": "stdout",
     "output_type": "stream",
     "text": [
      "Step 79941, training: ucc_acc=0.9333333373069763 weighted_loss=0.07821138203144073 ucc_loss=0.07821138203144073 ae_loss=0 eval: ucc_acc=1.0 weighted_loss=0.015516120009124279 ucc_loss=0.015516120009124279 ae_loss=0\n"
     ]
    },
    {
     "name": "stderr",
     "output_type": "stream",
     "text": [
      "100%|█████████▉| 19960/20009 [1:49:12<00:17,  2.83it/s]"
     ]
    },
    {
     "name": "stdout",
     "output_type": "stream",
     "text": [
      "Step 79951, training: ucc_acc=1.0 weighted_loss=0.019892144948244095 ucc_loss=0.019892144948244095 ae_loss=0 eval: ucc_acc=1.0 weighted_loss=0.013325431384146214 ucc_loss=0.013325431384146214 ae_loss=0\n"
     ]
    },
    {
     "name": "stderr",
     "output_type": "stream",
     "text": [
      "100%|█████████▉| 19970/20009 [1:49:16<00:16,  2.36it/s]"
     ]
    },
    {
     "name": "stdout",
     "output_type": "stream",
     "text": [
      "Step 79961, training: ucc_acc=1.0 weighted_loss=0.006721411366015673 ucc_loss=0.006721411366015673 ae_loss=0 eval: ucc_acc=1.0 weighted_loss=0.003535469761118293 ucc_loss=0.003535469761118293 ae_loss=0\n"
     ]
    },
    {
     "name": "stderr",
     "output_type": "stream",
     "text": [
      "100%|█████████▉| 19980/20009 [1:49:19<00:11,  2.44it/s]"
     ]
    },
    {
     "name": "stdout",
     "output_type": "stream",
     "text": [
      "Step 79971, training: ucc_acc=1.0 weighted_loss=0.002266478491947055 ucc_loss=0.002266478491947055 ae_loss=0 eval: ucc_acc=0.9333333373069763 weighted_loss=0.06179167330265045 ucc_loss=0.06179167330265045 ae_loss=0\n"
     ]
    },
    {
     "name": "stderr",
     "output_type": "stream",
     "text": [
      "100%|█████████▉| 19990/20009 [1:49:23<00:07,  2.52it/s]"
     ]
    },
    {
     "name": "stdout",
     "output_type": "stream",
     "text": [
      "Step 79981, training: ucc_acc=1.0 weighted_loss=0.005253890994936228 ucc_loss=0.005253890994936228 ae_loss=0 eval: ucc_acc=1.0 weighted_loss=0.0294803436845541 ucc_loss=0.0294803436845541 ae_loss=0\n"
     ]
    },
    {
     "name": "stderr",
     "output_type": "stream",
     "text": [
      "100%|█████████▉| 20000/20009 [1:49:26<00:03,  2.85it/s]"
     ]
    },
    {
     "name": "stdout",
     "output_type": "stream",
     "text": [
      "Step 79991, training: ucc_acc=1.0 weighted_loss=0.0024361349642276764 ucc_loss=0.0024361349642276764 ae_loss=0 eval: ucc_acc=1.0 weighted_loss=0.015408285893499851 ucc_loss=0.015408285893499851 ae_loss=0\n"
     ]
    },
    {
     "name": "stderr",
     "output_type": "stream",
     "text": [
      "100%|██████████| 20009/20009 [1:49:29<00:00,  3.05it/s]\n"
     ]
    }
   ],
   "source": [
    "train(model=model, save_path=output_path, dataset=dataset, args=args, optimizer=optimizer)"
   ]
  },
  {
   "cell_type": "code",
   "execution_count": null,
   "metadata": {},
   "outputs": [],
   "source": []
  }
 ],
 "metadata": {
  "kernelspec": {
   "display_name": "ucc-tf",
   "language": "python",
   "name": "python3"
  },
  "language_info": {
   "codemirror_mode": {
    "name": "ipython",
    "version": 3
   },
   "file_extension": ".py",
   "mimetype": "text/x-python",
   "name": "python",
   "nbconvert_exporter": "python",
   "pygments_lexer": "ipython3",
   "version": "3.9.18"
  }
 },
 "nbformat": 4,
 "nbformat_minor": 2
}
