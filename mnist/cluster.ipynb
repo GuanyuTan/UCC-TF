{
 "cells": [
  {
   "cell_type": "code",
   "execution_count": 19,
   "metadata": {},
   "outputs": [],
   "source": [
    "import numpy as np\n",
    "import yaml\n",
    "from model import UCCModel\n",
    "import omegaconf\n",
    "import hydra\n",
    "\n",
    "import os\n",
    "import sys\n",
    "\n",
    "from time import time\n",
    "from sklearn import metrics\n",
    "from sklearn.cluster import KMeans, SpectralClustering\n",
    "\n",
    "def cluster(estimator=None, name=None, data=None, labels=None):\n",
    "\tt0 = time()\n",
    "\testimator.fit(data)\n",
    "\thomogeneity_score = metrics.homogeneity_score(labels, estimator.labels_)\n",
    "\tcompleteness_score = metrics.completeness_score(labels, estimator.labels_)\n",
    "\tv_measure_score = metrics.v_measure_score(labels, estimator.labels_)\n",
    "\tadjusted_rand_score = metrics.adjusted_rand_score(labels, estimator.labels_)\n",
    "\tadjusted_mutual_info_score = metrics.adjusted_mutual_info_score(labels,  estimator.labels_)\n",
    "\n",
    "\tprint('%-9s\\t%.2fs\\t%.3f\\t%.3f\\t%.3f\\t%.3f\\t%.3f'% (name,\n",
    "\t\t\t\t\t\t\t\t\t\t\t\t\t\t(time() - t0),\n",
    "\t\t\t\t\t\t\t\t\t\t\t\t\t\thomogeneity_score,\n",
    "\t\t\t\t\t\t\t\t\t\t\t\t\t\tcompleteness_score,\n",
    "\t\t\t\t\t\t\t\t\t\t\t\t\t\tv_measure_score,\n",
    "\t\t\t\t\t\t\t\t\t\t\t\t\t\tadjusted_rand_score,\n",
    "\t\t\t\t\t\t\t\t\t\t\t\t\t\tadjusted_mutual_info_score))\n",
    "\n",
    "\tclustering_scores = np.array([homogeneity_score, completeness_score, v_measure_score, adjusted_rand_score, adjusted_mutual_info_score]).reshape((1,-1))\n",
    "\treturn clustering_scores"
   ]
  },
  {
   "cell_type": "code",
   "execution_count": null,
   "metadata": {},
   "outputs": [],
   "source": []
  },
  {
   "cell_type": "code",
   "execution_count": 20,
   "metadata": {},
   "outputs": [
    {
     "name": "stdout",
     "output_type": "stream",
     "text": [
      "{'args': {'dataset': 'mnist', 'model_dir': 'saved_models/', 'model_name': 'mnist_ucc_1', 'num_instances': 32, 'ucc_start': 1, 'ucc_end': 4, 'batch_size': 20, 'num_samples_per_class': 5, 'learning_rate': 0.0001, 'num_bins': 11, 'num_features': 10, 'train_num_steps': 50000, 'val_num_steps': 200, 'save_interval': 1000, 'seed': 22}, 'model': {'num_channels': 1, 'kde_model': {'num_bins': 11, 'sigma': 0.1}, 'encoder': {'conv_input_channel': 1, 'conv_output_channel': 16, 'block1_output_channel': 32, 'block1_num_layer': 1, 'block2_output_channel': 64, 'block2_num_layer': 1, 'block3_output_channel': 128, 'block3_num_layer': 1, 'flatten_size': 6272, 'num_features': 10}, 'classification_model': {'fc1_output_size': 384, 'fc2_output_size': 192, 'dropout_rate': 0.0, 'num_classes': 4}, 'loss': {'alpha': 1}}}\n"
     ]
    }
   ],
   "source": [
    "output_path = \".\\\\outputs\\\\2024-03-20\\\\00-01-16\"\n",
    "model_name = \"model_weights.h5\"\n",
    "# with open(\"outputs\\\\2024-03-18\\\\21-06-38\\\\.hydra\\\\config.yaml\"), 'r') as file:\n",
    "#     config = yaml.load(file)\n",
    "cfg = omegaconf.OmegaConf.load(os.path.join(output_path, \".hydra\\\\config.yaml\"))\n",
    "print(cfg)\n",
    "# cfg = hydra.utils.instantiate()\n",
    "model = UCCModel(cfg)\n",
    "model.build(input_shape=())\n",
    "model.load_weights(filepath=os.path.join(output_path, model_name))"
   ]
  },
  {
   "cell_type": "code",
   "execution_count": 21,
   "metadata": {},
   "outputs": [],
   "source": [
    "splitted_dataset = np.load(\"../data/mnist/splitted_mnist_dataset.npz\")\n",
    "x_test = splitted_dataset[\"x_test\"]/255\n",
    "y_test = splitted_dataset[\"y_test\"]"
   ]
  },
  {
   "cell_type": "code",
   "execution_count": 22,
   "metadata": {},
   "outputs": [],
   "source": [
    "x_test = (x_test-np.mean(x_test, axis=(0,1,2)))/np.std(x_test, axis=(0,1,2))\n",
    "x_test = np.expand_dims(x_test, axis=-1)"
   ]
  },
  {
   "cell_type": "code",
   "execution_count": 23,
   "metadata": {},
   "outputs": [
    {
     "data": {
      "text/plain": [
       "(10000, 28, 28, 1)"
      ]
     },
     "execution_count": 23,
     "metadata": {},
     "output_type": "execute_result"
    }
   ],
   "source": [
    "x_test.shape"
   ]
  },
  {
   "cell_type": "code",
   "execution_count": 24,
   "metadata": {},
   "outputs": [],
   "source": [
    "features = model.extract_features(x_test)"
   ]
  },
  {
   "cell_type": "code",
   "execution_count": 25,
   "metadata": {},
   "outputs": [
    {
     "name": "stdout",
     "output_type": "stream",
     "text": [
      "None     \t0.06s\t0.430\t0.472\t0.450\t0.254\t0.449\n",
      "[[0.43015482 0.47181526 0.45002293 0.25413705 0.44900488]]\n",
      "None     \t16.69s\t0.447\t0.466\t0.456\t0.274\t0.455\n",
      "[[0.44734614 0.46555313 0.45626808 0.27370583 0.45528726]]\n"
     ]
    }
   ],
   "source": [
    "from sklearn.cluster import KMeans, SpectralClustering\n",
    "from cluster import cluster\n",
    "k_estimator = KMeans(n_clusters=10)\n",
    "s_estimator = SpectralClustering(n_clusters=10)\n",
    "# pred = k_estimator.fit_predict(features)\n",
    "print(cluster(\n",
    "    estimator=k_estimator,\n",
    "    data=features,\n",
    "    labels=y_test\n",
    "    ))\n",
    "\n",
    "print(cluster(\n",
    "    estimator=s_estimator,\n",
    "    data=features,\n",
    "    labels=y_test\n",
    "    ))\n",
    "\n"
   ]
  },
  {
   "cell_type": "code",
   "execution_count": 18,
   "metadata": {},
   "outputs": [
    {
     "name": "stdout",
     "output_type": "stream",
     "text": [
      "[0 1 2 3 4 5 6 7 8 9]\n"
     ]
    }
   ],
   "source": [
    "print(np.unique(y_test))"
   ]
  },
  {
   "cell_type": "code",
   "execution_count": null,
   "metadata": {},
   "outputs": [],
   "source": []
  }
 ],
 "metadata": {
  "kernelspec": {
   "display_name": "ucc-tf",
   "language": "python",
   "name": "python3"
  },
  "language_info": {
   "codemirror_mode": {
    "name": "ipython",
    "version": 3
   },
   "file_extension": ".py",
   "mimetype": "text/x-python",
   "name": "python",
   "nbconvert_exporter": "python",
   "pygments_lexer": "ipython3",
   "version": "3.9.18"
  }
 },
 "nbformat": 4,
 "nbformat_minor": 2
}
