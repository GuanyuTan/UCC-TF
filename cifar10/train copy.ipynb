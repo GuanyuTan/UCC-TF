{
 "cells": [
  {
   "cell_type": "code",
   "execution_count": 1,
   "metadata": {},
   "outputs": [
    {
     "name": "stdout",
     "output_type": "stream",
     "text": [
      "c:\\Users\\progu\\Downloads\\Masters\\UCC-TF\\cifar10\n"
     ]
    }
   ],
   "source": [
    "import hydra\n",
    "from tqdm import tqdm\n",
    "from omegaconf import DictConfig, OmegaConf\n",
    "import tensorflow as tf\n",
    "from dataset import Dataset\n",
    "from model import UCCModel\n",
    "from logging import getLogger\n",
    "import os\n",
    "from train import grad, eval\n",
    "import re"
   ]
  },
  {
   "cell_type": "code",
   "execution_count": 2,
   "metadata": {},
   "outputs": [
    {
     "name": "stdout",
     "output_type": "stream",
     "text": [
      "x_train shape: (40000, 32, 32, 3)\n",
      "40000 train samples\n",
      "10000 val samples\n",
      "object0:0, num_train:4000, num_val:1000\n",
      "object1:1, num_train:4000, num_val:1000\n",
      "object2:2, num_train:4000, num_val:1000\n",
      "object3:3, num_train:4000, num_val:1000\n",
      "object4:4, num_train:4000, num_val:1000\n",
      "object5:5, num_train:4000, num_val:1000\n",
      "object6:6, num_train:4000, num_val:1000\n",
      "object7:7, num_train:4000, num_val:1000\n",
      "object8:8, num_train:4000, num_val:1000\n",
      "object9:9, num_train:4000, num_val:1000\n"
     ]
    }
   ],
   "source": [
    "output_path = \"outputs/2024-04-14/05-41-01/\"\n",
    "model_name = \"model_weights.h5\"\n",
    "cfg = OmegaConf.load(os.path.join(output_path, \".hydra\\\\config.yaml\"))\n",
    "args = cfg.args\n",
    "dataset = Dataset(\n",
    "        num_instances=args.num_instances,\n",
    "        num_samples_per_class=args.num_samples_per_class,\n",
    "        object_arr= [x for x in range(10)],\n",
    "        ucc_start=args.ucc_start,\n",
    "        ucc_end=args.ucc_end\n",
    "        )\n",
    "optimizer = tf.keras.optimizers.Adam(learning_rate=args.learning_rate)\n",
    "model = UCCModel(cfg)\n",
    "model.build(input_shape=())\n",
    "model.load_weights(filepath=os.path.join(output_path, model_name))"
   ]
  },
  {
   "cell_type": "code",
   "execution_count": null,
   "metadata": {},
   "outputs": [
    {
     "ename": "",
     "evalue": "",
     "output_type": "error",
     "traceback": [
      "\u001b[1;31mFailed to start the Kernel. \n",
      "\u001b[1;31mUnable to start Kernel 'ucc-tf (Python 3.9.18)' due to a connection timeout. \n",
      "\u001b[1;31mView Jupyter <a href='command:jupyter.viewOutput'>log</a> for further details."
     ]
    }
   ],
   "source": [
    "def train(model, optimizer, dataset, args, save_path):\n",
    "    train_summary_writer = tf.summary.create_file_writer(os.path.join(save_path, \"train_logs\"))\n",
    "    val_summary_writer = tf.summary.create_file_writer(os.path.join(save_path, \"val_logs\"))\n",
    "    with open(os.path.join(output_path, \"train.log\")) as file:\n",
    "        last_line = file.readlines()[-1]\n",
    "    a = re.search(r\"Step.*,\", last_line)\n",
    "    current_step = int(last_line[a.start()+5: a.end()-1])\n",
    "    logger = getLogger()\n",
    "    num_steps = args.train_num_steps\n",
    "    physical_devices = tf.config.list_physical_devices('GPU')\n",
    "    best_eval_acc = 0\n",
    "    if physical_devices:\n",
    "        with tf.device('/device:GPU:0'):\n",
    "            for i in tqdm(range(current_step, 180000)):\n",
    "\n",
    "                _, [labels, inputs] = dataset.next_batch_train()\n",
    "                loss_dict, grads = grad(model, inputs, labels)\n",
    "                with train_summary_writer.as_default():\n",
    "                    for key in loss_dict.keys():      \n",
    "                        tf.summary.scalar(key, loss_dict[key], step=i)\n",
    "                    train_summary_writer.flush()\n",
    "                    \n",
    "                optimizer.apply_gradients(zip(grads, model.trainable_variables))\n",
    "                if i%10 == 0:\n",
    "                    eval_loss_dict = eval(model, dataset)\n",
    "                    with val_summary_writer.as_default():\n",
    "                        for key in eval_loss_dict.keys():      \n",
    "                            tf.summary.scalar(key, eval_loss_dict[key], step=i)\n",
    "                        val_summary_writer.flush()\n",
    "                    text = (f\"Step {i+1}, training: ucc_acc={loss_dict['ucc_acc']} weighted_loss={loss_dict['weighted_loss']} ucc_loss={loss_dict['ucc_loss']} ae_loss={loss_dict['ae_loss']} eval: ucc_acc={eval_loss_dict['ucc_acc']} weighted_loss={eval_loss_dict['weighted_loss']} ucc_loss={eval_loss_dict['ucc_loss']} ae_loss={eval_loss_dict['ae_loss']}\")\n",
    "                    print(text)\n",
    "                    with open(os.path.join(output_path, \"train.log\"), \"a\") as file:\n",
    "                        file.write(text+\"\\n\")\n",
    "                    acc = eval_loss_dict['ucc_acc']\n",
    "                    # if acc>= best_eval_acc:\n",
    "                    #     best_eval_acc = acc\n",
    "                    model.save_weights(os.path.join(save_path,\"model_weights.h5\"), save_format=\"h5\")"
   ]
  },
  {
   "cell_type": "code",
   "execution_count": null,
   "metadata": {},
   "outputs": [
    {
     "ename": "",
     "evalue": "",
     "output_type": "error",
     "traceback": [
      "\u001b[1;31mFailed to start the Kernel. \n",
      "\u001b[1;31mUnable to start Kernel 'ucc-tf (Python 3.9.18)' due to a connection timeout. \n",
      "\u001b[1;31mView Jupyter <a href='command:jupyter.viewOutput'>log</a> for further details."
     ]
    }
   ],
   "source": [
    "train(model=model, save_path=output_path, dataset=dataset, args=args, optimizer=optimizer)"
   ]
  },
  {
   "cell_type": "code",
   "execution_count": null,
   "metadata": {},
   "outputs": [
    {
     "ename": "",
     "evalue": "",
     "output_type": "error",
     "traceback": [
      "\u001b[1;31mFailed to start the Kernel. \n",
      "\u001b[1;31mUnable to start Kernel 'ucc-tf (Python 3.9.18)' due to a connection timeout. \n",
      "\u001b[1;31mView Jupyter <a href='command:jupyter.viewOutput'>log</a> for further details."
     ]
    }
   ],
   "source": []
  }
 ],
 "metadata": {
  "kernelspec": {
   "display_name": "ucc-tf",
   "language": "python",
   "name": "python3"
  },
  "language_info": {
   "codemirror_mode": {
    "name": "ipython",
    "version": 3
   },
   "file_extension": ".py",
   "mimetype": "text/x-python",
   "name": "python",
   "nbconvert_exporter": "python",
   "pygments_lexer": "ipython3",
   "version": "3.9.18"
  }
 },
 "nbformat": 4,
 "nbformat_minor": 2
}
